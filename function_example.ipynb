{
 "cells": [
  {
   "cell_type": "code",
   "execution_count": null,
   "metadata": {},
   "outputs": [],
   "source": [
    "#!/usr/bin/env python3\n",
    "\n",
    "\n",
    "def ask_for_input():\n",
    "    adj_1 = input('Adjective: ')\n",
    "    adj_2 = input('Adjective: ')\n",
    "    noun_1 = input('Noun: ')\n",
    "    noun_2 = input('Noun: ')\n",
    "    adj_3 = input('Adjective: ')\n",
    "    pl_noun_1 = input('Plural Noun: ')\n",
    "    game = input('Game: ')\n",
    "    pl_noun_2 = input('Plural Noun: ')\n",
    "    verb_1 = input('Verb ending in -ing: ')\n",
    "    verb_2 = input('Verb ending in -ing: ')\n",
    "    print()\n",
    "\n",
    "    return (adj_1, adj_2, noun_1, noun_2, adj_3, pl_noun_1, game, pl_noun_2, verb_1, verb_2)\n",
    "\n",
    "\n",
    "# Assign variables\n",
    "adj_1 = ''\n",
    "adj_2 = ''\n",
    "noun_1 = ''\n",
    "noun_2 = ''\n",
    "adj_3 = ''\n",
    "pl_Noun_1 = ''\n",
    "game = ''\n",
    "pl_Noun_2 = ''\n",
    "verb_1 = ''\n",
    "verb_2 = ''\n",
    "\n",
    "# Main part of program\n",
    "print()\n",
    "print('Let\\'s play Mad Libs')\n",
    "print('Please fill in the following information.')\n",
    "print()\n",
    "\n",
    "adj_1, adj_2, noun_1, noun_2, adj_3, pl_noun_1, game, pl_noun_2, verb_1, verb_2 = ask_for_input()\n",
    "\n",
    "print('A vacation is when you take a trip to some', adj_1, 'place with your', adj_2, 'family.')\n",
    "print('Usually you go to some place that is near a/an', noun_1, 'or up on a/an', noun_2, '.')\n",
    "print('A good vacation place is one where you can ride', pl_noun_1, 'or play', game)\n",
    "print('or go hunting for', pl_noun_2, '. I like to spend my time', verb_1, 'or', verb_2, '.')\n",
    "print()"
   ]
  },
  {
   "cell_type": "code",
   "execution_count": null,
   "metadata": {},
   "outputs": [],
   "source": []
  }
 ],
 "metadata": {
  "kernelspec": {
   "display_name": "Python 3",
   "language": "python",
   "name": "python3"
  },
  "language_info": {
   "codemirror_mode": {
    "name": "ipython",
    "version": 3
   },
   "file_extension": ".py",
   "mimetype": "text/x-python",
   "name": "python",
   "nbconvert_exporter": "python",
   "pygments_lexer": "ipython3",
   "version": "3.8.1"
  }
 },
 "nbformat": 4,
 "nbformat_minor": 2
}
