{
 "cells": [
  {
   "cell_type": "markdown",
   "metadata": {},
   "source": [
    "**Lecture is based on:**\n",
    "\n",
    "-[learning-python3.ipynb] https://gist.github.com/kenjyco/69eeb503125035f21a9d    \n",
    "-[Introduction to Python] http://introtopython.org/lists_tuples.html#Tuples\n",
    "***"
   ]
  },
  {
   "cell_type": "markdown",
   "metadata": {},
   "source": [
    "## Containers (i.e. collections)\n",
    "\n",
    "Containers are objects that group other objects (i.e. they collect things).\n",
    "\n",
    "- **str** - string: \n",
    "    - immutable\n",
    "    - indexed by integers\n",
    "    - items are stored in the order they were added\n",
    "    - can use +, *, +=, and *= operators\n",
    "\n",
    "\n",
    "- **list** - list:\n",
    "    - mutable\n",
    "    - indexed by integers\n",
    "    - items are stored in the order they were added\n",
    "    - can use +, *, +=, and *= operators\n",
    "    > ['Star Wars', 1, \"Empire\", 2, 'Jedi', '3', True, 1, 1]\n",
    "\n",
    "- **tuple** - tuple:\n",
    "    - immutable\n",
    "    - indexed by integers\n",
    "    - items are stored in the order they were added\n",
    "    - can use +, *, +=, and *= operators\n",
    "    - faster than mutable lists\n",
    "    > ('Star Wars', 1, \"Empire\", 2, 'Jedi', '3', True, 1, 1)\n",
    "\n",
    "- **dict** - dictionary:\n",
    "    - mutable\n",
    "    - key-value pairs are indexed by immutable keys\n",
    "    - items are NOT stored in the order they were added\n",
    "    - use dictionaries as an alternative to switch functions\n",
    "    > {'year': 1992, 'western': 'Unforgiven', 'scifi': ['Aliens3', 'Seedpeople']}\n",
    "\n",
    "- **set** - set:\n",
    "    - mutable\n",
    "    - not indexed at all\n",
    "    - items are NOT stored in the order they were added\n",
    "    - can only contain immutable objects\n",
    "    - does NOT contain duplicate objects\n",
    "    > {'Star Wars', 1, \"Empire\", 2, 'Jedi', '3', True}\n",
    "\n",
    "**Note**:\n",
    "- When defining lists, tuples, or sets, use commas (,) to separate the individual items\n",
    "- When defining dicts, use a colon (:) to separate keys from values and commas (,) to separate the key-value pairs.\n",
    "***"
   ]
  },
  {
   "cell_type": "markdown",
   "metadata": {},
   "source": [
    "### Strings\n",
    "\n",
    "- immutable\n",
    "- indexed by integers\n",
    "- items are stored in the order they were added\n",
    "- can use +, *, +=, and *= operators"
   ]
  },
  {
   "cell_type": "code",
   "execution_count": null,
   "metadata": {},
   "outputs": [],
   "source": [
    "my_string = 'Mom'\n",
    "\n",
    "print(my_string[0])\n",
    "print(my_string[1])\n",
    "print(my_string[-1])\n",
    "len(my_string)"
   ]
  },
  {
   "cell_type": "code",
   "execution_count": null,
   "metadata": {},
   "outputs": [],
   "source": [
    "## an example for immutable and its error\n",
    "my_string[1] = 'u'"
   ]
  },
  {
   "cell_type": "markdown",
   "metadata": {},
   "source": [
    "***\n",
    "### Lists\n",
    "- mutable\n",
    "- indexed by integers\n",
    "- items are stored in the order they were added\n",
    "- can use +, *, +=, and *= operators"
   ]
  },
  {
   "cell_type": "code",
   "execution_count": null,
   "metadata": {},
   "outputs": [],
   "source": [
    "## Create a list\n",
    "movies = ['Star Wars', 'X-men', 'Forest Gump']\n",
    "\n",
    "movies = ['Star Wars',\n",
    "          'X-men',\n",
    "          'Forest Gump']\n",
    "\n",
    "print(movies)\n",
    "print()\n",
    "print('First item:       {0}'.format(movies[1]))\n",
    "print('Last item:        {0}'.format(movies[-1]))\n",
    "print('Number of movies: {0}'.format(len(movies)))"
   ]
  },
  {
   "cell_type": "code",
   "execution_count": null,
   "metadata": {},
   "outputs": [],
   "source": [
    "## mutable\n",
    "movies.append('Blade Runner')   # add to the end\n",
    "print(movies)\n",
    "\n",
    "movies.pop()                    # remove last item and print\n",
    "print(movies)\n",
    "\n",
    "movies.remove('X-men')          # remove specific item\n",
    "print(movies)\n",
    "\n",
    "movies.insert(1, 'Gattaca')     # add to position 1\n",
    "print(movies)\n",
    "\n",
    "movies.extend(['Solo', '2001']) # add multiple items to end\n",
    "print(movies)\n",
    "\n",
    "movies[3] = 'Blade Runner'      # replace position 3 (i.e. the 4th movie)\n",
    "print(movies)"
   ]
  },
  {
   "cell_type": "code",
   "execution_count": null,
   "metadata": {},
   "outputs": [],
   "source": [
    "## sorting\n",
    "x = sorted(['dogs', 'cats', 'dragons', 'Chicago',\n",
    "            'Bonn', 'ants', 'mice'])\n",
    "print(x)\n",
    "\n",
    "y = sorted([0, 10, 1, 3.6, 7, 5, 2, -3])\n",
    "print(y)"
   ]
  },
  {
   "cell_type": "code",
   "execution_count": null,
   "metadata": {},
   "outputs": [],
   "source": [
    "## max, min, sum and abs\n",
    "print( min([0, 10, 1, 3.6, 7, 5, 2, -3]) )\n",
    "print( max([0, 10, 1, 3.6, 7, 5, 2, -3]) )\n",
    "print( sum([0, 10, 1, 3.6, 7, 5, 2, -3]) )"
   ]
  },
  {
   "cell_type": "markdown",
   "metadata": {},
   "source": [
    "***\n",
    "### Dictionaries\n",
    "Dictionaries allow you to connect pieces of knowledge together using a **key: value** pairing"
   ]
  },
  {
   "cell_type": "code",
   "execution_count": null,
   "metadata": {},
   "outputs": [],
   "source": [
    "movies = {} # creates an empty dictionary that can later be added to\n",
    "\n",
    "# create a filled list\n",
    "movies = {'scifi': 'Star Wars',\n",
    "          'romance': 'Titanic',\n",
    "          'western': 'Unforgiven'}\n",
    "\n",
    "print(movies)\n",
    "print()\n",
    "print(movies['western'])\n",
    "print()\n",
    "print(movies['western'], movies['romance'])"
   ]
  },
  {
   "cell_type": "code",
   "execution_count": null,
   "metadata": {},
   "outputs": [],
   "source": [
    "## Add a new key:value pair\n",
    "movies['horror'] = '28 Days Later'\n",
    "print(movies)\n",
    "print()\n",
    "\n",
    "movies.update( {'comedies' : 'The Big Lebowski'} )\n",
    "print(movies)\n",
    "print()"
   ]
  },
  {
   "cell_type": "code",
   "execution_count": null,
   "metadata": {},
   "outputs": [],
   "source": [
    "## Modify a value\n",
    "movies['horror'] = 'The Evil Dead'\n",
    "print(movies)\n",
    "print()\n",
    "\n",
    "movies.update(romance = 'love actually')\n",
    "print(movies)\n",
    "print()"
   ]
  },
  {
   "cell_type": "code",
   "execution_count": null,
   "metadata": {},
   "outputs": [],
   "source": [
    "## Delete a key:value pair\n",
    "del movies['romance']  ## or\n",
    "\n",
    "#movies.pop('romance')\n",
    "\n",
    "print(movies)"
   ]
  },
  {
   "cell_type": "code",
   "execution_count": null,
   "metadata": {},
   "outputs": [],
   "source": [
    "## Modify a key\n",
    "\n",
    "## Copy and the delete\n",
    "movies['sci_fi'] = movies['scifi']\n",
    "del movies['scifi']\n",
    "print(movies)"
   ]
  },
  {
   "cell_type": "code",
   "execution_count": null,
   "metadata": {},
   "outputs": [],
   "source": [
    "## Add two dictionaries together\n",
    "movies_his = {'scifi': 'Star Wars', 'western': 'Unforgiven'}\n",
    "movies_her = {'horror': 'The Evil Dead', 'comedies': 'The Big Lebowski'}\n",
    "\n",
    "movies_his.update(movies_her)\n",
    "print(movies_his)"
   ]
  },
  {
   "cell_type": "code",
   "execution_count": null,
   "metadata": {},
   "outputs": [],
   "source": [
    "## Values as lists\n",
    "movies = {'scifi': ['Star Wars'], 'romance': ['Titanic'],\n",
    "          'western': ['Unforgiven']}\n",
    "\n",
    "# Add a value to a key\n",
    "movies['scifi'].append('Blade Runner')\n",
    "print(movies)\n",
    "\n",
    "# Remove last value of a key\n",
    "movies['scifi'].pop(-1)\n",
    "print(movies)"
   ]
  },
  {
   "cell_type": "code",
   "execution_count": null,
   "metadata": {},
   "outputs": [],
   "source": [
    "## type functions\n",
    "type(movies)"
   ]
  },
  {
   "cell_type": "markdown",
   "metadata": {},
   "source": [
    "***\n",
    "### Dictionaries replace switch functions\n",
    "\n",
    "Python does not have a switch function like the following bash example:"
   ]
  },
  {
   "cell_type": "code",
   "execution_count": null,
   "metadata": {},
   "outputs": [],
   "source": [
    "%%bash\n",
    "\n",
    "printf 'Which do you want?\\n'\n",
    "ARGUMENT=1\n",
    "\n",
    "case $ARGUMENT in\n",
    "     0)\n",
    "          echo \"zero\"\n",
    "          ;;\n",
    "     1)\n",
    "          echo \"one\"\n",
    "          ;;\n",
    "     2)\n",
    "          echo \"two\"\n",
    "          ;; \n",
    "     *)\n",
    "          echo \"nothing\"\n",
    "          ;;\n",
    "esac"
   ]
  },
  {
   "cell_type": "code",
   "execution_count": null,
   "metadata": {},
   "outputs": [],
   "source": [
    "def numbers_to_strings(argument):\n",
    "    #Define the dictionary:\n",
    "    switcher = {\n",
    "        0: \"zero\",\n",
    "        1: \"one\",\n",
    "        2: \"two\",\n",
    "    }\n",
    "    return switcher.get(argument, \"nothing\")\n",
    "\n",
    "print('Which do you want?')\n",
    "\n",
    "numbers_to_strings(1)"
   ]
  },
  {
   "cell_type": "markdown",
   "metadata": {},
   "source": [
    "***\n",
    "Link to [Program Files Notebook](program_file.ipynb)"
   ]
  },
  {
   "cell_type": "code",
   "execution_count": null,
   "metadata": {},
   "outputs": [],
   "source": []
  }
 ],
 "metadata": {
  "kernelspec": {
   "display_name": "Python 3",
   "language": "python",
   "name": "python3"
  },
  "language_info": {
   "codemirror_mode": {
    "name": "ipython",
    "version": 3
   },
   "file_extension": ".py",
   "mimetype": "text/x-python",
   "name": "python",
   "nbconvert_exporter": "python",
   "pygments_lexer": "ipython3",
   "version": "3.5.3"
  }
 },
 "nbformat": 4,
 "nbformat_minor": 2
}
