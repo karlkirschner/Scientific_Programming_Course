{
 "cells": [
  {
   "cell_type": "markdown",
   "metadata": {},
   "source": [
    "<div class=\"alert block alert-info alert\">\n",
    "\n",
    "# <center> Introductory Python3 Examples\n",
    "## <center>Karl N. Kirschner<br>Bonn-Rhein-Sieg University of Applied Sciences<br>Sankt Augustin, Germany\n",
    "\n",
    "## <center> Demo of Jupyter Notebook / Colaboratory\n",
    "\n",
    "<hr style=\"border:2px solid gray\"> </hr>"
   ]
  },
  {
   "cell_type": "markdown",
   "metadata": {},
   "source": [
    "## What might I consider good coding to be?\n",
    "\n",
    "### Example 1 \n",
    "- markdown cells (context)\n",
    "- code cells\n",
    "\n",
    "<hr style=\"border:2px dashed dodgerblue\"> </hr>"
   ]
  },
  {
   "cell_type": "markdown",
   "metadata": {},
   "source": [
    "#### Simple Program\n",
    "\n",
    "Author: **Karl N. Kirschner** (kkirsc2m; **123456**)\n",
    "\n",
    "Date: March 27, 2022\n",
    "\n",
    "An example of Kirschner's expectation for good coding.\n",
    "\n",
    "Listing some cool scientific women.\n",
    "    <\\div>"
   ]
  },
  {
   "cell_type": "code",
   "execution_count": null,
   "metadata": {},
   "outputs": [],
   "source": [
    "index = 1\n",
    "\n",
    "famous_scientists = []\n",
    "famous_scientists = ['Ada Love', 'Marie Curie', 'Rosalind Franklin', 'Maria Goeppert Mayer']\n",
    "\n",
    "for person in famous_scientists:\n",
    "    print(f'Scientist number {index} is {person}.')\n",
    "    index += 1"
   ]
  },
  {
   "cell_type": "markdown",
   "metadata": {},
   "source": [
    "<hr style=\"border:2px dashed dodgerblue\"> </hr>\n",
    "\n",
    "## Talking Points:\n",
    "\n",
    "1. Commenting code using Jupyter's markdown capabilities\n",
    "    - context\n",
    "    - convery thoughts and ideas\n",
    "\n",
    "\n",
    "2. Creating objects (i.e. `index` and `famous_scientists`)\n",
    "    - human readable (versus `x` or `s`)\n",
    "    - proper spacing between list items\n",
    "\n",
    "\n",
    "3. Create a 'for loop'\n",
    "    - reduces chances of error\n",
    "\n",
    "\n",
    "4. Python incrementing a number by plus 1 (note: could also `-=`)\n",
    "\n",
    "\n",
    "5. Print statement with f-string formatting\n",
    "    - concise and clear\n",
    "\n",
    "\n",
    "6. Overall concisely and cleanly written code"
   ]
  },
  {
   "cell_type": "markdown",
   "metadata": {},
   "source": [
    "<font color='dodgerblue'>**Side Note**</font>\n",
    "\n",
    "From a Jupyter / Colaboratory notebook, you can save the code to a python file, and then run it from a terminal\n",
    "\n",
    "1. Save notebook as a python .py file\n",
    "2. Excecute in a terminal via 'python3 intro_example.py'\n",
    "\n",
    "<hr style=\"border:2px solid gray\"> </hr>"
   ]
  },
  {
   "cell_type": "markdown",
   "metadata": {},
   "source": [
    "### Example 2\n",
    "There are always multiple solutions for achieving the same goal.\n",
    "\n",
    "Here is an example of a poor piece of coding\n",
    "\n",
    "<hr style=\"border:2px dashed dodgerblue\"> </hr>"
   ]
  },
  {
   "cell_type": "code",
   "execution_count": null,
   "metadata": {},
   "outputs": [],
   "source": [
    "#Simple Program, Karl N. Kirschner (kkirsc2m; 123456) March 27, 2022\n",
    "#An example of what a poorly writting code might be to illustrate how code can be improved through iterative revisions. Taking the cube of a number.\n",
    "print('The cube of', 0, 'is', 0*0*0)\n",
    "print('The cube of {0} is {1}.'.format(1, 1*1*1))\n",
    "print('The cube of {0} is {1}.'.format(2, 2*2**2))\n",
    "print('The cube of', 3, 'is', 3*3*3, '.')\n",
    "print('The cube of', 3, 'is {0}.'.format(4*4*4))\n",
    "print('The cube of {0} is {1}.'.format(4, 5*5*5))\n",
    "print('The cube of {0} is {1}.'.format(3, 6*6*6))\n",
    "\n",
    "print(\"The cube of {0} is {1}.\".format(6, 7*7*7))\n",
    "print(f\"The cube of {7} is {8*8*8}.\")\n",
    "print(f'The cube of 9 is {9*9*9}.')"
   ]
  },
  {
   "cell_type": "markdown",
   "metadata": {},
   "source": [
    "<hr style=\"border:2px dashed dodgerblue\"> </hr>\n",
    "\n",
    "**Problems** with the above code:\n",
    "1. Lots of information group at once in the first two lines\n",
    "\n",
    "\n",
    "2. Comment runs off the screen - must scroll to read it all\n",
    "\n",
    "\n",
    "3. Inconsistent formatting (i.e. printing and blank line usage)\n",
    "\n",
    "\n",
    "4. Not concisely written (10 lines to print the cube of each number)\n",
    "    - notice that the errors are hard to see (missing a period, usage of 3 instead of 4, raising to a power of 2)"
   ]
  },
  {
   "cell_type": "markdown",
   "metadata": {},
   "source": [
    "We can do **better**, and reduce the chances of introducing a user error:\n",
    "- use markdown cells\n",
    "- use code cells\n",
    "\n",
    "<hr style=\"border:2px dashed dodgerblue\"> </hr>"
   ]
  },
  {
   "cell_type": "markdown",
   "metadata": {},
   "source": [
    "Simple Program Improved\n",
    "\n",
    "Author: Karl N. Kirschner (kkirsc2m; 123456)\n",
    "\n",
    "Date: March 27, 2022\n",
    "\n",
    "---\n",
    "\n",
    "An example of how code can be improved through iterative revisions.\n",
    "\n",
    "Task: Take the cube of a tuple of numbers."
   ]
  },
  {
   "cell_type": "code",
   "execution_count": null,
   "metadata": {},
   "outputs": [],
   "source": [
    "number_list = (0, 1, 2, 3, 4, 5, 6, 7, 8, 9)\n",
    "\n",
    "for number in number_list:\n",
    "    number_cube = number**3\n",
    "    print('The cube of {0} is {1}.'.format(number, number_cube))"
   ]
  },
  {
   "cell_type": "markdown",
   "metadata": {},
   "source": [
    "<hr style=\"border:2px dashed dodgerblue\"> </hr>\n",
    "\n",
    "Now, let's further improve the code cell part above - use a built-in function (range)\n",
    "\n",
    "The following is arguably beter than above example because, the codes is\n",
    "\n",
    "1. still readable (i.e. **not too concise or too \"clever\"**), and\n",
    "\n",
    "2. the number of variables/objects is kept to a minimum, i.e.\n",
    "    - two: `number` and `number_list`, versus\n",
    "    - three: `number`, `number_list` and `number_cube`)\n",
    "\n",
    "3. use of `f-string` print statement"
   ]
  },
  {
   "cell_type": "code",
   "execution_count": null,
   "metadata": {},
   "outputs": [],
   "source": [
    "number_list = range(10)\n",
    "\n",
    "for number in number_list:\n",
    "    print(f'The cube of {number} is {number**3}.')"
   ]
  },
  {
   "cell_type": "markdown",
   "metadata": {},
   "source": [
    "But there is even yet another solution (with only one variable/object)."
   ]
  },
  {
   "cell_type": "code",
   "execution_count": null,
   "metadata": {},
   "outputs": [],
   "source": [
    "number = 0\n",
    "\n",
    "while number < 10:\n",
    "    print(f'The cube of {number} is {number**3}.')\n",
    "    number += 1"
   ]
  },
  {
   "cell_type": "markdown",
   "metadata": {},
   "source": [
    "(Whether the use of a `while` or `for` loop depends on the problem at hand.)\n",
    "\n",
    "<font color='dodgerblue'>Also note</font>: What the above examples demonstrate is that better coding can be acheived through **iterations of its writting** (i.e. <font color='dodgerblue'>code revision</font>)."
   ]
  }
 ],
 "metadata": {
  "kernelspec": {
   "display_name": "Python 3 (ipykernel)",
   "language": "python",
   "name": "python3"
  },
  "language_info": {
   "codemirror_mode": {
    "name": "ipython",
    "version": 3
   },
   "file_extension": ".py",
   "mimetype": "text/x-python",
   "name": "python",
   "nbconvert_exporter": "python",
   "pygments_lexer": "ipython3",
   "version": "3.8.10"
  }
 },
 "nbformat": 4,
 "nbformat_minor": 2
}
