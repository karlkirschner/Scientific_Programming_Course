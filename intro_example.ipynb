{
 "cells": [
  {
   "cell_type": "markdown",
   "metadata": {},
   "source": [
    "<div class=\"alert block alert-info alert\">\n",
    "\n",
    "# <center> Scientific Programming in Python\n",
    "## <center>Karl N. Kirschner<br>Bonn-Rhein-Sieg University of Applied Sciences<br>Sankt Augustin, Germany\n",
    "\n",
    "## <center> Introductory Python3 Examples\n",
    "\n",
    "##  <center> (and Demo of Jupyter Notebook / Colaboratory)\n",
    "\n",
    "<hr style=\"border:2px solid gray\"> </hr>"
   ]
  },
  {
   "cell_type": "markdown",
   "metadata": {},
   "source": [
    "## What might I consider a good Jupyter-notebook and coding be for a homework solution?\n",
    "\n",
    "### Example 1 - A Solution that Contains All Key Ingredients\n",
    "- markdown cells (name, context and sources)\n",
    "- code cells (clear, concise and well formatted)\n",
    "\n",
    "<hr style=\"border:2px dashed dodgerblue\"> </hr>"
   ]
  },
  {
   "cell_type": "markdown",
   "metadata": {},
   "source": [
    "#### Title: A Simple Example with a Markdown and Code Cell\n",
    "\n",
    "Author: <b>SciPro_012</b>\n",
    "\n",
    "Date: October 2, 2023\n",
    "\n",
    "Goal: Provide an example of Kirschner's expectations for a good Jupyter-notebook and coding.\n",
    "\n",
    "Task 1: Name some famous scientific women [1-4] using a for loop.\n",
    "\n",
    "<b>References</b>\n",
    "1. Miller, C.C. \"A gifted mathematician who is now recognized as the first computer programmer\". The New York Times, 8 March 2018. https://www.nytimes.com/interactive/2018/obituaries/overlooked-ada-lovelace.html. Online, accessed September 9, 2022.\n",
    "2. Rockwell, S. \"The life and legacy of Marie Curie.\" The Yale Journal of Biology and Medicine 76.4-6 (2003): 167.\n",
    "3. Uberoi, C. \"Rosalind Franklin: The woman scientist of DNA.\" Resonance 9.3 (2004): 3-5.\n",
    "4. Maria Goeppert Mayer - Facts. NobelPrize.org. Nobel Prize Outreach AB 2022. https://www.nobelprize.org/prizes/physics/1963/mayer/facts. Online, accessed September 9, 2022."
   ]
  },
  {
   "cell_type": "code",
   "execution_count": null,
   "metadata": {},
   "outputs": [],
   "source": [
    "index = 1\n",
    "\n",
    "famous_scientists = ['Ada Love', 'Marie Curie', 'Rosalind Franklin', 'Maria Goeppert Mayer']\n",
    "\n",
    "for person in famous_scientists:\n",
    "    print(f'Scientist number {index} is {person}.')\n",
    "    index += 1"
   ]
  },
  {
   "cell_type": "markdown",
   "metadata": {},
   "source": [
    "<hr style=\"border:2px dashed dodgerblue\"> </hr>\n",
    "\n",
    "<font color='dodgerblue'><b>Talking Points:</b></font>\n",
    "\n",
    "1. Commenting code using Jupyter's markdown capabilities\n",
    "    - porvide context\n",
    "    - convey thoughts and ideas\n",
    "    - provide sources of information\n",
    "\n",
    "\n",
    "2. Creating objects (i.e., `index` and `famous_scientists`)\n",
    "    - human-readable (versus nondescriptive `x` or `s`)\n",
    "    - proper spacing between list items\n",
    "\n",
    "\n",
    "3. Creation of a \"for loop\" (versus 4 print statements)\n",
    "    - reduces chances of error\n",
    "\n",
    "\n",
    "4. Python incrementing a number by plus 1 (note: could also `-=`)\n",
    "\n",
    "\n",
    "5. Print statement with f-string formatting\n",
    "    - concise and clear\n",
    "\n",
    "\n",
    "6. Overall, concisely and cleanly written code"
   ]
  },
  {
   "cell_type": "markdown",
   "metadata": {},
   "source": [
    "<hr style=\"border:4px solid grey\"> </hr>\n",
    "\n",
    "The purpose of the rest of this notebook is to provide you additional insight into how one might improve their own work. A poor example will be given, followed by how it can be improved.\n",
    "\n",
    "\n",
    "### Example 2 - A Poor Solution\n",
    "There are always multiple solutions for achieving the same goal. Here is a poor solution to the homework <font color='dodgerblue'>task of computing the cube of the numbers 0-9</font>: \n",
    "\n",
    "<hr style=\"border:2px dashed dodgerblue\"> </hr>"
   ]
  },
  {
   "cell_type": "code",
   "execution_count": null,
   "metadata": {},
   "outputs": [],
   "source": [
    "#Simple Program, SciPro_01234 April 8, 2024\n",
    "#Ein Beispiel of what might be a poor solution for demonstrating how it can be improved (better writting, reducing error) through iterative revisions.\n",
    "\n",
    "\n",
    "print('The cube of', 0, 'ist', 0*0*0) # take the cube of 0\n",
    "print('The cube of {0} ist {1}.'.format(1, 1*1*1)) # take the cub of 1\n",
    "print('The cube of {0} ist {1}.'.format(2, 2*2**2)) # ect.\n",
    "print('The cube of', 3, 'ist', 3*3*3, '.')\n",
    "print('The cube of', 3, 'ist {0}.'.format(4*4*4))\n",
    "print('The cube of {0} ist {1}.'.format(4, 5*5*5))\n",
    "print('The cube of {0} is {1}.'.format(3, 6*6*6))\n",
    "\n",
    "print(\"The cube of {0} ist {1}.\".format(6, 7*7*7))\n",
    "print(f\"The cube of {7} ist {8*8*8}.\")\n",
    "print(f'The cube of 9 ist {9*9*9}.')"
   ]
  },
  {
   "cell_type": "markdown",
   "metadata": {},
   "source": [
    "<hr style=\"border:2px dashed dodgerblue\"> </hr>\n",
    "\n",
    "<b>Problems</b> with the above code:\n",
    "\n",
    "1. <font color='dodgerblue'>Lots of information</font> group at once in the first <font color='dodgerblue'>two lines</font>\n",
    "\n",
    "\n",
    "2. The problem <font color='dodgerblue'>context</font> is poorly <font color='dodgerblue'>given as a comment</font> (a markdown cell would have been better), and with <font color='dodgerblue'>mixed German/English</font> language\n",
    "\n",
    "\n",
    "3. Comment runs off the screen - <font color='dodgerblue'>must scroll</font> to read it all\n",
    "\n",
    "\n",
    "4. Inline comments (e.g., `# take the cube of 0`) are <font color='dodgerblue'>not needed</font> to understand the code\n",
    "\n",
    "\n",
    "5. <font color='dodgerblue'>Inconsistent formatting</font> (i.e. printing and blank line usage)\n",
    "\n",
    "\n",
    "6. <font color='dodgerblue'>Not concisely written</font> (10 lines to print the cube of each number)\n",
    "    - notice that the errors are hard to see (missing a period, usage of 3 instead of 4, raising to a power of 2)"
   ]
  },
  {
   "cell_type": "markdown",
   "metadata": {},
   "source": [
    "Could have been done  <b>better</b>, and reduce the chances of introducing a user error:\n",
    "- use markdown cells\n",
    "- use code cells\n",
    "\n",
    "<hr style=\"border:2px dashed dodgerblue\"> </hr>"
   ]
  },
  {
   "cell_type": "markdown",
   "metadata": {},
   "source": [
    "### Repeating Example 2 - A Better Solution"
   ]
  },
  {
   "cell_type": "markdown",
   "metadata": {},
   "source": [
    "Simple Program Improved\n",
    "\n",
    "Author: SciPro_01234\n",
    "\n",
    "Date: October 2, 2023\n",
    "\n",
    "---\n",
    "\n",
    "Goal: Provide an example of how code can be improved through iterative revisions.\n",
    "\n",
    "Task 1: Take the cube of intergers from 0 to 9."
   ]
  },
  {
   "cell_type": "code",
   "execution_count": null,
   "metadata": {},
   "outputs": [],
   "source": [
    "number_tuple = (0, 1, 2, 3, 4, 5, 6, 7, 8, 9)\n",
    "\n",
    "for number in number_tuple:\n",
    "    number_cube = number**3\n",
    "    print('The cube of {0} is {1}.'.format(number, number_cube))"
   ]
  },
  {
   "cell_type": "markdown",
   "metadata": {},
   "source": [
    "Okay, much better.\n",
    "\n",
    "However, there are 2 issues:\n",
    "\n",
    "1. <font color='dodgerblue'>manually</font> providing a list of sequential numbers (could introduce a typo)\n",
    "\n",
    "\n",
    "2. the use of <font color='dodgerblue'>older print statement</font> (less concise and less readable)\n",
    "\n",
    "<hr style=\"border:2px dashed dodgerblue\"> </hr>"
   ]
  },
  {
   "cell_type": "markdown",
   "metadata": {},
   "source": [
    "### Repeating Example 2 - Better Solutions"
   ]
  },
  {
   "cell_type": "markdown",
   "metadata": {},
   "source": [
    "Now, let's further improve the code cell part above - use a built-in function (`range`)\n",
    "\n",
    "The following is arguably better than above example because, the codes is\n",
    "\n",
    "1. <font color='dodgerblue'>still readable</font> (i.e., <b>not too concise nor too \"clever\"</b>), and\n",
    "\n",
    "2. the <font color='dodgerblue'>number of variables/objects is kept to a minimum</font>, specifically\n",
    "    - two: `number` and `number_list`, versus\n",
    "    - three: `number`, `number_list` and `number_cube`)\n",
    "\n",
    "3. use of <font color='dodgerblue'>modern</font> `f-string` print statement"
   ]
  },
  {
   "cell_type": "markdown",
   "metadata": {},
   "source": [
    "Simple Program Improved Again\n",
    "\n",
    "Author: SciPro_01234\n",
    "\n",
    "Date: October 2, 2023\n",
    "\n",
    "---\n",
    "\n",
    "Goal: Provide an example of how code can be improved through iterative revisions.\n",
    "\n",
    "Task 1: Take the cube of intergers from 0 to 9."
   ]
  },
  {
   "cell_type": "code",
   "execution_count": null,
   "metadata": {},
   "outputs": [],
   "source": [
    "number_list = range(0, 10, 1)\n",
    "\n",
    "for number in number_list:\n",
    "    print(f'The cube of {number} is {number**3}.')"
   ]
  },
  {
   "cell_type": "markdown",
   "metadata": {},
   "source": [
    "An alternative and still good solution that might even be a bit simpler (i.e., elimating the need to define a `number_list` and `number` objects)."
   ]
  },
  {
   "cell_type": "code",
   "execution_count": null,
   "metadata": {},
   "outputs": [],
   "source": [
    "number = 0\n",
    "\n",
    "while number < 10:\n",
    "    print(f'The cube of {number} is {number**3}.')\n",
    "    number += 1"
   ]
  },
  {
   "cell_type": "markdown",
   "metadata": {},
   "source": [
    "<font color='dodgerblue'>Note:</font> The use of a `while` or `for` loop depends on the problem given and resulting the solution devised."
   ]
  },
  {
   "cell_type": "markdown",
   "metadata": {},
   "source": [
    "<hr style=\"border:2px dashed dodgerblue\"> </hr>\n",
    "\n",
    "## Take-home Points\n",
    "\n",
    "1. <font color='dodgerblue'>Better coding is acheived through <b>iterations of its writing</b> (i.e., code revision).</font>\n",
    "\n",
    "2. <b>Context and communicting</b> thoughts/ideas using Jupyter's markdown capabilities\n",
    "\n",
    "3. <b>Good</b> academics <b>scholarship</b> (e.g., writing, citing sources)\n",
    "\n",
    "4. <b>Human-readable</b> object/variable naming (versus nondescriptive `x` or `s`)\n",
    "\n",
    "5. <b>Concise coding</b> (e.g., for loop, f-string formatting)\n",
    "\n",
    "6. Coding that <b>reduces chances</b> of introducing programmer's <b>errors</b>\n",
    "\n",
    "7. <b>Citing knowledge (see first example above</b>"
   ]
  },
  {
   "cell_type": "code",
   "execution_count": null,
   "metadata": {},
   "outputs": [],
   "source": []
  }
 ],
 "metadata": {
  "kernelspec": {
   "display_name": "Python 3 (ipykernel)",
   "language": "python",
   "name": "python3"
  },
  "language_info": {
   "codemirror_mode": {
    "name": "ipython",
    "version": 3
   },
   "file_extension": ".py",
   "mimetype": "text/x-python",
   "name": "python",
   "nbconvert_exporter": "python",
   "pygments_lexer": "ipython3",
   "version": "3.13.2"
  }
 },
 "nbformat": 4,
 "nbformat_minor": 4
}
