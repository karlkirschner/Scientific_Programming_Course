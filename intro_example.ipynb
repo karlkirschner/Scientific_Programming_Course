{
 "cells": [
  {
   "cell_type": "markdown",
   "metadata": {},
   "source": [
    "<div class=\"alert block alert-info alert\">\n",
    "\n",
    "# <center> Introductory Python3 Examples\n",
    "## <center>Karl N. Kirschner<br>Bonn-Rhein-Sieg University of Applied Sciences<br>Sankt Augustin, Germany\n",
    "\n",
    "## <center> Demo of Jupyter Notebook / Colaboratory\n",
    "\n",
    "<hr style=\"border:2px solid gray\"> </hr>"
   ]
  },
  {
   "cell_type": "markdown",
   "metadata": {},
   "source": [
    "## What might I consider a good Jupyter-notebook and coding be for a homework solution?\n",
    "\n",
    "### Example 1 - a Solution that Contains All Key Ingredients\n",
    "- markdown cells (name, context and sources)\n",
    "- code cells (clear, concise and well formatted)\n",
    "\n",
    "<hr style=\"border:2px dashed dodgerblue\"> </hr>"
   ]
  },
  {
   "cell_type": "markdown",
   "metadata": {},
   "source": [
    "#### Title: A Simple Example with a Markdown and Code Cell\n",
    "\n",
    "Author: **Karl N. Kirschner** (kkirsc2m; **123456**)\n",
    "\n",
    "Date: March 27, 2022\n",
    "\n",
    "An example of Kirschner's expectation for a good Jupyter-notebook and coding.\n",
    "\n",
    "Naming some famous scientific women [1-4].\n",
    "\n",
    "**References**\n",
    "1. Miller, C.C. \"A gifted mathematician who is now recognized as the first computer programmer\". The New York Times, 8 March 2018. https://www.nytimes.com/interactive/2018/obituaries/overlooked-ada-lovelace.html. Online, accessed September 9, 2022.\n",
    "2. Rockwell, S. \"The life and legacy of Marie Curie.\" The Yale Journal of Biology and Medicine 76.4-6 (2003): 167.\n",
    "3. Uberoi, C. \"Rosalind Franklin: The woman scientist of DNA.\" Resonance 9.3 (2004): 3-5.\n",
    "4. Maria Goeppert Mayer - Facts. NobelPrize.org. Nobel Prize Outreach AB 2022. https://www.nobelprize.org/prizes/physics/1963/mayer/facts. Online, accessed September 9, 2022."
   ]
  },
  {
   "cell_type": "code",
   "execution_count": 1,
   "metadata": {},
   "outputs": [
    {
     "name": "stdout",
     "output_type": "stream",
     "text": [
      "Scientist number 1 is Ada Love.\n",
      "Scientist number 2 is Marie Curie.\n",
      "Scientist number 3 is Rosalind Franklin.\n",
      "Scientist number 4 is Maria Goeppert Mayer.\n"
     ]
    }
   ],
   "source": [
    "index = 1\n",
    "\n",
    "famous_scientists = ['Ada Love', 'Marie Curie', 'Rosalind Franklin', 'Maria Goeppert Mayer']\n",
    "\n",
    "for person in famous_scientists:\n",
    "    print(f'Scientist number {index} is {person}.')\n",
    "    index += 1"
   ]
  },
  {
   "cell_type": "markdown",
   "metadata": {},
   "source": [
    "<hr style=\"border:2px dashed dodgerblue\"> </hr>\n",
    "\n",
    "<font color='dodgerblue'>**Talking Points:**</font>\n",
    "\n",
    "1. Commenting code using Jupyter's markdown capabilities\n",
    "    - porvide context\n",
    "    - convey thoughts and ideas\n",
    "    - provide sources of information\n",
    "\n",
    "\n",
    "2. Creating objects (i.e. `index` and `famous_scientists`)\n",
    "    - human-readable (versus nondescriptive `x` or `s`)\n",
    "    - proper spacing between list items\n",
    "\n",
    "\n",
    "3. Creation of a \"for loop\" (versus 4 print statements)\n",
    "    - reduces chances of error\n",
    "\n",
    "\n",
    "4. Python incrementing a number by plus 1 (note: could also `-=`)\n",
    "\n",
    "\n",
    "5. Print statement with f-string formatting\n",
    "    - concise and clear\n",
    "\n",
    "\n",
    "6. Overall, concisely and cleanly written code"
   ]
  },
  {
   "cell_type": "markdown",
   "metadata": {},
   "source": [
    "### Example 2 - a Poor Solution\n",
    "There are always multiple solutions for achieving the same goal. Here is a poor solution to the homework <font color='dodgerblue'>task of computing the cube of the numbers 0-9</font>: \n",
    "\n",
    "<hr style=\"border:2px dashed dodgerblue\"> </hr>"
   ]
  },
  {
   "cell_type": "code",
   "execution_count": 7,
   "metadata": {},
   "outputs": [
    {
     "name": "stdout",
     "output_type": "stream",
     "text": [
      "The cube of 0 ist 0\n",
      "The cube of 1 ist 1.\n",
      "The cube of 2 ist 8.\n",
      "The cube of 3 ist 27 .\n",
      "The cube of 3 ist 64.\n",
      "The cube of 4 ist 125.\n",
      "The cube of 3 is 216.\n",
      "The cube of 6 ist 343.\n",
      "The cube of 7 ist 512.\n",
      "The cube of 9 ist 729.\n"
     ]
    }
   ],
   "source": [
    "#Simple Program, Karl N. Kirschner (kkirsc2m; 123456) March 27, 2022\n",
    "#Ein Beispiel of what might be a poor solution for demonstrating how it can be improved (better writting, reducing error) through iterative revisions.\n",
    "\n",
    "\n",
    "print('The cube of', 0, 'ist', 0*0*0) # take the cube of 0\n",
    "print('The cube of {0} ist {1}.'.format(1, 1*1*1)) # take the cub of 1\n",
    "print('The cube of {0} ist {1}.'.format(2, 2*2**2)) # ect.\n",
    "print('The cube of', 3, 'ist', 3*3*3, '.')\n",
    "print('The cube of', 3, 'ist {0}.'.format(4*4*4))\n",
    "print('The cube of {0} ist {1}.'.format(4, 5*5*5))\n",
    "print('The cube of {0} is {1}.'.format(3, 6*6*6))\n",
    "\n",
    "print(\"The cube of {0} ist {1}.\".format(6, 7*7*7))\n",
    "print(f\"The cube of {7} ist {8*8*8}.\")\n",
    "print(f'The cube of 9 ist {9*9*9}.')"
   ]
  },
  {
   "cell_type": "markdown",
   "metadata": {},
   "source": [
    "<hr style=\"border:2px dashed dodgerblue\"> </hr>\n",
    "\n",
    "**Problems** with the above code:\n",
    "\n",
    "1. <font color='dodgerblue'>Lots of information</font> group at once in the first <font color='dodgerblue'>two lines</font>\n",
    "\n",
    "\n",
    "2. The problem <font color='dodgerblue'>context</font> is poorly <font color='dodgerblue'>given as a comment</font> (a markdown cell would have been better), and with mixed German/English language\n",
    "\n",
    "\n",
    "3. Comment runs off the screen - <font color='dodgerblue'>must scroll</font> to read it all\n",
    "\n",
    "\n",
    "4. Inline comments (e.g., `# take the cube of 0`) are <font color='dodgerblue'>not needed</font> to understand the code\n",
    "\n",
    "\n",
    "5. <font color='dodgerblue'>Inconsistent formatting</font> (i.e. printing and blank line usage)\n",
    "\n",
    "\n",
    "6. <font color='dodgerblue'>Not concisely written</font> (10 lines to print the cube of each number)\n",
    "    - notice that the errors are hard to see (missing a period, usage of 3 instead of 4, raising to a power of 2)"
   ]
  },
  {
   "cell_type": "markdown",
   "metadata": {},
   "source": [
    "Could have been done  **better**, and reduce the chances of introducing a user error:\n",
    "- use markdown cells\n",
    "- use code cells\n",
    "\n",
    "<hr style=\"border:2px dashed dodgerblue\"> </hr>"
   ]
  },
  {
   "cell_type": "markdown",
   "metadata": {},
   "source": [
    "### Repeating Example 2 - a Good Solution"
   ]
  },
  {
   "cell_type": "markdown",
   "metadata": {},
   "source": [
    "Simple Program Improved\n",
    "\n",
    "Author: Karl N. Kirschner (kkirsc2m; 123456)\n",
    "\n",
    "Date: March 27, 2022\n",
    "\n",
    "---\n",
    "\n",
    "An example of how code can be improved through iterative revisions.\n",
    "\n",
    "Task: Take the cube of a tuple of numbers."
   ]
  },
  {
   "cell_type": "code",
   "execution_count": 3,
   "metadata": {},
   "outputs": [
    {
     "name": "stdout",
     "output_type": "stream",
     "text": [
      "The cube of 0 is 0.\n",
      "The cube of 1 is 1.\n",
      "The cube of 2 is 8.\n",
      "The cube of 3 is 27.\n",
      "The cube of 4 is 64.\n",
      "The cube of 5 is 125.\n",
      "The cube of 6 is 216.\n",
      "The cube of 7 is 343.\n",
      "The cube of 8 is 512.\n",
      "The cube of 9 is 729.\n"
     ]
    }
   ],
   "source": [
    "number_tuple = (0, 1, 2, 3, 4, 5, 6, 7, 8, 9)\n",
    "\n",
    "for number in number_tuple:\n",
    "    number_cube = number**3\n",
    "    print('The cube of {0} is {1}.'.format(number, number_cube))"
   ]
  },
  {
   "cell_type": "markdown",
   "metadata": {},
   "source": [
    "Okay, much better. However, there are 2 issue:\n",
    "\n",
    "1. <font color='dodgerblue'>manually</font> providing a list of sequential numbers (could introduce a typo)\n",
    "\n",
    "\n",
    "2. the use of <font color='dodgerblue'>older print statement</font> (less concise and less readable)\n",
    "\n",
    "<hr style=\"border:2px dashed dodgerblue\"> </hr>"
   ]
  },
  {
   "cell_type": "markdown",
   "metadata": {},
   "source": [
    "### Repeating Example 2 - Better Solutions"
   ]
  },
  {
   "cell_type": "markdown",
   "metadata": {},
   "source": [
    "Now, let's further improve the code cell part above - use a built-in function (`range`)\n",
    "\n",
    "The following is arguably better than above example because, the codes is\n",
    "\n",
    "1. <font color='dodgerblue'>still readable</font> (i.e., **not too concise nor too \"clever\"**), and\n",
    "\n",
    "2. the <font color='dodgerblue'>number of variables/objects is kept to a minimum</font>, specifically\n",
    "    - two: `number` and `number_list`, versus\n",
    "    - three: `number`, `number_list` and `number_cube`)\n",
    "\n",
    "3. use of <font color='dodgerblue'>modern</font> `f-string` print statement"
   ]
  },
  {
   "cell_type": "code",
   "execution_count": 4,
   "metadata": {},
   "outputs": [
    {
     "name": "stdout",
     "output_type": "stream",
     "text": [
      "The cube of 0 is 0.\n",
      "The cube of 1 is 1.\n",
      "The cube of 2 is 8.\n",
      "The cube of 3 is 27.\n",
      "The cube of 4 is 64.\n",
      "The cube of 5 is 125.\n",
      "The cube of 6 is 216.\n",
      "The cube of 7 is 343.\n",
      "The cube of 8 is 512.\n",
      "The cube of 9 is 729.\n"
     ]
    }
   ],
   "source": [
    "number_list = range(0, 10, 1)\n",
    "\n",
    "for number in number_list:\n",
    "    print(f'The cube of {number} is {number**3}.')"
   ]
  },
  {
   "cell_type": "markdown",
   "metadata": {},
   "source": [
    "However, there is even yet another solution (with only <font color='dodgerblue'>one variable/object</font>)."
   ]
  },
  {
   "cell_type": "code",
   "execution_count": 5,
   "metadata": {},
   "outputs": [
    {
     "name": "stdout",
     "output_type": "stream",
     "text": [
      "The cube of 0 is 0.\n",
      "The cube of 1 is 1.\n",
      "The cube of 2 is 8.\n",
      "The cube of 3 is 27.\n",
      "The cube of 4 is 64.\n",
      "The cube of 5 is 125.\n",
      "The cube of 6 is 216.\n",
      "The cube of 7 is 343.\n",
      "The cube of 8 is 512.\n",
      "The cube of 9 is 729.\n"
     ]
    }
   ],
   "source": [
    "number = 0\n",
    "\n",
    "while number < 10:\n",
    "    print(f'The cube of {number} is {number**3}.')\n",
    "    number += 1"
   ]
  },
  {
   "cell_type": "markdown",
   "metadata": {},
   "source": [
    "<font color='dodgerblue'>Note:</font> The use of a `while` or `for` loop depends on the problem given and resulting the solution devised."
   ]
  },
  {
   "cell_type": "markdown",
   "metadata": {},
   "source": [
    "<hr style=\"border:2px dashed dodgerblue\"> </hr>\n",
    "\n",
    "## Take-home Points\n",
    "\n",
    "1. <font color='dodgerblue'>Better coding is acheived through **iterations of its writing** (i.e., code revision).</font>\n",
    "\n",
    "2. Context and communicting thoughts/ideas using Jupyter's markdown capabilities\n",
    "\n",
    "3. Good academics scholarship (e.g., writing, citing sources)\n",
    "\n",
    "4. Human-readable object/variable naming (versus nondescriptive `x` or `s`)\n",
    "\n",
    "5. Concise coding (e.g., for loop, f-string formatting)\n",
    "\n",
    "6. Coding the reduces chances of introducing programmer's errors"
   ]
  },
  {
   "cell_type": "code",
   "execution_count": null,
   "metadata": {},
   "outputs": [],
   "source": []
  }
 ],
 "metadata": {
  "kernelspec": {
   "display_name": "Python 3 (ipykernel)",
   "language": "python",
   "name": "python3"
  },
  "language_info": {
   "codemirror_mode": {
    "name": "ipython",
    "version": 3
   },
   "file_extension": ".py",
   "mimetype": "text/x-python",
   "name": "python",
   "nbconvert_exporter": "python",
   "pygments_lexer": "ipython3",
   "version": "3.8.10"
  }
 },
 "nbformat": 4,
 "nbformat_minor": 2
}
