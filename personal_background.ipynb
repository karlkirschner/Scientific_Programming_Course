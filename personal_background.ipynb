{
 "cells": [
  {
   "cell_type": "markdown",
   "metadata": {},
   "source": [
    "# <center> Personal Background\n",
    "---\n",
    "<div> <img src=\"00_images/personal/2000px-Map_of_USA_MO.png\" width=\"600\"/> </div>\n",
    "<br>\n",
    "<div> <img src=\"00_images/personal/How-you-recruit-a-horseman.jpg\" width=\"500\"/> </div>\n",
    "<br>\n",
    "<div> <img src=\"00_images/personal/Jesse_james_portrait.jpg\" width=\"500\"/> </div>\n",
    "\n",
    "    Sources: wikimedia.org, www.stjoemo.info, history-map.com\n",
    "---\n",
    "\n",
    "## Education and Teaching Experience\n",
    "1. Obtained PhD in 1999 in Physical Chemistry from the University of Georgia (USA)\n",
    "\n",
    "\n",
    "2. ~4 Years of post-doctoral research\n",
    "\n",
    "\n",
    "3. ~4 years of teaching bachelor students at Hamilton College (multiple chemistry and one history course)\n",
    "\n",
    "    \n",
    "<div> <img src=\"00_images/personal/Hamilton_group2007.png\" width=\"500\"/> </div>\n",
    "\n",
    " \n",
    "4. ~5 years of mentoring and teaching at H-BRS\n",
    "    \n",
    "    a. Research Associate\n",
    "    \n",
    "    b. International Chair\n",
    "    \n",
    "    c. Departments of EMT and CS\n",
    "        - Advance Research Strategies\n",
    "        - Methods Training\n",
    "        - Technical Journalism\n",
    "        - Scientific Writing\n",
    "        - Project Seminar - Computational Chemistry\n",
    "        - Molecular Modelling\n",
    "        - Scientific Programming"
   ]
  },
  {
   "cell_type": "markdown",
   "metadata": {},
   "source": [
    "---\n",
    "## Qualifications\n",
    "\n",
    "1. Published ~60 peer-reviewed science and educations articles\n",
    "<div> <img src=\"00_images/personal/paper_2010_2015.png\" width=\"500\"/> </div>\n",
    "\n",
    "\n",
    "2. Expertise in computational chemistry\n",
    "    - quantum mechanics\n",
    "    - molecular mechanics\n",
    "    - molecular dynamics\n",
    "    - bioinformatics\n",
    "    \n",
    "    - model building, simulations and data analysis\n",
    "\n",
    "\n",
    "3. Experitse in academic scholarship (i.e. wissenschaftliches Arbeit)\n",
    "\n",
    "\n",
    "4. Self taught in Python (ca. last 7 years)\n",
    "    - research group codes using Python3\n",
    "    - constantly learning new things"
   ]
  },
  {
   "cell_type": "code",
   "execution_count": null,
   "metadata": {},
   "outputs": [],
   "source": []
  }
 ],
 "metadata": {
  "kernelspec": {
   "display_name": "Python 3 (ipykernel)",
   "language": "python",
   "name": "python3"
  },
  "language_info": {
   "codemirror_mode": {
    "name": "ipython",
    "version": 3
   },
   "file_extension": ".py",
   "mimetype": "text/x-python",
   "name": "python",
   "nbconvert_exporter": "python",
   "pygments_lexer": "ipython3",
   "version": "3.9.7"
  }
 },
 "nbformat": 4,
 "nbformat_minor": 2
}
