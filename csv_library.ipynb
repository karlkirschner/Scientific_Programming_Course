{
 "cells": [
  {
   "cell_type": "markdown",
   "metadata": {},
   "source": [
    "***\n",
    "# Reading Data Files\n",
    "- Commma Separated Value (CSV) files - a generic text file for data\n",
    " - (https://en.wikipedia.org/wiki/Comma-separated_values)\n",
    "\n",
    "\n",
    "- Use the csv standard library - https://docs.python.org/3/library/csv.html\n",
    "\n",
    "---\n",
    "\n",
    "The data within a CSV files can be separated by things other than a 'comma':\n",
    "\n",
    "comma: 1.0 , 2.0 , 3.0\n",
    "\n",
    "semicolon: 1.0 ; 2.0 ; 3.0\n",
    "\n",
    "includes quotes (for groupings): 1 , 2 , \"a, b, c\"\n",
    "\n",
    "---\n",
    "\n",
    "We will use the following file for reading in some three-dimensional data.\n",
    "\n",
    "**data_3d.csv** contains the following information:\n",
    "- Hearder first line\n",
    "- 28 data rows\n",
    "- 3 data columns (Time, Exp and Theory)"
   ]
  },
  {
   "cell_type": "code",
   "execution_count": null,
   "metadata": {},
   "outputs": [],
   "source": [
    "import csv"
   ]
  },
  {
   "cell_type": "code",
   "execution_count": null,
   "metadata": {},
   "outputs": [],
   "source": [
    "## CSV data file acan be found at\n",
    "## https://github.com/karlkirschner/2020_Scientific_Programming/blob/master/data_3d.csv\n",
    "\n",
    "## For Colabs\n",
    "\n",
    "## In order to upload data\n",
    "#from google.colab import files\n",
    "#uploaded = files.upload()\n",
    "\n",
    "## In order to show the plots\n",
    "#%matplotlib inline"
   ]
  },
  {
   "cell_type": "markdown",
   "metadata": {},
   "source": [
    "Example of a true comma separated value file"
   ]
  },
  {
   "cell_type": "code",
   "execution_count": null,
   "metadata": {},
   "outputs": [],
   "source": [
    "## A Jupyter and Linux bash trick for looking into a file\n",
    "!head data_3d.csv --lines=10"
   ]
  },
  {
   "cell_type": "markdown",
   "metadata": {},
   "source": [
    "Example of a semicolon separated value file."
   ]
  },
  {
   "cell_type": "code",
   "execution_count": null,
   "metadata": {},
   "outputs": [],
   "source": [
    "!head data_3d_semi.csv --lines=10"
   ]
  },
  {
   "cell_type": "markdown",
   "metadata": {},
   "source": [
    "For the cells that follow - we will use the data_3d.csv file."
   ]
  },
  {
   "cell_type": "code",
   "execution_count": null,
   "metadata": {},
   "outputs": [],
   "source": [
    "time = []\n",
    "exp = []\n",
    "sim = []\n",
    "\n",
    "with open('data_3d.csv') as file:\n",
    "   read_it = csv.reader(file, delimiter=',')\n",
    "\n",
    "   next(read_it)  ## skips header (i.e. the first row)\n",
    "    \n",
    "   for row in read_it:\n",
    "       time.append(float((row[0])))\n",
    "       exp.append(float(row[1]))\n",
    "       sim.append(float(row[2]))"
   ]
  },
  {
   "cell_type": "markdown",
   "metadata": {},
   "source": [
    "Now we have created three list that contains floats, giving us our data that we can then do something with!\n",
    "\n",
    "---\n",
    "#### Slicing\n",
    "A quick note about getting a slice of data from a list.\n",
    "\n",
    "Let's say that **a** is a list, then we can get different ranges via:\n",
    "\n",
    "a (or a[:])   ## a copy of the whole array\n",
    "\n",
    "a[start:stop] ## items start to stop-1\n",
    "\n",
    "a[start:]     ## items start to end of list\n",
    "\n",
    "a[:stop]      ## items start of list to stop-1\n",
    "\n",
    "a[item]       ## a single item"
   ]
  },
  {
   "cell_type": "code",
   "execution_count": null,
   "metadata": {},
   "outputs": [],
   "source": [
    "print(time)"
   ]
  },
  {
   "cell_type": "code",
   "execution_count": null,
   "metadata": {},
   "outputs": [],
   "source": [
    "print(time[:])"
   ]
  },
  {
   "cell_type": "code",
   "execution_count": null,
   "metadata": {},
   "outputs": [],
   "source": [
    "print(time[5:15])"
   ]
  },
  {
   "cell_type": "code",
   "execution_count": null,
   "metadata": {},
   "outputs": [],
   "source": [
    "print(time[5:])"
   ]
  },
  {
   "cell_type": "code",
   "execution_count": null,
   "metadata": {},
   "outputs": [],
   "source": [
    "print(time[:15])"
   ]
  },
  {
   "cell_type": "code",
   "execution_count": null,
   "metadata": {},
   "outputs": [],
   "source": [
    "print(time[1])"
   ]
  },
  {
   "cell_type": "markdown",
   "metadata": {},
   "source": [
    "---\n",
    "Okay, back to our original focus.\n",
    "\n",
    "Let's verify that our items are indeed numbers (we will come back to this in a bit)."
   ]
  },
  {
   "cell_type": "code",
   "execution_count": null,
   "metadata": {},
   "outputs": [],
   "source": [
    "type(time[0])"
   ]
  },
  {
   "cell_type": "markdown",
   "metadata": {},
   "source": [
    "We can treat the items within the time list and floats."
   ]
  },
  {
   "cell_type": "code",
   "execution_count": null,
   "metadata": {},
   "outputs": [],
   "source": [
    "time[1] - time[0]"
   ]
  },
  {
   "cell_type": "markdown",
   "metadata": {},
   "source": [
    "---\n",
    "### Okay, so let's demo how we could use this data.\n",
    "\n",
    "(Again, we take a peak into our future and do some plotting.)"
   ]
  },
  {
   "cell_type": "code",
   "execution_count": null,
   "metadata": {},
   "outputs": [],
   "source": [
    "import matplotlib.pyplot as plt"
   ]
  },
  {
   "cell_type": "code",
   "execution_count": null,
   "metadata": {},
   "outputs": [],
   "source": [
    "## For Colabs\n",
    "## In order to show the plots\n",
    "\n",
    "#%matplotlib inline"
   ]
  },
  {
   "cell_type": "code",
   "execution_count": null,
   "metadata": {},
   "outputs": [],
   "source": [
    "plt.style.use('seaborn-whitegrid')\n",
    "plt.figure(figsize=(15,5))\n",
    "\n",
    "plt.plot(time, exp, linewidth=5, linestyle='solid', label='Experimental')\n",
    "plt.plot(time, sim, linewidth=5, linestyle='dashed', label='Simulated')\n",
    "\n",
    "plt.xlabel('Time (seconds)')\n",
    "plt.ylabel('Y-Axis (Unit)')\n",
    "plt.title('Experimental and Simulated Results')\n",
    "plt.grid(True)\n",
    "\n",
    "plt.show()"
   ]
  },
  {
   "cell_type": "markdown",
   "metadata": {},
   "source": [
    "Notice that we have gaps in the tick marks for the x-axis.\n",
    "\n",
    "How can we easily change this for plotting?\n",
    "- Read the x-axis data as: **strings** (versus a float as above) and plot again.\n",
    "\n",
    "    ```time.append(str(row[0]))```"
   ]
  },
  {
   "cell_type": "code",
   "execution_count": null,
   "metadata": {},
   "outputs": [],
   "source": [
    "time=[]\n",
    "exp=[]\n",
    "sim=[]\n",
    "\n",
    "with open('data_3d.csv') as file:\n",
    "   read_it = csv.reader(file, delimiter=',')\n",
    "\n",
    "   next(read_it)\n",
    "    \n",
    "   for row in read_it:\n",
    "       time.append(str(row[0]))\n",
    "       exp.append(float(row[1]))\n",
    "       sim.append(float(row[2]))"
   ]
  },
  {
   "cell_type": "code",
   "execution_count": null,
   "metadata": {},
   "outputs": [],
   "source": [
    "type(time[0])"
   ]
  },
  {
   "cell_type": "code",
   "execution_count": null,
   "metadata": {},
   "outputs": [],
   "source": [
    "plt.style.use('seaborn-whitegrid')\n",
    "plt.figure(figsize=(15,5))\n",
    "\n",
    "plt.plot(time, exp, linewidth=5, linestyle='solid', label='Experimental')\n",
    "plt.plot(time, sim, linewidth=5, linestyle='dashed', label='Simulated')\n",
    "\n",
    "plt.xlabel('Time (seconds)')\n",
    "plt.ylabel('Y-Axis (Unit)')\n",
    "plt.title('Experimental and Simulated Results')\n",
    "plt.grid(True)\n",
    "plt.show()"
   ]
  },
  {
   "cell_type": "markdown",
   "metadata": {},
   "source": [
    "**Notice**: the x-axis ticks have changed - every data point is now labeled.\n",
    "\n",
    "**Also notice**: we can no longer treat them a numbers"
   ]
  },
  {
   "cell_type": "code",
   "execution_count": null,
   "metadata": {},
   "outputs": [],
   "source": [
    "time[1] - time[0]"
   ]
  },
  {
   "cell_type": "code",
   "execution_count": null,
   "metadata": {},
   "outputs": [],
   "source": [
    "float(time[1]) - float(time[0])"
   ]
  },
  {
   "cell_type": "markdown",
   "metadata": {},
   "source": []
  }
 ],
 "metadata": {
  "kernelspec": {
   "display_name": "Python 3",
   "language": "python",
   "name": "python3"
  },
  "language_info": {
   "codemirror_mode": {
    "name": "ipython",
    "version": 3
   },
   "file_extension": ".py",
   "mimetype": "text/x-python",
   "name": "python",
   "nbconvert_exporter": "python",
   "pygments_lexer": "ipython3",
   "version": "3.8.1"
  }
 },
 "nbformat": 4,
 "nbformat_minor": 2
}
