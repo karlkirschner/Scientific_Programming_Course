{
 "cells": [
  {
   "cell_type": "markdown",
   "id": "0a9a849b",
   "metadata": {},
   "source": [
    "# Sympy [1] - Symbolic Python\n",
    "\n",
    "https://docs.sympy.org/latest/index.html\n",
    "\n",
    "https://github.com/sympy/sympy/wiki\n",
    "\n",
    "1. Meurer A, Smith CP, Paprocki M, Čertík O, Kirpichev SB, Rocklin M, Kumar A, Ivanov S, Moore JK, Singh S, Rathnayake T, Vig S, Granger BE, Muller RP, Bonazzi F, Gupta H, Vats S, Johansson F, Pedregosa F, Curry MJ, Terrel AR, Roučka Š, Saboo A, Fernando I, Kulal S, Cimrman R, Scopatz A. (2017) SymPy: symbolic computing in Python. PeerJ Computer Science 3:e103 https://doi.org/10.7717/peerj-cs.103\n",
    "\n",
    "<!-- @article{10.7717/peerj-cs.103,\n",
    " title = {SymPy: symbolic computing in Python},\n",
    " author = {Meurer, Aaron and Smith, Christopher P. and Paprocki, Mateusz and \\v{C}ert\\'{i}k, Ond\\v{r}ej and Kirpichev, Sergey B. and Rocklin, Matthew and Kumar, AMiT and Ivanov, Sergiu and Moore, Jason K. and Singh, Sartaj and Rathnayake, Thilina and Vig, Sean and Granger, Brian E. and Muller, Richard P. and Bonazzi, Francesco and Gupta, Harsh and Vats, Shivam and Johansson, Fredrik and Pedregosa, Fabian and Curry, Matthew J. and Terrel, Andy R. and Rou\\v{c}ka, \\v{S}t\\v{e}p\\'{a}n and Saboo, Ashutosh and Fernando, Isuru and Kulal, Sumith and Cimrman, Robert and Scopatz, Anthony},\n",
    " year = 2017,\n",
    " month = jan,\n",
    " keywords = {Python, Computer algebra system, Symbolics},\n",
    " abstract = {\n",
    "            SymPy is an open source computer algebra system written in pure Python. It is built with a focus on extensibility and ease of use, through both interactive and programmatic applications. These characteristics have led SymPy to become a popular symbolic library for the scientific Python ecosystem. This paper presents the architecture of SymPy, a description of its features, and a discussion of select submodules. The supplementary material provide additional examples and further outline details of the architecture and features of SymPy.\n",
    "         },\n",
    " volume = 3,\n",
    " pages = {e103},\n",
    " journal = {PeerJ Computer Science},\n",
    " issn = {2376-5992},\n",
    " url = {https://doi.org/10.7717/peerj-cs.103},\n",
    " doi = {10.7717/peerj-cs.103}\n",
    "} -->"
   ]
  },
  {
   "cell_type": "code",
   "execution_count": null,
   "id": "53914935",
   "metadata": {},
   "outputs": [],
   "source": [
    "import sympy"
   ]
  },
  {
   "cell_type": "markdown",
   "id": "cbb5a88f",
   "metadata": {},
   "source": [
    "## Number representation"
   ]
  },
  {
   "cell_type": "code",
   "execution_count": null,
   "id": "57d744a8",
   "metadata": {},
   "outputs": [],
   "source": [
    "sympy.sqrt(7)"
   ]
  },
  {
   "cell_type": "code",
   "execution_count": null,
   "id": "c743e668",
   "metadata": {},
   "outputs": [],
   "source": [
    "sympy.Float(9/4)"
   ]
  },
  {
   "cell_type": "code",
   "execution_count": null,
   "id": "bb89cbce",
   "metadata": {},
   "outputs": [],
   "source": [
    "sympy.Integer(9/4) ## drops the fractional part"
   ]
  },
  {
   "cell_type": "code",
   "execution_count": null,
   "id": "7fee3b0e",
   "metadata": {},
   "outputs": [],
   "source": [
    "sympy.Rational(9/4)"
   ]
  },
  {
   "cell_type": "markdown",
   "id": "70498bde",
   "metadata": {},
   "source": [
    "## Defining variables (i.e. symbols)"
   ]
  },
  {
   "cell_type": "code",
   "execution_count": null,
   "id": "b5109d43",
   "metadata": {},
   "outputs": [],
   "source": [
    "x, y, z, t = sympy.symbols('x y z t')"
   ]
  },
  {
   "cell_type": "markdown",
   "id": "349959c2",
   "metadata": {},
   "source": [
    "## Expresssions\n",
    "\n",
    "- `sympify`: converts a string to a sympy function"
   ]
  },
  {
   "cell_type": "code",
   "execution_count": null,
   "id": "d228f35e",
   "metadata": {},
   "outputs": [],
   "source": [
    "function_string = \"x**2+3*x+2\"\n",
    "function_sympy = sympy.sympify(function_string)\n",
    "\n",
    "## Equivalent statement\n",
    "# function_sympy = sympy.sympify(\"x**2+3*x+2\")\n",
    "\n",
    "function_sympy"
   ]
  },
  {
   "cell_type": "code",
   "execution_count": null,
   "id": "4ee5898b",
   "metadata": {},
   "outputs": [],
   "source": [
    "sympy.sympify(\"2/3 + 1/6\", evaluate=False)"
   ]
  },
  {
   "cell_type": "code",
   "execution_count": null,
   "id": "743046d8",
   "metadata": {},
   "outputs": [],
   "source": [
    "sympy.sympify(\"2/3 + 1/6\", evaluate=True)"
   ]
  },
  {
   "cell_type": "markdown",
   "id": "6737de4d",
   "metadata": {},
   "source": [
    "#### Evaluate an expression or function\n",
    "\n",
    "The following two are equivalent:\n",
    "- `evalf()`\n",
    "- `N()`"
   ]
  },
  {
   "cell_type": "code",
   "execution_count": null,
   "id": "57276c03",
   "metadata": {},
   "outputs": [],
   "source": [
    "sympy.sqrt(7)*sympy.pi"
   ]
  },
  {
   "cell_type": "code",
   "execution_count": null,
   "id": "08eab56c",
   "metadata": {},
   "outputs": [],
   "source": [
    "(sympy.sqrt(7)*sympy.pi).evalf()"
   ]
  },
  {
   "cell_type": "code",
   "execution_count": null,
   "id": "cf79ce50",
   "metadata": {},
   "outputs": [],
   "source": [
    "sympy.N(sympy.sqrt(7)*sympy.pi)"
   ]
  },
  {
   "cell_type": "code",
   "execution_count": null,
   "id": "cbfe4347",
   "metadata": {},
   "outputs": [],
   "source": [
    "sympy.sympify(\"2/3 + 1/6\").evalf()"
   ]
  },
  {
   "cell_type": "code",
   "execution_count": null,
   "id": "fb5c4524",
   "metadata": {},
   "outputs": [],
   "source": [
    "sympy.N(sympy.sympify(\"2/3 + 1/6\"))"
   ]
  },
  {
   "cell_type": "markdown",
   "id": "9d2e0531",
   "metadata": {},
   "source": [
    "## Polynomials"
   ]
  },
  {
   "cell_type": "markdown",
   "id": "aba04982",
   "metadata": {},
   "source": [
    "#### Two coefficients: [M, N] --> $Mx + N$\n",
    "- Note how the M shifts to the x"
   ]
  },
  {
   "cell_type": "code",
   "execution_count": null,
   "id": "01e2c9f4",
   "metadata": {},
   "outputs": [],
   "source": [
    "sympy.poly(4*x + 2)"
   ]
  },
  {
   "cell_type": "code",
   "execution_count": null,
   "id": "571dfd46",
   "metadata": {},
   "outputs": [],
   "source": [
    "polynomial_1_degree = sympy.poly(4*x + 2)\n",
    "polynomial_1_degree"
   ]
  },
  {
   "cell_type": "markdown",
   "id": "77dea0a5",
   "metadata": {},
   "source": [
    "#### Three coefficients: [M, N, O] --> $Mx^2 + Nx + O$"
   ]
  },
  {
   "cell_type": "code",
   "execution_count": null,
   "id": "f3ad00b6",
   "metadata": {},
   "outputs": [],
   "source": [
    "polynomial_2_degree = sympy.poly(-4*x**2 + 1*x -2)\n",
    "polynomial_2_degree"
   ]
  },
  {
   "cell_type": "markdown",
   "id": "623f646f",
   "metadata": {},
   "source": [
    "Print the degree:"
   ]
  },
  {
   "cell_type": "code",
   "execution_count": null,
   "id": "a2ed11cc",
   "metadata": {},
   "outputs": [],
   "source": [
    "sympy.degree(-4*x**2 + 1*x -2)"
   ]
  },
  {
   "cell_type": "code",
   "execution_count": null,
   "id": "636dd0b8",
   "metadata": {},
   "outputs": [],
   "source": [
    "sympy.degree(polynomial_2_degree)"
   ]
  },
  {
   "cell_type": "markdown",
   "id": "2714ae9d",
   "metadata": {},
   "source": [
    "Evaluate the polynomial\n",
    "\n",
    "Simple (works for a single variable)"
   ]
  },
  {
   "cell_type": "code",
   "execution_count": null,
   "id": "479e02e7",
   "metadata": {},
   "outputs": [],
   "source": [
    "polynomial_2_degree(2)"
   ]
  },
  {
   "cell_type": "markdown",
   "id": "348e9931",
   "metadata": {},
   "source": [
    "Better (works always) - substitute the variable"
   ]
  },
  {
   "cell_type": "code",
   "execution_count": null,
   "id": "f02f6ed9",
   "metadata": {},
   "outputs": [],
   "source": [
    "polynomial_2_degree.subs(x, 2)"
   ]
  },
  {
   "cell_type": "code",
   "execution_count": null,
   "id": "776fc2bd",
   "metadata": {},
   "outputs": [],
   "source": [
    "polynomial_2_degree.subs(x, 3)"
   ]
  },
  {
   "cell_type": "markdown",
   "id": "8add29cf",
   "metadata": {},
   "source": [
    "### Expanding a polynomial\n",
    "\n",
    "Notice: we are not specifying the poly in front now."
   ]
  },
  {
   "cell_type": "code",
   "execution_count": null,
   "id": "8a6df95a",
   "metadata": {},
   "outputs": [],
   "source": [
    "polynomial = (-4*x**2 + 1*x -2)**2\n",
    "polynomial"
   ]
  },
  {
   "cell_type": "code",
   "execution_count": null,
   "id": "44e35c86",
   "metadata": {},
   "outputs": [],
   "source": [
    "polynomial.expand()"
   ]
  },
  {
   "cell_type": "code",
   "execution_count": null,
   "id": "c1927aa2",
   "metadata": {},
   "outputs": [],
   "source": [
    "polynomial"
   ]
  },
  {
   "cell_type": "markdown",
   "id": "3ef4e4da",
   "metadata": {},
   "source": [
    "### Factor a polynomial"
   ]
  },
  {
   "cell_type": "code",
   "execution_count": null,
   "id": "b05600ed",
   "metadata": {},
   "outputs": [],
   "source": [
    "(16*x**4 - 8*x**3 + 17*x**2 - 4*x + 4).factor()"
   ]
  },
  {
   "cell_type": "markdown",
   "id": "e1351f61",
   "metadata": {},
   "source": [
    "### Multiply two polynomials together"
   ]
  },
  {
   "cell_type": "code",
   "execution_count": null,
   "id": "253adf30",
   "metadata": {},
   "outputs": [],
   "source": [
    "polynomial_1_degree * polynomial_2_degree"
   ]
  },
  {
   "cell_type": "markdown",
   "id": "95ca191f",
   "metadata": {},
   "source": [
    "### Multiple variables"
   ]
  },
  {
   "cell_type": "code",
   "execution_count": null,
   "id": "68a31b05",
   "metadata": {},
   "outputs": [],
   "source": [
    "poly_multi_var = ((x**2 + y**2)/z)\n",
    "poly_multi_var"
   ]
  },
  {
   "cell_type": "markdown",
   "id": "bd6480b1",
   "metadata": {},
   "source": [
    "Evaluate"
   ]
  },
  {
   "cell_type": "code",
   "execution_count": null,
   "id": "23836904",
   "metadata": {},
   "outputs": [],
   "source": [
    "poly_multi_var.subs([(x, 1), (y, 2), (z, 3)])"
   ]
  },
  {
   "cell_type": "markdown",
   "id": "e2ee7491",
   "metadata": {},
   "source": [
    "To obtain a float, use `evalf`\n",
    "\n",
    "Note how the variable values are passed as a dictionary."
   ]
  },
  {
   "cell_type": "code",
   "execution_count": null,
   "id": "afa46143",
   "metadata": {},
   "outputs": [],
   "source": [
    "poly_multi_var.evalf(subs = {x: 1, y: 2, z: 3})"
   ]
  },
  {
   "cell_type": "markdown",
   "id": "b9da901d",
   "metadata": {},
   "source": [
    "## Calculus\n",
    "\n",
    "### Derivatives\n",
    "First derivative"
   ]
  },
  {
   "cell_type": "code",
   "execution_count": null,
   "id": "96b99a1c",
   "metadata": {},
   "outputs": [],
   "source": [
    "polynomial = 2*x**3 + 1\n",
    "polynomial"
   ]
  },
  {
   "cell_type": "code",
   "execution_count": null,
   "id": "9bc104e6",
   "metadata": {},
   "outputs": [],
   "source": [
    "polynomial.diff(x)"
   ]
  },
  {
   "cell_type": "markdown",
   "id": "9cbba36a",
   "metadata": {},
   "source": [
    "Second derivative"
   ]
  },
  {
   "cell_type": "code",
   "execution_count": null,
   "id": "c550a876",
   "metadata": {},
   "outputs": [],
   "source": [
    "polynomial.diff(x, 2)"
   ]
  },
  {
   "cell_type": "markdown",
   "id": "9b860050",
   "metadata": {},
   "source": [
    "### Integration\n",
    "\n",
    "Indefinite integral"
   ]
  },
  {
   "cell_type": "code",
   "execution_count": null,
   "id": "55920b7f",
   "metadata": {},
   "outputs": [],
   "source": []
  },
  {
   "cell_type": "code",
   "execution_count": null,
   "id": "c1c15097",
   "metadata": {},
   "outputs": [],
   "source": [
    "polynomial"
   ]
  },
  {
   "cell_type": "code",
   "execution_count": null,
   "id": "a707f2d8",
   "metadata": {},
   "outputs": [],
   "source": [
    "polynomial.integrate(x)"
   ]
  },
  {
   "cell_type": "markdown",
   "id": "40b3694f",
   "metadata": {},
   "source": [
    "Definate integral\n",
    "\n",
    "Notice: the tuple being passed (i.e. `(x, 1 ,2)`)"
   ]
  },
  {
   "cell_type": "code",
   "execution_count": null,
   "id": "51a8c234",
   "metadata": {},
   "outputs": [],
   "source": [
    "polynomial.integrate((x, 1, 2))"
   ]
  },
  {
   "cell_type": "markdown",
   "id": "92a06dea",
   "metadata": {},
   "source": [
    "## Visualizing functions (i.e. plotting)\n",
    "\n",
    "- backend: matplotlib"
   ]
  },
  {
   "cell_type": "code",
   "execution_count": null,
   "id": "fe4ae6e7",
   "metadata": {},
   "outputs": [],
   "source": [
    "sympy.plot(x**2 + 20)"
   ]
  },
  {
   "cell_type": "markdown",
   "id": "1bafff8e",
   "metadata": {},
   "source": [
    "Change the x-axis range:"
   ]
  },
  {
   "cell_type": "code",
   "execution_count": null,
   "id": "7643d7bc",
   "metadata": {},
   "outputs": [],
   "source": [
    "sympy.plot(x**2 + 20, (x, -2, 2))"
   ]
  },
  {
   "cell_type": "code",
   "execution_count": null,
   "id": "00780fd5",
   "metadata": {},
   "outputs": [],
   "source": [
    "function = x**4\n",
    "plot_1 = sympy.plot(function)\n",
    "plot_2 = sympy.plot(polynomial.diff(x, 1))"
   ]
  },
  {
   "cell_type": "markdown",
   "id": "b1eba97d",
   "metadata": {},
   "source": [
    "## Solving equations\n",
    "\n",
    "- Finding the \"roots\" of the equation (i.e. what the variable values are that sets the equation to zero)."
   ]
  },
  {
   "cell_type": "markdown",
   "id": "a215e16b",
   "metadata": {},
   "source": [
    "Equation:\n",
    "\n",
    "$x^2 = 4$\n",
    "\n",
    "Rearrange:\n",
    "\n",
    "$x^2 -4 = 0$\n",
    "\n",
    "Solve:\n",
    "\n",
    "Solutions are\n",
    "1. x = 2\n",
    "1. x = -2"
   ]
  },
  {
   "cell_type": "code",
   "execution_count": null,
   "id": "66c52fb4",
   "metadata": {},
   "outputs": [],
   "source": [
    "solutions = sympy.solve(x**2 - 4)\n",
    "solutions"
   ]
  },
  {
   "cell_type": "code",
   "execution_count": null,
   "id": "d5c1c29d",
   "metadata": {},
   "outputs": [],
   "source": [
    "solutions[0]"
   ]
  },
  {
   "cell_type": "markdown",
   "id": "e5622033",
   "metadata": {},
   "source": [
    "### Misc Sympy functions\n",
    "\n",
    "Lambdify: https://docs.sympy.org/latest/modules/utilities/lambdify.html\n",
    "    - transforma a sympy expression to a lambda function, which can be used to evaluate (solve) equations"
   ]
  },
  {
   "cell_type": "code",
   "execution_count": null,
   "id": "63717e9c",
   "metadata": {},
   "outputs": [],
   "source": [
    "function = x**2\n",
    "\n",
    "derivative_function = function.diff(x)\n",
    "derivative_function"
   ]
  },
  {
   "cell_type": "code",
   "execution_count": null,
   "id": "1e490d9b",
   "metadata": {},
   "outputs": [],
   "source": [
    "f1 = sympy.lambdify(x, derivative_function)"
   ]
  },
  {
   "cell_type": "code",
   "execution_count": null,
   "id": "a51a95d2",
   "metadata": {},
   "outputs": [],
   "source": [
    "f1(3)"
   ]
  },
  {
   "cell_type": "code",
   "execution_count": null,
   "id": "b6b08553",
   "metadata": {},
   "outputs": [],
   "source": [
    "multi_var_func = (x**2 + y**3 + z**4)"
   ]
  },
  {
   "cell_type": "markdown",
   "id": "c1c2c193",
   "metadata": {},
   "source": [
    "List the variables"
   ]
  },
  {
   "cell_type": "code",
   "execution_count": null,
   "id": "2a1de1fa",
   "metadata": {},
   "outputs": [],
   "source": [
    "multi_var_func.free_symbols"
   ]
  },
  {
   "cell_type": "markdown",
   "id": "c6bbad29",
   "metadata": {},
   "source": [
    "To obtain an integer:"
   ]
  },
  {
   "cell_type": "code",
   "execution_count": null,
   "id": "56dab74b",
   "metadata": {},
   "outputs": [],
   "source": [
    "f = sympy.lambdify([x, y, z], multi_var_func)\n",
    "\n",
    "f(1, 2, 3)"
   ]
  },
  {
   "cell_type": "code",
   "execution_count": null,
   "id": "722172b5",
   "metadata": {},
   "outputs": [],
   "source": [
    "type(f(1, 2, 3))"
   ]
  },
  {
   "cell_type": "markdown",
   "id": "8d9d54d2",
   "metadata": {},
   "source": [
    "To obtain a `sympy.core.numbers.Integer`:"
   ]
  },
  {
   "cell_type": "code",
   "execution_count": null,
   "id": "cb01af4e",
   "metadata": {},
   "outputs": [],
   "source": [
    "multi_var_func.subs([(x, 1), (y, 2), (z, 3)])"
   ]
  },
  {
   "cell_type": "code",
   "execution_count": null,
   "id": "f8a2591a",
   "metadata": {},
   "outputs": [],
   "source": [
    "type(multi_var_func.subs([(x, 1), (y, 2), (z, 3)]))"
   ]
  },
  {
   "cell_type": "markdown",
   "id": "c81b71d7",
   "metadata": {},
   "source": [
    "To obtain a `sympy.core.numbers.Float`:"
   ]
  },
  {
   "cell_type": "code",
   "execution_count": null,
   "id": "b59fe62c",
   "metadata": {},
   "outputs": [],
   "source": [
    "multi_var_func.evalf(subs = {x: 1, y: 2, z: 3})"
   ]
  },
  {
   "cell_type": "code",
   "execution_count": null,
   "id": "33f8e840",
   "metadata": {},
   "outputs": [],
   "source": [
    "type(multi_var_func.evalf(subs = {x: 1, y: 2, z: 3}))"
   ]
  },
  {
   "cell_type": "markdown",
   "id": "87b22139",
   "metadata": {},
   "source": [
    "`simplify`"
   ]
  },
  {
   "cell_type": "code",
   "execution_count": null,
   "id": "05b47629",
   "metadata": {},
   "outputs": [],
   "source": [
    "expr = sympy.functions.sin(x)**2 + sympy.functions.cos(x)**2 \n",
    "sympy.simplify(expr)"
   ]
  },
  {
   "cell_type": "markdown",
   "id": "927449c6",
   "metadata": {},
   "source": [
    "`expand`"
   ]
  },
  {
   "cell_type": "code",
   "execution_count": null,
   "id": "015a5cc8",
   "metadata": {
    "scrolled": true
   },
   "outputs": [],
   "source": [
    "a, b = sympy.symbols('a b') \n",
    "sympy.expand((a + b)**2)"
   ]
  },
  {
   "cell_type": "markdown",
   "id": "fe23cbd6",
   "metadata": {},
   "source": [
    "#### Unit Conversions"
   ]
  },
  {
   "cell_type": "code",
   "execution_count": null,
   "id": "bf5f0844",
   "metadata": {},
   "outputs": [],
   "source": [
    "from sympy.physics.units import convert_to\n",
    "from sympy.physics.units import speed_of_light\n",
    "from sympy.physics.units import kilometer, meter, centimeter, millimeter \n",
    "from sympy.physics.units import second, minute, hour"
   ]
  },
  {
   "cell_type": "code",
   "execution_count": null,
   "id": "393c6fbf",
   "metadata": {},
   "outputs": [],
   "source": [
    "speed_of_light"
   ]
  },
  {
   "cell_type": "code",
   "execution_count": null,
   "id": "6df47b64",
   "metadata": {},
   "outputs": [],
   "source": [
    "speed_of_light.evalf()"
   ]
  },
  {
   "cell_type": "markdown",
   "id": "9d569b86",
   "metadata": {},
   "source": [
    "To obtain a value, you must specify the desired units:"
   ]
  },
  {
   "cell_type": "code",
   "execution_count": null,
   "id": "6fad2cd7",
   "metadata": {},
   "outputs": [],
   "source": [
    "convert_to(speed_of_light, [meter, minute])"
   ]
  },
  {
   "cell_type": "code",
   "execution_count": null,
   "id": "7370cbc8",
   "metadata": {},
   "outputs": [],
   "source": [
    "convert_to(speed_of_light, [millimeter, hour])"
   ]
  },
  {
   "cell_type": "code",
   "execution_count": null,
   "id": "af511906",
   "metadata": {},
   "outputs": [],
   "source": [
    "#help(sympy.physics.units)"
   ]
  },
  {
   "cell_type": "markdown",
   "id": "419f02a1",
   "metadata": {},
   "source": [
    "#### Constants built into SymPy\n",
    "1. A: ampere\n",
    "1. Bq: becquerel\n",
    "1. C: coulomb\n",
    "1. D: dioptre\n",
    "1. F: farad\n",
    "1. G: gravitational_constant\n",
    "1. Gy: gray\n",
    "1. H: henry\n",
    "1. Hz: hertz\n",
    "1. J: joule\n",
    "1. K: kelvin\n",
    "1. N: newton\n",
    "1. Pa: pascal\n",
    "1. R: molar_gas_constant\n",
    "1. S: siemens\n",
    "1. T: tesla\n",
    "1. V: volt\n",
    "1. W: watt\n",
    "1. Wb: weber\n",
    "1. Z0: vacuum_impedance\n",
    "1. __all__: ['Dimension', 'DimensionSystem', 'UnitSystem', 'convert_to',...\n",
    "1. acceleration: Dimension(acceleration)\n",
    "1. acceleration_due_to_gravity: acceleration_due_to_gravity\n",
    "1. action: Dimension(action, A)\n",
    "1. amount: Dimension(amount_of_substance)\n",
    "1. amount_of_substance: Dimension(amount_of_substance)\n",
    "1. ampere: ampere\n",
    "1. amperes: ampere\n",
    "1. amu: atomic_mass_constant\n",
    "1. amus: atomic_mass_constant\n",
    "1. angular_mil: angular_mil\n",
    "1. angular_mils: angular_mil\n",
    "1. anomalistic_year: anomalistic_year\n",
    "1. anomalistic_years: anomalistic_year\n",
    "1. astronomical_unit: astronomical_unit\n",
    "1. astronomical_units: astronomical_unit\n",
    "1. atm: atmosphere\n",
    "1. atmosphere: atmosphere\n",
    "1. atmospheres: atmosphere\n",
    "1. atomic_mass_constant: atomic_mass_constant\n",
    "1. atomic_mass_unit: atomic_mass_constant\n",
    "1. atto: Prefix('atto', 'a', -18)\n",
    "1. au: astronomical_unit\n",
    "1. avogadro: avogadro_constant\n",
    "1. avogadro_constant: avogadro_constant\n",
    "1. avogadro_number: avogadro_number\n",
    "1. bar: bar\n",
    "1. bars: bar\n",
    "1. becquerel: becquerel\n",
    "1. bit: bit\n",
    "1. bits: bit\n",
    "1. boltzmann: boltzmann_constant\n",
    "1. boltzmann_constant: boltzmann_constant\n",
    "1. byte: byte\n",
    "1. c: speed_of_light\n",
    "1. candela: candela\n",
    "1. candelas: candela\n",
    "1. capacitance: Dimension(capacitance)\n",
    "1. cd: candela\n",
    "1. centi: Prefix('centi', 'c', -2)\n",
    "1. centiliter: centiliter\n",
    "1. centiliters: centiliter\n",
    "1. centimeter: centimeter\n",
    "1. centimeters: centimeter\n",
    "1. charge: Dimension(charge, Q)\n",
    "1. cl: centiliter\n",
    "1. cm: centimeter\n",
    "1. common_year: common_year\n",
    "1. common_years: common_year\n",
    "1. conductance: Dimension(conductance, G)\n",
    "1. coulomb: coulomb\n",
    "1. coulomb_constant: coulomb_constant\n",
    "1. coulombs: coulomb\n",
    "1. current: Dimension(current, I)\n",
    "1. dHg0: 13.5951\n",
    "1. day: day\n",
    "1. days: day\n",
    "1. deca: Prefix('deca', 'da', 1)\n",
    "1. deci: Prefix('deci', 'd', -1)\n",
    "1. deciliter: deciliter\n",
    "1. deciliters: deciliter\n",
    "1. decimeter: decimeter\n",
    "1. decimeters: decimeter\n",
    "1. deg: degree\n",
    "1. degree: degree\n",
    "1. degrees: degree\n",
    "1. dioptre: dioptre\n",
    "1. dl: deciliter\n",
    "1. dm: decimeter\n",
    "1. draconic_year: draconic_year\n",
    "1. draconic_years: draconic_year\n",
    "1. e0: vacuum_permittivity\n",
    "1. eV: electronvolt\n",
    "1. electric_constant: vacuum_permittivity\n",
    "1. electric_force_constant: coulomb_constant\n",
    "1. electronvolt: electronvolt\n",
    "1. electronvolts: electronvolt\n",
    "1. elementary_charge: elementary_charge\n",
    "1. energy: Dimension(energy, E)\n",
    "1. exa: Prefix('exa', 'E', 18)\n",
    "1. exbi: Prefix('exbi', 'Y', 60, 2)\n",
    "1. exbibyte: exbibyte\n",
    "1. exbibytes: exbibyte\n",
    "1. farad: farad\n",
    "1. faraday_constant: faraday_constant\n",
    "1. farads: farad\n",
    "1. feet: foot\n",
    "1. femto: Prefix('femto', 'f', -15)\n",
    "1. foot: foot\n",
    "1. force: Dimension(force, F)\n",
    "1. frequency: Dimension(frequency, f)\n",
    "1. ft: foot\n",
    "1. full_moon_cycle: full_moon_cycle\n",
    "1. full_moon_cycles: full_moon_cycle\n",
    "1. g: gram\n",
    "1. gaussian_year: gaussian_year\n",
    "1. gaussian_years: gaussian_year\n",
    "1. gee: acceleration_due_to_gravity\n",
    "1. gees: acceleration_due_to_gravity\n",
    "1. gibi: Prefix('gibi', 'Y', 30, 2)\n",
    "1. gibibyte: gibibyte\n",
    "1. gibibytes: gibibyte\n",
    "1. giga: Prefix('giga', 'G', 9)\n",
    "1. gram: gram\n",
    "1. grams: gram\n",
    "1. gravitational_constant: gravitational_constant\n",
    "1. gray: gray\n",
    "1. h: hour\n",
    "1. hbar: hbar\n",
    "1. hecto: Prefix('hecto', 'h', 2)\n",
    "1. henry: henry\n",
    "1. henrys: henry\n",
    "1. hertz: hertz\n",
    "1. hour: hour\n",
    "1. hours: hour\n",
    "1. hz: hertz\n",
    "1. impedance: Dimension(impedance, Z)\n",
    "1. inch: inch\n",
    "1. inches: inch\n",
    "1. inductance: Dimension(inductance)\n",
    "1. josephson_constant: josephson_constant\n",
    "1. joule: joule\n",
    "1. joules: joule\n",
    "1. julian_year: julian_year\n",
    "1. julian_years: julian_year\n",
    "1. kPa: kilopascal\n",
    "1. kat: katal\n",
    "1. katal: katal\n",
    "1. kelvin: kelvin\n",
    "1. kelvins: kelvin\n",
    "1. kg: kilogram\n",
    "1. kibi: Prefix('kibi', 'Y', 10, 2)\n",
    "1. kibibyte: kibibyte\n",
    "1. kibibytes: kibibyte\n",
    "1. kilo: Prefix('kilo', 'k', 3)\n",
    "1. kilogram: kilogram\n",
    "1. kilograms: kilogram\n",
    "1. kilometer: kilometer\n",
    "1. kilometers: kilometer\n",
    "1. km: kilometer\n",
    "1. l: liter\n",
    "1. length: Dimension(length, L)\n",
    "1. lightyear: lightyear\n",
    "1. lightyears: lightyear\n",
    "1. liter: liter\n",
    "1. liters: liter\n",
    "1. luminosity: Dimension(luminous_intensity)\n",
    "1. luminous_intensity: Dimension(luminous_intensity)\n",
    "1. lux: lux\n",
    "1. lx: lux\n",
    "1. ly: lightyear\n",
    "1. m: meter\n",
    "1. magnetic_constant: magnetic_constant\n",
    "1. magnetic_density: Dimension(magnetic_density, B)\n",
    "1. magnetic_flux: Dimension(magnetic_flux)\n",
    "1. magnetic_flux_density: Dimension(magnetic_density, B)\n",
    "1. mass: Dimension(mass, M)\n",
    "1. mebi: Prefix('mebi', 'Y', 20, 2)\n",
    "1. mebibyte: mebibyte\n",
    "1. mebibytes: mebibyte\n",
    "1. mega: Prefix('mega', 'M', 6)\n",
    "1. meter: meter\n",
    "1. meters: meter\n",
    "1. mg: milligram\n",
    "1. mho: siemens\n",
    "1. mhos: siemens\n",
    "1. mi: mile\n",
    "1. micro: Prefix('micro', 'mu', -6)\n",
    "1. microgram: microgram\n",
    "1. micrograms: microgram\n",
    "1. micrometer: micrometer\n",
    "1. micrometers: micrometer\n",
    "1. micron: micrometer\n",
    "1. microns: micrometer\n",
    "1. microsecond: microsecond\n",
    "1. microseconds: microsecond\n",
    "1. mil: angular_mil\n",
    "1. mile: mile\n",
    "1. miles: mile\n",
    "1. milli: Prefix('milli', 'm', -3)\n",
    "1. milli_mass_unit: milli_mass_unit\n",
    "1. milligram: milligram\n",
    "1. milligrams: milligram\n",
    "1. milliliter: milliliter\n",
    "1. milliliters: milliliter\n",
    "1. millimeter: millimeter\n",
    "1. millimeters: millimeter\n",
    "1. millisecond: millisecond\n",
    "1. milliseconds: millisecond\n",
    "1. minute: minute\n",
    "1. minutes: minute\n",
    "1. ml: milliliter\n",
    "1. mm: millimeter\n",
    "1. mmHg: mmHg\n",
    "1. mmu: milli_mass_unit\n",
    "1. mmus: milli_mass_unit\n",
    "1. mol: mole\n",
    "1. molar_gas_constant: molar_gas_constant\n",
    "1. mole: mole\n",
    "1. moles: mole\n",
    "1. momentum: Dimension(momentum)\n",
    "1. ms: millisecond\n",
    "1. nano: Prefix('nano', 'n', -9)\n",
    "1. nanometer: nanometer\n",
    "1. nanometers: nanometer\n",
    "1. nanosecond: nanosecond\n",
    "1. nanoseconds: nanosecond\n",
    "1. nautical_mile: nautical_mile\n",
    "1. nautical_miles: nautical_mile\n",
    "1. newton: newton\n",
    "1. newtons: newton\n",
    "1. nm: nanometer\n",
    "1. nmi: nautical_mile\n",
    "1. ns: nanosecond\n",
    "1. ohm: ohm\n",
    "1. ohms: ohm\n",
    "1. optical_power: dioptre\n",
    "1. pa: pascal\n",
    "1. pascal: pascal\n",
    "1. pascals: pascal\n",
    "1. pebi: Prefix('pebi', 'Y', 50, 2)\n",
    "1. pebibyte: pebibyte\n",
    "1. pebibytes: pebibyte\n",
    "1. percent: percent\n",
    "1. percents: percent\n",
    "1. permille: permille\n",
    "1. peta: Prefix('peta', 'P', 15)\n",
    "1. pico: Prefix('pico', 'p', -12)\n",
    "1. picometer: picometer\n",
    "1. picometers: picometer\n",
    "1. picosecond: picosecond\n",
    "1. picoseconds: picosecond\n",
    "1. planck: planck\n",
    "1. planck_acceleration: planck_acceleration\n",
    "1. planck_angular_frequency: planck_angular_frequency\n",
    "1. planck_area: planck_area\n",
    "1. planck_charge: planck_charge\n",
    "1. planck_current: planck_current\n",
    "1. planck_density: planck_density\n",
    "1. planck_energy: planck_energy\n",
    "1. planck_energy_density: planck_energy_density\n",
    "1. planck_force: planck_force\n",
    "1. planck_impedance: planck_impedance\n",
    "1. planck_intensity: planck_intensity\n",
    "1. planck_length: planck_length\n",
    "1. planck_mass: planck_mass\n",
    "1. planck_momentum: planck_momentum\n",
    "1. planck_power: planck_power\n",
    "1. planck_pressure: planck_pressure\n",
    "1. planck_temperature: planck_temperature\n",
    "1. planck_time: planck_time\n",
    "1. planck_voltage: planck_voltage\n",
    "1. planck_volume: planck_volume\n",
    "1. pm: picometer\n",
    "1. pound: pound\n",
    "1. pounds: pound\n",
    "1. power: Dimension(power)\n",
    "1. pressure: Dimension(pressure)\n",
    "1. ps: picosecond\n",
    "1. psi: psi\n",
    "1. quart: quart\n",
    "1. quarts: quart\n",
    "1. rad: radian\n",
    "1. radian: radian\n",
    "1. radians: radian\n",
    "1. s: second\n",
    "1. second: second\n",
    "1. seconds: second\n",
    "1. sidereal_year: sidereal_year\n",
    "1. sidereal_years: sidereal_year\n",
    "1. siemens: siemens\n",
    "1. speed: Dimension(velocity)\n",
    "1. speed_of_light: speed_of_light\n",
    "1. sr: steradian\n",
    "1. stefan: stefan_boltzmann_constant\n",
    "1. stefan_boltzmann_constant: stefan_boltzmann_constant\n",
    "1. steradian: steradian\n",
    "1. steradians: steradian\n",
    "1. tebi: Prefix('tebi', 'Y', 40, 2)\n",
    "1. tebibyte: tebibyte\n",
    "1. tebibytes: tebibyte\n",
    "1. temperature: Dimension(temperature, T)\n",
    "1. tera: Prefix('tera', 'T', 12)\n",
    "1. tesla: tesla\n",
    "1. teslas: tesla\n",
    "1. time: Dimension(time, T)\n",
    "1. torr: mmHg\n",
    "1. tropical_year: tropical_year\n",
    "1. tropical_years: tropical_year\n",
    "1. u0: magnetic_constant\n",
    "1. ug: microgram\n",
    "1. um: micrometer\n",
    "1. us: microsecond\n",
    "1. v: volt\n",
    "1. vacuum_impedance: vacuum_impedance\n",
    "1. vacuum_permeability: magnetic_constant\n",
    "1. vacuum_permittivity: vacuum_permittivity\n",
    "1. velocity: Dimension(velocity)\n",
    "1. volt: volt\n",
    "1. voltage: Dimension(voltage, U)\n",
    "1. volts: volt\n",
    "1. volume: Dimension(volume)\n",
    "1. von_klitzing_constant: von_klitzing_constant\n",
    "1. watt: watt\n",
    "1. watts: watt\n",
    "1. wb: weber\n",
    "1. weber: weber\n",
    "1. webers: weber\n",
    "1. yard: yard\n",
    "1. yards: yard\n",
    "1. yd: yard\n",
    "1. year: tropical_year\n",
    "1. years: tropical_year\n",
    "1. yocto: Prefix('yocto', 'y', -24)\n",
    "1. yotta: Prefix('yotta', 'Y', 24)\n",
    "1. zepto: Prefix('zepto', 'z', -21)\n",
    "1. zetta: Prefix('zetta', 'Z', 21)"
   ]
  },
  {
   "cell_type": "markdown",
   "id": "16942fcc",
   "metadata": {},
   "source": [
    "# Homework 1"
   ]
  },
  {
   "cell_type": "markdown",
   "id": "0a44436e",
   "metadata": {},
   "source": [
    "If a particle iis moving in space with a velocity function of $v(t) = t^2 - 2t - 8$ where t is in seconds \n",
    "and the velocity is measured in meters/second:\n",
    "\n",
    "1. Plot the function.\n",
    "2. At what time(s) is the particle at rest (i.e. $v(t) = 0$)? \n",
    "3. What is the acceleration of the particle at a time of 5.3 seconds into its trajectory? (Hint: acceleration is the first derivative of the velocity)\n",
    "\n",
    "Source: https://www.georgebrown.ca/sites/default/files/2020-05/Applications%20of%20Derivatives.pdf"
   ]
  },
  {
   "cell_type": "code",
   "execution_count": null,
   "id": "997ce091",
   "metadata": {},
   "outputs": [],
   "source": [
    "t = sympy.symbols('t')\n",
    "velocity_function = t**2 - 2*t - 8"
   ]
  },
  {
   "cell_type": "code",
   "execution_count": null,
   "id": "a81d259f",
   "metadata": {},
   "outputs": [],
   "source": [
    "plot_velocity = sympy.plot(velocity_function)"
   ]
  },
  {
   "cell_type": "markdown",
   "id": "70f9769b",
   "metadata": {},
   "source": [
    "1. At what time(s) is the particle at rest (i.e. $v(t) = 0$)?\n",
    "    - That means we need to find the roots of the equation."
   ]
  },
  {
   "cell_type": "code",
   "execution_count": null,
   "id": "b84fd730",
   "metadata": {},
   "outputs": [],
   "source": [
    "solutions = sympy.solve(velocity_function)\n",
    "solutions"
   ]
  },
  {
   "cell_type": "markdown",
   "id": "a694ded5",
   "metadata": {},
   "source": [
    "However, since a negative time is not possible, the answer to the question is 4 seconds."
   ]
  },
  {
   "cell_type": "markdown",
   "id": "b534a2f0",
   "metadata": {},
   "source": [
    "2. What is the acceleration of the particle at t=3 seconds?\n",
    "    - The acceleration is the first derivative of the velecity"
   ]
  },
  {
   "cell_type": "code",
   "execution_count": null,
   "id": "564b8dc8",
   "metadata": {},
   "outputs": [],
   "source": [
    "first_derivative = velocity_function.diff(t, 1)\n",
    "first_derivative"
   ]
  },
  {
   "cell_type": "code",
   "execution_count": null,
   "id": "548b8c74",
   "metadata": {},
   "outputs": [],
   "source": [
    "acceleration_3s = first_derivative.evalf(subs = {t: 5.3})\n",
    "acceleration_3s"
   ]
  },
  {
   "cell_type": "code",
   "execution_count": null,
   "id": "28473b4d",
   "metadata": {},
   "outputs": [],
   "source": [
    "f'The acceleration of the particle at 3.0 seconds into its trajectory is {acceleration_3s:0.1f} m/s.'"
   ]
  },
  {
   "cell_type": "markdown",
   "id": "8478353b",
   "metadata": {},
   "source": [
    "---\n",
    "## Homework 2\n",
    "A soccer ball that is kicked into the air has its position (units: meters) described by the following equation:\n",
    "    $x(t) = -4.9t^2 + 9.8t + 5$, where t is time (units: seconds).\n",
    "    \n",
    "1. Plot the equation that describes the soccer ball's position as a function of time\n",
    "2. At what time (using 3 significant figures) will the ball land?\n",
    "3. How many meters above ground was the ball kicked? \n",
    "4. What is the maximum height the ball will reach and at what time will this occur? \n",
    "5. What is the acceleration of the ball at t=3 s? \n",
    "    \n",
    "Source: https://www.georgebrown.ca/sites/default/files/2020-05/Applications%20of%20Derivatives.pdf"
   ]
  },
  {
   "cell_type": "code",
   "execution_count": null,
   "id": "70279b46",
   "metadata": {},
   "outputs": [],
   "source": [
    "t = sympy.symbols('t')\n",
    "position_function = -4.9*t**2 +9.8*t + 0.3"
   ]
  },
  {
   "cell_type": "code",
   "execution_count": null,
   "id": "8dd196aa",
   "metadata": {},
   "outputs": [],
   "source": [
    "plot_position = sympy.plot(position_function, (t, 0, 2))"
   ]
  },
  {
   "cell_type": "markdown",
   "id": "7bf7ad56",
   "metadata": {},
   "source": [
    "2. At what time will the ball land?\n",
    "    - This will occur when $x(t) = 0$, so find the roots of the equation"
   ]
  },
  {
   "cell_type": "code",
   "execution_count": null,
   "id": "f475098d",
   "metadata": {},
   "outputs": [],
   "source": [
    "solutions = sympy.solve(position_function)\n",
    "solutions"
   ]
  },
  {
   "cell_type": "markdown",
   "id": "383db9f0",
   "metadata": {},
   "source": [
    "Since a negative time does not make sense, the only solution is the other value."
   ]
  },
  {
   "cell_type": "code",
   "execution_count": null,
   "id": "bdd4c1c2",
   "metadata": {},
   "outputs": [],
   "source": [
    "f'The ball will land after {solutions[1]:0.2f} seconds.'"
   ]
  },
  {
   "cell_type": "markdown",
   "id": "eeed9449",
   "metadata": {},
   "source": [
    "3. How many meters above ground was the ball kicked?\n",
    "    - This occurs at a time of zero (i.e. t=0)"
   ]
  },
  {
   "cell_type": "code",
   "execution_count": null,
   "id": "5fd94683",
   "metadata": {},
   "outputs": [],
   "source": [
    "height_0t = position_function.evalf(subs = {t: 0})\n",
    "f'The ball was kicked {height_0t:0.2f} meters above the ground.'"
   ]
  },
  {
   "cell_type": "markdown",
   "id": "4a0d88cd",
   "metadata": {},
   "source": [
    "4. What is the maximum height the ball will reach and at what time will this occur?\n",
    "    - This occurs when the acceleration is equal to zero."
   ]
  },
  {
   "cell_type": "code",
   "execution_count": null,
   "id": "d573b2b0",
   "metadata": {},
   "outputs": [],
   "source": [
    "first_derivative = position_function.diff(t, 1)\n",
    "first_derivative"
   ]
  },
  {
   "cell_type": "code",
   "execution_count": null,
   "id": "6adeaac4",
   "metadata": {},
   "outputs": [],
   "source": [
    "acceleration_0 = sympy.solve(first_derivative)\n",
    "acceleration_0"
   ]
  },
  {
   "cell_type": "code",
   "execution_count": null,
   "id": "255321de",
   "metadata": {},
   "outputs": [],
   "source": [
    "f\"The maximum height occurs at {acceleration_0[0]:0.2f} seconds into the ball's flight\""
   ]
  },
  {
   "cell_type": "markdown",
   "id": "5a63fadc",
   "metadata": {},
   "source": [
    "Now that you know the time, put this value back into the original equation and solve:"
   ]
  },
  {
   "cell_type": "code",
   "execution_count": null,
   "id": "fbfc9b39",
   "metadata": {},
   "outputs": [],
   "source": [
    "height_max = position_function.evalf(subs = {t: acceleration_0[0]})\n",
    "height_max"
   ]
  },
  {
   "cell_type": "code",
   "execution_count": null,
   "id": "48542216",
   "metadata": {},
   "outputs": [],
   "source": [
    "f'The maximum height the ball reaches after {acceleration_0[0]:0.2f} second is {height_max:0.2f} meters.'"
   ]
  },
  {
   "cell_type": "markdown",
   "id": "e1f8f57a",
   "metadata": {},
   "source": [
    "5. What is the acceleration (with direction) of the ball at t=3 s?\n",
    "    - The acceleration is the second derivative of the position (i.e. first derivative of the velocity)"
   ]
  },
  {
   "cell_type": "code",
   "execution_count": null,
   "id": "84fc08d1",
   "metadata": {},
   "outputs": [],
   "source": [
    "second_derivative = position_function.diff(t, 2)\n",
    "second_derivative"
   ]
  },
  {
   "cell_type": "markdown",
   "id": "ce724eb7",
   "metadata": {},
   "source": [
    "The negative of the acceleration tells you that it is downward."
   ]
  },
  {
   "cell_type": "markdown",
   "id": "a6909604",
   "metadata": {},
   "source": [
    "## Homework 3\n",
    "\n",
    "#### van der Waals interaction\n",
    "Atoms can be simulated using Newtonian physics. One of the strongest \"nonbonded\" (i.e. not covlently bonded) interactions between atoms is called the van der Waals interaction. \n",
    "\n",
    "The van der Waals interaction encompasses two forces:\n",
    "- a long-range attractive London dispersion, and\n",
    "- a short-range Pauli exclusion principle\n",
    "\n",
    "One possible (and popular) mathematical function to model the van der Waals interaction is the Lennard-Jones **potential energy** model.\n",
    "\n",
    "The **attractive London dispersion** potential energy ($V(r)$):\n",
    "\n",
    "$V_{\\text{attractive}}(r) = −4ε \\left( \\dfrac{σ}{r} \\right)^6$\n",
    "\n",
    "The **repulsive Pauli exlusion**:\n",
    "\n",
    "$V_{\\text{repulsive}}(r) = 4ε \\left( \\dfrac{σ}{r}\\right)^{12}$\n",
    "\n",
    "- σ: the distance where the potential energy (V) between the two particles is zero\n",
    "- ε: the potential energy at the equilibrium separation\n",
    "- r: the distance between the two atoms\n",
    "\n",
    "---\n",
    "\n",
    "Put these together for a **6-12 Lennard-Jones Potential Energy Function**:\n",
    "\n",
    "$V_{LJ}(r) = 4ε \\left[ \\left( \\dfrac {σ} {r}\\right) ^{12}-\\left( \\dfrac {σ} {r}\\right) ^{6}\\right]$\n",
    "\n",
    "The attractive term is a sixth-power dependency on the distance between the two bonded particles.\n",
    "\n",
    "The repulsive term is a twelfth-power dependency on the distance."
   ]
  },
  {
   "cell_type": "markdown",
   "id": "8e622c08",
   "metadata": {},
   "source": [
    "---\n",
    "\n",
    "\n",
    "### Force and Acceleration\n",
    "\n",
    "To simulate how atoms (or molecules) move in time, one needs to compute the forces and acceleration. The starting point for this is Newton’s second law of motion:\n",
    "\n",
    "$\\mathbf{f}=m\\mathbf{a}$\n",
    "\n",
    "where $\\mathbf{f}$ is the force vector on an atom of mass $m$, with an acceleration vector $\\mathbf{a}$.\n",
    "\n",
    "The force, $\\mathbf{f}$, between two particles, at a distance $r$, can be found by taking the negative of the first derivative of of the potential energy with respect to the postion of the particles:\n",
    "\n",
    "$f=−\\frac{∂V(r)}{∂r}$.\n",
    "\n",
    "First derivative the 6-12 Lennard-Jones Potential:\n",
    "\n",
    "$V_{LJ} = 4ε \\left[ \\left( \\dfrac {σ} {r}\\right) ^{12}-\\left( \\dfrac {σ} {r}\\right) ^{6}\\right]$\n",
    "\n",
    "$V_{LJ} = 4ε\\left[ \\left(\\dfrac{σ}{r}\\right)^{12} − \\left(\\dfrac{σ}{r}\\right)^6\\right]$\n",
    "\n",
    "Simplify and rename variables (i.e. $A = σ^{12}$ and $B = σ^{6}$)\n",
    "\n",
    "$V(r) = 4ε\\left[ \\left(\\dfrac{A}{r^{12}}\\right) − \\left(\\dfrac{B}{r^6}\\right)\\right]$\n",
    "\n",
    "$\\dfrac{\\partial V(r)}{\\partial r} = 4ε\\left[-12 \\left(\\dfrac{A}{r^{13}} \\right) − \\left( -6\\dfrac{B}{r^7} \\right)\\right]$\n",
    "\n",
    "$\\dfrac{\\partial V(r)}{\\partial r} = 24ε\\left[-2 \\left(\\dfrac{A}{r^{13}} \\right) +  \\left(\\dfrac{B}{r^7} \\right)\\right]$\n",
    "\n",
    "$\\dfrac{\\partial V(r)}{\\partial r} = \\dfrac{24ε}{r}\\left[-2 \\left(\\dfrac{A}{r^{12}} \\right) + \\left(\\dfrac{B}{r^6} \\right)\\right]$\n",
    "\n",
    "$\\dfrac{\\partial V(r)}{\\partial r} = -\\dfrac{24ε}{r} \\left[ 2 \\left( \\dfrac{σ}{r} \\right)^{12} - \\left( \\dfrac{σ}{r} \\right) ^6 \\right]$\n",
    "\n",
    "<br><br><br>\n",
    "Therefore, for **coding the force**:\n",
    "\n",
    "$\\mathbf{f} = - \\dfrac{\\partial V(r)}{\\partial r} = 48ε \\left( \\dfrac{σ^{12}}{r^{13}} \\right) - 24ε \\left( \\dfrac{σ^6}{r^7} \\right)$\n",
    "\n",
    "---\n",
    "\n",
    "The Python code below creates a new function that is capable of calculating the force from the Lennard-Jones potential. The force on the atoms is then plotted.\n"
   ]
  },
  {
   "cell_type": "markdown",
   "id": "a9cd1b9e",
   "metadata": {},
   "source": [
    "#### Atomic system to simulate\n",
    "\n",
    "$Ar_2$\n",
    "- $\\epsilon = 0.0103$\n",
    "- $\\sigma = 3.40$"
   ]
  },
  {
   "cell_type": "code",
   "execution_count": null,
   "id": "d42dff81",
   "metadata": {},
   "outputs": [],
   "source": [
    "import numpy as np\n",
    "\n",
    "r, sigma, epsilon = sympy.symbols('r sigma epsilon')"
   ]
  },
  {
   "cell_type": "code",
   "execution_count": null,
   "id": "0dc680e6",
   "metadata": {},
   "outputs": [],
   "source": [
    "lj_equation = (4 * epsilon * ((sigma / r)**12 - (sigma / r)**6))\n",
    "lj_equation"
   ]
  },
  {
   "cell_type": "code",
   "execution_count": null,
   "id": "6582248c",
   "metadata": {},
   "outputs": [],
   "source": [
    "lj_equation_2der = - lj_equation.diff(r, 1)\n",
    "lj_equation_2der"
   ]
  },
  {
   "cell_type": "code",
   "execution_count": null,
   "id": "720090ee",
   "metadata": {},
   "outputs": [],
   "source": [
    "sympy.expand(lj_equation_2der)"
   ]
  },
  {
   "cell_type": "code",
   "execution_count": null,
   "id": "45247e96",
   "metadata": {},
   "outputs": [],
   "source": [
    "sympy.simplify(lj_equation_2der)"
   ]
  },
  {
   "cell_type": "code",
   "execution_count": null,
   "id": "ffd25fc4",
   "metadata": {},
   "outputs": [],
   "source": [
    "distances = np.linspace(3.5, 8.0, 100)\n",
    "distances"
   ]
  },
  {
   "cell_type": "code",
   "execution_count": null,
   "id": "5f18daaf",
   "metadata": {},
   "outputs": [],
   "source": [
    "for dist in distances:\n",
    "    F_LJ = lj_equation_2der.evalf(subs = {epsilon: 0.0103, sigma: 3.40, r: dist})\n",
    "    print(f'{F_LJ:0.5f}')"
   ]
  },
  {
   "cell_type": "markdown",
   "id": "e11d733c",
   "metadata": {},
   "source": [
    "## Homework 4\n",
    "\n",
    "**Rayleigh-Jeans Law** (named after Lord Rayleigh of Britain) was an attempt to describe **intensity** (i.e. **energy output** or spectral radiance) of an **object** at all wavelengths.\n",
    "\n",
    "The Rayleigh-Jeans Law can be expresed either as a function of the wavelength, or of the frequency:\n",
    "\n",
    "1. Wavelength: $B_{\\rm \\lambda}(T) = \\frac{2ckT}{\\lambda^4}$\n",
    "\n",
    "\n",
    "2. Frequency: $B_{\\rm \\nu}(T) = \\frac{2{\\nu}kT}{c^2}$\n",
    "\n",
    "where $k_B$ is Boltzmann's constant, $c$ is the speed of light, $T$ is the temperature."
   ]
  },
  {
   "cell_type": "code",
   "execution_count": 1,
   "id": "30750f8d",
   "metadata": {},
   "outputs": [],
   "source": [
    "import sympy\n",
    "from sympy.physics.units import boltzmann\n",
    "from sympy.physics.units import convert_to\n",
    "from sympy.physics.units import speed_of_light\n",
    "from sympy.physics.units import nanometer, meter, kilogram, second, kelvin\n",
    "\n",
    "lam, nu, k = sympy.symbols('lamda nu k')"
   ]
  },
  {
   "cell_type": "code",
   "execution_count": 2,
   "id": "08c985b9",
   "metadata": {},
   "outputs": [
    {
     "data": {
      "text/latex": [
       "$\\displaystyle \\text{boltzmann_constant}$"
      ],
      "text/plain": [
       "boltzmann_constant"
      ]
     },
     "execution_count": 2,
     "metadata": {},
     "output_type": "execute_result"
    }
   ],
   "source": [
    "boltzmann"
   ]
  },
  {
   "cell_type": "code",
   "execution_count": 3,
   "id": "c5eef9d0",
   "metadata": {},
   "outputs": [
    {
     "data": {
      "text/latex": [
       "$\\displaystyle \\frac{1.380649 \\cdot 10^{-23} \\text{kg} \\text{m}^{2}}{\\text{K} \\text{s}^{2}}$"
      ],
      "text/plain": [
       "1.380649e-23*kilogram*meter**2/(kelvin*second**2)"
      ]
     },
     "execution_count": 3,
     "metadata": {},
     "output_type": "execute_result"
    }
   ],
   "source": [
    "convert_to(boltzmann, [meter, kilogram, second, kelvin])"
   ]
  },
  {
   "cell_type": "code",
   "execution_count": 4,
   "id": "155c155c",
   "metadata": {},
   "outputs": [
    {
     "data": {
      "text/latex": [
       "$\\displaystyle \\frac{1.380649 \\cdot 10^{-5} \\text{kg} \\text{nm}^{2}}{\\text{K} \\text{s}^{2}}$"
      ],
      "text/plain": [
       "1.380649e-5*kilogram*nanometer**2/(kelvin*second**2)"
      ]
     },
     "execution_count": 4,
     "metadata": {},
     "output_type": "execute_result"
    }
   ],
   "source": [
    "k_b_nm = convert_to(boltzmann, [nanometer, kilogram, second, kelvin])\n",
    "k = k_b_nm\n",
    "k"
   ]
  },
  {
   "cell_type": "code",
   "execution_count": 5,
   "id": "d1f53602",
   "metadata": {},
   "outputs": [
    {
     "data": {
      "text/latex": [
       "$\\displaystyle \\text{c}$"
      ],
      "text/plain": [
       "speed_of_light"
      ]
     },
     "execution_count": 5,
     "metadata": {},
     "output_type": "execute_result"
    }
   ],
   "source": [
    "speed_of_light"
   ]
  },
  {
   "cell_type": "code",
   "execution_count": 6,
   "id": "3b532323",
   "metadata": {},
   "outputs": [
    {
     "data": {
      "text/plain": [
       "True"
      ]
     },
     "execution_count": 6,
     "metadata": {},
     "output_type": "execute_result"
    }
   ],
   "source": [
    "speed_of_light.is_constant()"
   ]
  },
  {
   "cell_type": "code",
   "execution_count": 7,
   "id": "c99a55ff",
   "metadata": {},
   "outputs": [
    {
     "data": {
      "text/latex": [
       "$\\displaystyle \\frac{299792458000000000 \\text{nm}}{\\text{s}}$"
      ],
      "text/plain": [
       "299792458000000000*nanometer/second"
      ]
     },
     "execution_count": 7,
     "metadata": {},
     "output_type": "execute_result"
    }
   ],
   "source": [
    "c_nm = convert_to(speed_of_light, [nanometer, second])\n",
    "c_nm"
   ]
  },
  {
   "cell_type": "code",
   "execution_count": 8,
   "id": "fc77cc7f",
   "metadata": {},
   "outputs": [
    {
     "data": {
      "text/plain": [
       "True"
      ]
     },
     "execution_count": 8,
     "metadata": {},
     "output_type": "execute_result"
    }
   ],
   "source": [
    "c_nm.is_constant()"
   ]
  },
  {
   "cell_type": "code",
   "execution_count": 9,
   "id": "3ae6b4cf",
   "metadata": {},
   "outputs": [],
   "source": [
    "temperature = 5000"
   ]
  },
  {
   "cell_type": "code",
   "execution_count": 10,
   "id": "1b51a63b",
   "metadata": {},
   "outputs": [
    {
     "data": {
      "text/latex": [
       "$\\displaystyle \\frac{4.13908157345242 \\cdot 10^{16} \\text{kg} \\text{nm}^{3}}{\\lambda^{4} \\text{K} \\text{s}^{3}}$"
      ],
      "text/plain": [
       "4.13908157345242e+16*kilogram*nanometer**3/(kelvin*second**3*lamda**4)"
      ]
     },
     "execution_count": 10,
     "metadata": {},
     "output_type": "execute_result"
    }
   ],
   "source": [
    "rj_wave = 2*c_nm*k_b_nm*temperature/lam**4\n",
    "rj_wave"
   ]
  },
  {
   "cell_type": "code",
   "execution_count": 11,
   "id": "980ac623",
   "metadata": {},
   "outputs": [
    {
     "data": {
      "text/latex": [
       "$\\displaystyle \\frac{4.13908157345242 \\cdot 10^{16}}{\\lambda^{4}}$"
      ],
      "text/plain": [
       "4.13908157345242e+16/lamda**4"
      ]
     },
     "execution_count": 11,
     "metadata": {},
     "output_type": "execute_result"
    }
   ],
   "source": [
    "rj_wave = 2*299792458000000000*1.380649E-5*temperature/lam**4\n",
    "rj_wave"
   ]
  },
  {
   "cell_type": "code",
   "execution_count": 12,
   "id": "d01349c5",
   "metadata": {},
   "outputs": [
    {
     "data": {
      "text/plain": [
       "{lamda}"
      ]
     },
     "execution_count": 12,
     "metadata": {},
     "output_type": "execute_result"
    }
   ],
   "source": [
    "rj_wave.free_symbols"
   ]
  },
  {
   "cell_type": "code",
   "execution_count": 13,
   "id": "5adbb2d1",
   "metadata": {},
   "outputs": [],
   "source": [
    "wavelengths = range(1, 30, 1)\n"
   ]
  },
  {
   "cell_type": "code",
   "execution_count": 14,
   "id": "3aef6674",
   "metadata": {},
   "outputs": [
    {
     "name": "stdout",
     "output_type": "stream",
     "text": [
      "4.13908157345242e+16\n",
      "2.58692598340776e+15\n",
      "510997725117583.\n",
      "161682873962985.\n",
      "66225305175238.7\n",
      "31937357819848.9\n",
      "17238990310089.2\n",
      "10105179622686.6\n",
      "6308613890340.53\n",
      "4139081573452.42\n",
      "2827048407521.63\n",
      "1996084863740.56\n",
      "1449207511450.03\n",
      "1077436894380.58\n",
      "817596360188.132\n",
      "631573726417.911\n",
      "495573756714.170\n",
      "394288368146.283\n",
      "317606646162.354\n",
      "258692598340.776\n",
      "212827040865.299\n",
      "176690525470.102\n",
      "147908332712.234\n",
      "124755303983.785\n",
      "105960488280.382\n",
      "90575469465.6266\n",
      "77884122102.9695\n",
      "67339805898.7860\n",
      "58521034404.3233\n"
     ]
    },
    {
     "data": {
      "text/plain": [
       "[4.13908157345242e+16,\n",
       " 2.58692598340776e+15,\n",
       " 510997725117583.,\n",
       " 161682873962985.,\n",
       " 66225305175238.7,\n",
       " 31937357819848.9,\n",
       " 17238990310089.2,\n",
       " 10105179622686.6,\n",
       " 6308613890340.53,\n",
       " 4139081573452.42,\n",
       " 2827048407521.63,\n",
       " 1996084863740.56,\n",
       " 1449207511450.03,\n",
       " 1077436894380.58,\n",
       " 817596360188.132,\n",
       " 631573726417.911,\n",
       " 495573756714.170,\n",
       " 394288368146.283,\n",
       " 317606646162.354,\n",
       " 258692598340.776,\n",
       " 212827040865.299,\n",
       " 176690525470.102,\n",
       " 147908332712.234,\n",
       " 124755303983.785,\n",
       " 105960488280.382,\n",
       " 90575469465.6266,\n",
       " 77884122102.9695,\n",
       " 67339805898.7860,\n",
       " 58521034404.3233]"
      ]
     },
     "execution_count": 14,
     "metadata": {},
     "output_type": "execute_result"
    }
   ],
   "source": [
    "B_list = []\n",
    "for length in wavelengths:\n",
    "    B = rj_wave.evalf(subs = {lam: length})\n",
    "    B_list.append(B)\n",
    "    print(B)\n",
    "B_list"
   ]
  },
  {
   "cell_type": "code",
   "execution_count": 26,
   "id": "4bc89d0f",
   "metadata": {},
   "outputs": [
    {
     "data": {
      "image/png": "[encoded data removed]",
      "text/plain": [
       "<Figure size 432x288 with 1 Axes>"
      ]
     },
     "metadata": {
      "needs_background": "light"
     },
     "output_type": "display_data"
    },
    {
     "data": {
      "text/plain": [
       "<sympy.plotting.plot.Plot at 0x7ff207cfbaf0>"
      ]
     },
     "execution_count": 26,
     "metadata": {},
     "output_type": "execute_result"
    }
   ],
   "source": [
    "graph = sympy.plot(rj_wave, (lam, 1, 3),\n",
    "           xlim= (0, 3), axis_center=(0.0, 0.0),\n",
    "           ylabel='intensity', xlabel='wavelength (micrometer)')\n",
    "graph"
   ]
  },
  {
   "cell_type": "code",
   "execution_count": 24,
   "id": "efb90efa",
   "metadata": {},
   "outputs": [
    {
     "data": {
      "image/png": "[encoded data removed]",
      "text/plain": [
       "<Figure size 432x288 with 1 Axes>"
      ]
     },
     "metadata": {
      "needs_background": "light"
     },
     "output_type": "display_data"
    }
   ],
   "source": [
    "import matplotlib.pyplot as plt\n",
    "backend = graph.backend(graph)\n",
    "backend.process_series()\n",
    "backend.plt.savefig('rj_wavelength.png', dpi=300)\n",
    "backend.show()"
   ]
  },
  {
   "cell_type": "code",
   "execution_count": 17,
   "id": "cfabd349",
   "metadata": {},
   "outputs": [],
   "source": [
    "from IPython.display import display, Latex\n",
    "from sympy import *\n",
    "import sympy.physics.units as U\n",
    "c = U.speed_of_light\n",
    "G = U.gravitational_constant\n",
    "hb = U.hbar"
   ]
  },
  {
   "cell_type": "code",
   "execution_count": null,
   "id": "0ea1dbf9",
   "metadata": {},
   "outputs": [],
   "source": [
    "help(U)"
   ]
  },
  {
   "cell_type": "code",
   "execution_count": null,
   "id": "0a0ef7e0",
   "metadata": {},
   "outputs": [],
   "source": [
    "U.convert_to(sqrt(hb*G/(c**3)), U.SI._base_units).evalf()"
   ]
  },
  {
   "cell_type": "code",
   "execution_count": null,
   "id": "ca8a1151",
   "metadata": {},
   "outputs": [],
   "source": []
  }
 ],
 "metadata": {
  "kernelspec": {
   "display_name": "Python 3",
   "language": "python",
   "name": "python3"
  },
  "language_info": {
   "codemirror_mode": {
    "name": "ipython",
    "version": 3
   },
   "file_extension": ".py",
   "mimetype": "text/x-python",
   "name": "python",
   "nbconvert_exporter": "python",
   "pygments_lexer": "ipython3",
   "version": "3.8.5"
  }
 },
 "nbformat": 4,
 "nbformat_minor": 5
}
