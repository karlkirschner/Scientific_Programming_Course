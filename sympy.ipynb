{
 "cells": [
  {
   "cell_type": "markdown",
   "id": "0a9a849b",
   "metadata": {},
   "source": [
    "<div class=\"alert block alert-info alert\">\n",
    "\n",
    "# <center> Scientific Programming in Python\n",
    "\n",
    "## <center>Karl N. Kirschner<br>Bonn-Rhein-Sieg University of Applied Sciences<br>Sankt Augustin, Germany\n",
    "\n",
    "# <center>  sympy - Symbolic (Mathematics) Python\n",
    "    \n",
    "Sympy is an Python computing algebra system that has some similar functions to Matlab. \n",
    "\n",
    "    \n",
    "Main site: https://docs.sympy.org/latest/index.html\n",
    "\n",
    "Github Wiki: https://github.com/sympy/sympy/wiki\n",
    "\n",
    "<hr style=\"border:2px solid gray\"></hr>\n",
    "\n",
    "**Citing Numpy**: \n",
    "\n",
    "1. Meurer A, Smith CP, Paprocki M, Čertík O, Kirpichev SB, Rocklin M, Kumar A, Ivanov S, Moore JK, Singh S, Rathnayake T, Vig S, Granger BE, Muller RP, Bonazzi F, Gupta H, Vats S, Johansson F, Pedregosa F, Curry MJ, Terrel AR, Roučka Š, Saboo A, Fernando I, Kulal S, Cimrman R, Scopatz A. (2017) sympy: symbolic computing in Python. PeerJ Computer Science 3:e103 https://doi.org/10.7717/peerj-cs.103\n",
    "\n",
    "\n",
    "@Article{10.7717/peerj-cs.103,  \n",
    "  title         = {sympy: symbolic computing in Python},  \n",
    "  author        = {Meurer, Aaron and Smith, Christopher P. and Paprocki, Mateusz and \\v{C}ert\\'{i}k, Ond\\v{r}ej and Kirpichev, Sergey B. and Rocklin, Matthew and Kumar, AMiT and Ivanov, Sergiu and Moore, Jason K. and Singh, Sartaj and Rathnayake, Thilina and Vig, Sean and Granger, Brian E. and Muller, Richard P. and Bonazzi, Francesco and Gupta, Harsh and Vats, Shivam and Johansson, Fredrik and Pedregosa, Fabian and Curry, Matthew J. and Terrel, Andy R. and Rou\\v{c}ka, \\v{S}t\\v{e}p\\'{a}n and Saboo, Ashutosh and Fernando, Isuru and Kulal, Sumith and Cimrman, Robert and Scopatz, Anthony},  \n",
    "  year          = 2017,  \n",
    "  month         = jan,  \n",
    "  keywords      = {Python, Computer algebra system, Symbolics},  \n",
    "  abstract      = {sympy is an open source computer algebra system written in pure Python. It is built with a focus on extensibility and ease of use, through both interactive and programmatic applications. These characteristics have led sympy to become a popular symbolic library for the scientific Python ecosystem. This paper presents the architecture of sympy, a description of its features, and a discussion of select submodules. The supplementary material provide additional examples and further outline details of the architecture and features of sympy.},  \n",
    "  volume        = 3,  \n",
    "  pages         = {e103},  \n",
    "  journal       = {PeerJ Computer Science},  \n",
    "  issn          = {2376-5992},  \n",
    "  url           = {https://doi.org/10.7717/peerj-cs.103},  \n",
    "  doi           = {10.7717/peerj-cs.103}  \n",
    "}"
   ]
  },
  {
   "cell_type": "code",
   "execution_count": 1,
   "id": "53914935",
   "metadata": {},
   "outputs": [],
   "source": [
    "import sympy"
   ]
  },
  {
   "cell_type": "markdown",
   "id": "cbb5a88f",
   "metadata": {},
   "source": [
    "## Number representation"
   ]
  },
  {
   "cell_type": "code",
   "execution_count": 8,
   "id": "57d744a8",
   "metadata": {},
   "outputs": [
    {
     "data": {
      "text/latex": [
       "$\\displaystyle \\sqrt{7}$"
      ],
      "text/plain": [
       "sqrt(7)"
      ]
     },
     "execution_count": 8,
     "metadata": {},
     "output_type": "execute_result"
    }
   ],
   "source": [
    "sympy.sqrt(7)"
   ]
  },
  {
   "cell_type": "code",
   "execution_count": 9,
   "id": "c743e668",
   "metadata": {},
   "outputs": [
    {
     "data": {
      "text/latex": [
       "$\\displaystyle 2.25$"
      ],
      "text/plain": [
       "2.25000000000000"
      ]
     },
     "execution_count": 9,
     "metadata": {},
     "output_type": "execute_result"
    }
   ],
   "source": [
    "sympy.Float(9/4)"
   ]
  },
  {
   "cell_type": "code",
   "execution_count": 10,
   "id": "bb89cbce",
   "metadata": {},
   "outputs": [
    {
     "data": {
      "text/latex": [
       "$\\displaystyle 2$"
      ],
      "text/plain": [
       "2"
      ]
     },
     "execution_count": 10,
     "metadata": {},
     "output_type": "execute_result"
    }
   ],
   "source": [
    "sympy.Integer(9/4) ## drops the fractional part"
   ]
  },
  {
   "cell_type": "code",
   "execution_count": 11,
   "id": "7fee3b0e",
   "metadata": {},
   "outputs": [
    {
     "data": {
      "text/latex": [
       "$\\displaystyle \\frac{9}{4}$"
      ],
      "text/plain": [
       "9/4"
      ]
     },
     "execution_count": 11,
     "metadata": {},
     "output_type": "execute_result"
    }
   ],
   "source": [
    "sympy.Rational(9/4)"
   ]
  },
  {
   "cell_type": "markdown",
   "id": "70498bde",
   "metadata": {},
   "source": [
    "## Defining variables (i.e. symbols)"
   ]
  },
  {
   "cell_type": "code",
   "execution_count": 12,
   "id": "b5109d43",
   "metadata": {},
   "outputs": [],
   "source": [
    "x, y, z, t = sympy.symbols('x y z t')"
   ]
  },
  {
   "cell_type": "markdown",
   "id": "349959c2",
   "metadata": {},
   "source": [
    "## Expresssions\n",
    "\n",
    "- can type them directly into the cell:"
   ]
  },
  {
   "cell_type": "code",
   "execution_count": 13,
   "id": "be3cdcdd",
   "metadata": {},
   "outputs": [
    {
     "data": {
      "text/latex": [
       "$\\displaystyle x^{2} + 3 x + 2$"
      ],
      "text/plain": [
       "x**2 + 3*x + 2"
      ]
     },
     "execution_count": 13,
     "metadata": {},
     "output_type": "execute_result"
    }
   ],
   "source": [
    "x**2+3*x+2"
   ]
  },
  {
   "cell_type": "code",
   "execution_count": 14,
   "id": "ec29ee76",
   "metadata": {},
   "outputs": [
    {
     "data": {
      "text/plain": [
       "sympy.core.add.Add"
      ]
     },
     "execution_count": 14,
     "metadata": {},
     "output_type": "execute_result"
    }
   ],
   "source": [
    "type(x**2+3*x+2)"
   ]
  },
  {
   "cell_type": "markdown",
   "id": "816b7ce8",
   "metadata": {},
   "source": [
    "- alternatively, `sympify` will converts a <font color='dodgerblue'>string</font> to a sympy function"
   ]
  },
  {
   "cell_type": "code",
   "execution_count": 16,
   "id": "d228f35e",
   "metadata": {},
   "outputs": [
    {
     "data": {
      "text/latex": [
       "$\\displaystyle x^{2} + 3 x + 2$"
      ],
      "text/plain": [
       "x**2 + 3*x + 2"
      ]
     },
     "execution_count": 16,
     "metadata": {},
     "output_type": "execute_result"
    }
   ],
   "source": [
    "function_sympy = sympy.sympify('x**2+3*x+2', evaluate=False)\n",
    "function_sympy"
   ]
  },
  {
   "cell_type": "markdown",
   "id": "9a9b0214",
   "metadata": {},
   "source": [
    "Let's prove that it took a string and converted it to a sympy object:"
   ]
  },
  {
   "cell_type": "code",
   "execution_count": 17,
   "id": "648b1287",
   "metadata": {},
   "outputs": [
    {
     "name": "stdout",
     "output_type": "stream",
     "text": [
      "<class 'str'>\n",
      "<class 'sympy.core.add.Add'>\n"
     ]
    }
   ],
   "source": [
    "print(type(function_string))\n",
    "print(type(function_sympy))"
   ]
  },
  {
   "cell_type": "code",
   "execution_count": 18,
   "id": "4ee5898b",
   "metadata": {},
   "outputs": [
    {
     "data": {
      "text/latex": [
       "$\\displaystyle \\frac{1}{6} + \\frac{2}{3}$"
      ],
      "text/plain": [
       "1/6 + 2/3"
      ]
     },
     "execution_count": 18,
     "metadata": {},
     "output_type": "execute_result"
    }
   ],
   "source": [
    "sympy.sympify(\"2/3 + 1/6\", evaluate=False)"
   ]
  },
  {
   "cell_type": "markdown",
   "id": "9a21b3e7",
   "metadata": {},
   "source": [
    "#### Simplifing a formula\n",
    "\n",
    "`simpify` also attempts to simplify a provided forumla:"
   ]
  },
  {
   "cell_type": "code",
   "execution_count": 19,
   "id": "743046d8",
   "metadata": {},
   "outputs": [
    {
     "data": {
      "text/latex": [
       "$\\displaystyle \\frac{5}{6}$"
      ],
      "text/plain": [
       "5/6"
      ]
     },
     "execution_count": 19,
     "metadata": {},
     "output_type": "execute_result"
    }
   ],
   "source": [
    "sympy.sympify(\"2/3 + 1/6\", evaluate=True)"
   ]
  },
  {
   "cell_type": "markdown",
   "id": "96923cd4",
   "metadata": {},
   "source": [
    "One can also do this for equations with variables:"
   ]
  },
  {
   "cell_type": "code",
   "execution_count": 20,
   "id": "5580c9e9",
   "metadata": {},
   "outputs": [
    {
     "data": {
      "text/latex": [
       "$\\displaystyle \\left(x + 1\\right) \\left(x^{2} + 2\\right) \\left(x^{2} + 2\\right) \\left(x^{2} + 2\\right)$"
      ],
      "text/plain": [
       "(x + 1)*(x**2 + 2)*(x**2 + 2)*(x**2 + 2)"
      ]
     },
     "execution_count": 20,
     "metadata": {},
     "output_type": "execute_result"
    }
   ],
   "source": [
    "sympy.sympify(\"(1 + x)*(2 + x**2)*(2 + x**2)*(2 + x**2)\", evaluate=False)"
   ]
  },
  {
   "cell_type": "markdown",
   "id": "813ee539",
   "metadata": {},
   "source": [
    "Let' go back and see what `Rational` would do with $\\frac{2}{3} + \\frac{1}{6}$:"
   ]
  },
  {
   "cell_type": "code",
   "execution_count": null,
   "id": "a5f685fe",
   "metadata": {},
   "outputs": [],
   "source": [
    "sympy.Rational(2/3 + 1/6)"
   ]
  },
  {
   "cell_type": "markdown",
   "id": "3643fb68",
   "metadata": {},
   "source": [
    "This looks complicated, but it is just the manner tha sympy stores the resulting number:"
   ]
  },
  {
   "cell_type": "code",
   "execution_count": null,
   "id": "022720bf",
   "metadata": {},
   "outputs": [],
   "source": [
    "print(3752999689475413/4503599627370496)\n",
    "print(5/6)"
   ]
  },
  {
   "cell_type": "markdown",
   "id": "6737de4d",
   "metadata": {},
   "source": [
    "#### Evaluate an expression or function\n",
    "\n",
    "https://docs.sympy.org/latest/modules/evalf.html\n",
    "\n",
    "Convert a sympy expressions to a float\n",
    "\n",
    "The following two are equivalent:\n",
    "- `evalf()`\n",
    "- `sympy.N()`"
   ]
  },
  {
   "cell_type": "code",
   "execution_count": null,
   "id": "57276c03",
   "metadata": {},
   "outputs": [],
   "source": [
    "test_func = sympy.sqrt(7)*sympy.pi\n",
    "test_func"
   ]
  },
  {
   "cell_type": "code",
   "execution_count": null,
   "id": "08eab56c",
   "metadata": {},
   "outputs": [],
   "source": [
    "test_func.evalf()"
   ]
  },
  {
   "cell_type": "code",
   "execution_count": null,
   "id": "cf79ce50",
   "metadata": {},
   "outputs": [],
   "source": [
    "sympy.N(test_func)"
   ]
  },
  {
   "cell_type": "markdown",
   "id": "5da1146a",
   "metadata": {},
   "source": [
    "Returning to our fraction above, we could get float value via:"
   ]
  },
  {
   "cell_type": "code",
   "execution_count": null,
   "id": "cbfe4347",
   "metadata": {},
   "outputs": [],
   "source": [
    "sympy.sympify(\"2/3 + 1/6\").evalf()"
   ]
  },
  {
   "cell_type": "markdown",
   "id": "9d2e0531",
   "metadata": {},
   "source": [
    "## Polynomials\n",
    "\n",
    "sympy can also create and work with polynomials.\n",
    "\n",
    "Recall: 2nd Degree Polynomial (Three coefficients: [M, N, O] --> $Mx^2 + Nx + O$)\n",
    "\n",
    "One can do this using two approaches, which result in two different object types:\n",
    "1. A sympy \"expression\"\n",
    "1. A sympy Poly"
   ]
  },
  {
   "cell_type": "markdown",
   "id": "aba04982",
   "metadata": {},
   "source": [
    "##### Approach 1 -  Using a sympy \"expresssion\""
   ]
  },
  {
   "cell_type": "code",
   "execution_count": 21,
   "id": "b36f2087",
   "metadata": {},
   "outputs": [
    {
     "data": {
      "text/latex": [
       "$\\displaystyle - 4 x^{2} + x - 2$"
      ],
      "text/plain": [
       "-4*x**2 + x - 2"
      ]
     },
     "execution_count": 21,
     "metadata": {},
     "output_type": "execute_result"
    }
   ],
   "source": [
    "polynomial_simple_expr = -4*x**2 + 1*x -2\n",
    "polynomial_simple_expr"
   ]
  },
  {
   "cell_type": "code",
   "execution_count": 22,
   "id": "ce78bf39",
   "metadata": {},
   "outputs": [
    {
     "data": {
      "text/plain": [
       "sympy.core.add.Add"
      ]
     },
     "execution_count": 22,
     "metadata": {},
     "output_type": "execute_result"
    }
   ],
   "source": [
    "type(polynomial_simple_expr)"
   ]
  },
  {
   "cell_type": "markdown",
   "id": "fde0e147",
   "metadata": {},
   "source": [
    "##### Approach 2 - `Poly` function\n",
    "\n",
    "-https://docs.sympy.org/latest/modules/polys/reference.html\n",
    "\n",
    "`Poly`: Efficiently transform an expression into a polynomial"
   ]
  },
  {
   "cell_type": "code",
   "execution_count": 23,
   "id": "f3ad00b6",
   "metadata": {},
   "outputs": [
    {
     "data": {
      "text/latex": [
       "$\\displaystyle \\operatorname{Poly}{\\left( -4 x^{2} + x - 2, x, domain=\\mathbb{Z} \\right)}$"
      ],
      "text/plain": [
       "Poly(-4*x**2 + x - 2, x, domain='ZZ')"
      ]
     },
     "execution_count": 23,
     "metadata": {},
     "output_type": "execute_result"
    }
   ],
   "source": [
    "polynomial_simple_poly = sympy.Poly(-4*x**2 + 1*x -2)\n",
    "polynomial_simple_poly"
   ]
  },
  {
   "cell_type": "code",
   "execution_count": 24,
   "id": "0d4acd80",
   "metadata": {},
   "outputs": [
    {
     "data": {
      "text/plain": [
       "sympy.polys.polytools.Poly"
      ]
     },
     "execution_count": 24,
     "metadata": {},
     "output_type": "execute_result"
    }
   ],
   "source": [
    "type(polynomial_simple_poly)"
   ]
  },
  {
   "cell_type": "markdown",
   "id": "eec18541",
   "metadata": {},
   "source": [
    "One can also create a polynomial by providing a list of **ALL** of the coefficients (including those that might be zero)."
   ]
  },
  {
   "cell_type": "code",
   "execution_count": 25,
   "id": "534624c4",
   "metadata": {},
   "outputs": [
    {
     "data": {
      "text/latex": [
       "$\\displaystyle \\operatorname{Poly}{\\left( -4 x^{2} + x - 2, x, domain=\\mathbb{Z} \\right)}$"
      ],
      "text/plain": [
       "Poly(-4*x**2 + x - 2, x, domain='ZZ')"
      ]
     },
     "execution_count": 25,
     "metadata": {},
     "output_type": "execute_result"
    }
   ],
   "source": [
    "polynomial_simple_poly = sympy.Poly.from_list([-4, 1, -2], x)\n",
    "polynomial_simple_poly"
   ]
  },
  {
   "cell_type": "markdown",
   "id": "623f646f",
   "metadata": {},
   "source": [
    "**Polynomial's degree** (i.e. the greatest raised power of the variable)\n",
    "- of a sympy expression"
   ]
  },
  {
   "cell_type": "code",
   "execution_count": 27,
   "id": "a2ed11cc",
   "metadata": {},
   "outputs": [
    {
     "data": {
      "text/latex": [
       "$\\displaystyle 2$"
      ],
      "text/plain": [
       "2"
      ]
     },
     "execution_count": 27,
     "metadata": {},
     "output_type": "execute_result"
    }
   ],
   "source": [
    "sympy.degree(polynomial_simple_expr)"
   ]
  },
  {
   "cell_type": "markdown",
   "id": "c94086dc",
   "metadata": {},
   "source": [
    "- of a sympy `Poly`"
   ]
  },
  {
   "cell_type": "code",
   "execution_count": 28,
   "id": "636dd0b8",
   "metadata": {},
   "outputs": [
    {
     "data": {
      "text/latex": [
       "$\\displaystyle 2$"
      ],
      "text/plain": [
       "2"
      ]
     },
     "execution_count": 28,
     "metadata": {},
     "output_type": "execute_result"
    }
   ],
   "source": [
    "sympy.degree(polynomial_simple_poly)"
   ]
  },
  {
   "cell_type": "markdown",
   "id": "2714ae9d",
   "metadata": {},
   "source": [
    "#### Evaluating Polynomials\n",
    "\n",
    "- Use `subs` to substitute values (https://docs.sympy.org/latest/tutorial/basic_operations.html)\n",
    "- `subs` works for both\n",
    "    - expressions (e.g. sympy.core.add.Add, sympy.core.power.Pow)\n",
    "    - `Poly` (i.e. sympy.polys.polytools.Poly)"
   ]
  },
  {
   "cell_type": "markdown",
   "id": "bd495779",
   "metadata": {},
   "source": [
    "##### Evaluating a Single Variable Polynomial"
   ]
  },
  {
   "cell_type": "markdown",
   "id": "43d29252",
   "metadata": {},
   "source": [
    "- expression"
   ]
  },
  {
   "cell_type": "code",
   "execution_count": null,
   "id": "014f764b",
   "metadata": {},
   "outputs": [],
   "source": [
    "polynomial_simple_expr.subs(x, 2)"
   ]
  },
  {
   "cell_type": "markdown",
   "id": "6c8ded7e",
   "metadata": {},
   "source": [
    "- Poly"
   ]
  },
  {
   "cell_type": "code",
   "execution_count": null,
   "id": "479e02e7",
   "metadata": {},
   "outputs": [],
   "source": [
    "polynomial_simple_poly.subs(x, 2)"
   ]
  },
  {
   "cell_type": "markdown",
   "id": "348e9931",
   "metadata": {},
   "source": [
    "##### Evaluating a Multiple Variable Polynomial\n",
    "\n",
    "- Using `subs` pass a\n",
    "    - list of tuples\n",
    "    - dictionary "
   ]
  },
  {
   "cell_type": "code",
   "execution_count": 29,
   "id": "f02f6ed9",
   "metadata": {},
   "outputs": [
    {
     "data": {
      "text/latex": [
       "$\\displaystyle x^{2} + x y + 3$"
      ],
      "text/plain": [
       "x**2 + x*y + 3"
      ]
     },
     "execution_count": 29,
     "metadata": {},
     "output_type": "execute_result"
    }
   ],
   "source": [
    "polynomial_multi_expr = x**2 + x*y + 3\n",
    "polynomial_multi_expr"
   ]
  },
  {
   "cell_type": "markdown",
   "id": "d0872137",
   "metadata": {},
   "source": [
    "Let's assign our variables as follows:\n",
    "- x = 3\n",
    "- y = 2\n",
    "\n",
    "**Approach 1**: Substitute the two variables by providing a list:"
   ]
  },
  {
   "cell_type": "code",
   "execution_count": 32,
   "id": "776fc2bd",
   "metadata": {},
   "outputs": [
    {
     "data": {
      "text/latex": [
       "$\\displaystyle 18$"
      ],
      "text/plain": [
       "18"
      ]
     },
     "execution_count": 32,
     "metadata": {},
     "output_type": "execute_result"
    }
   ],
   "source": [
    "polynomial_multi_expr.subs([(x, 3), (y, 2)])"
   ]
  },
  {
   "cell_type": "code",
   "execution_count": 33,
   "id": "bf614abe",
   "metadata": {},
   "outputs": [
    {
     "data": {
      "text/plain": [
       "sympy.core.numbers.Integer"
      ]
     },
     "execution_count": 33,
     "metadata": {},
     "output_type": "execute_result"
    }
   ],
   "source": [
    "type(polynomial_multi_expr.subs([(x, 3), (y, 2)]))"
   ]
  },
  {
   "cell_type": "markdown",
   "id": "533afa1b",
   "metadata": {},
   "source": [
    "**Approach 2**: Substitute the two variables by providing a dictionary:"
   ]
  },
  {
   "cell_type": "code",
   "execution_count": 34,
   "id": "c5c8bbf4",
   "metadata": {},
   "outputs": [
    {
     "data": {
      "text/latex": [
       "$\\displaystyle 18$"
      ],
      "text/plain": [
       "18"
      ]
     },
     "execution_count": 34,
     "metadata": {},
     "output_type": "execute_result"
    }
   ],
   "source": [
    "polynomial_multi_expr.subs({x: 3, y: 2})"
   ]
  },
  {
   "cell_type": "markdown",
   "id": "e2ee7491",
   "metadata": {},
   "source": [
    "To obtain a <font color='dodgerblue'>float</font>, use `evalf`\n",
    "- https://docs.sympy.org/latest/modules/evalf.html\n",
    "\n",
    "Important: the <font color='dodgerblue'>variable values are passed as a dictionary</font> (i.e. lists don't work as they did for `subs`)."
   ]
  },
  {
   "cell_type": "code",
   "execution_count": 35,
   "id": "e495c72d",
   "metadata": {},
   "outputs": [
    {
     "data": {
      "text/latex": [
       "$\\displaystyle 18.0$"
      ],
      "text/plain": [
       "18.0000000000000"
      ]
     },
     "execution_count": 35,
     "metadata": {},
     "output_type": "execute_result"
    }
   ],
   "source": [
    "polynomial_multi_expr.evalf(subs = {x: 3, y: 2})"
   ]
  },
  {
   "cell_type": "code",
   "execution_count": 36,
   "id": "afa46143",
   "metadata": {},
   "outputs": [
    {
     "data": {
      "text/plain": [
       "sympy.core.numbers.Float"
      ]
     },
     "execution_count": 36,
     "metadata": {},
     "output_type": "execute_result"
    }
   ],
   "source": [
    "type(polynomial_multi_expr.evalf(subs = {x: 3, y: 2}))"
   ]
  },
  {
   "cell_type": "markdown",
   "id": "8add29cf",
   "metadata": {},
   "source": [
    "### Expanding a polynomial\n",
    "\n",
    "Notice: we are not specifying a Poly object."
   ]
  },
  {
   "cell_type": "code",
   "execution_count": 37,
   "id": "8a6df95a",
   "metadata": {},
   "outputs": [
    {
     "data": {
      "text/latex": [
       "$\\displaystyle \\left(- 4 x^{2} + x - 2\\right)^{2}$"
      ],
      "text/plain": [
       "(-4*x**2 + x - 2)**2"
      ]
     },
     "execution_count": 37,
     "metadata": {},
     "output_type": "execute_result"
    }
   ],
   "source": [
    "polynomial_expr = (-4*x**2 + 1*x - 2)**2\n",
    "polynomial_expr"
   ]
  },
  {
   "cell_type": "code",
   "execution_count": 38,
   "id": "44e35c86",
   "metadata": {},
   "outputs": [
    {
     "data": {
      "text/latex": [
       "$\\displaystyle 16 x^{4} - 8 x^{3} + 17 x^{2} - 4 x + 4$"
      ],
      "text/plain": [
       "16*x**4 - 8*x**3 + 17*x**2 - 4*x + 4"
      ]
     },
     "execution_count": 38,
     "metadata": {},
     "output_type": "execute_result"
    }
   ],
   "source": [
    "polynomial_expr.expand()"
   ]
  },
  {
   "cell_type": "code",
   "execution_count": 39,
   "id": "c1927aa2",
   "metadata": {},
   "outputs": [
    {
     "data": {
      "text/latex": [
       "$\\displaystyle \\left(- 4 x^{2} + x - 2\\right)^{2}$"
      ],
      "text/plain": [
       "(-4*x**2 + x - 2)**2"
      ]
     },
     "execution_count": 39,
     "metadata": {},
     "output_type": "execute_result"
    }
   ],
   "source": [
    "polynomial_expr"
   ]
  },
  {
   "cell_type": "markdown",
   "id": "997158c8",
   "metadata": {},
   "source": [
    "sympy `Poly` will expand it automatically:"
   ]
  },
  {
   "cell_type": "code",
   "execution_count": 40,
   "id": "d05dedc9",
   "metadata": {},
   "outputs": [
    {
     "data": {
      "text/latex": [
       "$\\displaystyle \\operatorname{Poly}{\\left( 16 x^{4} - 8 x^{3} + 17 x^{2} - 4 x + 4, x, domain=\\mathbb{Z} \\right)}$"
      ],
      "text/plain": [
       "Poly(16*x**4 - 8*x**3 + 17*x**2 - 4*x + 4, x, domain='ZZ')"
      ]
     },
     "execution_count": 40,
     "metadata": {},
     "output_type": "execute_result"
    }
   ],
   "source": [
    "polynomial_poly = sympy.Poly((-4*x**2 + 1*x - 2)**2)\n",
    "polynomial_poly"
   ]
  },
  {
   "cell_type": "markdown",
   "id": "3ef4e4da",
   "metadata": {},
   "source": [
    "### Factor a polynomial\n",
    "\n",
    "- reverse of expanding\n",
    "- must be done on an expression"
   ]
  },
  {
   "cell_type": "code",
   "execution_count": 41,
   "id": "b05600ed",
   "metadata": {},
   "outputs": [
    {
     "data": {
      "text/latex": [
       "$\\displaystyle \\left(4 x^{2} - x + 2\\right)^{2}$"
      ],
      "text/plain": [
       "(4*x**2 - x + 2)**2"
      ]
     },
     "execution_count": 41,
     "metadata": {},
     "output_type": "execute_result"
    }
   ],
   "source": [
    "polynomial_expr = (16*x**4 - 8*x**3 + 17*x**2 - 4*x + 4).factor()\n",
    "polynomial_expr"
   ]
  },
  {
   "cell_type": "code",
   "execution_count": 42,
   "id": "11f6e9d6",
   "metadata": {},
   "outputs": [
    {
     "data": {
      "text/plain": [
       "sympy.core.power.Pow"
      ]
     },
     "execution_count": 42,
     "metadata": {},
     "output_type": "execute_result"
    }
   ],
   "source": [
    "type(polynomial_expr)"
   ]
  },
  {
   "cell_type": "markdown",
   "id": "e1f9c81e",
   "metadata": {},
   "source": [
    "**Note**: this <font color='dodgerblue'>does not work</font> for sympy  <font color='dodgerblue'>Poly</font>:"
   ]
  },
  {
   "cell_type": "code",
   "execution_count": 45,
   "id": "70b1ecd0",
   "metadata": {},
   "outputs": [
    {
     "ename": "AttributeError",
     "evalue": "'Poly' object has no attribute 'fractor'",
     "output_type": "error",
     "traceback": [
      "\u001b[0;31m---------------------------------------------------------------------------\u001b[0m",
      "\u001b[0;31mAttributeError\u001b[0m                            Traceback (most recent call last)",
      "\u001b[0;32m<ipython-input-45-712ecc5c8695>\u001b[0m in \u001b[0;36m<module>\u001b[0;34m\u001b[0m\n\u001b[0;32m----> 1\u001b[0;31m \u001b[0msympy\u001b[0m\u001b[0;34m.\u001b[0m\u001b[0mPoly\u001b[0m\u001b[0;34m(\u001b[0m\u001b[0;34m(\u001b[0m\u001b[0;34m-\u001b[0m\u001b[0;36m4\u001b[0m\u001b[0;34m*\u001b[0m\u001b[0mx\u001b[0m\u001b[0;34m**\u001b[0m\u001b[0;36m2\u001b[0m \u001b[0;34m+\u001b[0m \u001b[0;36m1\u001b[0m\u001b[0;34m*\u001b[0m\u001b[0mx\u001b[0m \u001b[0;34m-\u001b[0m \u001b[0;36m2\u001b[0m\u001b[0;34m)\u001b[0m\u001b[0;34m**\u001b[0m\u001b[0;36m2\u001b[0m\u001b[0;34m)\u001b[0m\u001b[0;34m.\u001b[0m\u001b[0mfractor\u001b[0m\u001b[0;34m(\u001b[0m\u001b[0;34m)\u001b[0m\u001b[0;34m\u001b[0m\u001b[0;34m\u001b[0m\u001b[0m\n\u001b[0m\u001b[1;32m      2\u001b[0m \u001b[0;34m\u001b[0m\u001b[0m\n\u001b[1;32m      3\u001b[0m \u001b[0mpolynomial_poly\u001b[0m\u001b[0;34m.\u001b[0m\u001b[0mfactor\u001b[0m\u001b[0;34m(\u001b[0m\u001b[0;34m)\u001b[0m\u001b[0;34m\u001b[0m\u001b[0;34m\u001b[0m\u001b[0m\n",
      "\u001b[0;31mAttributeError\u001b[0m: 'Poly' object has no attribute 'fractor'"
     ]
    }
   ],
   "source": [
    "# sympy.Poly((-4*x**2 + 1*x - 2)**2).fractor()\n",
    "\n",
    "polynomial_poly.factor()"
   ]
  },
  {
   "cell_type": "markdown",
   "id": "e1351f61",
   "metadata": {},
   "source": [
    "### Math with Polynomials\n",
    "\n",
    "#### Multiply two polynomials together"
   ]
  },
  {
   "cell_type": "markdown",
   "id": "88a0234a",
   "metadata": {},
   "source": [
    "Expression"
   ]
  },
  {
   "cell_type": "code",
   "execution_count": 46,
   "id": "0a98a780",
   "metadata": {},
   "outputs": [
    {
     "data": {
      "text/latex": [
       "$\\displaystyle - 4 x^{2} + x - 2$"
      ],
      "text/plain": [
       "-4*x**2 + x - 2"
      ]
     },
     "execution_count": 46,
     "metadata": {},
     "output_type": "execute_result"
    }
   ],
   "source": [
    "polynomial_simple_expr"
   ]
  },
  {
   "cell_type": "code",
   "execution_count": 47,
   "id": "253adf30",
   "metadata": {},
   "outputs": [
    {
     "data": {
      "text/latex": [
       "$\\displaystyle \\left(- 4 x^{2} + x - 2\\right)^{2}$"
      ],
      "text/plain": [
       "(-4*x**2 + x - 2)**2"
      ]
     },
     "execution_count": 47,
     "metadata": {},
     "output_type": "execute_result"
    }
   ],
   "source": [
    "polynomial_simple_expr * polynomial_simple_expr"
   ]
  },
  {
   "cell_type": "markdown",
   "id": "cfb69653",
   "metadata": {},
   "source": [
    "sympy `Poly`"
   ]
  },
  {
   "cell_type": "code",
   "execution_count": 48,
   "id": "54e12cad",
   "metadata": {},
   "outputs": [
    {
     "data": {
      "text/latex": [
       "$\\displaystyle \\operatorname{Poly}{\\left( -4 x^{2} + x - 2, x, domain=\\mathbb{Z} \\right)}$"
      ],
      "text/plain": [
       "Poly(-4*x**2 + x - 2, x, domain='ZZ')"
      ]
     },
     "execution_count": 48,
     "metadata": {},
     "output_type": "execute_result"
    }
   ],
   "source": [
    "polynomial_simple_poly"
   ]
  },
  {
   "cell_type": "code",
   "execution_count": 49,
   "id": "e0bab464",
   "metadata": {},
   "outputs": [
    {
     "data": {
      "text/latex": [
       "$\\displaystyle \\operatorname{Poly}{\\left( 16 x^{4} - 8 x^{3} + 17 x^{2} - 4 x + 4, x, domain=\\mathbb{Z} \\right)}$"
      ],
      "text/plain": [
       "Poly(16*x**4 - 8*x**3 + 17*x**2 - 4*x + 4, x, domain='ZZ')"
      ]
     },
     "execution_count": 49,
     "metadata": {},
     "output_type": "execute_result"
    }
   ],
   "source": [
    "polynomial_simple_poly * polynomial_simple_poly"
   ]
  },
  {
   "cell_type": "markdown",
   "id": "b32efe88",
   "metadata": {},
   "source": [
    "Recall: `Poly` automatically expands the polynomials."
   ]
  },
  {
   "cell_type": "markdown",
   "id": "b9da901d",
   "metadata": {},
   "source": [
    "#### Calculus\n",
    "\n",
    "#### Taking Derivatives\n",
    " -`diff()` (https://docs.sympy.org/latest/modules/core.html?highlight=diff#sympy.core.function.diff)\n",
    "\n",
    "\n",
    "**First derivative** (noted as $f'(x)$ or as $\\frac{df}{dx}$, which is the same as $\\frac{d}{dx}f$)\n",
    "\n",
    "Taking the first derivative of a function (e.g. f(x)) tells us:\n",
    "1. if the function at a given point (ie. x) is increasing or decreasing (i.e. the **direction of change**), and\n",
    "1. by how much it is increasing or decreasing (i.e. **a rate**)\n",
    "\n",
    "##### sympy Expressions"
   ]
  },
  {
   "cell_type": "code",
   "execution_count": 50,
   "id": "96b99a1c",
   "metadata": {},
   "outputs": [
    {
     "data": {
      "text/latex": [
       "$\\displaystyle 2 x^{3} + 1$"
      ],
      "text/plain": [
       "2*x**3 + 1"
      ]
     },
     "execution_count": 50,
     "metadata": {},
     "output_type": "execute_result"
    }
   ],
   "source": [
    "polynomial_expr = 2 * x**3 + 1\n",
    "polynomial_expr"
   ]
  },
  {
   "cell_type": "markdown",
   "id": "575d86bc",
   "metadata": {},
   "source": [
    "**Approach 1**"
   ]
  },
  {
   "cell_type": "code",
   "execution_count": 51,
   "id": "6db31be4",
   "metadata": {},
   "outputs": [
    {
     "data": {
      "text/latex": [
       "$\\displaystyle 6 x^{2}$"
      ],
      "text/plain": [
       "6*x**2"
      ]
     },
     "execution_count": 51,
     "metadata": {},
     "output_type": "execute_result"
    }
   ],
   "source": [
    "sympy.diff(polynomial_expr, x, 1)"
   ]
  },
  {
   "cell_type": "markdown",
   "id": "60e221f6",
   "metadata": {},
   "source": [
    "**Approach 2**"
   ]
  },
  {
   "cell_type": "code",
   "execution_count": 52,
   "id": "d62fa8b5",
   "metadata": {},
   "outputs": [
    {
     "data": {
      "text/latex": [
       "$\\displaystyle 6 x^{2}$"
      ],
      "text/plain": [
       "6*x**2"
      ]
     },
     "execution_count": 52,
     "metadata": {},
     "output_type": "execute_result"
    }
   ],
   "source": [
    "polynomial_expr.diff(x)"
   ]
  },
  {
   "cell_type": "code",
   "execution_count": 53,
   "id": "1771aa4a",
   "metadata": {},
   "outputs": [
    {
     "data": {
      "text/latex": [
       "$\\displaystyle 6 x^{2}$"
      ],
      "text/plain": [
       "6*x**2"
      ]
     },
     "execution_count": 53,
     "metadata": {},
     "output_type": "execute_result"
    }
   ],
   "source": [
    "polynomial_expr.diff(x, 1)"
   ]
  },
  {
   "cell_type": "markdown",
   "id": "4e15f574",
   "metadata": {},
   "source": [
    "##### sympy `Poly`"
   ]
  },
  {
   "cell_type": "code",
   "execution_count": 54,
   "id": "55920b7f",
   "metadata": {},
   "outputs": [
    {
     "data": {
      "text/latex": [
       "$\\displaystyle \\operatorname{Poly}{\\left( 2 x^{3} + 1, x, domain=\\mathbb{Z} \\right)}$"
      ],
      "text/plain": [
       "Poly(2*x**3 + 1, x, domain='ZZ')"
      ]
     },
     "execution_count": 54,
     "metadata": {},
     "output_type": "execute_result"
    }
   ],
   "source": [
    "polynomial_poly = sympy.poly(2 * x**3 + 1)\n",
    "polynomial_poly"
   ]
  },
  {
   "cell_type": "markdown",
   "id": "a594739d",
   "metadata": {},
   "source": [
    "**Approach 1**"
   ]
  },
  {
   "cell_type": "code",
   "execution_count": 55,
   "id": "c1c15097",
   "metadata": {},
   "outputs": [
    {
     "data": {
      "text/latex": [
       "$\\displaystyle \\operatorname{Poly}{\\left( 6 x^{2}, x, domain=\\mathbb{Z} \\right)}$"
      ],
      "text/plain": [
       "Poly(6*x**2, x, domain='ZZ')"
      ]
     },
     "execution_count": 55,
     "metadata": {},
     "output_type": "execute_result"
    }
   ],
   "source": [
    "polynomial_poly.diff(x)"
   ]
  },
  {
   "cell_type": "markdown",
   "id": "a24747bb",
   "metadata": {},
   "source": [
    "**Approach 2**"
   ]
  },
  {
   "cell_type": "code",
   "execution_count": 56,
   "id": "ff0f4628",
   "metadata": {},
   "outputs": [
    {
     "data": {
      "text/latex": [
       "$\\displaystyle \\operatorname{Poly}{\\left( 6 x^{2}, x, domain=\\mathbb{Z} \\right)}$"
      ],
      "text/plain": [
       "Poly(6*x**2, x, domain='ZZ')"
      ]
     },
     "execution_count": 56,
     "metadata": {},
     "output_type": "execute_result"
    }
   ],
   "source": [
    "sympy.diff(polynomial_poly, x)"
   ]
  },
  {
   "cell_type": "markdown",
   "id": "2a278090",
   "metadata": {},
   "source": [
    "<!-- **Note**: that `sympy.diff(polynomial_poly, x, 1)` or `polynomial_poly.diff(x, 1)` does not work for a sympy poly object, as it did using the sympy expression above. -->\n",
    "\n",
    "<!-- Therefore, it is generally better to have your **functions as sympy expressions** if you plan to preforms some **calculus** on them. -->"
   ]
  },
  {
   "cell_type": "markdown",
   "id": "9cbba36a",
   "metadata": {},
   "source": [
    "**Second derivative** (noted as $f''(x)$ or as $\\frac{d^2f}{dx}$)\n",
    "\n",
    "Taking the second derivative of a function (e.g. f(x)) tells us:\n",
    "1. the **shape** of the curve at a specified point (i.e. x)\n",
    "    - **postive** value: the curve is **convex**\n",
    "    - **negative** value: the curve is **concave**"
   ]
  },
  {
   "cell_type": "code",
   "execution_count": 60,
   "id": "e8570cc4",
   "metadata": {},
   "outputs": [
    {
     "data": {
      "text/latex": [
       "$\\displaystyle 12 x$"
      ],
      "text/plain": [
       "12*x"
      ]
     },
     "execution_count": 60,
     "metadata": {},
     "output_type": "execute_result"
    }
   ],
   "source": [
    "polynomial_expr.diff(x, x)"
   ]
  },
  {
   "cell_type": "code",
   "execution_count": 61,
   "id": "c550a876",
   "metadata": {},
   "outputs": [
    {
     "data": {
      "text/latex": [
       "$\\displaystyle 12 x$"
      ],
      "text/plain": [
       "12*x"
      ]
     },
     "execution_count": 61,
     "metadata": {},
     "output_type": "execute_result"
    }
   ],
   "source": [
    "polynomial_expr.diff(x, 2)"
   ]
  },
  {
   "cell_type": "code",
   "execution_count": 62,
   "id": "dd1f73cd",
   "metadata": {},
   "outputs": [
    {
     "data": {
      "text/latex": [
       "$\\displaystyle 12 x$"
      ],
      "text/plain": [
       "12*x"
      ]
     },
     "execution_count": 62,
     "metadata": {},
     "output_type": "execute_result"
    }
   ],
   "source": [
    "sympy.diff(polynomial_expr, x, 2)"
   ]
  },
  {
   "cell_type": "markdown",
   "id": "7d6a751a",
   "metadata": {},
   "source": [
    "##### Derivative of Multiple Variable Functions"
   ]
  },
  {
   "cell_type": "code",
   "execution_count": 63,
   "id": "6866c32e",
   "metadata": {},
   "outputs": [
    {
     "data": {
      "text/latex": [
       "$\\displaystyle x^{2} + x y + 3$"
      ],
      "text/plain": [
       "x**2 + x*y + 3"
      ]
     },
     "execution_count": 63,
     "metadata": {},
     "output_type": "execute_result"
    }
   ],
   "source": [
    "polynomial_multi_expr"
   ]
  },
  {
   "cell_type": "markdown",
   "id": "5feb54ef",
   "metadata": {},
   "source": [
    "1st derivative with respect to x:"
   ]
  },
  {
   "cell_type": "code",
   "execution_count": 64,
   "id": "6d6ead54",
   "metadata": {},
   "outputs": [
    {
     "data": {
      "text/latex": [
       "$\\displaystyle 2 x + y$"
      ],
      "text/plain": [
       "2*x + y"
      ]
     },
     "execution_count": 64,
     "metadata": {},
     "output_type": "execute_result"
    }
   ],
   "source": [
    "sympy.diff(polynomial_multi_expr, x, 1)"
   ]
  },
  {
   "cell_type": "markdown",
   "id": "4a883926",
   "metadata": {},
   "source": [
    "1st derivative with respect to y:"
   ]
  },
  {
   "cell_type": "code",
   "execution_count": 65,
   "id": "6931a7fb",
   "metadata": {},
   "outputs": [
    {
     "data": {
      "text/latex": [
       "$\\displaystyle x$"
      ],
      "text/plain": [
       "x"
      ]
     },
     "execution_count": 65,
     "metadata": {},
     "output_type": "execute_result"
    }
   ],
   "source": [
    "sympy.diff(polynomial_multi_expr, y, 1)"
   ]
  },
  {
   "cell_type": "markdown",
   "id": "8d03cdec",
   "metadata": {},
   "source": [
    "2nd-order mixed derivatives:\n",
    "\n",
    "Derivative with respect to x **and then** to y:\n",
    "- i.e. $\\frac{d}{dy}(\\frac{df}{dx})$\n",
    "\n",
    "$f(x) = x^2 + xy + 3$\n",
    "\n",
    "$f'(x) = \\frac{df}{dx} = \\frac{d}{dx}(x^2 + xy + 3) = 2x + y$\n",
    "\n",
    "$\\frac{df'(x)}{dy} = \\frac{d}{dy}(2x + y) = 1$"
   ]
  },
  {
   "cell_type": "code",
   "execution_count": null,
   "id": "65a83f4b",
   "metadata": {},
   "outputs": [],
   "source": [
    "sympy.diff(polynomial_multi_expr, x, y)"
   ]
  },
  {
   "cell_type": "markdown",
   "id": "9b860050",
   "metadata": {},
   "source": [
    "### Integration\n",
    "\n",
    "The integral of a function (e.g. f(x)) tells us:\n",
    "\n",
    "1. the area that resides under the function (e.g. the amount of water in a curve shaped pool).\n",
    "\n",
    "#### Indefinite integral (i.e. without limits/bounds)\n",
    "\n",
    "$\\int (2x^3+1) \\,dx = \\frac{x^4}{2} + 1x$\n",
    "\n",
    "(recall: if you take the derivative of the result, you will get the input)"
   ]
  },
  {
   "cell_type": "markdown",
   "id": "12a81870",
   "metadata": {},
   "source": [
    "**Approaches 1**\n",
    "- sympy expression\n",
    "- sympy Poly"
   ]
  },
  {
   "cell_type": "code",
   "execution_count": null,
   "id": "8f72c28a",
   "metadata": {},
   "outputs": [],
   "source": [
    "polynomial_expr"
   ]
  },
  {
   "cell_type": "code",
   "execution_count": null,
   "id": "59d9f148",
   "metadata": {},
   "outputs": [],
   "source": [
    "sympy.integrate(polynomial_expr, x)"
   ]
  },
  {
   "cell_type": "code",
   "execution_count": null,
   "id": "92509dae",
   "metadata": {},
   "outputs": [],
   "source": [
    "sympy.integrate(polynomial_poly, x)"
   ]
  },
  {
   "cell_type": "markdown",
   "id": "174b71ca",
   "metadata": {},
   "source": [
    "**Approaches 2**\n",
    "- sympy expression\n",
    "- sympy Poly"
   ]
  },
  {
   "cell_type": "code",
   "execution_count": null,
   "id": "a707f2d8",
   "metadata": {},
   "outputs": [],
   "source": [
    "polynomial_expr.integrate(x)"
   ]
  },
  {
   "cell_type": "code",
   "execution_count": null,
   "id": "781062d9",
   "metadata": {},
   "outputs": [],
   "source": [
    "polynomial_poly.integrate(x)"
   ]
  },
  {
   "cell_type": "markdown",
   "id": "40b3694f",
   "metadata": {},
   "source": [
    "#### Definate integral (i.e. evaluated between two boundary conditions)\n",
    "\n",
    "$\\int_1^2 (2x^3+1) \\,dx = \\frac{x^4}{2} + 1x$\n",
    "\n",
    "Notice: the tuple being passed (i.e. `(x, 1, 2)`)"
   ]
  },
  {
   "cell_type": "code",
   "execution_count": null,
   "id": "0263566f",
   "metadata": {},
   "outputs": [],
   "source": [
    "sympy.integrate(polynomial_expr, (x, 1, 2))"
   ]
  },
  {
   "cell_type": "code",
   "execution_count": null,
   "id": "51a8c234",
   "metadata": {},
   "outputs": [],
   "source": [
    "polynomial_expr.integrate((x, 1, 2))"
   ]
  },
  {
   "cell_type": "markdown",
   "id": "705979da",
   "metadata": {},
   "source": [
    "This is where I personally find some of the logic/consistency breaking down in sympy. It seems like `sympy.integrate` only works with expresssions."
   ]
  },
  {
   "cell_type": "code",
   "execution_count": null,
   "id": "df82fd20",
   "metadata": {},
   "outputs": [],
   "source": [
    "sympy.integrate(polynomial_poly, (x, 1, 2))"
   ]
  },
  {
   "cell_type": "markdown",
   "id": "92a06dea",
   "metadata": {},
   "source": [
    "## Visualizing functions (i.e. plotting)\n",
    "\n",
    "- backend: matplotlib\n",
    "\n",
    "Plot a function (i.e. f(x)) by its single variable\n",
    "\n",
    "(doing something like f(x,y) would require a 2D plot)"
   ]
  },
  {
   "cell_type": "code",
   "execution_count": null,
   "id": "fe4ae6e7",
   "metadata": {},
   "outputs": [],
   "source": [
    "sympy.plot(x**2 + 20)"
   ]
  },
  {
   "cell_type": "markdown",
   "id": "1bafff8e",
   "metadata": {},
   "source": [
    "Change the x-axis range:"
   ]
  },
  {
   "cell_type": "code",
   "execution_count": null,
   "id": "7643d7bc",
   "metadata": {},
   "outputs": [],
   "source": [
    "sympy.plot(x**2 + 20, (x, -2, 2))"
   ]
  },
  {
   "cell_type": "code",
   "execution_count": null,
   "id": "00780fd5",
   "metadata": {},
   "outputs": [],
   "source": [
    "function = x**4\n",
    "plot_func = sympy.plot(function)\n",
    "plot_der1 = sympy.plot(sympy.diff(function, x, 1))\n",
    "plot_der2 = sympy.plot(sympy.diff(function, x, 2))"
   ]
  },
  {
   "cell_type": "markdown",
   "id": "b1eba97d",
   "metadata": {},
   "source": [
    "## Solving equations\n",
    "\n",
    "- Finding the \"roots\" of the equation (i.e. what the variable values are that sets the equation to zero)."
   ]
  },
  {
   "cell_type": "markdown",
   "id": "a215e16b",
   "metadata": {},
   "source": [
    "Equation:\n",
    "\n",
    "$x^2 = 4$\n",
    "\n",
    "Rearrange:\n",
    "\n",
    "$x^2 -4 = 0$\n",
    "\n",
    "Solve:\n",
    "\n",
    "Solutions are\n",
    "1. x = 2\n",
    "1. x = -2"
   ]
  },
  {
   "cell_type": "code",
   "execution_count": null,
   "id": "66c52fb4",
   "metadata": {},
   "outputs": [],
   "source": [
    "solutions = sympy.solve(x**2 - 4)\n",
    "solutions"
   ]
  },
  {
   "cell_type": "code",
   "execution_count": null,
   "id": "d5c1c29d",
   "metadata": {},
   "outputs": [],
   "source": [
    "solutions[0]"
   ]
  },
  {
   "cell_type": "markdown",
   "id": "e5622033",
   "metadata": {},
   "source": [
    "### Misc sympy functions\n",
    "\n",
    "Lambdify: https://docs.sympy.org/latest/modules/utilities/lambdify.html\n",
    "    - transforms a sympy expression to a lambda function that can be used to evaluate (solve) equations\n",
    "\n",
    "- https://docs.python.org/3/reference/expressions.html#lambda\n",
    "\n",
    "Examples of lambda functions\n",
    "- `lambda x: x+x`\n",
    "- `lambda a, b: a+b`\n",
    "\n",
    "And you can directly evaluate a lambda function:"
   ]
  },
  {
   "cell_type": "code",
   "execution_count": null,
   "id": "9edfdfee",
   "metadata": {},
   "outputs": [],
   "source": [
    "(lambda x: x*2)(12)"
   ]
  },
  {
   "cell_type": "code",
   "execution_count": null,
   "id": "63717e9c",
   "metadata": {},
   "outputs": [],
   "source": [
    "function = x**2\n",
    "\n",
    "derivative_function = function.diff(x)\n",
    "derivative_function"
   ]
  },
  {
   "cell_type": "code",
   "execution_count": null,
   "id": "1e490d9b",
   "metadata": {},
   "outputs": [],
   "source": [
    "f1 = sympy.lambdify(x, derivative_function)"
   ]
  },
  {
   "cell_type": "code",
   "execution_count": null,
   "id": "a51a95d2",
   "metadata": {},
   "outputs": [],
   "source": [
    "f1(3)"
   ]
  },
  {
   "cell_type": "code",
   "execution_count": null,
   "id": "b6b08553",
   "metadata": {},
   "outputs": [],
   "source": [
    "multi_var_func = (x**2 + y**3 + z**4)"
   ]
  },
  {
   "cell_type": "markdown",
   "id": "c1c2c193",
   "metadata": {},
   "source": [
    "List the variables"
   ]
  },
  {
   "cell_type": "code",
   "execution_count": null,
   "id": "2a1de1fa",
   "metadata": {},
   "outputs": [],
   "source": [
    "multi_var_func.free_symbols"
   ]
  },
  {
   "cell_type": "markdown",
   "id": "c6bbad29",
   "metadata": {},
   "source": [
    "To evaluate the function for when x=1, y=2 and z=3 and return an regular Python `int` type:"
   ]
  },
  {
   "cell_type": "code",
   "execution_count": null,
   "id": "56dab74b",
   "metadata": {},
   "outputs": [],
   "source": [
    "f = sympy.lambdify([x, y, z], multi_var_func)\n",
    "\n",
    "f(1, 2, 3)"
   ]
  },
  {
   "cell_type": "code",
   "execution_count": null,
   "id": "722172b5",
   "metadata": {},
   "outputs": [],
   "source": [
    "type(f(1, 2, 3))"
   ]
  },
  {
   "cell_type": "markdown",
   "id": "8d9d54d2",
   "metadata": {},
   "source": [
    "You can also evalute the function to return a `sympy.core.numbers.Integer` type:"
   ]
  },
  {
   "cell_type": "code",
   "execution_count": null,
   "id": "cb01af4e",
   "metadata": {},
   "outputs": [],
   "source": [
    "multi_var_func.subs([(x, 1), (y, 2), (z, 3)])"
   ]
  },
  {
   "cell_type": "code",
   "execution_count": null,
   "id": "f8a2591a",
   "metadata": {},
   "outputs": [],
   "source": [
    "type(multi_var_func.subs([(x, 1), (y, 2), (z, 3)]))"
   ]
  },
  {
   "cell_type": "markdown",
   "id": "c81b71d7",
   "metadata": {},
   "source": [
    "To obtain a `sympy.core.numbers.Float`:"
   ]
  },
  {
   "cell_type": "code",
   "execution_count": null,
   "id": "b59fe62c",
   "metadata": {},
   "outputs": [],
   "source": [
    "multi_var_func.evalf(subs = {x: 1, y: 2, z: 3})"
   ]
  },
  {
   "cell_type": "code",
   "execution_count": null,
   "id": "33f8e840",
   "metadata": {},
   "outputs": [],
   "source": [
    "type(multi_var_func.evalf(subs = {x: 1, y: 2, z: 3}))"
   ]
  },
  {
   "cell_type": "markdown",
   "id": "fe23cbd6",
   "metadata": {},
   "source": [
    "## Unit Conversions with sympy"
   ]
  },
  {
   "cell_type": "code",
   "execution_count": null,
   "id": "bf5f0844",
   "metadata": {},
   "outputs": [],
   "source": [
    "from sympy.physics.units import convert_to\n",
    "from sympy.physics.units import speed_of_light\n",
    "from sympy.physics.units import kilometer, meter, centimeter, millimeter \n",
    "from sympy.physics.units import second, minute, hour"
   ]
  },
  {
   "cell_type": "code",
   "execution_count": null,
   "id": "393c6fbf",
   "metadata": {},
   "outputs": [],
   "source": [
    "speed_of_light"
   ]
  },
  {
   "cell_type": "code",
   "execution_count": null,
   "id": "6df47b64",
   "metadata": {},
   "outputs": [],
   "source": [
    "speed_of_light.evalf()"
   ]
  },
  {
   "cell_type": "markdown",
   "id": "9d569b86",
   "metadata": {},
   "source": [
    "To obtain a value, you must specify the desired units:"
   ]
  },
  {
   "cell_type": "code",
   "execution_count": null,
   "id": "6fad2cd7",
   "metadata": {},
   "outputs": [],
   "source": [
    "convert_to(speed_of_light, [meter, minute])"
   ]
  },
  {
   "cell_type": "code",
   "execution_count": null,
   "id": "7370cbc8",
   "metadata": {},
   "outputs": [],
   "source": [
    "convert_to(speed_of_light, [millimeter, hour])"
   ]
  },
  {
   "cell_type": "code",
   "execution_count": null,
   "id": "af511906",
   "metadata": {},
   "outputs": [],
   "source": [
    "#help(sympy.physics.units)"
   ]
  },
  {
   "cell_type": "markdown",
   "id": "419f02a1",
   "metadata": {},
   "source": [
    "#### Constants built into sympy\n",
    "1. A: ampere\n",
    "1. Bq: becquerel\n",
    "1. C: coulomb\n",
    "1. D: dioptre\n",
    "1. F: farad\n",
    "1. G: gravitational_constant\n",
    "1. Gy: gray\n",
    "1. H: henry\n",
    "1. Hz: hertz\n",
    "1. J: joule\n",
    "1. K: kelvin\n",
    "1. N: newton\n",
    "1. Pa: pascal\n",
    "1. R: molar_gas_constant\n",
    "1. S: siemens\n",
    "1. T: tesla\n",
    "1. V: volt\n",
    "1. W: watt\n",
    "1. Wb: weber\n",
    "1. Z0: vacuum_impedance\n",
    "1. __all__: ['Dimension', 'DimensionSystem', 'UnitSystem', 'convert_to',...\n",
    "1. acceleration: Dimension(acceleration)\n",
    "1. acceleration_due_to_gravity: acceleration_due_to_gravity\n",
    "1. action: Dimension(action, A)\n",
    "1. amount: Dimension(amount_of_substance)\n",
    "1. amount_of_substance: Dimension(amount_of_substance)\n",
    "1. ampere: ampere\n",
    "1. amperes: ampere\n",
    "1. amu: atomic_mass_constant\n",
    "1. amus: atomic_mass_constant\n",
    "1. angular_mil: angular_mil\n",
    "1. angular_mils: angular_mil\n",
    "1. anomalistic_year: anomalistic_year\n",
    "1. anomalistic_years: anomalistic_year\n",
    "1. astronomical_unit: astronomical_unit\n",
    "1. astronomical_units: astronomical_unit\n",
    "1. atm: atmosphere\n",
    "1. atmosphere: atmosphere\n",
    "1. atmospheres: atmosphere\n",
    "1. atomic_mass_constant: atomic_mass_constant\n",
    "1. atomic_mass_unit: atomic_mass_constant\n",
    "1. atto: Prefix('atto', 'a', -18)\n",
    "1. au: astronomical_unit\n",
    "1. avogadro: avogadro_constant\n",
    "1. avogadro_constant: avogadro_constant\n",
    "1. avogadro_number: avogadro_number\n",
    "1. bar: bar\n",
    "1. bars: bar\n",
    "1. becquerel: becquerel\n",
    "1. bit: bit\n",
    "1. bits: bit\n",
    "1. boltzmann: boltzmann_constant\n",
    "1. boltzmann_constant: boltzmann_constant\n",
    "1. byte: byte\n",
    "1. c: speed_of_light\n",
    "1. candela: candela\n",
    "1. candelas: candela\n",
    "1. capacitance: Dimension(capacitance)\n",
    "1. cd: candela\n",
    "1. centi: Prefix('centi', 'c', -2)\n",
    "1. centiliter: centiliter\n",
    "1. centiliters: centiliter\n",
    "1. centimeter: centimeter\n",
    "1. centimeters: centimeter\n",
    "1. charge: Dimension(charge, Q)\n",
    "1. cl: centiliter\n",
    "1. cm: centimeter\n",
    "1. common_year: common_year\n",
    "1. common_years: common_year\n",
    "1. conductance: Dimension(conductance, G)\n",
    "1. coulomb: coulomb\n",
    "1. coulomb_constant: coulomb_constant\n",
    "1. coulombs: coulomb\n",
    "1. current: Dimension(current, I)\n",
    "1. dHg0: 13.5951\n",
    "1. day: day\n",
    "1. days: day\n",
    "1. deca: Prefix('deca', 'da', 1)\n",
    "1. deci: Prefix('deci', 'd', -1)\n",
    "1. deciliter: deciliter\n",
    "1. deciliters: deciliter\n",
    "1. decimeter: decimeter\n",
    "1. decimeters: decimeter\n",
    "1. deg: degree\n",
    "1. degree: degree\n",
    "1. degrees: degree\n",
    "1. dioptre: dioptre\n",
    "1. dl: deciliter\n",
    "1. dm: decimeter\n",
    "1. draconic_year: draconic_year\n",
    "1. draconic_years: draconic_year\n",
    "1. e0: vacuum_permittivity\n",
    "1. eV: electronvolt\n",
    "1. electric_constant: vacuum_permittivity\n",
    "1. electric_force_constant: coulomb_constant\n",
    "1. electronvolt: electronvolt\n",
    "1. electronvolts: electronvolt\n",
    "1. elementary_charge: elementary_charge\n",
    "1. energy: Dimension(energy, E)\n",
    "1. exa: Prefix('exa', 'E', 18)\n",
    "1. exbi: Prefix('exbi', 'Y', 60, 2)\n",
    "1. exbibyte: exbibyte\n",
    "1. exbibytes: exbibyte\n",
    "1. farad: farad\n",
    "1. faraday_constant: faraday_constant\n",
    "1. farads: farad\n",
    "1. feet: foot\n",
    "1. femto: Prefix('femto', 'f', -15)\n",
    "1. foot: foot\n",
    "1. force: Dimension(force, F)\n",
    "1. frequency: Dimension(frequency, f)\n",
    "1. ft: foot\n",
    "1. full_moon_cycle: full_moon_cycle\n",
    "1. full_moon_cycles: full_moon_cycle\n",
    "1. g: gram\n",
    "1. gaussian_year: gaussian_year\n",
    "1. gaussian_years: gaussian_year\n",
    "1. gee: acceleration_due_to_gravity\n",
    "1. gees: acceleration_due_to_gravity\n",
    "1. gibi: Prefix('gibi', 'Y', 30, 2)\n",
    "1. gibibyte: gibibyte\n",
    "1. gibibytes: gibibyte\n",
    "1. giga: Prefix('giga', 'G', 9)\n",
    "1. gram: gram\n",
    "1. grams: gram\n",
    "1. gravitational_constant: gravitational_constant\n",
    "1. gray: gray\n",
    "1. h: hour\n",
    "1. hbar: hbar\n",
    "1. hecto: Prefix('hecto', 'h', 2)\n",
    "1. henry: henry\n",
    "1. henrys: henry\n",
    "1. hertz: hertz\n",
    "1. hour: hour\n",
    "1. hours: hour\n",
    "1. hz: hertz\n",
    "1. impedance: Dimension(impedance, Z)\n",
    "1. inch: inch\n",
    "1. inches: inch\n",
    "1. inductance: Dimension(inductance)\n",
    "1. josephson_constant: josephson_constant\n",
    "1. joule: joule\n",
    "1. joules: joule\n",
    "1. julian_year: julian_year\n",
    "1. julian_years: julian_year\n",
    "1. kPa: kilopascal\n",
    "1. kat: katal\n",
    "1. katal: katal\n",
    "1. kelvin: kelvin\n",
    "1. kelvins: kelvin\n",
    "1. kg: kilogram\n",
    "1. kibi: Prefix('kibi', 'Y', 10, 2)\n",
    "1. kibibyte: kibibyte\n",
    "1. kibibytes: kibibyte\n",
    "1. kilo: Prefix('kilo', 'k', 3)\n",
    "1. kilogram: kilogram\n",
    "1. kilograms: kilogram\n",
    "1. kilometer: kilometer\n",
    "1. kilometers: kilometer\n",
    "1. km: kilometer\n",
    "1. l: liter\n",
    "1. length: Dimension(length, L)\n",
    "1. lightyear: lightyear\n",
    "1. lightyears: lightyear\n",
    "1. liter: liter\n",
    "1. liters: liter\n",
    "1. luminosity: Dimension(luminous_intensity)\n",
    "1. luminous_intensity: Dimension(luminous_intensity)\n",
    "1. lux: lux\n",
    "1. lx: lux\n",
    "1. ly: lightyear\n",
    "1. m: meter\n",
    "1. magnetic_constant: magnetic_constant\n",
    "1. magnetic_density: Dimension(magnetic_density, B)\n",
    "1. magnetic_flux: Dimension(magnetic_flux)\n",
    "1. magnetic_flux_density: Dimension(magnetic_density, B)\n",
    "1. mass: Dimension(mass, M)\n",
    "1. mebi: Prefix('mebi', 'Y', 20, 2)\n",
    "1. mebibyte: mebibyte\n",
    "1. mebibytes: mebibyte\n",
    "1. mega: Prefix('mega', 'M', 6)\n",
    "1. meter: meter\n",
    "1. meters: meter\n",
    "1. mg: milligram\n",
    "1. mho: siemens\n",
    "1. mhos: siemens\n",
    "1. mi: mile\n",
    "1. micro: Prefix('micro', 'mu', -6)\n",
    "1. microgram: microgram\n",
    "1. micrograms: microgram\n",
    "1. micrometer: micrometer\n",
    "1. micrometers: micrometer\n",
    "1. micron: micrometer\n",
    "1. microns: micrometer\n",
    "1. microsecond: microsecond\n",
    "1. microseconds: microsecond\n",
    "1. mil: angular_mil\n",
    "1. mile: mile\n",
    "1. miles: mile\n",
    "1. milli: Prefix('milli', 'm', -3)\n",
    "1. milli_mass_unit: milli_mass_unit\n",
    "1. milligram: milligram\n",
    "1. milligrams: milligram\n",
    "1. milliliter: milliliter\n",
    "1. milliliters: milliliter\n",
    "1. millimeter: millimeter\n",
    "1. millimeters: millimeter\n",
    "1. millisecond: millisecond\n",
    "1. milliseconds: millisecond\n",
    "1. minute: minute\n",
    "1. minutes: minute\n",
    "1. ml: milliliter\n",
    "1. mm: millimeter\n",
    "1. mmHg: mmHg\n",
    "1. mmu: milli_mass_unit\n",
    "1. mmus: milli_mass_unit\n",
    "1. mol: mole\n",
    "1. molar_gas_constant: molar_gas_constant\n",
    "1. mole: mole\n",
    "1. moles: mole\n",
    "1. momentum: Dimension(momentum)\n",
    "1. ms: millisecond\n",
    "1. nano: Prefix('nano', 'n', -9)\n",
    "1. nanometer: nanometer\n",
    "1. nanometers: nanometer\n",
    "1. nanosecond: nanosecond\n",
    "1. nanoseconds: nanosecond\n",
    "1. nautical_mile: nautical_mile\n",
    "1. nautical_miles: nautical_mile\n",
    "1. newton: newton\n",
    "1. newtons: newton\n",
    "1. nm: nanometer\n",
    "1. nmi: nautical_mile\n",
    "1. ns: nanosecond\n",
    "1. ohm: ohm\n",
    "1. ohms: ohm\n",
    "1. optical_power: dioptre\n",
    "1. pa: pascal\n",
    "1. pascal: pascal\n",
    "1. pascals: pascal\n",
    "1. pebi: Prefix('pebi', 'Y', 50, 2)\n",
    "1. pebibyte: pebibyte\n",
    "1. pebibytes: pebibyte\n",
    "1. percent: percent\n",
    "1. percents: percent\n",
    "1. permille: permille\n",
    "1. peta: Prefix('peta', 'P', 15)\n",
    "1. pico: Prefix('pico', 'p', -12)\n",
    "1. picometer: picometer\n",
    "1. picometers: picometer\n",
    "1. picosecond: picosecond\n",
    "1. picoseconds: picosecond\n",
    "1. planck: planck\n",
    "1. planck_acceleration: planck_acceleration\n",
    "1. planck_angular_frequency: planck_angular_frequency\n",
    "1. planck_area: planck_area\n",
    "1. planck_charge: planck_charge\n",
    "1. planck_current: planck_current\n",
    "1. planck_density: planck_density\n",
    "1. planck_energy: planck_energy\n",
    "1. planck_energy_density: planck_energy_density\n",
    "1. planck_force: planck_force\n",
    "1. planck_impedance: planck_impedance\n",
    "1. planck_intensity: planck_intensity\n",
    "1. planck_length: planck_length\n",
    "1. planck_mass: planck_mass\n",
    "1. planck_momentum: planck_momentum\n",
    "1. planck_power: planck_power\n",
    "1. planck_pressure: planck_pressure\n",
    "1. planck_temperature: planck_temperature\n",
    "1. planck_time: planck_time\n",
    "1. planck_voltage: planck_voltage\n",
    "1. planck_volume: planck_volume\n",
    "1. pm: picometer\n",
    "1. pound: pound\n",
    "1. pounds: pound\n",
    "1. power: Dimension(power)\n",
    "1. pressure: Dimension(pressure)\n",
    "1. ps: picosecond\n",
    "1. psi: psi\n",
    "1. quart: quart\n",
    "1. quarts: quart\n",
    "1. rad: radian\n",
    "1. radian: radian\n",
    "1. radians: radian\n",
    "1. s: second\n",
    "1. second: second\n",
    "1. seconds: second\n",
    "1. sidereal_year: sidereal_year\n",
    "1. sidereal_years: sidereal_year\n",
    "1. siemens: siemens\n",
    "1. speed: Dimension(velocity)\n",
    "1. speed_of_light: speed_of_light\n",
    "1. sr: steradian\n",
    "1. stefan: stefan_boltzmann_constant\n",
    "1. stefan_boltzmann_constant: stefan_boltzmann_constant\n",
    "1. steradian: steradian\n",
    "1. steradians: steradian\n",
    "1. tebi: Prefix('tebi', 'Y', 40, 2)\n",
    "1. tebibyte: tebibyte\n",
    "1. tebibytes: tebibyte\n",
    "1. temperature: Dimension(temperature, T)\n",
    "1. tera: Prefix('tera', 'T', 12)\n",
    "1. tesla: tesla\n",
    "1. teslas: tesla\n",
    "1. time: Dimension(time, T)\n",
    "1. torr: mmHg\n",
    "1. tropical_year: tropical_year\n",
    "1. tropical_years: tropical_year\n",
    "1. u0: magnetic_constant\n",
    "1. ug: microgram\n",
    "1. um: micrometer\n",
    "1. us: microsecond\n",
    "1. v: volt\n",
    "1. vacuum_impedance: vacuum_impedance\n",
    "1. vacuum_permeability: magnetic_constant\n",
    "1. vacuum_permittivity: vacuum_permittivity\n",
    "1. velocity: Dimension(velocity)\n",
    "1. volt: volt\n",
    "1. voltage: Dimension(voltage, U)\n",
    "1. volts: volt\n",
    "1. volume: Dimension(volume)\n",
    "1. von_klitzing_constant: von_klitzing_constant\n",
    "1. watt: watt\n",
    "1. watts: watt\n",
    "1. wb: weber\n",
    "1. weber: weber\n",
    "1. webers: weber\n",
    "1. yard: yard\n",
    "1. yards: yard\n",
    "1. yd: yard\n",
    "1. year: tropical_year\n",
    "1. years: tropical_year\n",
    "1. yocto: Prefix('yocto', 'y', -24)\n",
    "1. yotta: Prefix('yotta', 'Y', 24)\n",
    "1. zepto: Prefix('zepto', 'z', -21)\n",
    "1. zetta: Prefix('zetta', 'Z', 21)"
   ]
  },
  {
   "cell_type": "markdown",
   "id": "16942fcc",
   "metadata": {},
   "source": [
    "# Practicle Usage Example"
   ]
  },
  {
   "cell_type": "markdown",
   "id": "0a44436e",
   "metadata": {},
   "source": [
    "A particle is moving in space with a velocity that can be defined by the following function:\n",
    "\n",
    "$v(t) = t^2 - 2t - 8$\n",
    "\n",
    "where time `t` is in seconds and the velocity `v` is measured in $\\frac{\\text{meter}}{\\text{second}}$:\n",
    "\n",
    "1. Plot the function.\n",
    "1. At what time(s) is the particle at rest (i.e. $v(t) = 0$)? \n",
    "1. What is the acceleration of the particle at a time of 5.3 seconds into its trajectory? (Hint: acceleration is the first derivative of the velocity)\n",
    "\n",
    "Original source: https://www.georgebrown.ca/sites/default/files/2020-05/Applications%20of%20Derivatives.pdf"
   ]
  },
  {
   "cell_type": "markdown",
   "id": "e75f8f54",
   "metadata": {},
   "source": [
    "First define what our sympy variable is:"
   ]
  },
  {
   "cell_type": "code",
   "execution_count": null,
   "id": "997ce091",
   "metadata": {},
   "outputs": [],
   "source": [
    "t = sympy.symbols('t')\n",
    "velocity_function = t**2 - 2*t - 8"
   ]
  },
  {
   "cell_type": "markdown",
   "id": "7be3b61b",
   "metadata": {},
   "source": [
    "1. Plot the function"
   ]
  },
  {
   "cell_type": "code",
   "execution_count": null,
   "id": "a81d259f",
   "metadata": {},
   "outputs": [],
   "source": [
    "plot_func = sympy.plot(velocity_function)"
   ]
  },
  {
   "cell_type": "markdown",
   "id": "70f9769b",
   "metadata": {},
   "source": [
    "2. At what time(s) is the particle at rest (i.e. $v(t) = 0$)?\n",
    "\n",
    "- That means we need to solve the equation an find its **roots**.\n",
    "\n",
    "As learned above, we do this using the `solve` function."
   ]
  },
  {
   "cell_type": "code",
   "execution_count": null,
   "id": "b84fd730",
   "metadata": {},
   "outputs": [],
   "source": [
    "solutions = sympy.solve(velocity_function)\n",
    "solutions"
   ]
  },
  {
   "cell_type": "markdown",
   "id": "a694ded5",
   "metadata": {},
   "source": [
    "However, now it is time to **think** about the solutions. \n",
    "\n",
    "Since a negative time is not possible in our scenario, the answer to the question can only be 4 seconds."
   ]
  },
  {
   "cell_type": "markdown",
   "id": "b534a2f0",
   "metadata": {},
   "source": [
    "3. What is the acceleration of the particle at t=3 seconds?\n",
    "\n",
    "- Recall that acceleration is defined as the first derivative of the velecity with respect to time\n",
    "\n",
    "$a(t) = \\frac{d}{dt} v(t) = \\frac{d}{dt} (t^2 - 2t - 8)$"
   ]
  },
  {
   "cell_type": "code",
   "execution_count": null,
   "id": "564b8dc8",
   "metadata": {},
   "outputs": [],
   "source": [
    "first_derivative = velocity_function.diff(t, 1)\n",
    "first_derivative"
   ]
  },
  {
   "cell_type": "markdown",
   "id": "abb4c245",
   "metadata": {},
   "source": [
    "Now evaluate the first derivative at a time of 5.3 seconds:"
   ]
  },
  {
   "cell_type": "code",
   "execution_count": null,
   "id": "58182e43",
   "metadata": {},
   "outputs": [],
   "source": [
    "time = 5.3"
   ]
  },
  {
   "cell_type": "code",
   "execution_count": null,
   "id": "548b8c74",
   "metadata": {},
   "outputs": [],
   "source": [
    "acceleration = first_derivative.evalf(subs = {t: time})\n",
    "acceleration"
   ]
  },
  {
   "cell_type": "code",
   "execution_count": null,
   "id": "28473b4d",
   "metadata": {},
   "outputs": [],
   "source": [
    "print(f'The acceleration of the particle at {time} s into its trajectory is '\n",
    "      f' {acceleration:0.1f} m/s^2.')"
   ]
  },
  {
   "cell_type": "markdown",
   "id": "bf8d6f2d",
   "metadata": {},
   "source": [
    "---\n",
    "Side note about how the unit was obtained:\n",
    "\n",
    "Derivative can also be expressed mathematically in a different way (i.e. via Leibniz):\n",
    "\n",
    "$\\frac{d}{dx} f(x) = \\lim_{x \\to x_0} f(x) = \\lim_{x \\to x_0} \\frac{f(x) - f(x_0)}{x - x_0}$\n",
    "\n",
    "if `f(x)` has units of $\\frac{\\text{meter}}{\\text{second}}$\n",
    "\n",
    "and `x` has units of $\\text{second}$, then we have\n",
    "\n",
    "$\\lim_{x \\to x_0} \\frac{\\frac{\\text{meter}}{\\text{second}} - \\frac{\\text{meter}}{\\text{second}}}{\\text{second} - \\text{seconds}}$\n",
    "\n",
    "$ = \\frac{\\frac{\\text{meter}}{\\text{second}}}{\\text{second}} = \\frac{\\text{meter}}{\\text{second second}} = \\frac{\\text{meter}}{\\text{second}^2}$"
   ]
  },
  {
   "cell_type": "code",
   "execution_count": null,
   "id": "5b57bc6b",
   "metadata": {},
   "outputs": [],
   "source": []
  }
 ],
 "metadata": {
  "kernelspec": {
   "display_name": "Python 3",
   "language": "python",
   "name": "python3"
  },
  "language_info": {
   "codemirror_mode": {
    "name": "ipython",
    "version": 3
   },
   "file_extension": ".py",
   "mimetype": "text/x-python",
   "name": "python",
   "nbconvert_exporter": "python",
   "pygments_lexer": "ipython3",
   "version": "3.8.5"
  }
 },
 "nbformat": 4,
 "nbformat_minor": 5
}
