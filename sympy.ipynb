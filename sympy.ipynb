{
 "cells": [
  {
   "cell_type": "markdown",
   "id": "0a9a849b",
   "metadata": {},
   "source": [
    "# Sympy [1] - Symbolic Python\n",
    "\n",
    "https://docs.sympy.org/latest/index.html\n",
    "\n",
    "https://github.com/sympy/sympy/wiki\n",
    "\n",
    "1. Meurer A, Smith CP, Paprocki M, Čertík O, Kirpichev SB, Rocklin M, Kumar A, Ivanov S, Moore JK, Singh S, Rathnayake T, Vig S, Granger BE, Muller RP, Bonazzi F, Gupta H, Vats S, Johansson F, Pedregosa F, Curry MJ, Terrel AR, Roučka Š, Saboo A, Fernando I, Kulal S, Cimrman R, Scopatz A. (2017) SymPy: symbolic computing in Python. PeerJ Computer Science 3:e103 https://doi.org/10.7717/peerj-cs.103\n",
    "\n",
    "<!-- @article{10.7717/peerj-cs.103,\n",
    " title = {SymPy: symbolic computing in Python},\n",
    " author = {Meurer, Aaron and Smith, Christopher P. and Paprocki, Mateusz and \\v{C}ert\\'{i}k, Ond\\v{r}ej and Kirpichev, Sergey B. and Rocklin, Matthew and Kumar, AMiT and Ivanov, Sergiu and Moore, Jason K. and Singh, Sartaj and Rathnayake, Thilina and Vig, Sean and Granger, Brian E. and Muller, Richard P. and Bonazzi, Francesco and Gupta, Harsh and Vats, Shivam and Johansson, Fredrik and Pedregosa, Fabian and Curry, Matthew J. and Terrel, Andy R. and Rou\\v{c}ka, \\v{S}t\\v{e}p\\'{a}n and Saboo, Ashutosh and Fernando, Isuru and Kulal, Sumith and Cimrman, Robert and Scopatz, Anthony},\n",
    " year = 2017,\n",
    " month = jan,\n",
    " keywords = {Python, Computer algebra system, Symbolics},\n",
    " abstract = {\n",
    "            SymPy is an open source computer algebra system written in pure Python. It is built with a focus on extensibility and ease of use, through both interactive and programmatic applications. These characteristics have led SymPy to become a popular symbolic library for the scientific Python ecosystem. This paper presents the architecture of SymPy, a description of its features, and a discussion of select submodules. The supplementary material provide additional examples and further outline details of the architecture and features of SymPy.\n",
    "         },\n",
    " volume = 3,\n",
    " pages = {e103},\n",
    " journal = {PeerJ Computer Science},\n",
    " issn = {2376-5992},\n",
    " url = {https://doi.org/10.7717/peerj-cs.103},\n",
    " doi = {10.7717/peerj-cs.103}\n",
    "} -->"
   ]
  },
  {
   "cell_type": "code",
   "execution_count": 25,
   "id": "53914935",
   "metadata": {},
   "outputs": [],
   "source": [
    "import sympy"
   ]
  },
  {
   "cell_type": "code",
   "execution_count": 2,
   "id": "b5109d43",
   "metadata": {},
   "outputs": [],
   "source": [
    "x, y, z, t = sympy.symbols('x y z t')"
   ]
  },
  {
   "cell_type": "markdown",
   "id": "aba04982",
   "metadata": {},
   "source": [
    "#### Two coefficients: [M, N] --> $Mx + N$\n",
    "- Note how the M shifts to the x"
   ]
  },
  {
   "cell_type": "code",
   "execution_count": 3,
   "id": "01e2c9f4",
   "metadata": {},
   "outputs": [
    {
     "data": {
      "text/latex": [
       "$\\displaystyle \\operatorname{Poly}{\\left( x + 2, x, domain=\\mathbb{Z} \\right)}$"
      ],
      "text/plain": [
       "Poly(x + 2, x, domain='ZZ')"
      ]
     },
     "execution_count": 3,
     "metadata": {},
     "output_type": "execute_result"
    }
   ],
   "source": [
    "sympy.poly(1*x + 2)"
   ]
  },
  {
   "cell_type": "code",
   "execution_count": 4,
   "id": "571dfd46",
   "metadata": {},
   "outputs": [],
   "source": [
    "polynomial_1_degree = sympy.poly(1*x + 2)"
   ]
  },
  {
   "cell_type": "markdown",
   "id": "77dea0a5",
   "metadata": {},
   "source": [
    "#### Three coefficients: [M, N, O] --> $Mx^2 + Nx + O$"
   ]
  },
  {
   "cell_type": "code",
   "execution_count": 5,
   "id": "f3ad00b6",
   "metadata": {},
   "outputs": [
    {
     "data": {
      "text/latex": [
       "$\\displaystyle \\operatorname{Poly}{\\left( -4 x^{2} + x - 2, x, domain=\\mathbb{Z} \\right)}$"
      ],
      "text/plain": [
       "Poly(-4*x**2 + x - 2, x, domain='ZZ')"
      ]
     },
     "execution_count": 5,
     "metadata": {},
     "output_type": "execute_result"
    }
   ],
   "source": [
    "polynomial_2_degree = sympy.poly(-4*x**2 + 1*x -2)\n",
    "polynomial_2_degree"
   ]
  },
  {
   "cell_type": "markdown",
   "id": "623f646f",
   "metadata": {},
   "source": [
    "Print the degree:"
   ]
  },
  {
   "cell_type": "code",
   "execution_count": 6,
   "id": "a2ed11cc",
   "metadata": {},
   "outputs": [
    {
     "data": {
      "text/latex": [
       "$\\displaystyle 2$"
      ],
      "text/plain": [
       "2"
      ]
     },
     "execution_count": 6,
     "metadata": {},
     "output_type": "execute_result"
    }
   ],
   "source": [
    "sympy.degree(-4*x**2 + 1*x -2)"
   ]
  },
  {
   "cell_type": "code",
   "execution_count": 7,
   "id": "636dd0b8",
   "metadata": {},
   "outputs": [
    {
     "data": {
      "text/latex": [
       "$\\displaystyle 2$"
      ],
      "text/plain": [
       "2"
      ]
     },
     "execution_count": 7,
     "metadata": {},
     "output_type": "execute_result"
    }
   ],
   "source": [
    "sympy.degree(polynomial_2_degree)"
   ]
  },
  {
   "cell_type": "markdown",
   "id": "2714ae9d",
   "metadata": {},
   "source": [
    "Evaluate the polynomial"
   ]
  },
  {
   "cell_type": "code",
   "execution_count": 8,
   "id": "479e02e7",
   "metadata": {},
   "outputs": [
    {
     "data": {
      "text/latex": [
       "$\\displaystyle -16$"
      ],
      "text/plain": [
       "-16"
      ]
     },
     "execution_count": 8,
     "metadata": {},
     "output_type": "execute_result"
    }
   ],
   "source": [
    "polynomial_2_degree(2)"
   ]
  },
  {
   "cell_type": "markdown",
   "id": "8add29cf",
   "metadata": {},
   "source": [
    "### Expanding a polynomial\n",
    "\n",
    "Notice: we are not specifying the poly in front now."
   ]
  },
  {
   "cell_type": "code",
   "execution_count": 9,
   "id": "8a6df95a",
   "metadata": {},
   "outputs": [
    {
     "data": {
      "text/latex": [
       "$\\displaystyle \\left(- 4 x^{2} + x - 2\\right)^{2}$"
      ],
      "text/plain": [
       "(-4*x**2 + x - 2)**2"
      ]
     },
     "execution_count": 9,
     "metadata": {},
     "output_type": "execute_result"
    }
   ],
   "source": [
    "polynomial = (-4*x**2 + 1*x -2)**2\n",
    "polynomial"
   ]
  },
  {
   "cell_type": "code",
   "execution_count": 10,
   "id": "44e35c86",
   "metadata": {},
   "outputs": [
    {
     "data": {
      "text/latex": [
       "$\\displaystyle 16 x^{4} - 8 x^{3} + 17 x^{2} - 4 x + 4$"
      ],
      "text/plain": [
       "16*x**4 - 8*x**3 + 17*x**2 - 4*x + 4"
      ]
     },
     "execution_count": 10,
     "metadata": {},
     "output_type": "execute_result"
    }
   ],
   "source": [
    "polynomial.expand()"
   ]
  },
  {
   "cell_type": "code",
   "execution_count": 11,
   "id": "c1927aa2",
   "metadata": {},
   "outputs": [
    {
     "data": {
      "text/latex": [
       "$\\displaystyle \\left(- 4 x^{2} + x - 2\\right)^{2}$"
      ],
      "text/plain": [
       "(-4*x**2 + x - 2)**2"
      ]
     },
     "execution_count": 11,
     "metadata": {},
     "output_type": "execute_result"
    }
   ],
   "source": [
    "polynomial"
   ]
  },
  {
   "cell_type": "markdown",
   "id": "3ef4e4da",
   "metadata": {},
   "source": [
    "### Factor a polynomial"
   ]
  },
  {
   "cell_type": "code",
   "execution_count": 12,
   "id": "b05600ed",
   "metadata": {},
   "outputs": [
    {
     "data": {
      "text/latex": [
       "$\\displaystyle \\left(4 x^{2} - x + 2\\right)^{2}$"
      ],
      "text/plain": [
       "(4*x**2 - x + 2)**2"
      ]
     },
     "execution_count": 12,
     "metadata": {},
     "output_type": "execute_result"
    }
   ],
   "source": [
    "(16*x**4 - 8*x**3 + 17*x**2 - 4*x + 4).factor()"
   ]
  },
  {
   "cell_type": "markdown",
   "id": "e1351f61",
   "metadata": {},
   "source": [
    "### Multiply two polynomials together"
   ]
  },
  {
   "cell_type": "code",
   "execution_count": 13,
   "id": "253adf30",
   "metadata": {},
   "outputs": [
    {
     "data": {
      "text/latex": [
       "$\\displaystyle \\operatorname{Poly}{\\left( -4 x^{3} - 7 x^{2} - 4, x, domain=\\mathbb{Z} \\right)}$"
      ],
      "text/plain": [
       "Poly(-4*x**3 - 7*x**2 - 4, x, domain='ZZ')"
      ]
     },
     "execution_count": 13,
     "metadata": {},
     "output_type": "execute_result"
    }
   ],
   "source": [
    "polynomial_1_degree * polynomial_2_degree"
   ]
  },
  {
   "cell_type": "markdown",
   "id": "95ca191f",
   "metadata": {},
   "source": [
    "### Multiple variables"
   ]
  },
  {
   "cell_type": "code",
   "execution_count": 14,
   "id": "68a31b05",
   "metadata": {},
   "outputs": [
    {
     "data": {
      "text/latex": [
       "$\\displaystyle \\left(x + y\\right) \\left(y - 2 z\\right)$"
      ],
      "text/plain": [
       "(x + y)*(y - 2*z)"
      ]
     },
     "execution_count": 14,
     "metadata": {},
     "output_type": "execute_result"
    }
   ],
   "source": [
    "poly_multi_var = (x + y)*(y - 2*z)\n",
    "poly_multi_var"
   ]
  },
  {
   "cell_type": "code",
   "execution_count": 15,
   "id": "23836904",
   "metadata": {},
   "outputs": [],
   "source": [
    "#poly_multi_var(x=1, y=2, z=3)"
   ]
  },
  {
   "cell_type": "markdown",
   "id": "b9da901d",
   "metadata": {},
   "source": [
    "## Calculus\n",
    "\n",
    "### Derivatives\n",
    "First derivative"
   ]
  },
  {
   "cell_type": "code",
   "execution_count": 16,
   "id": "96b99a1c",
   "metadata": {},
   "outputs": [
    {
     "data": {
      "text/latex": [
       "$\\displaystyle 2 x^{3} + 1$"
      ],
      "text/plain": [
       "2*x**3 + 1"
      ]
     },
     "execution_count": 16,
     "metadata": {},
     "output_type": "execute_result"
    }
   ],
   "source": [
    "polynomial = 2*x**3 + 1\n",
    "polynomial"
   ]
  },
  {
   "cell_type": "code",
   "execution_count": 17,
   "id": "9bc104e6",
   "metadata": {},
   "outputs": [
    {
     "data": {
      "text/latex": [
       "$\\displaystyle 6 x^{2}$"
      ],
      "text/plain": [
       "6*x**2"
      ]
     },
     "execution_count": 17,
     "metadata": {},
     "output_type": "execute_result"
    }
   ],
   "source": [
    "polynomial.diff(x)"
   ]
  },
  {
   "cell_type": "markdown",
   "id": "9cbba36a",
   "metadata": {},
   "source": [
    "Second derivative"
   ]
  },
  {
   "cell_type": "code",
   "execution_count": 18,
   "id": "c550a876",
   "metadata": {},
   "outputs": [
    {
     "data": {
      "text/latex": [
       "$\\displaystyle 12 x$"
      ],
      "text/plain": [
       "12*x"
      ]
     },
     "execution_count": 18,
     "metadata": {},
     "output_type": "execute_result"
    }
   ],
   "source": [
    "polynomial.diff(x, 2)"
   ]
  },
  {
   "cell_type": "markdown",
   "id": "9b860050",
   "metadata": {},
   "source": [
    "### Integration\n",
    "\n",
    "Indefinite integral"
   ]
  },
  {
   "cell_type": "code",
   "execution_count": 19,
   "id": "c1c15097",
   "metadata": {},
   "outputs": [
    {
     "data": {
      "text/latex": [
       "$\\displaystyle 2 x^{3} + 1$"
      ],
      "text/plain": [
       "2*x**3 + 1"
      ]
     },
     "execution_count": 19,
     "metadata": {},
     "output_type": "execute_result"
    }
   ],
   "source": [
    "polynomial"
   ]
  },
  {
   "cell_type": "code",
   "execution_count": 20,
   "id": "a707f2d8",
   "metadata": {},
   "outputs": [
    {
     "data": {
      "text/latex": [
       "$\\displaystyle \\frac{x^{4}}{2} + x$"
      ],
      "text/plain": [
       "x**4/2 + x"
      ]
     },
     "execution_count": 20,
     "metadata": {},
     "output_type": "execute_result"
    }
   ],
   "source": [
    "polynomial.integrate(x)"
   ]
  },
  {
   "cell_type": "markdown",
   "id": "40b3694f",
   "metadata": {},
   "source": [
    "Definate integral\n",
    "\n",
    "Notice: the tuple being passed (i.e. `(x, 1 ,2)`)"
   ]
  },
  {
   "cell_type": "code",
   "execution_count": 21,
   "id": "51a8c234",
   "metadata": {},
   "outputs": [
    {
     "data": {
      "text/latex": [
       "$\\displaystyle \\frac{17}{2}$"
      ],
      "text/plain": [
       "17/2"
      ]
     },
     "execution_count": 21,
     "metadata": {},
     "output_type": "execute_result"
    }
   ],
   "source": [
    "polynomial.integrate((x, 1, 2))"
   ]
  },
  {
   "cell_type": "markdown",
   "id": "92a06dea",
   "metadata": {},
   "source": [
    "## Visualizing functions (i.e. plotting)\n",
    "\n",
    "- backend: matplotlib"
   ]
  },
  {
   "cell_type": "code",
   "execution_count": 22,
   "id": "fe4ae6e7",
   "metadata": {},
   "outputs": [
    {
     "data": {
      "image/png": "[encoded data removed]",
      "text/plain": [
       "<Figure size 432x288 with 1 Axes>"
      ]
     },
     "metadata": {
      "needs_background": "light"
     },
     "output_type": "display_data"
    },
    {
     "data": {
      "text/plain": [
       "<sympy.plotting.plot.Plot at 0x7f80ec53a6d0>"
      ]
     },
     "execution_count": 22,
     "metadata": {},
     "output_type": "execute_result"
    }
   ],
   "source": [
    "sympy.plot(x**2 + 20)"
   ]
  },
  {
   "cell_type": "markdown",
   "id": "1bafff8e",
   "metadata": {},
   "source": [
    "Change the x-axis range:"
   ]
  },
  {
   "cell_type": "code",
   "execution_count": 39,
   "id": "7643d7bc",
   "metadata": {},
   "outputs": [
    {
     "data": {
      "image/png": "[encoded data removed]",
      "text/plain": [
       "<Figure size 432x288 with 1 Axes>"
      ]
     },
     "metadata": {
      "needs_background": "light"
     },
     "output_type": "display_data"
    },
    {
     "data": {
      "text/plain": [
       "<sympy.plotting.plot.Plot at 0x7f80c5621910>"
      ]
     },
     "execution_count": 39,
     "metadata": {},
     "output_type": "execute_result"
    }
   ],
   "source": [
    "sympy.plot(x**2 + 20, (x, -2, 2))"
   ]
  },
  {
   "cell_type": "code",
   "execution_count": 37,
   "id": "00780fd5",
   "metadata": {},
   "outputs": [
    {
     "data": {
      "image/png": "[encoded data removed]",
      "text/plain": [
       "<Figure size 432x288 with 1 Axes>"
      ]
     },
     "metadata": {
      "needs_background": "light"
     },
     "output_type": "display_data"
    },
    {
     "data": {
      "image/png": "[encoded data removed]",
      "text/plain": [
       "<Figure size 432x288 with 1 Axes>"
      ]
     },
     "metadata": {
      "needs_background": "light"
     },
     "output_type": "display_data"
    }
   ],
   "source": [
    "function = x**4\n",
    "plot_1 = sympy.plot(function)\n",
    "plot_2 = sympy.plot(polynomial.diff(x, 1))"
   ]
  },
  {
   "cell_type": "markdown",
   "id": "b1eba97d",
   "metadata": {},
   "source": [
    "## Solving equations"
   ]
  },
  {
   "cell_type": "markdown",
   "id": "a215e16b",
   "metadata": {},
   "source": [
    "Equation:\n",
    "\n",
    "$x^2 = 4$\n",
    "\n",
    "Rearrange:\n",
    "\n",
    "$x^2 -4 = 0$\n",
    "\n",
    "Solve:\n",
    "\n",
    "Solutions are\n",
    "1. x = 2\n",
    "1. x = -2"
   ]
  },
  {
   "cell_type": "code",
   "execution_count": 23,
   "id": "66c52fb4",
   "metadata": {},
   "outputs": [
    {
     "data": {
      "text/plain": [
       "[-2, 2]"
      ]
     },
     "execution_count": 23,
     "metadata": {},
     "output_type": "execute_result"
    }
   ],
   "source": [
    "solutions = sympy.solve(x**2 - 4)\n",
    "solutions"
   ]
  },
  {
   "cell_type": "code",
   "execution_count": 24,
   "id": "d5c1c29d",
   "metadata": {},
   "outputs": [
    {
     "data": {
      "text/latex": [
       "$\\displaystyle -2$"
      ],
      "text/plain": [
       "-2"
      ]
     },
     "execution_count": 24,
     "metadata": {},
     "output_type": "execute_result"
    }
   ],
   "source": [
    "solutions[0]"
   ]
  },
  {
   "cell_type": "code",
   "execution_count": null,
   "id": "67dd45e4",
   "metadata": {},
   "outputs": [],
   "source": []
  }
 ],
 "metadata": {
  "kernelspec": {
   "display_name": "Python 3",
   "language": "python",
   "name": "python3"
  },
  "language_info": {
   "codemirror_mode": {
    "name": "ipython",
    "version": 3
   },
   "file_extension": ".py",
   "mimetype": "text/x-python",
   "name": "python",
   "nbconvert_exporter": "python",
   "pygments_lexer": "ipython3",
   "version": "3.8.5"
  }
 },
 "nbformat": 4,
 "nbformat_minor": 5
}
