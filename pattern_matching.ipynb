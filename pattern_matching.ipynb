{
 "cells": [
  {
   "cell_type": "markdown",
   "id": "e36b9cec",
   "metadata": {},
   "source": [
    "\n",
    "<div class=\"alert block alert-info alert\">\n",
    "\n",
    "# <center> Scientific Programming in Python\n",
    "## <center>Karl N. Kirschner<br>Bonn-Rhein-Sieg University of Applied Sciences<br>Sankt Augustin, Germany\n",
    "\n",
    "# <center> Pattern Matching\n",
    "\n",
    "Python's answer to the **switch-case statements** (e.g., as found in C++).\n",
    "\n",
    "#### Sources\n",
    "\n",
    "1. Brandt Bucher, Daniel F Moisset, Tobias Kohn, Ivan Levkivskyi, Guido van Rossum, Talin \"PEP 622 – Structural Pattern Matching\", 23.06.2020 (https://peps.python.org/pep-0622/#id1)\n",
    "\n",
    "2. Yang Zhou, \"8 Levels of Using Structural Pattern Matching in Python\", Medium, 22.12.2023 (https://medium.com/techtofreedom/8-levels-of-using-structural-pattern-matching-in-python-d76282d5630f)"
   ]
  },
  {
   "cell_type": "markdown",
   "id": "ec8ed987",
   "metadata": {},
   "source": [
    "## Basic Example"
   ]
  },
  {
   "cell_type": "code",
   "execution_count": null,
   "id": "35d36e61",
   "metadata": {},
   "outputs": [],
   "source": [
    "def model_name(model_abbrev):\n",
    "\n",
    "    match model_abbrev:\n",
    "\n",
    "        case 'HF':\n",
    "            return \"Hartree Fock\"\n",
    "        case 'ML':\n",
    "            return \"Machine Learning\""
   ]
  },
  {
   "cell_type": "code",
   "execution_count": null,
   "id": "b1b77510",
   "metadata": {},
   "outputs": [],
   "source": [
    "for model in ['HF', 'ML', 'AM1']:\n",
    "    print(model_name(model))"
   ]
  },
  {
   "cell_type": "markdown",
   "id": "f4717a33",
   "metadata": {},
   "source": [
    "## Use of an underscore (`_`)"
   ]
  },
  {
   "cell_type": "code",
   "execution_count": null,
   "id": "b450afb0",
   "metadata": {},
   "outputs": [],
   "source": [
    "def model_name(model_abbrev):\n",
    "    match model_abbrev:\n",
    "        case 'HF':\n",
    "            return \"Hartree Fock\"\n",
    "        case 'ML':\n",
    "            return \"Machine Learning\"\n",
    "        case _:\n",
    "            return \"Model abbreviation not found.\""
   ]
  },
  {
   "cell_type": "code",
   "execution_count": null,
   "id": "d5303081",
   "metadata": {},
   "outputs": [],
   "source": [
    "for model in ['HF', 'ML', 'AM1']:\n",
    "    print(model_name(model))"
   ]
  },
  {
   "cell_type": "markdown",
   "id": "565278c9",
   "metadata": {},
   "source": [
    "## Multiple pattern matchings"
   ]
  },
  {
   "cell_type": "code",
   "execution_count": null,
   "id": "e184c5b5",
   "metadata": {},
   "outputs": [],
   "source": [
    "def model_name(model_abbrev):\n",
    "    match model_abbrev:\n",
    "        case 'GAFF' | \"OPLS\" | \"Parm99\":\n",
    "            return \"Force Fields\"\n",
    "        case _:\n",
    "            return \"Model abbreviation not found.\""
   ]
  },
  {
   "cell_type": "code",
   "execution_count": null,
   "id": "a998e982",
   "metadata": {},
   "outputs": [],
   "source": [
    "for model in ['OPLS', 'GAFF']:\n",
    "    print(model_name(model))"
   ]
  },
  {
   "cell_type": "markdown",
   "id": "44ebac51",
   "metadata": {},
   "source": [
    "## Multiple pattern matchings with `as`"
   ]
  },
  {
   "cell_type": "code",
   "execution_count": null,
   "id": "a3260401",
   "metadata": {},
   "outputs": [],
   "source": [
    "def model_name(model_abbrev):\n",
    "    match model_abbrev:\n",
    "        case 'GAFF' | \"OPLS\" | \"Parm99\" as force_field:\n",
    "            return f\"Force Field: {force_field}\"\n",
    "        case _:\n",
    "            return \"Model abbreviation not found.\""
   ]
  },
  {
   "cell_type": "code",
   "execution_count": null,
   "id": "2fe33c57",
   "metadata": {},
   "outputs": [],
   "source": [
    "for model in ['OPLS', 'GAFF', \"AM1\"]:\n",
    "    print(model_name(model))"
   ]
  },
  {
   "cell_type": "markdown",
   "id": "a1ca4dc4",
   "metadata": {},
   "source": [
    "## Example of using if-else statement:"
   ]
  },
  {
   "cell_type": "code",
   "execution_count": null,
   "id": "1375bde8",
   "metadata": {},
   "outputs": [],
   "source": [
    "def model_name(model_abbrev):\n",
    "    if model_abbrev in (\"GAFF\", \"OPLS\", \"Parm99\"):\n",
    "        return f\"Force Field: {model_abbrev}\"\n",
    "    else:\n",
    "        return \"Model abbreviation not found.\""
   ]
  },
  {
   "cell_type": "code",
   "execution_count": null,
   "id": "9614f379",
   "metadata": {},
   "outputs": [],
   "source": [
    "for model in ['OPLS', 'GAFF', \"AM1\"]:\n",
    "    print(model_name(model))"
   ]
  },
  {
   "cell_type": "markdown",
   "id": "37bcd330",
   "metadata": {},
   "source": [
    "## Extended Examples"
   ]
  },
  {
   "cell_type": "code",
   "execution_count": null,
   "id": "ce596324",
   "metadata": {},
   "outputs": [],
   "source": [
    "import math"
   ]
  },
  {
   "cell_type": "code",
   "execution_count": null,
   "id": "954077e2",
   "metadata": {},
   "outputs": [],
   "source": [
    "def cart_2_polar_2d(x, y):\n",
    "    ''' Conversion of Cartesian coordinates to polar coordinates.\n",
    "    \n",
    "        Sources:\n",
    "            1. Wikipedia. 2023. \"Polar Coordinate System.\" Wikimedia Foundation.\n",
    "                Last modified 28.12.2023. https://en.wikipedia.org/wiki/Polar_coordinate_system.\n",
    "    '''\n",
    "   \n",
    "    r = math.sqrt(x**2 + y**2)\n",
    "\n",
    "    x = math.radians(x)\n",
    "    y = math.radians(y)\n",
    "    \n",
    "    theta = math.atan(y/x)\n",
    "\n",
    "    print(f'r: {r} \\ntheta: {math.degrees(theta)}')\n",
    "    \n",
    "    \n",
    "def cart_2_spherical(x, y, z):\n",
    "    ''' Conversion of 3D Cartesian coordinates to spherical coordinates.\n",
    "    \n",
    "        Sources:\n",
    "            1. Wikipedia. 2024. \"Spherical Coordinate System.\" Wikimedia Foundation.\n",
    "                Last modified 21.1.2024 (https://en.wikipedia.org/wiki/Spherical_coordinate_system)\n",
    "                https://en.wikipedia.org/wiki/Spherical_coordinate_system.\n",
    "            2. DeusDev. \"How to manipulate a 3D array to convert from cartesian coordinates to\n",
    "                spherical coordinates\" 8.7.2021 (https://stackoverflow.com/a/68308668)\n",
    "    '''\n",
    "    \n",
    "    r = math.sqrt(x**2 + y**2 + z**2)\n",
    "\n",
    "    x = math.radians(x)\n",
    "    y = math.radians(y)\n",
    "    z = math.radians(z)\n",
    "\n",
    "    phi = math.atan(math.sqrt(x**2 + y**2)/z)\n",
    "    theta = math.atan(y/x)\n",
    "\n",
    "    print(f'r: {r} \\nphi: {phi} \\ntheta: {theta} degrees')"
   ]
  },
  {
   "cell_type": "code",
   "execution_count": null,
   "id": "effd67e4",
   "metadata": {},
   "outputs": [],
   "source": [
    "def cartesian_conversion(point):\n",
    "    ''' Convert Cartesian coordinates to polar or spherical coordinates.\n",
    "    \n",
    "    '''\n",
    "    match point:\n",
    "        case (x, y):\n",
    "            return cart_2_polar_2d(x, y)\n",
    "        case (x, y, z):\n",
    "            return cart_2_polar_3d(x, y, z)\n",
    "        case _:\n",
    "            raise TypeError(\"Not enough data given for conversion.\")"
   ]
  },
  {
   "cell_type": "code",
   "execution_count": null,
   "id": "943db6b4",
   "metadata": {},
   "outputs": [],
   "source": [
    "cartesian_conversion(point=(12, 5))"
   ]
  },
  {
   "cell_type": "code",
   "execution_count": null,
   "id": "dea40ca7",
   "metadata": {},
   "outputs": [],
   "source": [
    "cartesian_conversion(point=(0.2864, 0.938, 0.9243))"
   ]
  },
  {
   "cell_type": "code",
   "execution_count": null,
   "id": "7dc1d87f",
   "metadata": {},
   "outputs": [],
   "source": [
    "cartesian_conversion(point=(0.2864))"
   ]
  }
 ],
 "metadata": {
  "kernelspec": {
   "display_name": "Python 3 (ipykernel)",
   "language": "python",
   "name": "python3"
  },
  "language_info": {
   "codemirror_mode": {
    "name": "ipython",
    "version": 3
   },
   "file_extension": ".py",
   "mimetype": "text/x-python",
   "name": "python",
   "nbconvert_exporter": "python",
   "pygments_lexer": "ipython3",
   "version": "3.10.13"
  }
 },
 "nbformat": 4,
 "nbformat_minor": 5
}
