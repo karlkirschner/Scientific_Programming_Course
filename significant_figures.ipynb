{
 "cells": [
  {
   "cell_type": "markdown",
   "metadata": {},
   "source": [
    "<div class=\"alert block alert-info alert\">\n",
    "\n",
    "# <center> Scientific Programming in Python\n",
    "## <center>Karl N. Kirschner<br>Bonn-Rhein-Sieg University of Applied Sciences<br>Sankt Augustin, Germany\n",
    "\n",
    "# <center> Significant Figures\n",
    "\n",
    "<hr style=\"border:2px solid gray\"></hr>"
   ]
  },
  {
   "cell_type": "markdown",
   "metadata": {},
   "source": [
    "<p><img alt=\"Accuracy vs Precision\" width=\"800\" src=\"00_images/alexander-muzenhardt-753371-unsplash.jpg\" align=\"center\" hspace=\"10px\" vspace=\"0px\"></p>\n",
    "\n",
    "---"
   ]
  },
  {
   "cell_type": "markdown",
   "metadata": {},
   "source": [
    "## Accuracy versus Precision\n",
    "#### What is the difference between the two?\n",
    "\n",
    "(A visual attempt to place the idea of significant figures into context)"
   ]
  },
  {
   "cell_type": "markdown",
   "metadata": {},
   "source": [
    "<font color='red'>Red</font> = target value\n",
    "\n",
    "<font color='dodgerblue'>Blue</font> and <font color='orange'>Orange</font> = two different data sets, measure by two different people\n",
    "\n",
    "All of the points look close together - the data all appears to be equally good.\n",
    "\n",
    "<p><img alt=\"Accuracy vs Precision\" width=\"400\" src=\"00_images/accuracy_vs_precision_1.png\" align=\"left\" hspace=\"10px\" vspace=\"0px\"></p>"
   ]
  },
  {
   "cell_type": "markdown",
   "metadata": {},
   "source": [
    "<br><br><br>\n",
    "<br><br><br>\n",
    "<br><br><br>"
   ]
  },
  {
   "cell_type": "markdown",
   "metadata": {},
   "source": [
    "Create a more appropriate scale - things look a bit different now.\n",
    "\n",
    "<p><img alt=\"Accuracy vs Precision\" width=\"400\" src=\"00_images/accuracy_vs_precision_2.png\" align=\"left\" hspace=\"10px\" vspace=\"0px\"></p>\n",
    "\n",
    "<br>\n",
    "<br>\n",
    "<br>\n",
    "<br>\n",
    "\n",
    "The most <font color='dodgerblue'>**accurate**</font> value is **one** (i.e. a singluar data point) of the <font color='dodgerblue'>**blue**</font> dots, while the higher <font color='orange'>**precision**</font> values are represented by the <font color='orange'>**orange**</font>  dots."
   ]
  },
  {
   "cell_type": "markdown",
   "metadata": {},
   "source": [
    "<br><br><br>\n",
    "<br><br><br>\n",
    "<br><br><br>"
   ]
  },
  {
   "cell_type": "markdown",
   "metadata": {},
   "source": [
    "However, note that even if you look at the highly precise values (i.e. orange dots), you notice a distribution in the data.\n",
    "\n",
    "<p><img alt=\"Accuracy vs Precision\" width=\"400\" src=\"00_images/accuracy_vs_precision_3.png\" align=\"left\" hspace=\"10px\" vspace=\"0px\"></p>"
   ]
  },
  {
   "cell_type": "markdown",
   "metadata": {},
   "source": [
    "**Important**: Notice how **using additional digits** to report the tick lables is **provides** us with **more knowledge** about the data that we obtained.\n",
    "\n",
    "### It seems that the <font color='dodgerblue'>number of digits</font> for a data value is <font color='dodgerblue'>related</font> to its <font color='dodgerblue'>information content</font>.\n",
    "<br><br><br>\n",
    "<br><br><br>\n",
    "<br><br><br>"
   ]
  },
  {
   "cell_type": "markdown",
   "metadata": {},
   "source": [
    "<hr style=\"border:2px solid gray\"></hr>\n",
    "\n",
    "## Question\n",
    "\n",
    "Three researchers are measuring the size of a device that will be fitted onto a satellite. This is done independently from one another.\n",
    "\n",
    "Researcher 1: 10.39 cm\n",
    "\n",
    "Researcher 2: 10.3 cm\n",
    "\n",
    "Researcher 3: 10.37 cm\n",
    "\n",
    "<br><br>\n",
    "To give their boss their best measurement value, they **average their values**.\n",
    "\n",
    "**What is the average value that they should report?**"
   ]
  },
  {
   "cell_type": "markdown",
   "metadata": {},
   "source": [
    "<!-- <br><br>\n",
    "What about the a different data set?\n",
    "\n",
    "Researcher 1: 10.36\n",
    "\n",
    "Researcher 2: 10.3\n",
    "\n",
    "Researcher 3: 10.35\n",
    "    \n",
    "What value is reported to the boss?\n",
    "\n",
    "<br><br><br>\n",
    "<br><br><br>\n",
    "<br><br><br> -->"
   ]
  },
  {
   "cell_type": "markdown",
   "metadata": {},
   "source": [
    "**Possible** ways to answer this:"
   ]
  },
  {
   "cell_type": "code",
   "execution_count": null,
   "metadata": {},
   "outputs": [],
   "source": []
  },
  {
   "cell_type": "code",
   "execution_count": null,
   "metadata": {},
   "outputs": [],
   "source": [
    "## First data set\n",
    "(10.39 + 10.3 + 10.37)/3"
   ]
  },
  {
   "cell_type": "markdown",
   "metadata": {},
   "source": [
    "If we were to write/print this out, we could then give the following:"
   ]
  },
  {
   "cell_type": "code",
   "execution_count": null,
   "metadata": {},
   "outputs": [],
   "source": [
    "## round the number to two decimal places, which we arbitrarily decided:\n",
    "round((10.39 + 10.3 + 10.37)/3, 2)"
   ]
  },
  {
   "cell_type": "markdown",
   "metadata": {},
   "source": [
    "Or if we do it more properly:\n",
    "\n",
    "$\\frac{10.39 + 10.3 + 10.37}{3} = 10.35\\bar{3}$\n",
    "<br><br><br>\n",
    "<br><br><br>\n",
    "<br><br><br>"
   ]
  },
  {
   "cell_type": "markdown",
   "metadata": {},
   "source": [
    "<!-- # ## Second data set\n",
    "# (10.36 + 10.3 + 10.35)/3 -->"
   ]
  },
  {
   "cell_type": "markdown",
   "metadata": {},
   "source": [
    "<!-- $\\frac{10.36 + 10.3 + 10.35}{3} = 10.33\\bar{6}$\n",
    "<br><br><br>\n",
    "<br><br><br>\n",
    "<br><br><br> -->"
   ]
  },
  {
   "cell_type": "markdown",
   "metadata": {},
   "source": [
    "or you do some **pre-rounding** of each individual data point **before** you do the mathematics:\n",
    "\n",
    "$\\frac{10.4 + 10.3 + 10.4}{3} = 10.3\\bar{6}$\n",
    "\n",
    "All of this seems correct, right?\n",
    "<br><br><br>\n",
    "<br><br><br>\n",
    "<br><br><br>"
   ]
  },
  {
   "cell_type": "markdown",
   "metadata": {},
   "source": [
    "However, the **correct answers** is:\n",
    "\n",
    "Data set 1: <font color='dodgerblue'>**10.4**</font>\n",
    "\n",
    "<!-- Data set 2 (i.e.10.36, 10.3, 10.35): 10.3 -->\n",
    "\n",
    "**Why report the number as XX.Y?**\n",
    "<br><br><br>\n",
    "<br><br><br>\n",
    "<br><br><br>"
   ]
  },
  {
   "cell_type": "markdown",
   "metadata": {},
   "source": [
    "## Significant figures / significant digits / sigfigs\n",
    "\n",
    "**What are sigfigs?**\n",
    "\n",
    "Significant figures corresponds to how **precise** a measurement is.\n"
   ]
  },
  {
   "cell_type": "markdown",
   "metadata": {},
   "source": [
    "## Firm Rules for Sigfigs\n",
    "\n",
    "1. <font color='dodgerblue'>All non-zero digits are significant</font>: **1, 2, 3, 4, 5, 6, 7, 8, 9**\n",
    "<br>\n",
    "<br>\n",
    "2. <font color='dodgerblue'>Zeros between non-zero digits are significant</font>: 1**0**2.0, 2**00**5.0, 5**000**9.0\n",
    "\n",
    "    (However the total number of sigfigs in the entire number <font color='red'>101</font> -- i.e. without the decimal point -- is actually **unclear**. We will come to this soon.)\n",
    "<br>\n",
    "<br>\n",
    "3. <font color='dodgerblue'>Leading zeros are <font color='red'>never</font> significant</font>: <font color='red'>00</font>1, <font color='red'>0.0</font>2, <font color='red'>00</font>1.887, <font color='red'>0.000</font>515\n",
    "\n",
    "    They are **placeholders**, putting the decimal point in the right place.\n",
    "\n",
    "    (In **scientific notation**, they disappear $\\rightarrow$ 0.000515 becomes 5.15 x 10$^{-4}$)\n",
    "<br>\n",
    "<br>\n",
    "4. <font color='dodgerblue'>For number within the decimals - trailing (i.e. after a significant number) zeros are significant</font>: 0.02**0**\n",
    "\n",
    "\n",
    "(Note: alternative scientific notation: 5.15E-4 and 5.15e-4 - https://en.wikipedia.org/wiki/Scientific_notation)"
   ]
  },
  {
   "cell_type": "markdown",
   "metadata": {},
   "source": [
    "## Issues surrounding zeros\n",
    "\n",
    "Most **number with zero** are complicated.\n",
    "\n",
    "Ask: are they or are they not place holders?\n",
    "\n",
    "1. Zeros after a decimal (e.g. 120.00) - always significant if there is a significant number before the decimal (i.e. 0.01 has one sigfig since the leading zero is not significant).\n",
    "<br>\n",
    "<br>\n",
    "2. **With a decimal** (e.g. **120.**) - then the zero is significant (i.e. 120. has 3 sigfigs.) This states that all of the values to the left of the decimal are exact (i.e. no rounding has occurred).\n",
    "\n",
    "\n",
    "\n",
    "3. **Without a decimal** the numbers are <font color='red'>*inexact*</font> (e.g. **120**) - the zero is formally not significant, which results in 2 sigfigs being indicated. This leads to uncertainty, because a person questions if there should or should not be a decimal place.\n",
    "\n",
    "    **Example**: a measured weight of 100 g. How precise is this number? Where did the number come from? Have two numbers been averaged to give this number? This leads to assumptions having to be made.\n",
    "\n",
    "    **However**, it is often **assumed** to be at the one's place, but it could be 100.0 or 99.8 g.\n",
    "        \n",
    "    Possibilities:\n",
    "        \n",
    "    $\\frac{120 + 80}{2} = 100$ (imprecise, consider the following examples)\n",
    "        \n",
    "    $\\frac{119.7 + 80.0}{2} \\approx 100$ (rounding the final value of 99.85 up to 100)\n",
    "        \n",
    "    $\\frac{120. + 80.}{2} = 100.$ (i.e. precise to the one's place)\n",
    "        \n",
    "    $\\frac{120.0 + 80.0}{2} = 100.0$ (i.e. precise to the tenth's place)"
   ]
  },
  {
   "cell_type": "markdown",
   "metadata": {},
   "source": [
    "**Examples**\n",
    "\n",
    "1. 1.23 x 10$^2$ and 110. $\\leftarrow$ both have 3 sigfigs\n",
    "<br><br>\n",
    "2. 123.00 and 0.0012300 $\\leftarrow$ both have 5 sigfigs\n",
    "<br><br>\n",
    "3. 100 versus 100. or 1.00 x 10$^2$ $\\leftarrow$ unclear, but safe to *assume* at least 1 versus 3 sigfigs\n",
    "<br><br>\n",
    "4. 120 versus 1.2 x 10$^2$ $\\leftarrow$ unclear (safe to *assume* at least 2) versus 2 (clear) sigfigs"
   ]
  },
  {
   "cell_type": "markdown",
   "metadata": {},
   "source": [
    "<hr style=\"border:2px solid gray\"></hr>\n",
    "\n",
    "## Sigfigs and Math\n",
    "\n",
    "**Addition and Subtraction** - requires that the answer's number has places <font color='dodgerblue'>after the **decimal** that is equal to the least number of **decimals** present in the sum</font>\n",
    "\n",
    "Examples:\n",
    "1. 7.1 + 2.3 = 9.4\n",
    "2. 5,500.000 + 111.111 = 5,611.111\n",
    "3. 1.6 + 12.4 = 14.0\n",
    "4. 10.4 + 10. = 2.0 x 10$^1$ (Convert 10. to 1.0 x 10$^1$)\n",
    "\n",
    "5. 0.003 + 0.02 = 0.02  (There is less precision in 0.02 in comparison to 0.020. Thus the 0.003 is lost within the impreciseness of 0.02.)\n",
    "\n",
    "6. 0.003 + 0.020 = 0.023\n",
    "\n",
    "7. 2,333.3333 +  22.22  = 2,355.55\n",
    "\n",
    "**Multiplication and Division** - requires that the answer's number has places <font color='dodgerblue'>equal to the number of least amount of significant figures used **in the calculation**</font>\n",
    "    \n",
    "Examples:\n",
    "1. 8.21 x 2.32   = 19.0 (Unrounded value = 19.0472)\n",
    "2. 8.210 x 2.32  = 19.0\n",
    "3. 8.210 x 2.320 = 19.05\n",
    "4. 1230 x 2.000 = 2.46 x 10$^3$  (Uncertain value of 1230, but it is \"fairly\" safe to assume it has at least three sig figs)\n",
    "5. 1230\\. x 2.000 = 2.460 x 10$^3$\n",
    "6. 1.00 x 20.07 = 20.1\n",
    "7. 8.2 x 12.3  = 1.0 x 10$^2$ (Unrounded value = 100.86)"
   ]
  },
  {
   "cell_type": "markdown",
   "metadata": {},
   "source": [
    "<hr style=\"border:2px solid gray\"></hr>\n",
    "\n",
    "## Numbers with Infinite Sigfigs\n",
    "\n",
    "**Exact Number**: have an infinite number of significant figures - must have some context given\n",
    "1. 100 cm in 1 m - both numbers are exact\n",
    "2. 2 molecules (e.g. a quantity without factions)\n",
    "3. 2 times c (i.e. the speed of light)\n",
    "\n",
    "\n",
    "**Mathematical Constants**: are infinite or approximate provided:\n",
    "1. c (speed of light in a vacuum): 299 792 458 m s$^{-1}$ (exact)\n",
    "2. $\\pi$ (Pi): ca. 3.14159 26535 89793 23846\n",
    "3. $e$ (Euler's constant): ca. 2.71828 18284 59045 23536\n",
    "4. $\\sqrt{2}$ (Pythagoras's constant): ca. 1.41421 35623 73095 04880    \n",
    "\n",
    "https://physics.nist.gov/cuu/Constants"
   ]
  },
  {
   "cell_type": "markdown",
   "metadata": {},
   "source": [
    "**Additional Resources**\n",
    "\n",
    "https://www.khanacademy.org/math/arithmetic-home/arith-review-decimals/arithmetic-significant-figures-tutorial/v/significant-figures"
   ]
  }
 ],
 "metadata": {
  "kernelspec": {
   "display_name": "Python 3 (ipykernel)",
   "language": "python",
   "name": "python3"
  },
  "language_info": {
   "codemirror_mode": {
    "name": "ipython",
    "version": 3
   },
   "file_extension": ".py",
   "mimetype": "text/x-python",
   "name": "python",
   "nbconvert_exporter": "python",
   "pygments_lexer": "ipython3",
   "version": "3.8.10"
  }
 },
 "nbformat": 4,
 "nbformat_minor": 2
}
