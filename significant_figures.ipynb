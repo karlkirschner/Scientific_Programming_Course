{
 "cells": [
  {
   "cell_type": "markdown",
   "metadata": {},
   "source": [
    "<div class=\"alert block alert-info alert\">\n",
    "\n",
    "# <center> Scientific Programming in Python\n",
    "## <center>Karl N. Kirschner<br>Bonn-Rhein-Sieg University of Applied Sciences<br>Sankt Augustin, Germany\n",
    "\n",
    "# <center> Significant Figures\n",
    "\n",
    "<hr style=\"border:2px solid gray\"></hr>"
   ]
  },
  {
   "cell_type": "markdown",
   "metadata": {},
   "source": [
    "<p><img alt=\"Accuracy vs Precision\" width=\"800\" src=\"00_images/alexander-muzenhardt-753371-unsplash.jpg\" align=\"center\" hspace=\"10px\" vspace=\"0px\"></p>"
   ]
  },
  {
   "cell_type": "markdown",
   "metadata": {},
   "source": [
    "## Accuracy versus Precision\n",
    "### What is the difference between the two?\n",
    "\n",
    "#### A visual attempt to place the idea of significant figures into context."
   ]
  },
  {
   "cell_type": "markdown",
   "metadata": {},
   "source": [
    "1. Plot a target data point and some measured data\n",
    "    - first using a **large scale** for the **axes**\n",
    "\n",
    "\n",
    "2. <font color='red'>Red</font> = target reference value\n",
    "\n",
    "\n",
    "3. <font color='dodgerblue'>Blue</font> and <font color='orange'>Orange</font> = **two** different data sets, measure by **two** different people\n",
    "\n",
    "\n",
    "<p><img alt=\"Accuracy vs Precision\" width=\"400\" src=\"00_images/accuracy_vs_precision_1.png\" align=\"left\" hspace=\"10px\" vspace=\"0px\"</p>\n",
    "\n",
    "<br><br>\n",
    "<br>\n",
    "\n",
    "All data points look close together, and thus they all appear to be equally correct.\n",
    "<br><br>\n",
    "However, the **choice** of the <font color='MediumVioletRed'>**scale**</font> used is **important**.\n",
    "<br><br><br><br><br><br><br><br>\n",
    "<font size=\"4\">How we choose to <b>present</b> the data's <font color='MediumVioletRed'><b>numbers</b></font> is <b>important</b>.</font>"
   ]
  },
  {
   "cell_type": "markdown",
   "metadata": {},
   "source": [
    "<br><br><br>\n",
    "<br><br><br>\n",
    "<br><br><br>"
   ]
  },
  {
   "cell_type": "markdown",
   "metadata": {},
   "source": [
    "<p><img alt=\"Accuracy vs Precision\" width=\"400\" src=\"00_images/accuracy_vs_precision_2.png\" align=\"left\" hspace=\"10px\" vspace=\"0px\"></p>\n",
    "\n",
    "On a more appropriate scale - the data's clustering looks a bit different now.\n",
    "\n",
    "Notice how we **added a decimal point** to the axes' **tick numbers**.\n",
    "\n",
    "<br>\n",
    "\n",
    "The most <font color='dodgerblue'>**accurate**</font> value is a single data point (one of the <font color='dodgerblue'>**blue**</font> points), while the higher <font color='orange'>**precision**</font> values are represented by the <font color='orange'>**orange**</font> points.\n",
    "<br>\n",
    "\n",
    "- The person generating the <font color='dodgerblue'>blue</font> data points, was **less consistent** in doing so.\n",
    "- The person generating the <font color='orange'>orange</font> data points, was **highly consistent** in doing so."
   ]
  },
  {
   "cell_type": "markdown",
   "metadata": {},
   "source": [
    "<br><br><br>\n",
    "<br><br><br>\n",
    "<br><br><br>"
   ]
  },
  {
   "cell_type": "markdown",
   "metadata": {},
   "source": [
    "<p><img alt=\"Accuracy vs Precision\" width=\"400\" src=\"00_images/accuracy_vs_precision_3.png\" align=\"left\" hspace=\"10px\" vspace=\"0px\"></p>\n",
    "\n",
    "<b>Two more decimal point</b> to the axes' <b>tick numbers</b>.\n",
    "\n",
    "Notice that \"zooming\" into the data, the highly-precise values <font color='orange'>orange</font> data also have a distribution.\n",
    "\n",
    "<br><br><br><br><br><br><br><br>\n",
    "\n",
    "### Important:\n",
    "<font size=\"4\">Notice how <font color='MediumVioletRed'><b>using additional digits</b></font> to report the tick lables is <font color='MediumVioletRed'><b>providing</b></font> us with <font color='MediumVioletRed'><b>more knowledge</b></font> about the data that we obtained.</font>"
   ]
  },
  {
   "cell_type": "markdown",
   "metadata": {},
   "source": [
    "<br><br><br>\n",
    "<br><br><br>\n",
    "<br><br><br>\n",
    "\n",
    "<figure>\n",
    "  <img alt=\"Accuracy and Precision\" width=\"600\" src=\"00_images/accuracy_and_precision.png\" hspace=\"10px\" vspace=\"10px\">\n",
    "  <figcaption>\n",
    "      Visualizing the accuracy and precision of the orange data point.<br>\n",
    "              Figure modified from https://en.wikipedia.org/wiki/Accuracy_and_precision#/media/File:Accuracy_and_precision.svg.\n",
    "  </figcaption>\n",
    "</figure>\n",
    "\n",
    "<br>\n",
    "\n",
    "**Precision (<font color='MediumVioletRed'>reproducibility</font>)**: data point distributions are associated with a range (i.e., an error <font color='Orange'>**$\\pm$ x.xx**)</font> that says something about the **error within their measurement**.\n",
    "    \n",
    "One can report a data's **average** value with a **standard deviation** (i.e., <font color='MediumVioletRed'>**X.XX$\\pm$ x.xx**</font>), which will depend on how much \"information\" the numbers contain.\n",
    "\n",
    "<br>\n",
    "\n",
    "**Accuracy (<font color='MediumVioletRed'>correctness</font>)**: The **difference** between the **reference value** with the **averge measured/generated data**\n",
    "(i.e., $\\color{red}{X.XX \\pm x.xx} \\color{Black} - \\color{dodgerBlue}{X.XX \\pm x.xx}$, or \n",
    "$\\color{red}{X.XX \\pm x.xx} \\color{Black} - \\color{Orange}{X.XX \\pm x.xx}$)"
   ]
  },
  {
   "cell_type": "markdown",
   "metadata": {},
   "source": [
    "<br><br><br>\n",
    "### Take Home Message\n",
    "\n",
    "1. **Accuracy** is how close the data is to a reference value (i.e., <font color='MediumVioletRed'>error of the data to an ideal value</font>)\n",
    "2. **Precision** is how closely repeated measurements agree with each other (i.e., its **distribution**/<font color='Orange'>**variance**</font>; the <font color='Orange'>error within the data itself</font>)\n",
    "   - Sig figs are all about precision: the **number of digits** that are **reliably known** from the measurement.\n",
    "4. The <font color='MediumVioletRed'>**number of digits**</font> representing the data is <font color='MediumVioletRed'>related</font> to its <font color='MediumVioletRed'>**information content**</font> (i.e. <font color='MediumVioletRed'>**decimal placess = information**</font>).\n",
    "\n",
    "<br>\n",
    "\n",
    "<center><font size=\"5\", color='DodgerBlue'><b> \n",
    "    Significant figures</b> are the way that scientists <b>communicate</b> the <b>uncertainty</b><br> - and thus, the <b>precision</b> - of reported <b>numbers</b>.\n",
    "</font>\n",
    "\n",
    "\n",
    "<figure>\n",
    "  <img alt=\"sigfig_comic\" width=\"500\" src=\"00_images/sigfigs_gemini_generated_image.png\" hspace=\"10px\" vspace=\"10px\">\n",
    "    \n",
    "    Source: Google Gemini created image (2025).\n",
    "</figure>\n",
    " \n",
    "</center>\n",
    "<br><br><br>\n",
    "<br><br><br>\n",
    "<br><br><br>"
   ]
  },
  {
   "cell_type": "markdown",
   "metadata": {},
   "source": [
    "<hr style=\"border:2px solid gray\"></hr>\n",
    "\n",
    "## Example\n",
    "\n",
    "Three researchers are measuring the size of a device that will be inserted into a satellite. This is done independently from one another.\n",
    "\n",
    "Researcher 1: 10.39 cm\n",
    "\n",
    "Researcher 2: 10.3 cm\n",
    "\n",
    "Researcher 3: 10.37 cm\n",
    "\n",
    "<br><br>\n",
    "To give their boss their best measurement value, they take the **average of their values**.\n",
    "\n",
    "**What is the average value that they should report?**\n",
    "<br><br>\n",
    "<br><br>\n",
    "<br><br>\n",
    "<br><br>\n",
    "<br><br>"
   ]
  },
  {
   "cell_type": "markdown",
   "metadata": {},
   "source": [
    "<!-- <br><br>\n",
    "What about the a different data set?\n",
    "\n",
    "Researcher 1: 10.36\n",
    "\n",
    "Researcher 2: 10.3\n",
    "\n",
    "Researcher 3: 10.35\n",
    "    \n",
    "What value is reported to the boss?\n",
    "\n",
    "<br><br><br>\n",
    "<br><br><br>\n",
    "<br><br><br> -->"
   ]
  },
  {
   "cell_type": "markdown",
   "metadata": {},
   "source": [
    "**Possible** ways to answer this:\n",
    "\n",
    "- do the math directly"
   ]
  },
  {
   "cell_type": "code",
   "execution_count": 1,
   "metadata": {},
   "outputs": [
    {
     "data": {
      "text/plain": [
       "10.353333333333333"
      ]
     },
     "execution_count": 1,
     "metadata": {},
     "output_type": "execute_result"
    }
   ],
   "source": [
    "(10.39 + 10.3 + 10.37)/3"
   ]
  },
  {
   "cell_type": "markdown",
   "metadata": {},
   "source": [
    "- round the number"
   ]
  },
  {
   "cell_type": "code",
   "execution_count": 2,
   "metadata": {},
   "outputs": [
    {
     "data": {
      "text/plain": [
       "10.35"
      ]
     },
     "execution_count": 2,
     "metadata": {},
     "output_type": "execute_result"
    }
   ],
   "source": [
    "round(number=(10.39 + 10.3 + 10.37)/3, ndigits=2)"
   ]
  },
  {
   "cell_type": "markdown",
   "metadata": {},
   "source": [
    "Or if we do it to represent that the last 3 goes on forever:\n",
    "\n",
    "$\\Large\\frac{10.39 + 10.3 + 10.37}{3} = 10.35\\bar{3}$\n",
    "<br><br><br>\n",
    "<br><br><br>\n",
    "<br><br><br>"
   ]
  },
  {
   "cell_type": "markdown",
   "metadata": {},
   "source": [
    "<!-- # ## Second data set\n",
    "# (10.36 + 10.3 + 10.35)/3 -->"
   ]
  },
  {
   "cell_type": "markdown",
   "metadata": {},
   "source": [
    "<!-- $\\frac{10.36 + 10.3 + 10.35}{3} = 10.33\\bar{6}$\n",
    "<br><br><br>\n",
    "<br><br><br>\n",
    "<br><br><br> -->"
   ]
  },
  {
   "cell_type": "markdown",
   "metadata": {},
   "source": [
    "- do some **pre-rounding** of each data point **before** the averaging (i.e., getting the numbers into the **same magnitude**):\n",
    "\n",
    "$\\Large\\frac{10.4 + 10.3 + 10.4}{3} = 10.3\\bar{6}$\n",
    "\n",
    "All of this seems correct, right?\n",
    "<br><br><br>\n",
    "<br><br><br>\n",
    "<br><br><br>"
   ]
  },
  {
   "cell_type": "markdown",
   "metadata": {},
   "source": [
    "However, the **correct answers** is: <font color='MediumVioletRed'>**10.4**</font>\n",
    "\n",
    "<!-- Data set 2 (i.e.10.36, 10.3, 10.35): 10.3 -->\n",
    "\n",
    "**Why report the number as <font color='MediumVioletRed'>XX.Y</font>?**\n",
    "<br><br><br>\n",
    "<br><br><br>\n",
    "<br><br><br>"
   ]
  },
  {
   "cell_type": "markdown",
   "metadata": {},
   "source": [
    "<hr style=\"border:2px solid gray\"></hr>\n",
    "\n",
    "## Significant figures / significant digits / sigfigs\n",
    "\n",
    "**What are sigfigs?**\n",
    "\n",
    "Significant figures usage reveals the information content - the precision - of a number.\n"
   ]
  },
  {
   "cell_type": "markdown",
   "metadata": {},
   "source": [
    "## Firm Rules for Sigfigs\n",
    "\n",
    "1. <font color='dodgerblue'>All <b>non-zero digits</b> are significant</font>: <b>1, 2, 3, 4, 5, 6, 7, 8, 9</b>\n",
    "<br>\n",
    "\n",
    "2. <font color='dodgerblue'>Zeros <b>between</b> non-zero digits are significant</font>: 1<b>0</b>2.0, 2<b>00</b>5.0, 5<b>000</b>9.0\n",
    "\n",
    "    However, the total number of sigfigs in the entire number <font color='red'>101</font> (i.e., without the decimal point) is actually <b>unclear</b>. We will revisit this below.\n",
    "<br>\n",
    "\n",
    "3. <font color='dodgerblue'><b>Leading</b> zeros are <font color='red'><b>never</b></font> significant</font>: <font color='red'>00</font>1, <font color='red'>0.0</font>2, <font color='red'>00</font>1.887, <font color='red'>0.000</font>515\n",
    "<br>\n",
    "    - They are <b>placeholders</b>, putting the decimal point in the right place.\n",
    "<br>\n",
    "    - In <b>scientific notation</b>, they disappear $\\rightarrow$ 0.000515 becomes 5.15 x 10$^{-4}$)\n",
    "<br>\n",
    "<br>\n",
    "\n",
    "4. <font color='dodgerblue'>After the decimal, zeros that occur <b>after</b> a significant number <b>are</b> significant</font>: 0.02<b>0</b>\n",
    "\n",
    "<br><br>\n",
    "<b>Side Note</b>: Scientific notation can be given as any of the following:\n",
    "- 5.15 x 10$^{-4}$\n",
    "- 5.15E-4\n",
    "- 5.15e-4\n",
    "\n",
    "<b>Source</b>: https://en.wikipedia.org/wiki/Scientific_notation"
   ]
  },
  {
   "cell_type": "markdown",
   "metadata": {},
   "source": [
    "## Additional Focus: Surrounding Zeros and the use of a Decimal.\n",
    "\n",
    "**Numbers with zeroes** can be complicated.\n",
    "\n",
    "Ask yourself: \"Are they, or are they not, being **used** as **place holders**?\"\n",
    "\n",
    "1. **Zeros after a decimal** (e.g. **120.00**) - <font color='dodgerblue'>always significant</font> <b>if there is a significant number  <font color='dodgerblue'>before</font> the decimal</b><br>\n",
    "\n",
    "   For contrast, 0.01 has one sigfig since the leading zero is not significant.\n",
    "<br>\n",
    "<br>\n",
    "\n",
    "3. **Zeros before a decimal and after another significant figure** (e.g., **120.**) - then the **zero** <font color='dodgerblue'>is significant</font> (i.e., 120. has **3 sigfigs**.)\n",
    "\n",
    "   This states that all of the values to the left of the decimal are exact (i.e., no rounding has occurred).\n",
    "<br>\n",
    "<br>\n",
    "\n",
    "5. **Zeros without a decimal** - the zero becomes <font color='red'>*inexact*</font> (e.g., **120**). The **zero** is formally <font color='red'>**not significant**</font>, which results in **2 sigfigs** being indicated.\n",
    "\n",
    "   The lack of a decimal leads to uncertainty, because a reader might question if there should or should not be a decimal place.<br><br>\n",
    "\n",
    "    **Example**: 1000 grams\n",
    "    - How precise is this number?\n",
    "    - Where did this number come from? What is its context?\n",
    "    - Is it a result of an average, a sum, or a single measurement?\n",
    "    - Is it in context to how many grams are in a kilogram?\n",
    "\n",
    "      Answering \"How precise is this number?\" without more information leads to <b>assumptions</b> being made.\n",
    "\n",
    "    **However**, it is often **assumed** that numbers without a decimal are precise to the one's place, but it could be 1000.1, 1000.0 or 999.8.<br><br>\n",
    "\n",
    "    Demonstration of how 1000 might have obtained:\n",
    "    \n",
    "    - $920 + 80 = 1000$ (imprecise and unclear, consider the following examples)\n",
    "            \n",
    "    - $919.7 + 80.0 \\approx 1000$\n",
    "    \n",
    "        - The answer is shown imprecisely and unclear: 1000 was obtained by rounding up the actual value of 999.7 (which is the accurate and fully correct answer)<br><br>\n",
    "            \n",
    "    - $920. + 80. = 1000.$ (i.e., precise to the one's place)\n",
    "            \n",
    "    - $920.0 + 80.0 = 1000.0$ (i.e., precise to the tenth's place)"
   ]
  },
  {
   "cell_type": "markdown",
   "metadata": {},
   "source": [
    "**Examples**\n",
    "\n",
    "1. $1.23 x 10^2$ versus 110.\n",
    "    - both numbers: **three** sigfigs\n",
    "<br><br>\n",
    "2. $123.00$ versus $0.0012300$ \n",
    "    - both numbers: **five** sigfigs\n",
    "<br><br>\n",
    "3. $100$ versus $100$. (i.e., $1.00 x 10^2$)\n",
    "    - $100$ : **unclear** sigfigs\n",
    "    - $100$. : **three** sigfigs\n",
    "<br><br>\n",
    "4. $120$ versus $1.2 x 10^2$\n",
    "    - $120$: **unclear**\n",
    "    - $1.2 x 10^2$: **two** sigfigs"
   ]
  },
  {
   "cell_type": "markdown",
   "metadata": {},
   "source": [
    "<hr style=\"border:2px solid gray\"></hr>\n",
    "\n",
    "## Sigfigs and Math\n",
    "\n",
    "<b>Addition and Subtraction</b> - requires that the answer's number has places <font color='dodgerblue'>after the <b>decimal</b> that is equal to the least number of <b>decimals</b> present <b>in the calculation</b></font>\n",
    "\n",
    "- This rule is about <font color='dodgerblue'><b>absolute uncertainty</b> (i.e. the number of decimal places)</font>.\n",
    "    - If you don't know the exact hundredths place of one number, your total cannot reliably have a hundredths place.\n",
    "\n",
    "Examples:\n",
    "<ol type = \"1\">\n",
    "    <li> 7.<font color='dodgerblue'>1</font> + 2.<font color='dodgerblue'>3</font> = 9.<font color='dodgerblue'>4</font><br><br>\n",
    "    <li> 0.<font color='dodgerblue'>003</font> + 0.<font color='dodgerblue'>020</font> = 0.<font color='dodgerblue'>023</font><br><br>\n",
    "    <li> 15.<font color='dodgerblue'>0</font> + 0.55 = 15.<font color='dodgerblue'>6</font><br>Unrounded value = <font color='IndianRed'>15.55</font><br><br>\n",
    "    <li> 10.<font color='dodgerblue'>4</font> + 10. = 2.<font color='dodgerblue'>0</font>e1 = 20.<br>Key: Convert to <b>scientific notation:</b> 1.04e1 + 1.0e1 = 2.04e1 $\\rightarrow$ 2.0e1<br><br>\n",
    "    <li> 8.83210e3 - <font color='dodgerblue'>8.32e2</font> = 8.<font color='dodgerblue'>000</font>e3<br>Convert values to have the <b>same exponential form</b> and then compute:<br>8.83210e3 - 0.832e3 = (8.83210 - 0.<font color='dodgerblue'>832</font>)e3 $\\rightarrow$ 8000.1e3 = 8.<font color='dodgerblue'>000</font>e3 <br> or <br>88.3210e2 - 8.32e2 = (88.3210 - 8.<font color='dodgerblue'>32</font>)e2 $\\rightarrow$ 80.00e2 = 8.<font color='dodgerblue'>000</font>e3<br><br>\n",
    "    <li> 0.003 + 0.<font color='dodgerblue'>02</font> = 0.<font color='dodgerblue'>02</font><br>There is less \"information\" in 0.02 in comparison to 0.020. Thus, the <b>more precise 0.003</b> is lost within the <b>lesser precise 0.02</b>.<br><br>\n",
    "\n",
    "</ol>\n",
    "\n",
    "<b>Multiplication and Division</b> - requires that the answer's number has significant figure places <font color='dodgerblue'>equal to the number of the least amount of significant figures used <b>in the calculation</b></font>\n",
    "\n",
    "- This rule is about <font color='dodgerblue'><b>relative uncertainty</b> (i.e., total number of sig figs)</font>.\n",
    "    - When multiplying/dividing, the errors (uncertainties) in the input values are multiplied/divided as well. The results cannot be relatively more precise than the least relatively precise input.\n",
    "\n",
    "Examples:\n",
    "<ol type = \"1\">\n",
    "    <li> <font color='dodgerblue'>8.21</font> x <font color='dodgerblue'>2.32</font>   = <font color='dodgerblue'>19.0</font> (Unrounded value = <font color='IndianRed'>19.0472</font>)<br><br>\n",
    "    <li> 8.210 x <font color='dodgerblue'>2.32</font>  = <font color='dodgerblue'>19.0</font><br><br>\n",
    "    <li> 0.<font color='dodgerblue'>21</font> x 10.0 = <font color='dodgerblue'>2.1</font><br><br>\n",
    "    <li> <font color='dodgerblue'>123</font>0 x 2.000 = <font color='dodgerblue'>2.46</font>e3<br>Uncertain value of 1230, but maybe one could say that at a minimum three sigfigs -> the 1, 2 and 3 (but still not good). This illustrates the importance of carefully specifying numbers with regards to sigfigs.<br><br>\n",
    "    <li> <font color='dodgerblue'>1230.</font> x <font color='dodgerblue'>2.000</font> = <font color='dodgerblue'>2460.</font> or <font color='dodgerblue'>2.460e3</font><br><br>\n",
    "    <li> <font color='dodgerblue'>8.2</font> x 12.3 = <font color='dodgerblue'>1.0e2</font><br>Unrounded value = <font color='IndianRed'>100.86</font> - we <b>must</b> use scientific notation to give the number correctly.<br><br>\n",
    "    <li> <font color='dodgerblue'>2.0</font> x 0.625 = <font color='dodgerblue'>1.3</font><br>Unrounded value = <font color='IndianRed'>1.25</font>\n",
    "</ol>"
   ]
  },
  {
   "cell_type": "markdown",
   "metadata": {},
   "source": [
    "<hr style=\"border:2px solid gray\"></hr>\n",
    "\n",
    "## Numbers with Infinite Sigfigs\n",
    "\n",
    "\n",
    "**Exact Number**: have an infinite number of significant figures - must have some context given\n",
    "\n",
    "<ol type = \"1\">\n",
    "<li> Numbers that define other numbesr: e.g., 100 cm in 1 m - both numbers are exact\n",
    "<li> Whole quantity that can not exist in a factions: e.g., 2 molecules; 8 planets and 146 moons in our solar system\n",
    "<li> Mathematically dervied integers in equations: e.g., taking the average of $5.0 + 5.0 = \\frac{5.0+5.0}{2}$ - the 2 is exact, while 5.0 has two sigfigs\n",
    "</ol>\n",
    "\n",
    "**Mathematical Constants**: are infinite or approximate provided\n",
    "<ol type = \"1\">    \n",
    "<li> c (speed of light in a vacuum): 299 792 458 m s$^{-1}$ (exact) (i.e., $299 792 458.\\bar0$)\n",
    "<li> $\\pi$ (Pi): ca. 3.14159 26535 89793 23846 ...\n",
    "<li> $e$ (Euler's constant): ca. 2.71828 18284 59045 23536 ...\n",
    "<li> $\\sqrt{2}$ (Pythagoras's constant): ca. 1.41421 35623 73095 04880 ...   \n",
    "</ol>\n",
    "\n",
    "https://physics.nist.gov/cuu/Constants"
   ]
  },
  {
   "cell_type": "markdown",
   "metadata": {},
   "source": [
    "**Additional Resources**\n",
    "\n",
    "https://www.khanacademy.org/math/arithmetic-home/arith-review-decimals/arithmetic-significant-figures-tutorial/v/significant-figures"
   ]
  },
  {
   "cell_type": "markdown",
   "metadata": {},
   "source": [
    "<center>\n",
    "<figure>\n",
    "  <img alt=\"sigfig_comic\" width=\"500\" src=\"00_images/sigfigs_gemini_generated_image_aliens.png\" hspace=\"10px\" vspace=\"10px\">\n",
    "    \n",
    "    Source: Google Gemini created image (2025).\n",
    "</figure>\n",
    "</center>"
   ]
  },
  {
   "cell_type": "code",
   "execution_count": null,
   "metadata": {},
   "outputs": [],
   "source": []
  }
 ],
 "metadata": {
  "kernelspec": {
   "display_name": "Python 3 (ipykernel)",
   "language": "python",
   "name": "python3"
  },
  "language_info": {
   "codemirror_mode": {
    "name": "ipython",
    "version": 3
   },
   "file_extension": ".py",
   "mimetype": "text/x-python",
   "name": "python",
   "nbconvert_exporter": "python",
   "pygments_lexer": "ipython3",
   "version": "3.13.2"
  }
 },
 "nbformat": 4,
 "nbformat_minor": 4
}
