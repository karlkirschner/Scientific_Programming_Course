{
 "cells": [
  {
   "cell_type": "markdown",
   "metadata": {},
   "source": [
    "<div class=\"alert block alert-info alert\">\n",
    "\n",
    "# <center> Scientific Programming in Python\n",
    "## <center>Karl N. Kirschner<br>Bonn-Rhein-Sieg University of Applied Sciences<br>Sankt Augustin, Germany\n",
    "\n",
    "# <center> Significant Figures\n",
    "\n",
    "<hr style=\"border:2px solid gray\"></hr>"
   ]
  },
  {
   "cell_type": "markdown",
   "metadata": {},
   "source": [
    "<p><img alt=\"Accuracy vs Precision\" width=\"800\" src=\"00_images/alexander-muzenhardt-753371-unsplash.jpg\" align=\"center\" hspace=\"10px\" vspace=\"0px\"></p>"
   ]
  },
  {
   "cell_type": "markdown",
   "metadata": {},
   "source": [
    "## Accuracy versus Precision\n",
    "### What is the difference between the two?\n",
    "\n",
    "#### A visual attempt to place the idea of significant figures into context."
   ]
  },
  {
   "cell_type": "markdown",
   "metadata": {},
   "source": [
    "1. Plot a target data point and some measured data\n",
    "    - first using a **large scale** for the **axes**\n",
    "\n",
    "\n",
    "2. <font color='red'>Red</font> = target value\n",
    "\n",
    "\n",
    "3. <font color='dodgerblue'>Blue</font> and <font color='orange'>Orange</font> = two different data sets, measure by **two** different people\n",
    "\n",
    "\n",
    "<p><img alt=\"Accuracy vs Precision\" width=\"400\" src=\"00_images/accuracy_vs_precision_1.png\" align=\"left\" hspace=\"10px\" vspace=\"0px\"</p>\n",
    "\n",
    "<br><br>\n",
    "<br>\n",
    "\n",
    "All data points look close together, and thus they all appear to be equally correct.\n",
    "<br><br>\n",
    "However, the **choice** of the <font color='MediumVioletRed'>**scale**</font> used is **important**.\n",
    "<br><br>\n",
    "I.e. How we choose to **present** the data's <font color='MediumVioletRed'>**numbers**</font> is **important**."
   ]
  },
  {
   "cell_type": "markdown",
   "metadata": {},
   "source": [
    "<br><br><br>\n",
    "<br><br><br>\n",
    "<br><br><br>"
   ]
  },
  {
   "cell_type": "markdown",
   "metadata": {},
   "source": [
    "<p><img alt=\"Accuracy vs Precision\" width=\"400\" src=\"00_images/accuracy_vs_precision_2.png\" align=\"left\" hspace=\"10px\" vspace=\"0px\"></p>\n",
    "\n",
    "On more appropriate scale - things (i.e. the data's clustering) look a bit different now.\n",
    "\n",
    "Notice how we **added a decimal point** to the axes' **tick numbers**.\n",
    "\n",
    "<br>\n",
    "\n",
    "The most <font color='dodgerblue'>**accurate**</font> value is a single data point (one of the <font color='dodgerblue'>**blue**</font> points), while the higher <font color='orange'>**precision**</font> values are represented by the <font color='orange'>**orange**</font> points.\n",
    "\n",
    "<br>\n",
    "\n",
    "- The person generating the <font color='dodgerblue'>blue</font> data points, was **less consistent** in doing so.\n",
    "- The person generating the <font color='orange'>orange</font> data points, was **highly consistent** in doing so."
   ]
  },
  {
   "cell_type": "markdown",
   "metadata": {},
   "source": [
    "<br><br><br>\n",
    "<br><br><br>\n",
    "<br><br><br>"
   ]
  },
  {
   "cell_type": "markdown",
   "metadata": {},
   "source": [
    "<p><img alt=\"Accuracy vs Precision\" width=\"400\" src=\"00_images/accuracy_vs_precision_3.png\" align=\"left\" hspace=\"10px\" vspace=\"0px\"></p>\n",
    "\n",
    "**Two more decimal point** to the axes' **tick numbers**.\n",
    "\n",
    "Notice that \"zooming\" into the data, the highly precise values <font color='orange'>orange</font> data also have a distribution,\n",
    "\n",
    "<br>\n",
    "\n",
    "#### Important:\n",
    "Notice how <font color='MediumVioletRed'>**using additional digits**</font> to report the tick lables is <font color='MediumVioletRed'>**provides**</font> us with <font color='MediumVioletRed'>**more knowledge**</font> about the data that we obtained."
   ]
  },
  {
   "cell_type": "markdown",
   "metadata": {},
   "source": [
    "<br><br><br>\n",
    "### Take Home Message\n",
    "\n",
    "The <font color='MediumVioletRed'>number of digits</font> for data is <font color='MediumVioletRed'>related</font> to its <font color='MediumVioletRed'>**information content**</font> (i.e. <font color='MediumVioletRed'>**decimals = information**</font>).\n",
    "<br><br><br>\n",
    "<br><br><br>\n",
    "<br><br><br>"
   ]
  },
  {
   "cell_type": "markdown",
   "metadata": {},
   "source": [
    "<hr style=\"border:2px solid gray\"></hr>\n",
    "\n",
    "## Example\n",
    "\n",
    "Three researchers are measuring the size of a device that will be fitted onto a satellite. This is done independently from one another.\n",
    "\n",
    "Researcher 1: 10.39 cm\n",
    "\n",
    "Researcher 2: 10.3 cm\n",
    "\n",
    "Researcher 3: 10.37 cm\n",
    "\n",
    "<br><br>\n",
    "To give their boss their best measurement value, they **average their values**.\n",
    "\n",
    "**What is the average value that they should report?**\n",
    "<br><br>\n",
    "<br><br>\n",
    "<br><br>\n",
    "<br><br>\n",
    "<br><br>"
   ]
  },
  {
   "cell_type": "markdown",
   "metadata": {},
   "source": [
    "<!-- <br><br>\n",
    "What about the a different data set?\n",
    "\n",
    "Researcher 1: 10.36\n",
    "\n",
    "Researcher 2: 10.3\n",
    "\n",
    "Researcher 3: 10.35\n",
    "    \n",
    "What value is reported to the boss?\n",
    "\n",
    "<br><br><br>\n",
    "<br><br><br>\n",
    "<br><br><br> -->"
   ]
  },
  {
   "cell_type": "markdown",
   "metadata": {},
   "source": [
    "**Possible** ways to answer this:"
   ]
  },
  {
   "cell_type": "code",
   "execution_count": 3,
   "metadata": {},
   "outputs": [
    {
     "data": {
      "text/plain": [
       "10.353333333333333"
      ]
     },
     "execution_count": 3,
     "metadata": {},
     "output_type": "execute_result"
    }
   ],
   "source": [
    "(10.39 + 10.3 + 10.37)/3"
   ]
  },
  {
   "cell_type": "markdown",
   "metadata": {},
   "source": [
    "If we were to print (or write) this out, we could round the number:\n",
    "\n",
    "- round the number to two decimal places, with the choice of two being randomly chosen (for now):"
   ]
  },
  {
   "cell_type": "code",
   "execution_count": 5,
   "metadata": {},
   "outputs": [
    {
     "data": {
      "text/plain": [
       "10.35"
      ]
     },
     "execution_count": 5,
     "metadata": {},
     "output_type": "execute_result"
    }
   ],
   "source": [
    "round((10.39 + 10.3 + 10.37)/3, 2)"
   ]
  },
  {
   "cell_type": "markdown",
   "metadata": {},
   "source": [
    "Or if we do it to represent that the last 3 goes on forever:\n",
    "\n",
    "$\\Large\\frac{10.39 + 10.3 + 10.37}{3} = 10.35\\bar{3}$\n",
    "<br><br><br>\n",
    "<br><br><br>\n",
    "<br><br><br>"
   ]
  },
  {
   "cell_type": "markdown",
   "metadata": {},
   "source": [
    "<!-- # ## Second data set\n",
    "# (10.36 + 10.3 + 10.35)/3 -->"
   ]
  },
  {
   "cell_type": "markdown",
   "metadata": {},
   "source": [
    "<!-- $\\frac{10.36 + 10.3 + 10.35}{3} = 10.33\\bar{6}$\n",
    "<br><br><br>\n",
    "<br><br><br>\n",
    "<br><br><br> -->"
   ]
  },
  {
   "cell_type": "markdown",
   "metadata": {},
   "source": [
    "or you do some **pre-rounding** of each individual data point **before** you do the mathematics:\n",
    "\n",
    "$\\Large\\frac{10.4 + 10.3 + 10.4}{3} = 10.3\\bar{6}$\n",
    "\n",
    "All of this seems correct, right?\n",
    "<br><br><br>\n",
    "<br><br><br>\n",
    "<br><br><br>"
   ]
  },
  {
   "cell_type": "markdown",
   "metadata": {},
   "source": [
    "However, the **correct answers** is: <font color='MediumVioletRed'>**10.4**</font>\n",
    "\n",
    "<!-- Data set 2 (i.e.10.36, 10.3, 10.35): 10.3 -->\n",
    "\n",
    "**Why report the number as <font color='MediumVioletRed'>XX.Y</font>?**\n",
    "<br><br><br>\n",
    "<br><br><br>\n",
    "<br><br><br>"
   ]
  },
  {
   "cell_type": "markdown",
   "metadata": {},
   "source": [
    "<hr style=\"border:2px solid gray\"></hr>\n",
    "\n",
    "## Significant figures / significant digits / sigfigs\n",
    "\n",
    "**What are sigfigs?**\n",
    "\n",
    "Significant figures usage reveals the information content of a number.\n"
   ]
  },
  {
   "cell_type": "markdown",
   "metadata": {},
   "source": [
    "## Firm Rules for Sigfigs\n",
    "\n",
    "1. <font color='dodgerblue'>All non-zero digits are significant</font>: **1, 2, 3, 4, 5, 6, 7, 8, 9**\n",
    "<br>\n",
    "<br>\n",
    "2. <font color='dodgerblue'>Zeros between non-zero digits are significant</font>: 1**0**2.0, 2**00**5.0, 5**000**9.0\n",
    "\n",
    "    (However the total number of sigfigs in the entire number <font color='red'>101</font> -- i.e. without the decimal point -- is actually **unclear**. We will come to this soon.)\n",
    "<br>\n",
    "<br>\n",
    "3. <font color='dodgerblue'>Leading zeros are <font color='red'>never</font> significant</font>: <font color='red'>00</font>1, <font color='red'>0.0</font>2, <font color='red'>00</font>1.887, <font color='red'>0.000</font>515\n",
    "\n",
    "    They are **placeholders**, putting the decimal point in the right place.\n",
    "\n",
    "(In **scientific notation**, they disappear $\\rightarrow$ 0.000515 becomes 5.15 x 10$^{-4}$)\n",
    "<br>\n",
    "<br>\n",
    "4. <font color='dodgerblue'>For number within the decimal places - trailing (i.e. after a significant number) zeros are significant</font>: 0.02**0**\n",
    "\n",
    "<br><br>\n",
    "**Side Note**: Scientific notation can be given as any of the following: 5.15 x 10$^{-4}$, 5.15E-4 or 5.15e-4 - https://en.wikipedia.org/wiki/Scientific_notation"
   ]
  },
  {
   "cell_type": "markdown",
   "metadata": {},
   "source": [
    "## Issues surrounding zeros and the use of a decimal.\n",
    "\n",
    "**Number with zero** can be complicated.\n",
    "\n",
    "Ask: are they or are they not place holders?\n",
    "\n",
    "1. **Zeros after a decimal** (e.g. **120.00**) - <font color='dodgerblue'>always significant</font> **if there is a significant number before the decimal** (i.e. 0.01 has one sigfig since the leading zero is not significant).\n",
    "<br>\n",
    "<br>\n",
    "2. **Zeros after before a decimal** (e.g. **120.**) - then the zero <font color='dodgerblue'>is significant</font> (i.e. 120. has 3 sigfigs.) This states that all of the values to the left of the decimal are exact (i.e. no rounding has occurred).\n",
    "<br>\n",
    "<br>\n",
    "3. **Zeros without a decimal** - the zero becomes <font color='red'>*inexact*</font> (e.g. **120**). The zero is formally not significant, which results in 2 sigfigs being indicated. This leads to uncertainty, because a reader might questions if there should or should not be a decimal place.\n",
    "\n",
    "    **Example**: 1000 grams - how precise is this number? Where did the number come from - what is its context? Have numbers been averaged to give this value? Is it in context to how many grams in a kg? Answering \"How precise is this number\" wihtout more information leads to assumptions having to be made.\n",
    "\n",
    "    **However**, it is often **assumed** to be at the one's place, but it could be 1000.1, 1000.0 or 999.8.\n",
    "\n",
    "    Possibilities:\n",
    "\n",
    "$920 + 80 = 1000$ (imprecise, consider the following examples)\n",
    "        \n",
    "$919.7 + 80.0 \\approx 100$ (imprecise, rounding the final value of 999.7, which is accurate, up to 1000)\n",
    "        \n",
    "$920. + 80. = 100.$ (i.e. precise to the one's place)\n",
    "        \n",
    "$920.0 + 80.0 = 1000.0$ (i.e. precise to the tenth's place)"
   ]
  },
  {
   "cell_type": "markdown",
   "metadata": {},
   "source": [
    "**Examples**\n",
    "\n",
    "1. $1.23 x 10^2$ versus 110.\n",
    "    - both numbers: **three** sigfigs\n",
    "<br><br>\n",
    "2. $123.00$ versus $0.0012300$ \n",
    "    - both numbers: **five** sigfigs\n",
    "<br><br>\n",
    "3. $100$ versus $100$. (i.e., $1.00 x 10^2$)\n",
    "    - the first number: **unclear** sigfigs (\"fairly\" safe to assume it has at least one sigfig due to the $1$)\n",
    "    - second number: **three** sigfigs\n",
    "<br><br>\n",
    "4. $120$ versus $1.2 x 10^2$\n",
    "    - the first number: **unclear** (\"fairly\" safe to assume it has at least two sigfig due to the $1$ and $2$)\n",
    "    - second number: **two** sigfigs"
   ]
  },
  {
   "cell_type": "markdown",
   "metadata": {},
   "source": [
    "<hr style=\"border:2px solid gray\"></hr>\n",
    "\n",
    "## Sigfigs and Math\n",
    "\n",
    "**Addition and Subtraction** - requires that the answer's number has places <font color='dodgerblue'>after the **decimal** that is equal to the least number of **decimals** present in the sum</font>\n",
    "\n",
    "Examples:\n",
    "<ol type = \"1\">\n",
    "    <li> 7.1 + 2.3 = 9.4\n",
    "    <li> 5,500.000 + 111.111 = 5,611.111\n",
    "    <li> 1.6 + 12.4 = 14.0\n",
    "    <li> 10.4 + 10. = 2.0e1 (Convert 10. to 1.0e1)\n",
    "    <li> 0.003 + 0.02 = 0.02  (There is less precision in 0.02 in comparison to 0.020. Thus the 0.003 is lost within the impreciseness of 0.02.)\n",
    "    <li> 0.003 + 0.020 = 0.023\n",
    "    <li> 2,333.3333 +  22.22  = 2,355.55\n",
    "</ol>\n",
    "\n",
    "**Multiplication and Division** - requires that the answer's number has significant figure places <font color='dodgerblue'>equal to the number of the least amount of significant figures used **in the calculation**</font>\n",
    "\n",
    "Examples:\n",
    "<ol type = \"1\">\n",
    "    <li> 8.21 x 2.32   = 19.0 (Unrounded value = 19.0472)\n",
    "    <li> 8.210 x 2.32  = 19.0\n",
    "    <li> 8.210 x 2.320 = 19.05\n",
    "    <li> 0.21 x 10.0 = 0.021\n",
    "    <li> 1230 x 2.000 = 2.46e3  (Uncertain value of 1230, but it is \"fairly\" safe to *assume* it has at least three sig figs -> the 1, 2 and 3)\n",
    "    <li> 1230. x 2.000 = 2.460e3\n",
    "    <li> 1.00 x 20.07 = 20.1\n",
    "    <li> 8.2 x 12.3  = 1.0e2 (Unrounded value = 100.86)\n",
    "</ol>"
   ]
  },
  {
   "cell_type": "markdown",
   "metadata": {},
   "source": [
    "<hr style=\"border:2px solid gray\"></hr>\n",
    "\n",
    "## Numbers with Infinite Sigfigs\n",
    "\n",
    "\n",
    "**Exact Number**: have an infinite number of significant figures - must have some context given\n",
    "\n",
    "<ol type = \"1\">\n",
    "<li> Numbers that define other numbesr: e.g., 100 cm in 1 m - both numbers are exact\n",
    "<li> Whole quantity that can not exist in a factions: e.g., 2 molecules; 8 planets and 146 moons in our solar system\n",
    "<li> Mathematically dervied integers in equations: e.g., taking the average of $5.0 + 5.0 = \\frac{5.0+5.0}{2}$ - the 2 is exact, while 5.0 has two sigfigs\n",
    "</ol>\n",
    "\n",
    "**Mathematical Constants**: are infinite or approximate provided\n",
    "<ol type = \"1\">    \n",
    "<li> c (speed of light in a vacuum): 299 792 458 m s$^{-1}$ (exact) (i.e. $299 792 458.\\bar0$)\n",
    "<li> $\\pi$ (Pi): ca. 3.14159 26535 89793 23846 ...\n",
    "<li> $e$ (Euler's constant): ca. 2.71828 18284 59045 23536 ...\n",
    "<li> $\\sqrt{2}$ (Pythagoras's constant): ca. 1.41421 35623 73095 04880 ...   \n",
    "</ol>\n",
    "\n",
    "https://physics.nist.gov/cuu/Constants"
   ]
  },
  {
   "cell_type": "markdown",
   "metadata": {},
   "source": [
    "**Additional Resources**\n",
    "\n",
    "https://www.khanacademy.org/math/arithmetic-home/arith-review-decimals/arithmetic-significant-figures-tutorial/v/significant-figures"
   ]
  }
 ],
 "metadata": {
  "kernelspec": {
   "display_name": "Python 3 (ipykernel)",
   "language": "python",
   "name": "python3"
  },
  "language_info": {
   "codemirror_mode": {
    "name": "ipython",
    "version": 3
   },
   "file_extension": ".py",
   "mimetype": "text/x-python",
   "name": "python",
   "nbconvert_exporter": "python",
   "pygments_lexer": "ipython3",
   "version": "3.8.10"
  }
 },
 "nbformat": 4,
 "nbformat_minor": 2
}
