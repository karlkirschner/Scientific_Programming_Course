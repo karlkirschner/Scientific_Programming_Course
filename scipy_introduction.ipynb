{
 "cells": [
  {
   "cell_type": "markdown",
   "metadata": {},
   "source": [
    "<div class=\"alert block alert-info alert\">\n",
    "\n",
    "# <center> Scientific Programming in Python\n",
    "\n",
    "## <center>Karl N. Kirschner<br>Bonn-Rhein-Sieg University of Applied Sciences<br>Sankt Augustin, Germany\n",
    "\n",
    "# <center> SciPy\n",
    "\n",
    "<center> \"SciPy is a collection of <b>mathematical algorithms</b> and <b>convenience functions</b> built on the NumPy extension of Python.\" [1]</center>\n",
    "<br>\n",
    "\n",
    "**Source**: https://scipy.org/\n",
    "<br><br>\n",
    "\n",
    "Heavily depends on the following libraries:\n",
    "1. Numpy\n",
    "<br>\n",
    "\n",
    "### Subpackages\n",
    "\n",
    "\"SciPy is organized into subpackages covering different scientific computing domains.\" [1]\n",
    "   \n",
    "1. cluster: Clustering algorithms\n",
    "2. constants: Physical and mathematical constants\n",
    "3. fftpack: Fast Fourier Transform routines\n",
    "4. **integrate**: Integration and ordinary differential equation solvers\n",
    "5. **interpolate**: Interpolation and smoothing splines\n",
    "6. io: Input and Output\n",
    "7. linalg: Linear algebra\n",
    "8. ndimage: N-dimensional image processing\n",
    "9. odr: Orthogonal distance regression\n",
    "10. **optimize**: Optimization and root-finding routines\n",
    "11. signal: Signal processing\n",
    "12. sparse: Sparse matrices and associated routines\n",
    "13. spatial: Spatial data structures and algorithms\n",
    "14. special: Special functions\n",
    "15. stats: Statistical distributions and functions\n",
    "\n",
    "One fo the strengths of SciPy is that it can provide **numerical solutions** (i.e. approximated). The opposite of numerical solutions are **analytic solutions** (i.e., exact; `f(2) = x^2 = 4`).\n",
    "\n",
    "### For citing SciPy:\n",
    "\n",
    "Pauli Virtanen, Ralf Gommers, Travis E. Oliphant, Matt Haberland, Tyler Reddy, David Cournapeau, Evgeni Burovski, Pearu Peterson, Warren Weckesser, Jonathan Bright, Stéfan J. van der Walt, Matthew Brett, Joshua Wilson, K. Jarrod Millman, Nikolay Mayorov, Andrew R. J. Nelson, Eric Jones, Robert Kern, Eric Larson, CJ Carey, İlhan Polat, Yu Feng, Eric W. Moore, Jake VanderPlas, Denis Laxalde, Josef Perktold, Robert Cimrman, Ian Henriksen, E.A. Quintero, Charles R Harris, Anne M. Archibald, Antônio H. Ribeiro, Fabian Pedregosa, Paul van Mulbregt, and SciPy 1.0 Contributors. (2020) SciPy 1.0: Fundamental Algorithms for Scientific Computing in Python. Nature Methods, 17(3), 261-272.\n",
    "\n",
    "<br>\n",
    "\n",
    "**Bibtex file**:\n",
    "\n",
    "@ARTICLE{2020SciPy-NMeth,\n",
    "\n",
    "  author  = {Virtanen, Pauli and Gommers, Ralf and Oliphant, Travis E. and Haberland, Matt and Reddy, Tyler and Cournapeau, David and Burovski, Evgeni and Peterson, Pearu and Weckesser, Warren and Bright, Jonathan and {van der Walt}, St{\\'e}fan J. and Brett, Matthew and Wilson, Joshua and Millman, K. Jarrod and Mayorov, Nikolay and Nelson, Andrew R. J. and Jones, Eric and Kern, Robert and Larson, Eric and Carey, C J and Polat, {\\.I}lhan and Feng, Yu and Moore, Eric W. and {VanderPlas}, Jake and Laxalde, Denis and Perktold, Josef and Cimrman, Robert and Henriksen, Ian and Quintero, E. A. and Harris, Charles R. and Archibald, Anne M. and Ribeiro, Ant{\\^o}nio H. and Pedregosa, Fabian and {van Mulbregt}, Paul and {SciPy 1.0 Contributors}},\n",
    "\n",
    "  title   = {{{SciPy} 1.0: Fundamental Algorithms for Scientific Computing in Python}},\n",
    "\n",
    "  journal = {Nature Methods},\n",
    "\n",
    "  year    = {2020},\n",
    "\n",
    "  volume  = {17},\n",
    "\n",
    "  pages   = {261--272},\n",
    "\n",
    "  adsurl  = {https://rdcu.be/b08Wh},\n",
    "\n",
    "  doi     = {10.1038/s41592-019-0686-2},\n",
    "\n",
    "}\n",
    "\n",
    "### Helpful documents\n",
    "\n",
    "- Manual: https://docs.scipy.org/doc/\n",
    "\n",
    "- API: https://docs.scipy.org/doc/scipy/reference/\n",
    "\n",
    "- Tutorials: https://docs.scipy.org/doc/scipy/tutorial/index.html\n",
    "    \n",
    "\n",
    "<hr style=\"border:2px solid gray\"></hr>\n",
    "    \n",
    "**Note**: All user-defined functions shown within the notebook do not include document strings (i.e. block comments) or internal checks. This is purposely done for focusing on the teaching aspects of the lecture. **A full and proper user-defined function would include these.**\n",
    "\n",
    "#### References\n",
    "1. ScyPy Website, \"Introduction\", https://docs.scipy.org/doc/scipy/tutorial/general.html. Visited on June 19th, 2022."
   ]
  },
  {
   "cell_type": "code",
   "execution_count": null,
   "metadata": {},
   "outputs": [],
   "source": [
    "#help(scipy)"
   ]
  },
  {
   "cell_type": "code",
   "execution_count": 1,
   "metadata": {},
   "outputs": [
    {
     "name": "stdout",
     "output_type": "stream",
     "text": [
      "Versions Used\n",
      "matplotlib: 3.5.1\n",
      "NumPy: 1.22.3\n",
      "SciPy: 1.7.3\n"
     ]
    }
   ],
   "source": [
    "import matplotlib\n",
    "import matplotlib.pyplot as plt\n",
    "import numpy as np\n",
    "import scipy\n",
    "\n",
    "from scipy.integrate import quad\n",
    "\n",
    "print('Versions Used')\n",
    "print(f'matplotlib: {matplotlib.__version__}')\n",
    "print(f'NumPy: {np.__version__}')\n",
    "print(f'SciPy: {scipy.__version__}')"
   ]
  },
  {
   "cell_type": "code",
   "execution_count": null,
   "metadata": {},
   "outputs": [],
   "source": [
    "## For extra information given within the lectures\n",
    "\n",
    "from IPython.display import HTML\n",
    "\n",
    "\n",
    "def set_code_background(color: str):\n",
    "    ''' Set the background color for code cells.\n",
    "\n",
    "        Source: psychemedia via https://stackoverflow.com/questions/49429585/\n",
    "                how-to-change-the-background-color-of-a-single-cell-in-a-jupyter-notebook-jupy\n",
    "\n",
    "        To match Jupyter's dev class colors:\n",
    "            \"alert alert-block alert-warning\" = #fcf8e3\n",
    "\n",
    "        Args:\n",
    "            color: HTML color, rgba, hex\n",
    "    '''\n",
    "\n",
    "    script = (\"var cell = this.closest('.code_cell');\"\n",
    "              \"var editor = cell.querySelector('.input_area');\"\n",
    "              f\"editor.style.background='{color}';\"\n",
    "              \"this.parentNode.removeChild(this)\")\n",
    "    display(HTML(f'<img src onerror=\"{script}\">'))\n",
    "\n",
    "\n",
    "set_code_background(color='#fcf8e3')"
   ]
  },
  {
   "cell_type": "markdown",
   "metadata": {},
   "source": [
    "## Integration\n",
    "\n",
    "Let's start with integration. (Recall that SymPy is another library that allows us to integrate.)\n",
    "\n",
    "**What can integration do for us?** For something that is defined by a mathematical function (i.e., an equation), we can obtain the following information:\n",
    "\n",
    "1. **areas** (i.e., 2D; e.g., the area between two curves that cross each other),\n",
    "2. **volumes** (i.e., 3D; e.g., swimming pool design),\n",
    "3. **surface area** (e.g., of a protein),\n",
    "3. **displacements** (e.g., distance with respect to time),\n",
    "4. **center** (e.g., of mass), and\n",
    "5. **probability**.\n",
    "\n",
    "- integrate https://docs.scipy.org/doc/scipy/tutorial/integrate.html\n",
    "\n",
    "\n",
    "Graphically, when we <font color='DodgerBlue'>integrate a function f(x)</font> we obtain the <font color='DodgerBlue'>\"area under the curve\"</font>.\n",
    "<img src=\"00_images/integral_example.png\" alt=\"integral\" style=\"width: 200px;\"/>\n",
    "\n",
    "<center>Figure 1: Depiction that shows the \"area under the curve\" determined through integration of function <font color='DodgerBlue'>\"f(x)\" with limits from \"a\" to \"b\"</font>.</center>\n",
    "\n",
    "\n",
    "It is kinda like doing addition, but for something that is continuous (i.e. not finite).\n",
    "\n",
    "Image Source: https://en.wikipedia.org/wiki/Integral#/media/File:Integral_example.svg"
   ]
  },
  {
   "cell_type": "markdown",
   "metadata": {},
   "source": [
    "Let's define a simple function:\n",
    "\n",
    "$$f(x) = \\int_0^1 (mx^2 + n) dx$$\n",
    "\n",
    "I'm going to stick with variable names that match the equation given above for consistency. We will focus on the equation within the integration. (Side note: Sympy can also do what we do below).\n",
    "\n",
    "Variables (https://en.wikipedia.org/wiki/Dependent_and_independent_variables)\n",
    "- <font color='DodgerBlue'>Indpendent</font> variables: x (plotted on the x-axis)\n",
    "- <font color='DodgerBlue'>Dependent</font> variable: f(x) --> y (plotted on the y-axis)"
   ]
  },
  {
   "cell_type": "markdown",
   "metadata": {},
   "source": [
    "Disclaimer: for teaching purposes, the docstring, context, and internal checks are purposely left out in the following function."
   ]
  },
  {
   "cell_type": "code",
   "execution_count": null,
   "metadata": {},
   "outputs": [],
   "source": [
    "def simple_function(x: float, m: float, n: float) -> float:\n",
    "    return m*x**2 + n"
   ]
  },
  {
   "cell_type": "markdown",
   "metadata": {},
   "source": [
    "#### Generate the starting data"
   ]
  },
  {
   "cell_type": "markdown",
   "metadata": {},
   "source": [
    "Define the two variables `m` and `n`:"
   ]
  },
  {
   "cell_type": "code",
   "execution_count": null,
   "metadata": {},
   "outputs": [],
   "source": [
    "m = 3.00\n",
    "n = 5.00"
   ]
  },
  {
   "cell_type": "markdown",
   "metadata": {},
   "source": [
    "Generate some data along the x-axis:"
   ]
  },
  {
   "cell_type": "code",
   "execution_count": null,
   "metadata": {},
   "outputs": [],
   "source": [
    "x_data = np.linspace(-1, 2, 20)\n",
    "x_data"
   ]
  },
  {
   "cell_type": "markdown",
   "metadata": {},
   "source": [
    "<div class=\"alert alert-block alert-warning\">\n",
    "<hr style=\"border:1.5px dashed gray\"></hr>\n",
    "\n",
    "**Sidenote**: Numpy's linspace vs arrange:\n",
    "\n",
    "- linspace (i.e. `numpy.linspace(start, stop, num`): \"Return evenly spaced numbers over a specified interval.\"\n",
    "    - https://numpy.org/devdocs/reference/generated/numpy.linspace.html\n",
    "    - the stepsize is created\n",
    "    - the number of steps must be given\n",
    "\n",
    "Versus\n",
    "- arange (i.e. `numpy.arange(start, stop, step)`: \"Return evenly spaced values within a given interval.\"\n",
    "    - https://numpy.org/doc/stable/reference/generated/numpy.arange.html\n",
    "    - the stepsize is specified\n",
    "    - the number of steps is created\n",
    "\n",
    "<hr style=\"border:1.5px dashed gray\"></hr>"
   ]
  },
  {
   "cell_type": "markdown",
   "metadata": {},
   "source": [
    "They y-data can be generated using the equation we encoded in the above function."
   ]
  },
  {
   "cell_type": "markdown",
   "metadata": {},
   "source": [
    "#### Viusalize the Data\n",
    "\n",
    "We can plot the curve:\n",
    "- x range = -1 to 2, and then\n",
    "- visualize the area between the integration limits (i.e. from 0 to 1).\n",
    "\n",
    "**Notice**: for the y-values we use the user-defined function directly in the `plt.plot` function call."
   ]
  },
  {
   "cell_type": "code",
   "execution_count": null,
   "metadata": {},
   "outputs": [],
   "source": [
    "plt.figure(figsize=(6, 6))\n",
    "\n",
    "plt.plot(x_data, simple_function(x_data, m, n), color='orange', linewidth=5,\n",
    "         marker='o', markersize=7, mfc='white')\n",
    "\n",
    "plt.hlines(y=0.0, xmin=0.0, xmax=1.0, linewidth=5)\n",
    "plt.hlines(y=5.0, xmin=0.0, xmax=1.0, linewidth=5, linestyle='dashed')\n",
    "\n",
    "plt.vlines(x=0.0, ymin=0.0, ymax=5.0, linewidth=5)\n",
    "plt.vlines(x=1.0, ymin=0.0, ymax=7.85, linewidth=5)\n",
    "\n",
    "plt.xlabel(xlabel='x', fontsize=14)\n",
    "plt.ylabel(ylabel='f(x)', fontsize=14)\n",
    "plt.yticks(fontsize=14)\n",
    "plt.xticks(fontsize=14)\n",
    "\n",
    "plt.show()"
   ]
  },
  {
   "cell_type": "markdown",
   "metadata": {},
   "source": [
    "#### Let's \"ball-park\" (i.e., approximate) the data to enable us to gauge the final integration answer (i.e., does it make sense)\n",
    "\n",
    "We can <font color='DodgerBlue'>approximate</font> the area under the orange curve and within the blue region to be:\n",
    "\n",
    "<font color='DodgerBlue'>rectangle + ca. triangle</font>\n",
    "\n",
    "`1*5 + [(1*2.5)/2] = 5 + 1.25 = 6.25`"
   ]
  },
  {
   "cell_type": "markdown",
   "metadata": {},
   "source": [
    "### Integrate using `quad`\n",
    "\n",
    "Okay, good. Now let's integrate that function.\n",
    "\n",
    "`quad`: general purpose single integration of a function containing\n",
    "- one variable (e.g. x), and\n",
    "- evaluated between two points (e.g., 0 to 1)\n",
    "\n",
    "\n",
    "- https://docs.scipy.org/doc/scipy/reference/generated/scipy.integrate.quad.html#scipy.integrate.quad\n",
    "<br><br>\n",
    "\n",
    "`scipy.integrate.quad(func, a, b, args=(), full_output=0, epsabs=1.49e-08, epsrel=1.49e-08, limit=50, points=None, weight=None, wvar=None, wopts=None, maxp1=50, limlst=50)`:\n",
    "    \n",
    "**Input (required)**\n",
    "- `func` = the **simple_function** defined above (i.e., a <font color='DodgerBlue'>\"callable\"</font> Python object)\n",
    "- `a` (lower integration limit) = **0**\n",
    "- `b` (upper inegration limit) = **1**\n",
    "\n",
    "**Input (also usually required)**\n",
    "- `args` (additional arguments to pass) = **(3, 5)** (i.e., the <font color='DodgerBlue'>variables</font> \"m\" and \"n\" to the simple_function)\n",
    "\n",
    "**Output**\n",
    "- The returned value is a tuple:\n",
    "    - 1$^{st}$: the resulting **value of the integral**, and\n",
    "    - 2$^{nd}$: an **upper bound on the error** (this occurs since we are using approximations to solve integrals)"
   ]
  },
  {
   "cell_type": "code",
   "execution_count": null,
   "metadata": {},
   "outputs": [],
   "source": [
    "result = quad(func=simple_function, a=0, b=1, args=(m, n))\n",
    "result"
   ]
  },
  {
   "cell_type": "markdown",
   "metadata": {},
   "source": [
    "###### Accessing value and error (plus, remembering string formatting):\n",
    "\n",
    "- f: Fixed-point notation. Displays the number as a fixed-point number. The default precision is 6.\n",
    "- e: Exponent notation. Prints the number in scientific notation using the letter ‘e’ to indicate the exponent. The default precision is 6.\n",
    "\n",
    "(Rounding for simplicity of reading, not due to accuracy.)"
   ]
  },
  {
   "cell_type": "code",
   "execution_count": null,
   "metadata": {},
   "outputs": [],
   "source": [
    "print(f'Full answer: {result[0]:0.2f} with a maximum error {result[1]:0.2e}.')"
   ]
  },
  {
   "cell_type": "markdown",
   "metadata": {},
   "source": [
    "<hr style=\"border:1px solid gray\"></hr>\n",
    "\n",
    "## A more complicated example\n",
    "\n",
    "1. Handling infinity limits (i.e., **indefinite integrals**)\n",
    "2. Python's built-in function `eval` (evaluate)\n",
    "\t- https://docs.python.org/3/library/functions.html#eval\n",
    "\n",
    "Let's first look at each piece, and then we will put it together. To do this stepwise, we will use the `eval` function.\n",
    "\n",
    "`eval` works on single functions (note the use of quotation marks):\n"
   ]
  },
  {
   "cell_type": "code",
   "execution_count": null,
   "metadata": {},
   "outputs": [],
   "source": [
    "number = 2\n",
    "\n",
    "eval('number**2')"
   ]
  },
  {
   "cell_type": "markdown",
   "metadata": {},
   "source": [
    "The `eval` function also works on `np.arrays`."
   ]
  },
  {
   "cell_type": "markdown",
   "metadata": {},
   "source": [
    "Example function will be the following:\n",
    "\n",
    "$$\\frac{1}{x^2}$$\n",
    "\n",
    "First create some x-data:"
   ]
  },
  {
   "cell_type": "code",
   "execution_count": null,
   "metadata": {},
   "outputs": [],
   "source": [
    "x_data_array = np.linspace(1, 11, 30)\n",
    "x_data_array"
   ]
  },
  {
   "cell_type": "markdown",
   "metadata": {},
   "source": [
    "Now evaluate the function at those points (i.e. determine the y-values):"
   ]
  },
  {
   "cell_type": "code",
   "execution_count": null,
   "metadata": {},
   "outputs": [],
   "source": [
    "y_data_array = eval('1/(x_data_array**2)')\n",
    "y_data_array"
   ]
  },
  {
   "cell_type": "markdown",
   "metadata": {},
   "source": [
    "Let's plot this to visualize the data:"
   ]
  },
  {
   "cell_type": "code",
   "execution_count": null,
   "metadata": {},
   "outputs": [],
   "source": [
    "plt.figure(figsize=(6, 6))\n",
    "\n",
    "plt.plot(x_data_array, y_data_array, color='orange', linewidth=5,\n",
    "         marker='o', markersize=7, mfc='white')\n",
    "\n",
    "plt.hlines(y=0.0, xmin=1.0, xmax=9.0, linestyle='dashed', linewidth=3)\n",
    "plt.vlines(x=1.0, ymin=0.0, ymax=0.9, linestyle='dashed', linewidth=3)\n",
    "\n",
    "plt.xlabel(xlabel='x', fontsize=14, labelpad=15)\n",
    "plt.ylabel(ylabel=r'$\\frac{1}{x^2}$', fontsize=14, rotation=0, labelpad=15)\n",
    "plt.yticks(fontsize=14)\n",
    "plt.xticks(fontsize=14)\n",
    "\n",
    "plt.show()"
   ]
  },
  {
   "cell_type": "markdown",
   "metadata": {},
   "source": [
    "Imagine this plot going to **infinity** on the **x-axis**.\n",
    "\n",
    "<font color='DodgerBlue'>What is the area from x=1 to x=infinity?</font>\n",
    "\n",
    "Hard to say right?\n",
    "\n",
    "---\n",
    "\n",
    "Okay, let's create a callable function that we will pass to SciPy's `quad` function for integration:"
   ]
  },
  {
   "cell_type": "code",
   "execution_count": null,
   "metadata": {},
   "outputs": [],
   "source": [
    "def function(x: float) -> float:\n",
    "    return 1/x**2"
   ]
  },
  {
   "cell_type": "markdown",
   "metadata": {},
   "source": [
    "Let's focus now upon an \"improper\" integral (i.e. the upper integration limit is infinity).\n",
    "\n",
    "$$\\int_1^{\\infty} \\frac{1}{x^2} dx$$"
   ]
  },
  {
   "cell_type": "code",
   "execution_count": null,
   "metadata": {},
   "outputs": [],
   "source": [
    "result = quad(func=function, a=2, b=np.inf)\n",
    "result"
   ]
  },
  {
   "cell_type": "markdown",
   "metadata": {},
   "source": [
    "<font color='DodgerBlue'>Therefore, the area under the $\\frac{1}{x^2}$ curve from x=1 to infinity is 1.0.</font>\n",
    "\n",
    "(What is the area under the curve from x=2 to infinity?)"
   ]
  },
  {
   "cell_type": "markdown",
   "metadata": {},
   "source": [
    "**Note**: if we try to do this all-in-one step where we provide the function directly, we get an error. That is the practical reason why one must create a function for `quad` to call.\n",
    "\n"
   ]
  },
  {
   "cell_type": "code",
   "execution_count": null,
   "metadata": {},
   "outputs": [],
   "source": [
    "result = quad(1/x**2, 1, np.inf)"
   ]
  },
  {
   "cell_type": "markdown",
   "metadata": {},
   "source": [
    "<hr style=\"border:2px solid gray\"></hr>\n",
    "\n",
    "## Optimization\n",
    "\n",
    "Finding a numerical solution for maximizing or minimizing a function.\n",
    "\n",
    "In other words, if we start with an arbitrary point on a function's curve (or surface), an optimization algorithm will locate (i.e. optimize) the lowest energy value with respect to that starting position (see Figure 2).\n",
    "\n",
    "<img src=\"00_images/Gradient_descent.gif\" alt=\"gradient_opt\" style=\"width: 400px;\"/>\n",
    "\n",
    "<center>Figure 2: Three starting points on a mathematically defined surface that are optimized to two local minima.<br>(Image source: \n",
    "<a href=\"https://commons.wikimedia.org/wiki/File:Gradient_descent.gif\">https://commons.wikimedia.org/wiki/File:Gradient_descent.gif</a>)\n",
    "</center>\n",
    "\n",
    "\n",
    "- optimize: https://docs.scipy.org/doc/scipy/reference/optimize.html\n",
    "\n",
    "### scipy.optimize.minimize() and its output **type**\n",
    "\n",
    "`scipy.optimize.minimize(fun, x0, args=(), method=None, jac=None, hess=None, hessp=None, bounds=None, constraints=(), tol=None, callback=None, options=None)`\n",
    "\n",
    "- https://docs.scipy.org/doc/scipy/reference/generated/scipy.optimize.minimize.html#scipy.optimize.minimize\n",
    "\n",
    "**Input (required)**\n",
    "\n",
    "- `func`: a function that will be minimized\n",
    "\n",
    "- `x0`: an initial guess\n",
    "\n",
    "**Methods (i.e., solvers)**\n",
    "- Nelder-Mead\n",
    "- Powell\n",
    "- CG\n",
    "- **BFGS**\n",
    "- Newton-CG\n",
    "- L-BFGS-B\n",
    "- TNC\n",
    "- COBYLA\n",
    "- SLSQP\n",
    "- trust-constr\n",
    "- dogleg\n",
    "- trust-ncg\n",
    "- trust-exact\n",
    "- trust-krylov\n",
    "\n",
    "\n",
    "- **Default solver**: quasi-Newton method of Broyden, Fletcher, Goldfarb, and Shanno (**BFGS**)\n",
    "    - https://docs.scipy.org/doc/scipy/reference/optimize.minimize-bfgs.html#optimize-minimize-bfgs\n",
    "\n",
    "**Output**\n",
    "The output is a <font color='DodgerBlue'>compound object</font> containing a lot of information regarding the convergence (see example below for what it looks like).\n",
    "\n",
    "\n",
    "- More background on minimization: http://scipy-lectures.org/advanced/mathematical_optimization"
   ]
  },
  {
   "cell_type": "markdown",
   "metadata": {},
   "source": [
    "<hr style=\"border:1px solid gray\"></hr>\n",
    "\n",
    "### Example\n",
    "\n",
    "Find the minimum of the follwoing 1D function (i.e., a scalar function - a function that return a single value from input values):\n",
    "\n",
    "$$ y = x^2 + 25sin(x) $$"
   ]
  },
  {
   "cell_type": "code",
   "execution_count": 19,
   "metadata": {},
   "outputs": [],
   "source": [
    "from scipy import optimize"
   ]
  },
  {
   "cell_type": "code",
   "execution_count": 38,
   "metadata": {},
   "outputs": [],
   "source": [
    "def scalar_func(x: float) -> float:\n",
    "    return x**2 + 25*np.sin(x)"
   ]
  },
  {
   "cell_type": "code",
   "execution_count": null,
   "metadata": {},
   "outputs": [],
   "source": [
    "x_values = np.arange(-10, 10, 0.1)\n",
    "\n",
    "y_values = scalar_func(x_values)\n",
    "y_values"
   ]
  },
  {
   "cell_type": "markdown",
   "metadata": {},
   "source": [
    "**Visualize** what the x- and y-data look like to better understand the data:"
   ]
  },
  {
   "cell_type": "code",
   "execution_count": null,
   "metadata": {},
   "outputs": [],
   "source": [
    "plt.figure(figsize=(10, 6))\n",
    "\n",
    "plt.plot(x_values, y_values, 'o')\n",
    "\n",
    "plt.show()"
   ]
  },
  {
   "cell_type": "markdown",
   "metadata": {},
   "source": [
    "Notice the **three significant minima** that are present (i.e. one **global**, and two **local**)\n",
    "\n",
    "Use `optimize.minimier` to find a minimum using the default **BFGS** method.\n",
    "\n",
    "- https://docs.scipy.org/doc/scipy/reference/generated/scipy.optimize.minimize.html#scipy.optimize.minimize\n",
    "\n",
    "`scipy.optimize.minimize(fun, x0, args=(), method=None)`\n",
    "\n",
    "Let's start with an **inital guess** near the global minimum (i.e., `x0 = 0.0`):"
   ]
  },
  {
   "cell_type": "code",
   "execution_count": null,
   "metadata": {},
   "outputs": [],
   "source": [
    "result_global = optimize.minimize(fun=scalar_func, x0=0.0, method=\"BFGS\")\n",
    "type(result_global)"
   ]
  },
  {
   "cell_type": "code",
   "execution_count": null,
   "metadata": {},
   "outputs": [],
   "source": [
    "result_global"
   ]
  },
  {
   "cell_type": "markdown",
   "metadata": {},
   "source": [
    "You can retrieve each of these items, as demonstrated by the following:\n",
    "\n",
    "Position of the found **minimum** on the **x-axis**:"
   ]
  },
  {
   "cell_type": "code",
   "execution_count": null,
   "metadata": {},
   "outputs": [],
   "source": [
    "result_global.x"
   ]
  },
  {
   "cell_type": "markdown",
   "metadata": {},
   "source": [
    "Value of the found **minimum** on the **y-axis**:"
   ]
  },
  {
   "cell_type": "code",
   "execution_count": null,
   "metadata": {},
   "outputs": [],
   "source": [
    "result_global.fun"
   ]
  },
  {
   "cell_type": "markdown",
   "metadata": {},
   "source": [
    "Now let's set an **initial guess** closer to one of the **local minimum** (i.e. `x0 = 3.0`)"
   ]
  },
  {
   "cell_type": "code",
   "execution_count": null,
   "metadata": {},
   "outputs": [],
   "source": [
    "result_local = optimize.minimize(fun=scalar_func, x0=3.0, method=\"BFGS\")\n",
    "result_local"
   ]
  },
  {
   "cell_type": "markdown",
   "metadata": {},
   "source": [
    "**Notice**: BFGS finds a local minimum at x=4.36 (i.e., **NOT** the global minimia). Thus, <font color='DodgerBlue'>BFGS apears to be a local optimizer</font>."
   ]
  },
  {
   "cell_type": "markdown",
   "metadata": {},
   "source": [
    "<hr style=\"border:1px solid gray\"></hr>\n",
    "\n",
    "### Overcoming the dependency on the initial guess (the idea of a global optimizer)\n",
    "\n",
    "- `fminbound`: a minimization within boundaries\n",
    "- `brute`: minimize a function over a given range through lots of sampling\n",
    "- `differential_evolution`: global minimum a multivariate function\n",
    "- `shgo`: global minimum using SHG optimization\n",
    "- `dual_annealing`: global minimum using dual annealing\n",
    "\n",
    "\n",
    "Let's try these out:\n",
    "1. `fminbound`\n",
    "2. `brute`\n",
    "3. `basinhopping`\n",
    "\n",
    "#### 1. fminbound\n",
    "- https://docs.scipy.org/doc/scipy/reference/generated/scipy.optimize.fminbound.html\n",
    "\n",
    "`scipy.optimize.fminbound(func, x1, x2, ...)`\n",
    "\n",
    "- **no starting guess** is used as input\n",
    "\n",
    "As a reminder of what the data looks like:"
   ]
  },
  {
   "cell_type": "code",
   "execution_count": null,
   "metadata": {},
   "outputs": [],
   "source": [
    "plt.figure(figsize=(5, 3))\n",
    "plt.plot(x_values, y_values, 'o')\n",
    "plt.show()"
   ]
  },
  {
   "cell_type": "code",
   "execution_count": null,
   "metadata": {},
   "outputs": [],
   "source": [
    "optimize.fminbound(func=scalar_func, x1=-10, x2=10)"
   ]
  },
  {
   "cell_type": "markdown",
   "metadata": {},
   "source": [
    "Therefore, <font color='DodgerBlue'>`fminbound` finds the global minimum</font>."
   ]
  },
  {
   "cell_type": "markdown",
   "metadata": {},
   "source": [
    "#### 2. brute\n",
    "- https://docs.scipy.org/doc/scipy/reference/generated/scipy.optimize.brute.html#scipy.optimize.brute\n",
    "\n",
    "`scipy.optimize.brute(func, ranges,...)`\n",
    "- ranges (tuple): \"Each component of the ranges **tuple** must be either a **“slice object”** or a **range tuple of the form (low, high)**. The program uses these to create the grid of points on which the objective function will be computed.\""
   ]
  },
  {
   "cell_type": "markdown",
   "metadata": {},
   "source": [
    "Built-in function: `slice(start, stop[, step])`\n",
    "- https://docs.python.org/3/library/functions.html#slice"
   ]
  },
  {
   "cell_type": "markdown",
   "metadata": {},
   "source": [
    "**NOTE**: Since we have only <font color='DodgerBlue'>one variable (i.e., `x`)</font>, we only need to <font color='DodgerBlue'>\"fill-in\" the first part of the tuple</font> (e.g., `(slice(-10, 10, 1), )`)\n",
    "\n",
    "(The alternativey tuple (low, high) designation would be `(-10, 10), )`.)"
   ]
  },
  {
   "cell_type": "code",
   "execution_count": null,
   "metadata": {},
   "outputs": [],
   "source": [
    "my_range = (slice(-10, 10, 0.1), )\n",
    "optimize.brute(func=scalar_func, ranges=my_range)"
   ]
  },
  {
   "cell_type": "code",
   "execution_count": null,
   "metadata": {},
   "outputs": [],
   "source": [
    "optimize.brute(func=scalar_func, ranges=((-10, 10), ))"
   ]
  },
  {
   "cell_type": "markdown",
   "metadata": {},
   "source": [
    "Therefore, <font color='DodgerBlue'>`brute` also finds the global minimum</font> at x = -1.45."
   ]
  },
  {
   "cell_type": "markdown",
   "metadata": {},
   "source": [
    "#### 3. basin hopping\n",
    "- https://docs.scipy.org/doc/scipy/reference/generated/scipy.optimize.basinhopping.html\n",
    "\n",
    "`scipy.optimize.basinhopping(func, x0, niter=100, T=1.0, stepsize=0.5, ...)`\n",
    "\n",
    "- combines global stepping with local minimization\n",
    "- rugged, funnel-like surfaces (e.g. molecular potential energy surfaces)\n",
    "- requires: a function and an initial guess (so not a \"perfect\" method)\n",
    "    \n",
    "- sensitive to stepsize\n",
    "    - stepsize=0.5 (i.e. default value) will find in a local minmium\n",
    "    - stepsize=2.5 will find the global mimimum"
   ]
  },
  {
   "cell_type": "markdown",
   "metadata": {},
   "source": [
    "Recall that `x0 = 3.0` gave a **local minimum** at `x = 4.45` when using a local minimizer (i.e., `optimize.minimize(fun=scalar_func, x0=3.0, method=\"BFGS\")`)."
   ]
  },
  {
   "cell_type": "code",
   "execution_count": null,
   "metadata": {},
   "outputs": [],
   "source": [
    "plt.figure(figsize=(5, 3))\n",
    "plt.plot(x_values, y_values, 'o')\n",
    "plt.show()"
   ]
  },
  {
   "cell_type": "code",
   "execution_count": null,
   "metadata": {},
   "outputs": [],
   "source": [
    "optimize.basinhopping(func=scalar_func, x0=3.0, stepsize=0.5)"
   ]
  },
  {
   "cell_type": "markdown",
   "metadata": {},
   "source": [
    "Basin hopping returns a value of `x = 4.36; y = -4.45` when using a **small stepsize**\n",
    " - it <font color='red'>did not</font> find the **global minimum**\n",
    "\n",
    "local minimum (approx.):  `x = 4.4; y = -4.5`\n",
    "\n",
    "global minimum (approx.): `x = -1.4; y = -22.7`\n",
    "\n",
    "Let's make the <font color='DodgerBlue'>**stepsize** larger</font>:"
   ]
  },
  {
   "cell_type": "code",
   "execution_count": null,
   "metadata": {},
   "outputs": [],
   "source": [
    "optimize.basinhopping(func=scalar_func, x0=3.0, stepsize=3.5)"
   ]
  },
  {
   "cell_type": "markdown",
   "metadata": {},
   "source": [
    "Now Basin Hopping **<font color='DodgerBlue'>found</font> the global minimum** (i.e. `x = -1.45; y = -22.7`)."
   ]
  },
  {
   "cell_type": "markdown",
   "metadata": {},
   "source": [
    "<hr style=\"border:2px solid gray\"></hr>\n",
    "\n",
    "## Interpolation\n",
    "\n",
    "- A method for **generating new data** within a discrete set of **known data** points.\n",
    "\n",
    "    - In **machine learning**, we would place this idea under **shallow learning** catagory for a **model** creation for one dependent variable data (i.e., a **feature** - the data that would be plotted on the y-axis).\n",
    "\n",
    "\n",
    "- Good for filling in some missing data points within a **continuous** data set\n",
    "\n",
    "\n",
    "- https://docs.scipy.org/doc/scipy/reference/interpolate.html\n",
    "\n",
    "\n",
    "We will focus upon the simplest `Akima1DInterpolator` (Interpolate using cubic polynomial functions).\n",
    "\n",
    "- `Akima1DInterpolator`: https://docs.scipy.org/doc/scipy/reference/generated/scipy.interpolate.Akima1DInterpolator.html#scipy-interpolate-akima1dinterpolatord\n",
    "\n",
    "`class scipy.interpolate.Akima1DInterpolator(x, y, axis=0)`"
   ]
  },
  {
   "cell_type": "code",
   "execution_count": 2,
   "metadata": {},
   "outputs": [],
   "source": [
    "from scipy.interpolate import Akima1DInterpolator"
   ]
  },
  {
   "cell_type": "markdown",
   "metadata": {},
   "source": [
    "<hr style=\"border:1px solid gray\"></hr>\n",
    "\n",
    "### A simple example\n",
    "\n",
    "First things to do is to create a **hypothetical set of known** x- and y-data points:"
   ]
  },
  {
   "cell_type": "code",
   "execution_count": 3,
   "metadata": {},
   "outputs": [
    {
     "data": {
      "text/plain": [
       "array([ 0,  1,  2,  3,  4, 10, 11, 12, 13, 14])"
      ]
     },
     "execution_count": 3,
     "metadata": {},
     "output_type": "execute_result"
    }
   ],
   "source": [
    "x_data_known = np.concatenate((np.arange(0, 5, 1), np.arange(10, 15, 1)))\n",
    "x_data_known"
   ]
  },
  {
   "cell_type": "markdown",
   "metadata": {},
   "source": [
    "Create a corresponding range of y values\n",
    "- exponential via `np.exp()`: https://numpy.org/doc/stable/reference/generated/numpy.exp.html"
   ]
  },
  {
   "cell_type": "code",
   "execution_count": 4,
   "metadata": {},
   "outputs": [
    {
     "data": {
      "text/plain": [
       "array([1.        , 0.71653131, 0.51341712, 0.36787944, 0.26359714,\n",
       "       0.03567399, 0.02556153, 0.01831564, 0.01312373, 0.00940356])"
      ]
     },
     "execution_count": 4,
     "metadata": {},
     "output_type": "execute_result"
    }
   ],
   "source": [
    "y_data_known = np.exp(-x_data_known/3.0)\n",
    "y_data_known"
   ]
  },
  {
   "cell_type": "markdown",
   "metadata": {},
   "source": [
    "Now plot to visualize what the data looks like, and highlight the third data point in the series (i.e. **(x,y) = (2, 0.51341712))** as an ideal value to reference later."
   ]
  },
  {
   "cell_type": "code",
   "execution_count": 5,
   "metadata": {},
   "outputs": [
    {
     "data": {
      "image/png": "[encoded data removed]",
      "text/plain": [
       "<Figure size 1000x600 with 1 Axes>"
      ]
     },
     "metadata": {},
     "output_type": "display_data"
    }
   ],
   "source": [
    "plt.figure(figsize=(10, 6))\n",
    "\n",
    "plt.plot(x_data_known, y_data_known, linestyle='solid', linewidth=5, marker='o', markersize=15)\n",
    "\n",
    "plt.hlines(y=y_data_known[2], xmin=0, xmax=9, colors='#1f77b4', linewidth=5)\n",
    "\n",
    "plt.title('Known Data, with 3$^{rd}$ Data Point Highlighted')\n",
    "plt.show()"
   ]
  },
  {
   "cell_type": "markdown",
   "metadata": {},
   "source": [
    "#### Create an interprelated function from the existing data points\n",
    "\n",
    "Interpolate a 1-D function: `Akima1DInterpolator(x, y, ...)`"
   ]
  },
  {
   "cell_type": "code",
   "execution_count": 6,
   "metadata": {},
   "outputs": [],
   "source": [
    "interp_function = Akima1DInterpolator(x=x_data_known, y=y_data_known)"
   ]
  },
  {
   "cell_type": "code",
   "execution_count": 7,
   "metadata": {},
   "outputs": [
    {
     "data": {
      "text/plain": [
       "<scipy.interpolate._cubic.Akima1DInterpolator at 0x7f23b6ae43b0>"
      ]
     },
     "execution_count": 7,
     "metadata": {},
     "output_type": "execute_result"
    }
   ],
   "source": [
    "interp_function"
   ]
  },
  {
   "cell_type": "markdown",
   "metadata": {},
   "source": [
    "First let's see if we can reproduce a **known** data point (i.e. a simple idea)\n",
    "- x = 2.0 should give a value of 0.51341712 (see above hypothetical data set)"
   ]
  },
  {
   "cell_type": "code",
   "execution_count": 8,
   "metadata": {},
   "outputs": [
    {
     "data": {
      "text/plain": [
       "array(0.51341712)"
      ]
     },
     "execution_count": 8,
     "metadata": {},
     "output_type": "execute_result"
    }
   ],
   "source": [
    "interp_function(2.0)"
   ]
  },
  {
   "cell_type": "markdown",
   "metadata": {},
   "source": [
    "Visualize to verify the reproduction:\n",
    "- <font color='#1f77b4'>blue (#1f77b4)</font> solid horizontal line: existing (i.e., known) data point, extracted from `np.exp(-x_data_array/3.0)`:\n",
    "\n",
    "- <font color='#ff7f0e'>orange (#ff7f0e)</font> dashed horizontal line: using the interp_function (i.e., predicted)"
   ]
  },
  {
   "cell_type": "code",
   "execution_count": 9,
   "metadata": {},
   "outputs": [
    {
     "data": {
      "image/png": "[encoded data removed]",
      "text/plain": [
       "<Figure size 1000x600 with 1 Axes>"
      ]
     },
     "metadata": {},
     "output_type": "display_data"
    }
   ],
   "source": [
    "plt.figure(figsize=(10, 6))\n",
    "\n",
    "plt.plot(x_data_known, y_data_known, 'o', markersize=15, label='Data Point: Known')\n",
    "\n",
    "## known value\n",
    "plt.hlines(y=y_data_known[2], xmin=0, xmax=9, colors='#1f77b4',\n",
    "           linewidth=5, label='y-value of 3$^{rd}$ Data Point: Known')\n",
    "\n",
    "## interpolated value\n",
    "plt.hlines(y=interp_function(2.0), xmin=0, xmax=9, colors='#ff7f0e',\n",
    "           linestyles='dashed', linewidth=5, label='y-value of 3$^{rd}$ Data Point: Interpolated')\n",
    "\n",
    "plt.legend(loc='upper center', shadow=False, fontsize='large', frameon=True)\n",
    "\n",
    "plt.show()"
   ]
  },
  {
   "cell_type": "markdown",
   "metadata": {},
   "source": [
    "#### Interpolating new data\n",
    "\n",
    "We can extend this idea for and predict y-data  (i.e., interpolated data) for **lots* of new x-values.\n",
    "\n",
    "First, let's create a new range of x values that we want to fill in -- for example, from 1 to 10 in 0.2 increments (step size):"
   ]
  },
  {
   "cell_type": "code",
   "execution_count": 10,
   "metadata": {},
   "outputs": [
    {
     "name": "stdout",
     "output_type": "stream",
     "text": [
      "[ 1.   1.2  1.4  1.6  1.8  2.   2.2  2.4  2.6  2.8  3.   3.2  3.4  3.6\n",
      "  3.8  4.   4.2  4.4  4.6  4.8  5.   5.2  5.4  5.6  5.8  6.   6.2  6.4\n",
      "  6.6  6.8  7.   7.2  7.4  7.6  7.8  8.   8.2  8.4  8.6  8.8  9.   9.2\n",
      "  9.4  9.6  9.8 10. ]\n"
     ]
    }
   ],
   "source": [
    "x_values_new = np.arange(1, 10.2, 0.2)\n",
    "print(x_values_new)"
   ]
  },
  {
   "cell_type": "markdown",
   "metadata": {},
   "source": [
    "Now, using the user-defined function that imploys `interp1d`, solve for the interpolated y-values:"
   ]
  },
  {
   "cell_type": "code",
   "execution_count": 11,
   "metadata": {},
   "outputs": [
    {
     "data": {
      "text/plain": [
       "array([0.71653131, 0.67039764, 0.62680331, 0.58596439, 0.54809696,\n",
       "       0.51341712, 0.4811958 , 0.45054849, 0.42145808, 0.39390743,\n",
       "       0.36787944, 0.34293077, 0.31918897, 0.29749328, 0.27868292,\n",
       "       0.26359714, 0.25083167, 0.23842277, 0.22637042, 0.2146746 ,\n",
       "       0.20333531, 0.19235252, 0.18172621, 0.17145637, 0.16154299,\n",
       "       0.15198605, 0.14278552, 0.1339414 , 0.12545367, 0.11732232,\n",
       "       0.10954732, 0.10212866, 0.09506632, 0.08836029, 0.08201055,\n",
       "       0.07601709, 0.07037988, 0.06509892, 0.06017418, 0.05560566,\n",
       "       0.05139332, 0.04753717, 0.04403717, 0.04089332, 0.0381056 ,\n",
       "       0.03567399])"
      ]
     },
     "execution_count": 11,
     "metadata": {},
     "output_type": "execute_result"
    }
   ],
   "source": [
    "y_values_new = interp_function(x_values_new)\n",
    "y_values_new"
   ]
  },
  {
   "cell_type": "code",
   "execution_count": 12,
   "metadata": {},
   "outputs": [
    {
     "data": {
      "image/png": "[encoded data removed]",
      "text/plain": [
       "<Figure size 1000x600 with 1 Axes>"
      ]
     },
     "metadata": {},
     "output_type": "display_data"
    }
   ],
   "source": [
    "plt.figure(figsize=(10, 6))\n",
    "\n",
    "plt.plot(x_data_known, y_data_known, marker='o', markersize=15, label='Data Point: Given')\n",
    "\n",
    "plt.hlines(y=y_data_known[2], xmin=0, xmax=9, colors='#1f77b4',\n",
    "           linewidth=5, label='y-value of 3$^{rd}$ Data Point: Given')\n",
    "\n",
    "plt.plot(x_values_new, y_values_new, marker='o', markersize=5, label='Data Point: Interpolated')\n",
    "\n",
    "plt.hlines(y=interp_function(2.0), xmin=0, xmax=9, colors='#ff7f0e',\n",
    "           linestyles='dashed', linewidth=5, label='y-value of 3$^{rd}$ Data Point: Interpolated')\n",
    "\n",
    "plt.legend(loc='upper center', shadow=False, fontsize='large', frameon=True)\n",
    "\n",
    "plt.show()"
   ]
  },
  {
   "cell_type": "markdown",
   "metadata": {},
   "source": [
    "We see that the interpolated <font color='#ff7f0e'>**new data**</font> points fall nicely onto the <font color='#1f77b4'>**known (given) data**</font>.\n",
    "\n",
    "- However, be careful - the data between 4 and 10 looks very **linear**. Through **visualization**, we gain a **better understanding** of what our **code created**. **Should it be linear?**"
   ]
  },
  {
   "cell_type": "markdown",
   "metadata": {},
   "source": [
    "**Final note**:\n",
    "\n",
    "There is a relatively simple alternative to `Akima1DInterpolator`that is easy to use called `CubicSpine`:\n",
    "- https://docs.scipy.org/doc/scipy-1.11.4/reference/generated/scipy.interpolate.CubicSpline.html#scipy.interpolate.CubicSpline"
   ]
  },
  {
   "cell_type": "markdown",
   "metadata": {},
   "source": [
    "<div class=\"alert alert-block alert-warning\">\n",
    "<hr style=\"border:1.5px dashed gray\"></hr>\n",
    "\n",
    "### A more complicated (and practical) example"
   ]
  },
  {
   "cell_type": "code",
   "execution_count": null,
   "metadata": {},
   "outputs": [],
   "source": [
    "x_values = np.linspace(0, 1, 10)\n",
    "x_values"
   ]
  },
  {
   "cell_type": "markdown",
   "metadata": {},
   "source": [
    "<div class=\"alert alert-block alert-warning\">\n",
    "\n",
    "##### Create some <font color='DodgerBlue'>noise</font> that will allow us to better mimic what real data looks like\n",
    "\n",
    "<font color='DodgerBlue'>\"Noise\"</font> refers to how much the **real** data varies from (hypothetical) **ideal** data. \n",
    "- Understanding the noise in data is understanding the data's stability (e.g. reproducibility, predictable).\n",
    "- Noise often comes from unaccounted sources (and represent possible areas to learn from)."
   ]
  },
  {
   "cell_type": "markdown",
   "metadata": {},
   "source": [
    "<div class=\"alert alert-block alert-warning\">\n",
    "\n",
    "**Sidenote**: The following **np.random.seed()** statement will allow us to reproduce the random number generation (e.g. allows for reproducibility in examples). This isn't necessary here, but it is nice to know about.\n",
    "\n",
    "- `np.random.random(n)`: https://numpy.org/doc/stable/reference/random/generated/numpy.random.random.html\n",
    "    - create n random numbers that **range from 0 to 1**"
   ]
  },
  {
   "cell_type": "code",
   "execution_count": null,
   "metadata": {},
   "outputs": [],
   "source": [
    "np.random.random(10)"
   ]
  },
  {
   "cell_type": "markdown",
   "metadata": {},
   "source": [
    "<div class=\"alert alert-block alert-warning\">\n",
    "    \n",
    "Now let's create the noise by adding in some math to the random values (i.e. to obtain the right magnitude in the noise data):"
   ]
  },
  {
   "cell_type": "code",
   "execution_count": null,
   "metadata": {},
   "outputs": [],
   "source": [
    "noise = (np.random.random(10)**2 - 1) * 2e-1\n",
    "noise"
   ]
  },
  {
   "cell_type": "markdown",
   "metadata": {},
   "source": [
    "<div class=\"alert alert-block alert-warning\">\n",
    "    \n",
    "Now generate some two types of **y-data** that is a **function of the x-axis data**:\n",
    "\n",
    "1. ideal y data\n",
    "    - perfect data that arrises from an equation\n",
    "2. ideal y data with noise\n",
    "    - we will call this **simulated real data**, which suggest that it was obtained using **experiments**\n",
    "    \n",
    "#### 1. ideal data"
   ]
  },
  {
   "cell_type": "code",
   "execution_count": null,
   "metadata": {},
   "outputs": [],
   "source": [
    "y_values_ideal = np.sin(2 * np.pi * x_values)\n",
    "y_values_ideal"
   ]
  },
  {
   "cell_type": "markdown",
   "metadata": {},
   "source": [
    "<div class=\"alert alert-block alert-warning\">\n",
    "\n",
    "##### 2. ideal data with noise (i.e., simulated \"real\" data)"
   ]
  },
  {
   "cell_type": "code",
   "execution_count": null,
   "metadata": {},
   "outputs": [],
   "source": [
    "y_values_sim = np.sin(2 * np.pi * x_values) + noise\n",
    "y_values_sim"
   ]
  },
  {
   "cell_type": "markdown",
   "metadata": {},
   "source": [
    "<div class=\"alert alert-block alert-warning\">\n",
    "\n",
    "Plot the data, and highlight the 6$^{th}$ data point:\n",
    "- <font color='#1f77b4'>\"ideal\" (blue)</font> data, and\n",
    "- <font color='#ff7f0e'>\"simulated, noisy\" (orange)</font> data "
   ]
  },
  {
   "cell_type": "code",
   "execution_count": null,
   "metadata": {},
   "outputs": [],
   "source": [
    "plt.figure(figsize=(10, 6))\n",
    "\n",
    "plt.plot(x_values, y_values_ideal, marker='o', color='#1f77b4', markersize=7,\n",
    "         linewidth=2, alpha=0.5, label=\"Ideal\")\n",
    "\n",
    "plt.plot(x_values, y_values_sim, marker='o', color='#ff7f0e', markersize=15,\n",
    "         linewidth=5, label=\"Simulated, Noisy\") #simulated, orange\n",
    "\n",
    "plt.hlines(y=y_values_sim[5], xmin=0, xmax=1, colors='#ff7f0e', linewidth=3)\n",
    "\n",
    "plt.legend(loc='upper right', shadow=False, fontsize='large', frameon=True)\n",
    "\n",
    "plt.show()"
   ]
  },
  {
   "cell_type": "markdown",
   "metadata": {},
   "source": [
    "<div class=\"alert alert-block alert-warning\">\n",
    "\n",
    "#### Interpolating new data\n",
    "\n",
    "Create a **new function** that is an **interpolation** of the <font color='#ff7f0e'>simulated</font> data points (i.e., the data that represents **\"real-world\"** data)\n",
    "\n",
    "1. Create a function\n",
    "\n",
    "2. Fill in some of the space between the x-data points by creating a new range\n",
    "\n",
    "3. Interpolate to obtain the new y-data"
   ]
  },
  {
   "cell_type": "code",
   "execution_count": null,
   "metadata": {},
   "outputs": [],
   "source": [
    "interp_function = Akima1DInterpolator(x_values, y_values_sim)"
   ]
  },
  {
   "cell_type": "code",
   "execution_count": null,
   "metadata": {},
   "outputs": [],
   "source": [
    "x_data_new = np.arange(0, 1, 0.02)\n",
    "x_data_new"
   ]
  },
  {
   "cell_type": "code",
   "execution_count": null,
   "metadata": {},
   "outputs": [],
   "source": [
    "y_data_interp = interp_function(x_data_new)\n",
    "y_data_interp"
   ]
  },
  {
   "cell_type": "markdown",
   "metadata": {},
   "source": [
    "<div class=\"alert alert-block alert-warning\">\n",
    "\n",
    "#### Visualize the data\n",
    "\n",
    "Create and overlay plot that shows\n",
    "1. ideal values,\n",
    "2. simulated values (i.e. idea+noise),\n",
    "3. interpolated values (shown in green)"
   ]
  },
  {
   "cell_type": "code",
   "execution_count": null,
   "metadata": {},
   "outputs": [],
   "source": [
    "plt.figure(figsize=(10, 6))\n",
    "\n",
    "plt.plot(x_values, y_values_ideal, marker='o', color='#1f77b4', markersize=7,\n",
    "         linewidth=2, alpha=0.5, label=\"Ideal\")\n",
    "\n",
    "plt.plot(x_values, y_values_sim, marker='o', color='#ff7f0e', markersize=15,\n",
    "         linewidth=5, label=\"Simulated, Noisy\")\n",
    "\n",
    "plt.hlines(y=y_values_sim[5], xmin=0, xmax=1, colors='#ff7f0e', linewidth=5)\n",
    "\n",
    "## plot the interpolated curve (green)\n",
    "plt.plot(x_data_new, y_data_interp, marker='o', color='#2ca02c', markersize=10,\n",
    "         linewidth=2, alpha=0.5, label=\"Interpolated\")\n",
    "\n",
    "plt.hlines(y=interp_function(x_values[5]), xmin=0, xmax=1, colors='#2ca02c',\n",
    "           linestyles='dashed', linewidth=2, alpha=0.5)\n",
    "\n",
    "plt.legend(loc='upper right', shadow=False, fontsize='large', frameon=True)\n",
    "\n",
    "plt.show()"
   ]
  },
  {
   "cell_type": "markdown",
   "metadata": {},
   "source": [
    "<div class=\"alert alert-block alert-warning\">\n",
    "\n",
    "**Sidenote**: Percent Relative Error\n",
    "\n",
    "The **percent relative error** is often calculated in the natural sciences, whose formuala is the following:\n",
    "\n",
    "$$\\text{Percentage Relative Error} = \\frac{\\text{estimated}-\\text{actual}}{\\text{actual}}*100$$\n",
    "\n",
    "What is the PRE between the interpolated vs. simulated, noisy data (i.e. ideal+noise).\n",
    "\n",
    "Let's do this by computing the percent error "
   ]
  },
  {
   "cell_type": "code",
   "execution_count": null,
   "metadata": {},
   "outputs": [],
   "source": [
    "def percentage_rel_error(estimated: float, actual: float) -> float:\n",
    "    return ((estimated - actual)/actual)*100"
   ]
  },
  {
   "cell_type": "code",
   "execution_count": null,
   "metadata": {},
   "outputs": [],
   "source": [
    "display(y_values_ideal)\n",
    "display(y_values_sim)\n",
    "display(y_data_interp)\n",
    "\n",
    "\n",
    "display(interp_function(x_values[5])) # interpolated\n",
    "display(y_values_sim[5])              # simulated, noisy"
   ]
  },
  {
   "cell_type": "code",
   "execution_count": null,
   "metadata": {},
   "outputs": [],
   "source": [
    "pce_interp_sim = percentage_rel_error(estimated=(interp_function(x_values[5])), actual=y_values_sim[5])\n",
    "\n",
    "print(f'{pce_interp_sim:0.2f} %')"
   ]
  },
  {
   "cell_type": "markdown",
   "metadata": {},
   "source": [
    "<div class=\"alert alert-block alert-warning\">\n",
    "\n",
    "So the percentage relative error is 0%.\n",
    "\n",
    "How about the interpolated versus ideal (i.e. noiseless)?\n",
    "\n",
    "This shows how the addition of noise to the ideal data impacted our \"modeling building\":"
   ]
  },
  {
   "cell_type": "code",
   "execution_count": null,
   "metadata": {},
   "outputs": [],
   "source": [
    "display(interp_function(x_values[5])) # interpolated\n",
    "display(y_values_ideal[5])            # ideal"
   ]
  },
  {
   "cell_type": "code",
   "execution_count": null,
   "metadata": {},
   "outputs": [],
   "source": [
    "pce_interp_ideal = percentage_rel_error(estimated=(interp_function(x_values[5])), actual=y_values_ideal[5])\n",
    "print(f'{pce_interp_ideal:0.2f} %')"
   ]
  },
  {
   "cell_type": "markdown",
   "metadata": {},
   "source": [
    "<div class=\"alert alert-block alert-warning\">\n",
    "\n",
    "**Takehome message**: the addition of noise significantly changed the ideal data, which is what we wanted to do. The concept of adding noise to artifically generated data can be important for proper computer modeling.\n",
    "\n",
    "<hr style=\"border:1.5px dashed gray\"></hr>\n"
   ]
  },
  {
   "cell_type": "markdown",
   "metadata": {},
   "source": [
    "<hr style=\"border:2px solid gray\"></hr>\n",
    "\n",
    "## Curve Fitting\n",
    "\n",
    "- curve_fit: https://docs.scipy.org/doc/scipy/reference/generated/scipy.optimize.curve_fit.html\n",
    "\n",
    "Curve fitting is the act of fitting a **PROVIDED** function to provided data points. The result is an optimized function that best models the data points. This is done by optimizing the given function's adjustable parameters.\n",
    "\n",
    "**Example**:\n",
    "We obtain data that follows a **sine wave**, but we don't know the amplitude or period that the data has. Thus, we need to **curve fit** the **data** to provide the **amplitude and period**.\n",
    "\n",
    "\n",
    "    \n",
    "Recall some basic math\n",
    "\n",
    "$$y = Asin(Bx + C) + D$$\n",
    "\n",
    "<img src=\"00_images/Wave_sine.png\" alt=\"sine\" style=\"width: 600px;\"/>"
   ]
  },
  {
   "cell_type": "markdown",
   "metadata": {},
   "source": [
    "Create 50 equally spaced data points from -5 to +5:"
   ]
  },
  {
   "cell_type": "code",
   "execution_count": 13,
   "metadata": {},
   "outputs": [
    {
     "data": {
      "text/plain": [
       "array([-5.        , -4.79591837, -4.59183673, -4.3877551 , -4.18367347,\n",
       "       -3.97959184, -3.7755102 , -3.57142857, -3.36734694, -3.16326531,\n",
       "       -2.95918367, -2.75510204, -2.55102041, -2.34693878, -2.14285714,\n",
       "       -1.93877551, -1.73469388, -1.53061224, -1.32653061, -1.12244898,\n",
       "       -0.91836735, -0.71428571, -0.51020408, -0.30612245, -0.10204082,\n",
       "        0.10204082,  0.30612245,  0.51020408,  0.71428571,  0.91836735,\n",
       "        1.12244898,  1.32653061,  1.53061224,  1.73469388,  1.93877551,\n",
       "        2.14285714,  2.34693878,  2.55102041,  2.75510204,  2.95918367,\n",
       "        3.16326531,  3.36734694,  3.57142857,  3.7755102 ,  3.97959184,\n",
       "        4.18367347,  4.3877551 ,  4.59183673,  4.79591837,  5.        ])"
      ]
     },
     "execution_count": 13,
     "metadata": {},
     "output_type": "execute_result"
    }
   ],
   "source": [
    "x_values = np.linspace(-5, 5, num=50)\n",
    "x_values"
   ]
  },
  {
   "cell_type": "markdown",
   "metadata": {},
   "source": [
    "Create some noise (for more realistic data - see above extra information):"
   ]
  },
  {
   "cell_type": "code",
   "execution_count": 14,
   "metadata": {},
   "outputs": [
    {
     "data": {
      "text/plain": [
       "array([0.55635251, 0.17869541, 0.4578458 , 0.03833738, 0.94521118,\n",
       "       0.6455063 , 0.5774617 , 0.14374157, 0.14777594, 0.98360992,\n",
       "       0.66240629, 0.88542654, 0.35778641, 0.26288538, 0.42839079,\n",
       "       0.89299285, 0.71023754, 0.4529844 , 0.64517529, 0.46517931,\n",
       "       0.45734009, 0.50723216, 0.88792266, 0.30017058, 0.68919202,\n",
       "       0.62747672, 0.38087339, 0.02705196, 0.54388596, 0.0212635 ,\n",
       "       0.90383362, 0.96136321, 0.54381271, 0.8466924 , 0.213617  ,\n",
       "       0.8280637 , 0.6260074 , 0.41514239, 0.79267639, 0.50399564,\n",
       "       0.63964508, 0.44036566, 0.04136449, 0.41915679, 0.19458464,\n",
       "       0.95517789, 0.9979686 , 0.81032269, 0.10011582, 0.82703031])"
      ]
     },
     "execution_count": 14,
     "metadata": {},
     "output_type": "execute_result"
    }
   ],
   "source": [
    "noise = np.random.random(50)\n",
    "noise"
   ]
  },
  {
   "cell_type": "markdown",
   "metadata": {},
   "source": [
    "Create our y-target data (i.e. simulated experimental data) that follows a sine wave by adding some noise\n",
    "\n",
    "Amplitude: 1.7\n",
    "\n",
    "Period: 2π/2.5\n",
    "\n",
    "C=D=0"
   ]
  },
  {
   "cell_type": "code",
   "execution_count": 15,
   "metadata": {},
   "outputs": [
    {
     "data": {
      "text/plain": [
       "array([ 0.66909974,  1.10545991,  1.96257113,  1.73775454,  2.40646115,\n",
       "        1.4963937 ,  0.60125676, -0.66561655, -1.28858354, -0.71389539,\n",
       "       -0.8638728 , -0.08086736,  0.19760269,  0.94961227,  1.7871119 ,\n",
       "        2.57762795,  2.29169276,  1.52844684,  0.94071361, -0.09448313,\n",
       "       -0.81497134, -1.15365746, -0.7384995 , -0.87751767,  0.26020697,\n",
       "        1.05646177,  1.55856165,  1.65347412,  2.20477558,  1.29357493,\n",
       "        1.46349606,  0.66582489, -0.53164973, -0.73476282, -1.4710181 ,\n",
       "       -0.53065741, -0.06071949,  0.57532612,  1.7589703 ,  2.03027473,\n",
       "        2.33715038,  1.87672513,  0.85072261,  0.39536173, -0.65630275,\n",
       "       -0.50607208, -0.70144856, -0.69440264, -0.82664868,  0.71428308])"
      ]
     },
     "execution_count": 15,
     "metadata": {},
     "output_type": "execute_result"
    }
   ],
   "source": [
    "y_values = 1.7*np.sin(2.5 * x_values) + noise\n",
    "y_values"
   ]
  },
  {
   "cell_type": "code",
   "execution_count": 16,
   "metadata": {},
   "outputs": [
    {
     "data": {
      "image/png": "[encoded data removed]",
      "text/plain": [
       "<Figure size 1000x600 with 1 Axes>"
      ]
     },
     "metadata": {},
     "output_type": "display_data"
    }
   ],
   "source": [
    "plt.figure(figsize=(10, 6))\n",
    "\n",
    "plt.plot(x_values, y_values, '-o', markersize=15, linewidth=5, label='simulated, noisy')\n",
    "\n",
    "plt.legend(loc='upper center', shadow=False, fontsize='large', frameon=True)\n",
    "\n",
    "plt.show()"
   ]
  },
  {
   "cell_type": "markdown",
   "metadata": {},
   "source": [
    "Setup our simple test function that we can solve for the **amplitude** and **period**\n",
    "\n",
    "- Adjustable parameters\n",
    "    - **amplitude** = **a**\n",
    "    - **period** = **b**\n",
    "\n",
    "(**Note**: I'm not including any internal test (e.g. isinstance, assert) in order to keep the teaching aspects clear here.)"
   ]
  },
  {
   "cell_type": "code",
   "execution_count": 17,
   "metadata": {},
   "outputs": [],
   "source": [
    "def sine_func(x: float, a: float, b: float) -> float:\n",
    "    return a * np.sin(b * x)"
   ]
  },
  {
   "cell_type": "markdown",
   "metadata": {},
   "source": [
    "Use SciPy's **`optimize.curve_fit`** to find the **solutions**\n",
    "- https://docs.scipy.org/doc/scipy/reference/generated/scipy.optimize.curve_fit.html?highlight=curve_fit\n",
    "\n",
    "What is needed:\n",
    "1. a function\n",
    "2. x and y target data values, and\n",
    "3. and initial guesses (i.e. **`p0`** below) - we need a total of two (i.e., one for **`a`** and one for **`b`**)\n",
    "\n",
    "What is returned:\n",
    "1. **solution values**\n",
    "2. covariance: estimate of how much 2 variables vary (i.e. change) together (e.g. smoking and lifespan), or\n",
    "    - in other words, how correlated they are to one another (i.e. the off diagonal of the resulting matrix, which includes the concept of positive or negative correlation)\n",
    "    - the <font color='DodgerBlue'>square root of the diagonals of the covariance matrix</font> gives the <font color='DodgerBlue'>standard deviation</font> for each of the solution values\n",
    "\n",
    "\n",
    "Will use `p0=[2.0, 2.0]` as the initial guess:"
   ]
  },
  {
   "cell_type": "code",
   "execution_count": 35,
   "metadata": {},
   "outputs": [],
   "source": [
    "solution, solution_covariance = optimize.curve_fit(sine_func, x_values, y_values, p0=[5.0, 5.0])"
   ]
  },
  {
   "cell_type": "markdown",
   "metadata": {},
   "source": [
    "The ideal values are: amplitude (a) = 1.7, period (b) = 2.5 with C=D=0\n",
    "\n",
    "But remember, we added noise, so our solution will be close to these values solution"
   ]
  },
  {
   "cell_type": "code",
   "execution_count": 31,
   "metadata": {},
   "outputs": [
    {
     "data": {
      "text/plain": [
       "array([1.60883574, 2.50862651])"
      ]
     },
     "execution_count": 31,
     "metadata": {},
     "output_type": "execute_result"
    }
   ],
   "source": [
    "solution"
   ]
  },
  {
   "cell_type": "code",
   "execution_count": 32,
   "metadata": {},
   "outputs": [
    {
     "data": {
      "text/plain": [
       "array([[0.01563587, 0.00019276],\n",
       "       [0.00019276, 0.00064342]])"
      ]
     },
     "execution_count": 32,
     "metadata": {},
     "output_type": "execute_result"
    }
   ],
   "source": [
    "solution_covariance"
   ]
  },
  {
   "cell_type": "code",
   "execution_count": 33,
   "metadata": {},
   "outputs": [
    {
     "data": {
      "text/plain": [
       "array([0.12504345, 0.02536568])"
      ]
     },
     "execution_count": 33,
     "metadata": {},
     "output_type": "execute_result"
    }
   ],
   "source": [
    "std_dev = np.sqrt(np.diag(solution_covariance))\n",
    "std_dev"
   ]
  },
  {
   "cell_type": "code",
   "execution_count": 36,
   "metadata": {},
   "outputs": [
    {
     "data": {
      "image/png": "[encoded data removed]",
      "text/plain": [
       "<Figure size 1000x600 with 1 Axes>"
      ]
     },
     "metadata": {},
     "output_type": "display_data"
    }
   ],
   "source": [
    "plt.figure(figsize=(10, 6))\n",
    "\n",
    "plt.plot(x_values, y_values, '-o', markersize=15, linewidth=5, label='simulated, noisy') # blue (simulated experimental date)\n",
    "\n",
    "plt.plot(x_values, sine_func(x_values, solution[0], solution[1]),\n",
    "         '-o', markersize=15, linewidth=5, alpha=0.7, label='curve fitted') # orange\n",
    "\n",
    "plt.legend(loc='upper center', shadow=False, fontsize='large', frameon=True)\n",
    "\n",
    "plt.show()"
   ]
  },
  {
   "cell_type": "markdown",
   "metadata": {},
   "source": [
    "Note: The **solution** will **depend** on the **initial guess**. There are several possible \"local\" solutions that can can be found.\n",
    "\n",
    "We **artificially knew** the solution beforehand, to be near **a=1.7 and b=2.5** ... so p0=[2.0, 2.0] was a good starting point.\n",
    "\n",
    "Exploration is needed when we don't know the approximate (or exact) solution before. Visualization of the results helps you interpret them (i.e. build your understanding of what the results are).\n",
    "\n",
    "Demonstrate by redoing the above steps, and plot the results using:\n",
    "- p0=[1.0, 1.0] --> should give a different result\n",
    "- p0=[3.0, 3.0] --> should give you the \"correct\" solution\n",
    "- p0=[5.0, 5.0] --> should give a different result\n",
    "\n",
    "Example: `solution, solution_covariance = optimize.curve_fit(sine_func, x_values, y_values, p0=[1.0, 1.0])`"
   ]
  },
  {
   "cell_type": "markdown",
   "metadata": {},
   "source": [
    "<hr style=\"border:2px solid gray\"></hr>\n",
    "\n",
    "## Finding the **Roots**\n",
    "\n",
    "- Roots: points where f(x) = 0\n",
    "    - For example, the values of x that satisfies the equation $ x^2 + 25sin(x) = 0$\n",
    "\n",
    "\n",
    "- Finding the roots of a function provides you a solution to that function, which can be useful depending on the problem at hand."
   ]
  },
  {
   "cell_type": "code",
   "execution_count": 39,
   "metadata": {},
   "outputs": [
    {
     "data": {
      "image/png": "[encoded data removed]",
      "text/plain": [
       "<Figure size 1000x600 with 1 Axes>"
      ]
     },
     "metadata": {},
     "output_type": "display_data"
    }
   ],
   "source": [
    "plt.figure(figsize=(10, 6))\n",
    "\n",
    "plt.plot(x_values, scalar_func(x_values), linestyle='solid', linewidth=5, alpha=0.5)\n",
    "plt.hlines(y=0, xmin=-6, xmax=6, colors='red')\n",
    "\n",
    "plt.show()"
   ]
  },
  {
   "cell_type": "markdown",
   "metadata": {},
   "source": [
    "#### Through visualization, we see that there should be four roots \n",
    "- <font color='DodgerBlue'>ca. -3.0, 0.0, 4.0 and 5.0</font>: use these as your initil guess\n",
    "\n",
    "`scipy.optimize.root(fun, x0, ...)`\n",
    "- `x0`: initial starting point (i.e., the guess)\n",
    "\n",
    "- https://docs.scipy.org/doc/scipy/reference/generated/scipy.optimize.root.html"
   ]
  },
  {
   "cell_type": "code",
   "execution_count": 40,
   "metadata": {},
   "outputs": [
    {
     "data": {
      "text/plain": [
       "    fjac: array([[-1.]])\n",
       "     fun: array([-4.4408921e-15])\n",
       " message: 'The solution converged.'\n",
       "    nfev: 7\n",
       "     qtf: array([-2.91704438e-11])\n",
       "       r: array([29.34127475])\n",
       "  status: 1\n",
       " success: True\n",
       "       x: array([-2.81828105])"
      ]
     },
     "metadata": {},
     "output_type": "display_data"
    },
    {
     "data": {
      "text/plain": [
       "    fjac: array([[-1.]])\n",
       "     fun: array([0.])\n",
       " message: 'The solution converged.'\n",
       "    nfev: 3\n",
       "     qtf: array([0.])\n",
       "       r: array([-25.00000001])\n",
       "  status: 1\n",
       " success: True\n",
       "       x: array([0.])"
      ]
     },
     "metadata": {},
     "output_type": "display_data"
    },
    {
     "data": {
      "text/plain": [
       "    fjac: array([[-1.]])\n",
       "     fun: array([-2.04281037e-13])\n",
       " message: 'The solution converged.'\n",
       "    nfev: 8\n",
       "     qtf: array([4.54493936e-08])\n",
       "       r: array([13.29152894])\n",
       "  status: 1\n",
       " success: True\n",
       "       x: array([3.7327774])"
      ]
     },
     "metadata": {},
     "output_type": "display_data"
    },
    {
     "data": {
      "text/plain": [
       "    fjac: array([[-1.]])\n",
       "     fun: array([0.])\n",
       " message: 'The solution converged.'\n",
       "    nfev: 7\n",
       "     qtf: array([-8.171952e-10])\n",
       "       r: array([-15.43885638])\n",
       "  status: 1\n",
       " success: True\n",
       "       x: array([4.9368738])"
      ]
     },
     "metadata": {},
     "output_type": "display_data"
    }
   ],
   "source": [
    "root_1 = optimize.root(fun=scalar_func, x0=-3.0)\n",
    "root_2 = optimize.root(fun=scalar_func, x0=0.0)\n",
    "root_3 = optimize.root(scalar_func, x0=4.0)\n",
    "root_4 = optimize.root(scalar_func, x0=5.0)\n",
    "\n",
    "display(root_1)\n",
    "display(root_2)\n",
    "display(root_3)\n",
    "display(root_4)"
   ]
  },
  {
   "cell_type": "markdown",
   "metadata": {},
   "source": [
    "Therefore, the roots are at:"
   ]
  },
  {
   "cell_type": "code",
   "execution_count": 41,
   "metadata": {},
   "outputs": [
    {
     "data": {
      "text/plain": [
       "array([-2.81828105])"
      ]
     },
     "metadata": {},
     "output_type": "display_data"
    },
    {
     "data": {
      "text/plain": [
       "array([0.])"
      ]
     },
     "metadata": {},
     "output_type": "display_data"
    },
    {
     "data": {
      "text/plain": [
       "array([3.7327774])"
      ]
     },
     "metadata": {},
     "output_type": "display_data"
    },
    {
     "data": {
      "text/plain": [
       "array([4.9368738])"
      ]
     },
     "metadata": {},
     "output_type": "display_data"
    }
   ],
   "source": [
    "display(root_1.x)\n",
    "display(root_2.x)\n",
    "display(root_3.x)\n",
    "display(root_4.x)"
   ]
  },
  {
   "cell_type": "markdown",
   "metadata": {},
   "source": [
    "#### Visualize the results\n",
    "- where f(x) = 0"
   ]
  },
  {
   "cell_type": "code",
   "execution_count": 42,
   "metadata": {},
   "outputs": [
    {
     "data": {
      "image/png": "[encoded data removed]",
      "text/plain": [
       "<Figure size 1000x600 with 1 Axes>"
      ]
     },
     "metadata": {},
     "output_type": "display_data"
    }
   ],
   "source": [
    "plt.figure(figsize=(10, 6))\n",
    "\n",
    "plt.plot(x_values, scalar_func(x_values), linestyle='solid', linewidth=5, alpha=0.5)\n",
    "plt.hlines(y=0, xmin=-6, xmax=6, colors='red')\n",
    "\n",
    "plt.scatter(root_1.x, root_1.fun, s=200, color='DodgerBlue')\n",
    "plt.scatter(root_2.x, root_2.fun, s=200, color='DodgerBlue')\n",
    "plt.scatter(root_3.x, root_3.fun, s=200, color='DodgerBlue')\n",
    "plt.scatter(root_4.x, root_4.fun, s=200, color='DodgerBlue')\n",
    "\n",
    "plt.show()"
   ]
  },
  {
   "cell_type": "markdown",
   "metadata": {},
   "source": [
    "<hr style=\"border:2px solid gray\"></hr>\n",
    "\n",
    "### SciPy Summary:\n",
    "1. Integration of a function\n",
    "2. Interpolation of data points (e.g., filling in missing data)\n",
    "3. Curve fitting - optimizing a function to best fit a data set\n",
    "4. Optimization to find local and global minima positions and values of a function\n",
    "5. Finding the roots of an equation (e.g., values of x for when f(x)=0)"
   ]
  },
  {
   "cell_type": "code",
   "execution_count": null,
   "metadata": {},
   "outputs": [],
   "source": []
  }
 ],
 "metadata": {
  "kernelspec": {
   "display_name": "Python 3 (ipykernel)",
   "language": "python",
   "name": "python3"
  },
  "language_info": {
   "codemirror_mode": {
    "name": "ipython",
    "version": 3
   },
   "file_extension": ".py",
   "mimetype": "text/x-python",
   "name": "python",
   "nbconvert_exporter": "python",
   "pygments_lexer": "ipython3",
   "version": "3.10.13"
  }
 },
 "nbformat": 4,
 "nbformat_minor": 2
}
