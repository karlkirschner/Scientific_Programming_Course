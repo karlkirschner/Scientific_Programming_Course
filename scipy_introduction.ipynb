{
 "cells": [
  {
   "cell_type": "markdown",
   "metadata": {},
   "source": [
    "# SciPy\n",
    "\n",
    "Heavily depends on the following libraries:\n",
    "1. matplotlib\n",
    "2. numpy\n",
    "\n",
    "\n",
    "\"SciPy is organized into subpackages covering different scientific computing domains.\"\n",
    "\n",
    "**Subpackages**\n",
    "1. cluster: Clustering algorithms\n",
    "2. constants: Physical and mathematical constants\n",
    "3. fftpack: Fast Fourier Transform routines\n",
    "4. **integrate**: Integration and ordinary differential equation solvers\n",
    "5. **interpolate**: Interpolation and smoothing splines\n",
    "6. io: Input and Output\n",
    "7. linalg: Linear algebra\n",
    "8. ndimage: N-dimensional image processing\n",
    "9. odr: Orthogonal distance regression\n",
    "10. **optimize**: Optimization and root-finding routines\n",
    "11. signal: Signal processing\n",
    "12. sparse: Sparse matrices and associated routines\n",
    "13. spatial: Spatial data structures and algorithms\n",
    "14. special: Special functions\n",
    "15. stats: Statistical distributions and functions\n",
    "\n",
    "One fo the strengths of SciPy is that it can provide **numerical solutions** (i.e. approximated). The opposite of numerical solutions are **analytic solutions** (i.e. exact; `f(2) = x^2 = 4`).\n",
    "\n",
    "Sources:\n",
    "\n",
    "https://docs.scipy.org/doc/scipy/reference/\n",
    "\n",
    "https://docs.scipy.org/doc/\n",
    "\n",
    "https://docs.scipy.org/doc/scipy/reference/tutorial/general.html\n",
    "\n",
    "https://scipy-lectures.org/intro/scipy.html"
   ]
  },
  {
   "cell_type": "code",
   "execution_count": null,
   "metadata": {},
   "outputs": [],
   "source": [
    "#help(scipy)"
   ]
  },
  {
   "cell_type": "markdown",
   "metadata": {},
   "source": [
    "---\n",
    "## Integration\n",
    "\n",
    "Let's start with integration.\n",
    "\n",
    "What can integration do for us? For something that is defined by a mathematical function (i.e. equation), we can obtain the following:\n",
    "1. areas (2D) (e.g. the area between two curves that cross each other),\n",
    "2. volumes (3D),\n",
    "3. surface area (e.g. of a protein)\n",
    "3. displacements (i.e. distance) (w.r.t. time)\n",
    "4. center (e.g. of mass)\n",
    "5. probability\n",
    "\n",
    "- integrate https://docs.scipy.org/doc/scipy/reference/tutorial/integrate.html\n",
    "\n",
    "\n",
    "Graphical when we integrate a function f(x), we obtain the \"area under the curve.\"\n",
    "<img src=\"00_images/integral_example.png\" alt=\"integral\" style=\"width: 200px;\"/>\n",
    "\n",
    "<center>Figure 1: Depiction that shows the \"area under the curve\" determined through integration of function `f(x)` with limits from `a` to `b`.</center>\n",
    "\n",
    "\n",
    "It is kinda like doing addition, but for something that is continuous (i.e. not finite).\n",
    "\n",
    "Image Source: https://en.wikipedia.org/wiki/Integral#/media/File:Integral_example.svg\n"
   ]
  },
  {
   "cell_type": "code",
   "execution_count": null,
   "metadata": {},
   "outputs": [],
   "source": [
    "import matplotlib.pyplot as plt\n",
    "import numpy as np\n",
    "import scipy\n",
    "\n",
    "from scipy.integrate import quad\n",
    "\n",
    "\n",
    "scipy.__version__"
   ]
  },
  {
   "cell_type": "markdown",
   "metadata": {},
   "source": [
    "Let's define a simple function:\n",
    "\n",
    "$$\\int_0^1 (mx^2 + n) dx$$\n",
    "\n",
    "I'm going to stick with variable names that match the equation given above for consistency. We will focus on the equation within the integration. (Recall, that Sympy can also do what we do below)."
   ]
  },
  {
   "cell_type": "code",
   "execution_count": null,
   "metadata": {},
   "outputs": [],
   "source": [
    "def simple_function(x: float=None, m: float=None, n: float=None):\n",
    "    return m*x**2 + n"
   ]
  },
  {
   "cell_type": "markdown",
   "metadata": {},
   "source": [
    "---\n",
    "**Sidenote**: Numpy's linspace vs arrange:\n",
    " \n",
    "- linspace (i.e. `numpy.linspace(start, stop, num`): \"Return evenly spaced numbers over a specified interval.\"\n",
    "    - https://numpy.org/devdocs/reference/generated/numpy.linspace.html\n",
    "    - the stepsize is created\n",
    "    - the number of steps must be given\n",
    "\n",
    "Versus\n",
    "- arange (i.e. `numpy.arange(start, stop, step)`: \"Return evenly spaced values within a given interval.\"\n",
    "    - https://numpy.org/doc/stable/reference/generated/numpy.arange.html\n",
    "    - the stepsize is specified\n",
    "    - the number of steps is created\n",
    "\n",
    "---\n",
    "\n",
    "Let's generate the starting data:"
   ]
  },
  {
   "cell_type": "code",
   "execution_count": null,
   "metadata": {},
   "outputs": [],
   "source": [
    "m = 3\n",
    "n = 5\n",
    "\n",
    "x_data = np.linspace(-1, 2, 20)"
   ]
  },
  {
   "cell_type": "markdown",
   "metadata": {},
   "source": [
    "We can plot the curve:\n",
    "- x range = -1 to 2 (i.e. integration limits $\\pm 1$), and then\n",
    "- visualize the area between the integration limits"
   ]
  },
  {
   "cell_type": "code",
   "execution_count": null,
   "metadata": {},
   "outputs": [],
   "source": [
    "plt.figure()\n",
    "\n",
    "plt.plot(x_data, simple_function(x_data, m, n), color='orange', linewidth=5)\n",
    "\n",
    "plt.hlines(y=0.0, xmin=0.0, xmax=1.0, linewidth=5)\n",
    "plt.hlines(y=5.0, xmin=0.0, xmax=1.0, linewidth=5, linestyle='dashed')\n",
    "\n",
    "plt.vlines(x=0.0, ymin=0.0, ymax=5.0, linewidth=5)\n",
    "plt.vlines(x=1.0, ymin=0.0, ymax=7.85, linewidth=5)\n",
    "\n",
    "plt.show()"
   ]
  },
  {
   "cell_type": "markdown",
   "metadata": {},
   "source": [
    "We can approximate the area under the orange curve and within the blue region to be:\n",
    "\n",
    "rectangle + ca. triangle\n",
    "\n",
    "`1*5 + [(1*1.5)/2] = 5 + 0.75 = 5.75`"
   ]
  },
  {
   "cell_type": "markdown",
   "metadata": {},
   "source": [
    "Okay, Good. Now let's integrate that function.\n",
    "\n",
    "`quad`: general purpose single integration a function containing\n",
    "- one variable (e.g. x), and\n",
    "- evaluated between two points (e.g. 0 to 1)\n",
    "\n",
    "https://docs.scipy.org/doc/scipy/reference/generated/scipy.integrate.quad.html#scipy.integrate.quad\n",
    "<br><br>\n",
    "\n",
    "`quad(func, a, b, args=() ...)`:\n",
    "    \n",
    "where\n",
    "- `func` = **simple_function** (i.e. a “callable” Python object)\n",
    "- `a` (lower integration limit) = **0**\n",
    "- `b` (upper inegration limit) = **1**\n",
    "- `args` (additional arguments to pass) = **(3, 5)**\n",
    "\n",
    "(i.e. quad(function, lower limit, upper limit, what to pass to our simple_function)\n",
    "\n",
    "\n",
    "The **return value** is a tuple:\n",
    "- 1$^{st}$: the **estimated value of the integral**, and\n",
    "- 2$^{nd}$: an **upper bound on the error**"
   ]
  },
  {
   "cell_type": "code",
   "execution_count": null,
   "metadata": {},
   "outputs": [],
   "source": [
    "result = quad(func=simple_function, a=0, b=1, args=(m, n))\n",
    "result"
   ]
  },
  {
   "cell_type": "markdown",
   "metadata": {},
   "source": [
    "###### Accessing value and error (plus, remembering string formatting):\n",
    "\n",
    "- f: Fixed-point notation. Displays the number as a fixed-point number. The default precision is 6.\n",
    "- e: Exponent notation. Prints the number in scientific notation using the letter ‘e’ to indicate the exponent. The default precision is 6.\n",
    "\n",
    "(Rounding for simplicity of reading, not due to accuracy.)"
   ]
  },
  {
   "cell_type": "code",
   "execution_count": null,
   "metadata": {},
   "outputs": [],
   "source": [
    "print('Full answer: {:0.2f} ± {:0.2e}'.format(result[0], result[1]))"
   ]
  },
  {
   "cell_type": "markdown",
   "metadata": {},
   "source": [
    "---\n",
    "## A more complicated example\n",
    "\n",
    "1. Handeling infinity limits (i.e. indefinite integrals)\n",
    "2. Python's built in function `eval` (evaluate)\n",
    "    - https://docs.python.org/3/library/functions.html#eval\n",
    "    \n",
    "Let's first look at each piece, and then we will put it together.\n",
    "\n",
    "`eval` works on single functions (note the use of quotes here):"
   ]
  },
  {
   "cell_type": "code",
   "execution_count": null,
   "metadata": {},
   "outputs": [],
   "source": [
    "number = 2\n",
    "\n",
    "eval('number**2')"
   ]
  },
  {
   "cell_type": "markdown",
   "metadata": {},
   "source": [
    "The `eval` function also works on np.arrays"
   ]
  },
  {
   "cell_type": "markdown",
   "metadata": {},
   "source": [
    "Example function will be the following:\n",
    "\n",
    "$$\\frac{1}{x^2}$$\n",
    "\n",
    "First create some x-data:"
   ]
  },
  {
   "cell_type": "code",
   "execution_count": null,
   "metadata": {},
   "outputs": [],
   "source": [
    "x_data_array = np.linspace(1, 11, 30)\n",
    "x_data_array"
   ]
  },
  {
   "cell_type": "markdown",
   "metadata": {},
   "source": [
    "Now evaluate the function at those points (i.e. determine the y-values):"
   ]
  },
  {
   "cell_type": "code",
   "execution_count": null,
   "metadata": {},
   "outputs": [],
   "source": [
    "y_data_array = eval('1/(x_data_array**2)')\n",
    "y_data_array"
   ]
  },
  {
   "cell_type": "markdown",
   "metadata": {},
   "source": [
    "Let's plot this to visualize the data:"
   ]
  },
  {
   "cell_type": "code",
   "execution_count": null,
   "metadata": {},
   "outputs": [],
   "source": [
    "plt.plot()\n",
    "\n",
    "plt.plot(x_data_array, y_data_array, linewidth=5, color='orange')\n",
    "\n",
    "plt.hlines(y=0.0, xmin=1.0, xmax=9.0, linestyle='dashed', linewidth=3)\n",
    "plt.vlines(x=1.0, ymin=0.0, ymax=0.9, linestyle='dashed', linewidth=3)\n",
    "\n",
    "plt.show()"
   ]
  },
  {
   "cell_type": "markdown",
   "metadata": {},
   "source": [
    "Imagine this plot going to **infinity** on the **x-axis**.\n",
    "\n",
    "What is the area from x=1 to x=infinity?\n",
    "\n",
    "Hard to say right?\n",
    "\n",
    "---\n",
    "Okay, let's create a callable function that we will pass to SciPy's `quad` function for integration:"
   ]
  },
  {
   "cell_type": "code",
   "execution_count": null,
   "metadata": {},
   "outputs": [],
   "source": [
    "def function(x: float=None):\n",
    "    return 1/x**2"
   ]
  },
  {
   "cell_type": "markdown",
   "metadata": {},
   "source": [
    "Let's focus now upon an \"improper\" integral (i.e. the upper integration limit is infinity.\n",
    "\n",
    "$$\\int_1^{\\infty} \\frac{1}{x^2} dx$$"
   ]
  },
  {
   "cell_type": "code",
   "execution_count": null,
   "metadata": {},
   "outputs": [],
   "source": [
    "result = quad(func=function, a=1, b=np.inf)\n",
    "result"
   ]
  },
  {
   "cell_type": "markdown",
   "metadata": {},
   "source": [
    "Therefore, the area under the $\\frac{1}{x^2}$ curve from x=1 to infinity is 1.0.\n",
    "\n",
    "(What is the area under the curve from x=2 to infinity?)"
   ]
  },
  {
   "cell_type": "markdown",
   "metadata": {},
   "source": [
    "**Note**: if we try to do this all in one step where we provide the function directly, we get an error. That is the practical reason why one must create a function for quad to call."
   ]
  },
  {
   "cell_type": "code",
   "execution_count": null,
   "metadata": {},
   "outputs": [],
   "source": [
    "#result = quad(1/x**2, 1, np.inf)"
   ]
  },
  {
   "cell_type": "markdown",
   "metadata": {},
   "source": [
    "---\n",
    "## Interpolation\n",
    "\n",
    "- A method for **generating new data** using a discrete set of **known data** points.\n",
    "\n",
    "- Good for filling in some missing data points within a **continuous** data set\n",
    "\n",
    "- https://docs.scipy.org/doc/scipy/reference/interpolate.html\n",
    "\n",
    "\n",
    "---\n",
    "### A simple example\n",
    "\n",
    "First things to do is create a **hypothetical set of known** x- and y-data points"
   ]
  },
  {
   "cell_type": "code",
   "execution_count": null,
   "metadata": {},
   "outputs": [],
   "source": [
    "x_data_array = np.arange(0, 10, 1)\n",
    "x_data_array"
   ]
  },
  {
   "cell_type": "markdown",
   "metadata": {},
   "source": [
    "Create a corresponding range of y values\n",
    "- exponential via `np.exp()`: https://numpy.org/doc/stable/reference/generated/numpy.exp.html"
   ]
  },
  {
   "cell_type": "code",
   "execution_count": null,
   "metadata": {},
   "outputs": [],
   "source": [
    "y_data_array = np.exp(-x_data_array/3.0)\n",
    "y_data_array"
   ]
  },
  {
   "cell_type": "markdown",
   "metadata": {},
   "source": [
    "Now plot to visualize what the data looks like, and highlight the third data point in the series (i.e. **(x,y) = (2, 0.51341712))** as an ideal value to reference later."
   ]
  },
  {
   "cell_type": "code",
   "execution_count": null,
   "metadata": {},
   "outputs": [],
   "source": [
    "plt.plot()\n",
    "\n",
    "plt.plot(x_data_array, y_data_array, linestyle='solid', linewidth=5, marker='o', markersize=15)\n",
    "\n",
    "plt.hlines(y=y_data_array[2], xmin=0, xmax=9, colors='#1f77b4', linewidth=5)\n",
    "\n",
    "plt.show()"
   ]
  },
  {
   "cell_type": "markdown",
   "metadata": {},
   "source": [
    "#### Create an interprelated function from the existing data points\n",
    "\n",
    "1-dimensional function\n",
    "- interp1d: https://docs.scipy.org/doc/scipy/reference/generated/scipy.interpolate.interp1d.html#scipy.interpolate.interp1d"
   ]
  },
  {
   "cell_type": "code",
   "execution_count": null,
   "metadata": {},
   "outputs": [],
   "source": [
    "from scipy.interpolate import interp1d"
   ]
  },
  {
   "cell_type": "code",
   "execution_count": null,
   "metadata": {},
   "outputs": [],
   "source": [
    "interp_function = interp1d(x_data_array, y_data_array)"
   ]
  },
  {
   "cell_type": "markdown",
   "metadata": {},
   "source": [
    "First let's see if we can reproduce a **known** data point (i.e. a simple idea)\n",
    "- x = 2.0 should give a value of 0.51341712 (see above hypothetical data set)"
   ]
  },
  {
   "cell_type": "code",
   "execution_count": null,
   "metadata": {},
   "outputs": [],
   "source": [
    "interp_function(2.0)"
   ]
  },
  {
   "cell_type": "code",
   "execution_count": null,
   "metadata": {},
   "outputs": [],
   "source": [
    "plt.figure()\n",
    "\n",
    "plt.plot(x_data_array, y_data_array, 'o', markersize=15)\n",
    "\n",
    "plt.hlines(y=0.51341712, xmin=0, xmax=9, colors='#1f77b4', linewidth=5)\n",
    "plt.hlines(y=interp_function(2.0), xmin=0, xmax=9, colors='#ff7f0e', linestyles='dashed', linewidth=5)\n",
    "\n",
    "plt.show()"
   ]
  },
  {
   "cell_type": "markdown",
   "metadata": {},
   "source": [
    "We can also do this for lots of new x-values that fit between 0 and 9 (i.e. interpolated data).\n",
    "\n",
    "First, we need to create a new range of x values that we want to fill in -- for example, from 1 to 7 in 0.2 increments (step size):"
   ]
  },
  {
   "cell_type": "code",
   "execution_count": null,
   "metadata": {},
   "outputs": [],
   "source": [
    "x_values_new = np.arange(1, 8.2, 0.2)\n",
    "print(x_values_new)"
   ]
  },
  {
   "cell_type": "markdown",
   "metadata": {},
   "source": [
    "Now, using the user-defined function that imploys `interp1d`, solve for the interpolated y-values:"
   ]
  },
  {
   "cell_type": "code",
   "execution_count": null,
   "metadata": {},
   "outputs": [],
   "source": [
    "y_values_new = interp_function(x_values_new)\n",
    "y_values_new"
   ]
  },
  {
   "cell_type": "code",
   "execution_count": null,
   "metadata": {},
   "outputs": [],
   "source": [
    "print(y_values_new)"
   ]
  },
  {
   "cell_type": "code",
   "execution_count": null,
   "metadata": {},
   "outputs": [],
   "source": [
    "plt.figure()\n",
    "\n",
    "plt.plot(x_data_array, y_data_array, marker='o', markersize=15)\n",
    "plt.hlines(y=0.51341712, xmin=0, xmax=9, colors='#1f77b4', linewidth=5)\n",
    "\n",
    "plt.plot(x_values_new, y_values_new, marker='o', markersize=5)\n",
    "plt.hlines(y=interp_function(2.0), xmin=0, xmax=9, colors='#ff7f0e', linestyles='dashed', linewidth=5)\n",
    "\n",
    "plt.show()"
   ]
  },
  {
   "cell_type": "markdown",
   "metadata": {},
   "source": [
    "We see that the interpolated **new data** points (orange) fall nicely onto the known data."
   ]
  },
  {
   "cell_type": "markdown",
   "metadata": {},
   "source": [
    "### A more complicated (and practical) example"
   ]
  },
  {
   "cell_type": "code",
   "execution_count": null,
   "metadata": {},
   "outputs": [],
   "source": [
    "x_values = np.linspace(0, 1, 10)\n",
    "x_values"
   ]
  },
  {
   "cell_type": "markdown",
   "metadata": {},
   "source": [
    "##### Create some noise that will allow us to better mimic what real data looks like\n",
    "\n",
    "\"Noise\" refers to how much the **real** data varies from (hypothetical) **ideal** data. Understanding the noise in data is understanding the data's stability (e.g. reproducibility, predictable). Noise is often coming from unaccounted sources (and represent possible areas to learn from).\n",
    "\n",
    "**Side Note**: The following **np.random.seed()** statement will allow us to reproduce the random number generation (e.g. allows for reproducibility in examples). This isn't necessary here, but it is nice to know about.\n",
    "\n",
    "- `np.random.random(n)`: https://numpy.org/doc/stable/reference/random/generated/numpy.random.random.html\n",
    "    - create n random numbers that **range from 0 to 1**"
   ]
  },
  {
   "cell_type": "code",
   "execution_count": null,
   "metadata": {},
   "outputs": [],
   "source": [
    "np.random.seed(30)\n",
    "\n",
    "np.random.random(10)"
   ]
  },
  {
   "cell_type": "markdown",
   "metadata": {},
   "source": [
    "Now let's create the noise by adding in some math to the random values:"
   ]
  },
  {
   "cell_type": "code",
   "execution_count": null,
   "metadata": {},
   "outputs": [],
   "source": [
    "noise = (np.random.random(10)**2 - 1) * 2e-1\n",
    "print(noise)"
   ]
  },
  {
   "cell_type": "markdown",
   "metadata": {},
   "source": [
    "Now generate some two types of **y-data** that is a **function of the x-axis data**:\n",
    "\n",
    "1. ideal y data\n",
    "    - perfect data that arrises from an equation\n",
    "2. ideal y data with noise\n",
    "    - we will call this **simulated real data**, which suggest that it was obtained using **experiments**\n",
    "    \n",
    "#### 1. ideal data"
   ]
  },
  {
   "cell_type": "code",
   "execution_count": null,
   "metadata": {},
   "outputs": [],
   "source": [
    "y_values_ideal = np.sin(2 * np.pi * x_values)\n",
    "y_values_ideal"
   ]
  },
  {
   "cell_type": "markdown",
   "metadata": {},
   "source": [
    "##### 2. ideal data with noise (i.e. simulated \"real\" data)"
   ]
  },
  {
   "cell_type": "code",
   "execution_count": null,
   "metadata": {},
   "outputs": [],
   "source": [
    "y_values_sim = np.sin(2 * np.pi * x_values) + noise\n",
    "y_values_sim"
   ]
  },
  {
   "cell_type": "markdown",
   "metadata": {},
   "source": [
    "Plot the \"idea\" (blue) and \"simulated real\" (orange) data, and highlight the 6$^{th}$ data point:"
   ]
  },
  {
   "cell_type": "code",
   "execution_count": null,
   "metadata": {},
   "outputs": [],
   "source": [
    "plt.figure()\n",
    "\n",
    "plt.plot(x_values, y_values_ideal, marker='o', color='#1f77b4', markersize=7, linewidth=2, alpha=0.5) #ideal, blue\n",
    "plt.plot(x_values, y_values_sim, marker='o', color='#ff7f0e', markersize=15, linewidth=5) #simulated, orange\n",
    "\n",
    "plt.hlines(y=y_values_sim[5], xmin=0, xmax=1, colors='#ff7f0e', linewidth=3)\n",
    "\n",
    "plt.show()"
   ]
  },
  {
   "cell_type": "markdown",
   "metadata": {},
   "source": [
    "Create a **new function** that is an **interpolation** of the existing (i.e. known, but non-ideal) data points"
   ]
  },
  {
   "cell_type": "code",
   "execution_count": null,
   "metadata": {},
   "outputs": [],
   "source": [
    "interp_function = interp1d(x_values, y_values_sim)"
   ]
  },
  {
   "cell_type": "markdown",
   "metadata": {},
   "source": [
    "First let's see if we can reproduce an \"known\" point\n",
    "\n",
    "- We want to reproduce the sixth data point: x_value[5]\n",
    "- interp_function(x_value[5]) should give y_value[5] of the original function\n",
    "<br>\n",
    "\n",
    "**Simulated** (i.e. ideal+noise) **y-value** at the 6$^{th}$ data point:"
   ]
  },
  {
   "cell_type": "code",
   "execution_count": null,
   "metadata": {},
   "outputs": [],
   "source": [
    "y_values_sim[5]"
   ]
  },
  {
   "cell_type": "markdown",
   "metadata": {},
   "source": [
    "Now for the **interpolated y-value** at the 6$^{th}$ data point:"
   ]
  },
  {
   "cell_type": "code",
   "execution_count": null,
   "metadata": {},
   "outputs": [],
   "source": [
    "interp_function(x_values[5])"
   ]
  },
  {
   "cell_type": "markdown",
   "metadata": {},
   "source": [
    "Quantify the difference between the interpolated and true value for the 6$^{th}$ data point:"
   ]
  },
  {
   "cell_type": "code",
   "execution_count": null,
   "metadata": {},
   "outputs": [],
   "source": [
    "interp_function(x_values[5]) - y_values_sim[5]"
   ]
  },
  {
   "cell_type": "markdown",
   "metadata": {},
   "source": [
    "Let's also fill in some of the space between the data points by creating a new range of x-data:"
   ]
  },
  {
   "cell_type": "code",
   "execution_count": null,
   "metadata": {},
   "outputs": [],
   "source": [
    "x_data_new = np.arange(0, 1, 0.02)\n",
    "x_data_new"
   ]
  },
  {
   "cell_type": "code",
   "execution_count": null,
   "metadata": {},
   "outputs": [],
   "source": [
    "y_data_new = interp_function(x_data_new)\n",
    "y_data_new"
   ]
  },
  {
   "cell_type": "markdown",
   "metadata": {},
   "source": [
    "Create and overlay plot that shows\n",
    "1. ideal values,\n",
    "2. simulated values (i.e. idea+noise),\n",
    "3. interpolated values (shown in green)"
   ]
  },
  {
   "cell_type": "code",
   "execution_count": null,
   "metadata": {},
   "outputs": [],
   "source": [
    "plt.figure()\n",
    "\n",
    "plt.plot(x_values, y_values_ideal, marker='o', color='#1f77b4', markersize=7, linewidth=2, alpha=0.5)\n",
    "plt.plot(x_values, y_values_sim, marker='o', color='#ff7f0e', markersize=15, linewidth=5)\n",
    "\n",
    "plt.hlines(y=y_values_sim[5], xmin=0, xmax=1, colors='#ff7f0e', linewidth=5)\n",
    "\n",
    "## plot the interpolated curve (green)\n",
    "plt.plot(x_data_new, y_data_new, marker='o', color='#2ca02c', markersize=10, linewidth=2, alpha=0.5)\n",
    "plt.hlines(y=interp_function(x_values[5]), xmin=0, xmax=1, colors='#2ca02c',\n",
    "           linestyles='dashed', linewidth=2, alpha=0.5)\n",
    "\n",
    "plt.show()"
   ]
  },
  {
   "cell_type": "markdown",
   "metadata": {},
   "source": [
    "---\n",
    "**side note**: Percent Relative Error\n",
    "\n",
    "The **percent relative error** is often calculated in the natural sciences, whose formuala is the following:\n",
    "\n",
    "$$\\text{Percentage Relative Error} = \\frac{\\text{estimated}-\\text{actual}}{\\text{actual}}*100$$\n",
    "\n",
    "What is the PRE between the interpolated vs. simulated (i.e. ideal+noise):"
   ]
  },
  {
   "cell_type": "code",
   "execution_count": null,
   "metadata": {},
   "outputs": [],
   "source": [
    "def percentage_rel_error(estimated: float=None, actual: float=None) -> float:\n",
    "    return ((estimated - actual)/actual)*100"
   ]
  },
  {
   "cell_type": "code",
   "execution_count": null,
   "metadata": {},
   "outputs": [],
   "source": [
    "pce = percentage_rel_error(estimated=(interp_function(x_values[5])), actual=y_values_sim[5])\n",
    "print(f'{pce:.2}')"
   ]
  },
  {
   "cell_type": "markdown",
   "metadata": {},
   "source": [
    "So the percentage relative error is 0%.\n",
    "\n",
    "How about the interpolated versus ideal (i.e. noiseless)?\n",
    "\n",
    "This shows how the addition of noise to the ideal data impacted our \"modeling building\":"
   ]
  },
  {
   "cell_type": "code",
   "execution_count": null,
   "metadata": {},
   "outputs": [],
   "source": [
    "pce = percentage_rel_error(estimated=(interp_function(x_values[5])), actual=y_values_ideal[5])\n",
    "pce"
   ]
  },
  {
   "cell_type": "markdown",
   "metadata": {},
   "source": [
    "So, the addition of noise significantly changed the ideal data, which is what we wanted."
   ]
  },
  {
   "cell_type": "markdown",
   "metadata": {},
   "source": [
    "**Final note**:\n",
    "\n",
    "There is a relatively simple alternative to `interp1d` that is easy to use: `Akima1DInterpolator`\n",
    "- https://docs.scipy.org/doc/scipy/reference/generated/scipy.interpolate.Akima1DInterpolator.html"
   ]
  },
  {
   "cell_type": "markdown",
   "metadata": {},
   "source": [
    "---\n",
    "## Curve Fitting\n",
    "\n",
    "- curve_fit: https://docs.scipy.org/doc/scipy/reference/generated/scipy.optimize.curve_fit.html\n",
    "\n",
    "Curve fitting is the act of fitting a function to provided data point. The result is an optmized function that best models the data points.\n",
    "\n",
    "**Example**:\n",
    "We obtain data that follows a **sine wave**, but we don't know the amplitude or period that the data has. Thus, we need to **curve fit** the **data** to provide a the **amplitude and period**.\n",
    "\n",
    "\n",
    "    \n",
    "Recall some basic math\n",
    "\n",
    "$$y = Asin(Bx + C) + D$$\n",
    "\n",
    "<img src=\"00_images/Wave_sine.png\" alt=\"sine\" style=\"width: 600px;\"/>\n"
   ]
  },
  {
   "cell_type": "code",
   "execution_count": null,
   "metadata": {},
   "outputs": [],
   "source": [
    "from scipy import optimize"
   ]
  },
  {
   "cell_type": "markdown",
   "metadata": {},
   "source": [
    "Create 50 equally spaced data points from -5 to +5:"
   ]
  },
  {
   "cell_type": "code",
   "execution_count": null,
   "metadata": {},
   "outputs": [],
   "source": [
    "x_values = np.linspace(-5, 5, num=50)\n",
    "x_values"
   ]
  },
  {
   "cell_type": "markdown",
   "metadata": {},
   "source": [
    "Create some noise (for more realistic data):"
   ]
  },
  {
   "cell_type": "code",
   "execution_count": null,
   "metadata": {},
   "outputs": [],
   "source": [
    "noise = np.random.random(50)\n",
    "noise"
   ]
  },
  {
   "cell_type": "markdown",
   "metadata": {},
   "source": [
    "Create our y-target data (i.e. simulated experimental data) that follows a sine wave by adding some noise\n",
    "\n",
    "Amplitude: 1.7\n",
    "\n",
    "Period: 2π/2.5\n",
    "\n",
    "C=D=0"
   ]
  },
  {
   "cell_type": "code",
   "execution_count": null,
   "metadata": {},
   "outputs": [],
   "source": [
    "y_values = 1.7*np.sin(2.5 * x_values) + noise\n",
    "y_values"
   ]
  },
  {
   "cell_type": "code",
   "execution_count": null,
   "metadata": {},
   "outputs": [],
   "source": [
    "plt.figure()\n",
    "\n",
    "plt.plot(x_values, y_values, '-o', markersize=15, linewidth=5)\n",
    "\n",
    "plt.show()"
   ]
  },
  {
   "cell_type": "markdown",
   "metadata": {},
   "source": [
    "Setup our simple test function that we can solve for the amplitude and period (i.e. a test function with two variables only: a and b).\n",
    "\n",
    "(**Note**: I'm not including any internal test (e.g. isinstance, assert) in order to keep the teaching aspects clear here.)"
   ]
  },
  {
   "cell_type": "code",
   "execution_count": null,
   "metadata": {},
   "outputs": [],
   "source": [
    "def sine_func(x=None, a=None, b=None):\n",
    "    return a * np.sin(b * x)"
   ]
  },
  {
   "cell_type": "markdown",
   "metadata": {},
   "source": [
    "Use SciPy's optimize.curve_fit to find the solutions\n",
    "- https://docs.scipy.org/doc/scipy/reference/generated/scipy.optimize.curve_fit.html?highlight=curve_fit\n",
    "\n",
    "What is needed:\n",
    "1. a function\n",
    "2. x and y target data values, and\n",
    "3. and initial guesses (i.e. `p0` below) - we need a total of two (i.e. one for `a` and one for `b`)\n",
    "\n",
    "What is returned:\n",
    "1. **solution values**\n",
    "2. covariance: estimate of how much 2 variables vary (i.e. change) together (e.g. smoking and lifespan), or\n",
    "    - in other words, how correlated they are to one another (i.e. the off diagonal of the resulting matrix, which includes the concept of positive or negative correlation)\n",
    "    - the square of the diagonals of the covariance matrix gives the standard deviation for each of the solution values\n",
    "\n",
    "\n",
    "Will use `p0=[2.0, 2.0]` as the initial guess:"
   ]
  },
  {
   "cell_type": "code",
   "execution_count": null,
   "metadata": {},
   "outputs": [],
   "source": [
    "solution, solution_covariance = optimize.curve_fit(sine_func, x_values, y_values, p0=[2.0, 2.0])"
   ]
  },
  {
   "cell_type": "markdown",
   "metadata": {},
   "source": [
    "The ideal values are: amplitude (a) = 1.7, period (b) = 2.5 with C=D=0\n",
    "\n",
    "But remember, we added noise, so our solution will be close to these values solution"
   ]
  },
  {
   "cell_type": "code",
   "execution_count": null,
   "metadata": {},
   "outputs": [],
   "source": [
    "solution"
   ]
  },
  {
   "cell_type": "code",
   "execution_count": null,
   "metadata": {},
   "outputs": [],
   "source": [
    "solution_covariance"
   ]
  },
  {
   "cell_type": "code",
   "execution_count": null,
   "metadata": {},
   "outputs": [],
   "source": [
    "std_dev = np.sqrt(np.diag(solution_covariance))\n",
    "std_dev"
   ]
  },
  {
   "cell_type": "code",
   "execution_count": null,
   "metadata": {},
   "outputs": [],
   "source": [
    "plt.plot()\n",
    "\n",
    "plt.plot(x_values, y_values, '-o', markersize=15, linewidth=5) # blue (simulated experimental date)\n",
    "\n",
    "plt.plot(x_values, sine_func(x_values, solution[0], solution[1]),\n",
    "         '-o', markersize=15, linewidth=5, alpha=0.7) # orange\n",
    "\n",
    "plt.show()"
   ]
  },
  {
   "cell_type": "markdown",
   "metadata": {},
   "source": [
    "Note: The **solution** will **depend** on the **intial guess**. There are several possible \"local\" solutions that can can be found.\n",
    "\n",
    "We **artifically knew** the solution before hand, to be near **a=1.7 and b=2.5**...so p0=[2.0, 2.0] was a good starting point.\n",
    "\n",
    "Exploration is needed when we don't know the approximate (or exact) solution before. Visualization of the results helps you interpret them (i.e. build your understanding of what the results are).\n",
    "\n",
    "Demonstrate by redoing the above steps, and plot the results using:\n",
    "- p0=[1.0, 1.0] --> should give a different result\n",
    "- p0=[3.0, 3.0] --> should give you the \"correct\" solution\n",
    "- p0=[5.0, 5.0] --> should give a different result\n",
    "\n",
    "Example: `solution, solution_covariance = optimize.curve_fit(sine_func, x_values, y_values, p0=[1.0, 1.0])`"
   ]
  },
  {
   "cell_type": "markdown",
   "metadata": {},
   "source": [
    "---\n",
    "## Optimization\n",
    "\n",
    "Finding a numerical solution for maximizing or minimizing a function.\n",
    "\n",
    "In other words, if we start with an arbitrary point on a function's curve or surface, an optimization algorithm will locate (i.e. optimize) the lowest energy value with respect to that starting position (see Figure 2).\n",
    "\n",
    "<img src=\"00_images/Gradient_descent.gif\" alt=\"gradient_opt\" style=\"width: 400px;\"/>\n",
    "\n",
    "<center>Figure 2: Three starting points on a mathematically defined surface that are optimized to two local minima.</center>\n",
    "\n",
    "(Image source: https://commons.wikimedia.org/wiki/File:Gradient_descent.gif)\n",
    "\n",
    "- optimize: https://docs.scipy.org/doc/scipy/reference/optimize.html#module-scipy.optimize\n",
    "\n",
    "- https://docs.scipy.org/doc/scipy/reference/generated/scipy.optimize.minimize.html#scipy.optimize.minimize\n",
    "\n",
    "##### scipy.optimize.minimize() and its output **type**\n",
    "\n",
    "**Input**\n",
    "func: a function that will be minimized\n",
    "x0: an initial guess\n",
    "\n",
    "\n",
    "**Output**\n",
    "The output is a compound object containing lot of information regarding the convergence (see example below for what it looks like).\n",
    "\n",
    "\n",
    "##### Solvers\n",
    "- Nelder-Mead\n",
    "- Powell\n",
    "- CG\n",
    "- **BFGS**\n",
    "- Newton-CG\n",
    "- L-BFGS-B\n",
    "- TNC\n",
    "- COBYLA\n",
    "- SLSQP\n",
    "- trust-constr\n",
    "- dogleg\n",
    "- trust-ncg\n",
    "- trust-exact\n",
    "- trust-krylov\n",
    "\n",
    "\n",
    "- **Default solver**: quasi-Newton method of Broyden, Fletcher, Goldfarb, and Shanno (**BFGS**)\n",
    "    - https://docs.scipy.org/doc/scipy/reference/tutorial/optimize.html#broyden-fletcher-goldfarb-shanno-algorithm-method-bfgs\n",
    "\n",
    "\n",
    "- More background on minimization: http://scipy-lectures.org/advanced/mathematical_optimization\n",
    "\n",
    "---\n",
    "**Example**: Find the minimum of a 1D function (i.e. a scalar function; a function that return a single value from input values)"
   ]
  },
  {
   "cell_type": "markdown",
   "metadata": {},
   "source": [
    "$$ x^2 + 25sin(x) $$"
   ]
  },
  {
   "cell_type": "code",
   "execution_count": null,
   "metadata": {},
   "outputs": [],
   "source": [
    "def scalar_func(x: float=None) -> float:\n",
    "    return x**2 + 25*np.sin(x)"
   ]
  },
  {
   "cell_type": "code",
   "execution_count": null,
   "metadata": {},
   "outputs": [],
   "source": [
    "x_values = np.arange(-10, 10, 0.1)\n",
    "\n",
    "y_values = scalar_func(x_values)"
   ]
  },
  {
   "cell_type": "markdown",
   "metadata": {},
   "source": [
    "View what the x- and y-data look like:"
   ]
  },
  {
   "cell_type": "code",
   "execution_count": null,
   "metadata": {},
   "outputs": [],
   "source": [
    "plt.figure()\n",
    "\n",
    "plt.plot(x_values, y_values, 'o')\n",
    "\n",
    "plt.show()"
   ]
  },
  {
   "cell_type": "markdown",
   "metadata": {},
   "source": [
    "Notice the **three significant minima** that are present (i.e. one **global**, and two **local**)\n",
    "\n",
    "Use `optimize.minimier` to find a minimum\n",
    "- https://docs.scipy.org/doc/scipy/reference/generated/scipy.optimize.minimize.html#scipy.optimize.minimize\n",
    "\n",
    "Let's start with an **inital guess** near the global minimum (i.e `x0 = 0.0`):"
   ]
  },
  {
   "cell_type": "code",
   "execution_count": null,
   "metadata": {},
   "outputs": [],
   "source": [
    "result_global = optimize.minimize(scalar_func, x0=0.0, method=\"BFGS\")"
   ]
  },
  {
   "cell_type": "code",
   "execution_count": null,
   "metadata": {},
   "outputs": [],
   "source": [
    "result_global"
   ]
  },
  {
   "cell_type": "code",
   "execution_count": null,
   "metadata": {},
   "outputs": [],
   "source": [
    "type(result_global)"
   ]
  },
  {
   "cell_type": "markdown",
   "metadata": {},
   "source": [
    "You can retrieve each of these items, as demonstrated by the following:\n",
    "\n",
    "Position of the found **minimum** on the **x-axis**:"
   ]
  },
  {
   "cell_type": "code",
   "execution_count": null,
   "metadata": {},
   "outputs": [],
   "source": [
    "result_global.x"
   ]
  },
  {
   "cell_type": "markdown",
   "metadata": {},
   "source": [
    "Value of the found **minimum** on the **y-axis**:"
   ]
  },
  {
   "cell_type": "code",
   "execution_count": null,
   "metadata": {},
   "outputs": [],
   "source": [
    "result_global.fun"
   ]
  },
  {
   "cell_type": "markdown",
   "metadata": {},
   "source": [
    "Now let's set an **initial guess** closer to one of the **local minimum** (i.e. `x0 = 3.0`)"
   ]
  },
  {
   "cell_type": "code",
   "execution_count": null,
   "metadata": {},
   "outputs": [],
   "source": [
    "result_local = optimize.minimize(scalar_func, x0=3.0, method=\"BFGS\")"
   ]
  },
  {
   "cell_type": "code",
   "execution_count": null,
   "metadata": {},
   "outputs": [],
   "source": [
    "result_local"
   ]
  },
  {
   "cell_type": "markdown",
   "metadata": {},
   "source": [
    "Notice that it finds the local minimum at x=4.4 (i.e. NOT the global minimia). Thus, BFGS apears to be a **local optimizer**."
   ]
  },
  {
   "cell_type": "markdown",
   "metadata": {},
   "source": [
    "#### Overcoming the dependency on the initial guess (the idea of a global optimizer)\n",
    "- fminbound: a minimization within boundaries\n",
    "- brute: minimize a function over a given range through lots of sampling\n",
    "- differential_evolution: global minimum a multivariate function\n",
    "- shgo: global minimum using SHG optimization\n",
    "- dual_annealing: global minimum using dual annealing\n",
    "\n",
    "Let's try these out:\n",
    "\n",
    "**fminbound** https://docs.scipy.org/doc/scipy/reference/generated/scipy.optimize.fminbound.html\n",
    "\n",
    "`scipy.optimize.fminbound(func, x1, x2, ...)`\n",
    "\n",
    "- **no startign guess** is used as input"
   ]
  },
  {
   "cell_type": "code",
   "execution_count": null,
   "metadata": {},
   "outputs": [],
   "source": [
    "optimize.fminbound(func=scalar_func, x1=-10, x2=10)"
   ]
  },
  {
   "cell_type": "markdown",
   "metadata": {},
   "source": [
    "Therefore, `fminbound` finds the global minimum."
   ]
  },
  {
   "cell_type": "markdown",
   "metadata": {},
   "source": [
    "**brute force** https://docs.scipy.org/doc/scipy/reference/generated/scipy.optimize.brute.html#scipy.optimize.brute\n",
    "\n",
    "`scipy.optimize.brute(func, ranges,...)`\n",
    "- ranges (tuple): \"Each component of the ranges **tuple** must be either a **“slice object”** or a **range tuple of the form (low, high)**. The program uses these to create the grid of points on which the objective function will be computed.\""
   ]
  },
  {
   "cell_type": "markdown",
   "metadata": {},
   "source": [
    "Built-in function: `slice(start, stop[, step])`"
   ]
  },
  {
   "cell_type": "markdown",
   "metadata": {},
   "source": [
    "Since we have only one variable (i.e. `x`), we only need to \"fill-in\" the first part of the tuple (e.g. `(slice(-10, 10, 1), )`:\n",
    "\n",
    "Slice object:"
   ]
  },
  {
   "cell_type": "code",
   "execution_count": null,
   "metadata": {},
   "outputs": [],
   "source": [
    "optimize.brute(func=scalar_func, ranges=(slice(-10, 10, 0.1), ))"
   ]
  },
  {
   "cell_type": "markdown",
   "metadata": {},
   "source": [
    "Range of tuple (low, high):"
   ]
  },
  {
   "cell_type": "code",
   "execution_count": null,
   "metadata": {},
   "outputs": [],
   "source": [
    "optimize.brute(func=scalar_func, ranges=((-10, 10), ))"
   ]
  },
  {
   "cell_type": "markdown",
   "metadata": {},
   "source": [
    "**basin hopping** https://docs.scipy.org/doc/scipy/reference/generated/scipy.optimize.basinhopping.html\n",
    "\n",
    "`scipy.optimize.basinhopping(func, x0, niter=100, T=1.0, stepsize=0.5, ...)`\n",
    "\n",
    "- combines global stepping with local minimization\n",
    "- rugged, funnel-like surfaces (e.g. molecular potential energy surfaces)\n",
    "- requires: a function and an initial guess (so not a \"perfect\" method)\n",
    "    \n",
    "- sensitive to stepsize\n",
    "    - stepsize=0.5 (i.e. default value) will find in a local minmium\n",
    "    - stepsize=2.5 will find the global mimimum"
   ]
  },
  {
   "cell_type": "markdown",
   "metadata": {},
   "source": [
    "Recall that `x0 = 3.0` gave a **local minimum** at `x = 4.454335797238624` when using `optimize.minimize`."
   ]
  },
  {
   "cell_type": "code",
   "execution_count": null,
   "metadata": {},
   "outputs": [],
   "source": [
    "optimize.basinhopping(func=scalar_func, x0=3.0, stepsize=0.5)"
   ]
  },
  {
   "cell_type": "markdown",
   "metadata": {},
   "source": [
    "Basin hopping with the **small stepsize did not find the global minimum**.\n",
    "\n",
    "Let's make the **stepsize larger**:"
   ]
  },
  {
   "cell_type": "code",
   "execution_count": null,
   "metadata": {},
   "outputs": [],
   "source": [
    "optimize.basinhopping(func=scalar_func, x0=3.0, stepsize=2.5)"
   ]
  },
  {
   "cell_type": "markdown",
   "metadata": {},
   "source": [
    "Now Basin Hopping found the global minimum."
   ]
  },
  {
   "cell_type": "markdown",
   "metadata": {},
   "source": [
    "## Finding the **Roots**\n",
    "\n",
    "- Roots: points where f(x) = 0\n",
    "    - For example, the values of x that satisfies the equation $ x^2 + 25sin(x) = 0$\n",
    "\n",
    "\n",
    "- Finding the roots of a function provides you a solution to that function, which can be useful depending on the problem at hand."
   ]
  },
  {
   "cell_type": "code",
   "execution_count": null,
   "metadata": {},
   "outputs": [],
   "source": [
    "plt.figure()\n",
    "\n",
    "plt.plot(x_values, scalar_func(x_values), linestyle='solid', linewidth=5, alpha=0.5)\n",
    "plt.hlines(y=0, xmin=-10, xmax=10, colors='red')\n",
    "\n",
    "plt.show()"
   ]
  },
  {
   "cell_type": "markdown",
   "metadata": {},
   "source": [
    "#### Through visualization, we see that there should be four roots (ca. -3.0, 0.0, 4.0 and 5.0)\n",
    "\n",
    "`scipy.optimize.root(fun, x0, ...)`\n",
    "- `x0`: initial starting point (i.e. guess)\n",
    "\n",
    "- https://docs.scipy.org/doc/scipy/reference/generated/scipy.optimize.root.html"
   ]
  },
  {
   "cell_type": "code",
   "execution_count": null,
   "metadata": {},
   "outputs": [],
   "source": [
    "root1 = optimize.root(fun=scalar_func, x0=-4)\n",
    "root1"
   ]
  },
  {
   "cell_type": "markdown",
   "metadata": {},
   "source": [
    "Therefore, one root is at x=-2.8."
   ]
  },
  {
   "cell_type": "code",
   "execution_count": null,
   "metadata": {},
   "outputs": [],
   "source": [
    "root2 = optimize.root(fun=scalar_func, x0=1)\n",
    "root2"
   ]
  },
  {
   "cell_type": "markdown",
   "metadata": {},
   "source": [
    "A second root is at x=-0.0."
   ]
  },
  {
   "cell_type": "code",
   "execution_count": null,
   "metadata": {},
   "outputs": [],
   "source": [
    "root3 = optimize.root(scalar_func, x0=4)\n",
    "root3"
   ]
  },
  {
   "cell_type": "markdown",
   "metadata": {},
   "source": [
    "A second root is at x=-3.7."
   ]
  },
  {
   "cell_type": "code",
   "execution_count": null,
   "metadata": {},
   "outputs": [],
   "source": [
    "root4 = optimize.root(scalar_func, x0=7)\n",
    "root4"
   ]
  },
  {
   "cell_type": "markdown",
   "metadata": {},
   "source": [
    "A second root is at x=-4.9."
   ]
  },
  {
   "cell_type": "code",
   "execution_count": null,
   "metadata": {},
   "outputs": [],
   "source": [
    "root4.x"
   ]
  },
  {
   "cell_type": "code",
   "execution_count": null,
   "metadata": {},
   "outputs": [],
   "source": [
    "my_x = root4.x[0]\n",
    "\n",
    "my_x**2 + 25*np.sin(my_x)"
   ]
  },
  {
   "cell_type": "markdown",
   "metadata": {},
   "source": [
    "---\n",
    "### SciPy Summary:\n",
    "1. Integration of a function\n",
    "2. Interpolation of data points (e.g. filling in missing data)\n",
    "3. Curve fitting - optimizing a function to best fit a data set\n",
    "4. Optimization to find local and global minima positions and values of a function\n",
    "5. Finding the roots of an equation (e.g. f(x)=0)"
   ]
  },
  {
   "cell_type": "code",
   "execution_count": null,
   "metadata": {},
   "outputs": [],
   "source": []
  }
 ],
 "metadata": {
  "kernelspec": {
   "display_name": "Python 3 (ipykernel)",
   "language": "python",
   "name": "python3"
  },
  "language_info": {
   "codemirror_mode": {
    "name": "ipython",
    "version": 3
   },
   "file_extension": ".py",
   "mimetype": "text/x-python",
   "name": "python",
   "nbconvert_exporter": "python",
   "pygments_lexer": "ipython3",
   "version": "3.9.7"
  }
 },
 "nbformat": 4,
 "nbformat_minor": 2
}
