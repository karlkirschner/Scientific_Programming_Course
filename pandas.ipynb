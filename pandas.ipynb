{
 "cells": [
  {
   "cell_type": "markdown",
   "metadata": {},
   "source": [
    "# Pandas\n",
    "### Karl N. Kirschner\n",
    "\n",
    "\"...providing fast, flexible, and expressive data structures designed to make working with “relational” or “labeled” data both easy and intuitive. It aims to be the fundamental high-level building block for doing practical, real world data analysis in Python.\" -- http://pandas.pydata.org/pandas-docs/stable/\n",
    "\n",
    "- Tabular data with heterogeneously-typed columns, (CSV, SQL, or Excel spreadsheet)\n",
    "- Ordered and unordered time series data.\n",
    "- Arbitrary matrix data with row and column labels\n",
    "\n",
    "\n",
    "**Significant things to note**:\n",
    "- Allows you to operate in any diretion on your data (i.e. by rows or by columns)\n",
    "    - Database experts will find this interesting\n",
    "        - SQL: maniplate data by rows (i.e. row-focused)\n",
    "        - Columnar databases: manipulate data by columns (i.e. column-focused)\n",
    "    - Operate data on data using 1-2 lines of code\n",
    "\n",
    "\n",
    "- Data structures\n",
    "    - Series - 1 dimensional data\n",
    "    - DataFrame - 2 dimensional data\n",
    "\n",
    "\n",
    "- Index data\n",
    "    - can organize your data quickly and logically (e.g. based on calendar dates\n",
    "    - can handle missing data\n",
    "\n",
    "\n",
    "- Missing data\n",
    "    - NaN\n",
    "    - mean\n",
    "    - fill forward and backwards\n",
    "\n",
    "**For citing Pandas**: (via https://pandas.pydata.org/about/citing.html - modify for your Pandas version)\n",
    "\n",
    "1. The pandas development team, pandas-dev/pandas: Pandas, Zenodo, 2020, https://doi.org/10.5281/zenodo.3509134, visited on June 7, 2021\n",
    "\n",
    "2. McKinney, W., 2010, June. Data structures for statistical computing in python. In Proceedings of the 9th Python in Science Conference, van der Walt, S. & Millman, J. (Eds.), vol. 445 pp. 51-56).\n",
    "\n",
    "**Bibtex** files:\n",
    "\n",
    "@software{reback2020pandas,  \n",
    "    author       = {The pandas development team},  \n",
    "    title        = {pandas-dev/pandas: Pandas},  \n",
    "    month        = feb,  \n",
    "    year         = 2020,  \n",
    "    publisher    = {Zenodo},  \n",
    "    version      = {latest},  \n",
    "    doi          = {10.5281/zenodo.3509134},  \n",
    "    url          = {https://doi.org/10.5281/zenodo.3509134}  \n",
    "}\n",
    "\n",
    "\n",
    "@InProceedings{mckinney-proc-scipy-2010,  \n",
    "  author    = {{W}es {M}c{K}inney},  \n",
    "  title     = {{D}ata {S}tructures for {S}tatistical {C}omputing in {P}ython},  \n",
    "  booktitle = {{P}roceedings of the 9th {P}ython in {S}cience {C}onference},  \n",
    "  pages     = {56 - 61},  \n",
    "  year      = {2010},  \n",
    "  editor    = {{S}t\\'efan van der {W}alt and {J}arrod {M}illman},  \n",
    "  doi       = {10.25080/Majora-92bf1922-00a}  \n",
    "}\n",
    "\n",
    "**Additional source**:\n",
    "1. Wes McKinney, Python for Data Analysis; Data Wrangling with Pandas, Numpy and Ipython, O'Reilly, Second Edition, 2018.\n",
    "***"
   ]
  },
  {
   "cell_type": "code",
   "execution_count": null,
   "metadata": {},
   "outputs": [],
   "source": [
    "import matplotlib.pyplot as plt\n",
    "import pandas as pd"
   ]
  },
  {
   "cell_type": "markdown",
   "metadata": {},
   "source": [
    "## Pandas Series\n",
    "\n",
    "Series contain two components:\n",
    "1. one-dimensional array-like object that contains a sequence of data values\n",
    "2. an associated array of data labels (i.e. 'index')\n",
    "\n",
    "Note: indexes start at '0'\n",
    "\n",
    "#### Creating\n",
    "\n",
    "Create a series that contains 5 integers:"
   ]
  },
  {
   "cell_type": "code",
   "execution_count": null,
   "metadata": {},
   "outputs": [],
   "source": [
    "series_data = pd.Series([5, 10, 15, 20, 25])\n",
    "series_data"
   ]
  },
  {
   "cell_type": "markdown",
   "metadata": {},
   "source": [
    "#### Indexes\n",
    "Now, let us add some indexes to help lables the integers:"
   ]
  },
  {
   "cell_type": "code",
   "execution_count": null,
   "metadata": {},
   "outputs": [],
   "source": [
    "series_data = pd.Series([5, 10, 15, 20, 25], index=['d', 'e', 'a', 'simulation', 'average'])\n",
    "series_data"
   ]
  },
  {
   "cell_type": "markdown",
   "metadata": {},
   "source": [
    "We can alter these indexes at any time."
   ]
  },
  {
   "cell_type": "code",
   "execution_count": null,
   "metadata": {},
   "outputs": [],
   "source": [
    "series_data.index = ['Norway', 'Italy', 'Germany', 'simulation', 'average']\n",
    "series_data"
   ]
  },
  {
   "cell_type": "markdown",
   "metadata": {},
   "source": [
    "#### Accessing the series\n",
    "\n",
    "Access only the values:"
   ]
  },
  {
   "cell_type": "code",
   "execution_count": null,
   "metadata": {},
   "outputs": [],
   "source": [
    "series_data.values"
   ]
  },
  {
   "cell_type": "markdown",
   "metadata": {},
   "source": [
    "Access the data via an index label:"
   ]
  },
  {
   "cell_type": "code",
   "execution_count": null,
   "metadata": {},
   "outputs": [],
   "source": [
    "series_data['simulation']"
   ]
  },
  {
   "cell_type": "markdown",
   "metadata": {},
   "source": [
    "Or by a position:"
   ]
  },
  {
   "cell_type": "code",
   "execution_count": null,
   "metadata": {},
   "outputs": [],
   "source": [
    "series_data[3]"
   ]
  },
  {
   "cell_type": "markdown",
   "metadata": {},
   "source": [
    "#### Using operators"
   ]
  },
  {
   "cell_type": "code",
   "execution_count": null,
   "metadata": {},
   "outputs": [],
   "source": [
    "series_data**2"
   ]
  },
  {
   "cell_type": "markdown",
   "metadata": {},
   "source": [
    "What happens when one of the series has missing data?\n",
    "\n",
    "Let's create an alternate series that has the **Italian data missing**, and then **add them** to the original series:"
   ]
  },
  {
   "cell_type": "code",
   "execution_count": null,
   "metadata": {},
   "outputs": [],
   "source": [
    "series_data_missing = pd.Series([5, 10, 20, 25], index=['Germany', 'Norway', 'simulation', 'average'])\n",
    "\n",
    "series_data + series_data_missing"
   ]
  },
  {
   "cell_type": "markdown",
   "metadata": {},
   "source": [
    "#### Filtering and Sorting\n",
    "\n",
    "Filter the data:"
   ]
  },
  {
   "cell_type": "code",
   "execution_count": null,
   "metadata": {},
   "outputs": [],
   "source": [
    "series_data[series_data >= 15]"
   ]
  },
  {
   "cell_type": "markdown",
   "metadata": {},
   "source": [
    "Sorting a series by its index:"
   ]
  },
  {
   "cell_type": "code",
   "execution_count": null,
   "metadata": {},
   "outputs": [],
   "source": [
    "series_data.sort_index()"
   ]
  },
  {
   "cell_type": "markdown",
   "metadata": {},
   "source": [
    "Notice the sorting goes by:\n",
    "1. Capital case letters\n",
    "1. Lower case letters"
   ]
  },
  {
   "cell_type": "markdown",
   "metadata": {},
   "source": [
    "Sorting a series by data values:"
   ]
  },
  {
   "cell_type": "code",
   "execution_count": null,
   "metadata": {},
   "outputs": [],
   "source": [
    "series_data.sort_values()"
   ]
  },
  {
   "cell_type": "markdown",
   "metadata": {},
   "source": [
    "---\n",
    "## Dataframes\n",
    "- dataframes represents a **rectangular, ordered** table of data (numbers, strings, etc.)\n",
    "\n",
    "- just like you are familiar with in a spreedsheet\n",
    "\n",
    "Let's create a simple user function that will allow us to reset our example dataframe as needed\n",
    "1. First create a dictionary\n",
    "2. Convert the dictionary to a dataframe"
   ]
  },
  {
   "cell_type": "code",
   "execution_count": null,
   "metadata": {},
   "outputs": [],
   "source": [
    "def dict2dataframe():\n",
    "    '''Create a dataframe 'by hand' using a dictionary that has equal lengths'''\n",
    "\n",
    "    data = {'group': ['Deichkind', 'Die Fantastischen Vier', 'Seeed', 'Paul van Dyk'],\n",
    "            'year': [2015, 2106, 2017, 2018],\n",
    "            'attendence (x1000)': [50, 60, 70, 90]}\n",
    "\n",
    "    dataframe = pd.DataFrame(data)  # convert the dictionary to a pandas' dataframe\n",
    "\n",
    "    return dataframe"
   ]
  },
  {
   "cell_type": "code",
   "execution_count": null,
   "metadata": {},
   "outputs": [],
   "source": [
    "example_df = dict2dataframe()\n",
    "example_df"
   ]
  },
  {
   "cell_type": "markdown",
   "metadata": {},
   "source": [
    "Alter these indexes in the same way we did for the series:"
   ]
  },
  {
   "cell_type": "code",
   "execution_count": null,
   "metadata": {},
   "outputs": [],
   "source": [
    "example_df.index = ['band 1', 'band 2', 'band 3', 'band 4']\n",
    "example_df"
   ]
  },
  {
   "cell_type": "markdown",
   "metadata": {},
   "source": [
    "Note that index don't need to be unique for each row, but this can cause problems (for example, later we will delete based on the index label).\n",
    "\n",
    "Assign `band 1` to the first two index positions"
   ]
  },
  {
   "cell_type": "code",
   "execution_count": null,
   "metadata": {},
   "outputs": [],
   "source": [
    "example_df.index = ['band 1', 'band 1', 'band 3', 'band 4']\n",
    "example_df"
   ]
  },
  {
   "cell_type": "markdown",
   "metadata": {},
   "source": [
    "#### Inserting columns\n",
    "\n",
    "Insert columns (simple):"
   ]
  },
  {
   "cell_type": "code",
   "execution_count": null,
   "metadata": {},
   "outputs": [],
   "source": [
    "example_df['quality'] = ['good', 'excellent', 'good', 'average']\n",
    "example_df"
   ]
  },
  {
   "cell_type": "markdown",
   "metadata": {},
   "source": [
    "Inserting a new column, and fill it using 'NaN':"
   ]
  },
  {
   "cell_type": "code",
   "execution_count": null,
   "metadata": {},
   "outputs": [],
   "source": [
    "example_df['number of total concerts'] = pd.Series(data='NaN')\n",
    "example_df"
   ]
  },
  {
   "cell_type": "markdown",
   "metadata": {},
   "source": [
    "**Inserting a new row**:"
   ]
  },
  {
   "cell_type": "code",
   "execution_count": null,
   "metadata": {},
   "outputs": [],
   "source": [
    "example_df = example_df.append({'group':'Scorpions', 'year':1965, 'attendence (x1000)':100},\n",
    "                               ignore_index=True)\n",
    "example_df"
   ]
  },
  {
   "cell_type": "markdown",
   "metadata": {},
   "source": [
    "Notice\n",
    "1. how the index change to integers.\n",
    "1. how `NaN` is added to the columns not specified (i.e. to `quality` and `number of total concerts`)"
   ]
  },
  {
   "cell_type": "markdown",
   "metadata": {},
   "source": [
    "### Dropping data entries\n",
    "- pandas.drop will **drop columns** and **rows** using the **axis** keyword\n",
    "    - `axis='rows'` ;`axis=0` ; `axis='index'`\n",
    "    - `axis='columns'` ; `axis=1`"
   ]
  },
  {
   "cell_type": "markdown",
   "metadata": {},
   "source": [
    "#### Removing columns\n",
    "- https://pandas.pydata.org/pandas-docs/stable/reference/api/pandas.DataFrame.drop.html\n",
    "- axis='columns' ; axis=1"
   ]
  },
  {
   "cell_type": "code",
   "execution_count": null,
   "metadata": {},
   "outputs": [],
   "source": [
    "example_df = example_df.drop(['year'], axis='columns')\n",
    "example_df"
   ]
  },
  {
   "cell_type": "markdown",
   "metadata": {},
   "source": [
    "Interestingly, you don't need the list brackets: "
   ]
  },
  {
   "cell_type": "code",
   "execution_count": null,
   "metadata": {},
   "outputs": [],
   "source": [
    "example_df = example_df.drop('attendence (x1000)', axis='columns')\n",
    "example_df"
   ]
  },
  {
   "cell_type": "code",
   "execution_count": null,
   "metadata": {},
   "outputs": [],
   "source": [
    "example_df = example_df.drop(['quality', 'number of total concerts'], axis='columns')\n",
    "example_df"
   ]
  },
  {
   "cell_type": "markdown",
   "metadata": {},
   "source": [
    "#### Removing rows\n",
    "- https://pandas.pydata.org/pandas-docs/stable/reference/api/pandas.DataFrame.drop.html\n",
    "- `axis='row'` ; `axis='rows'` ;`axis=0` ; `axis='index'`"
   ]
  },
  {
   "cell_type": "code",
   "execution_count": null,
   "metadata": {},
   "outputs": [],
   "source": [
    "example_df = example_df.drop([0], axis='index')\n",
    "example_df"
   ]
  },
  {
   "cell_type": "markdown",
   "metadata": {},
   "source": [
    "As with columns, not specifing the list brackets also works:"
   ]
  },
  {
   "cell_type": "code",
   "execution_count": null,
   "metadata": {},
   "outputs": [],
   "source": [
    "example_df = example_df.drop(1, axis='index')\n",
    "example_df"
   ]
  },
  {
   "cell_type": "code",
   "execution_count": null,
   "metadata": {},
   "outputs": [],
   "source": [
    "example_df = example_df.drop([3, 4], axis='rows')\n",
    "example_df"
   ]
  },
  {
   "cell_type": "markdown",
   "metadata": {},
   "source": [
    "**Additional examples**\n",
    "\n",
    "Indexes that are strings"
   ]
  },
  {
   "cell_type": "code",
   "execution_count": null,
   "metadata": {},
   "outputs": [],
   "source": [
    "example_df = dict2dataframe()\n",
    "example_df.index = ['band 1', 'band 2', 'band 3', 'band 4']\n",
    "example_df"
   ]
  },
  {
   "cell_type": "code",
   "execution_count": null,
   "metadata": {},
   "outputs": [],
   "source": [
    "example_df.drop(['band 2', 'band 3'], axis='rows')"
   ]
  },
  {
   "cell_type": "markdown",
   "metadata": {},
   "source": [
    "What happens if you have rows with the same index?\n",
    "\n",
    "Let's reset, and set two rows as `band 3`:"
   ]
  },
  {
   "cell_type": "code",
   "execution_count": null,
   "metadata": {},
   "outputs": [],
   "source": [
    "example_df = dict2dataframe()\n",
    "example_df.index = ['band 1', 'band 3', 'band 3', 'band 4']\n",
    "example_df"
   ]
  },
  {
   "cell_type": "code",
   "execution_count": null,
   "metadata": {},
   "outputs": [],
   "source": [
    "example_df = example_df.drop(['band 3'])\n",
    "example_df"
   ]
  },
  {
   "cell_type": "markdown",
   "metadata": {},
   "source": [
    "---\n",
    "## Accessing, selecting and filtering data\n",
    "- there are many ways to do this (df: dataframe)\n",
    "    - `df[val]` and `df[[]]`\n",
    "    - `df.loc[val]`: https://pandas.pydata.org/docs/reference/api/pandas.DataFrame.loc.html\n",
    "    - `df.loc[row_val, col_val]`\n",
    "    - `df.iloc[row_index, col_index]`: https://pandas.pydata.org/docs/reference/api/pandas.DataFrame.iloc.html#pandas.DataFrame.iloc\n",
    "    - and more\n",
    "    \n",
    "**Suggestion** - choose one method like `df.loc` and learn it first"
   ]
  },
  {
   "cell_type": "markdown",
   "metadata": {},
   "source": [
    "- Reset the example, and\n",
    "- Reindex the dataframe:"
   ]
  },
  {
   "cell_type": "code",
   "execution_count": null,
   "metadata": {},
   "outputs": [],
   "source": [
    "example_df = dict2dataframe()\n",
    "example_df.index = ['band 1', 'band 2', 'band 3', 'band 4']\n",
    "\n",
    "example_df"
   ]
  },
  {
   "cell_type": "markdown",
   "metadata": {},
   "source": [
    "#### Accessing/Selecting rows (by the index)\n",
    "\n",
    "Single row:\n",
    "- Using slicing `:`\n",
    "\n",
    "via index names:"
   ]
  },
  {
   "cell_type": "code",
   "execution_count": null,
   "metadata": {},
   "outputs": [],
   "source": [
    "example_df['band 1':'band 1']"
   ]
  },
  {
   "cell_type": "markdown",
   "metadata": {},
   "source": [
    "via index numbers:"
   ]
  },
  {
   "cell_type": "code",
   "execution_count": null,
   "metadata": {},
   "outputs": [],
   "source": [
    "example_df[0:1]"
   ]
  },
  {
   "cell_type": "markdown",
   "metadata": {},
   "source": [
    "Alternative\n",
    "- `loc` with double `[[ ]]` (passing a list)"
   ]
  },
  {
   "cell_type": "code",
   "execution_count": null,
   "metadata": {},
   "outputs": [],
   "source": [
    "example_df.loc[['band 1']]"
   ]
  },
  {
   "cell_type": "markdown",
   "metadata": {},
   "source": [
    "Multiple rows\n",
    "- Using slicing `:`\n",
    "\n",
    "via index names:"
   ]
  },
  {
   "cell_type": "code",
   "execution_count": null,
   "metadata": {},
   "outputs": [],
   "source": [
    "example_df['band 1':'band 3']"
   ]
  },
  {
   "cell_type": "markdown",
   "metadata": {},
   "source": [
    "via index numbers:"
   ]
  },
  {
   "cell_type": "code",
   "execution_count": null,
   "metadata": {},
   "outputs": [],
   "source": [
    "example_df[0:3]"
   ]
  },
  {
   "cell_type": "markdown",
   "metadata": {},
   "source": [
    "Alternative apporaches:\n",
    "- `loc` with double `[[ ]]`\n",
    "\n",
    "**Notice**: How we skip `band 2` in the following, so it is really is not a range."
   ]
  },
  {
   "cell_type": "code",
   "execution_count": null,
   "metadata": {},
   "outputs": [],
   "source": [
    "example_df.loc[['band 1', 'band 3']]"
   ]
  },
  {
   "cell_type": "markdown",
   "metadata": {},
   "source": [
    "#### Access a specific cell (index, labels)"
   ]
  },
  {
   "cell_type": "code",
   "execution_count": null,
   "metadata": {},
   "outputs": [],
   "source": [
    "\n",
    "example_df.loc['band 3', 'group']"
   ]
  },
  {
   "cell_type": "markdown",
   "metadata": {},
   "source": [
    "Or by index number\n",
    "- `iloc`"
   ]
  },
  {
   "cell_type": "code",
   "execution_count": null,
   "metadata": {},
   "outputs": [],
   "source": [
    "example_df.iloc[2, 0]"
   ]
  },
  {
   "cell_type": "markdown",
   "metadata": {},
   "source": [
    "#### Substitute a value at a specific cell"
   ]
  },
  {
   "cell_type": "code",
   "execution_count": null,
   "metadata": {},
   "outputs": [],
   "source": [
    "example_df.loc['band 3', 'number of total concerts'] = 10000\n",
    "example_df"
   ]
  },
  {
   "cell_type": "markdown",
   "metadata": {},
   "source": [
    "### Accessing/Selecting columns"
   ]
  },
  {
   "cell_type": "markdown",
   "metadata": {},
   "source": [
    "#### Accessing columns (by label)\n",
    "\n",
    "Single column:"
   ]
  },
  {
   "cell_type": "code",
   "execution_count": null,
   "metadata": {},
   "outputs": [],
   "source": [
    "example_df['group']"
   ]
  },
  {
   "cell_type": "markdown",
   "metadata": {},
   "source": [
    "Multiple column \n",
    "\n",
    "- the double `[[ ]]` (passing a list to the dataframe)"
   ]
  },
  {
   "cell_type": "code",
   "execution_count": null,
   "metadata": {},
   "outputs": [],
   "source": [
    "example_df[['group', 'year']]"
   ]
  },
  {
   "cell_type": "markdown",
   "metadata": {},
   "source": [
    "Alternative approaches\n",
    "- the `df.columns` command"
   ]
  },
  {
   "cell_type": "code",
   "execution_count": null,
   "metadata": {
    "scrolled": false
   },
   "outputs": [],
   "source": [
    "example_df[example_df.columns[0:2]]"
   ]
  },
  {
   "cell_type": "markdown",
   "metadata": {},
   "source": [
    "- `loc`\n",
    "\n",
    "Notice that the rows designation is left as `:`, followed by a `,` and then the columns"
   ]
  },
  {
   "cell_type": "code",
   "execution_count": null,
   "metadata": {},
   "outputs": [],
   "source": [
    "example_df.loc[:, 'group':'attendence (x1000)']"
   ]
  },
  {
   "cell_type": "code",
   "execution_count": null,
   "metadata": {},
   "outputs": [],
   "source": [
    "example_df"
   ]
  },
  {
   "cell_type": "markdown",
   "metadata": {},
   "source": [
    "Now, let's putting everything together\n",
    "- slicing for rows (e.g. `'band 1':'band 3'`) and\n",
    "- slicing the columns (e.g. `'group':'attendence (x1000)'`)"
   ]
  },
  {
   "cell_type": "code",
   "execution_count": null,
   "metadata": {},
   "outputs": [],
   "source": [
    "example_df.loc['band 1':'band 3', 'group':'attendence (x1000)']"
   ]
  },
  {
   "cell_type": "markdown",
   "metadata": {},
   "source": [
    "---\n",
    "## Essential Functions"
   ]
  },
  {
   "cell_type": "markdown",
   "metadata": {},
   "source": [
    "### Reminder about reordering the rows by their indexes\n",
    "\n",
    "- demonstrates what happens to a dataframe with multiple columns\n",
    "\n",
    "- `reindex`"
   ]
  },
  {
   "cell_type": "code",
   "execution_count": null,
   "metadata": {},
   "outputs": [],
   "source": [
    "example_df = dict2dataframe()\n",
    "example_df.index = ['band 1', 'band 2', 'band 3', 'band 4']\n",
    "\n",
    "example_df"
   ]
  },
  {
   "cell_type": "code",
   "execution_count": null,
   "metadata": {},
   "outputs": [],
   "source": [
    "example_df = example_df.reindex(['band 3', 'band 4', 'band 1', 'band 2'])\n",
    "example_df"
   ]
  },
  {
   "cell_type": "markdown",
   "metadata": {},
   "source": [
    "### Factorize catagorical data\n",
    "- This is something that is sometimes done when performing data analysis\n",
    "    - e.g. Machine learning\n",
    "- https://pandas.pydata.org/pandas-docs/stable/reference/api/pandas.factorize.html"
   ]
  },
  {
   "cell_type": "code",
   "execution_count": null,
   "metadata": {},
   "outputs": [],
   "source": [
    "example_df = dict2dataframe()\n",
    "\n",
    "example_df.index = ['band 1', 'band 2', 'band 3', 'band 4']\n",
    "\n",
    "example_df['quality'] = ['good', 'excellent', 'good', 'average']\n",
    "\n",
    "example_df"
   ]
  },
  {
   "cell_type": "code",
   "execution_count": null,
   "metadata": {},
   "outputs": [],
   "source": [
    "codes, uniques = example_df['quality'].factorize()"
   ]
  },
  {
   "cell_type": "code",
   "execution_count": null,
   "metadata": {},
   "outputs": [],
   "source": [
    "codes"
   ]
  },
  {
   "cell_type": "code",
   "execution_count": null,
   "metadata": {},
   "outputs": [],
   "source": [
    "uniques"
   ]
  },
  {
   "cell_type": "code",
   "execution_count": null,
   "metadata": {},
   "outputs": [],
   "source": [
    "example_df['quality_numeric'] = codes\n",
    "example_df"
   ]
  },
  {
   "cell_type": "markdown",
   "metadata": {},
   "source": [
    "### Iterate over rows\n",
    "- https://pandas.pydata.org/pandas-docs/stable/reference/api/pandas.DataFrame.iterrows.html#pandas-dataframe-iterrows"
   ]
  },
  {
   "cell_type": "code",
   "execution_count": null,
   "metadata": {},
   "outputs": [],
   "source": [
    "for index, row in example_df.iterrows():\n",
    "    print(f\"Index: {index} ; Group: {row['group']}\")\n",
    "    print()"
   ]
  },
  {
   "cell_type": "markdown",
   "metadata": {},
   "source": [
    "### tolists\n",
    "- https://pandas.pydata.org/pandas-docs/stable/reference/api/pandas.Series.tolist.html\n",
    "\n",
    "First let's see what `dataframe.columns` does\n",
    "- https://pandas.pydata.org/pandas-docs/stable/reference/api/pandas.DataFrame.columns.html"
   ]
  },
  {
   "cell_type": "code",
   "execution_count": null,
   "metadata": {},
   "outputs": [],
   "source": [
    "example_df.columns"
   ]
  },
  {
   "cell_type": "markdown",
   "metadata": {},
   "source": [
    "Convert column names to a list"
   ]
  },
  {
   "cell_type": "code",
   "execution_count": null,
   "metadata": {},
   "outputs": [],
   "source": [
    "example_df.columns.tolist()"
   ]
  },
  {
   "cell_type": "markdown",
   "metadata": {},
   "source": [
    "---\n",
    "\n",
    "## Combining dataframes\n",
    "- take the columns from different dataframes and put them together into a single collumn\n",
    "    1. concat: https://pandas.pydata.org/pandas-docs/stable/reference/api/pandas.concat.html#pandas.concat\n",
    "    2. append\n",
    "\n",
    "**Example** - student grades on homeworks"
   ]
  },
  {
   "cell_type": "code",
   "execution_count": null,
   "metadata": {},
   "outputs": [],
   "source": [
    "homework_1_grades = pd.DataFrame({'student': [1, 2, 3, 4, 5, 6, 7, 8, 9, 10, 11, 12, 13],\n",
    "                                  'homework 1': [63.0, 76.0, 76.0,\n",
    "                                                 76.0, 0.0, 0.0, \n",
    "                                                 88.0, 86.0, 76.0,\n",
    "                                                 86.0, 70.0, 0.0, 80.0]})\n",
    "homework_1_grades"
   ]
  },
  {
   "cell_type": "code",
   "execution_count": null,
   "metadata": {},
   "outputs": [],
   "source": [
    "homework_2_grades = pd.DataFrame({'student': [1, 2, 3, 4, 5, 6, 7, 8, 9, 10, 11, 12, 13],\n",
    "                                  'homework 2': [70.0, 73.0, 91.0,\n",
    "                                                 89.0, 58.0, 0.0,\n",
    "                                                 77.0, 91.0, 86.0,\n",
    "                                                 78.0, 100.0, 61.5, 71.0]})\n",
    "homework_2_grades"
   ]
  },
  {
   "cell_type": "code",
   "execution_count": null,
   "metadata": {},
   "outputs": [],
   "source": [
    "new_df_concat = pd.concat([ homework_1_grades['homework 1'], homework_2_grades['homework 2'] ], axis='rows')\n",
    "new_df_concat"
   ]
  },
  {
   "cell_type": "code",
   "execution_count": null,
   "metadata": {},
   "outputs": [],
   "source": [
    "type(new_df_concat)"
   ]
  },
  {
   "cell_type": "markdown",
   "metadata": {},
   "source": [
    "Alternative approach using 'append'"
   ]
  },
  {
   "cell_type": "code",
   "execution_count": null,
   "metadata": {},
   "outputs": [],
   "source": [
    "new_df_append = homework_1_grades['homework 1'].append(homework_2_grades['homework 2'])\n",
    "new_df_append"
   ]
  },
  {
   "cell_type": "code",
   "execution_count": null,
   "metadata": {},
   "outputs": [],
   "source": [
    "type(new_df_append)"
   ]
  },
  {
   "cell_type": "markdown",
   "metadata": {},
   "source": [
    "- Combine two dataframe based on a common keys.\n",
    "    1. merge: https://pandas.pydata.org/pandas-docs/stable/reference/api/pandas.merge.html#pandas.merge\n",
    "    \n",
    "(This is just one example from many ways to do this, including when the keys might not be shared.)"
   ]
  },
  {
   "cell_type": "code",
   "execution_count": null,
   "metadata": {},
   "outputs": [],
   "source": [
    "pd.merge(homework_1_grades, homework_2_grades, on='student')"
   ]
  },
  {
   "cell_type": "markdown",
   "metadata": {},
   "source": [
    "---\n",
    "## Math operators\n",
    "\n",
    "Let's perform some math on a dataframe.\n",
    "\n",
    "Dataframe:\n",
    "- 5 rectangles that are defined by\n",
    "    - length\n",
    "    - height"
   ]
  },
  {
   "cell_type": "code",
   "execution_count": null,
   "metadata": {},
   "outputs": [],
   "source": [
    "rectangles_dict = {'length': [0.1, 9.4, 6.2, 3.8, 9.4],\n",
    "                   'height': [8.7, 6.2, 9.4, 5.6, 3.3]}\n",
    "\n",
    "rectangles_data = pd.DataFrame(rectangles_dict)\n",
    "rectangles_data"
   ]
  },
  {
   "cell_type": "markdown",
   "metadata": {},
   "source": [
    "#### Operate on all columns (e.g. dividing by 10)"
   ]
  },
  {
   "cell_type": "code",
   "execution_count": null,
   "metadata": {},
   "outputs": [],
   "source": [
    "rectangles_data/10"
   ]
  },
  {
   "cell_type": "markdown",
   "metadata": {},
   "source": [
    "#### Operatation using two columns (e.g. for the area of a rectangle)"
   ]
  },
  {
   "cell_type": "code",
   "execution_count": null,
   "metadata": {},
   "outputs": [],
   "source": [
    "rectangles_data['length'] * rectangles_data['height']"
   ]
  },
  {
   "cell_type": "markdown",
   "metadata": {},
   "source": [
    "#### Create a new column based on math using other columns"
   ]
  },
  {
   "cell_type": "code",
   "execution_count": null,
   "metadata": {},
   "outputs": [],
   "source": [
    "rectangles_data['area'] = rectangles_data['length'] * rectangles_data['height']\n",
    "rectangles_data"
   ]
  },
  {
   "cell_type": "markdown",
   "metadata": {},
   "source": [
    "### Descriptive statistics\n",
    "\n",
    "Using **python built-in functions** (e.g. max, min) on a Pandas dataframe:"
   ]
  },
  {
   "cell_type": "code",
   "execution_count": null,
   "metadata": {},
   "outputs": [],
   "source": [
    "max(rectangles_data['area'])"
   ]
  },
  {
   "cell_type": "code",
   "execution_count": null,
   "metadata": {},
   "outputs": [],
   "source": [
    "min(rectangles_data['area'])"
   ]
  },
  {
   "cell_type": "markdown",
   "metadata": {},
   "source": [
    "Notice above: how the dataframe is given within the parentheses."
   ]
  },
  {
   "cell_type": "markdown",
   "metadata": {},
   "source": [
    "Using **pandas functions**\n",
    "\n",
    "- count (https://pandas.pydata.org/pandas-docs/stable/reference/api/pandas.DataFrame.count.html)\n",
    "- sum (https://pandas.pydata.org/docs/reference/api/pandas.DataFrame.sum.html)\n",
    "- median (https://pandas.pydata.org/pandas-docs/stable/reference/api/pandas.DataFrame.median.html)\n",
    "- std (https://pandas.pydata.org/pandas-docs/stable/reference/api/pandas.DataFrame.std.html)\n",
    "- var (https://pandas.pydata.org/pandas-docs/stable/reference/api/pandas.DataFrame.var.html)\n",
    "- max (https://pandas.pydata.org/docs/reference/api/pandas.DataFrame.max.html)\n",
    "- min (https://pandas.pydata.org/docs/reference/api/pandas.DataFrame.min.html)\n",
    "- correlation analysis (https://pandas.pydata.org/docs/reference/api/pandas.DataFrame.corr.html)\n",
    "- and many more\n",
    "\n",
    "\n",
    "\n",
    "**Notice below** how **the dataframe is given first**, followed by the function (e.g. `df.max()`)\n",
    "\n",
    "On all dataframe columns:"
   ]
  },
  {
   "cell_type": "code",
   "execution_count": null,
   "metadata": {},
   "outputs": [],
   "source": [
    "rectangles_data.max()"
   ]
  },
  {
   "cell_type": "markdown",
   "metadata": {},
   "source": [
    "One a specific column:"
   ]
  },
  {
   "cell_type": "code",
   "execution_count": null,
   "metadata": {},
   "outputs": [],
   "source": [
    "rectangles_data['area'].max()"
   ]
  },
  {
   "cell_type": "markdown",
   "metadata": {},
   "source": [
    "`idxmin` and `idxmax`\n",
    "\n",
    "\"Return **index** of first occurrence of maximum over requested axis.\"[1]\n",
    "\n",
    "1. https://pandas.pydata.org/pandas-docs/stable/reference/api/pandas.DataFrame.idxmax.html"
   ]
  },
  {
   "cell_type": "code",
   "execution_count": null,
   "metadata": {},
   "outputs": [],
   "source": [
    "rectangles_data"
   ]
  },
  {
   "cell_type": "code",
   "execution_count": null,
   "metadata": {},
   "outputs": [],
   "source": [
    "maximum_index = rectangles_data['area'].idxmax()\n",
    "maximum_index"
   ]
  },
  {
   "cell_type": "code",
   "execution_count": null,
   "metadata": {},
   "outputs": [],
   "source": [
    "rectangles_data.loc[maximum_index]['area']"
   ]
  },
  {
   "cell_type": "code",
   "execution_count": null,
   "metadata": {},
   "outputs": [],
   "source": [
    "rectangles_data.loc[maximum_index]['length']"
   ]
  },
  {
   "cell_type": "markdown",
   "metadata": {},
   "source": [
    "But **note** it is the **FIRST OCCURANCE**\n",
    "- Returns the row with a length=9.4, width=6.2 and an area=58.28 (i.e. index = 1)\n",
    "- It does NOT return values for the rows that contain\n",
    "    - length=6.2, width=9.4 and an area=58.28 (i.e. index=2)"
   ]
  },
  {
   "cell_type": "code",
   "execution_count": null,
   "metadata": {},
   "outputs": [],
   "source": [
    "rectangles_data['area'].count()"
   ]
  },
  {
   "cell_type": "code",
   "execution_count": null,
   "metadata": {},
   "outputs": [],
   "source": [
    "rectangles_data['area'].mean()"
   ]
  },
  {
   "cell_type": "code",
   "execution_count": null,
   "metadata": {},
   "outputs": [],
   "source": [
    "rectangles_data['area'].std()"
   ]
  },
  {
   "cell_type": "markdown",
   "metadata": {},
   "source": [
    "#### Moving averages (data smoothing)\n",
    "- https://en.wikipedia.org/wiki/Moving_average\n",
    "\n",
    "- rolling mean of data via pandas\n",
    "\n",
    "https://pandas.pydata.org/docs/reference/api/pandas.DataFrame.rolling.html?highlight=rolling#pandas.DataFrame.rolling"
   ]
  },
  {
   "cell_type": "code",
   "execution_count": null,
   "metadata": {},
   "outputs": [],
   "source": [
    "rectangles_data['area moving avg'] = rectangles_data['area'].rolling(window=2, win_type=None).mean()\n",
    "rectangles_data"
   ]
  },
  {
   "cell_type": "markdown",
   "metadata": {},
   "source": [
    "### Unique values"
   ]
  },
  {
   "cell_type": "markdown",
   "metadata": {},
   "source": [
    "- Unique values"
   ]
  },
  {
   "cell_type": "code",
   "execution_count": null,
   "metadata": {},
   "outputs": [],
   "source": [
    "rectangles_data['area'].unique()"
   ]
  },
  {
   "cell_type": "markdown",
   "metadata": {},
   "source": [
    "- Unique values and count their occurance"
   ]
  },
  {
   "cell_type": "code",
   "execution_count": null,
   "metadata": {},
   "outputs": [],
   "source": [
    "rectangles_data['area'].value_counts()"
   ]
  },
  {
   "cell_type": "markdown",
   "metadata": {},
   "source": [
    "#### How to using other libraries (e.g. statistics)\n",
    "- Make sure you have a good reason to do this (i.e. be consistent)\n",
    "- Notice that the format is similar to using a built-in function (shown above)"
   ]
  },
  {
   "cell_type": "code",
   "execution_count": null,
   "metadata": {},
   "outputs": [],
   "source": [
    "import statistics\n",
    "statistics.mean(rectangles_data['area'])"
   ]
  },
  {
   "cell_type": "markdown",
   "metadata": {},
   "source": [
    "### Sorting dataframes\n",
    "- similiar to how the series was done above, but with a twist\n",
    "- https://pandas.pydata.org/docs/reference/api/pandas.DataFrame.sort_values.html\n",
    "- `df.sort_values()`\n",
    "    \n",
    "Our original, unsorted dataframe:"
   ]
  },
  {
   "cell_type": "code",
   "execution_count": null,
   "metadata": {},
   "outputs": [],
   "source": [
    "rectangles_data"
   ]
  },
  {
   "cell_type": "markdown",
   "metadata": {},
   "source": [
    "- sort by a single column's values"
   ]
  },
  {
   "cell_type": "code",
   "execution_count": null,
   "metadata": {},
   "outputs": [],
   "source": [
    "rectangles_data.sort_values(by='area')"
   ]
  },
  {
   "cell_type": "markdown",
   "metadata": {},
   "source": [
    "- sort by multiple columns\n",
    "    - consecutively done"
   ]
  },
  {
   "cell_type": "code",
   "execution_count": null,
   "metadata": {},
   "outputs": [],
   "source": [
    "## rows index 1 and 2 should switch due to length value\n",
    "rectangles_data.sort_values(by=['area', 'length'])"
   ]
  },
  {
   "cell_type": "markdown",
   "metadata": {},
   "source": [
    "### Filter by boolean operators"
   ]
  },
  {
   "cell_type": "code",
   "execution_count": null,
   "metadata": {},
   "outputs": [],
   "source": [
    "rectangles_data"
   ]
  },
  {
   "cell_type": "code",
   "execution_count": null,
   "metadata": {},
   "outputs": [],
   "source": [
    "rectangles_data['area'] > 7.0"
   ]
  },
  {
   "cell_type": "markdown",
   "metadata": {},
   "source": [
    "#### return a dataframe based on one boolean condition"
   ]
  },
  {
   "cell_type": "code",
   "execution_count": null,
   "metadata": {},
   "outputs": [],
   "source": [
    "rectangles_data[rectangles_data['area'] > 7.0]"
   ]
  },
  {
   "cell_type": "markdown",
   "metadata": {},
   "source": [
    "#### return a dataframe based on multiple boolean condition"
   ]
  },
  {
   "cell_type": "code",
   "execution_count": null,
   "metadata": {},
   "outputs": [],
   "source": [
    "rectangles_data[ (rectangles_data['area'] > 7.0) & (rectangles_data['area'] < 50.0) ]"
   ]
  },
  {
   "cell_type": "markdown",
   "metadata": {
    "collapsed": true
   },
   "source": [
    "---\n",
    "## Data from a csv-formatted file\n",
    "\n",
    "- The example CSV data file used below can be found at https://github.com/karlkirschner/2020_Scientific_Programming/blob/master/data_3d.csv"
   ]
  },
  {
   "cell_type": "code",
   "execution_count": null,
   "metadata": {},
   "outputs": [],
   "source": [
    "## For Colabs\n",
    "\n",
    "## In order to upload data\n",
    "\n",
    "#from google.colab import files\n",
    "#uploaded = files.upload()"
   ]
  },
  {
   "cell_type": "code",
   "execution_count": null,
   "metadata": {},
   "outputs": [],
   "source": [
    "!head data_3d.csv --lines=10"
   ]
  },
  {
   "cell_type": "markdown",
   "metadata": {},
   "source": [
    "For files without a header you can:\n",
    "1. have pandas assign an index value as the header (e.g. 1 2 3)"
   ]
  },
  {
   "cell_type": "code",
   "execution_count": null,
   "metadata": {},
   "outputs": [],
   "source": [
    "df = pd.read_csv('data_3d.csv', header=None, sep=',')\n",
    "df"
   ]
  },
  {
   "cell_type": "markdown",
   "metadata": {},
   "source": [
    "2. Read in a csv file, using the first row (i.e. 0) as the header, with a comma separator\n"
   ]
  },
  {
   "cell_type": "code",
   "execution_count": null,
   "metadata": {},
   "outputs": [],
   "source": [
    "df = pd.read_csv('data_3d.csv', header=0, sep=',')\n",
    "df"
   ]
  },
  {
   "cell_type": "markdown",
   "metadata": {},
   "source": [
    "3. Assign the headers yourself\n",
    "     - use `skiprows` if the first row labels are present, as in this example"
   ]
  },
  {
   "cell_type": "code",
   "execution_count": null,
   "metadata": {},
   "outputs": [],
   "source": [
    "df = pd.read_csv('data_3d.csv', sep=',', skiprows=1, names=['header 1', 'header 2', 'average'])\n",
    "df"
   ]
  },
  {
   "cell_type": "markdown",
   "metadata": {},
   "source": [
    "####  Save data to a new csv file, printing out to the first decimal place"
   ]
  },
  {
   "cell_type": "code",
   "execution_count": null,
   "metadata": {},
   "outputs": [],
   "source": [
    "df.to_csv('pandas_out.csv',\n",
    "          sep=',', float_format='%.1f',\n",
    "          index=False, encoding='utf-8')"
   ]
  },
  {
   "cell_type": "markdown",
   "metadata": {},
   "source": [
    "## Visualizing the data via Pandas plotting\n",
    "\n",
    "https://pandas.pydata.org/pandas-docs/version/0.23.4/generated/pandas.DataFrame.plot.html"
   ]
  },
  {
   "cell_type": "code",
   "execution_count": null,
   "metadata": {},
   "outputs": [],
   "source": [
    "df = pd.read_csv('data_3d.csv', header=0, sep=',')"
   ]
  },
  {
   "cell_type": "markdown",
   "metadata": {},
   "source": [
    "In Pandas v. 1.1.0, xlabel and ylabel was introduced:"
   ]
  },
  {
   "cell_type": "code",
   "execution_count": null,
   "metadata": {},
   "outputs": [],
   "source": [
    "## kind = line, box, hist, kde\n",
    "\n",
    "df.plot(x='Time', y=['Exp', 'Theory'], kind='line',\n",
    "        xlabel='X-Label', ylabel='Y-Label',\n",
    "        title=['Example Plot: Exp', 'Example Plot: Theory'], fontsize=16, subplots=True)"
   ]
  },
  {
   "cell_type": "markdown",
   "metadata": {},
   "source": [
    "An alternative way (also usuable with older Pandas version) that gives you a bit more control over the fontsize (e.g. for the axis label) and legend location:"
   ]
  },
  {
   "cell_type": "code",
   "execution_count": null,
   "metadata": {},
   "outputs": [],
   "source": [
    "graphs = df.plot(x='Time', y=['Exp', 'Theory'], kind='line', fontsize=16, subplots=True)\n",
    "\n",
    "graphs[0].set_title(\"Example Plot: Exp\", fontsize=16)\n",
    "graphs[0].set_ylabel(\"X-Label\", fontsize=16)\n",
    "graphs[0].legend(loc='upper left')\n",
    "\n",
    "graphs[1].set_title(\"Example Plot: Theory\", fontsize=16)\n",
    "graphs[1].set_xlabel(\"X-Label\", fontsize=16)\n",
    "graphs[1].set_ylabel(\"Y-Label\", fontsize=16)\n",
    "graphs[1].legend(loc='upper left')"
   ]
  },
  {
   "cell_type": "markdown",
   "metadata": {},
   "source": [
    "#### Combining multiple data lines onto one plot\n",
    "- demo by doing a rolling average on the above theory data and then plotting it."
   ]
  },
  {
   "cell_type": "code",
   "execution_count": null,
   "metadata": {},
   "outputs": [],
   "source": [
    "df['Exp Rolling'] = df['Exp'].rolling(window=4, win_type=None).mean()\n",
    "df['Theory Rolling'] = df['Theory'].rolling(window=4, win_type=None).mean()\n",
    "df"
   ]
  },
  {
   "cell_type": "code",
   "execution_count": null,
   "metadata": {},
   "outputs": [],
   "source": [
    "df.plot(x='Time', y=['Theory', 'Theory Rolling'], kind='line',\n",
    "        title='Example Plot', fontsize=16)"
   ]
  },
  {
   "cell_type": "markdown",
   "metadata": {},
   "source": [
    "---\n",
    "# Side Topics\n",
    "\n",
    "## Pandas to Latex\n",
    "https://pandas.pydata.org/pandas-docs/stable/reference/api/pandas.DataFrame.to_latex.html"
   ]
  },
  {
   "cell_type": "code",
   "execution_count": null,
   "metadata": {},
   "outputs": [],
   "source": [
    "print(df.to_latex(index=False))"
   ]
  },
  {
   "cell_type": "markdown",
   "metadata": {},
   "source": [
    "***\n",
    "## Import Data from a European data csv file\n",
    "(e.g. decimal usage: 10.135,11)"
   ]
  },
  {
   "cell_type": "code",
   "execution_count": null,
   "metadata": {},
   "outputs": [],
   "source": [
    "## CSV data file acan be found at\n",
    "## https://github.com/karlkirschner/2020_Scientific_Programming/blob/master/data_eu.csv\n",
    "\n",
    "## For Colabs\n",
    "\n",
    "## In order to upload data\n",
    "\n",
    "#from google.colab import files\n",
    "#uploaded = files.upload()"
   ]
  },
  {
   "cell_type": "code",
   "execution_count": null,
   "metadata": {},
   "outputs": [],
   "source": [
    "!head data_eu.csv --lines=10"
   ]
  },
  {
   "cell_type": "code",
   "execution_count": null,
   "metadata": {},
   "outputs": [],
   "source": [
    "df = pd.read_csv('data_eu.csv', decimal=',', thousands='.', sep=';')\n",
    "df.columns\n",
    "df['Value']"
   ]
  },
  {
   "cell_type": "code",
   "execution_count": null,
   "metadata": {},
   "outputs": [],
   "source": []
  }
 ],
 "metadata": {
  "kernelspec": {
   "display_name": "Python 3 (ipykernel)",
   "language": "python",
   "name": "python3"
  },
  "language_info": {
   "codemirror_mode": {
    "name": "ipython",
    "version": 3
   },
   "file_extension": ".py",
   "mimetype": "text/x-python",
   "name": "python",
   "nbconvert_exporter": "python",
   "pygments_lexer": "ipython3",
   "version": "3.8.10"
  }
 },
 "nbformat": 4,
 "nbformat_minor": 2
}
