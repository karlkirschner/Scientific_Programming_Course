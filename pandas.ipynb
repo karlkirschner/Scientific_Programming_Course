{
 "cells": [
  {
   "cell_type": "markdown",
   "metadata": {},
   "source": [
    "<div class=\"alert block alert-info alert\">\n",
    "\n",
    "# <center> Scientific Programming in Python\n",
    "## <center>Karl N. Kirschner<br>Bonn-Rhein-Sieg University of Applied Sciences<br>Sankt Augustin, Germany\n",
    "\n",
    "# <center> Pandas\n",
    "#### <center> (Reading in, manipulating, analyzing and visualizing datasets.)</center>\n",
    "\n",
    "<br><br>\n",
    "\n",
    "\"...providing fast, flexible, and expressive data structures designed to make working with “relational” or “labeled” data both easy and intuitive. It aims to be the fundamental high-level building block for practical, real-world data analysis in Python.\" -- http://pandas.pydata.org/pandas-docs/stable/\n",
    "\n",
    "- Tabular data with heterogeneously-typed columns (e.g., <b>CSV</b>, SQL, LibreOffice Calc, MS <b>Excel</b>)\n",
    "- Ordered and unordered time series data.\n",
    "- Arbitrary matrix data with row and column labels\n",
    "\n",
    "\n",
    "<b>Significant things to note</b>:\n",
    "- Allows you to <b>operate in any direction on your data</b> (i.e., by rows or by columns)\n",
    "    - Database experts will find this interesting\n",
    "        - SQL: manipulate data by rows (i.e., <b>row-focused</b>)\n",
    "        - Columnar databases: manipulate data by columns (i.e., <b>column-focused</b>)\n",
    "    - Operate data on data using 1-2 lines of code\n",
    "\n",
    "\n",
    "- Data structures\n",
    "    - <b>Series</b> - 1-dimensional data\n",
    "    - <b>DataFrame</b> - 2 dimensional data\n",
    "\n",
    "\n",
    "- <b>Index data</b>\n",
    "    - can organize your data quickly and logically (e.g., based on calendar dates\n",
    "    - can handle missing data\n",
    "\n",
    "\n",
    "- <b>Missing data</b>\n",
    "    - NaN\n",
    "    - mean\n",
    "    - fill forward and backward\n",
    "\n",
    "#### Basic Functionalities to Know\n",
    "\n",
    "1. Basics: https://pandas.pydata.org/pandas-docs/stable/user_guide/basics.html\n",
    "1. Head and tail: (https://pandas.pydata.org/pandas-docs/stable/user_guide/basics.html#head-and-tail)\n",
    "1. Attributes and underlying data (relevant for the numpy lecture): (https://pandas.pydata.org/pandas-docs/stable/user_guide/basics.html#attributes-and-underlying-data)\n",
    "1. Descriptive statistics: (https://pandas.pydata.org/pandas-docs/stable/user_guide/basics.html#descriptive-statistics)\n",
    "1. Reindexing and altering labels: (https://pandas.pydata.org/pandas-docs/stable/user_guide/basics.html#reindexing-and-altering-labels)\n",
    "1. Iteration: (https://pandas.pydata.org/pandas-docs/stable/user_guide/basics.html#iteration)\n",
    "1. Sorting: (https://pandas.pydata.org/pandas-docs/stable/user_guide/basics.html#sorting)\n",
    "1. Copying: (https://pandas.pydata.org/pandas-docs/stable/user_guide/basics.html#copying)\n",
    "1. dtypes: (https://pandas.pydata.org/pandas-docs/stable/user_guide/basics.html#dtypes)\n",
    "\n",
    "#### Underlying libraries (dependencies used but not clearly seen)\n",
    "1. Numpy\n",
    "2. Matplotlib\n",
    "\n",
    "<br>\n",
    "    \n",
    "#### Note about citations (i.e. referencing):\n",
    "\n",
    "<b>For citing Pandas</b>: (via https://pandas.pydata.org/about/citing.html - modify for your Pandas version)\n",
    "\n",
    "<b>Bibtex</b>\n",
    "\n",
    "@software{reback2020pandas,  \n",
    "    author       = {The pandas development team},  \n",
    "    title        = {pandas-dev/pandas: Pandas},  \n",
    "    month        = feb,  \n",
    "    year         = 2020,  \n",
    "    publisher    = {Zenodo},  \n",
    "    version      = {latest},  \n",
    "    doi          = {10.5281/zenodo.3509134},  \n",
    "    url          = {https://doi.org/10.5281/zenodo.3509134}  \n",
    "}\n",
    "\n",
    "@InProceedings{mckinney-proc-scipy-2010,  \n",
    "  author    = {{W}es {M}c{K}inney},  \n",
    "  title     = {{D}ata {S}tructures for {S}tatistical {C}omputing in {P}ython},  \n",
    "  booktitle = {{P}roceedings of the 9th {P}ython in {S}cience {C}onference},  \n",
    "  pages     = {56 - 61},  \n",
    "  year      = {2010},  \n",
    "  editor    = {{S}t\\'efan van der {W}alt and {J}arrod {M}illman},  \n",
    "  doi       = {10.25080/Majora-92bf1922-00a}  \n",
    "}\n",
    "\n",
    "<br>\n",
    "    \n",
    "#### Sources\n",
    "1. The pandas development team, pandas-dev/pandas: Pandas, Zenodo, 2020, https://doi.org/10.5281/zenodo.3509134, visited on May 15, 2023\n",
    "\n",
    "2. McKinney, W., 2010, June. Data structures for statistical computing in python. In Proceedings of the 9th Python in Science Conference, van der Walt, S. & Millman, J. (Eds.), vol. 445 pp. 51-56).\n",
    "\n",
    "3. Pandas contributors, https://pandas.pydata.org. Online; accessed on May 15, 2023.\n",
    "\n",
    "4. Wes McKinney, Python for Data Analysis; Data Wrangling with Pandas, Numpy and Ipython, O'Reilly, Second Edition, 2018."
   ]
  },
  {
   "cell_type": "markdown",
   "metadata": {},
   "source": [
    "## <center><font color='dodgerblue'>Top Python Libraries in the Field of Computational Chemistry (as of 2023)</font><br><br>(# of projects from 176 surveyed)</center>\n",
    "\n",
    "<div> <img src=\"00_images/top_compchem_libraries.png\" width=\"1000\"/> </div>"
   ]
  },
  {
   "cell_type": "markdown",
   "metadata": {},
   "source": [
    "<hr style=\"border:2px solid gray\"></hr>"
   ]
  },
  {
   "cell_type": "code",
   "execution_count": 2,
   "metadata": {},
   "outputs": [],
   "source": [
    "import pandas as pd"
   ]
  },
  {
   "cell_type": "markdown",
   "metadata": {},
   "source": [
    "## Pandas Series\n",
    "\n",
    "A series contains two components:\n",
    "1. a <b>one-dimensional array-like object</b> that contains a sequence of data values, and\n",
    "2. an associated array of <b>data labels</b> (i.e., an <b>'index'</b> that start at zero )\n",
    "\n",
    "#### List to Pandas Series\n",
    "<b>Goal</b>: Create a `pandas.core.series.Series` object that contains <b>5 integers</b>, with <b>index</b> values from <b>0-4</b>, using Panda's <b>`Series()`</b> function.\n",
    "\n",
    "- Pass a `list` to the `Series()` function: `[5, 10, 15, 20, 25]`\n",
    "- Use the default indexing (i.e. `index=None`)"
   ]
  },
  {
   "cell_type": "code",
   "execution_count": 3,
   "metadata": {},
   "outputs": [
    {
     "data": {
      "text/plain": [
       "0     5\n",
       "1    10\n",
       "2    15\n",
       "3    20\n",
       "4    25\n",
       "dtype: int64"
      ]
     },
     "execution_count": 3,
     "metadata": {},
     "output_type": "execute_result"
    }
   ],
   "source": [
    "series_data = pd.Series([5, 10, 15, 20, 25], index=None)\n",
    "series_data"
   ]
  },
  {
   "cell_type": "markdown",
   "metadata": {},
   "source": [
    "- Alternatively, assign the `index` specific values (e.g., using a <b>`list`</b> of <b>`str`</b>):"
   ]
  },
  {
   "cell_type": "code",
   "execution_count": 4,
   "metadata": {},
   "outputs": [
    {
     "data": {
      "text/plain": [
       "d                5\n",
       "e               10\n",
       "a               15\n",
       "simulation 1    20\n",
       "simulation 2    25\n",
       "dtype: int64"
      ]
     },
     "execution_count": 4,
     "metadata": {},
     "output_type": "execute_result"
    }
   ],
   "source": [
    "series_data = pd.Series([5, 10, 15, 20, 25], index=['d', 'e', 'a', 'simulation 1', 'simulation 2'])\n",
    "series_data"
   ]
  },
  {
   "cell_type": "markdown",
   "metadata": {},
   "source": [
    "- We can **alter** (e.g., **rename**) these indexes at any time using `index` and a `list`."
   ]
  },
  {
   "cell_type": "code",
   "execution_count": 5,
   "metadata": {},
   "outputs": [
    {
     "data": {
      "text/plain": [
       "Norway           5\n",
       "Italy           10\n",
       "Germany         15\n",
       "simulation 1    20\n",
       "simulation 2    25\n",
       "dtype: int64"
      ]
     },
     "execution_count": 5,
     "metadata": {},
     "output_type": "execute_result"
    }
   ],
   "source": [
    "series_data.index = ['Norway', 'Italy', 'Germany', 'simulation 1', 'simulation 2']\n",
    "series_data"
   ]
  },
  {
   "cell_type": "markdown",
   "metadata": {},
   "source": [
    "#### Accessing the Series\n",
    "- Access the values, using `values`:"
   ]
  },
  {
   "cell_type": "code",
   "execution_count": 6,
   "metadata": {},
   "outputs": [
    {
     "data": {
      "text/plain": [
       "array([ 5, 10, 15, 20, 25])"
      ]
     },
     "execution_count": 6,
     "metadata": {},
     "output_type": "execute_result"
    }
   ],
   "source": [
    "series_data.values"
   ]
  },
  {
   "cell_type": "markdown",
   "metadata": {},
   "source": [
    "- Access the index, using `index`:"
   ]
  },
  {
   "cell_type": "code",
   "execution_count": 7,
   "metadata": {},
   "outputs": [
    {
     "data": {
      "text/plain": [
       "Index(['Norway', 'Italy', 'Germany', 'simulation 1', 'simulation 2'], dtype='object')"
      ]
     },
     "execution_count": 7,
     "metadata": {},
     "output_type": "execute_result"
    }
   ],
   "source": [
    "series_data.index"
   ]
  },
  {
   "cell_type": "markdown",
   "metadata": {},
   "source": [
    "- Access specific data via an `index` <b>label</b> (i.e., <font color='DodgerBlue'><b>human readable</b></font>):"
   ]
  },
  {
   "cell_type": "code",
   "execution_count": 8,
   "metadata": {},
   "outputs": [
    {
     "data": {
      "text/plain": [
       "np.int64(20)"
      ]
     },
     "execution_count": 8,
     "metadata": {},
     "output_type": "execute_result"
    }
   ],
   "source": [
    "series_data['simulation 1']"
   ]
  },
  {
   "cell_type": "markdown",
   "metadata": {},
   "source": [
    "- Or by a position (more on this below in <b>Accessing and Selecting Data</b>):\n",
    "\n",
    "<b>Note</b>: The <font color='red'><b>deprecated</b></font> way that you will often see is: `series_data[3]`"
   ]
  },
  {
   "cell_type": "code",
   "execution_count": 9,
   "metadata": {},
   "outputs": [
    {
     "data": {
      "text/plain": [
       "np.int64(20)"
      ]
     },
     "execution_count": 9,
     "metadata": {},
     "output_type": "execute_result"
    }
   ],
   "source": [
    "series_data.iloc[3]"
   ]
  },
  {
   "cell_type": "markdown",
   "metadata": {},
   "source": [
    "#### Using operators"
   ]
  },
  {
   "cell_type": "code",
   "execution_count": null,
   "metadata": {},
   "outputs": [],
   "source": [
    "series_data**2"
   ]
  },
  {
   "cell_type": "markdown",
   "metadata": {},
   "source": [
    "##### Operations with missing data\n",
    "\n",
    "- What happens when one of the series has <b>missing data</b>?\n",
    "\n",
    "Let's create an <b>alternate Series</b> that has the <font color='DodgerBlue'><b>Italian data missing</b></font>, and then <b>add them</b> to the original series:"
   ]
  },
  {
   "cell_type": "code",
   "execution_count": 10,
   "metadata": {},
   "outputs": [
    {
     "data": {
      "text/plain": [
       "Germany          5\n",
       "Norway          10\n",
       "simulation 1    20\n",
       "simulation 2    25\n",
       "dtype: int64"
      ]
     },
     "execution_count": 10,
     "metadata": {},
     "output_type": "execute_result"
    }
   ],
   "source": [
    "series_data_missing = pd.Series([5, 10, 20, 25], index=['Germany', 'Norway', 'simulation 1', 'simulation 2'])\n",
    "series_data_missing"
   ]
  },
  {
   "cell_type": "code",
   "execution_count": 11,
   "metadata": {},
   "outputs": [
    {
     "data": {
      "text/plain": [
       "Germany         20.0\n",
       "Italy            NaN\n",
       "Norway          15.0\n",
       "simulation 1    40.0\n",
       "simulation 2    50.0\n",
       "dtype: float64"
      ]
     },
     "execution_count": 11,
     "metadata": {},
     "output_type": "execute_result"
    }
   ],
   "source": [
    "series_data_missing + series_data"
   ]
  },
  {
   "cell_type": "markdown",
   "metadata": {},
   "source": [
    "<font color='dodgerblue'><b>Notice</b></font>:\n",
    "1. The values are <b>correctly summed together</b> even though the two <b>lists' sequences are different</b> (i.e., the <b>Italian</b> values)\n",
    "    - ['Norway', 'Italy', <b>'Germany'</b>, 'simulation 1', 'simulation 2']  versus\n",
    "    - [<b>'Germany'</b>, 'Norway', 'simulation 1', 'simulation 2']\n",
    "\n",
    "\n",
    "2. The <b>missing index</b> results in a <b>`NaN`</b>"
   ]
  },
  {
   "cell_type": "markdown",
   "metadata": {},
   "source": [
    "#### Pandas Series to List\n",
    "Converting a Pandas Series to a regular `list`:\n",
    "- use `tolist()`: https://pandas.pydata.org/pandas-docs/stable/reference/api/pandas.Series.tolist.html"
   ]
  },
  {
   "cell_type": "code",
   "execution_count": 12,
   "metadata": {},
   "outputs": [
    {
     "data": {
      "text/plain": [
       "[5, 10, 15, 20, 25]"
      ]
     },
     "execution_count": 12,
     "metadata": {},
     "output_type": "execute_result"
    }
   ],
   "source": [
    "series_data.tolist()"
   ]
  },
  {
   "cell_type": "markdown",
   "metadata": {},
   "source": [
    "<div class=\"alert alert-block alert-warning\">\n",
    "<hr style=\"border:1.5px dashed gray\"></hr>\n",
    "\n",
    "## Extra Information\n",
    "### dtype\n",
    "- https://pandas.pydata.org/docs/user_guide/basics.html#basics-dtypes\n",
    "\n",
    "Pandas will default to `int64` and `float64` dtypes for numbers.\n",
    "\n",
    "However, notice that `series_data` and `series_data_missing` were `int64`, while `series_data + series_data_missing` resulted in `float64`. This is due to Pandas' built-in <b>upcasting</b>:\n",
    "    \n",
    "    \"Types can potentially be upcasted when combined with other types, meaning they are promoted from\n",
    "    the current type (e.g., int to float).\"\n",
    "    \n",
    "`NaN` can not be included in an `int64`, but only in `float64` (which is a NumPy limitation, I believe).\n",
    "<hr style=\"border:1.5px dashed gray\"></hr>"
   ]
  },
  {
   "cell_type": "markdown",
   "metadata": {},
   "source": [
    "#### Filtering and Sorting\n",
    "\n",
    "<font color='dodgerblue'><b>Filtering</font></b>\n",
    "- using a comparison operator - a <b>boolean expression</b>):"
   ]
  },
  {
   "cell_type": "code",
   "execution_count": 13,
   "metadata": {},
   "outputs": [
    {
     "data": {
      "text/plain": [
       "Norway           5\n",
       "Italy           10\n",
       "Germany         15\n",
       "simulation 1    20\n",
       "simulation 2    25\n",
       "dtype: int64"
      ]
     },
     "execution_count": 13,
     "metadata": {},
     "output_type": "execute_result"
    }
   ],
   "source": [
    "series_data"
   ]
  },
  {
   "cell_type": "code",
   "execution_count": 14,
   "metadata": {},
   "outputs": [
    {
     "data": {
      "text/plain": [
       "Norway          False\n",
       "Italy           False\n",
       "Germany          True\n",
       "simulation 1     True\n",
       "simulation 2     True\n",
       "dtype: bool"
      ]
     },
     "execution_count": 14,
     "metadata": {},
     "output_type": "execute_result"
    }
   ],
   "source": [
    "series_data >= 15"
   ]
  },
  {
   "cell_type": "markdown",
   "metadata": {},
   "source": [
    "- To return a filtered series:\n",
    "    - pass the resulting boolean values to the `Series` "
   ]
  },
  {
   "cell_type": "code",
   "execution_count": 15,
   "metadata": {},
   "outputs": [
    {
     "data": {
      "text/plain": [
       "Germany         15\n",
       "simulation 1    20\n",
       "simulation 2    25\n",
       "dtype: int64"
      ]
     },
     "execution_count": 15,
     "metadata": {},
     "output_type": "execute_result"
    }
   ],
   "source": [
    "series_data[series_data >= 15]"
   ]
  },
  {
   "cell_type": "markdown",
   "metadata": {},
   "source": [
    "<font color='dodgerblue'><b>Sorting</font></b>\n",
    "\n",
    "- Sort by the <b>index</b>: `sort_index()`"
   ]
  },
  {
   "cell_type": "code",
   "execution_count": 16,
   "metadata": {},
   "outputs": [
    {
     "data": {
      "text/plain": [
       "Germany         15\n",
       "Italy           10\n",
       "Norway           5\n",
       "simulation 1    20\n",
       "simulation 2    25\n",
       "dtype: int64"
      ]
     },
     "execution_count": 16,
     "metadata": {},
     "output_type": "execute_result"
    }
   ],
   "source": [
    "series_data.sort_index()"
   ]
  },
  {
   "cell_type": "markdown",
   "metadata": {},
   "source": [
    "<font color='dodgerblue'>Notice</font> the sorting goes by:\n",
    "1. <b>Capital</b> letters (i.e., German, Italy, Norway), and then by\n",
    "1. <b>Lowercase</b> letters (i.e., simulation 1, simulation 2)"
   ]
  },
  {
   "cell_type": "markdown",
   "metadata": {},
   "source": [
    "- Sort by the <b>data values</b>: `sort_values()`"
   ]
  },
  {
   "cell_type": "code",
   "execution_count": 17,
   "metadata": {},
   "outputs": [
    {
     "data": {
      "text/plain": [
       "Norway           5\n",
       "Italy           10\n",
       "Germany         15\n",
       "simulation 1    20\n",
       "simulation 2    25\n",
       "dtype: int64"
      ]
     },
     "execution_count": 17,
     "metadata": {},
     "output_type": "execute_result"
    }
   ],
   "source": [
    "series_data.sort_values()"
   ]
  },
  {
   "cell_type": "markdown",
   "metadata": {},
   "source": [
    "<hr style=\"border:2px solid gray\"></hr>\n",
    "\n",
    "## DataFrames\n",
    "- DataFrames represent a <b>rectangular, ordered</b> table of data (numbers, strings, etc.).\n",
    "\n",
    "- Conceptually, they are like a <b>spreadsheet</b>.\n",
    "\n",
    "<br>\n",
    "\n",
    "Let's create a simple user function that allows us to <font color='dodgerblue'>reset our example dataframe</font> as needed.\n",
    "\n",
    "#### DataFrame Creation\n",
    "\n",
    "<b>Goal</b>: Create a `pandas.core.frame.DataFrame` object that contains 5 entries of <b>bands</b>, <b>years</b>, <b>attendance</b> with <b>labeled indexes, using Panda's <b>`DataFrame`</b> function.\n",
    "\n",
    "- Pass a <b>`dictionary`</b> to the <b>`DataFrame`</b> function\n",
    "- Specify the indexing text (i.e. a `list` of `str`)"
   ]
  },
  {
   "cell_type": "code",
   "execution_count": 18,
   "metadata": {},
   "outputs": [],
   "source": [
    "def dict2dataframe():\n",
    "    '''Create a dataframe by hand using a dictionary that has equal lengths.'''\n",
    "\n",
    "    data_dict = {'group': ['Deichkind', 'Die Fantastischen Vier', 'Seeed', 'Paul van Dyk'],\n",
    "                 'year': [2015, 2106, 2017, 2018],\n",
    "                 'attendance (x1000)': [50, 60, 70, 90]}\n",
    "\n",
    "    dataframe = pd.DataFrame(data_dict, index=['band 1', 'band 2', 'band 3', 'band 4'])\n",
    "\n",
    "    return dataframe"
   ]
  },
  {
   "cell_type": "code",
   "execution_count": 19,
   "metadata": {},
   "outputs": [
    {
     "data": {
      "text/html": [
       "<div>\n",
       "<style scoped>\n",
       "    .dataframe tbody tr th:only-of-type {\n",
       "        vertical-align: middle;\n",
       "    }\n",
       "\n",
       "    .dataframe tbody tr th {\n",
       "        vertical-align: top;\n",
       "    }\n",
       "\n",
       "    .dataframe thead th {\n",
       "        text-align: right;\n",
       "    }\n",
       "</style>\n",
       "<table border=\"1\" class=\"dataframe\">\n",
       "  <thead>\n",
       "    <tr style=\"text-align: right;\">\n",
       "      <th></th>\n",
       "      <th>group</th>\n",
       "      <th>year</th>\n",
       "      <th>attendance (x1000)</th>\n",
       "    </tr>\n",
       "  </thead>\n",
       "  <tbody>\n",
       "    <tr>\n",
       "      <th>band 1</th>\n",
       "      <td>Deichkind</td>\n",
       "      <td>2015</td>\n",
       "      <td>50</td>\n",
       "    </tr>\n",
       "    <tr>\n",
       "      <th>band 2</th>\n",
       "      <td>Die Fantastischen Vier</td>\n",
       "      <td>2106</td>\n",
       "      <td>60</td>\n",
       "    </tr>\n",
       "    <tr>\n",
       "      <th>band 3</th>\n",
       "      <td>Seeed</td>\n",
       "      <td>2017</td>\n",
       "      <td>70</td>\n",
       "    </tr>\n",
       "    <tr>\n",
       "      <th>band 4</th>\n",
       "      <td>Paul van Dyk</td>\n",
       "      <td>2018</td>\n",
       "      <td>90</td>\n",
       "    </tr>\n",
       "  </tbody>\n",
       "</table>\n",
       "</div>"
      ],
      "text/plain": [
       "                         group  year  attendance (x1000)\n",
       "band 1               Deichkind  2015                  50\n",
       "band 2  Die Fantastischen Vier  2106                  60\n",
       "band 3                   Seeed  2017                  70\n",
       "band 4            Paul van Dyk  2018                  90"
      ]
     },
     "execution_count": 19,
     "metadata": {},
     "output_type": "execute_result"
    }
   ],
   "source": [
    "example_df = dict2dataframe()\n",
    "example_df"
   ]
  },
  {
   "cell_type": "markdown",
   "metadata": {},
   "source": [
    "- <b>Alter the indexes</b> (as done for Series).\n",
    "    - <font color='dodgerblue'>Notice</font> that index values <b>do not need to be unique</b> for each row\n",
    "        - This <b>can cause problems</b> (e.g., deleting rows using the index label).\n",
    "\n",
    "Assign `band 1` to the first <b>two index positions</b>"
   ]
  },
  {
   "cell_type": "code",
   "execution_count": 20,
   "metadata": {},
   "outputs": [
    {
     "data": {
      "text/html": [
       "<div>\n",
       "<style scoped>\n",
       "    .dataframe tbody tr th:only-of-type {\n",
       "        vertical-align: middle;\n",
       "    }\n",
       "\n",
       "    .dataframe tbody tr th {\n",
       "        vertical-align: top;\n",
       "    }\n",
       "\n",
       "    .dataframe thead th {\n",
       "        text-align: right;\n",
       "    }\n",
       "</style>\n",
       "<table border=\"1\" class=\"dataframe\">\n",
       "  <thead>\n",
       "    <tr style=\"text-align: right;\">\n",
       "      <th></th>\n",
       "      <th>group</th>\n",
       "      <th>year</th>\n",
       "      <th>attendance (x1000)</th>\n",
       "    </tr>\n",
       "  </thead>\n",
       "  <tbody>\n",
       "    <tr>\n",
       "      <th>band 1</th>\n",
       "      <td>Deichkind</td>\n",
       "      <td>2015</td>\n",
       "      <td>50</td>\n",
       "    </tr>\n",
       "    <tr>\n",
       "      <th>band 1</th>\n",
       "      <td>Die Fantastischen Vier</td>\n",
       "      <td>2106</td>\n",
       "      <td>60</td>\n",
       "    </tr>\n",
       "    <tr>\n",
       "      <th>band 3</th>\n",
       "      <td>Seeed</td>\n",
       "      <td>2017</td>\n",
       "      <td>70</td>\n",
       "    </tr>\n",
       "    <tr>\n",
       "      <th>band 4</th>\n",
       "      <td>Paul van Dyk</td>\n",
       "      <td>2018</td>\n",
       "      <td>90</td>\n",
       "    </tr>\n",
       "  </tbody>\n",
       "</table>\n",
       "</div>"
      ],
      "text/plain": [
       "                         group  year  attendance (x1000)\n",
       "band 1               Deichkind  2015                  50\n",
       "band 1  Die Fantastischen Vier  2106                  60\n",
       "band 3                   Seeed  2017                  70\n",
       "band 4            Paul van Dyk  2018                  90"
      ]
     },
     "execution_count": 20,
     "metadata": {},
     "output_type": "execute_result"
    }
   ],
   "source": [
    "example_df.index = ['band 1', 'band 1', 'band 3', 'band 4']\n",
    "example_df"
   ]
  },
  {
   "cell_type": "markdown",
   "metadata": {},
   "source": [
    "- <b>Alter the header names</b> using Pandas' `rename()`.\n",
    "    - Done using a <b>dictionary</b> (i.e., `{key: value}`)\n",
    "        - `key` = old name\n",
    "        - `value` = new name"
   ]
  },
  {
   "cell_type": "code",
   "execution_count": 21,
   "metadata": {},
   "outputs": [
    {
     "data": {
      "text/html": [
       "<div>\n",
       "<style scoped>\n",
       "    .dataframe tbody tr th:only-of-type {\n",
       "        vertical-align: middle;\n",
       "    }\n",
       "\n",
       "    .dataframe tbody tr th {\n",
       "        vertical-align: top;\n",
       "    }\n",
       "\n",
       "    .dataframe thead th {\n",
       "        text-align: right;\n",
       "    }\n",
       "</style>\n",
       "<table border=\"1\" class=\"dataframe\">\n",
       "  <thead>\n",
       "    <tr style=\"text-align: right;\">\n",
       "      <th></th>\n",
       "      <th>group</th>\n",
       "      <th>year</th>\n",
       "      <th>attendance</th>\n",
       "    </tr>\n",
       "  </thead>\n",
       "  <tbody>\n",
       "    <tr>\n",
       "      <th>band 1</th>\n",
       "      <td>Deichkind</td>\n",
       "      <td>2015</td>\n",
       "      <td>50</td>\n",
       "    </tr>\n",
       "    <tr>\n",
       "      <th>band 1</th>\n",
       "      <td>Die Fantastischen Vier</td>\n",
       "      <td>2106</td>\n",
       "      <td>60</td>\n",
       "    </tr>\n",
       "    <tr>\n",
       "      <th>band 3</th>\n",
       "      <td>Seeed</td>\n",
       "      <td>2017</td>\n",
       "      <td>70</td>\n",
       "    </tr>\n",
       "    <tr>\n",
       "      <th>band 4</th>\n",
       "      <td>Paul van Dyk</td>\n",
       "      <td>2018</td>\n",
       "      <td>90</td>\n",
       "    </tr>\n",
       "  </tbody>\n",
       "</table>\n",
       "</div>"
      ],
      "text/plain": [
       "                         group  year  attendance\n",
       "band 1               Deichkind  2015          50\n",
       "band 1  Die Fantastischen Vier  2106          60\n",
       "band 3                   Seeed  2017          70\n",
       "band 4            Paul van Dyk  2018          90"
      ]
     },
     "execution_count": 21,
     "metadata": {},
     "output_type": "execute_result"
    }
   ],
   "source": [
    "example_df.rename({'attendance (x1000)': 'attendance'}, axis='columns', inplace=True)\n",
    "example_df"
   ]
  },
  {
   "cell_type": "markdown",
   "metadata": {},
   "source": [
    "#### Inserting <font color='dodgerblue'>Columns</font>\n",
    "\n",
    "- Insert a column with specified values\n",
    "    - Using a `list`"
   ]
  },
  {
   "cell_type": "code",
   "execution_count": 22,
   "metadata": {},
   "outputs": [
    {
     "data": {
      "text/html": [
       "<div>\n",
       "<style scoped>\n",
       "    .dataframe tbody tr th:only-of-type {\n",
       "        vertical-align: middle;\n",
       "    }\n",
       "\n",
       "    .dataframe tbody tr th {\n",
       "        vertical-align: top;\n",
       "    }\n",
       "\n",
       "    .dataframe thead th {\n",
       "        text-align: right;\n",
       "    }\n",
       "</style>\n",
       "<table border=\"1\" class=\"dataframe\">\n",
       "  <thead>\n",
       "    <tr style=\"text-align: right;\">\n",
       "      <th></th>\n",
       "      <th>group</th>\n",
       "      <th>year</th>\n",
       "      <th>attendance</th>\n",
       "      <th>quality</th>\n",
       "    </tr>\n",
       "  </thead>\n",
       "  <tbody>\n",
       "    <tr>\n",
       "      <th>band 1</th>\n",
       "      <td>Deichkind</td>\n",
       "      <td>2015</td>\n",
       "      <td>50</td>\n",
       "      <td>good</td>\n",
       "    </tr>\n",
       "    <tr>\n",
       "      <th>band 1</th>\n",
       "      <td>Die Fantastischen Vier</td>\n",
       "      <td>2106</td>\n",
       "      <td>60</td>\n",
       "      <td>excellent</td>\n",
       "    </tr>\n",
       "    <tr>\n",
       "      <th>band 3</th>\n",
       "      <td>Seeed</td>\n",
       "      <td>2017</td>\n",
       "      <td>70</td>\n",
       "      <td>good</td>\n",
       "    </tr>\n",
       "    <tr>\n",
       "      <th>band 4</th>\n",
       "      <td>Paul van Dyk</td>\n",
       "      <td>2018</td>\n",
       "      <td>90</td>\n",
       "      <td>average</td>\n",
       "    </tr>\n",
       "  </tbody>\n",
       "</table>\n",
       "</div>"
      ],
      "text/plain": [
       "                         group  year  attendance    quality\n",
       "band 1               Deichkind  2015          50       good\n",
       "band 1  Die Fantastischen Vier  2106          60  excellent\n",
       "band 3                   Seeed  2017          70       good\n",
       "band 4            Paul van Dyk  2018          90    average"
      ]
     },
     "execution_count": 22,
     "metadata": {},
     "output_type": "execute_result"
    }
   ],
   "source": [
    "example_df['quality'] = ['good', 'excellent', 'good', 'average']\n",
    "example_df"
   ]
  },
  {
   "cell_type": "markdown",
   "metadata": {},
   "source": [
    "- Insert a column and fill it with `NaN`\n",
    "    - Using a `pd.Series()`"
   ]
  },
  {
   "cell_type": "code",
   "execution_count": 23,
   "metadata": {},
   "outputs": [
    {
     "data": {
      "text/html": [
       "<div>\n",
       "<style scoped>\n",
       "    .dataframe tbody tr th:only-of-type {\n",
       "        vertical-align: middle;\n",
       "    }\n",
       "\n",
       "    .dataframe tbody tr th {\n",
       "        vertical-align: top;\n",
       "    }\n",
       "\n",
       "    .dataframe thead th {\n",
       "        text-align: right;\n",
       "    }\n",
       "</style>\n",
       "<table border=\"1\" class=\"dataframe\">\n",
       "  <thead>\n",
       "    <tr style=\"text-align: right;\">\n",
       "      <th></th>\n",
       "      <th>group</th>\n",
       "      <th>year</th>\n",
       "      <th>attendance</th>\n",
       "      <th>quality</th>\n",
       "      <th>number of total concerts</th>\n",
       "    </tr>\n",
       "  </thead>\n",
       "  <tbody>\n",
       "    <tr>\n",
       "      <th>band 1</th>\n",
       "      <td>Deichkind</td>\n",
       "      <td>2015</td>\n",
       "      <td>50</td>\n",
       "      <td>good</td>\n",
       "      <td>NaN</td>\n",
       "    </tr>\n",
       "    <tr>\n",
       "      <th>band 1</th>\n",
       "      <td>Die Fantastischen Vier</td>\n",
       "      <td>2106</td>\n",
       "      <td>60</td>\n",
       "      <td>excellent</td>\n",
       "      <td>NaN</td>\n",
       "    </tr>\n",
       "    <tr>\n",
       "      <th>band 3</th>\n",
       "      <td>Seeed</td>\n",
       "      <td>2017</td>\n",
       "      <td>70</td>\n",
       "      <td>good</td>\n",
       "      <td>NaN</td>\n",
       "    </tr>\n",
       "    <tr>\n",
       "      <th>band 4</th>\n",
       "      <td>Paul van Dyk</td>\n",
       "      <td>2018</td>\n",
       "      <td>90</td>\n",
       "      <td>average</td>\n",
       "      <td>NaN</td>\n",
       "    </tr>\n",
       "  </tbody>\n",
       "</table>\n",
       "</div>"
      ],
      "text/plain": [
       "                         group  year  attendance    quality  \\\n",
       "band 1               Deichkind  2015          50       good   \n",
       "band 1  Die Fantastischen Vier  2106          60  excellent   \n",
       "band 3                   Seeed  2017          70       good   \n",
       "band 4            Paul van Dyk  2018          90    average   \n",
       "\n",
       "       number of total concerts  \n",
       "band 1                      NaN  \n",
       "band 1                      NaN  \n",
       "band 3                      NaN  \n",
       "band 4                      NaN  "
      ]
     },
     "execution_count": 23,
     "metadata": {},
     "output_type": "execute_result"
    }
   ],
   "source": [
    "example_df['number of total concerts'] = pd.Series(data='NaN')\n",
    "example_df"
   ]
  },
  {
   "cell_type": "markdown",
   "metadata": {},
   "source": [
    "- List the column labels\n",
    "    - Using `columns` function"
   ]
  },
  {
   "cell_type": "code",
   "execution_count": 24,
   "metadata": {},
   "outputs": [
    {
     "data": {
      "text/plain": [
       "Index(['group', 'year', 'attendance', 'quality', 'number of total concerts'], dtype='object')"
      ]
     },
     "execution_count": 24,
     "metadata": {},
     "output_type": "execute_result"
    }
   ],
   "source": [
    "example_df.columns"
   ]
  },
  {
   "cell_type": "markdown",
   "metadata": {},
   "source": [
    "- List the index labels\n",
    "    - Using `index` function"
   ]
  },
  {
   "cell_type": "code",
   "execution_count": 25,
   "metadata": {},
   "outputs": [
    {
     "data": {
      "text/plain": [
       "Index(['band 1', 'band 1', 'band 3', 'band 4'], dtype='object')"
      ]
     },
     "execution_count": 25,
     "metadata": {},
     "output_type": "execute_result"
    }
   ],
   "source": [
    "example_df.index"
   ]
  },
  {
   "cell_type": "markdown",
   "metadata": {},
   "source": [
    "#### Inserting <font color='dodgerblue'>Rows</font>\n",
    "\n",
    "1. Create a Pandas Series\n",
    "\n",
    "2. Use `to_frame()` to convert a `Series` to `DataFrame`\n",
    "\n",
    "    - https://pandas.pydata.org/docs/reference/api/pandas.DatetimeIndex.to_frame.html?highlight=to_frame#pandas.DatetimeIndex.to_frame\n",
    "\n",
    "3. Use `transpose()` to transpose the `DataFrame` (think matrix operation)\n",
    "\n",
    "    - https://pandas.pydata.org/docs/reference/api/pandas.DataFrame.transpose.html?highlight=transpose#pandas.DataFrame.transpose\n",
    "\n",
    "4. Use `concat()` (concatenate) to combine them\n",
    "\n",
    "    - https://pandas.pydata.org/docs/reference/api/pandas.concat.html?highlight=concat#pandas.concat\n",
    "    - `axis='rows'` (or `axis=0`)"
   ]
  },
  {
   "cell_type": "code",
   "execution_count": 26,
   "metadata": {},
   "outputs": [
    {
     "data": {
      "text/html": [
       "<div>\n",
       "<style scoped>\n",
       "    .dataframe tbody tr th:only-of-type {\n",
       "        vertical-align: middle;\n",
       "    }\n",
       "\n",
       "    .dataframe tbody tr th {\n",
       "        vertical-align: top;\n",
       "    }\n",
       "\n",
       "    .dataframe thead th {\n",
       "        text-align: right;\n",
       "    }\n",
       "</style>\n",
       "<table border=\"1\" class=\"dataframe\">\n",
       "  <thead>\n",
       "    <tr style=\"text-align: right;\">\n",
       "      <th></th>\n",
       "      <th>group</th>\n",
       "      <th>year</th>\n",
       "      <th>attendance</th>\n",
       "      <th>quality</th>\n",
       "      <th>number of total concerts</th>\n",
       "    </tr>\n",
       "  </thead>\n",
       "  <tbody>\n",
       "    <tr>\n",
       "      <th>0</th>\n",
       "      <td>Deichkind</td>\n",
       "      <td>2015</td>\n",
       "      <td>50</td>\n",
       "      <td>good</td>\n",
       "      <td>NaN</td>\n",
       "    </tr>\n",
       "    <tr>\n",
       "      <th>1</th>\n",
       "      <td>Die Fantastischen Vier</td>\n",
       "      <td>2106</td>\n",
       "      <td>60</td>\n",
       "      <td>excellent</td>\n",
       "      <td>NaN</td>\n",
       "    </tr>\n",
       "    <tr>\n",
       "      <th>2</th>\n",
       "      <td>Seeed</td>\n",
       "      <td>2017</td>\n",
       "      <td>70</td>\n",
       "      <td>good</td>\n",
       "      <td>NaN</td>\n",
       "    </tr>\n",
       "    <tr>\n",
       "      <th>3</th>\n",
       "      <td>Paul van Dyk</td>\n",
       "      <td>2018</td>\n",
       "      <td>90</td>\n",
       "      <td>average</td>\n",
       "      <td>NaN</td>\n",
       "    </tr>\n",
       "    <tr>\n",
       "      <th>4</th>\n",
       "      <td>Scorpions</td>\n",
       "      <td>1965</td>\n",
       "      <td>100</td>\n",
       "      <td>NaN</td>\n",
       "      <td>NaN</td>\n",
       "    </tr>\n",
       "  </tbody>\n",
       "</table>\n",
       "</div>"
      ],
      "text/plain": [
       "                    group  year attendance    quality number of total concerts\n",
       "0               Deichkind  2015         50       good                      NaN\n",
       "1  Die Fantastischen Vier  2106         60  excellent                      NaN\n",
       "2                   Seeed  2017         70       good                      NaN\n",
       "3            Paul van Dyk  2018         90    average                      NaN\n",
       "4               Scorpions  1965        100        NaN                      NaN"
      ]
     },
     "execution_count": 26,
     "metadata": {},
     "output_type": "execute_result"
    }
   ],
   "source": [
    "new_band = pd.Series({'group':'Scorpions',\n",
    "                      'year':1965,\n",
    "                      'attendance':100})\n",
    "\n",
    "example_df = pd.concat([example_df, new_band.to_frame().transpose()], axis='rows', ignore_index=True)\n",
    "\n",
    "example_df"
   ]
  },
  {
   "cell_type": "markdown",
   "metadata": {},
   "source": [
    "<font color='dodgerblue'>Notice</font>:\n",
    "1. How the `index` change to integers.\n",
    "2. How `NaN` is added to the columns not specified (e.g., to `quality`)"
   ]
  },
  {
   "cell_type": "markdown",
   "metadata": {},
   "source": [
    "### Dropping data entries\n",
    "- Pandas' `drop()` function will <b>drop columns</b> and <b>rows</b> using the <b>`axis`</b> keyword\n",
    "    - `axis='rows'` ;`axis=0` ; `axis='index'`\n",
    "    - `axis='columns'` ; `axis=1`"
   ]
  },
  {
   "cell_type": "markdown",
   "metadata": {},
   "source": [
    "#### Removing columns\n",
    "- Use `drop()`\n",
    "    - https://pandas.pydata.org/pandas-docs/stable/reference/api/pandas.DataFrame.drop.html\n",
    "- `axis='columns'` (or `axis=1`)"
   ]
  },
  {
   "cell_type": "code",
   "execution_count": null,
   "metadata": {},
   "outputs": [],
   "source": [
    "example_df = example_df.drop(['year', 'attendance'], axis='columns')\n",
    "example_df"
   ]
  },
  {
   "cell_type": "markdown",
   "metadata": {},
   "source": [
    "#### Removing rows\n",
    "- Use `drop()`\n",
    "- `axis='index'` (or `axis='rows'`, `axis=0`) "
   ]
  },
  {
   "cell_type": "code",
   "execution_count": null,
   "metadata": {},
   "outputs": [],
   "source": [
    "example_df = example_df.drop([0, 1], axis='index')\n",
    "example_df"
   ]
  },
  {
   "cell_type": "markdown",
   "metadata": {},
   "source": [
    "<font color='dodgerblue'><b>Note</b></font>\n",
    "- If the `index` were `str` (e.g., <b>band 1</b>, <b>band 2</b>), then we could do `example_df.drop(['band 1', 'band 2'], axis='index')`."
   ]
  },
  {
   "cell_type": "markdown",
   "metadata": {},
   "source": [
    "- What happens if you have rows with the <font color='dodgerblue'>same</font> `index`?\n",
    "\n",
    "Let's reset, and set <b>two indexes</b> to `band 3`:"
   ]
  },
  {
   "cell_type": "code",
   "execution_count": null,
   "metadata": {},
   "outputs": [],
   "source": [
    "example_df = dict2dataframe()\n",
    "example_df.index = ['band 1', 'band 3', 'band 3', 'band 4']\n",
    "example_df"
   ]
  },
  {
   "cell_type": "markdown",
   "metadata": {},
   "source": [
    "`drop()` the `band 3` index"
   ]
  },
  {
   "cell_type": "code",
   "execution_count": null,
   "metadata": {},
   "outputs": [],
   "source": [
    "example_df = example_df.drop(['band 3'])\n",
    "example_df"
   ]
  },
  {
   "cell_type": "markdown",
   "metadata": {},
   "source": [
    "<hr style=\"border:2px solid gray\"></hr>\n",
    "\n",
    "## Accessing and Selecting Data\n",
    "All of the following methods are ways to <font color='dodgerblue'><b>access</b></font> (and <b>modify</b>) data within a <b>`DataFrame`<b/>.\n",
    "\n",
    "There are many ways to access data (`df`: `DataFrame`)\n",
    "- `df[]`: Standard brackets\n",
    "- `df.loc[]`: Access data by label (name)\n",
    "    - https://pandas.pydata.org/docs/reference/api/pandas.DataFrame.loc.html\n",
    "- `df.iloc[]`: Access data by index (integer) position\n",
    "    - https://pandas.pydata.org/docs/reference/api/pandas.DataFrame.iloc.html#pandas.DataFrame.iloc\n"
   ]
  },
  {
   "cell_type": "markdown",
   "metadata": {},
   "source": [
    "| Method | Purpose | Key Syntax Examples |\n",
    "| :--- | :--- | :--- |\n",
    "| **`df[]`** (Standard Brackets) | Single column selection by label        | `df['col_name']` |\n",
    "|                                | Multiple columns selection by label     | `df[['col_name', 'col_name']]` | \n",
    "|                                | Row - boolean filtering by label        | `df[df['col_name'] > 10]`|\n",
    "|                                | Row - slicing by position (index or integer position)       | `df[index_position:index_position]` |\n",
    "|                                | Row - slicing by label                  | `df['index_label':'index_label']` |\n",
    "| **`.loc[]`**                   | Label acess                             | `df.loc['index_label', 'col_label']` |\n",
    "|                                |                                         | `df.loc[['r1', 'r2'], :]` (Select specific rows, all columns) |\n",
    "| **`.iloc[]`**                  | Position (index) access                 | `df.iloc[index_position, col_position]` |\n",
    "|                                |                                         | `df.iloc[0:5, [1, 3]]` (Slicing rows and list of columns) |"
   ]
  },
  {
   "cell_type": "markdown",
   "metadata": {},
   "source": [
    "- Reset the example DataFrame"
   ]
  },
  {
   "cell_type": "code",
   "execution_count": null,
   "metadata": {},
   "outputs": [],
   "source": [
    "example_df = dict2dataframe()\n",
    "example_df"
   ]
  },
  {
   "cell_type": "markdown",
   "metadata": {},
   "source": [
    "#### Standard Brackets with Slicing\n",
    "\n",
    "<font color='dodgerblue'><b>Access Everything</b></font>"
   ]
  },
  {
   "cell_type": "code",
   "execution_count": null,
   "metadata": {},
   "outputs": [],
   "source": [
    "example_df[:]"
   ]
  },
  {
   "cell_type": "markdown",
   "metadata": {},
   "source": [
    "<font color='dodgerblue'><b>Access Rows</b></font>\n",
    "\n",
    "- Using slicing (`:`) and labels \n",
    "    - Labels must be given in proper sequence (e.g., `'band 1':'band 3'`)\n",
    "    - Note, if you only wanted a single row, you would do: `example_df['band 1':'band 1']`"
   ]
  },
  {
   "cell_type": "code",
   "execution_count": null,
   "metadata": {},
   "outputs": [],
   "source": [
    "example_df['band 1':'band 3']"
   ]
  },
  {
   "cell_type": "markdown",
   "metadata": {},
   "source": [
    "- Using slicing (`:`) and index position:"
   ]
  },
  {
   "cell_type": "code",
   "execution_count": null,
   "metadata": {},
   "outputs": [],
   "source": [
    "example_df[0:3]"
   ]
  },
  {
   "cell_type": "markdown",
   "metadata": {},
   "source": [
    "#### `.loc[]` and `.iloc[]` and Usage\n",
    "\n",
    "- Accessing a single cell via labels: `.loc['index_label', 'col_label']`"
   ]
  },
  {
   "cell_type": "code",
   "execution_count": null,
   "metadata": {},
   "outputs": [],
   "source": [
    "example_df.loc['band 3', 'group']"
   ]
  },
  {
   "cell_type": "markdown",
   "metadata": {},
   "source": [
    "- Accessing a single cell via index position: `.iloc[index_position, col_position]`"
   ]
  },
  {
   "cell_type": "code",
   "execution_count": null,
   "metadata": {},
   "outputs": [],
   "source": [
    "example_df.iloc[2, 0]"
   ]
  },
  {
   "cell_type": "markdown",
   "metadata": {},
   "source": [
    "- Using `.loc[[], :]` (double brackets) to access specific rows and all columns (via `:`)\n",
    "    - **Note**: \"short-hand notation\" works too (i.e., `.loc[[]]`)\n",
    "\n",
    "<font color='dodgerblue'>Notice</font> how we skip `band 2` in the following, and thus it is <b>not a range</b>."
   ]
  },
  {
   "cell_type": "code",
   "execution_count": null,
   "metadata": {},
   "outputs": [],
   "source": [
    "example_df.loc[['band 1', 'band 3'], :]"
   ]
  },
  {
   "cell_type": "markdown",
   "metadata": {},
   "source": [
    "<font color='dodgerblue'><b>Accessing columns (by label)</b></font>\n",
    "\n",
    "- Single column by label\n",
    "    - Returns a Pandas `Series`"
   ]
  },
  {
   "cell_type": "code",
   "execution_count": null,
   "metadata": {},
   "outputs": [],
   "source": [
    "example_df['group']"
   ]
  },
  {
   "cell_type": "markdown",
   "metadata": {},
   "source": [
    "- Multiple columns by labels\n",
    "    - the double `[[ ]]` (i.e., passing a `list` to columns)\n",
    "        - Returns a Pandas dataframe)"
   ]
  },
  {
   "cell_type": "code",
   "execution_count": null,
   "metadata": {},
   "outputs": [],
   "source": [
    "example_df[['group', 'attendance (x1000)']]"
   ]
  },
  {
   "cell_type": "markdown",
   "metadata": {},
   "source": [
    "- Using `.loc[:, :]` using slicing of labels\n",
    "\n",
    "<font color='dodgerblue'><b>Notice</b></font>: the <b>rows</b> designation is left as `:`, followed by a `,` and then the <b>columns</b>"
   ]
  },
  {
   "cell_type": "code",
   "execution_count": null,
   "metadata": {},
   "outputs": [],
   "source": [
    "example_df.loc[:, 'group':'attendance (x1000)']"
   ]
  },
  {
   "cell_type": "markdown",
   "metadata": {},
   "source": [
    "Now, let's putting everything together\n",
    "- slice the rows (e.g. `'band 1':'band 3'`), and\n",
    "- slice the columns (e.g. `'group':'attendance (x1000)'`)"
   ]
  },
  {
   "cell_type": "code",
   "execution_count": null,
   "metadata": {},
   "outputs": [],
   "source": [
    "example_df.loc['band 1':'band 3', 'group':'attendance (x1000)']"
   ]
  },
  {
   "cell_type": "markdown",
   "metadata": {},
   "source": [
    "How about a **slice** and then a **list**:"
   ]
  },
  {
   "cell_type": "code",
   "execution_count": null,
   "metadata": {},
   "outputs": [],
   "source": [
    "example_df.loc['band 1':'band 3', ['group', 'attendance (x1000)']]"
   ]
  },
  {
   "cell_type": "markdown",
   "metadata": {},
   "source": [
    "#### Filtering Dataframes\n",
    "\n",
    "- one condition"
   ]
  },
  {
   "cell_type": "code",
   "execution_count": null,
   "metadata": {},
   "outputs": [],
   "source": [
    "example_df[(example_df['year'] > 2015)]"
   ]
  },
  {
   "cell_type": "markdown",
   "metadata": {},
   "source": [
    "Note: that you do not need the () in the above statement, but it helps to make sense with the two condition example below.\n",
    "<br>\n",
    "\n",
    "- two conditions"
   ]
  },
  {
   "cell_type": "code",
   "execution_count": null,
   "metadata": {},
   "outputs": [],
   "source": [
    "example_df[ (example_df['year'] > 2015) & (example_df['attendance (x1000)'] <= 70) ]"
   ]
  },
  {
   "cell_type": "markdown",
   "metadata": {},
   "source": [
    "### Modifing a Value at a Specific Cell\n",
    "\n",
    "Now that we know how to access data within a `DataFrame`, we can modify it."
   ]
  },
  {
   "cell_type": "code",
   "execution_count": null,
   "metadata": {},
   "outputs": [],
   "source": [
    "example_df"
   ]
  },
  {
   "cell_type": "code",
   "execution_count": null,
   "metadata": {},
   "outputs": [],
   "source": [
    "example_df.loc['band 3', 'year'] = 2024\n",
    "example_df"
   ]
  },
  {
   "cell_type": "markdown",
   "metadata": {},
   "source": [
    "<font color='dodgerblue'><b>Notice</b></font>: We can also are adding a new column!"
   ]
  },
  {
   "cell_type": "code",
   "execution_count": null,
   "metadata": {},
   "outputs": [],
   "source": [
    "example_df.loc['band 3', 'number of total concerts'] = 10000\n",
    "example_df"
   ]
  },
  {
   "cell_type": "markdown",
   "metadata": {},
   "source": [
    "<hr style=\"border:2px solid gray\"></hr>\n",
    "\n",
    "## Essential Functions"
   ]
  },
  {
   "cell_type": "markdown",
   "metadata": {},
   "source": [
    "### Reminder about reordering the rows by their indexes\n",
    "\n",
    "- demonstrates what happens to a dataframe with multiple columns\n",
    "\n",
    "- `reindex`\n",
    "    - https://pandas.pydata.org/docs/reference/api/pandas.DataFrame.reindex.html?highlight=reindex#pandas.DataFrame.reindex"
   ]
  },
  {
   "cell_type": "code",
   "execution_count": null,
   "metadata": {},
   "outputs": [],
   "source": [
    "example_df = dict2dataframe()\n",
    "example_df"
   ]
  },
  {
   "cell_type": "code",
   "execution_count": null,
   "metadata": {},
   "outputs": [],
   "source": [
    "example_df = example_df.reindex(['band 3', 'band 4', 'band 1', 'band 2'])\n",
    "example_df"
   ]
  },
  {
   "cell_type": "markdown",
   "metadata": {},
   "source": [
    "### Factorize Categorical Data\n",
    "- This is something that is sometimes done when performing data analysis\n",
    "    - e.g., <b>machine learning</b>\n",
    "- `.factorize()`\n",
    "    - https://pandas.pydata.org/pandas-docs/stable/reference/api/pandas.factorize.html"
   ]
  },
  {
   "cell_type": "code",
   "execution_count": null,
   "metadata": {},
   "outputs": [],
   "source": [
    "example_df = dict2dataframe()\n",
    "\n",
    "example_df['quality'] = ['good', 'excellent', 'good', 'average']\n",
    "\n",
    "example_df"
   ]
  },
  {
   "cell_type": "code",
   "execution_count": null,
   "metadata": {},
   "outputs": [],
   "source": [
    "codes, uniques = example_df['quality'].factorize()"
   ]
  },
  {
   "cell_type": "code",
   "execution_count": null,
   "metadata": {},
   "outputs": [],
   "source": [
    "codes"
   ]
  },
  {
   "cell_type": "code",
   "execution_count": null,
   "metadata": {},
   "outputs": [],
   "source": [
    "uniques"
   ]
  },
  {
   "cell_type": "code",
   "execution_count": null,
   "metadata": {},
   "outputs": [],
   "source": [
    "example_df"
   ]
  },
  {
   "cell_type": "code",
   "execution_count": null,
   "metadata": {},
   "outputs": [],
   "source": [
    "example_df['quality_numeric'] = codes\n",
    "example_df"
   ]
  },
  {
   "cell_type": "markdown",
   "metadata": {},
   "source": [
    "### Iterate Over Rows\n",
    "- `.iterrows()`\n",
    "    - https://pandas.pydata.org/pandas-docs/stable/reference/api/pandas.DataFrame.iterrows.html#pandas-dataframe-iterrows"
   ]
  },
  {
   "cell_type": "code",
   "execution_count": null,
   "metadata": {},
   "outputs": [],
   "source": [
    "for index, row in example_df.iterrows():\n",
    "    print(f\"Index: {index} ; Group: {row['group']}\")"
   ]
  },
  {
   "cell_type": "markdown",
   "metadata": {},
   "source": [
    "<hr style=\"border:2px solid gray\"></hr>\n",
    "\n",
    "## Combining `DataFrames`\n",
    "Take the columns from different `DataFrames` and put them together into a single column\n",
    "\n",
    "### Using `.concat()`\n",
    "- https://pandas.pydata.org/pandas-docs/stable/reference/api/pandas.concat.html#pandas.concat\n",
    "\n",
    "<b>Example</b> - student grades on homework 1 and 2\n",
    "\n",
    "First, create the `DataFrames`:"
   ]
  },
  {
   "cell_type": "code",
   "execution_count": null,
   "metadata": {},
   "outputs": [],
   "source": [
    "homework_1_grades = pd.DataFrame({'student': [1, 2, 3, 4, 5, 6, 7, 8, 9, 10, 11, 12, 13],\n",
    "                                  'homework 1': [63.0, 76.0, 76.0,\n",
    "                                                 76.0, 0.0, 0.0, \n",
    "                                                 88.0, 86.0, 76.0,\n",
    "                                                 86.0, 70.0, 0.0, 80.0]})\n",
    "homework_1_grades"
   ]
  },
  {
   "cell_type": "markdown",
   "metadata": {},
   "source": [
    "- <b>Extra</b>: `.sample()` is used to randomize the rows\n",
    "    - https://pandas.pydata.org/docs/reference/api/pandas.DataFrame.sample.html?highlight=sample#pandas.DataFrame.sample"
   ]
  },
  {
   "cell_type": "code",
   "execution_count": null,
   "metadata": {},
   "outputs": [],
   "source": [
    "homework_2_grades = pd.DataFrame({'student': [1, 2, 3, 4, 5, 6, 7, 8, 9, 10, 11, 12, 13],\n",
    "                                  'homework 2': [70.0, 73.0, 91.0,\n",
    "                                                 89.0, 58.0, 0.0,\n",
    "                                                 77.0, 91.0, 86.0,\n",
    "                                                 78.0, 100.0, 61.5, 71.0]})\n",
    "\n",
    "homework_2_grades = homework_2_grades.sample(frac=1)\n",
    "\n",
    "homework_2_grades"
   ]
  },
  {
   "cell_type": "markdown",
   "metadata": {},
   "source": [
    "##### 1. Combine to create <b>one column</b> using `.concat()`:"
   ]
  },
  {
   "cell_type": "code",
   "execution_count": null,
   "metadata": {},
   "outputs": [],
   "source": [
    "new_df_concat = pd.concat([ homework_1_grades['homework 1'], homework_2_grades['homework 2'] ], axis='rows')\n",
    "new_df_concat"
   ]
  },
  {
   "cell_type": "markdown",
   "metadata": {},
   "source": [
    "<b>Result</b>: Creates a single column\n",
    "- A Panda <b>`Series`</b> is made\n",
    "- The <b>index ordering is preserved</b> from one dataset to the next"
   ]
  },
  {
   "cell_type": "markdown",
   "metadata": {},
   "source": [
    "##### 2. Combine to create <b>two columns</b> using `.concat()`:"
   ]
  },
  {
   "cell_type": "code",
   "execution_count": null,
   "metadata": {},
   "outputs": [],
   "source": [
    "new_df_concat = pd.concat([ homework_2_grades['homework 2'], homework_1_grades['homework 1'] ], axis='columns')\n",
    "new_df_concat"
   ]
  },
  {
   "cell_type": "markdown",
   "metadata": {},
   "source": [
    "- Results in a Pandas <b>DataFrame</b>\n",
    "- Indexes are <b>ordered</b> using the <b>first dataframe</b>\n",
    "- \n",
    "<font color='dodgerblue'>Notice</font> how the data is <b>aligned</b> by the <b>indexes</b>.\n",
    "\n",
    "You can do this for any <b>number of `DataFrames`</b>:"
   ]
  },
  {
   "cell_type": "code",
   "execution_count": null,
   "metadata": {},
   "outputs": [],
   "source": [
    "## New dataframe, but with one extra strudent homework added\n",
    "\n",
    "homework_3_grades = pd.DataFrame({'student': [1, 2, 3, 4, 5, 6, 7, 8, 9, 10, 11, 12, 13, 14],\n",
    "                                  'homework 3': [89.0, 58.0, 0.0,\n",
    "                                                 70.0, 73.0, 91.0,\n",
    "                                                 78.0, 100.0, 61.5,\n",
    "                                                 77.0, 91.0, 86.0, 71.0, 99.0]})\n",
    "\n",
    "homework_3_grades = homework_3_grades.sample(frac=1)\n",
    "\n",
    "homework_3_grades"
   ]
  },
  {
   "cell_type": "markdown",
   "metadata": {},
   "source": [
    "- One can also do a <b>sort</b> by the <b>index</b> using `.sort_index()` function:"
   ]
  },
  {
   "cell_type": "code",
   "execution_count": null,
   "metadata": {},
   "outputs": [],
   "source": [
    "new_df_concat = pd.concat([homework_2_grades['homework 2'],\n",
    "                           homework_1_grades['homework 1'],\n",
    "                           homework_3_grades['homework 3']],\n",
    "                          axis='columns')\n",
    "\n",
    "new_df_concat.sort_index(ascending=True, inplace=True)\n",
    "\n",
    "new_df_concat"
   ]
  },
  {
   "cell_type": "markdown",
   "metadata": {},
   "source": [
    "### Using `.merge()`\n",
    "- https://pandas.pydata.org/pandas-docs/stable/reference/api/pandas.merge.html#pandas.merge\n",
    "\n",
    "- <font color='dodgerblue'><b>Limitation</b></font>: combines only <b>2 `DataFrames`</b>\n",
    "- Combine based on <b>any specified column</b> or the index using <b>`on`</b> keyword\n",
    "- <b>Drops</b> the <b>rows</b> that are <b>not in common</b> (i.e., <font color='red'>student 13</font> from <font color='red'>homework 3</font>)"
   ]
  },
  {
   "cell_type": "code",
   "execution_count": null,
   "metadata": {},
   "outputs": [],
   "source": [
    "pd.merge(homework_1_grades, homework_3_grades, on='student')"
   ]
  },
  {
   "cell_type": "markdown",
   "metadata": {},
   "source": [
    "<hr style=\"border:2px solid gray\"></hr>\n",
    "\n",
    "## Math operators\n",
    "\n",
    "Let's perform some math on a `DataFrame`.\n",
    "\n",
    "Dataframe:\n",
    "- <b>5 rectangles</b> that are defined by\n",
    "    - length (m)\n",
    "    - height (m)"
   ]
  },
  {
   "cell_type": "code",
   "execution_count": null,
   "metadata": {},
   "outputs": [],
   "source": [
    "rectangles_dict = {'length': [0.1, 9.4, 6.2, 3.8, 9.4],\n",
    "                   'height': [8.7, 6.2, 9.4, 5.6, 3.3]}\n",
    "\n",
    "rectangles_data = pd.DataFrame(rectangles_dict,\n",
    "                               index=['Rect. 1', 'Rect. 2', 'Rect. 3', 'Rect. 4', 'Rect. 5'])\n",
    "\n",
    "rectangles_data"
   ]
  },
  {
   "cell_type": "markdown",
   "metadata": {},
   "source": [
    "#### Operate on all columns\n",
    "- convert them to centimeters\n",
    "- returns a dataframe"
   ]
  },
  {
   "cell_type": "code",
   "execution_count": null,
   "metadata": {},
   "outputs": [],
   "source": [
    "rectangles_data*100"
   ]
  },
  {
   "cell_type": "markdown",
   "metadata": {},
   "source": [
    "#### Operate on a single column\n",
    "- returns a series"
   ]
  },
  {
   "cell_type": "code",
   "execution_count": null,
   "metadata": {},
   "outputs": [],
   "source": [
    "rectangles_data['length']*100"
   ]
  },
  {
   "cell_type": "markdown",
   "metadata": {},
   "source": [
    "#### Operation using two columns (e.g., for the area of a rectangle)"
   ]
  },
  {
   "cell_type": "code",
   "execution_count": null,
   "metadata": {},
   "outputs": [],
   "source": [
    "rectangles_data['length'] * rectangles_data['height']"
   ]
  },
  {
   "cell_type": "markdown",
   "metadata": {},
   "source": [
    "#### Create a new `DataFrame` column based on the math using other columns"
   ]
  },
  {
   "cell_type": "code",
   "execution_count": null,
   "metadata": {},
   "outputs": [],
   "source": [
    "rectangles_data['area'] = rectangles_data['length'] * rectangles_data['height']\n",
    "rectangles_data"
   ]
  },
  {
   "cell_type": "markdown",
   "metadata": {},
   "source": [
    "### Descriptive statistics\n",
    "\n",
    "Using <b>python built-in functions</b> (e.g., max, min) on a Pandas dataframe:"
   ]
  },
  {
   "cell_type": "code",
   "execution_count": null,
   "metadata": {},
   "outputs": [],
   "source": [
    "max(rectangles_data['area'])"
   ]
  },
  {
   "cell_type": "code",
   "execution_count": null,
   "metadata": {},
   "outputs": [],
   "source": [
    "min(rectangles_data['area'])"
   ]
  },
  {
   "cell_type": "markdown",
   "metadata": {},
   "source": [
    "Notice above: how the dataframe is given within the parentheses."
   ]
  },
  {
   "cell_type": "markdown",
   "metadata": {},
   "source": [
    "Using <b>pandas functions</b>\n",
    "\n",
    "- count (https://pandas.pydata.org/pandas-docs/stable/reference/api/pandas.DataFrame.count.html)\n",
    "- sum (https://pandas.pydata.org/docs/reference/api/pandas.DataFrame.sum.html)\n",
    "- median (https://pandas.pydata.org/pandas-docs/stable/reference/api/pandas.DataFrame.median.html)\n",
    "- std (https://pandas.pydata.org/pandas-docs/stable/reference/api/pandas.DataFrame.std.html)\n",
    "- var (https://pandas.pydata.org/pandas-docs/stable/reference/api/pandas.DataFrame.var.html)\n",
    "- max (https://pandas.pydata.org/docs/reference/api/pandas.DataFrame.max.html)\n",
    "- min (https://pandas.pydata.org/docs/reference/api/pandas.DataFrame.min.html)\n",
    "- correlation analysis (https://pandas.pydata.org/docs/reference/api/pandas.DataFrame.corr.html)\n",
    "- and many more\n",
    "\n",
    "\n",
    "\n",
    "<b><font color='dodgerblue'>Notice</font> below</b> how <b>the dataframe is given first</b>, followed by the function (e.g., `df.max()`)\n",
    "\n",
    "On all dataframe columns:"
   ]
  },
  {
   "cell_type": "code",
   "execution_count": null,
   "metadata": {},
   "outputs": [],
   "source": [
    "rectangles_data.max()"
   ]
  },
  {
   "cell_type": "markdown",
   "metadata": {},
   "source": [
    "One a specific column:"
   ]
  },
  {
   "cell_type": "code",
   "execution_count": null,
   "metadata": {},
   "outputs": [],
   "source": [
    "rectangles_data['area'].max()"
   ]
  },
  {
   "cell_type": "markdown",
   "metadata": {},
   "source": [
    "`idxmin` and `idxmax`\n",
    "\n",
    "\"Return <b>index</b> of the first occurrence of maximum over requested axis.\"[1]\n",
    "\n",
    "1. https://pandas.pydata.org/pandas-docs/stable/reference/api/pandas.DataFrame.idxmax.html"
   ]
  },
  {
   "cell_type": "code",
   "execution_count": null,
   "metadata": {},
   "outputs": [],
   "source": [
    "rectangles_data"
   ]
  },
  {
   "cell_type": "code",
   "execution_count": null,
   "metadata": {},
   "outputs": [],
   "source": [
    "maximum_index = rectangles_data['area'].idxmax()\n",
    "maximum_index"
   ]
  },
  {
   "cell_type": "markdown",
   "metadata": {},
   "source": [
    "Using this index value, let's see the entire row as a dataframe:\n",
    "- slice approach\n",
    "- `loc` approach"
   ]
  },
  {
   "cell_type": "code",
   "execution_count": null,
   "metadata": {},
   "outputs": [],
   "source": [
    "# rectangles_data[maximum_index:maximum_index]\n",
    "\n",
    "rectangles_data.loc[maximum_index:maximum_index]"
   ]
  },
  {
   "cell_type": "markdown",
   "metadata": {},
   "source": [
    "<font color='dodgerblue'>Notice</font> that it is the <b>FIRST OCCURRENCE</b>\n",
    "- Returns the row with a length=9.4, width=6.2 and an area=58.28 (i.e., index = <b>'Rect. 2'</b>)\n",
    "- It does <b>NOT</b> return values for the rows that contain\n",
    "    - length=6.2, width=9.4 and an area=58.28 (i.e., index - <b>'Rect. 3'</b>)"
   ]
  },
  {
   "cell_type": "code",
   "execution_count": null,
   "metadata": {},
   "outputs": [],
   "source": [
    "rectangles_data['area'].count()"
   ]
  },
  {
   "cell_type": "code",
   "execution_count": null,
   "metadata": {},
   "outputs": [],
   "source": [
    "rectangles_data['area'].mean()"
   ]
  },
  {
   "cell_type": "code",
   "execution_count": null,
   "metadata": {},
   "outputs": [],
   "source": [
    "rectangles_data['area'].std()"
   ]
  },
  {
   "cell_type": "code",
   "execution_count": null,
   "metadata": {},
   "outputs": [],
   "source": [
    "print(f\"Mean area (with proper significant figures): \"\\\n",
    "      f\"{rectangles_data['area'].mean():0.1e} ± {rectangles_data['area'].std():0.1e}\")"
   ]
  },
  {
   "cell_type": "markdown",
   "metadata": {},
   "source": [
    "#### Sidenote: How to using other libraries (e.g., statistics)\n",
    "- Make sure you have a good reason to do this (i.e., be consistent and concise) since it adds overhead to your code."
   ]
  },
  {
   "cell_type": "code",
   "execution_count": null,
   "metadata": {},
   "outputs": [],
   "source": [
    "import statistics\n",
    "statistics.mean(rectangles_data['area'])"
   ]
  },
  {
   "cell_type": "markdown",
   "metadata": {},
   "source": [
    "### Unique values\n",
    "- using Pandas' `.unique()` function"
   ]
  },
  {
   "cell_type": "code",
   "execution_count": null,
   "metadata": {},
   "outputs": [],
   "source": [
    "rectangles_data['area'].unique()"
   ]
  },
  {
   "cell_type": "markdown",
   "metadata": {},
   "source": [
    "- <b>Unique values</b> and <b>count</b> their occurance using `.value_counts()`:"
   ]
  },
  {
   "cell_type": "code",
   "execution_count": null,
   "metadata": {},
   "outputs": [],
   "source": [
    "rectangles_data['area'].value_counts()"
   ]
  },
  {
   "cell_type": "markdown",
   "metadata": {},
   "source": [
    "### Sorting `DataFrames`\n",
    "- similar to how the series was done above, but with a twist\n",
    "- https://pandas.pydata.org/docs/reference/api/pandas.DataFrame.sort_values.html\n",
    "- `.sort_values()`\n",
    "\n",
    "Our original, unsorted `DataFrames`:"
   ]
  },
  {
   "cell_type": "code",
   "execution_count": null,
   "metadata": {},
   "outputs": [],
   "source": [
    "rectangles_data"
   ]
  },
  {
   "cell_type": "markdown",
   "metadata": {},
   "source": [
    "- sort by a single column's values"
   ]
  },
  {
   "cell_type": "code",
   "execution_count": null,
   "metadata": {},
   "outputs": [],
   "source": [
    "rectangles_data.sort_values(by='area')"
   ]
  },
  {
   "cell_type": "markdown",
   "metadata": {},
   "source": [
    "- sort by multiple columns\n",
    "    - consecutively done"
   ]
  },
  {
   "cell_type": "code",
   "execution_count": null,
   "metadata": {},
   "outputs": [],
   "source": [
    "rectangles_data.sort_values(by=['area', 'length'])"
   ]
  },
  {
   "cell_type": "markdown",
   "metadata": {
    "collapsed": true,
    "jupyter": {
     "outputs_hidden": true
    }
   },
   "source": [
    "<hr style=\"border:2px solid gray\"></hr>\n",
    "\n",
    "## Data from a csv-formatted file\n",
    "\n",
    "- The example CSV data file used below can be found at https://github.com/karlkirschner/2020_Scientific_Programming/blob/master/data_3d.csv"
   ]
  },
  {
   "cell_type": "code",
   "execution_count": null,
   "metadata": {},
   "outputs": [],
   "source": [
    "## For Colabs\n",
    "\n",
    "## In order to upload data\n",
    "\n",
    "#from google.colab import files\n",
    "#uploaded = files.upload()"
   ]
  },
  {
   "cell_type": "code",
   "execution_count": null,
   "metadata": {},
   "outputs": [],
   "source": [
    "!head data_3d.csv --lines=10"
   ]
  },
  {
   "cell_type": "markdown",
   "metadata": {},
   "source": [
    "For files without a header you can:\n",
    "1. have Pandas assign an <b>index value</b> as the <b>header</b> (e.g., 1 2 3)\n",
    " - this will cause 'Time', 'Exp' and 'Theory' to be placed in a row"
   ]
  },
  {
   "cell_type": "code",
   "execution_count": null,
   "metadata": {},
   "outputs": [],
   "source": [
    "df = pd.read_csv('data_3d.csv', header=None, sep=',')\n",
    "df"
   ]
  },
  {
   "cell_type": "markdown",
   "metadata": {},
   "source": [
    "2. Read in a csv file, using the <b>first row</b> (i.e., `0`) as the <b>header</b>"
   ]
  },
  {
   "cell_type": "code",
   "execution_count": null,
   "metadata": {},
   "outputs": [],
   "source": [
    "df = pd.read_csv('data_3d.csv', header=0, sep=',')\n",
    "df"
   ]
  },
  {
   "cell_type": "markdown",
   "metadata": {},
   "source": [
    "3. Assign the headers yourself\n",
    "     - use `skiprows` if the first row labels are present, as in this example"
   ]
  },
  {
   "cell_type": "code",
   "execution_count": null,
   "metadata": {},
   "outputs": [],
   "source": [
    "df = pd.read_csv('data_3d.csv', skiprows=1, names=['header 1', 'header 2', 'average'], sep=',')\n",
    "df"
   ]
  },
  {
   "cell_type": "markdown",
   "metadata": {},
   "source": [
    "####  Save data to a new csv file, printing out to the first decimal place"
   ]
  },
  {
   "cell_type": "code",
   "execution_count": null,
   "metadata": {},
   "outputs": [],
   "source": [
    "df.to_csv('pandas_out.csv',\n",
    "          sep=',', float_format='%.1f',\n",
    "          index=False, encoding='utf-8')"
   ]
  },
  {
   "cell_type": "markdown",
   "metadata": {},
   "source": [
    "<hr style=\"border:2px solid gray\"></hr>\n",
    "\n",
    "## Visualizing the data via Pandas plotting\n",
    "\n",
    "https://pandas.pydata.org/pandas-docs/version/0.23.4/generated/pandas.DataFrame.plot.html\n",
    "\n",
    "\n",
    "#### Types of plots\n",
    "\n",
    "The type of plot is specified through the pandas.DataFrame.plot's `kind` keyword.\n",
    "\n",
    "1. ‘line’ : line plot (default)\n",
    "1. ‘bar’ : vertical bar plot\n",
    "1. ‘barh’ : horizontal bar plot\n",
    "1. ‘hist’ : histogram\n",
    "1. ‘box’ : boxplot\n",
    "1. ‘kde’ : Kernel Density Estimation plot\n",
    "1. ‘density’ : same as ‘kde’\n",
    "1. ‘area’ : area plot\n",
    "1. ‘pie’ : pie plot\n",
    "1. ‘scatter’ : scatter plot\n",
    "1. ‘hexbin’ : hexbin plot"
   ]
  },
  {
   "cell_type": "code",
   "execution_count": null,
   "metadata": {},
   "outputs": [],
   "source": [
    "df = pd.read_csv('data_3d.csv', header=0, sep=',')\n",
    "df"
   ]
  },
  {
   "cell_type": "markdown",
   "metadata": {},
   "source": [
    "##### Adding `xlabel` and `ylabel`:"
   ]
  },
  {
   "cell_type": "code",
   "execution_count": null,
   "metadata": {},
   "outputs": [],
   "source": [
    "df.plot(x='Time', y='Exp', kind='scatter',\n",
    "        xlabel='Time (unit)', ylabel='Exp. (unit)',\n",
    "        title='Example Plot', fontsize=16)"
   ]
  },
  {
   "cell_type": "markdown",
   "metadata": {},
   "source": [
    "##### Plotting two columns"
   ]
  },
  {
   "cell_type": "code",
   "execution_count": null,
   "metadata": {},
   "outputs": [],
   "source": [
    "## The following is usable when `kind` = line, box, hist, kde, but not for scatter\n",
    "\n",
    "df.plot(x='Time', y=['Exp', 'Theory'], kind='line',\n",
    "        xlabel='X-Label', ylabel='Y-Label',\n",
    "        title=['Example Plot: Exp', 'Example Plot: Theory'], fontsize=16, subplots=True)"
   ]
  },
  {
   "cell_type": "markdown",
   "metadata": {},
   "source": [
    "An <b>alternative way</b> (also usable with older Pandas version) that gives you a bit <b>more control</b> over, for example\n",
    "1. the fontsize of different elements, for example\n",
    "    - axis label\n",
    "    - title\n",
    "1. legend location\n",
    "\n",
    "This is similar to how matplotlib works."
   ]
  },
  {
   "cell_type": "code",
   "execution_count": null,
   "metadata": {},
   "outputs": [],
   "source": [
    "graphs = df.plot(x='Time', y=['Exp', 'Theory'], kind='line', fontsize=16, subplots=True)\n",
    "\n",
    "graphs[0].set_title(\"Example Title 1\", fontsize=16)\n",
    "graphs[0].set_ylabel(\"Exp. (unit)\", fontsize=16)\n",
    "graphs[0].legend(loc='upper left')\n",
    "\n",
    "graphs[1].set_title(\"Example Title 2\", fontsize=16)\n",
    "graphs[1].set_xlabel(\"Time (unit)\", fontsize=16)\n",
    "graphs[1].set_ylabel(\"Theory (unit)\", fontsize=16)\n",
    "graphs[1].legend(loc='upper center')"
   ]
  },
  {
   "cell_type": "markdown",
   "metadata": {},
   "source": [
    "<div class=\"alert alert-block alert-warning\">\n",
    "<hr style=\"border:1.5px dashed gray\"></hr>\n",
    "\n",
    "## Moving averages (data smoothing)\n",
    "- https://en.wikipedia.org/wiki/Moving_average\n",
    "\n",
    "- rolling mean of data via pandas\n",
    "\n",
    "https://pandas.pydata.org/docs/reference/api/pandas.DataFrame.rolling.html?highlight=rolling#pandas.DataFrame.rolling"
   ]
  },
  {
   "cell_type": "code",
   "execution_count": null,
   "metadata": {},
   "outputs": [],
   "source": [
    "rectangles_data['area moving avg'] = rectangles_data['area'].rolling(window=2, win_type=None).mean()\n",
    "rectangles_data"
   ]
  },
  {
   "cell_type": "markdown",
   "metadata": {},
   "source": [
    "<div class=\"alert alert-block alert-warning\">\n",
    "<hr style=\"border:1.5px dashed gray\"></hr>\n",
    "\n",
    "## Pandas to Latex\n",
    "https://pandas.pydata.org/pandas-docs/stable/reference/api/pandas.DataFrame.to_latex.html"
   ]
  },
  {
   "cell_type": "code",
   "execution_count": null,
   "metadata": {},
   "outputs": [],
   "source": [
    "print(df.to_latex(index=False))"
   ]
  },
  {
   "cell_type": "markdown",
   "metadata": {},
   "source": [
    "<div class=\"alert alert-block alert-warning\">\n",
    "<hr style=\"border:1.5px dashed gray\"></hr>\n",
    "\n",
    "## Import Data from a European data csv file\n",
    "(e.g. decimal usage: 10.135,11)"
   ]
  },
  {
   "cell_type": "code",
   "execution_count": null,
   "metadata": {},
   "outputs": [],
   "source": [
    "## CSV data file acan be found at\n",
    "## https://github.com/karlkirschner/2020_Scientific_Programming/blob/master/data_eu.csv\n",
    "\n",
    "## For Colabs\n",
    "\n",
    "## In order to upload data\n",
    "\n",
    "#from google.colab import files\n",
    "#uploaded = files.upload()"
   ]
  },
  {
   "cell_type": "code",
   "execution_count": null,
   "metadata": {},
   "outputs": [],
   "source": [
    "!head data_eu.csv --lines=10"
   ]
  },
  {
   "cell_type": "code",
   "execution_count": null,
   "metadata": {},
   "outputs": [],
   "source": [
    "df = pd.read_csv('data_eu.csv', decimal=',', thousands='.', sep=';')\n",
    "df.columns\n",
    "df['Value']"
   ]
  }
 ],
 "metadata": {
  "kernelspec": {
   "display_name": "Python 3 (ipykernel)",
   "language": "python",
   "name": "python3"
  },
  "language_info": {
   "codemirror_mode": {
    "name": "ipython",
    "version": 3
   },
   "file_extension": ".py",
   "mimetype": "text/x-python",
   "name": "python",
   "nbconvert_exporter": "python",
   "pygments_lexer": "ipython3",
   "version": "3.13.2"
  }
 },
 "nbformat": 4,
 "nbformat_minor": 4
}
