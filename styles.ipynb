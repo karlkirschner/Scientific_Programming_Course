{
 "cells": [
  {
   "cell_type": "markdown",
   "metadata": {},
   "source": [
    "<div class=\"alert block alert-info alert\">\n",
    "\n",
    "# <center> Scientific Programming in Python\n",
    "\n",
    "## <center>Karl N. Kirschner<br>Bonn-Rhein-Sieg University of Applied Sciences<br>Sankt Augustin, Germany\n",
    "\n",
    "# <center> Coding Styles\n",
    "\n",
    "**Style Guides**:\n",
    "1. Our focus is Python Enhancement Proposal 8 (i.e. PEP 8; PEP8, PEP-8) [1, 2]\n",
    "\n",
    "\n",
    "2. A popular alternative: Google [3]\n",
    "<br><br>\n",
    "\n",
    "#### Sources\n",
    "1. Guido van Rossum, Barry Warsaw and Nick Coghlan, PEP 8 – Style Guide for Python Code, 05-Jul-2001, https://peps.python.org/pep-0008/, visited on May 1st, 2022.\n",
    "\n",
    "2. Jasmine Finer, How to Write Beautiful Python Code With PEP 8, https://realpython.com/python-pep8/, visited on May 1st, 2022.\n",
    "\n",
    "3. Google Style Guide, https://google.github.io/styleguide/pyguide.html, visited on May 1st, 2022.\n",
    "\n",
    "<hr style=\"border:2px solid gray\"></hr>"
   ]
  },
  {
   "cell_type": "markdown",
   "metadata": {},
   "source": [
    "## Why worry about style (and coding standards)?\n",
    "\n",
    "- Provides consistency\n",
    "    - mutliple, collaborating developers\n",
    "    - understanding a large code becomes easier\n",
    "- Help control code changes in the future\n",
    "- Improves readability \n",
    "- Improves debugging\n",
    "- Demonstrates professionalism (good for being  hired)\n",
    "\n",
    "\n",
    "Recall **The Zen of Python** (via `import this`)"
   ]
  },
  {
   "cell_type": "markdown",
   "metadata": {},
   "source": [
    "`import this`\n",
    "\n",
    "The Zen of Python, by Tim Peters\n",
    "\n",
    "1. **Beautiful is better than ugly.**\n",
    "2. Explicit is better than implicit.\n",
    "3. Simple is better than complex.\n",
    "4. Complex is better than complicated.\n",
    "5. Flat is better than nested.\n",
    "6. **Sparse is better than dense.**\n",
    "7. **Readability counts.**\n",
    "8. Special cases aren't special enough to break the rules.\n",
    "9. Although practicality beats purity.\n",
    "10. **Errors should never pass silently.**\n",
    "11. Unless explicitly silenced.\n",
    "12. In the face of ambiguity, refuse the temptation to guess.\n",
    "13. There should be one-- and preferably only one --obvious way to do it.\n",
    "14. Although that way may not be obvious at first unless you're Dutch.\n",
    "15. Now is better than never.\n",
    "16. Although never is often better than *right* now.\n",
    "17. If the implementation is hard to explain, it's a bad idea.\n",
    "18. If the implementation is easy to explain, it may be a good idea.\n",
    "19. Namespaces are one honking great idea -- let's do more of those!\n"
   ]
  },
  {
   "cell_type": "markdown",
   "metadata": {},
   "source": [
    "## A programmer should break with a style when ...\n",
    "\n",
    "1. ... staying with the rules would **make the code less readable**, or\n",
    "\n",
    "2. ... the **surrounding code** does **not** follow a given rule (e.g., for historic code development reasons).\n",
    "    - However, consider this an <font color='dodgerblue'>opportunity for cleaning up the code</font>"
   ]
  },
  {
   "cell_type": "markdown",
   "metadata": {},
   "source": [
    "<hr style=\"border:2px solid gray\"></hr>\n",
    "\n",
    "## PEP8 Style\n",
    "- There is a lot of recommendations in PEP8 to learn, but here are the <font color='dodgerblue'>highlights</font> that you should initially focus upon.)\n",
    "- Most of this has already been demonstrated in lectures"
   ]
  },
  {
   "cell_type": "markdown",
   "metadata": {},
   "source": [
    "### Simple Indentations\n",
    "- 4 **spaces** (not invisible tabs) per indentation level (your IDEs should allow you to specify this)\n",
    "- Python3 **does not allow mixing** tabs and spaces for indentation  --> in other words, you must choose to use either tabs or space for your indents"
   ]
  },
  {
   "cell_type": "code",
   "execution_count": null,
   "metadata": {},
   "outputs": [],
   "source": [
    "for number in [1, 2, 3, 4]:\n",
    "    print(number)\n",
    "\n",
    "print()\n",
    "\n",
    "for letter in ['A', 'b', 'c', 'D']:\n",
    "    print(letter)"
   ]
  },
  {
   "cell_type": "markdown",
   "metadata": {},
   "source": [
    "- Recall that indentations are important for Python\n",
    "\n",
    "Compare to above for loops and how the blank line is printed, which is due to the indentation of the `print()` line."
   ]
  },
  {
   "cell_type": "code",
   "execution_count": null,
   "metadata": {},
   "outputs": [],
   "source": [
    "for number in [1, 2, 3, 4]:\n",
    "    print(number)\n",
    "\n",
    "    print()\n",
    "\n",
    "for letter in ['A', 'b', 'c', 'D']:\n",
    "    print(letter)"
   ]
  },
  {
   "cell_type": "markdown",
   "metadata": {},
   "source": [
    "### Hanging indentations\n",
    "\n",
    "The following are example of how I would recommend managing the hanging indentations.\n",
    "\n",
    "- Aligned with other variables with **IMPLICIT CONTINUATION of a statement**\n",
    "\n",
    "#### Example 1"
   ]
  },
  {
   "cell_type": "code",
   "execution_count": null,
   "metadata": {},
   "outputs": [],
   "source": [
    "month_names = ['Januari', 'Februari', 'Maart',      # These are the\n",
    "               'April',   'Mei',      'Juni',       # Dutch names\n",
    "               'Juli',    'Augustus', 'September',  # for the months\n",
    "               'Oktober', 'November', 'December']   # of the year"
   ]
  },
  {
   "cell_type": "markdown",
   "metadata": {},
   "source": [
    "#### Example 2"
   ]
  },
  {
   "cell_type": "code",
   "execution_count": null,
   "metadata": {},
   "outputs": [],
   "source": [
    "def function_with_long_name(var_one, var_two, var_three,\n",
    "                            var_four):\n",
    "    ''' Example 2 for managing hanging indentations.'''\n",
    "\n",
    "    print(var_one, var_two, var_three, var_four)\n",
    "\n",
    "\n",
    "word_one = 'Hello'\n",
    "word_two = 'how'\n",
    "word_three = 'are'\n",
    "word_four = 'you?'\n",
    "\n",
    "example_variable_with_long_name = function_with_long_name(var_one=word_one,\n",
    "                                                          var_two=word_two,\n",
    "                                                          var_three=word_three,\n",
    "                                                          var_four=word_four)"
   ]
  },
  {
   "cell_type": "markdown",
   "metadata": {},
   "source": [
    "- Or reconsider what your are naming things (e.g. reduce the variable's name lengths):"
   ]
  },
  {
   "cell_type": "code",
   "execution_count": null,
   "metadata": {},
   "outputs": [],
   "source": [
    "example_var_name = function_with_long_name(var_one=word_one, var_two=word_two,\n",
    "                                           var_three=word_three, var_four=word_four)"
   ]
  },
  {
   "cell_type": "markdown",
   "metadata": {},
   "source": [
    "#### Additonal approaches (I personally disfavor this approach):\n",
    "- An additional level of 4 spaces "
   ]
  },
  {
   "cell_type": "code",
   "execution_count": null,
   "metadata": {},
   "outputs": [],
   "source": [
    "def function_with_long_name(\n",
    "        var_one,\n",
    "        var_two,\n",
    "        var_three,\n",
    "        var_four):\n",
    "    print(var_one, var_two, var_three, var_four)"
   ]
  },
  {
   "cell_type": "markdown",
   "metadata": {},
   "source": [
    "Compare the above with the following **incorrect way** (i.e. it looks like a `for loop`):"
   ]
  },
  {
   "cell_type": "code",
   "execution_count": null,
   "metadata": {},
   "outputs": [],
   "source": [
    "def function_with_long_name(\n",
    "    var_one,\n",
    "    var_two,\n",
    "    var_three,\n",
    "    var_four):\n",
    "    print(var_one, var_two, var_three, var_four)"
   ]
  },
  {
   "cell_type": "markdown",
   "metadata": {},
   "source": [
    "#### Aligning math operators\n",
    "\n",
    "**Correct way**:"
   ]
  },
  {
   "cell_type": "code",
   "execution_count": null,
   "metadata": {},
   "outputs": [],
   "source": [
    "var_one = 12.0\n",
    "var_two = 9.0\n",
    "var_three = 4.5\n",
    "var_four = 1.0\n",
    "\n",
    "income = (var_one\n",
    "          + var_two\n",
    "          - var_three\n",
    "          - var_four)"
   ]
  },
  {
   "cell_type": "markdown",
   "metadata": {},
   "source": [
    "A example of an **incorrect way** (imagine if the variable names were even more different in length):"
   ]
  },
  {
   "cell_type": "code",
   "execution_count": null,
   "metadata": {},
   "outputs": [],
   "source": [
    "income = (var_one +\n",
    "          var_two -\n",
    "          var_three -\n",
    "          var_four)"
   ]
  },
  {
   "cell_type": "markdown",
   "metadata": {},
   "source": [
    "<hr style=\"border:2px solid gray\"></hr>\n",
    "\n",
    "## Maximum Line Length"
   ]
  },
  {
   "cell_type": "markdown",
   "metadata": {},
   "source": [
    "- Limit all lines to a maximum of\n",
    "    - Code: 79 characters\n",
    "    - Comments: 72 characters\n",
    "- Enables 2 files to be opened side-by-side (e.g. code review tools that present 2 versions in adjacent columns)\n",
    "\n",
    "(In Colaboratory, you can specify this in the settings menu one the r.h.s. of a code cell.)\n",
    "\n",
    "<br>\n",
    "- Example of 79 characters:"
   ]
  },
  {
   "cell_type": "code",
   "execution_count": null,
   "metadata": {},
   "outputs": [],
   "source": [
    "#AaaaaaaaaaAaaaaaaaaaAaaaaaaaaaAaaaaaaaaaAaaaaaaaaaAaaaaaaaaaAaaaaaaaaaAaaaaaaa"
   ]
  },
  {
   "cell_type": "markdown",
   "metadata": {},
   "source": [
    "- Example of 72 characters:"
   ]
  },
  {
   "cell_type": "code",
   "execution_count": null,
   "metadata": {},
   "outputs": [],
   "source": [
    "#AaaaaaaaaaAaaaaaaaaaAaaaaaaaaaAaaaaaaaaaAaaaaaaaaaAaaaaaaaaaAaaaaaaaaaA"
   ]
  },
  {
   "cell_type": "markdown",
   "metadata": {},
   "source": [
    "For this course, our coding convention is "
   ]
  },
  {
   "cell_type": "markdown",
   "metadata": {},
   "source": [
    "- to not go over 110 characters (due to the subsequent need to scrol):"
   ]
  },
  {
   "cell_type": "code",
   "execution_count": null,
   "metadata": {},
   "outputs": [],
   "source": [
    "#AaaaaaaaaaAaaaaaaaaaAaaaaaaaaaAaaaaaaaaaAaaaaaaaaaAaaaaaaaaaAaaaaaaaaaAaaaaaaaaaAaaaaaaaaaAaaaaaaaaaAaaaaaaaa"
   ]
  },
  {
   "cell_type": "markdown",
   "metadata": {},
   "source": [
    "- However, consider using 90 characters as a generally good practice (e.g. for other courses):"
   ]
  },
  {
   "cell_type": "code",
   "execution_count": null,
   "metadata": {},
   "outputs": [],
   "source": [
    "#AaaaaaaaaaAaaaaaaaaaAaaaaaaaaaAaaaaaaaaaAaaaaaaaaaAaaaaaaaaaAaaaaaaaaaAaaaaaaaaaAaaaaaaaa"
   ]
  },
  {
   "cell_type": "markdown",
   "metadata": {},
   "source": [
    "### Explicit continuation of lines\n",
    "\n",
    "- Used in \"logical lines\" of code (e.g. if statements)\n",
    "- Each line that needs to be continued is terminated with a backslash (`\\`)\n",
    "- Lines ending with a `\\` can not carry a comment"
   ]
  },
  {
   "cell_type": "code",
   "execution_count": null,
   "metadata": {},
   "outputs": [],
   "source": [
    "year = 2020\n",
    "month = 4\n",
    "day = 28\n",
    "hour = 13\n",
    "minute = 30\n",
    "second = 59\n",
    "\n",
    "## Also make note of the indentation in the second continued line\n",
    "## This follows PEP8 guidelines\n",
    "\n",
    "#AaaaaaaaaaAaaaaaaaaaAaaaaaaaaaAaaaaaaaaaAAaaaaaaaaAaaaaaaaaaAaaaaaaaaaAaaaaaaa\n",
    "if 1900 < year < 2100 and 1 <= month <= 12 and 1 <= day <= 31 \\\n",
    "        and 0 <= hour < 24 and 0 <= minute < 60 and 0 <= second < 60: ##comment\n",
    "    print('Indentation and continuation is great.')"
   ]
  },
  {
   "cell_type": "markdown",
   "metadata": {},
   "source": [
    "<hr style=\"border:2px solid gray\"></hr>\n",
    "\n",
    "## Blank Lines\n",
    "\n",
    "- Improves readability\n",
    "- Use single blank lines sparingly, to indicate logical grouping of code ideas\n",
    "- Top level functions should be surrounded by 2 blank lines"
   ]
  },
  {
   "cell_type": "code",
   "execution_count": null,
   "metadata": {},
   "outputs": [],
   "source": [
    "def function_one(var_one=None, var_two=None):\n",
    "    print(var_one, var_two)\n",
    "\n",
    "\n",
    "def function_two(var_three=None, var_four=None):\n",
    "    print(var_three, var_four)\n",
    "\n",
    "\n",
    "function_one(var_one=\"Hello\", var_two=\"there\")\n",
    "function_two(var_three='Good', var_four='bye')\n",
    "\n",
    "## Time to do something else\n",
    "print()\n",
    "if 1900 < year < 2100 and 1 <= month <= 12 and 1 <= day <= 31 \\\n",
    "        and 0 <= hour < 24 and 0 <= minute < 60 and 0 <= second < 60: ##comment\n",
    "    print('Indentation and continuation is great.')"
   ]
  },
  {
   "cell_type": "markdown",
   "metadata": {},
   "source": [
    "#### Note\n",
    "For **jupyter-notebooks**, defining and isolating a user-defined function into **a single code block** is a very good idea! However, if you are creating a **stand-alone piece of code** (e.g. my_program.py) with several user-defind functions, then one must do what is shown above."
   ]
  },
  {
   "cell_type": "markdown",
   "metadata": {},
   "source": [
    "<hr style=\"border:2px solid gray\"></hr>\n",
    "\n",
    "## Import statements\n",
    "- One import statement per line\n",
    "- List in alphebetic order"
   ]
  },
  {
   "cell_type": "code",
   "execution_count": null,
   "metadata": {},
   "outputs": [],
   "source": [
    "## Correct\n",
    "import os\n",
    "import sys"
   ]
  },
  {
   "cell_type": "code",
   "execution_count": null,
   "metadata": {},
   "outputs": [],
   "source": [
    "## Incorrect\n",
    "import sys\n",
    "import os"
   ]
  },
  {
   "cell_type": "code",
   "execution_count": null,
   "metadata": {},
   "outputs": [],
   "source": [
    "## Incorrect\n",
    "import sys, os"
   ]
  },
  {
   "cell_type": "markdown",
   "metadata": {},
   "source": [
    "- Imports should be grouped in the following order:\n",
    "    1. Standard library imports.\n",
    "    1. Related third party imports.\n",
    "    1. Local application/library specific imports.\n",
    "\n",
    "\n",
    "- You should put a blank line between each group of imports."
   ]
  },
  {
   "cell_type": "code",
   "execution_count": null,
   "metadata": {},
   "outputs": [],
   "source": [
    "import os\n",
    "import sys\n",
    "\n",
    "import matplotlib\n",
    "import numpy\n",
    "import scipy\n",
    "\n",
    "\n",
    "#AaaaaaaaaAaaaaaaaaaAaaaaaaaaaAaaaaaaaaaAaaaaaaaaaAaaaaaaaaaAaaaaaaaaaAa\n",
    "## Note that the following will give you an error since they don't exist\n",
    "import hbrs_computer_group\n",
    "import my_own_hbrs_library"
   ]
  },
  {
   "cell_type": "markdown",
   "metadata": {},
   "source": [
    "Finally, the general convention (for readability) is to group `from` statements after the formal `import` statements."
   ]
  },
  {
   "cell_type": "code",
   "execution_count": null,
   "metadata": {},
   "outputs": [],
   "source": [
    "import os\n",
    "import sys\n",
    "import time\n",
    "import unittest\n",
    "\n",
    "from scipy.constants import c"
   ]
  },
  {
   "cell_type": "markdown",
   "metadata": {},
   "source": [
    "<hr style=\"border:2px solid gray\"></hr>\n",
    "\n",
    "## Commenting\n",
    "- Document the design and pupose (not the mechanics) - scientific programming\n",
    "    - document code to guide others in the ideas an concept<br>\n",
    "\n",
    "\n",
    "1. **Single-line comments**\n",
    "    - each comment start with a # followed by a single space.<br>\n",
    "\n",
    "\n",
    "2. **Inline comments** (i.e. at the end of a code line)\n",
    "    - use infrequently (i.e. not for obvious things)\n",
    "    - separate code and inline comments by two or more spaces<br>\n",
    "\n",
    "\n",
    "3. **Block comments**\n",
    "    - document a small section of code that contains a single concept (e.g. user function)"
   ]
  },
  {
   "cell_type": "markdown",
   "metadata": {},
   "source": [
    "<hr style=\"border:2px solid gray\"></hr>\n",
    "\n",
    "## Additional Formatting Principles\n",
    "\n",
    "- Remove trailing (**invisible**) white spaces, for example:"
   ]
  },
  {
   "cell_type": "code",
   "execution_count": null,
   "metadata": {},
   "outputs": [],
   "source": [
    "my_variable = 1 + 1                 "
   ]
  },
  {
   "cell_type": "markdown",
   "metadata": {},
   "source": [
    "- In user-defined functions, when assigning an argument's default value, do not put spaces around the `=` sign.\n",
    "\n",
    "Correctly done:"
   ]
  },
  {
   "cell_type": "code",
   "execution_count": null,
   "metadata": {},
   "outputs": [],
   "source": [
    "def function_one(var_one, var_two, opt_param=None):\n",
    "    if opt_param is not None:\n",
    "        print(opt_param)\n",
    "\n",
    "    return var_one + var_two\n",
    "\n",
    "function_one(var_one=1, var_two=5, opt_param='SciPro is Awesome.')"
   ]
  },
  {
   "cell_type": "markdown",
   "metadata": {},
   "source": [
    "Incorrectly done:"
   ]
  },
  {
   "cell_type": "code",
   "execution_count": null,
   "metadata": {},
   "outputs": [],
   "source": [
    "def function_one(var_one, var_two, opt_param = None):\n",
    "    if opt_param is not None:\n",
    "        print(opt_param)\n",
    "\n",
    "        return var_one + var_two\n",
    "\n",
    "function_one(var_one=1, var_two=5, opt_param='SciPro is Awesome.')"
   ]
  },
  {
   "cell_type": "markdown",
   "metadata": {},
   "source": [
    "<!-- - **However**, when including **type hinting**, one does put spaces around the `=` sign.\n",
    "\n",
    "Correctly done:\n",
    " \n",
    "# def function_one(var_one: int = None, var_two: float = None):\n",
    "#     return var_one + var_two\n",
    "\n",
    "# function_one(var_one=1, var_two=5)\n",
    "-->"
   ]
  },
  {
   "cell_type": "markdown",
   "metadata": {},
   "source": [
    "#### Math equations\n",
    "-  Add whitespace around the operators that have the lowest priority"
   ]
  },
  {
   "cell_type": "markdown",
   "metadata": {},
   "source": [
    "Correctly done:"
   ]
  },
  {
   "cell_type": "code",
   "execution_count": null,
   "metadata": {},
   "outputs": [],
   "source": [
    "x = 1\n",
    "\n",
    "y = (1+x)**3 - (1/x)\n",
    "\n",
    "z = (y+x) / (x-y)"
   ]
  },
  {
   "cell_type": "markdown",
   "metadata": {},
   "source": [
    "This concept extends to other situations too - like slicing a list using a variable, where the colon is of lowest priority:"
   ]
  },
  {
   "cell_type": "code",
   "execution_count": null,
   "metadata": {},
   "outputs": [],
   "source": [
    "my_list = [1, 2, 3, 4, 5, 6]\n",
    "\n",
    "my_list[x+1 : x+5]"
   ]
  },
  {
   "cell_type": "markdown",
   "metadata": {},
   "source": [
    "Incorrectly done:"
   ]
  },
  {
   "cell_type": "code",
   "execution_count": null,
   "metadata": {},
   "outputs": [],
   "source": [
    "x=1\n",
    "\n",
    "y = (1 + x) ** 3 - (1 / x)\n",
    "\n",
    "z = (y + x) /(x-y)\n",
    "\n",
    "my_list[x + 1 : x + 5]"
   ]
  },
  {
   "cell_type": "markdown",
   "metadata": {},
   "source": [
    "#### Lists, tuples, dictionaries"
   ]
  },
  {
   "cell_type": "markdown",
   "metadata": {},
   "source": [
    "Correctly done:"
   ]
  },
  {
   "cell_type": "code",
   "execution_count": null,
   "metadata": {},
   "outputs": [],
   "source": [
    "my_list = ['a', 'b', 'c']"
   ]
  },
  {
   "cell_type": "markdown",
   "metadata": {},
   "source": [
    "Incorrectly done:"
   ]
  },
  {
   "cell_type": "code",
   "execution_count": null,
   "metadata": {},
   "outputs": [],
   "source": [
    "my_list = [ 'a','b','c', ]"
   ]
  },
  {
   "cell_type": "markdown",
   "metadata": {},
   "source": [
    "#### Constants\n",
    "- Capitalize with underscore separations\n",
    "- However, not all libraries do this (e.g. scipy.constants: `speed_of_light`; `c`)"
   ]
  },
  {
   "cell_type": "code",
   "execution_count": null,
   "metadata": {},
   "outputs": [],
   "source": [
    "SPEED_OF_LIGHT = 2.997924580E8 ## m/s"
   ]
  },
  {
   "cell_type": "markdown",
   "metadata": {},
   "source": [
    "# <hr style=\"border:2px solid gray\"></hr>\n",
    "\n",
    "## Example: taking code with unrefined style and applying PEP8\n",
    "\n",
    "Problems:\n",
    "- poor docstring comments (e.g. at the cell's top)\n",
    "- the importing of `from sigfig import round` is questionable, since someone reading the code might think it is the built-in function `round`\n",
    "- long lines of code\n",
    "- no variables defined with the function\n",
    "- poor indentation (i.e. 2 and 4 spaces)\n",
    "- inconsistent use of spacing (e.g. `notation =\"sci\"`; `print (\"Please enter a number!!!\")`)\n",
    "- extra lines (e.g. 3 blank lines together)\n",
    "- old print formatted statements\n",
    "- too many concepts/ideas are group together (i.e. not separated)\n",
    "    - e.g. `calculate_energy()` does the following:\n",
    "        1. asks the user for keyboard inputs,\n",
    "        2. executes the equation,\n",
    "        3. rounds the number based on sigfigs, and\n",
    "        4. print the results"
   ]
  },
  {
   "cell_type": "code",
   "execution_count": null,
   "metadata": {},
   "outputs": [],
   "source": [
    "\"\"\"mass2energy\n",
    "\n",
    "Automatically generated by Colaboratory.\n",
    "http://localhost:8888/notebooks/styles.ipynb#\n",
    "Original file is located at\n",
    "    https://colab.research.google.com/drive/[snip]\n",
    "\"\"\"\n",
    "\n",
    "!pip install sigfig                                                                   ## installs the module sigfig. Expandes the round function\n",
    "\n",
    "from scipy.constants import c                                                         ## scipy is a scientific library, imports the value for lightspeed (float)\n",
    "from sigfig import round                                                              ## imports a method which rounds a number to a given amount of significant numbers (https://sigfig.readthedocs.io/en/latest/api.html)\n",
    "\n",
    "print (\"\")                                                                            ## prints an empty line for optical reasons\n",
    "\"\"\"\n",
    "Calculate_energy is a programm that calculates the amount of energy, based on the weight of an object. \n",
    "It uses Einstein's formula e = mc^2 and rounds the result, acordingly to the significant numbers.  \n",
    "\"\"\"\n",
    "\n",
    "def calculate_energy():                                                                             \n",
    "## User input for mass, unit and the quantity of significant numbers \n",
    "  while True:                                                                   \n",
    "    try:                                                                        \n",
    "      Mass = float (input (\"Please enter the mass of your object: \"))                       ## input for the mass of the object (Problem: Float can be unprecise)\n",
    "      break                                                                     \n",
    "    except ValueError:                                                  ## throws an exception, if mass isn't given as a float (number).  \n",
    "          print (\"Please enter a number!!!\")                                    \n",
    "  \n",
    "  while True:\n",
    "      Unit = input (\"Please enter the unit in gramms (g), kilogramms (kg) or tons (t): \")  ## input for the unit of mass (g, kg, t)\n",
    "\n",
    "      if (Unit == \"g\"):                                                 ## checks if the unit is gramms and sets the mass accordingly\n",
    "        Mass_Calc = Mass/1000                                           ## mass_calc is the value, which is used in the calculation of the energy. Mass is used in the final \n",
    "        Unit = \"gramm\"                                                  ## print statement so that the relation between mass and unit remains correct. \n",
    "        break\n",
    "\n",
    "      elif (Unit == \"kg\"):                                              ## same as above for kilogramm\n",
    "        Mass_Calc = Mass\n",
    "        Unit = \"kilogramm\"  \n",
    "        break\n",
    "\n",
    "      elif  (Unit == \"t\"):                                              ## same as above for tons\n",
    "        Mass_Calc = Mass*1000\n",
    "        Unit = \"ton\"  \n",
    "        break\n",
    "\n",
    "      else:                                                                                 ## if the unit isn't g, kg or t, the user is requested to make another input (functions as an error message)\n",
    "        print (\"Please indicate the mass in g, kg or tons!!!\")\n",
    "      \n",
    "  while True:                                                                               ## input for the amount of significant numbers\n",
    "    try:\n",
    "      Sig_fig = int (input (\"Please enter the number of significant numbers: \"))            ## Sig_fic must be an integer\n",
    "      break\n",
    "    except ValueError:                                                                      ## throws an exception, if Sig_fic isn't an integer\n",
    "      print (\"Please enter a number without decimal places (Integer)!!!\")                  \n",
    "## End of user input\n",
    "\n",
    "\n",
    "\n",
    "## Calculation\n",
    "  Sig_fig = abs(Sig_fig)                                                                    ## sets Sig_fig to the asbolute value, because the programm didn't check if Sig_fig is negative\n",
    "  Energy = Mass_Calc*(c**2)                                                                 \n",
    "  E_scientific = round (Energy, sigfigs = Sig_fig, notation =\"sci\" )\n",
    "  print (\"\")                                                              ## prints an empty line for optical reasons\n",
    "  print ('The equivalent of {0} {1} of mass is {2} joule.'.format(Mass, Unit, E_scientific))\n",
    "## End of Calculation          \n",
    "\n",
    "\n",
    "calculate_energy()     "
   ]
  },
  {
   "cell_type": "markdown",
   "metadata": {},
   "source": [
    "**Cleaning it up**, and **added lots of context** using block statments:\n",
    "- Original code: 69 lines\n",
    "- New code:73 lines\n",
    "\n",
    "\n",
    "Improved:\n",
    "- docstring comments are properly done \n",
    "- shorter lines of code\n",
    "- function variables are now defined\n",
    "- consistent and proper indentation (i.e. 4 spaces)\n",
    "- consistent use of spacing\n",
    "- good use of extra lines to separate code\n",
    "- use of f-strings\n",
    "- isolation of concepts/ideas\n",
    "    - e.g. `calculate_energy()` does the following:\n",
    "        1. executes the equation, and\n",
    "        2. rounds the number based on sigfigs\n",
    "\n",
    "\n",
    "- <font color='dodgerblue'>**Side Note 1**</font>: added the idea of `if __name__ == \"__main__\":`\n",
    "    - **Purpose**: it allows you to execute the code from a script (e.g. filename.py), but not if it is loaded as a module (e.g. `from my_library import my_function`).\n",
    "    - **Why do this**: use this if you want to be able to run your code as a stand-alone script or as a module that can be imported\n",
    "\n",
    "\n",
    "- <font color='dodgerblue'>**Side Note 2**</font>: `while True` and `try except`\n",
    "    - allows us to handle selected exceptions (i.e. does not terminate the program)"
   ]
  },
  {
   "cell_type": "code",
   "execution_count": null,
   "metadata": {},
   "outputs": [],
   "source": [
    "import sigfig\n",
    "\n",
    "from scipy.constants import c\n",
    "\n",
    "\n",
    "def calculate_energy(mass_calc, sig_fig):\n",
    "    ''' Einstein's formula: e = mc**2\n",
    "\n",
    "        Input:\n",
    "            mass: weight of an object (kilograms)\n",
    "            sig_fig: number of significant figure for output (integer)\n",
    "        Return:\n",
    "            e_scientific: energy of mass in scientific notation (Joules)\n",
    "    '''\n",
    "\n",
    "    sig_fig = abs(sig_fig)\n",
    "    energy = mass_calc*(c**2)\n",
    "    e_scientific = sigfig.round(energy, sigfigs=sig_fig, notation=\"sci\")\n",
    "\n",
    "    return e_scientific\n",
    "\n",
    "\n",
    "if __name__ == \"__main__\":\n",
    "    ''' This program converts a mass to its equivalent amount of\n",
    "        energy based on the weight of an object. It uses Einstein's\n",
    "        formula e = mc**2 and rounds the result, acordingly to the\n",
    "        significant numbers.\n",
    "\n",
    "        Input: mass in grams, kilograms or tons\n",
    "        Output: energy in Joules\n",
    "\n",
    "        Required nonstandard libraries:\n",
    "        1. https://sigfig.readthedocs.io/en/latest/api.html\n",
    "        2. scipy\n",
    "    '''\n",
    "\n",
    "    while True:\n",
    "        try:\n",
    "            mass_input = float(input('Please enter the mass of your object: '))\n",
    "            break\n",
    "        except ValueError:\n",
    "            print('Please enter a number.')\n",
    "\n",
    "    while True:\n",
    "        unit = input('Please enter the unit in grams (g), '\n",
    "                     'kilograms (kg) or tons (t): ')\n",
    "\n",
    "        if unit == 'g':\n",
    "            mass = mass_input/1000\n",
    "            unit = 'gram'\n",
    "            break\n",
    "        elif unit == 'kg':\n",
    "            mass = mass_input\n",
    "            unit = 'kilogram'\n",
    "            break\n",
    "        elif unit == 't':\n",
    "            mass = mass_input*1000\n",
    "            unit = 'ton'\n",
    "            break\n",
    "        else:\n",
    "            print('Please indicate the mass in g, kg or t (i.e. tons).')\n",
    "\n",
    "    while True:\n",
    "        try:\n",
    "            sig_fig = int(input('Please enter the number of '\n",
    "                                'significant numbers: '))\n",
    "            break\n",
    "        except ValueError:\n",
    "            print('Please enter an integer (i.e. not a float).')\n",
    "\n",
    "    energy = calculate_energy(mass_calc=mass, sig_fig=sig_fig)\n",
    "\n",
    "    print()\n",
    "    print(f'The equivalent of {mass_input} {unit} of mass is {energy} Joules.')"
   ]
  },
  {
   "cell_type": "markdown",
   "metadata": {},
   "source": [
    "<hr style=\"border:2px solid gray\"></hr>\n",
    "\n",
    "## pycodestyle for checking code for PEP8 style\n",
    "\n",
    "https://pypi.org/project/pycodestyle/\n",
    "\n",
    "https://anaconda.org/conda-forge/pycodestyle/\n",
    "\n",
    "- run it a few times to catch everything"
   ]
  }
 ],
 "metadata": {
  "kernelspec": {
   "display_name": "Python 3 (ipykernel)",
   "language": "python",
   "name": "python3"
  },
  "language_info": {
   "codemirror_mode": {
    "name": "ipython",
    "version": 3
   },
   "file_extension": ".py",
   "mimetype": "text/x-python",
   "name": "python",
   "nbconvert_exporter": "python",
   "pygments_lexer": "ipython3",
   "version": "3.8.10"
  }
 },
 "nbformat": 4,
 "nbformat_minor": 2
}
