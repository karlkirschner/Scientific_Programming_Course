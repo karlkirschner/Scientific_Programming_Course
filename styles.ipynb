{
 "cells": [
  {
   "cell_type": "markdown",
   "metadata": {},
   "source": [
    "<div class=\"alert block alert-info alert\">\n",
    "\n",
    "# <center> Scientific Programming in Python\n",
    "\n",
    "## <center>Karl N. Kirschner<br>Bonn-Rhein-Sieg University of Applied Sciences<br>Sankt Augustin, Germany\n",
    "\n",
    "# <center> Coding Styles\n",
    "\n",
    "**Style Guides**:\n",
    "1. Our focus is Python Enhancement Proposal 8 (i.e. PEP 8; PEP8, PEP-8) [1, 2]\n",
    "\n",
    "\n",
    "2. A popular alternative: Google [3]\n",
    "<br><br>\n",
    "\n",
    "#### Sources\n",
    "1. Guido van Rossum, Barry Warsaw and Nick Coghlan, PEP 8 – Style Guide for Python Code, 05-Jul-2001, https://peps.python.org/pep-0008/, visited on October 27th, 2024.\n",
    "\n",
    "2. Jasmine Finer, How to Write Beautiful Python Code With PEP 8, https://realpython.com/python-pep8/, visited on May 1st, 2022.\n",
    "\n",
    "3. Google Style Guide, https://google.github.io/styleguide/pyguide.html, visited on May 1st, 2022.\n",
    "\n",
    "<hr style=\"border:2px solid gray\"></hr>"
   ]
  },
  {
   "cell_type": "markdown",
   "metadata": {},
   "source": [
    "## Why worry about style (and coding standards)?\n",
    "\n",
    "<b>Practical benefits</b>\n",
    "- Provides consistency\n",
    "    - multiple, collaborating developers\n",
    "    - understanding a large code becomes easier\n",
    "- Help control code changes in the future\n",
    "- Improves readability \n",
    "- Improves debugging\n",
    "\n",
    "<b>\"Soft\" Benefits</b>\n",
    "- Demonstrates <font color='dodgerblue'>professionalism</font> (good for being  hired)\n",
    "- Consistency in a proper style <font color='dodgerblue'>implies</font> that you <font color='dodgerblue'>pay attention to details</font>\n",
    "- <font color='dodgerblue'>Enalbes other to focus on the content and context</font>\n",
    "\n",
    "\n",
    "\n",
    "Recall <b>The Zen of Python</b> (via `import this`)"
   ]
  },
  {
   "cell_type": "markdown",
   "metadata": {},
   "source": [
    "`import this`\n",
    "\n",
    "The Zen of Python, by Tim Peters\n",
    "\n",
    "1. <b>Beautiful is better than ugly.</b>\n",
    "2. Explicit is better than implicit.\n",
    "3. Simple is better than complex.\n",
    "4. Complex is better than complicated.\n",
    "5. Flat is better than nested.\n",
    "6. <b>Sparse is better than dense.</b>\n",
    "7. <b>Readability counts.</b>\n",
    "8. Special cases aren't special enough to break the rules.\n",
    "9. Although practicality beats purity.\n",
    "10. <b>Errors should never pass silently.</b>\n",
    "11. Unless explicitly silenced.\n",
    "12. In the face of ambiguity, refuse the temptation to guess.\n",
    "13. There should be one-- and preferably only one --obvious way to do it.\n",
    "14. Although that way may not be obvious at first unless you're Dutch.\n",
    "15. Now is better than never.\n",
    "16. Although never is often better than *right* now.\n",
    "17. If the implementation is hard to explain, it's a bad idea.\n",
    "18. If the implementation is easy to explain, it may be a good idea.\n",
    "19. Namespaces are one honking great idea -- let's do more of those!\n"
   ]
  },
  {
   "cell_type": "markdown",
   "metadata": {},
   "source": [
    "## A programmer should <i>break</i> with a style when ...\n",
    "\n",
    "1. ... staying with the rules would <b>make the code less readable</b>, or\n",
    "\n",
    "2. ... the <b>surrounding code</b> does <b>not</b> follow a given rule (e.g., for historic code development reasons).\n",
    "    - However, consider this an <font color='dodgerblue'>opportunity for cleaning up the code</font>"
   ]
  },
  {
   "cell_type": "markdown",
   "metadata": {},
   "source": [
    "<hr style=\"border:2px solid gray\"></hr>\n",
    "\n",
    "## PEP8 Style\n",
    "- There is a lot of recommendations in PEP8 to learn, but here are the <font color='dodgerblue'>highlights</font> that you should initially focus upon.\n",
    "- Most of this has already been demonstrated in lectures"
   ]
  },
  {
   "cell_type": "markdown",
   "metadata": {},
   "source": [
    "### Indentations\n",
    "\n",
    "https://peps.python.org/pep-0008/#indentation\n",
    "\n",
    "#### Simple Indentations\n",
    "- <b>4 spaces</b> (not invisible tabs) per indentation level (your IDEs should allow you to specify this).\n",
    "- Python <b>does not allow mixing</b> tabs and spaces for indentation $\\rightarrow$ you must choose to use one for your indents."
   ]
  },
  {
   "cell_type": "code",
   "execution_count": 1,
   "metadata": {},
   "outputs": [
    {
     "name": "stdout",
     "output_type": "stream",
     "text": [
      "1\n",
      "2\n",
      "3\n",
      "4\n",
      "\n",
      "A\n",
      "b\n",
      "c\n",
      "D\n"
     ]
    }
   ],
   "source": [
    "for number in [1, 2, 3, 4]:\n",
    "    print(number)\n",
    "\n",
    "print()\n",
    "\n",
    "for letter in ['A', 'b', 'c', 'D']:\n",
    "    print(letter)"
   ]
  },
  {
   "cell_type": "markdown",
   "metadata": {},
   "source": [
    "Compared to the above for code, indentation of the `print()` line al."
   ]
  },
  {
   "cell_type": "code",
   "execution_count": 2,
   "metadata": {},
   "outputs": [
    {
     "name": "stdout",
     "output_type": "stream",
     "text": [
      "1\n",
      "\n",
      "2\n",
      "\n",
      "3\n",
      "\n",
      "4\n",
      "\n",
      "A\n",
      "b\n",
      "c\n",
      "D\n"
     ]
    }
   ],
   "source": [
    "for number in [1, 2, 3, 4]:\n",
    "    print(number)\n",
    "\n",
    "    print()\n",
    "\n",
    "for letter in ['A', 'b', 'c', 'D']:\n",
    "    print(letter)"
   ]
  },
  {
   "cell_type": "markdown",
   "metadata": {},
   "source": [
    "#### Hanging indentations\n",
    "\n",
    "The following are examples of how I would recommend managing the hanging indentations.\n",
    "\n",
    "- Aligned with other variables with <b>IMPLICIT CONTINUATION of a statement</b>\n",
    "\n",
    "##### Example 1"
   ]
  },
  {
   "cell_type": "code",
   "execution_count": 3,
   "metadata": {},
   "outputs": [],
   "source": [
    "# Dutch words\n",
    "month_names = ['Januari', 'Februari', 'Maart',\n",
    "               'April',   'Mei',      'Juni',\n",
    "               'Juli',    'Augustus', 'September',\n",
    "               'Oktober', 'November', 'December']"
   ]
  },
  {
   "cell_type": "markdown",
   "metadata": {},
   "source": [
    "##### Example 2"
   ]
  },
  {
   "cell_type": "code",
   "execution_count": 4,
   "metadata": {},
   "outputs": [
    {
     "name": "stdout",
     "output_type": "stream",
     "text": [
      "Hello how are you?\n"
     ]
    }
   ],
   "source": [
    "def function_with_bad_long_name(var_one, var_two, var_three,\n",
    "                                var_four):\n",
    "    ''' Example 2 for managing hanging indentations.'''\n",
    "    print(var_one, var_two, var_three, var_four)\n",
    "\n",
    "\n",
    "word_one = 'Hello'\n",
    "word_two = 'how'\n",
    "word_three = 'are'\n",
    "word_four = 'you?'\n",
    "\n",
    "function_with_bad_long_name(var_one=word_one,\n",
    "                            var_two=word_two,\n",
    "                            var_three=word_three,\n",
    "                            var_four=word_four)"
   ]
  },
  {
   "cell_type": "markdown",
   "metadata": {},
   "source": [
    "- Or reconsider what your are naming things (e.g., reduce the variable's name lengths):"
   ]
  },
  {
   "cell_type": "code",
   "execution_count": 5,
   "metadata": {},
   "outputs": [
    {
     "name": "stdout",
     "output_type": "stream",
     "text": [
      "Hello how are you?\n"
     ]
    }
   ],
   "source": [
    "function_with_bad_long_name(var_one=word_one, var_two=word_two,\n",
    "                            var_three=word_three, var_four=word_four)"
   ]
  },
  {
   "cell_type": "markdown",
   "metadata": {},
   "source": [
    "#### An Additional approach (I disfavor this approach):\n",
    "- Include an additional level of 4 spaces "
   ]
  },
  {
   "cell_type": "code",
   "execution_count": 6,
   "metadata": {},
   "outputs": [],
   "source": [
    "def function_with_bad_long_name(\n",
    "        var_one,\n",
    "        var_two,\n",
    "        var_three,\n",
    "        var_four):\n",
    "\n",
    "    print(var_one, var_two, var_three, var_four)"
   ]
  },
  {
   "cell_type": "markdown",
   "metadata": {},
   "source": [
    "Compare the above with the following <font color='IndianRed'><b>incorrect way</b></font> (i.e., it looks like a `for loop`):"
   ]
  },
  {
   "cell_type": "code",
   "execution_count": 7,
   "metadata": {},
   "outputs": [],
   "source": [
    "def function_with_bad_long_name(\n",
    "    var_one,\n",
    "    var_two,\n",
    "    var_three,\n",
    "    var_four):\n",
    "\n",
    "    print(var_one, var_two, var_three, var_four)"
   ]
  },
  {
   "cell_type": "markdown",
   "metadata": {},
   "source": [
    "#### Aligning math operators"
   ]
  },
  {
   "cell_type": "code",
   "execution_count": null,
   "metadata": {},
   "outputs": [],
   "source": [
    "var_one = 12.0\n",
    "var_two = 9.0\n",
    "var_three = 4.5\n",
    "var_four = 1.0\n",
    "\n",
    "income = (var_one\n",
    "          + var_two\n",
    "          - var_three\n",
    "          - var_four)"
   ]
  },
  {
   "cell_type": "markdown",
   "metadata": {},
   "source": [
    "The <font color='IndianRed'>**incorrect way**</font>, with the math symbols on the right side (imagine if the variable names were even more different in length):"
   ]
  },
  {
   "cell_type": "code",
   "execution_count": null,
   "metadata": {},
   "outputs": [],
   "source": [
    "income = (var_one +\n",
    "          var_two -\n",
    "          var_three -\n",
    "          var_four)"
   ]
  },
  {
   "cell_type": "markdown",
   "metadata": {},
   "source": [
    "<hr style=\"border:2px solid gray\"></hr>\n",
    "\n",
    "## Maximum Line Length\n",
    "\n",
    "https://peps.python.org/pep-0008/#maximum-line-length"
   ]
  },
  {
   "cell_type": "markdown",
   "metadata": {},
   "source": [
    "- Limit all lines to a maximum of\n",
    "    - Code: 79 characters\n",
    "    - Comments: 72 characters\n",
    "- Enables 2 files to be opened side-by-side (e.g., code review tools that present 2 versions in adjacent columns)\n",
    "\n",
    "(In Colaboratory, one can specify this in the settings menu on the r.h.s. of a code cell.)\n",
    "\n",
    "<br>\n",
    "- Example of 79 characters:"
   ]
  },
  {
   "cell_type": "code",
   "execution_count": null,
   "metadata": {},
   "outputs": [],
   "source": [
    "#AaaaaaaaaaAaaaaaaaaaAaaaaaaaaaAaaaaaaaaaAaaaaaaaaaAaaaaaaaaaAaaaaaaaaaAaaaaaaa"
   ]
  },
  {
   "cell_type": "markdown",
   "metadata": {},
   "source": [
    "- Example of 72 characters:"
   ]
  },
  {
   "cell_type": "code",
   "execution_count": null,
   "metadata": {},
   "outputs": [],
   "source": [
    "#AaaaaaaaaaAaaaaaaaaaAaaaaaaaaaAaaaaaaaaaAaaaaaaaaaAaaaaaaaaaAaaaaaaaaaA"
   ]
  },
  {
   "cell_type": "markdown",
   "metadata": {},
   "source": [
    "<font color='DodgerBlue'>For <b>this course</b></font>, our coding convention is "
   ]
  },
  {
   "cell_type": "markdown",
   "metadata": {},
   "source": [
    "- 110 characters limit (maximum to prevent the need to scroll at 100% bowser zoom):"
   ]
  },
  {
   "cell_type": "code",
   "execution_count": null,
   "metadata": {},
   "outputs": [],
   "source": [
    "#AaaaaaaaaaAaaaaaaaaaAaaaaaaaaaAaaaaaaaaaAaaaaaaaaaAaaaaaaaaaAaaaaaaaaaAaaaaaaaaaAaaaaaaaaaAaaaaaaaaaAaaaaaaaa"
   ]
  },
  {
   "cell_type": "markdown",
   "metadata": {},
   "source": [
    "- However, consider using 90 characters as a <b>generally good</b> practice (e.g., for other courses):"
   ]
  },
  {
   "cell_type": "code",
   "execution_count": null,
   "metadata": {},
   "outputs": [],
   "source": [
    "#AaaaaaaaaaAaaaaaaaaaAaaaaaaaaaAaaaaaaaaaAaaaaaaaaaAaaaaaaaaaAaaaaaaaaaAaaaaaaaaaAaaaaaaaa"
   ]
  },
  {
   "cell_type": "markdown",
   "metadata": {},
   "source": [
    "### Explicit continuation of lines\n",
    "\n",
    "- Used in \"logical lines\" of code (e.g. if statements)\n",
    "- Each line that needs to be continued is terminated with a backslash (`\\`)\n",
    "- Lines ending with a `\\` can not carry a comment"
   ]
  },
  {
   "cell_type": "code",
   "execution_count": 9,
   "metadata": {},
   "outputs": [
    {
     "name": "stdout",
     "output_type": "stream",
     "text": [
      "Indentation and continuation is great.\n"
     ]
    }
   ],
   "source": [
    "year = 2020\n",
    "month = 4\n",
    "day = 28\n",
    "hour = 13\n",
    "minute = 30\n",
    "second = 59\n",
    "\n",
    "## Also make note of the indentation in the second continued line\n",
    "## This follows PEP8 guidelines\n",
    "\n",
    "#AaaaaaaaaaAaaaaaaaaaAaaaaaaaaaAaaaaaaaaaAAaaaaaaaaAaaaaaaaaaAaaaaaaaaaAaaaaaaa\n",
    "if 1900 < year < 2100 and 1 <= month <= 12 and 1 <= day <= 31 \\\n",
    "        and 0 <= hour < 24 and 0 <= minute < 60 and 0 <= second < 60: ##comment\n",
    "    print('Indentation and continuation is great.')"
   ]
  },
  {
   "cell_type": "markdown",
   "metadata": {},
   "source": [
    "<hr style=\"border:2px solid gray\"></hr>\n",
    "\n",
    "## Blank Lines\n",
    "\n",
    "https://peps.python.org/pep-0008/#blank-lines\n",
    "\n",
    "- Improves readability\n",
    "- Use single blank lines sparingly, to indicate logical grouping of code ideas\n",
    "- <b>Top-level functions</b> should be surrounded by <b>2 blank lines</b>"
   ]
  },
  {
   "cell_type": "code",
   "execution_count": 10,
   "metadata": {},
   "outputs": [
    {
     "name": "stdout",
     "output_type": "stream",
     "text": [
      "Hello there\n",
      "Good bye\n",
      "\n",
      "Indentation and continuation is great.\n"
     ]
    }
   ],
   "source": [
    "def function_one(var_one=None, var_two=None):\n",
    "    print(var_one, var_two)\n",
    "\n",
    "\n",
    "def function_two(var_three=None, var_four=None):\n",
    "    print(var_three, var_four)\n",
    "\n",
    "\n",
    "function_one(var_one=\"Hello\", var_two=\"there\")\n",
    "function_two(var_three='Good', var_four='bye')\n",
    "\n",
    "## Time to do something else\n",
    "print()\n",
    "if 1900 < year < 2100 and 1 <= month <= 12 and 1 <= day <= 31 \\\n",
    "        and 0 <= hour < 24 and 0 <= minute < 60 and 0 <= second < 60: ##comment\n",
    "    print('Indentation and continuation is great.')"
   ]
  },
  {
   "cell_type": "markdown",
   "metadata": {},
   "source": [
    "#### Note\n",
    "For <b>jupyter-notebooks</b>, defining and isolating a <b>user-defined function</b> into <b>a single code block</b> is a very good idea!\n",
    "\n",
    "However, if you are creating a <b>stand-alone piece of code</b> (e.g., `my_program.py`) with several user-defined functions, then you must <b>include the blank lines as shown above</b>."
   ]
  },
  {
   "cell_type": "markdown",
   "metadata": {},
   "source": [
    "<hr style=\"border:2px solid gray\"></hr>\n",
    "\n",
    "## Import statements\n",
    "\n",
    "https://peps.python.org/pep-0008/#imports\n",
    "\n",
    "- One import statement per line\n",
    "- List in alphabetical order"
   ]
  },
  {
   "cell_type": "code",
   "execution_count": null,
   "metadata": {},
   "outputs": [],
   "source": [
    "## Correct\n",
    "import os\n",
    "import sys"
   ]
  },
  {
   "cell_type": "code",
   "execution_count": null,
   "metadata": {},
   "outputs": [],
   "source": [
    "## Incorrect\n",
    "import sys\n",
    "import os"
   ]
  },
  {
   "cell_type": "code",
   "execution_count": null,
   "metadata": {},
   "outputs": [],
   "source": [
    "## Incorrect\n",
    "import sys, os"
   ]
  },
  {
   "cell_type": "markdown",
   "metadata": {},
   "source": [
    "- Imports should be </b>grouped</b> in the following order:\n",
    "    1. <b>Standard</b> library imports,\n",
    "    2. <b>Third party</b> imports, and then\n",
    "    3. <b>Local</b> application/library-specific imports.\n",
    "\n",
    "\n",
    "- You should put a blank line between each group of imports."
   ]
  },
  {
   "cell_type": "code",
   "execution_count": 11,
   "metadata": {},
   "outputs": [
    {
     "ename": "ModuleNotFoundError",
     "evalue": "No module named 'hbrs_computer_group'",
     "output_type": "error",
     "traceback": [
      "\u001b[0;31m---------------------------------------------------------------------------\u001b[0m",
      "\u001b[0;31mModuleNotFoundError\u001b[0m                       Traceback (most recent call last)",
      "Cell \u001b[0;32mIn[11], line 9\u001b[0m\n\u001b[1;32m      6\u001b[0m \u001b[38;5;28;01mimport\u001b[39;00m \u001b[38;5;21;01mscipy\u001b[39;00m\n\u001b[1;32m      8\u001b[0m \u001b[38;5;66;03m## Note: that the following throws an error since they don't exist\u001b[39;00m\n\u001b[0;32m----> 9\u001b[0m \u001b[38;5;28;01mimport\u001b[39;00m \u001b[38;5;21;01mhbrs_computer_group\u001b[39;00m\n\u001b[1;32m     10\u001b[0m \u001b[38;5;28;01mimport\u001b[39;00m \u001b[38;5;21;01mmy_own_hbrs_library\u001b[39;00m\n",
      "\u001b[0;31mModuleNotFoundError\u001b[0m: No module named 'hbrs_computer_group'"
     ]
    }
   ],
   "source": [
    "import os\n",
    "import sys\n",
    "\n",
    "import matplotlib\n",
    "import numpy\n",
    "import scipy\n",
    "\n",
    "## Note: that the following throws an error since they don't exist\n",
    "import hbrs_computer_group\n",
    "import my_own_hbrs_library"
   ]
  },
  {
   "cell_type": "markdown",
   "metadata": {},
   "source": [
    "Finally, the general convention (for readability) is to group `from` statements <b>after</b> the formal `import` statements."
   ]
  },
  {
   "cell_type": "code",
   "execution_count": 12,
   "metadata": {},
   "outputs": [
    {
     "ename": "ModuleNotFoundError",
     "evalue": "No module named 'sklearn'",
     "output_type": "error",
     "traceback": [
      "\u001b[0;31m---------------------------------------------------------------------------\u001b[0m",
      "\u001b[0;31mModuleNotFoundError\u001b[0m                       Traceback (most recent call last)",
      "Cell \u001b[0;32mIn[12], line 10\u001b[0m\n\u001b[1;32m      7\u001b[0m \u001b[38;5;28;01mimport\u001b[39;00m \u001b[38;5;21;01mnumpy\u001b[39;00m\n\u001b[1;32m      9\u001b[0m \u001b[38;5;28;01mfrom\u001b[39;00m \u001b[38;5;21;01mscipy\u001b[39;00m\u001b[38;5;21;01m.\u001b[39;00m\u001b[38;5;21;01mconstants\u001b[39;00m \u001b[38;5;28;01mimport\u001b[39;00m c\n\u001b[0;32m---> 10\u001b[0m \u001b[38;5;28;01mfrom\u001b[39;00m \u001b[38;5;21;01msklearn\u001b[39;00m \u001b[38;5;28;01mimport\u001b[39;00m metrics\n",
      "\u001b[0;31mModuleNotFoundError\u001b[0m: No module named 'sklearn'"
     ]
    }
   ],
   "source": [
    "import os\n",
    "import sys\n",
    "import time\n",
    "import unittest\n",
    "\n",
    "import matplotlib.pyplot as plt\n",
    "import numpy\n",
    "\n",
    "from scipy.constants import c\n",
    "from sklearn import metrics"
   ]
  },
  {
   "cell_type": "markdown",
   "metadata": {},
   "source": [
    "<hr style=\"border:2px solid gray\"></hr>\n",
    "\n",
    "## Commenting\n",
    "\n",
    "https://peps.python.org/pep-0008/#comments\n",
    "\n",
    "- Document the design and purpose (not the mechanics) - scientific programming\n",
    "    - document code to guide others in the ideas and concept<br>\n",
    "\n",
    "\n",
    "1. <b>Single-line comments</b>\n",
    "    - each comment starts with a # followed by a single space.<be>\n",
    "\n",
    "<br>\n",
    "\n",
    "2. <b>Inline comments</b> (i.e., at the end of a code line)\n",
    "    - use infrequently (i.e., not for obvious things)\n",
    "    - separate code and inline comments by two or more spaces<be>\n",
    "\n",
    "<br>\n",
    "\n",
    "3. <b>Block comments</b>\n",
    "    - document a small section of code that contains a single concept (e.g., user function)"
   ]
  },
  {
   "cell_type": "markdown",
   "metadata": {},
   "source": [
    "<hr style=\"border:2px solid gray\"></hr>\n",
    "\n",
    "## Naming and Casing Conventions\n",
    "\n",
    "https://peps.python.org/pep-0008/#naming-conventions\n",
    "\n",
    "- \"<b>Variable names</b> follow the same convention as function names.\" (ie., <b>pothole_case_naming</b>)\n",
    "- \"<b>Function names</b> should be lowercase, with words separated by underscores as necessary to improve readability.\" (ie., <b>pothole_case_naming</b>)\n",
    "- \"<b>Modules</b> should have short, all-lowercase names. Underscores can be used in the module name if it improves readability.\" (ie., <b>pothole_case_naming</b>)\n",
    "- \"<b>Class names</b> should normally use the CapWords convention.\" (i.e., <b>PascalCaseNaming</b>)"
   ]
  },
  {
   "cell_type": "markdown",
   "metadata": {},
   "source": [
    "<hr style=\"border:2px solid gray\"></hr>\n",
    "\n",
    "## Additional Formatting Principles\n",
    "\n",
    "- Remove trailing (<b>invisible</b>) white spaces, for example:"
   ]
  },
  {
   "cell_type": "code",
   "execution_count": null,
   "metadata": {},
   "outputs": [],
   "source": [
    "my_variable = 1 + 1                 "
   ]
  },
  {
   "cell_type": "markdown",
   "metadata": {},
   "source": [
    "- In user-defined functions do <b>not</b> put spaces around the `=` sign:\n",
    "    - <b>passing a value</b> to a parameter,\n",
    "    -  assigning an <b>optional parameter a default value</b>\n",
    "\n",
    "<font color='DodgerBlue'>Correctly done</font>:"
   ]
  },
  {
   "cell_type": "code",
   "execution_count": null,
   "metadata": {},
   "outputs": [],
   "source": [
    "def function_one(var_one, var_two, opt_param=None):\n",
    "    if opt_param is not None:\n",
    "        print(opt_param)\n",
    "    else:\n",
    "        print(var_one + var_two)\n",
    "\n",
    "\n",
    "function_one(var_one=1, var_two=5, opt_param='SciPro is Awesome.')"
   ]
  },
  {
   "cell_type": "markdown",
   "metadata": {},
   "source": [
    "<font color='IndianRed'>Incorrectly done</font>:"
   ]
  },
  {
   "cell_type": "code",
   "execution_count": null,
   "metadata": {},
   "outputs": [],
   "source": [
    "def function_one(var_one, var_two, opt_param = None):\n",
    "    if opt_param is not None:\n",
    "        print(opt_param)\n",
    "    else:\n",
    "        print(var_one + var_two)\n",
    "\n",
    "\n",
    "function_one(var_one = 1, var_two =5, opt_param= 'SciPro is Awesome.')"
   ]
  },
  {
   "cell_type": "markdown",
   "metadata": {},
   "source": [
    "<!-- - **However**, when including **type hinting**, one does put spaces around the `=` sign.\n",
    "\n",
    "Correctly done:\n",
    " \n",
    "# def function_one(var_one: int = None, var_two: float = None):\n",
    "#     return var_one + var_two\n",
    "\n",
    "# function_one(var_one=1, var_two=5)\n",
    "-->"
   ]
  },
  {
   "cell_type": "markdown",
   "metadata": {},
   "source": [
    "#### Math equations\n",
    "-  Add whitespace around the operators that have the <b>lowest priority</b>"
   ]
  },
  {
   "cell_type": "markdown",
   "metadata": {},
   "source": [
    "<font color='DodgerBlue'>Correctly done</font>:"
   ]
  },
  {
   "cell_type": "code",
   "execution_count": null,
   "metadata": {},
   "outputs": [],
   "source": [
    "x = 1\n",
    "\n",
    "y = (1+x)**3 - (1/x)\n",
    "\n",
    "z = (y+x) / (x-y)"
   ]
  },
  {
   "cell_type": "markdown",
   "metadata": {},
   "source": [
    "This concept extends to other situations too - like slicing a list using a variable, where the colon is of lowest priority:"
   ]
  },
  {
   "cell_type": "code",
   "execution_count": null,
   "metadata": {},
   "outputs": [],
   "source": [
    "my_list = [1, 2, 3, 4, 5, 6]\n",
    "\n",
    "my_list[x+1 : x+5]"
   ]
  },
  {
   "cell_type": "markdown",
   "metadata": {},
   "source": [
    "<font color='IndianRed'>Incorrectly done</font>:"
   ]
  },
  {
   "cell_type": "code",
   "execution_count": null,
   "metadata": {},
   "outputs": [],
   "source": [
    "x=1\n",
    "\n",
    "y = (1 + x) ** 3 - (1 / x)\n",
    "\n",
    "z = (y + x) /(x-y)\n",
    "\n",
    "my_list[x + 1 : x + 5]"
   ]
  },
  {
   "cell_type": "markdown",
   "metadata": {},
   "source": [
    "#### Lists, tuples, dictionaries"
   ]
  },
  {
   "cell_type": "markdown",
   "metadata": {},
   "source": [
    "<font color='DodgerBlue'>Correctly done</font>:"
   ]
  },
  {
   "cell_type": "code",
   "execution_count": null,
   "metadata": {},
   "outputs": [],
   "source": [
    "my_list = ['a', 'b', 'c']"
   ]
  },
  {
   "cell_type": "markdown",
   "metadata": {},
   "source": [
    "<font color='IndianRed'>Incorrectly done</font>:"
   ]
  },
  {
   "cell_type": "code",
   "execution_count": null,
   "metadata": {},
   "outputs": [],
   "source": [
    "my_list = [ 'a','b','c', ]"
   ]
  },
  {
   "cell_type": "markdown",
   "metadata": {},
   "source": [
    "#### Constants\n",
    "- Capitalize with underscore separations\n",
    "- However, not all libraries do this (e.g., scipy.constants: `speed_of_light`; `c`)"
   ]
  },
  {
   "cell_type": "code",
   "execution_count": null,
   "metadata": {},
   "outputs": [],
   "source": [
    "SPEED_OF_LIGHT = 2.997924580E8  # m/s"
   ]
  },
  {
   "cell_type": "markdown",
   "metadata": {},
   "source": [
    "<hr style=\"border:2px solid gray\"></hr>\n",
    "\n",
    "## Usage of `is`\n",
    "\n",
    "\"Comparisons to singletons like None should always be done with is or is not, never the equality operators.\"\n",
    "\n",
    "Use `is` instead of `==` when working with:\n",
    "- None\n",
    "- True\n",
    "- False\n",
    "\n",
    "More information below in \"Bonus Information\" for those who want to go deeper."
   ]
  },
  {
   "cell_type": "markdown",
   "metadata": {},
   "source": [
    "# <hr style=\"border:2px solid gray\"></hr>\n",
    "\n",
    "## Example: taking code with unrefined style and applying PEP8\n",
    "\n",
    "(The following is a compilation of mistakes often done by students.)\n",
    "\n",
    "<b>Problems</b>\n",
    "- poor **docstring</b> comments (e.g. at the cell's top)\n",
    "- the importing of `from sigfig import round` is questionable, since someone reading the code might think it is the <b>built-in function</b> `round`\n",
    "- <b>long lines</b> of code\n",
    "- <b>no parameters</b> defined with the <b>function</b>\n",
    "- <b>poor indentation</b> (i.e., 2 and 4 spaces)\n",
    "- <b>inconsistent</b> use of </b>spacing</b> (e.g., `notation =\"sci\"`; `print (\"Please enter a number!!!\")`)\n",
    "- <b>extra lines</b> (e.g., 3 blank lines together)\n",
    "- <b>old print</b> formatted statements\n",
    "- <b>too many concepts/ideas are grouped together</b> (i.e., not separated)\n",
    "    - e.g., `calculate_energy()` does the following:\n",
    "        1. asks the user for keyboard inputs,\n",
    "        2. executes the equation,\n",
    "        3. rounds the number based on sigfigs, and\n",
    "        4. print the results"
   ]
  },
  {
   "cell_type": "raw",
   "metadata": {},
   "source": [
    "\n",
    "\n",
    "\n",
    "\n",
    "\n",
    "# \"\"\"mass2energy\n",
    "\n",
    "Automatically generated by Colaboratory.\n",
    "http://localhost:8888/notebooks/styles.ipynb#\n",
    "Original file is located at\n",
    "    https://colab.research.google.com/drive/[snip]\n",
    "\"\"\"\n",
    "\n",
    "!pip install sigfig                                                                   ## installs the module sigfig. Expandes the round function\n",
    "\n",
    "from scipy.constants import c                                                         ## scipy is a scientific library, imports the value for lightspeed (float)\n",
    "from sigfig import round                                                              ## imports a method which rounds a number to a given amount of significant numbers (https://sigfig.readthedocs.io/en/latest/api.html)\n",
    "\n",
    "print (\"\")                                                                            ## prints an empty line for optical reasons\n",
    "\"\"\"\n",
    "Calculate_energy is a program that calculates the amount of energy, based on the weight of an object. \n",
    "It uses Einstein's formula e = mc^2 and rounds the result, according to the significant numbers.  \n",
    "\"\"\"\n",
    "\n",
    "def calculate_energy():                                                                             \n",
    "## User input for mass, unit and the quantity of significant numbers \n",
    "  while True:                                                                   \n",
    "    try:                                                                        \n",
    "      Mass = float (input (\"Please enter the mass of your object: \"))                       ## input for the mass of the object (Problem: Float can be unprecise)\n",
    "      break                                                                     \n",
    "    except ValueError:                                                  ## throws an exception, if mass isn't given as a float (number).  \n",
    "          print (\"Please enter a number!!!\")                                    \n",
    "  \n",
    "  while True:\n",
    "      Unit = input (\"Please enter the unit in gramms (g), kilogramms (kg) or tons (t): \")  ## input for the unit of mass (g, kg, t)\n",
    "\n",
    "      if (Unit == \"g\"):                                                 ## checks if the unit is gramms and sets the mass accordingly\n",
    "        Mass_Calc = Mass/1000                                           ## mass_calc is the value, which is used in the calculation of the energy. Mass is used in the final \n",
    "        Unit = \"gramm\"                                                  ## print statement so that the relation between mass and unit remains correct. \n",
    "        break\n",
    "\n",
    "      elif (Unit == \"kg\"):                                              ## same as above for kilogramm\n",
    "        Mass_Calc = Mass\n",
    "        Unit = \"kilogramm\"  \n",
    "        break\n",
    "\n",
    "      elif  (Unit == \"t\"):                                              ## same as above for tons\n",
    "        Mass_Calc = Mass*1000\n",
    "        Unit = \"ton\"  \n",
    "        break\n",
    "\n",
    "      else:                                                                                 ## if the unit isn't g, kg or t, the user is requested to make another input (functions as an error message)\n",
    "        print (\"Please indicate the mass in g, kg or tons!!!\")\n",
    "      \n",
    "  while True:                                                                               ## input for the amount of significant numbers\n",
    "    try:\n",
    "      Sig_fig = int (input (\"Please enter the number of significant numbers: \"))            ## Sig_fic must be an integer\n",
    "      break\n",
    "    except ValueError:                                                                      ## throws an exception, if Sig_fic isn't an integer\n",
    "      print (\"Please enter a number without decimal places (Integer)!!!\")                  \n",
    "## End of user input\n",
    "\n",
    "\n",
    "\n",
    "## Calculation\n",
    "  Sig_fig = abs(Sig_fig)                                                                    ## sets Sig_fig to the asbolute value, because the programm didn't check if Sig_fig is negative\n",
    "  Energy = Mass_Calc*(c**2)                                                                 \n",
    "  E_scientific = round (Energy, sigfigs = Sig_fig, notation =\"sci\" )\n",
    "  print (\"\")                                                              ## prints an empty line for optical reasons\n",
    "  print ('The equivalent of {0} {1} of mass is {2} joule.'.format(Mass, Unit, E_scientific))\n",
    "## End of Calculation          \n",
    "\n",
    "\n",
    "calculate_energy()     "
   ]
  },
  {
   "cell_type": "markdown",
   "metadata": {},
   "source": [
    "## <b>Cleaning it up</b>, and <font color='DodgerBlue'><b>added lots of context</b></font> using block statements:\n",
    "\n",
    "- <b>Original code</b>:\n",
    "    - 74 lines (69 lines if the blank lines at the top are excluded)\n",
    "    - **436** words\n",
    "    - **4193** characters\n",
    "\n",
    "\n",
    "- <b>New code</b>:\n",
    "    - 74 lines\n",
    "    - **234** words\n",
    "    - **2057** characters\n",
    "\n",
    "\n",
    "<b>Improved</b>:\n",
    "- docstring comments are properly done \n",
    "- shorter lines of code\n",
    "- function variables are now defined\n",
    "- consistent and proper indentation (i.e., 4 spaces)\n",
    "- consistent use of spacing\n",
    "- good use of extra lines to separate code\n",
    "- use of f-strings\n",
    "- isolation of concepts/ideas\n",
    "    - e.g., `calculate_energy()` does the following:\n",
    "        1. executes the equation, and\n",
    "        2. rounds the number based on sigfigs\n",
    "\n",
    "\n",
    "- <font color='dodgerblue'><b>Side Note 1</b></font>: added the idea of `if __name__ == \"__main__\":`\n",
    "    - <b>Purpose</b>: it allows you to execute the code from a script (e.g., filename.py), but not if it is loaded as a module (e.g., `from my_library import my_function`).\n",
    "    - <b>Why do this</b>: use this if you want to be able to run your code as a stand-alone script and as a module that can be imported\n",
    "\n",
    "\n",
    "- <font color='dodgerblue'><b>Side Note 2</b></font>: `while True` and `try except`\n",
    "    - allows us to handle selected exceptions (i.e., does not terminate the program)"
   ]
  },
  {
   "cell_type": "raw",
   "metadata": {},
   "source": [
    "# import sigfig\n",
    "\n",
    "from scipy.constants import c\n",
    "\n",
    "\n",
    "def calculate_energy(mass_calc, sig_fig):\n",
    "    ''' Einstein's formula: e = mc**2\n",
    "\n",
    "        Input:\n",
    "            mass: weight of an object (kilograms)\n",
    "            sig_fig: number of significant figures for output (integer)\n",
    "        Return:\n",
    "            e_scientific: energy of mass in scientific notation (Joules)\n",
    "    '''\n",
    "\n",
    "    sig_fig = abs(sig_fig)\n",
    "    energy = mass_calc*(c**2)\n",
    "    e_scientific = sigfig.round(energy, sigfigs=sig_fig, notation=\"sci\")\n",
    "\n",
    "    return e_scientific\n",
    "\n",
    "\n",
    "if __name__ == \"__main__\":\n",
    "    ''' This program converts a mass to its equivalent amount of\n",
    "        energy based on the weight of an object. It uses Einstein's\n",
    "        formula e = mc**2 and rounds the result, according to the\n",
    "        significant numbers.\n",
    "\n",
    "        Input: mass in grams, kilograms or tons\n",
    "        Output: energy in Joules\n",
    "\n",
    "        Required nonstandard libraries:\n",
    "        1. https://sigfig.readthedocs.io/en/latest/api.html\n",
    "        2. scipy\n",
    "    '''\n",
    "\n",
    "    while True:\n",
    "        try:\n",
    "            mass_input = float(input('Please enter the mass of your object: '))\n",
    "            break\n",
    "        except ValueError:\n",
    "            print('Please enter a number.')\n",
    "\n",
    "    while True:\n",
    "        unit = input('Please enter the unit in grams (g), '\n",
    "                     'kilograms (kg) or tons (t): ')\n",
    "\n",
    "        if unit == 'g':\n",
    "            mass = mass_input/1000\n",
    "            unit = 'gram'\n",
    "            break\n",
    "        elif unit == 'kg':\n",
    "            mass = mass_input\n",
    "            unit = 'kilogram'\n",
    "            break\n",
    "        elif unit == 't':\n",
    "            mass = mass_input*1000\n",
    "            unit = 'ton'\n",
    "            break\n",
    "        else:\n",
    "            print('Please indicate the mass in g, kg or t (i.e., tons).')\n",
    "\n",
    "    while True:\n",
    "        try:\n",
    "            sig_fig = int(input('Please enter the number of '\n",
    "                                'significant numbers: '))\n",
    "            break\n",
    "        except ValueError:\n",
    "            print('Please enter an integer (i.e., not a float).')\n",
    "\n",
    "    energy = calculate_energy(mass_calc=mass, sig_fig=sig_fig)\n",
    "\n",
    "    print()\n",
    "    print(f'The equivalent of {mass_input} {unit} of mass is {energy} Joules.')"
   ]
  },
  {
   "cell_type": "markdown",
   "metadata": {},
   "source": [
    "<hr style=\"border:2px solid gray\"></hr>\n",
    "\n",
    "## pycodestyle for checking code for PEP8 style\n",
    "\n",
    "- https://pypi.org/project/pycodestyle\n",
    "- https://anaconda.org/conda-forge/pycodestyle\n",
    "\n",
    "\n",
    "(Run it a few times to catch everything.)\n",
    "\n",
    "<hr style=\"border:2px solid gray\"></hr>"
   ]
  },
  {
   "cell_type": "code",
   "execution_count": null,
   "metadata": {},
   "outputs": [],
   "source": [
    "## For extra information given within the lectures\n",
    "\n",
    "from IPython.display import HTML\n",
    "\n",
    "\n",
    "def set_code_background(color: str):\n",
    "    ''' Set the background color for code cells.\n",
    "\n",
    "        Source: psychemedia via https://stackoverflow.com/questions/49429585/\n",
    "                how-to-change-the-background-color-of-a-single-cell-in-a-jupyter-notebook-jupy\n",
    "\n",
    "        To match Jupyter's dev class colors:\n",
    "            \"alert alert-block alert-warning\" = #fcf8e3\n",
    "\n",
    "        Args:\n",
    "            color: HTML color, rgba, hex\n",
    "    '''\n",
    "\n",
    "    script = (\"var cell = this.closest('.code_cell');\"\n",
    "              \"var editor = cell.querySelector('.input_area');\"\n",
    "              f\"editor.style.background='{color}';\"\n",
    "              \"this.parentNode.removeChild(this)\")\n",
    "    display(HTML(f'<img src onerror=\"{script}\">'))\n",
    "\n",
    "set_code_background(color='#fcf8e3')"
   ]
  },
  {
   "cell_type": "markdown",
   "metadata": {},
   "source": [
    "<div class=\"alert alert-block alert-warning\">\n",
    "<hr style=\"border:1.5px dashed gray\"></hr>\n",
    "\n",
    "## Bonus Information\n",
    "### The use of `==` vs. `is`\n",
    "\n",
    "\n",
    "- `==`: do two objects have the same <b>value</b> (different location in memory)\n",
    "- `is`: to be used with `None`, `True` and `False` (i.e., singletons; one location in memory)\n",
    "    - faster than `==`\n",
    "\n",
    "Singletons are created only once and reside in memory only once\n",
    "\n",
    "<b>Example 1</b>: create two objects, both have\n",
    "- the same value, but (i.e., `==` will give True)\n",
    "- are assigned different locations in memory (i.e., `is` will give False)"
   ]
  },
  {
   "cell_type": "code",
   "execution_count": null,
   "metadata": {},
   "outputs": [],
   "source": [
    "obj_1 = ['a', 'b', 'c']\n",
    "obj_2 = ['a', 'b', 'c']\n",
    "\n",
    "print(f'Using `==`: {obj_1 == obj_2}')\n",
    "print(f'Using `is`: {obj_1 is obj_2}')"
   ]
  },
  {
   "cell_type": "markdown",
   "metadata": {},
   "source": [
    "<div class=\"alert alert-block alert-warning\">\n",
    "    \n",
    "<b>Example 1</b>: Understanding more on how `is` is used with singletons"
   ]
  },
  {
   "cell_type": "code",
   "execution_count": null,
   "metadata": {},
   "outputs": [],
   "source": [
    "obj_2 = isinstance(5, int)\n",
    "print(f'obj_2: {obj_2}')"
   ]
  },
  {
   "cell_type": "markdown",
   "metadata": {},
   "source": [
    "<div class=\"alert alert-block alert-warning\">\n",
    "\n",
    "One could use `==` to check if an object's value is `True`:"
   ]
  },
  {
   "cell_type": "code",
   "execution_count": null,
   "metadata": {},
   "outputs": [],
   "source": [
    "if obj_2 == True:\n",
    "    print(f'obj_2: {obj_2}')"
   ]
  },
  {
   "cell_type": "markdown",
   "metadata": {},
   "source": [
    "<div class=\"alert alert-block alert-warning\">\n",
    "\n",
    "But a <b>more proper way</b>to do it:"
   ]
  },
  {
   "cell_type": "code",
   "execution_count": null,
   "metadata": {},
   "outputs": [],
   "source": [
    "if obj_2 is True:\n",
    "    print(f'obj_2: {obj_2}')"
   ]
  },
  {
   "cell_type": "markdown",
   "metadata": {},
   "source": [
    "<div class=\"alert alert-block alert-warning\">\n",
    "\n",
    "However, PEP8 tells us the following is the <b>correct way</b> to do it:"
   ]
  },
  {
   "cell_type": "code",
   "execution_count": null,
   "metadata": {},
   "outputs": [],
   "source": [
    "if obj_2:\n",
    "    print(f'obj_2: {obj_2}')"
   ]
  },
  {
   "cell_type": "markdown",
   "metadata": {},
   "source": [
    "<div class=\"alert alert-block alert-warning\">\n",
    "\n",
    "Additional Sources:\n",
    "- Ahmed Besbes: https://towardsdatascience.com/whats-the-difference-between-is-and-in-python-dc26406c85ad\n",
    "- Joseph Loves Python: https://youtu.be/BTGGzloXJeQ?feature=shared"
   ]
  },
  {
   "cell_type": "code",
   "execution_count": null,
   "metadata": {},
   "outputs": [],
   "source": []
  }
 ],
 "metadata": {
  "kernelspec": {
   "display_name": "Python 3 (ipykernel)",
   "language": "python",
   "name": "python3"
  },
  "language_info": {
   "codemirror_mode": {
    "name": "ipython",
    "version": 3
   },
   "file_extension": ".py",
   "mimetype": "text/x-python",
   "name": "python",
   "nbconvert_exporter": "python",
   "pygments_lexer": "ipython3",
   "version": "3.11.9"
  }
 },
 "nbformat": 4,
 "nbformat_minor": 4
}
