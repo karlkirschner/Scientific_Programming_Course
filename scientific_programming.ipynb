{
 "cells": [
  {
   "cell_type": "markdown",
   "metadata": {},
   "source": [
    "<div class=\"alert block alert-info alert\">\n",
    "\n",
    "# <center> Scientific Programming in Python\n",
    "## <center>Karl N. Kirschner<br>Bonn-Rhein-Sieg University of Applied Sciences<br>Sankt Augustin, Germany\n",
    "\n",
    "# <center> Scientific Programming Practices\n",
    "\n",
    "<hr style=\"border:2px solid gray\"></hr>\n",
    "\n",
    "\n",
    "**Primary source**: [Wilson, G., Aruliah, D.A., Brown, C.T., Hong, N.P.C., Davis, M., Guy, R.T., Haddock, S.H., Huff, K.D., Mitchell, I.M., Plumbley, M.D. and Waugh, B., 2014. Best practices for scientific computing. PLoS biology, 12, 1-7.](https://journals.plos.org/plosbiology/article?id=10.1371/journal.pbio.1001745)"
   ]
  },
  {
   "cell_type": "markdown",
   "metadata": {},
   "source": [
    "<hr style=\"border:2px solid gray\"></hr>\n",
    "\n",
    "\"Computers are now essential in all branches of science, but most researchers are never taught the equivalent of basic lab skills for research computing. As a result, they ... are often unable to reproduce their own work ... and have no idea how reliable their computational results are.\" \n",
    "\n",
    "Wilson, Greg, Jennifer Bryan, Karen Cranston, Justin Kitzes, Lex Nederbragt, and Tracy K. Teal. \"Good enough practices in scientific computing.\" PLoS computational biology 13, no. 6 (2017).\n",
    "\n",
    "<hr style=\"border:2px solid gray\"></hr>"
   ]
  },
  {
   "cell_type": "markdown",
   "metadata": {},
   "source": [
    "# The 7 practices for programming within research settings"
   ]
  },
  {
   "cell_type": "markdown",
   "metadata": {},
   "source": [
    "<a id='best_practice_people'></a>\n",
    "## 1. Write programs for **people**, not computers\n",
    "\n",
    "**Why**\n",
    "\n",
    "1. The reader will only hold a few facts in memory at a time.\n",
    "\n",
    "**How**\n",
    "\n",
    "1. Break the program up into easy understandable chunks (i.e., functions).\n",
    "\n",
    "2. Use names that are consistent, distinctive and meaningful (e.g., \"density\" vs. \"d\").\n",
    "\n",
    "3. Use a consistent coding style (e.g., **PascalCaseNaming** vs. **camelCaseNaming** vs. **snake/pothole_case_naming** vs. **kebab-case-naming**).\n",
    "    - **PEP8**: \"Function names should be lowercase, with words separated by underscores as necessary to improve readability.\" (ie., **pothole_case_naming**)\n",
    "    \n",
    "**Example**: Ask the user for their age, and then state what it will be in 3 years."
   ]
  },
  {
   "cell_type": "code",
   "execution_count": null,
   "metadata": {},
   "outputs": [],
   "source": [
    "# Example\n",
    "print('What is your age?')\n",
    "\n",
    "my_age = input()\n",
    "\n",
    "print(f'In two years, you will be {int(my_age) + 2}')"
   ]
  },
  {
   "cell_type": "markdown",
   "metadata": {},
   "source": [
    "<hr style=\"border:2px solid gray\"></hr>\n",
    "\n",
    "<a id='best_practice_work'></a>\n",
    "## 2. Have the computer do the work\n",
    "\n",
    "**Why**\n",
    "    1. User repetition eventually results in errors, even with those who are careful\n",
    "\n",
    "**How**\n",
    "    1. Create code that does the repeating element\n",
    "        \n",
    "    2. Create code that allows sequential workflow usage and modulation\n",
    "        \n",
    "    3. Save commands to file for future use\n",
    "        \n",
    "    4. Ensure reproducibility\n",
    "        - Everything needed to re-create the output should be clear\n",
    "        - Standardize the output\n",
    "        - Version control, even as simple as using a numbering system (e.g., v.0.1)\n",
    "\n",
    "**Example**: Given the length of two triangles, get their total area. Print out all areas."
   ]
  },
  {
   "cell_type": "code",
   "execution_count": null,
   "metadata": {},
   "outputs": [],
   "source": [
    "## Poor Example\n",
    "area_total = 4.0*3.0 + 0.5*1.5\n",
    "\n",
    "print(f'Rectangle Area 1: {4.0*3.0}')\n",
    "print(f'Rectangle Area 2: {0.5*2.5}')\n",
    "print(f'Total Area: {area_total}')"
   ]
  },
  {
   "cell_type": "markdown",
   "metadata": {},
   "source": [
    "Why is it poorly done?\n",
    "1. There is no single statement that will calculate the area of 1 rectangle\n",
    "2. Not very modular, nor is it very readable\n",
    "3. Prone to human error - e.g. print('Rectangle Area 2:', 0.5*2.5)\n",
    "4. Not logically planned out"
   ]
  },
  {
   "cell_type": "code",
   "execution_count": null,
   "metadata": {},
   "outputs": [],
   "source": [
    "## Better Example\n",
    "def rectangle_area(length: float, width: float) -> float:\n",
    "    rect_area = length*width\n",
    "    \n",
    "    return rect_area\n",
    "\n",
    "\n",
    "area_1 = None\n",
    "area_2 = None\n",
    "area_total = None\n",
    "\n",
    "area_1 = rectangle_area(length=4.0, width=3.0)\n",
    "area_2 = rectangle_area(length=0.5, width=1.5)\n",
    "\n",
    "area_total = area_1 + area_2\n",
    "\n",
    "print(f'Rectangle Area 1: {area_1}\\n'\n",
    "      f'Rectangle Area 2: {area_2}\\n'\n",
    "      f'Total Area: {area_total}')"
   ]
  },
  {
   "cell_type": "markdown",
   "metadata": {},
   "source": [
    "Why is this better?\n",
    "1. A function that does one thing (i.e., isolates a single idea) that can be called multiple times\n",
    "2. Less prone to introducing errors due to the function\n",
    "3. Easy to debug and modify\n",
    "4. Better logical construction"
   ]
  },
  {
   "cell_type": "markdown",
   "metadata": {},
   "source": [
    "<hr style=\"border:2px solid gray\"></hr>\n",
    "\n",
    "<a id='best_practice_concise'></a>\n",
    "## 3. Don't repeat yourself, or others\n",
    "\n",
    "**Why**\n",
    "1. Repeating code makes things harder to maintain and increases chances of introducing errors\n",
    "\n",
    "**How**\n",
    "1. DRY - \"Don't Repeat Yourself,\" applying this to both code and data\n",
    "    - One code representation per entity.\n",
    "    \n",
    "          Example 1: physical constants should be defined once\n",
    "          \n",
    "          Example 2: input raw data should be assigned to a single variable (i.e., not duplicated)\n",
    "            \n",
    "2. Modularize your code (e.g., user-defined functions)\n",
    "\n",
    "\n",
    "3. Use reliable libraries made by others (Python is very good at this) - don't revinvent the wheel"
   ]
  },
  {
   "cell_type": "markdown",
   "metadata": {},
   "source": [
    "<hr style=\"border:2px solid gray\"></hr>\n",
    "\n",
    "<a id='best_practice_incremental'></a>\n",
    "## 4. Make small incremental (sequential) changes\n",
    "\n",
    "**Why**\n",
    "1. Typically, in scientific programming that is intended for use in research, the **result is not initially known** since each step depends on the previous one.\n",
    "\n",
    "1. In research-related work, there is **not the idea of preset requirements** (e.g., from a company). Therefore, this allows one to have more **flexibility and creativity** in the programming and approach.\n",
    "\n",
    "**How**\n",
    "1. Work in small steps (e.g., **something doable in 1 hour - increased focus**)\n",
    "\n",
    "1. Work on steps that are sequential (i.e., a **logically connected workflow**)\n",
    "\n",
    "1. Have **frequent discussions and course corrections** (with those who will use the program)\n",
    "\n",
    "1. Use a **version control system** (i.e., git) - also ensures reproducibility (i.e., important for science)\n",
    "\n",
    "1. Use **unit tests** and **internal checks** - help to control errors and directs your logical thinking\n",
    "    \n",
    "1. Make **small changes** (especially with units tests) helps to quickly **isolate errors**\n",
    "\n",
    "**Take-Home Message**\n",
    "1. Ensures a more logical construction of the code and ideas (i.e., sequential and focused workflows)\n",
    "    \n",
    "1. Reduces errors (i.e., highly focused upon a single concept at a time)\n",
    "    \n",
    "1. Generates more flexible code (e.g., due to different users communicating different desires)"
   ]
  },
  {
   "cell_type": "markdown",
   "metadata": {},
   "source": [
    "<!-- print(f'Area of circle with radius of 1.0 cm = {3.14*1.0*1.0} cm^2')\n",
    "print(f'Area of circle with radius of 2.0 cm = {3.14*2.0*2.0} cm^2')\n",
    "print(f'Area of circle with radius of 2.5 cm= {3.14*2.5*2.5} cm^2')\n",
    "print(f'Area of circle with radius of 3.5 cm= {3.14*3.5*3.5} cm^2')\n",
    "print()\n",
    "print(f'The approximate weight for a tire with an area {3.14*1.0*1.0} cm^2 is {3.14*1.0*1.0*0.3} kg')\n",
    "print(f'The approximate weight for a tire with an area {3.14*1.0*1.0} cm^2 is {3.14*2.0*2.0*0.3} kg.')\n",
    "print(f'The approximate weight for a tire with an area {3.14*1.0*1.0} cm^2 is {3.14*2.5*2.5*0.3} kg.')\n",
    "print(f'The approximate weight for a tire with an area {3.14*1.0*1.0} cm^2 is {3.14*3.5*3.5*0.3} kg') -->"
   ]
  },
  {
   "cell_type": "markdown",
   "metadata": {},
   "source": [
    "<!-- A better approach:\n",
    "\n",
    "- logical ordering of ideas\n",
    "- interal checks\n",
    "- reduce redundancies -> less chance for introducing errors\n",
    "- can make small changes to specific ideas and easily check the results -->"
   ]
  },
  {
   "cell_type": "markdown",
   "metadata": {},
   "source": [
    "<!-- from math import pi\n",
    "\n",
    "\n",
    "def circle_area(radius_input: float) -> float:\n",
    "    ''' Compute the area of a circle\n",
    "\n",
    "        Input\n",
    "            radius_input: radius of a circle\n",
    "        Return\n",
    "            circle_area: area of a circle\n",
    "    '''\n",
    "\n",
    "    if not isinstance(radius_input, float):\n",
    "        raise TypeError('Input radius is not a float.')\n",
    "    else:\n",
    "        circle_area = None\n",
    "        circle_area = pi*(radius_input**2)\n",
    "\n",
    "        return circle_area\n",
    "\n",
    "\n",
    "def tire_weight(area: float) -> float:\n",
    "    ''' Compute the approximate weight of a tire.\n",
    "\n",
    "        Input\n",
    "            area (centimeters): the area of a tire\n",
    "        Return\n",
    "            a weight (kilograms) that is approximated as tire area * 0.3\n",
    "    '''\n",
    "\n",
    "    if not isinstance(area, float):\n",
    "        raise TypeError('Input area is not a float.')\n",
    "    else:\n",
    "        return area * 0.3\n",
    "\n",
    "\n",
    "area_list = []\n",
    "weights = []\n",
    "radii=[1.0, 2.0, 2.5, 3.5]\n",
    "\n",
    "for radius in radii:\n",
    "    area = circle_area(radius_input=radius)\n",
    "    area_list.append(area)\n",
    "\n",
    "    print(f'Area of circle with radius of {radius:.1e} cm = {area:.1e} cm^2')\n",
    "\n",
    "print()\n",
    "for area in area_list:\n",
    "    weight = tire_weight(area)\n",
    "\n",
    "    print(f'The approximate weight for a tire with an area of {area:.1e} cm^2 is {weight:.1e} kg.') -->"
   ]
  },
  {
   "cell_type": "markdown",
   "metadata": {},
   "source": [
    "<hr style=\"border:2px solid gray\"></hr>\n",
    "\n",
    "<a id='best_practice_document'></a>\n",
    "## 5. Document the design and pupose (not the mechanics)\n",
    "\n",
    "**Why**\n",
    "1. Helps people understand the code - context\n",
    "    - e.g. \"This function computes ...\"\n",
    "\n",
    "2. Helps to maintain continuity (e.g. long-term projects)\n",
    "\n",
    "**How**\n",
    "\n",
    "1. Embed documentation in the code (helps with longevity and changes in people)\n",
    "    1. **docstrings** (a.k.a. block quotes) (i.e. text within triple quotes: `'''` or `\"\"\"`)\n",
    "        - Usage:\n",
    "            - Python3 programs (e.g. **my_prog.py**): proving context throughout the code\n",
    "            - Jupyter-notebooks' code cells: when providing context for a user-defind function\n",
    "\n",
    "        - Results in\n",
    "            - allowing others to get instructions for usage via (see code cells below)\n",
    "                - `my_function.__doc__`, or\n",
    "                - `help(my_function)`\n",
    "\n",
    "        - Focus upon\n",
    "            - what is the code's purpose/goals are,\n",
    "            - what input is required (e.g. passed objects/variables), and\n",
    "            - what ouput is given\n",
    "\n",
    "        - However, don't be redundant\n",
    "            - the code itself should be readable and speakable, and thus lessening the need for extensive documentation\n",
    "\n",
    "        - Documentation generator that can read the code and make a manual (e.g. sphinx-doc: https://www.sphinx-doc.org/en/master/)\n",
    "\n",
    "    2. **In-line comments**\n",
    "        - Usage:\n",
    "            - Python3 program and Jupyter-notebook code cells\n",
    "\n",
    "        - If done well (concise, logical, readable), you should not need many in-line comments to explain your code.\n",
    "\n",
    "            **Example for not needed**:<br>\n",
    "            `if input <= threshold: #if input is less than or equal to a threshold then do` is readable, and thus this line does not need to be further explained by the in-line comment.\n",
    "\n",
    "            **Example for when one is needed**:<br>\n",
    "            `energy_total = 0.3*alpha + 0.7*beta # The weighting factors come from reference 3.`<br>\n",
    "            This in-line comment clearly states the published source of the used weighting factors.  \n",
    "\n",
    "        - Use if you think your very local coding idea (i.e. given on a single line) might be unclear, or if an unaddressed assumption/approximation needs to be explained.\n",
    "\n",
    "2. Document your thought process, gained insights and to cite sources of information (i.e. existing knowledge)\n",
    "\n",
    "    1. **markdown cells**\n",
    "        - Usage:\n",
    "            - Jupyter-notebooks: when providing context for a specific project, or to pass on information to other who might use or look at your notebook.\n",
    "\n",
    "        - Consider markdown usage to be like the communication that occurs in traditional academic lab notebook.\n",
    "        \n",
    "            **Example Statement within a Markdown Cell**:<br>\n",
    "            \"The above plot show several significant outliners. Thus, we extracted the outliers and correlated their values to their input features using sklearn's function (website). This lead to the identification of the following new catagories: ... \"\n",
    "\n",
    "**Example**:"
   ]
  },
  {
   "cell_type": "code",
   "execution_count": null,
   "metadata": {},
   "outputs": [],
   "source": [
    "def rectangle_area(length, width):\n",
    "    \"\"\" Computes a rectangle's area using its length and height.\n",
    "    \n",
    "        Args:    length    - the length of the first edge\n",
    "                 height    - the length of the second edge\n",
    "                             (must be at a right angle to the first edge)\n",
    "        Return:  rect_area - the calculated area of a rectangle\n",
    "    \"\"\"\n",
    "\n",
    "    rect_area = None\n",
    "    rect_area = length*width\n",
    "\n",
    "    return rect_area"
   ]
  },
  {
   "cell_type": "code",
   "execution_count": null,
   "metadata": {},
   "outputs": [],
   "source": [
    "print(rectangle_area.__doc__)"
   ]
  },
  {
   "cell_type": "code",
   "execution_count": null,
   "metadata": {},
   "outputs": [],
   "source": [
    "help(rectangle_area)"
   ]
  },
  {
   "cell_type": "markdown",
   "metadata": {},
   "source": [
    "<hr style=\"border:2px solid gray\"></hr>\n",
    "\n",
    "<a id='best_practice_collaborate'></a>\n",
    "## 6. Collaborate\n",
    "\n",
    "**Why**\n",
    "1. This is similar to \"Peer Review\", where other people\n",
    "    - read your code,\n",
    "    - use your code in unexpected ways,\n",
    "    - bring their own perspective to your ideas, and\n",
    "    - provide quality control and feedback.\n",
    "\n",
    "**How**\n",
    "1. Have a central location for the code (e.g., Github, Dropbox)\n",
    "    \n",
    "2. Sit down and co-code together (or through online servers, e.g., discord)\n",
    "    \n",
    "3. Give it to others and have them run the code\n",
    "\n",
    "4. Give credit/acknowledgement to everyone who contributed to the ideas and writing"
   ]
  },
  {
   "cell_type": "markdown",
   "metadata": {},
   "source": [
    "<hr style=\"border:2px solid gray\"></hr>\n",
    "\n",
    "<a id='best_practice_plan'></a>\n",
    "## 7. Plan for Mistakes\n",
    "\n",
    "**Why** Because mistakes will happen by you and by program's user.\n",
    "\n",
    "**How**\n",
    "\n",
    "1. Use `isinstance` statements<br><br>\n",
    "\n",
    "2. Use `assert` statements (if True ...) to check the program's operation **while developing code**\n",
    "    - They stop the program if something is wrong\n",
    "    - Think of them as executable documentation (i.e. explains what is going on within the code)\n",
    "    - (However, asserts do have some issues with their usage --- next lecture)<br><br>\n",
    "    \n",
    "3. Take a divide-and-conquer approach to coding: simplify the code and problems\n",
    "    - e.g., user-defined functions<br><br>\n",
    "\n",
    "4. Turn bugs into test cases (e.g., in a unit test framework)<br><br>\n",
    "        \n",
    "5. (Unit tests - automated test on a single \"unit\" of code)<br><br>\n",
    "    - unittest (built-in library)- https://docs.python.org/3/library/unittest.html\n",
    "    - pytest - https://docs.pytest.org\n",
    "\n",
    "6. (Integration tests - test if units of code work together)<br><br>\n",
    "        \n",
    "7. (Regression tests - program's behavior doesn't change when the program's details are modified)\n",
    "    - e.g., the output data is presented and remains the same<br><br>\n",
    "            \n",
    "8. (Try-except statements - handle exceptions; https://docs.python.org/3/tutorial/errors.html)<br><br>    \n",
    "            \n",
    "**Note 1**: Test are often done to see if the code's output matches the researcher's expectations. That means you must have good understanding of the problem.\n",
    "    \n",
    "**Note 2**: Test can often initially be done on simpler systems<br><br>\n",
    "\n",
    "**Example**: Add an `isinstance` statement. Alternatively, add an `assert` statements to the circle_area function (see point #2 above), and then supply the function with a negative radius. "
   ]
  },
  {
   "cell_type": "code",
   "execution_count": null,
   "metadata": {},
   "outputs": [],
   "source": [
    "from math import pi\n",
    "\n",
    "\n",
    "def circle_area(radius_input: float) -> float:\n",
    "    ''' Compute the area of a circle\n",
    "\n",
    "        Input:\n",
    "            radius: radius of a circle\n",
    "        Return:\n",
    "            area: area of a circle\n",
    "    '''\n",
    "    if not isinstance(radius_input, float):\n",
    "        raise TypeError(f'The radius_input value (i.e. {radius_input}) was not a float.')\n",
    "\n",
    "    #assert (radius_input >= 0), f'The radius value (i.e. {radius_input}) must be positive.'\n",
    "\n",
    "    circle_area = None\n",
    "    circle_area = pi*(radius_input**2)\n",
    "\n",
    "    return circle_area\n",
    "\n",
    "\n",
    "radii = [1.0, 2.0, -2.5, 3.0]\n",
    "\n",
    "for radius in radii:\n",
    "    area = circle_area(radius_input=radius)\n",
    "    print(f'Area of circle with radius of {radius:0.1f}: {area:0.1e}')"
   ]
  },
  {
   "cell_type": "code",
   "execution_count": null,
   "metadata": {},
   "outputs": [],
   "source": [
    "circle_area(radius_input=5)"
   ]
  },
  {
   "cell_type": "markdown",
   "metadata": {},
   "source": [
    "Unittest require a bit more knowledge to understand their structure (e.g., class, self), but below is a very simple starting point for those who want to explore incorporating them into their Jupyter notebooks."
   ]
  },
  {
   "cell_type": "code",
   "execution_count": null,
   "metadata": {},
   "outputs": [],
   "source": [
    "import unittest"
   ]
  },
  {
   "cell_type": "code",
   "execution_count": null,
   "metadata": {},
   "outputs": [],
   "source": [
    "class Testing(unittest.TestCase):\n",
    "    def test_string(self):\n",
    "        a = 'some'\n",
    "        b = 'some'\n",
    "        self.assertEqual(a, b)\n",
    "\n",
    "    def test_boolean(self):\n",
    "        a = True\n",
    "        b = True\n",
    "        self.assertEqual(a, b)\n",
    "\n",
    "\n",
    "# execute Testing class (and its functions) when the cell is executed\n",
    "unittest.main(argv=[''], verbosity=2, exit=False)"
   ]
  },
  {
   "cell_type": "markdown",
   "metadata": {},
   "source": [
    "Applying to use our `circle_area` function above:"
   ]
  },
  {
   "cell_type": "code",
   "execution_count": null,
   "metadata": {},
   "outputs": [],
   "source": [
    "class Testing(unittest.TestCase):\n",
    "    def test_area_correct(self):\n",
    "        area = circle_area(radius_input=1.0)\n",
    "        target_area = 3.141592653589793\n",
    "        \n",
    "        self.assertEqual(area, target_area)\n",
    "\n",
    "    def test_area_incorrect(self):\n",
    "        area = circle_area(radius_input=1.0)\n",
    "        target_area = 3.1\n",
    "        \n",
    "        self.assertEqual(area, target_area)\n",
    "\n",
    "\n",
    "unittest.main(argv=[''], verbosity=2, exit=False)"
   ]
  }
 ],
 "metadata": {
  "kernelspec": {
   "display_name": "Python 3 (ipykernel)",
   "language": "python",
   "name": "python3"
  },
  "language_info": {
   "codemirror_mode": {
    "name": "ipython",
    "version": 3
   },
   "file_extension": ".py",
   "mimetype": "text/x-python",
   "name": "python",
   "nbconvert_exporter": "python",
   "pygments_lexer": "ipython3",
   "version": "3.8.17"
  }
 },
 "nbformat": 4,
 "nbformat_minor": 2
}
