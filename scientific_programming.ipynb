{
 "cells": [
  {
   "cell_type": "markdown",
   "metadata": {},
   "source": [
    "<div class=\"alert block alert-info alert\">\n",
    "\n",
    "# <center> Scientific Programming in Python\n",
    "## <center>Karl N. Kirschner<br>Bonn-Rhein-Sieg University of Applied Sciences<br>Sankt Augustin, Germany\n",
    "\n",
    "# <center> Scientific Programming Practices\n",
    "\n",
    "<hr style=\"border:2px solid gray\"></hr>\n",
    "\n",
    "\n",
    "**Primary source**: [Wilson, G., Aruliah, D.A., Brown, C.T., Hong, N.P.C., Davis, M., Guy, R.T., Haddock, S.H., Huff, K.D., Mitchell, I.M., Plumbley, M.D. and Waugh, B., 2014. Best practices for scientific computing. PLoS biology, 12, 1-7.](https://journals.plos.org/plosbiology/article?id=10.1371/journal.pbio.1001745)"
   ]
  },
  {
   "cell_type": "markdown",
   "metadata": {},
   "source": [
    "<hr style=\"border:2px solid gray\"></hr>\n",
    "\n",
    "\"Computers are now essential in all branches of science, but most researchers are never taught the equivalent of basic lab skills for research computing. As a result, they ... are often unable to reproduce their own work ... and have no idea how reliable their computational results are.\" \n",
    "\n",
    "Wilson, Greg, Jennifer Bryan, Karen Cranston, Justin Kitzes, Lex Nederbragt, and Tracy K. Teal. \"Good enough practices in scientific computing.\" PLoS computational biology 13, no. 6 (2017).\n",
    "\n",
    "<hr style=\"border:2px solid gray\"></hr>"
   ]
  },
  {
   "cell_type": "markdown",
   "metadata": {},
   "source": [
    "# The 7 practices for programming within research settings"
   ]
  },
  {
   "cell_type": "markdown",
   "metadata": {},
   "source": [
    "<a id='best_practice_people'></a>\n",
    "## 1. Write programs for **people**, not computers\n",
    "\n",
    "**Why**\n",
    "    1. The reader will only hold a few facts in memory at a time\n",
    "\n",
    "**How**\n",
    "    1. Break the program up into easy understandable chunks (i.e. functions)\n",
    "    2. Use names that are consistent, distinctive and meaningful (e.g. \"density\" vs. \"d\")\n",
    "    3. Use a consistent coding style (e.g. CamelCaseNaming vs. pothole_case_naming)\n",
    "    \n",
    "**Example**: Ask the user for their age, and then state what it will be in 3 years."
   ]
  },
  {
   "cell_type": "code",
   "execution_count": null,
   "metadata": {},
   "outputs": [],
   "source": [
    "# Example\n",
    "print('What is your age?')\n",
    "myAge = input()\n",
    "print(f'In two years, you will be {int(myAge)+2}')"
   ]
  },
  {
   "cell_type": "markdown",
   "metadata": {},
   "source": [
    "<hr style=\"border:2px solid gray\"></hr>\n",
    "\n",
    "<a id='best_practice_work'></a>\n",
    "## 2. Have the computer do the work\n",
    "\n",
    "**Why**\n",
    "    1. User repetition eventually results in errors, even with those who are careful\n",
    "\n",
    "**How**\n",
    "    1. Create code that does the repeating element\n",
    "        \n",
    "    2. Create code that allows sequential workflow usage and modulation\n",
    "        \n",
    "    3. Save commands to file for future use\n",
    "        \n",
    "    4. Ensure reproducibilty\n",
    "        - Everything needed to re-create the output should be clear\n",
    "        - Standardize the output\n",
    "        - Version control, even as simple as using a numbering system (e.g. v.0.1)\n",
    "\n",
    "**Example**: Given the length of two triangles, get their total area. Print out all areas."
   ]
  },
  {
   "cell_type": "code",
   "execution_count": null,
   "metadata": {},
   "outputs": [],
   "source": [
    "## Poor Example\n",
    "area_total = 4.0*3.0 + 0.5*1.5\n",
    "\n",
    "print(f'Rectangle Area 1: {4.0*3.0}')\n",
    "print(f'Rectangle Area 2: {0.5*1.5}')\n",
    "print(f'Total Area: {area_total}')"
   ]
  },
  {
   "cell_type": "markdown",
   "metadata": {},
   "source": [
    "Why is it poorly done?\n",
    "1. There is no single statement that will calculate the area of 1 rectangle\n",
    "2. Not very modular, nor is it very readble\n",
    "3. Prone to human error - e.g. print('Rectangle Area 2:', 0.5*2.5)"
   ]
  },
  {
   "cell_type": "code",
   "execution_count": null,
   "metadata": {},
   "outputs": [],
   "source": [
    "## Better Example\n",
    "def rectangle_area(length: float, width: float) -> float:\n",
    "    rect_area = length*width\n",
    "    \n",
    "    return rect_area\n",
    "\n",
    "\n",
    "area_1 = None\n",
    "area_2 = None\n",
    "\n",
    "area_1 = rectangle_area(length=4.0, width=3.0)\n",
    "area_2 = rectangle_area(length=0.5, width=1.5)\n",
    "area_total = area_1 + area_2\n",
    "\n",
    "print(f'Rectangle Area 1: {area_1}')\n",
    "print(f'Rectangle Area 2: {area_2}')\n",
    "print(f'Total Area: {area_total}')"
   ]
  },
  {
   "cell_type": "markdown",
   "metadata": {},
   "source": [
    "Why is this better?\n",
    "1. A function that does one thing, and can be called multiple times\n",
    "2. Modular and easy to modify\n",
    "3. Less prone to error due to the function"
   ]
  },
  {
   "cell_type": "markdown",
   "metadata": {},
   "source": [
    "<hr style=\"border:2px solid gray\"></hr>\n",
    "\n",
    "<a id='best_practice_concise'></a>\n",
    "## 3. Don't repeat yourself, or others\n",
    "\n",
    "**Why**\n",
    "    1. Repeating code makes things harder to maintain and increases chances of introducing errors\n",
    "\n",
    "**How**\n",
    "    1. DRY - \"Don't Repeat Yourself,\" applying this to both code and data\n",
    "        - One code representation of an entity. <br>\n",
    "          Example 1: physical constants should be defined (variable, object) once <br>\n",
    "          Example 2: input raw data should be assigned to a single variable (i.e. not duplicated)\n",
    "            \n",
    "    2. Modularize your code (e.g. unique functions)\n",
    "            \n",
    "    3. Use reliable libraries made by others (Python is very good at this) - don't revinvent the wheel\n",
    "\n",
    "**Example**: Calculate the area of 4 circles with radii of 1.0, 2.0, 2.5 and 3.0"
   ]
  },
  {
   "cell_type": "markdown",
   "metadata": {},
   "source": [
    "<hr style=\"border:2px solid gray\"></hr>\n",
    "\n",
    "<a id='best_practice_incremental'></a>\n",
    "## 4. Make small incremental (sequential) changes\n",
    "\n",
    "**Why**\n",
    "1. Typically, in scientific programming that is intended for use in research, the specific end result is not initally known since each steps depends on the previous one\n",
    "\n",
    "1. In scientific/research related work, their is no general idea that a \"company\" sets the requirements, as one would due in an industrial-based job. Therefore, this allows one to have a more flexibility in the programming and approach.\n",
    "\n",
    "**How**\n",
    "1. Work in small steps (e.g. something doable in 1 hour - increased focus)\n",
    "\n",
    "1. Work on steps that are sequential (i.e. a logical connected workflow)\n",
    "\n",
    "1. Have frequent discussions and course correction (with those who will use the program)\n",
    "\n",
    "1. Use a version control system (i.e. git) - also ensures reproducibility (important for science)\n",
    "\n",
    "1. Use unit tests and internal checks - help to control errors and directs your logical thinking\n",
    "    \n",
    "1. Making small changes (especially with units tests) help to quickly isolate errors that are introduced\n",
    "\n",
    "**Take-Home Message**\n",
    "1. Ensures a more logical construction of the code and ideas (i.e. sequential and focused workflows)\n",
    "    \n",
    "1. Reduces errors (i.e. highly focused upon once concept at a time)\n",
    "    \n",
    "1. Generates more flexible code (e.g. due to different users communicating different desires)\n",
    "***"
   ]
  },
  {
   "cell_type": "markdown",
   "metadata": {},
   "source": [
    "A poor example approach:"
   ]
  },
  {
   "cell_type": "code",
   "execution_count": null,
   "metadata": {},
   "outputs": [],
   "source": [
    "print(f'Area of circle with radius of 1.0: {3.14*1.0*1.0}')\n",
    "print(f'Area of circle with radius of 2.0: {3.14*2.0*2.0}')\n",
    "print(f'Area of circle with radius of 2.5: {3.14*2.5*2.5}')\n",
    "print(f'Area of circle with radius of 3.5: {3.14*3.5*3.5}')\n",
    "print()\n",
    "print(f'The approximate weight for a tire with an area {3.14*1.0*1.0} cm is {3.14*1.0*1.0*0.3} kg.')\n",
    "print(f'The approximate weight for a tire with an area {3.14*1.0*1.0} cm is {3.14*2.0*2.0*0.3} kg.')\n",
    "print(f'The approximate weight for a tire with an area {3.14*1.0*1.0} cm is {3.14*2.5*2.5*0.3} kg.')\n",
    "print(f'The approximate weight for a tire with an area {3.14*1.0*1.0} cm is {3.14*3.5*3.5*0.3} kg.')"
   ]
  },
  {
   "cell_type": "markdown",
   "metadata": {},
   "source": [
    "A better approach:\n",
    "\n",
    "- logical ordering of ideas\n",
    "- interal checks\n",
    "- reduce redundancies -> less chance for introducing errors\n",
    "- can make small changes to specific ideas and easily check the results"
   ]
  },
  {
   "cell_type": "code",
   "execution_count": null,
   "metadata": {},
   "outputs": [],
   "source": [
    "from math import pi\n",
    "\n",
    "\n",
    "def circle_area(radius_input: float) -> float:\n",
    "    ''' Compute the area of a circle\n",
    "        \n",
    "        Input\n",
    "            radius: radius of a circle\n",
    "        Return\n",
    "            area: area of a circle\n",
    "    '''\n",
    "    \n",
    "    if not isinstance(radius_input, float):\n",
    "        raise TypeError('Input radius is not a float.')\n",
    "    else:\n",
    "        circle_area = None\n",
    "        circle_area = pi*(radius_input**2)\n",
    "\n",
    "        return circle_area\n",
    "\n",
    "\n",
    "def tire_weight(area: float) -> float:\n",
    "    ''' Compute the approximate weight of a tire.\n",
    "    \n",
    "        Input\n",
    "            area (cm): the area of a tire\n",
    "        Return\n",
    "            weight (kilograms)\n",
    "    '''\n",
    "    \n",
    "    if not isinstance(area, float):\n",
    "        raise TypeError('Input area is not a float.')\n",
    "    else:\n",
    "        return area * 0.3\n",
    "\n",
    "\n",
    "area_list = []\n",
    "weights = []\n",
    "radii=[1.0, 2.0, 2.5, 3.5]\n",
    "\n",
    "for radius in radii:\n",
    "    area = circle_area(radius_input=radius)\n",
    "    area_list.append(area)\n",
    "    print(f'Area of circle with radius of {radius:.1e} cm: {area:.1e} cm^2')\n",
    "\n",
    "print()\n",
    "for area in area_list:\n",
    "    weight = tire_weight(area)\n",
    "    print(f'The approximate weight for a tire with an area of {area:.1e} cm^2 is {weight:.1e} kg.')"
   ]
  },
  {
   "cell_type": "markdown",
   "metadata": {},
   "source": [
    "<hr style=\"border:2px solid gray\"></hr>\n",
    "\n",
    "<a id='best_practice_plan'></a>\n",
    "## 5. Plan for Mistakes\n",
    "\n",
    "**Why**\n",
    "    1. Because mistakes will happen\n",
    "\n",
    "**How**\n",
    "\n",
    "1. Use `isinstance` statements<br><br>\n",
    "\n",
    "2. Use `assert` statements (if True ...) to check the program's operation **while developing code**\n",
    "    - They stop the program if something is wrong\n",
    "    - Think of them as executable documentation (i.e. explains what is going on within the code)\n",
    "    - (However, asserts do have some issues with their usage --- next lecture)<br><br>\n",
    "    \n",
    "3. Use `try` statements (or if statements)<br><br>\n",
    "            \n",
    "4. Unit tests - automated test on a single \"unit\" of code<br><br>\n",
    "\n",
    "5. Turn bugs into test cases (e.g. in a unit test framework)<br><br>\n",
    "        \n",
    "6. Take a divide-and-conquer approach to coding: simplify the code and problems\n",
    "    - e.g. user-defined functions<br><br>\n",
    "\n",
    "7. (Integration tests - test if units of code work together)<br><br>\n",
    "        \n",
    "8. (Regression tests - program's behavior doesn't change when the program's details are modified\n",
    "    - e.g. the output data is presented and remains the same<br><br>\n",
    "            \n",
    "        \n",
    "            \n",
    "**Note 1**: Test are often done to see if the code's output matches the researcher's expectations. That means you must have good understanding of the problem.\n",
    "    \n",
    "**Note 2**: Test can often initially be done on simpler systems<br><br>\n",
    "\n",
    "**Example**: Add an 'assert' statements to the circle_area function (see above), and then supply the function with a negative radius."
   ]
  },
  {
   "cell_type": "code",
   "execution_count": null,
   "metadata": {},
   "outputs": [],
   "source": [
    "from math import pi\n",
    "\n",
    "\n",
    "def circle_area(radius_input: float) -> float:\n",
    "    ''' Compute the area of a circle\n",
    "\n",
    "        Input\n",
    "            radius: radius of a circle\n",
    "        Output\n",
    "            area: area of a circle\n",
    "    '''\n",
    "\n",
    "    assert (radius_input >= 0), f'The radius value (i.e. {radius_input}) must be positive.'\n",
    "\n",
    "    circle_area = None\n",
    "    circle_area = pi*(radius_input**2)\n",
    "\n",
    "    return circle_area\n",
    "\n",
    "\n",
    "radii = [1.0, 2.0, -2.5, 3.0]\n",
    "\n",
    "for radius in radii:\n",
    "    area = circle_area(radius_input=radius)\n",
    "    print(f'Area of circle with radius of {radius:0.1f}: {area:0.1e}')"
   ]
  },
  {
   "cell_type": "markdown",
   "metadata": {},
   "source": [
    "<hr style=\"border:2px solid gray\"></hr>\n",
    "\n",
    "<a id='best_practice_document'></a>\n",
    "## 6. Document the design and pupose (not the mechanics)\n",
    "\n",
    "**Why**\n",
    "1. Helps people understand the code - context\n",
    "    - e.g. \"This function computes ...\"\n",
    "\n",
    "2. Helps to maintain continuity (e.g. long-term projects)\n",
    "\n",
    "**How**\n",
    "1. Embed documentation in the code (helps with longevity and changes in people)\n",
    "    - docstrings (i.e. text within triple quotes: `'''` or `\"\"\"`)\n",
    "        - Note: this is different than commenting with a `#`\n",
    "    - documentation generator that can read the code and make a manual (e.g. sphinx-doc: https://www.sphinx-doc.org/en/master/)\n",
    "\n",
    "2. Focus upon\n",
    "    - code's goals\n",
    "    - what is required, and\n",
    "    - what ouput is given\n",
    "\n",
    "3. However, don't be redundant\n",
    "    - Your code should be readable and speakable\n",
    "    - If done well (concise, logical, readable), you should not need line comments to explain your code \n",
    "    \n",
    "    \n",
    "    Example 1: \"if input is less than or equal to a threshold then do\" is coded as\n",
    "\n",
    "\n",
    "    `if input <= threshold:`\n",
    "             \n",
    "**Example**:"
   ]
  },
  {
   "cell_type": "code",
   "execution_count": null,
   "metadata": {},
   "outputs": [],
   "source": [
    "def rectangle_area(length, width):\n",
    "    \"\"\"Computes a rectangle's area\n",
    "    \n",
    "       Input:   length    - the length of the first edge\n",
    "                height    - the length of the second edge\n",
    "                            (must be at a right angle to the first edge)\n",
    "       Return: rect_area  - the calculated area of a rectangle\n",
    "    \"\"\"\n",
    "\n",
    "    rect_area = None\n",
    "    rect_area = length*width\n",
    "\n",
    "    return rect_area"
   ]
  },
  {
   "cell_type": "code",
   "execution_count": null,
   "metadata": {},
   "outputs": [],
   "source": [
    "print(rectangle_area.__doc__)"
   ]
  },
  {
   "cell_type": "code",
   "execution_count": null,
   "metadata": {},
   "outputs": [],
   "source": [
    "help(rectangle_area)"
   ]
  },
  {
   "cell_type": "markdown",
   "metadata": {},
   "source": [
    "<hr style=\"border:2px solid gray\"></hr>\n",
    "\n",
    "<a id='best_practice_collaborate'></a>\n",
    "## 7. Collaborate\n",
    "\n",
    "**Why**\n",
    "1. Akin to \"Peer Review\" - others see your code and might use it in different ways than expected\n",
    "\n",
    "**How**\n",
    "1. Have a central location for the code (e.g. git, Dropbox)\n",
    "    \n",
    "2. Sit down and co-code together (or through online servers, e.g. discord)\n",
    "    \n",
    "3. Give it to others users to try"
   ]
  }
 ],
 "metadata": {
  "kernelspec": {
   "display_name": "Python 3 (ipykernel)",
   "language": "python",
   "name": "python3"
  },
  "language_info": {
   "codemirror_mode": {
    "name": "ipython",
    "version": 3
   },
   "file_extension": ".py",
   "mimetype": "text/x-python",
   "name": "python",
   "nbconvert_exporter": "python",
   "pygments_lexer": "ipython3",
   "version": "3.8.10"
  }
 },
 "nbformat": 4,
 "nbformat_minor": 2
}
