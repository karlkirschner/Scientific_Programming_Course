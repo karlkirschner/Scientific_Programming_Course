{
 "cells": [
  {
   "cell_type": "markdown",
   "metadata": {},
   "source": [
    "# <center> Basic Operators\n",
    "***"
   ]
  },
  {
   "cell_type": "markdown",
   "metadata": {},
   "source": [
    "Class exercise:\n",
    "    Using a calculator (i.e. not via coding), calculate:\n",
    "    \n",
    "    2 + 3 * 4 / 5\n",
    "    \n",
    "    Write your answer in the the 'chat box'\n",
    "    \n",
    "<br><br><br><br><br><br><br><br><br><br><br><br><br><br><br><br><br><br><br>\n",
    "<br><br><br><br><br><br><br><br><br><br><br><br><br><br><br><br><br><br><br>"
   ]
  },
  {
   "cell_type": "markdown",
   "metadata": {},
   "source": [
    "Answer = 4.4 (we will see how this done below)\n",
    "\n",
    "---\n",
    "# Operators\n",
    "\n",
    "In Python, there are different types of **operators** (special symbols) that operate on different values. Some of the basic operators include:\n",
    "\n",
    "- arithmetic operators\n",
    "  - **`+`** (addition)\n",
    "  - **`-`** (subtraction)\n",
    "  - **`*`** (multiplication)\n",
    "  - **`/`** (division)\n",
    "  - __`**`__ (exponent)\n",
    "\n",
    "\n",
    "- assignment operators\n",
    "  - **`=`** (assign a value)\n",
    "  - **`+=`** (add and re-assign; increment)\n",
    "  - **`-=`** (subtract and re-assign; decrement)\n",
    "  - **`*=`** (multiply and re-assign)\n",
    "\n",
    "\n",
    "- comparison operators (return either `True` or `False`; booleans)\n",
    "  - **`==`** (equal to)\n",
    "  - **`!=`** (not equal to)\n",
    "  - **`<`** (less than)\n",
    "  - **`<=`** (less than or equal to)\n",
    "  - **`>`** (greater than)\n",
    "  - **`>=`** (greater than or equal to)"
   ]
  },
  {
   "cell_type": "markdown",
   "metadata": {},
   "source": [
    "---\n",
    "## Order of Operation\n",
    "\n",
    "When multiple operators are used in a single expression, **operator precedence** determines which parts of the expression are evaluated in which order.\n",
    "\n",
    "Operators with higher precedence are evaluated first.\n",
    "\n",
    "Operators with the same precedence are evaluated from **left to right**.\n",
    "\n",
    "Precedence importance ordering:\n",
    "1. `()` parentheses, for grouping\n",
    "2.  `**` exponent\n",
    "3. `*`, `/` multiplication and division\n",
    "4. `+`, `-` addition and subtraction\n",
    "5. `==`, `!=`, `<`, `<=`, `>`, `>=` comparisons\n",
    "\n",
    "\n",
    "#### Additional information:\n",
    "\n",
    "1. https://docs.python.org/3/reference/expressions.html#operator-precedence\n",
    "\n",
    "2. https://en.wikipedia.org/wiki/Order_of_operations"
   ]
  },
  {
   "cell_type": "markdown",
   "metadata": {},
   "source": [
    "#### Example 1: 2 + 3 * 4 / 5\n",
    "\n",
    "> Step 1. $3 * 4 = 12$ (**Notice**: `*` and `/` have the same precedence, but `*` is farthest to the left)\n",
    "\n",
    "> Step 2. $12 / 5 = 2.2$\n",
    "\n",
    "> Step 3. $2 + 2.2 = 4.4$\n",
    "\n",
    "Now, let's see what Python gives:"
   ]
  },
  {
   "cell_type": "code",
   "execution_count": null,
   "metadata": {},
   "outputs": [],
   "source": [
    "equation = 2.0 + 3.0 * 4.0 / 5.0\n",
    "\n",
    "print(\"2.0 + 3.0 * 4.0 / 5.0 = {0}\".format(equation))"
   ]
  },
  {
   "cell_type": "markdown",
   "metadata": {},
   "source": [
    "Next, let's force a specific sequence of actions to occur by using `()`.\n",
    "\n",
    "#### Example 2: (2 + 3) * 4 / 5"
   ]
  },
  {
   "cell_type": "code",
   "execution_count": null,
   "metadata": {},
   "outputs": [],
   "source": [
    "equation = (2.0 + 3.0) * 4.0 / 5.0\n",
    "\n",
    "print(\"(2.0 + 3.0) * 4.0 / 5.0 = {0}\".format(equation))\n",
    "\n",
    "print('''\n",
    "      i.e. step 1: 2.0 + 3.0  =  5.0\n",
    "           step 2: 5.0 * 4.0  = 20.0 since * is further left than /\n",
    "           step 3: 20.0 / 5.0 =  4.0\n",
    "      ''')"
   ]
  },
  {
   "cell_type": "markdown",
   "metadata": {},
   "source": [
    "#### Example 3: 2 + 3 * 4 ** 2 / 5"
   ]
  },
  {
   "cell_type": "code",
   "execution_count": null,
   "metadata": {},
   "outputs": [],
   "source": [
    "equation = 2 + 3 * 4 ** 2 / 5\n",
    "\n",
    "print(\"2 + 3 * 4 ** 2 / 5     = \", equation)\n",
    "\n",
    "print(\"\"\"\n",
    "      i.e. 4**2 = 16\n",
    "           3*16 = 48\n",
    "           48/5 = 9.6\n",
    "           2+9.6 = 11.6\n",
    "      \"\"\")"
   ]
  },
  {
   "cell_type": "markdown",
   "metadata": {},
   "source": [
    "####  Example 4: 2 + (3 * 4) ** 2 / 5"
   ]
  },
  {
   "cell_type": "code",
   "execution_count": null,
   "metadata": {},
   "outputs": [],
   "source": [
    "equation = 2 + (3 * 4) ** 2 / 5\n",
    "\n",
    "print(\"2 + (3 * 4) ** 2 / 5   = \", equation)\n",
    "\n",
    "print(\"\"\"\n",
    "      i.e. 3*4 = 12\n",
    "         12**2 = 144\n",
    "         144/5 = 28.8\n",
    "        2+28.8 = 30.8\n",
    "      \"\"\")"
   ]
  },
  {
   "cell_type": "markdown",
   "metadata": {},
   "source": [
    "**Take-home Message**: Be careful in encoding mathematical equations so that you do introduce and error.\n",
    "\n",
    "---\n",
    "## Increment (by reassigning variable)\n",
    "- right-hand-side happens first, and then the left-hand-side\n",
    "\n",
    "In the following assignment statements\n",
    "- evaluation of the right-hand-side is done first, then\n",
    "- it is assigned to the variable"
   ]
  },
  {
   "cell_type": "markdown",
   "metadata": {},
   "source": [
    "Simple demonstration - counting plants, starting with 1"
   ]
  },
  {
   "cell_type": "code",
   "execution_count": null,
   "metadata": {},
   "outputs": [],
   "source": [
    "planets = 1\n",
    "print(planets)"
   ]
  },
  {
   "cell_type": "markdown",
   "metadata": {},
   "source": [
    "Now lets add 1 more to the number of planets:\n",
    "- notice how `planets + 1` is computed first\n",
    "- then the new value is assigned to the variable `planets`"
   ]
  },
  {
   "cell_type": "code",
   "execution_count": null,
   "metadata": {},
   "outputs": [],
   "source": [
    "planets = planets + 1\n",
    "print(planets)"
   ]
  },
  {
   "cell_type": "markdown",
   "metadata": {},
   "source": [
    "Alternatively, we can use `+= 1` instead of `planets + 1`:"
   ]
  },
  {
   "cell_type": "code",
   "execution_count": null,
   "metadata": {},
   "outputs": [],
   "source": [
    "\n",
    "planets += 1\n",
    "print(planets)"
   ]
  },
  {
   "cell_type": "markdown",
   "metadata": {},
   "source": [
    "`+=` will increment other numbers too"
   ]
  },
  {
   "cell_type": "code",
   "execution_count": null,
   "metadata": {},
   "outputs": [],
   "source": [
    "planets += 5\n",
    "print(planets)"
   ]
  },
  {
   "cell_type": "markdown",
   "metadata": {},
   "source": [
    "---\n",
    "## Booleans\n",
    "- used through comparison operators (e.g. `<=`)\n",
    "\n",
    "Demo Scenerio - you have to discover more than 10 planets before you graduate."
   ]
  },
  {
   "cell_type": "code",
   "execution_count": null,
   "metadata": {},
   "outputs": [],
   "source": [
    "total_planets = 10\n",
    "print(total_planets < planets)"
   ]
  },
  {
   "cell_type": "markdown",
   "metadata": {},
   "source": [
    "### Why could this be interesting?\n",
    "- you can create conditions"
   ]
  },
  {
   "cell_type": "code",
   "execution_count": null,
   "metadata": {},
   "outputs": [],
   "source": [
    "planets = 0\n",
    "\n",
    "if (total_planets < planets) == False:\n",
    "    print('You can not graduate yet - get back to work!')\n",
    "else:\n",
    "    print('Congratulations - it is time to move on!')"
   ]
  },
  {
   "cell_type": "markdown",
   "metadata": {},
   "source": [
    "- you can create loops"
   ]
  },
  {
   "cell_type": "code",
   "execution_count": null,
   "metadata": {},
   "outputs": [],
   "source": [
    "planets = 0\n",
    "graduating = False\n",
    "\n",
    "while not graduating:\n",
    "    if (total_planets < planets) == False:\n",
    "        print('You can not graduate yet. Number of planets discovered: {0}'.format(planets))\n",
    "        planets += 1\n",
    "    else:\n",
    "        print('Congratulations - it is time to move on!')\n",
    "        graduating = True"
   ]
  }
 ],
 "metadata": {
  "kernelspec": {
   "display_name": "Python 3 (ipykernel)",
   "language": "python",
   "name": "python3"
  },
  "language_info": {
   "codemirror_mode": {
    "name": "ipython",
    "version": 3
   },
   "file_extension": ".py",
   "mimetype": "text/x-python",
   "name": "python",
   "nbconvert_exporter": "python",
   "pygments_lexer": "ipython3",
   "version": "3.8.10"
  }
 },
 "nbformat": 4,
 "nbformat_minor": 2
}
