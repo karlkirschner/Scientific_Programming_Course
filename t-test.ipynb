{
 "cells": [
  {
   "cell_type": "markdown",
   "metadata": {},
   "source": [
    "## T-Tests\n",
    "- Used on two samples data sets that are numeric\n",
    "    - if you have more than two data sets, then you must either do it a) pairwise T-tests, or something else (e.g. Anova)\n",
    "\n",
    "A T-test does two things:\n",
    "1. How **different** two means values (obtained from two sets of distributed data) are - T value\n",
    "    - Samller values indicate less differences\n",
    "    \n",
    "2. How **significant** are these differences (i.e. did they occur randomly/by chance) - P value\n",
    "    - Smaller values indicate that they were not random (i.e. P=0.05 means there is a 5% probability that the results happened by chance).\n",
    "\n",
    "\n",
    "Random, Gaussian (i.e. normal) distributin of data points\n",
    "- random.normal: https://numpy.org/doc/stable/reference/random/generated/numpy.random.normal.html\n",
    "    - creates a Gaussian distribution with a curve width based on a standard deviation value"
   ]
  },
  {
   "cell_type": "code",
   "execution_count": null,
   "metadata": {},
   "outputs": [],
   "source": [
    "from scipy import stats\n",
    "import matplotlib.pyplot as plt\n",
    "import numpy as np"
   ]
  },
  {
   "cell_type": "code",
   "execution_count": null,
   "metadata": {},
   "outputs": [],
   "source": [
    "## Three data sets - with means at 0.0 and 2.0, and standard deviations of 1.0 and 0.5\n",
    "data1 = np.random.normal(0.0, 1.0, size=50)\n",
    "data2 = np.random.normal(0.0, 0.5, size=50)\n",
    "data3 = np.random.normal(2.0, 1.0, size=50)"
   ]
  },
  {
   "cell_type": "markdown",
   "metadata": {},
   "source": [
    "Note: std = 0, would provide perfect resulting means of either 0.0 and 2.0.\n",
    "\n",
    "So, let's check what the means actually are (i.e. the effect of the std. dev.)"
   ]
  },
  {
   "cell_type": "code",
   "execution_count": null,
   "metadata": {},
   "outputs": [],
   "source": [
    "np.mean(data1)"
   ]
  },
  {
   "cell_type": "code",
   "execution_count": null,
   "metadata": {},
   "outputs": [],
   "source": [
    "np.mean(data2)"
   ]
  },
  {
   "cell_type": "code",
   "execution_count": null,
   "metadata": {},
   "outputs": [],
   "source": [
    "np.mean(data3)"
   ]
  },
  {
   "cell_type": "code",
   "execution_count": null,
   "metadata": {},
   "outputs": [],
   "source": [
    "plt.plot()\n",
    "plt.plot(data1, '-o')\n",
    "plt.plot(data2, '-r')\n",
    "plt.plot(data3, '-g')\n",
    "\n",
    "plt.hlines(np.mean(data1), 0, 50, colors='blue')\n",
    "plt.hlines(np.mean(data2), 0, 50, colors='red')\n",
    "plt.hlines(np.mean(data3), 0, 50, colors='green')\n",
    "\n",
    "plt.show()"
   ]
  },
  {
   "cell_type": "markdown",
   "metadata": {},
   "source": [
    "Use seaborn to easily plot the histogram of the data"
   ]
  },
  {
   "cell_type": "code",
   "execution_count": null,
   "metadata": {},
   "outputs": [],
   "source": [
    "import seaborn as sns\n",
    "\n",
    "plt.plot()\n",
    "sns.kdeplot(data1, color='blue', shade=True)\n",
    "sns.kdeplot(data2, color='red', shade=True)\n",
    "sns.kdeplot(data3, color='green', shade=True)\n",
    "plt.title(\"Histogram of Data\")\n",
    "plt.show()"
   ]
  },
  {
   "cell_type": "markdown",
   "metadata": {},
   "source": [
    "#### t-test\n",
    "- https://docs.scipy.org/doc/scipy/reference/generated/scipy.stats.ttest_ind.html\n",
    "\n",
    "- \"The test measures **whether the mean (expected) value differs significantly across samples**.\"\n",
    "\n",
    "- A **large p-value** (e.g. **0.05, 0.1**), then it is likely that the averages are not distinguishable.\"\n",
    "\n",
    "- \"If the p-value is smaller than the threshold, e.g. 1%, 5% or 10%, then we reject the null hypothesis of equal averages.\""
   ]
  },
  {
   "cell_type": "code",
   "execution_count": null,
   "metadata": {},
   "outputs": [],
   "source": [
    "t_stat, p_value = stats.ttest_ind(data1, data3, equal_var = False)"
   ]
  },
  {
   "cell_type": "code",
   "execution_count": null,
   "metadata": {},
   "outputs": [],
   "source": [
    "t_stat"
   ]
  },
  {
   "cell_type": "code",
   "execution_count": null,
   "metadata": {},
   "outputs": [],
   "source": [
    "p_value"
   ]
  },
  {
   "cell_type": "markdown",
   "metadata": {},
   "source": [
    "---\n",
    "#### Real-world example\n",
    "\n",
    "Research task: Investigate the height, weight, gender and age of a population of people (e.g. Germans)\n",
    "- We can't investigate the full population, so we must sample a random subset of people"
   ]
  },
  {
   "cell_type": "code",
   "execution_count": null,
   "metadata": {},
   "outputs": [],
   "source": [
    "len(np.random.random_sample((50,)))"
   ]
  },
  {
   "cell_type": "code",
   "execution_count": null,
   "metadata": {},
   "outputs": [],
   "source": [
    "import pandas as pd\n",
    "\n",
    "np.random.seed(10)\n",
    "\n",
    "height = np.random.uniform(0.5, 2.0, size=50)\n",
    "weight = np.random.uniform(15.0, 90.0, size=50)\n",
    "gender = np.random.choice(('Male', 'Female'), size=50, p=[0.4, 0.6]) ## With a 40:60 ratio of male:female\n",
    "age = np.random.uniform(3.0, 80.0, size=50)"
   ]
  },
  {
   "cell_type": "code",
   "execution_count": null,
   "metadata": {},
   "outputs": [],
   "source": [
    "height"
   ]
  },
  {
   "cell_type": "code",
   "execution_count": null,
   "metadata": {},
   "outputs": [],
   "source": [
    "np.array([height, weight, gender, age])"
   ]
  },
  {
   "cell_type": "markdown",
   "metadata": {},
   "source": [
    "Create a dataframe that contains the information of our variables.\n",
    "- 1 catagorical type data: gender\n",
    "- 3 numeric type data: height, weight and age"
   ]
  },
  {
   "cell_type": "code",
   "execution_count": null,
   "metadata": {},
   "outputs": [],
   "source": [
    "df = pd.DataFrame(list(zip(height, weight, gender, age)), columns=['height (m)', 'weight (kg)', 'gender', 'age'])"
   ]
  },
  {
   "cell_type": "code",
   "execution_count": null,
   "metadata": {},
   "outputs": [],
   "source": [
    "df"
   ]
  },
  {
   "cell_type": "code",
   "execution_count": null,
   "metadata": {},
   "outputs": [],
   "source": [
    "df[df[\"gender\"] == \"Male\"].count()"
   ]
  },
  {
   "cell_type": "code",
   "execution_count": null,
   "metadata": {},
   "outputs": [],
   "source": [
    "df[df[\"gender\"] == \"Female\"].count()"
   ]
  },
  {
   "cell_type": "markdown",
   "metadata": {},
   "source": [
    "Now let's look at our random distribution and think about correlation between the data."
   ]
  },
  {
   "cell_type": "code",
   "execution_count": null,
   "metadata": {},
   "outputs": [],
   "source": [
    "hist = sns.FacetGrid(df, col=\"gender\")\n",
    "hist.map(sns.distplot, \"height (m)\", bins=20)\n",
    "hist.add_legend()"
   ]
  },
  {
   "cell_type": "code",
   "execution_count": null,
   "metadata": {},
   "outputs": [],
   "source": [
    "hist = sns.FacetGrid(df, col=\"gender\")\n",
    "hist.map(sns.distplot, \"weight (kg)\", bins=20)\n",
    "hist.add_legend()"
   ]
  },
  {
   "cell_type": "code",
   "execution_count": null,
   "metadata": {},
   "outputs": [],
   "source": [
    "hist = sns.FacetGrid(df, col=\"gender\")\n",
    "hist.map(sns.distplot, \"age\", bins=20)\n",
    "hist.add_legend()"
   ]
  },
  {
   "cell_type": "markdown",
   "metadata": {},
   "source": [
    "Compute the mean and median as a function of the gender.\n",
    "- use pandas groupby function"
   ]
  },
  {
   "cell_type": "code",
   "execution_count": null,
   "metadata": {},
   "outputs": [],
   "source": [
    "df.groupby(['gender']).mean()"
   ]
  },
  {
   "cell_type": "code",
   "execution_count": null,
   "metadata": {},
   "outputs": [],
   "source": [
    "df.groupby(['gender']).median()"
   ]
  },
  {
   "cell_type": "code",
   "execution_count": null,
   "metadata": {},
   "outputs": [],
   "source": [
    "sns.lmplot(x='weight (kg)', y='age', data=df, hue='gender', fit_reg=True, legend=True)\n",
    "plt.show()"
   ]
  },
  {
   "cell_type": "code",
   "execution_count": null,
   "metadata": {},
   "outputs": [],
   "source": [
    "sns.lmplot(x='height (m)', y='age', data=df, hue='gender', fit_reg=True, legend=True)\n",
    "plt.show()"
   ]
  },
  {
   "cell_type": "code",
   "execution_count": null,
   "metadata": {},
   "outputs": [],
   "source": [
    "sns.lmplot(x='height (m)', y='weight (kg)', data=df, hue='gender', fit_reg=True, legend=True)\n",
    "plt.show()"
   ]
  },
  {
   "cell_type": "code",
   "execution_count": null,
   "metadata": {},
   "outputs": [],
   "source": [
    "sns.jointplot(x='height (m)', y='age', data=df, kind='reg', color='b')\n",
    "plt.show()"
   ]
  },
  {
   "cell_type": "markdown",
   "metadata": {},
   "source": [
    "####\n",
    "Research Question: Is there a difference between the number of mean and women in the population?\n",
    "- Hypothesis Zero (aka Null Hypotheis): there is no difference\n",
    "- Hypothesis One: there is a difference\n",
    "\n",
    "In other words - is our sampling of the real population artifically skewed, or is it likely to be real?"
   ]
  },
  {
   "cell_type": "code",
   "execution_count": null,
   "metadata": {},
   "outputs": [],
   "source": [
    "sns.countplot(x=\"gender\", data=df)"
   ]
  },
  {
   "cell_type": "markdown",
   "metadata": {},
   "source": [
    "We must first determine a threshold for how low our statisical result is for use to have confidence that the Null Hypothesis is wrong - i.e. the probability value (P-value) that the Null Hypothesis is wrong.\n",
    "\n",
    "Common convention is 5%\n",
    "\n",
    "One-Sample Proportion Test"
   ]
  },
  {
   "cell_type": "code",
   "execution_count": null,
   "metadata": {},
   "outputs": [],
   "source": [
    "from scipy import stats\n",
    "\n",
    "test = np.array([60,40])\n",
    "stats.zscore(test)\n"
   ]
  },
  {
   "cell_type": "code",
   "execution_count": null,
   "metadata": {},
   "outputs": [],
   "source": [
    "df.groupby('gender')['age'].transform(stats.zscore)"
   ]
  },
  {
   "cell_type": "code",
   "execution_count": null,
   "metadata": {},
   "outputs": [],
   "source": [
    "x = (df.groupby('gender')['age'])"
   ]
  },
  {
   "cell_type": "code",
   "execution_count": null,
   "metadata": {},
   "outputs": [],
   "source": [
    "for i in x:\n",
    "    print(i)"
   ]
  }
 ],
 "metadata": {
  "kernelspec": {
   "display_name": "Python 3",
   "language": "python",
   "name": "python3"
  },
  "language_info": {
   "codemirror_mode": {
    "name": "ipython",
    "version": 3
   },
   "file_extension": ".py",
   "mimetype": "text/x-python",
   "name": "python",
   "nbconvert_exporter": "python",
   "pygments_lexer": "ipython3",
   "version": "3.8.1"
  }
 },
 "nbformat": 4,
 "nbformat_minor": 2
}
