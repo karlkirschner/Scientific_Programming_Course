{
 "cells": [
  {
   "cell_type": "markdown",
   "metadata": {},
   "source": [
    "<div class=\"alert block alert-info alert\">\n",
    "\n",
    "# <center> Scientific Programming in Python\n",
    "\n",
    "## <center>Karl N. Kirschner<br>Bonn-Rhein-Sieg University of Applied Sciences<br>Sankt Augustin, Germany\n",
    "\n",
    "# <center> Testing Inside your Code<br><br>and<br><br>Testing the Code Itself\n",
    "\n",
    "<!-- <br><br> -->\n",
    "\n",
    "<hr style=\"border:2px solid gray\"></hr>\n",
    "\n",
    "**Note**: All user-defined functions in the notebook do not include document strings (i.e. block comments) or internal checks. This is purposely done to focus on the teaching aspects of the lecture. **A full and proper user-defined function would include these.**"
   ]
  },
  {
   "cell_type": "code",
   "execution_count": null,
   "metadata": {},
   "outputs": [],
   "source": [
    "## For extra information given within the lectures\n",
    "\n",
    "from IPython.display import HTML\n",
    "\n",
    "\n",
    "def set_code_background(color: str):\n",
    "    ''' Set the background color for code cells.\n",
    "\n",
    "        Source: psychemedia via https://stackoverflow.com/questions/49429585/\n",
    "                how-to-change-the-background-color-of-a-single-cell-in-a-jupyter-notebook-jupy\n",
    "\n",
    "        To match Jupyter's dev class colors:\n",
    "            \"alert alert-block alert-warning\" = #fcf8e3\n",
    "\n",
    "        Args:\n",
    "            color: HTML color, rgba, hex\n",
    "    '''\n",
    "\n",
    "    script = (\"var cell = this.closest('.code_cell');\"\n",
    "              \"var editor = cell.querySelector('.input_area');\"\n",
    "              f\"editor.style.background='{color}';\"\n",
    "              \"this.parentNode.removeChild(this)\")\n",
    "    display(HTML(f'<img src onerror=\"{script}\">'))\n",
    "\n",
    "\n",
    "set_code_background(color='#fcf8e3')"
   ]
  },
  {
   "cell_type": "markdown",
   "metadata": {},
   "source": [
    "<div class=\"alert alert-block alert-warning\">\n",
    "<hr style=\"border:1.5px dashed gray\"></hr>\n",
    "\n",
    "**Sidenote**:  A quick reminder about typing\n",
    "\n",
    "Note that **typing** (a.k.a. type hinting, annotating functions) - actually **doesn't enforce** anything.\n",
    "\n",
    "We use them for our own and others' **clarification** of the code and its usage."
   ]
  },
  {
   "cell_type": "code",
   "execution_count": null,
   "metadata": {},
   "outputs": [],
   "source": [
    "def user_function(number: float) -> float:\n",
    "    return number*2"
   ]
  },
  {
   "cell_type": "code",
   "execution_count": null,
   "metadata": {},
   "outputs": [],
   "source": [
    "user_function(number='me')"
   ]
  },
  {
   "cell_type": "markdown",
   "metadata": {},
   "source": [
    "<div class=\"alert alert-block alert-warning\">\n",
    "<hr style=\"border:1.5px dashed gray\"></hr>"
   ]
  },
  {
   "cell_type": "markdown",
   "metadata": {},
   "source": [
    "<hr style=\"border:1px solid gray\"></hr>\n",
    "\n",
    "# Testing Inside Your Code\n",
    "\n",
    "\n",
    "## `assert` versus `raise`\n",
    "\n",
    "### `assert`\n",
    "\n",
    "**Usage**: `assert test_condition, 'Error message to display'`\n",
    "\n",
    "- specify expectations for what your variables are\n",
    "- A helpful way to <font color='Red'>**debug**</font> code\n",
    "\n",
    "\n",
    "- Includes **traceback** (a.k.a. stack trace, stack traceback, backtrace) to show you the sequence of calls and associated problems\n",
    "    - https://realpython.com/python-traceback\n",
    "\n",
    "- An `assert` statement is **equivalent** to the following code:\n",
    "\n",
    "```python\n",
    "if not condition:\n",
    "    raise AssertionError()\n",
    "```\n",
    "\n",
    "\n",
    "- <font color='DodgerBlue'>Asserts are **not** meant to **test for expected conditions**</font>\n",
    "    - **Security issue**: see below."
   ]
  },
  {
   "cell_type": "code",
   "execution_count": null,
   "metadata": {},
   "outputs": [],
   "source": [
    "my_test_obj = 5\n",
    "\n",
    "assert my_test_obj != 5, 'ERROR MESSAGE FROM YOUR INSTRUCTOR - I LIKE YELLING WHEN I TYPE MESSAGES'"
   ]
  },
  {
   "cell_type": "markdown",
   "metadata": {},
   "source": [
    "### Practical usage\n",
    "\n",
    "1. Create & demo a simple function without and `assert` statement\n",
    "2. Create & demo one with an `assert` statement"
   ]
  },
  {
   "cell_type": "code",
   "execution_count": null,
   "metadata": {},
   "outputs": [],
   "source": [
    "def divide_me(number_1: float, number_2: float) -> float:\n",
    "\n",
    "    return number_1/number_2\n",
    "\n",
    "\n",
    "divide_me(number_1=1.0, number_2=2.0)"
   ]
  },
  {
   "cell_type": "markdown",
   "metadata": {},
   "source": [
    "The functions <font color='DodgerBlue'>**runs fine**</font>, **but** we could provide more customized feedback."
   ]
  },
  {
   "cell_type": "code",
   "execution_count": null,
   "metadata": {},
   "outputs": [],
   "source": [
    "divide_me(number_1=1.0, number_2=None)"
   ]
  },
  {
   "cell_type": "markdown",
   "metadata": {},
   "source": [
    "An `assert` can check to make sure that a variable is not `None` (via `!=` or `is not None`), allowing you to <font color='DodgerBlue'>customize the feedback (i.e. placing the error into context)</font>."
   ]
  },
  {
   "cell_type": "code",
   "execution_count": null,
   "metadata": {},
   "outputs": [],
   "source": [
    "def divide_me(number_1: float, number_2: float) -> float:\n",
    "\n",
    "    assert number_1 is not None, 'The numerator was not provided.'\n",
    "    assert number_2 != None, 'The denominator was not provided.'\n",
    "    assert number_2 != 0.0, \"Error: you can't divide by zero. How dare you try!\"\n",
    "\n",
    "    return number_1/number_2\n",
    "\n",
    "\n",
    "divide_me(number_1=1.0, number_2=None)"
   ]
  },
  {
   "cell_type": "markdown",
   "metadata": {},
   "source": [
    "### `Assert` Security issue\n",
    "\n",
    "There is also a way for users to **circumvent** (i.e. get around) assert statements.\n",
    "\n",
    "From a bash terminal:\n",
    "- **python assert_example.py**: reads the assert statement (everything seems to be working properly)\n",
    "- **python -O assert_example.py**: the assert statement is not read (i.e. it is bypassed), and instead prints a standard error statement\n",
    "\n",
    "In the following, I will also demonstrate how one can <font color='DodgerBlue'>write a Python script in Jupyter notebook</font> and save it to your hard drive."
   ]
  },
  {
   "cell_type": "markdown",
   "metadata": {},
   "source": [
    "<div class=\"alert alert-block alert-warning\">\n",
    "<hr style=\"border:1.5px dashed gray\"></hr>\n",
    "\n",
    "**Sidenote**: Jupyter Notebook <font color='DodgerBlue'>Magic Commands</font>\n",
    "\n",
    "https://ipython.readthedocs.io/en/stable/interactive/magics.html\n",
    "\n",
    "https://towardsdatascience.com/useful-ipython-magic-commands-245e6c024711\n",
    "\n",
    "1. line magic commands (`%`) - the input directly follows the `%`\n",
    "2. cell magic commands (`%%`) - the entire cell becomes the input\n",
    "\n",
    "- `%load` import code from a Python script (e.g. `%load filename.py`)\n",
    "\n",
    "- `%%writefile filename`: write the contents of a cell to a file\n",
    "\n",
    "- `%timeit` and `%%timeit`: code performance"
   ]
  },
  {
   "cell_type": "code",
   "execution_count": null,
   "metadata": {},
   "outputs": [],
   "source": [
    "%lsmagic"
   ]
  },
  {
   "cell_type": "markdown",
   "metadata": {},
   "source": [
    "Getting help is easy - just add a `?` to the end of the command:"
   ]
  },
  {
   "cell_type": "code",
   "execution_count": null,
   "metadata": {},
   "outputs": [],
   "source": [
    "%%writefile?"
   ]
  },
  {
   "cell_type": "markdown",
   "metadata": {},
   "source": [
    "<div class=\"alert alert-block alert-warning\">\n",
    "<hr style=\"border:1.5px dashed gray\"></hr>"
   ]
  },
  {
   "cell_type": "code",
   "execution_count": null,
   "metadata": {},
   "outputs": [],
   "source": [
    "%%writefile 'assert_example.py'\n",
    "#!/usr/bin/env python\n",
    "\n",
    "'''\n",
    "An example of why using assert to test for expected conditions is bad.\n",
    "\n",
    "You can \"turn off\" asserts by typing \"python -O filename.py\" and thus\n",
    "    bypassing the check.\n",
    "\n",
    "Expectations when running the code in a bash terminal:\n",
    "python assert_example.py -> assert is read and prints out its error\n",
    "python -O assert_example.py -> assert is not read and the program runs\n",
    "'''\n",
    "\n",
    "def simple_print(number_1: float, number_2: float) -> float:\n",
    "\n",
    "    assert number_1 != None, \"Error: you did not provide a numerator\"\n",
    "    assert number_2 != None, \"Error: you did not provide a denominator\"\n",
    "    assert number_2 != 0, \"Number 2 can't be zero\"\n",
    "\n",
    "    print(number_1, number_2)\n",
    "\n",
    "simple_print(number_1=None, number_2=0.0)"
   ]
  },
  {
   "cell_type": "code",
   "execution_count": null,
   "metadata": {},
   "outputs": [],
   "source": [
    "%cat 'assert_example.py'"
   ]
  },
  {
   "cell_type": "markdown",
   "metadata": {},
   "source": [
    "**Note:** The following works when executed from a **local computer** that has the above python script saved to the working directory."
   ]
  },
  {
   "cell_type": "code",
   "execution_count": null,
   "metadata": {},
   "outputs": [],
   "source": [
    "! python3 assert_example.py"
   ]
  },
  {
   "cell_type": "markdown",
   "metadata": {},
   "source": [
    "Including a **`-O`** will <font color='DodgerBlue'>**ignore all assert statements**</font>.\n",
    "\n",
    "Why do this?\n",
    "- Also sets the special builtin name `__debug__` to `False` (`True` by default)\n",
    "    - E.g.: `if __debug__ then:`\n",
    "- Useful while working/optimizing code.\n",
    "- Results is a very small performance boost."
   ]
  },
  {
   "cell_type": "code",
   "execution_count": null,
   "metadata": {},
   "outputs": [],
   "source": [
    "! python3 -O assert_example.py"
   ]
  },
  {
   "cell_type": "code",
   "execution_count": null,
   "metadata": {},
   "outputs": [],
   "source": [
    "%rm assert_example.py"
   ]
  },
  {
   "cell_type": "markdown",
   "metadata": {},
   "source": [
    "#### Take-home message about `asserts` and in-my-opinion:\n",
    "\n",
    "- They help debug your code during its development.\n",
    "- They are not as robust as one thinks.\n",
    "- There are better ways to have internal checks."
   ]
  },
  {
   "cell_type": "markdown",
   "metadata": {},
   "source": [
    "<div class=\"alert alert-block alert-warning\">\n",
    "<hr style=\"border:1.5px dashed gray\"></hr>\n",
    "\n",
    "## `isinstance` - another way to provide internal checks in your code\n",
    "\n",
    "https://docs.python.org/3/library/functions.html#isinstance\n",
    "\n",
    "- this is a python built-in function\n",
    "- can check on a variable's type (e.g., int, float, str)\n",
    "\n",
    "<hr style=\"border:1.5px dashed gray\"></hr>"
   ]
  },
  {
   "cell_type": "markdown",
   "metadata": {},
   "source": [
    "# Exceptions: testing for expected conditions\n",
    "<!-- EAFP (\"<font color='DodgerBlue'>**E**asier to **A**sk for **F**orgiveness than **P**ermission</font>\")\n",
    "- often adopted by programmers,\n",
    "- but is that good practice?\n",
    "\n",
    "EAFP can be implemented via the: -->\n",
    "### `try`-`except` statement\n",
    "- tells your code to try something\n",
    "- then tell it what to do if it fails based on an exception type\n",
    "\n",
    " \n",
    "#### Strengths:\n",
    "1. your code will <font color='DodgerBlue'>**continue**</font> when it encounters a problem<br><br>\n",
    "\n",
    "2. <font color='DodgerBlue'>**faster** than if statements</font> for when <font color='DodgerBlue'>majority of the planned tasks are **expected** to be **successful**</font> (i.e., they don't encounter an exception)\n",
    "\n",
    "<br><br>\n",
    "**Simple Example**"
   ]
  },
  {
   "cell_type": "code",
   "execution_count": null,
   "metadata": {},
   "outputs": [],
   "source": [
    "try:\n",
    "    print(5/0)\n",
    "except ZeroDivisionError:\n",
    "    print(\"Error: You can't have a zero in the denominator.\")"
   ]
  },
  {
   "cell_type": "markdown",
   "metadata": {},
   "source": [
    "**More Sophisticated Example**\n",
    "\n",
    "Let's set up a <font color='DodgerBlue'>division calculator</font> that allows users to input numbers and quit at any time using while and if loops (to demonstrate via a comparison of code).\n",
    "\n",
    "1. First, set something up without `try`-`except` in order to see its advantage later.\n",
    "2. Second, do the same thing with `try`-`except`\n",
    "\n",
    "<font color='DodgerBlue'>Demonstrate the following</font>:\n",
    "1. normal operation\n",
    "2. exiting by typing 'q'\n",
    "3. <font color='Red'>O</font> (i.e., a capital alphabet letter \"O\", as in \"O\"ktoberfest (also demonstrates traceback error))\n",
    "\n",
    "Without `try`-`except` statement:"
   ]
  },
  {
   "cell_type": "code",
   "execution_count": null,
   "metadata": {},
   "outputs": [],
   "source": [
    "## print('Type two numbers that you want to be divided.')\n",
    "print(\"Type 'q' to quit.\")\n",
    "print()\n",
    "\n",
    "while True:\n",
    "    numerator = input('Numerator = ')\n",
    "    if numerator == 'q':\n",
    "        break\n",
    "\n",
    "    denominator = input('Denominator = ')\n",
    "    if denominator == 'q':\n",
    "        break\n",
    "\n",
    "    if denominator == '0':\n",
    "        print(\"You can't have a zero in the denominator.\")\n",
    "        break\n",
    "\n",
    "    answer = float(numerator)/float(denominator)\n",
    "    print(f'Answer for {numerator}/{denominator} = {answer}\\n')"
   ]
  },
  {
   "cell_type": "markdown",
   "metadata": {},
   "source": [
    "Modify the above code to use a **`try`-`except` statement**, and try it with <font color='Red'>O</font>.\n",
    "\n",
    "**Note**: <font color='DodgerBlue'>Multiple `except` conditions via a **tuple**</font>:<br>\n",
    "`except (ZeroDivisionError, ValueError):`\n",
    "- `ZeroDivisionError` when the denominator is zero\n",
    "- `ValueError` for when a string is given as an input"
   ]
  },
  {
   "cell_type": "code",
   "execution_count": null,
   "metadata": {},
   "outputs": [],
   "source": [
    "print('Type two numbers that you want to be divided.')\n",
    "print(\"Type 'q' to quit.\")\n",
    "print()\n",
    "\n",
    "while True:\n",
    "    numerator = input('Numerator = ')\n",
    "    if numerator == 'q':\n",
    "        break\n",
    "\n",
    "    denominator = input('Denominator = ')\n",
    "    if denominator == 'q':\n",
    "        break\n",
    "\n",
    "    try:\n",
    "        answer = float(numerator)/float(denominator)\n",
    "        print(f'Answer for {numerator}/{denominator} = {answer}\\n')\n",
    "\n",
    "    except (ZeroDivisionError, ValueError):\n",
    "        print('Your input was either not a number, or you are dividing by a zero.')"
   ]
  },
  {
   "cell_type": "markdown",
   "metadata": {},
   "source": [
    "<font color='DodgerBlue'>Now the code continues to run, even though an error was raised!</font>"
   ]
  },
  {
   "cell_type": "markdown",
   "metadata": {},
   "source": [
    "<div class=\"alert alert-block alert-warning\">\n",
    "<hr style=\"border:1.5px dashed gray\"></hr>\n",
    "\n",
    "**Sidenote**: `TypeError` versus `ValueError`\n",
    "\n",
    "- `ValueError`: raised when an operation or function receives an argument that\n",
    "    1. has the **correct type**, but\n",
    "    2. an **inappropriate value**\n",
    "\n",
    "\n",
    "- `TypeError`: raised when passing arguments of the **wrong type** (e.g. passing a `list` when an `int` is expected)\n",
    "\n",
    "Best understood through the following example..."
   ]
  },
  {
   "cell_type": "code",
   "execution_count": null,
   "metadata": {},
   "outputs": [],
   "source": [
    "def attempt_float(number):\n",
    "    try:\n",
    "        return float(number)\n",
    "\n",
    "    except (TypeError):\n",
    "        print(f'Input ({number}) (type: {type(number)}) was not the right type (i.e TypeError).')\n",
    "\n",
    "    except (ValueError):\n",
    "        print(f'Input ({number}) (type: {type(number)}) was not a correct value (i.e. ValueError).')"
   ]
  },
  {
   "cell_type": "code",
   "execution_count": null,
   "metadata": {},
   "outputs": [],
   "source": [
    "attempt_float(0.1)"
   ]
  },
  {
   "cell_type": "markdown",
   "metadata": {},
   "source": [
    "<div class=\"alert alert-block alert-warning\">\n",
    "\n",
    "The built-in float can also accept a string if it is a decimal:\n",
    "\"If the argument is a string, it should contain a decimal number...\" (https://docs.python.org/3/library/functions.html#float)"
   ]
  },
  {
   "cell_type": "code",
   "execution_count": null,
   "metadata": {},
   "outputs": [],
   "source": [
    "attempt_float('0.1')"
   ]
  },
  {
   "cell_type": "code",
   "execution_count": null,
   "metadata": {},
   "outputs": [],
   "source": [
    "## a ValueError (correct type, wrong value)\n",
    "attempt_float('something')"
   ]
  },
  {
   "cell_type": "code",
   "execution_count": null,
   "metadata": {},
   "outputs": [],
   "source": [
    "## a TypeError (wrong type)\n",
    "attempt_float([0.1, 0.2])"
   ]
  },
  {
   "cell_type": "markdown",
   "metadata": {},
   "source": [
    "<div class=\"alert alert-block alert-warning\">\n",
    "<hr style=\"border:1.5px dashed gray\"></hr>"
   ]
  },
  {
   "cell_type": "markdown",
   "metadata": {},
   "source": [
    "<hr style=\"border:2px solid gray\"></hr>\n",
    "\n",
    "<h1 align='center'>Test Driven Development\n",
    "    \n",
    "<h2 align='center'> a.k.a. Unit Tests"
   ]
  },
  {
   "cell_type": "markdown",
   "metadata": {},
   "source": [
    "https://docs.python.org/3/library/unittest.html"
   ]
  },
  {
   "cell_type": "markdown",
   "metadata": {},
   "source": [
    "## Test Driven Development - writing tests before you write your production code\n",
    "1. Ensures proper and directed functionality of your code\n",
    " - creating **concise** code that does a **single** thing (e.g., user-defined functions)\n",
    "2. Helps you plan your code - what do you **actually want** to do (critical thinking)\n",
    "3. Reduces **errors**\n",
    "4. Ensures **reproducibility**\n",
    "5. Helps to ensure a code's **long life**\n",
    "\n",
    "## The Workflow Concept\n",
    "1. Write a failing test\n",
    "2. Run and ensure failure\n",
    "3. Write code to pass\n",
    "4. Run and ensure passing\n",
    "5. Refactor (i.e., restructure/clean up code without changing it final result)\n",
    "6. Redo steps 1-5\n",
    "\n",
    "## Scientific and Data Research\n",
    "It is **CRITICAL** that:\n",
    "1. you get the correct results\n",
    "2. you make it generate reproducible results, especially as the code becomes bigger (and changes)"
   ]
  },
  {
   "cell_type": "markdown",
   "metadata": {},
   "source": [
    "#### Assert statements that can be used in unittest library\n",
    "\n",
    "https://docs.python.org/3/library/unittest.html#module-unittest\n",
    "\n",
    "\n",
    "| Method | Checks that | New in |\n",
    "|:------|:-:|:-:|\n",
    "| assertEqual(a, b) | a == b | |\n",
    "| assertNotEqual(a, b)| a != b | |\n",
    "| assertTrue(x) | bool(x) is True | |\n",
    "| assertFalse(x) | bool(x) is False | |\n",
    "| assertIs(a, b) | a is b | 3.1 |\n",
    "| assertIsNot(a, b) | a is not b | 3.1 |\n",
    "| assertIsNone(x) | x is None | 3.1 |\n",
    "| assertIsNotNone(x) | x is not None | 3.1 |\n",
    "| assertIn(a, b) | a in b | 3.1 |\n",
    "| assertNotIn(a, b) | a not in b | 3.1 |\n",
    "| assertIsInstance(a, b) | isinstance(a, b) | 3.2 |\n",
    "| assertNotIsInstance(a, b) | not isinstance(a, b) | 3.2 |\n",
    "| | | |\n",
    "| | | |\n",
    "| assertAlmostEqual(a, b) | round(a-b, 7) == 0 | |\n",
    "| assertNotAlmostEqual(a, b) | round(a-b, 7) != 0 | |\n",
    "| assertGreater(a, b) | a > b | 3.1 |\n",
    "| assertGreaterEqual(a, b) | a >= b | 3.1 |\n",
    "| assertLess(a, b) | a < b | 3.1 |\n",
    "| assertLessEqual(a, b) | a <= b | 3.1 |\n",
    "| assertRegex(s, r) | r.search(s) | 3.1 |\n",
    "| assertNotRegex(s, r) | not r.search(s) | 3.2 |\n",
    "| assertCountEqual(a, b) | a and b have the same elements in the same number, regardless of their order. | 3.2 |\n",
    "\n",
    "\n",
    "| Method | Used to compare | New in|\n",
    "|:------|:-:|:-:|\n",
    "| assertMultiLineEqual(a, b) | strings | 3.1 |\n",
    "| assertSequenceEqual(a, b) | sequences | 3.1 |\n",
    "| assertListEqual(a, b) | lists | 3.1 |\n",
    "| assertTupleEqual(a, b) | tuples | 3.1 |\n",
    "| assertSetEqual(a, b) | sets or frozensets | 3.1 |\n",
    "| assertDictEqual(a, b) | dicts | 3.1 |"
   ]
  },
  {
   "cell_type": "markdown",
   "metadata": {},
   "source": [
    "Demonstrate the following two scenarios:\n",
    "1. Scenario 1: the unit test runs with everything correct\n",
    "2. Scenario 2: the unit test runs, but with errors\n",
    "     - A new `assertEqual` is added\n",
    "\n",
    "**Note**: We will include <font color='DodgerBlue'>additional assert statements just to demonstrate how the output of a unit test looks like</font>, even though it is not relevant to our user-defined function.\n",
    "\n",
    "**Scenario 1**: the unit test runs with everything <font color='DodgerBlue'>correctly</font>\n",
    "\n",
    "Define a user-defined function to demo how that is done:"
   ]
  },
  {
   "cell_type": "code",
   "execution_count": null,
   "metadata": {},
   "outputs": [],
   "source": [
    "def hello_world():\n",
    "    return 'hello world'"
   ]
  },
  {
   "cell_type": "markdown",
   "metadata": {},
   "source": [
    "**Note**: `isupper()`\n",
    "\n",
    "- `str.isupper()`: Return `True` if all characters in a given string are uppercase, otherwise it is `False`.\n",
    "    \n",
    "    - https://docs.python.org/3/library/stdtypes.html"
   ]
  },
  {
   "cell_type": "code",
   "execution_count": null,
   "metadata": {},
   "outputs": [],
   "source": [
    "import unittest\n",
    "\n",
    "\n",
    "class MyFirstUniTTests(unittest.TestCase):\n",
    "\n",
    "    def test_isEqual(self):\n",
    "        self.assertEqual(hello_world(), 'hello world')\n",
    "\n",
    "    def test_isLess(self):\n",
    "        self.assertLess(5, 10)\n",
    "\n",
    "    def test_isLessEqual(self):\n",
    "        self.assertLessEqual(10, 10)\n",
    "\n",
    "    def test_isUpperTrue(self):\n",
    "        self.assertTrue('FOO'.isupper())\n",
    "\n",
    "    def test_isUpperFalse(self):\n",
    "        self.assertFalse('Foo'.isupper())\n",
    "\n",
    "\n",
    "## Normal usage (in a .py script)\n",
    "#if __name__ == '__main__':\n",
    "#    unittest.main()\n",
    "\n",
    "## For usage in jupyter and colaboratory (due to the kernel)\n",
    "if __name__ == '__main__':\n",
    "    unittest.main(argv=['ignored', '-v'], exit=False)"
   ]
  },
  {
   "cell_type": "markdown",
   "metadata": {},
   "source": [
    "**Scenario 2**: the unit test runs, but some <font color='red'>errors</font> occur"
   ]
  },
  {
   "cell_type": "code",
   "execution_count": null,
   "metadata": {},
   "outputs": [],
   "source": [
    "class MyFirstUniTTests(unittest.TestCase):\n",
    "\n",
    "    def test_fail(self):\n",
    "       self.assertEqual(hello_world(), 'bye world')\n",
    "\n",
    "    def test_isEqual(self):\n",
    "        self.assertEqual(hello_world(), 'hello world')\n",
    "\n",
    "    def test_isLess(self):\n",
    "        self.assertLess(5, 10)\n",
    "\n",
    "    def test_isLessEqual(self):\n",
    "        self.assertLessEqual(10, 10)\n",
    "\n",
    "    def test_isUpperTrue(self):\n",
    "        self.assertTrue('FOO'.isupper())\n",
    "\n",
    "    def test_isUpperFalse(self):\n",
    "        self.assertFalse('Foo'.isupper())\n",
    "\n",
    "\n",
    "if __name__ == '__main__':\n",
    "    unittest.main(argv=['ignored', '-v'], exit=False)"
   ]
  },
  {
   "cell_type": "markdown",
   "metadata": {},
   "source": [
    "## PyTest\n",
    "\n",
    "1. A command-line (e.g., using a bash shell) driven testing approach\n",
    "2. Simplifies and helps organize unit tests\n",
    "    - done by creating **user-defined functions** for **each test** that you want to do\n",
    "\n",
    "https://docs.pytest.org/en/7.1.x/contents.html#"
   ]
  },
  {
   "cell_type": "code",
   "execution_count": null,
   "metadata": {},
   "outputs": [],
   "source": [
    "%%writefile test_sum.py\n",
    "''' The following will be created:\n",
    "        1. Four unit test functions\n",
    "            a. First 3 will pass\n",
    "            b. Last 1 will fail\n",
    "'''\n",
    "\n",
    "def test_pass_add_list_1():\n",
    "    ''' 1st unit test\n",
    "    '''\n",
    "    test_list = [1, 2, 3, 4]\n",
    "    assert sum(test_list) == 10\n",
    "\n",
    "\n",
    "def test_pass_add_list_2():\n",
    "    ''' 2nd unit test\n",
    "    '''\n",
    "    test_list = [1, 2, 3, 4, 5]\n",
    "    assert sum(test_list) == 15\n",
    "\n",
    "\n",
    "def test_pass_add_list_3():\n",
    "    ''' 3rd unit test\n",
    "    '''\n",
    "    test_list = [1, 2, 3, 4, 5, 6]\n",
    "    assert sum(test_list) == 21\n",
    "\n",
    "\n",
    "def test_fail_add_list_4():\n",
    "    ''' 4th unit test\n",
    "        Should Fail\n",
    "    '''\n",
    "    print('PRINT STATEMENT FOR FAILING TEST FUNCTION.')\n",
    "    \n",
    "    test_list = [1, 2, 3, 4, 5, 6]\n",
    "    assert sum(test_list) == 0"
   ]
  },
  {
   "cell_type": "markdown",
   "metadata": {},
   "source": [
    "PyTest will give the following output:\n",
    "- `.` (dot) = test <font color='DodgerBlue'>passed</font>\n",
    "- `F` =  test has <font color='DodgerBlue'>failed</font>\n",
    "- `E` =  test raised an <font color='DodgerBlue'>unexpected exception</font>"
   ]
  },
  {
   "cell_type": "code",
   "execution_count": null,
   "metadata": {},
   "outputs": [],
   "source": [
    "! pytest test_sum.py"
   ]
  },
  {
   "cell_type": "markdown",
   "metadata": {},
   "source": [
    "**Output**\n",
    "1. The first three test passed\n",
    "2. The fourth test fails\n",
    "3. A traceback is given concerning the error\n",
    "4. None of the print statements are seen\n",
    "\n",
    "<font color='DodgerBlue'>To see print commands</font> within the user-defined functions, <font color='DodgerBlue'>use `-s` option</font>:\n",
    "\n",
    "(`-s` is a shortcut for `--capture=no` - see `pytest --help`)"
   ]
  },
  {
   "cell_type": "code",
   "execution_count": null,
   "metadata": {},
   "outputs": [],
   "source": [
    "! pytest test_sum.py -s"
   ]
  },
  {
   "cell_type": "markdown",
   "metadata": {},
   "source": [
    "Clean up directory:"
   ]
  },
  {
   "cell_type": "code",
   "execution_count": null,
   "metadata": {},
   "outputs": [],
   "source": [
    "%rm test_sum.py"
   ]
  },
  {
   "cell_type": "markdown",
   "metadata": {},
   "source": [
    "## Example of Notebook function and PyTesting\n",
    "\n",
    "Create a User-defined Function"
   ]
  },
  {
   "cell_type": "code",
   "execution_count": null,
   "metadata": {},
   "outputs": [],
   "source": [
    "def calculate_area(length, width):\n",
    "    \"\"\" Calculate the area of a rectangle.\n",
    "    \"\"\"\n",
    "    if length <= 0 or width <= 0:\n",
    "        raise ValueError(\"Dimensions must be positive.\")\n",
    "    return length * width"
   ]
  },
  {
   "cell_type": "markdown",
   "metadata": {},
   "source": [
    "Create PyTest"
   ]
  },
  {
   "cell_type": "code",
   "execution_count": null,
   "metadata": {},
   "outputs": [],
   "source": [
    "%%writefile test_calculate_area.py\n",
    "import pytest\n",
    "\n",
    "def calculate_area(length, width):\n",
    "    \"\"\" Calculate the area of a rectangle.\n",
    "    \"\"\"\n",
    "    if length <= 0 or width <= 0:\n",
    "        raise ValueError(\"Dimensions must be positive.\")\n",
    "    return length * width\n",
    "\n",
    "\n",
    "def test_positive_dimensions():\n",
    "    # Test case with standard positive inputs\n",
    "    assert calculate_area(5, 4) == 20\n",
    "\n",
    "\n",
    "def test_square_dimensions():\n",
    "    # Test case for a square (equal sides)\n",
    "    assert calculate_area(10, 10) == 100\n",
    "\n",
    "\n",
    "def test_zero_or_negative_dimensions():\n",
    "    # Test case for invalid input using pytest.raises\n",
    "    with pytest.raises(ValueError):\n",
    "        calculate_area(-1, 5)\n",
    "    with pytest.raises(ValueError):\n",
    "        calculate_area(0, 5)"
   ]
  },
  {
   "cell_type": "code",
   "execution_count": null,
   "metadata": {},
   "outputs": [],
   "source": [
    "! pytest test_calculate_area.py"
   ]
  },
  {
   "cell_type": "code",
   "execution_count": null,
   "metadata": {},
   "outputs": [],
   "source": [
    "%rm test_calculate_area.py"
   ]
  },
  {
   "cell_type": "markdown",
   "metadata": {},
   "source": [
    "## Introducing `pytest.mark.parametrize`"
   ]
  },
  {
   "cell_type": "code",
   "execution_count": null,
   "metadata": {},
   "outputs": [],
   "source": [
    "%%writefile test_even.py\n",
    "import pytest\n",
    "\n",
    "\n",
    "def add(number_1: int|float, number_2: int|float) -> float:\n",
    "    \"\"\"\n",
    "    Returns the sum of two numbers.\n",
    "\n",
    "    Parameters:\n",
    "        number_1: The first number.\n",
    "        number_2: The second number.\n",
    "\n",
    "    Returns:\n",
    "        int or float: The sum of a and b.\n",
    "    \"\"\"\n",
    "    return number_1 + number_2\n",
    "\n",
    "\n",
    "def test_add_multiple_inputs():\n",
    "    ''' An initial attempt that uses a for loop within the test (avoid this).\n",
    "    '''\n",
    "    test_data = [(1, 2, 3),\n",
    "                 (-1, -1, -2),\n",
    "                 (5, 0, 5)]\n",
    "    for num_1, num_2, expected in test_data:\n",
    "        assert add(number_1=num_1, number_2=num_2) == expected"
   ]
  },
  {
   "cell_type": "code",
   "execution_count": null,
   "metadata": {},
   "outputs": [],
   "source": [
    "!pytest -vs test_even.py"
   ]
  },
  {
   "cell_type": "code",
   "execution_count": null,
   "metadata": {},
   "outputs": [],
   "source": [
    "%%writefile test_add_numbers.py\n",
    "import pytest\n",
    "\n",
    "\n",
    "def add(number_1: int|float, number_2: int|float) -> float:\n",
    "    \"\"\"\n",
    "    Returns the sum of two numbers.\n",
    "\n",
    "    Parameters:\n",
    "        number_1: The first number.\n",
    "        number_2: The second number.\n",
    "\n",
    "    Returns:\n",
    "        int or float: The sum of a and b.\n",
    "    \"\"\"\n",
    "    return number_1 + number_2\n",
    "\n",
    "\n",
    "@pytest.mark.parametrize(\"num_1, num_2, expected\", [(1, 2, 3),        # Test Case 1: Positive numbers\n",
    "                                                    (-1, -1, -2),     # Test Case 2: Negative numbers\n",
    "                                                    (5, 0, 5),        # Test Case 3: Testing with zero\n",
    "                                                    (100, -50, 50)])  # Test Case 4: Positive and negative\n",
    "\n",
    "def test_add(num_1, num_2, expected):\n",
    "    assert add(number_1=num_1, number_2=num_2) == expected"
   ]
  },
  {
   "cell_type": "code",
   "execution_count": null,
   "metadata": {},
   "outputs": [],
   "source": [
    "!pytest -vs test_add_numbers.py"
   ]
  },
  {
   "cell_type": "code",
   "execution_count": null,
   "metadata": {},
   "outputs": [],
   "source": [
    "%rm test_add_numbers.py"
   ]
  }
 ],
 "metadata": {
  "kernelspec": {
   "display_name": "Python 3 (ipykernel)",
   "language": "python",
   "name": "python3"
  },
  "language_info": {
   "codemirror_mode": {
    "name": "ipython",
    "version": 3
   },
   "file_extension": ".py",
   "mimetype": "text/x-python",
   "name": "python",
   "nbconvert_exporter": "python",
   "pygments_lexer": "ipython3",
   "version": "3.13.2"
  }
 },
 "nbformat": 4,
 "nbformat_minor": 4
}
