{
 "cells": [
  {
   "cell_type": "markdown",
   "metadata": {},
   "source": [
    "<div class=\"alert block alert-info alert\">\n",
    "\n",
    "# <center> Scientific Programming in Python\n",
    "\n",
    "## <center>Karl N. Kirschner<br>Bonn-Rhein-Sieg University of Applied Sciences<br>Sankt Augustin, Germany\n",
    "\n",
    "# <center> Testing inside your code<br>and<br>Testing the code itself\n",
    "\n",
    "<!-- <br><br> -->\n",
    "\n",
    "<hr style=\"border:2px solid gray\"></hr>\n",
    "\n",
    "**Note**: All user-defined functions shown within the notebook do not include document strings (i.e. block comments) or internal checks. This is purposely done for focusing on the teaching aspects of the lecture. **A full and proper user-defined function would include these.**"
   ]
  },
  {
   "cell_type": "markdown",
   "metadata": {},
   "source": [
    "<hr style=\"border:1px solid gray\"></hr>\n",
    "\n",
    "## A quick note about typing\n",
    "\n",
    "Note that **typing** (a.k.a. type hinting, annotating functions) - actually **doesn't enforce** anything.\n",
    "\n",
    "We use them for our own and other's **clarification** of the code and its usage."
   ]
  },
  {
   "cell_type": "code",
   "execution_count": null,
   "metadata": {},
   "outputs": [],
   "source": [
    "def user_function(number: float) -> float:\n",
    "    return number*2"
   ]
  },
  {
   "cell_type": "code",
   "execution_count": null,
   "metadata": {},
   "outputs": [],
   "source": [
    "user_function(number='me')"
   ]
  },
  {
   "cell_type": "markdown",
   "metadata": {},
   "source": [
    "<hr style=\"border:1px solid gray\"></hr>\n",
    "\n",
    "## `assert`\n",
    "\n",
    "- specify expectations for what your variables are\n",
    "\n",
    "- A helpful way to **debug** code<br><br>\n",
    "\n",
    "- Includes **traceback** (a.k.a. stack trace, stack traceback, backtrace) to show you the sequence of calls and associated problems\n",
    "    - https://realpython.com/python-traceback<br><br>\n",
    "\n",
    "\n",
    "- Asserts are not meant to test for expected conditions\n",
    "    - **Security issue**: asserts can be turned off globally (in the Python interpreter via 'python -O filename.py'). Therefore, don’t rely on assert expressions to be executed for data validation or data processing.<br><br>\n",
    "\n",
    "\n",
    "\n",
    "\n",
    "- **syntax**: `assert test_condition, 'Error message to display'`\n"
   ]
  },
  {
   "cell_type": "markdown",
   "metadata": {},
   "source": [
    "An `assert` statement is **equivalent** to the following  code, but is more concise:\n",
    "\n",
    "```python\n",
    "if not condition:\n",
    "    raise AssertionError()\n",
    "```\n",
    "\n",
    "\n",
    "A simple example:"
   ]
  },
  {
   "cell_type": "code",
   "execution_count": null,
   "metadata": {},
   "outputs": [],
   "source": [
    "my_test_obj = 5\n",
    "\n",
    "if not my_test_obj != 5:\n",
    "    raise AssertionError('ERROR MESSAGE FROM YOUR INSTRUCTOR - I LIKE YELLING WHEN I TYPE A MESSAGE')"
   ]
  },
  {
   "cell_type": "code",
   "execution_count": null,
   "metadata": {},
   "outputs": [],
   "source": [
    "assert my_test_obj != 5, 'ERROR MESSAGE FROM YOUR INSTRUCTOR - I LIKE YELLING WHEN I TYPE A MESSAGE'"
   ]
  },
  {
   "cell_type": "markdown",
   "metadata": {},
   "source": [
    "### Practical usage\n",
    "\n",
    "Consider the <font color='red'>intial attempt</font> of the following user-defined function:"
   ]
  },
  {
   "cell_type": "code",
   "execution_count": null,
   "metadata": {},
   "outputs": [],
   "source": [
    "def divide_me(number_1: float, number_2: float) -> float:\n",
    "\n",
    "    return number_1/number_2\n",
    "\n",
    "\n",
    "divide_me(number_1=1.0, number_2=2.0)"
   ]
  },
  {
   "cell_type": "markdown",
   "metadata": {},
   "source": [
    "The functions runs just fine, but what about two possible scenarios below.\n",
    "\n",
    "**Scenario 1**:\n",
    "1. A variable is set to `None` (Why? Because we forgot to do so during a log of code writing.)"
   ]
  },
  {
   "cell_type": "code",
   "execution_count": null,
   "metadata": {},
   "outputs": [],
   "source": [
    "## declare objects\n",
    "my_first_number = None\n",
    "my_second_number = None\n",
    "\n",
    "## --snip a bunch of code--\n",
    "## --snip a bunch of code--\n",
    "\n",
    "## assign objects (OOPS - forgot to do it for my_second_number)\n",
    "my_first_number = range(1, 5, 1)"
   ]
  },
  {
   "cell_type": "code",
   "execution_count": null,
   "metadata": {},
   "outputs": [],
   "source": [
    "def divide_me_1(number_1: float, number_2: float) -> float:\n",
    "\n",
    "    return number_1/number_2\n",
    "\n",
    "\n",
    "for number in my_first_number:\n",
    "    divide_me_1(number_1=number, number_2=my_second_number)"
   ]
  },
  {
   "cell_type": "markdown",
   "metadata": {},
   "source": [
    "An `assert` can check to make sure that a variable is not None (via `!=` or `is not None`), allowing you to <font color='blue'>customize the feedback (i.e. placing the error into context)</font>."
   ]
  },
  {
   "cell_type": "code",
   "execution_count": null,
   "metadata": {},
   "outputs": [],
   "source": [
    "def divide_me_2(number_1: float, number_2: float) -> float:\n",
    "\n",
    "    assert number_1 is not None, 'Number 1 (i.e. the numerator) is not provide.'\n",
    "    assert number_2 != None, 'Number 2 (i.e. the denomenator) is not provide.'\n",
    "\n",
    "    return number_1/number_2\n",
    "\n",
    "\n",
    "for number in my_first_number:\n",
    "    divide_me_2(number_1=number, number_2=my_second_number)"
   ]
  },
  {
   "cell_type": "markdown",
   "metadata": {},
   "source": [
    "**Scenario 2**:\n",
    "\n",
    "2. The `number_2` is set to zero (i.e. **divide by zero**)\n",
    "\n",
    "Let's make an assert statement to ensure `number_2` is not zero.\n",
    "\n",
    "First, remember the resulting error for comparing later:"
   ]
  },
  {
   "cell_type": "code",
   "execution_count": null,
   "metadata": {},
   "outputs": [],
   "source": [
    "divide_me_1(number_1=1.0, number_2=0.0)"
   ]
  },
  {
   "cell_type": "markdown",
   "metadata": {},
   "source": [
    "While the above error message (`ZeroDivisionError: float division by zero`) is clear in this example, maybe you want to customize it:"
   ]
  },
  {
   "cell_type": "code",
   "execution_count": null,
   "metadata": {},
   "outputs": [],
   "source": [
    "def divide_me_3(number_1: float, number_2: float) -> float:\n",
    "\n",
    "    assert number_1 is not None, 'Number 1 is not provide.'\n",
    "    assert number_2 is not None, 'Number 2 is not provide.'\n",
    "    assert number_2 != 0.0, \"Error: you can't divide by zero. How dare you try!\"\n",
    "\n",
    "    return number_1/number_2\n",
    "\n",
    "\n",
    "divide_me_3(number_1=1.0, number_2=0.0)"
   ]
  },
  {
   "cell_type": "markdown",
   "metadata": {},
   "source": [
    "### A word of caution when using `assert`\n",
    "\n",
    "One might think there two ways to do this below (i.e. you've found on your web search):\n",
    "1. `assert number_2 != None, 'Number 2 is not provide'`\n",
    "2. `assert number_2, 'Number 2 is not provide'`<br><br>\n",
    "\n",
    "However, the **second one** can **provide unexpected results** due to it's less explicit statement.\n",
    "\n",
    "We have set up the `assert` statements below, but let's pass `number_2` as `0.0` as a test of what might happen.\n",
    "\n",
    "One would expect `'ZeroDivisionError: float division by zero'` to be returned."
   ]
  },
  {
   "cell_type": "code",
   "execution_count": null,
   "metadata": {},
   "outputs": [],
   "source": [
    "def divide_me2(number_1: float, number_2: float) -> float:\n",
    "\n",
    "    assert number_1 != None, 'Number 1 is not provide.'\n",
    "    assert number_2, 'Number 2 is not provide.'\n",
    "\n",
    "    return number_1/number_2\n",
    "\n",
    "\n",
    "divide_me2(number_1=1.0, number_2=0.0)"
   ]
  },
  {
   "cell_type": "markdown",
   "metadata": {},
   "source": [
    "So, even though the code does generate an error, it returns the error of our `assert` statement even though <font color='blue'>0.0 is a valid number</font> (and thus, <font color='red'>tells the user an incorrect error message</font>).\n",
    "\n",
    "Therefore, be **careful** and **mindful** when working with `assert` statements.<br><br>\n",
    "\n",
    "\n",
    "Okay, let's just **double check** that the more complete statement (`assert number_2 != None, 'Number 2 is not provide'`) works better:"
   ]
  },
  {
   "cell_type": "code",
   "execution_count": null,
   "metadata": {},
   "outputs": [],
   "source": [
    "def divide_me3(number_1: float, number_2: float) -> float:\n",
    "\n",
    "    assert number_1 != None, 'Number 1 is not provide.'\n",
    "    assert number_2 != None, 'Number 2 is not provide.'\n",
    "\n",
    "    return number_1/number_2\n",
    "\n",
    "\n",
    "divide_me3(number_1=1.0, number_2=0.0)"
   ]
  },
  {
   "cell_type": "markdown",
   "metadata": {},
   "source": [
    "Thus, we see that the `assert number_2 != None, 'Number 2 is not provide'` does provide the expected result.\n",
    "\n",
    "#### Security issue\n",
    "\n",
    "There is also a way for user to **circumvent** (i.e. get around) assert statements.\n",
    "\n",
    "From a bash terminal:\n",
    "- **python assert_example.py**: reads the assert statement (everything seems to be working properly)\n",
    "- **python -O assert_example.py**: the assert statement is not read (i.e. it is bypassed), and instead prints a standard error statement\n",
    "\n",
    "In the following, I will also demonstrate how one can <font color='blue'>write a Python script in Jupyter notebook</font> and save it to your harddrive."
   ]
  },
  {
   "cell_type": "code",
   "execution_count": null,
   "metadata": {},
   "outputs": [],
   "source": [
    "python_script = 'assert_example.py'\n",
    "\n",
    "script_lines = f\"\"\"#!/usr/bin/env python\n",
    "'''\n",
    "An example for why using assert to test for expected condition is bad.\n",
    "\n",
    "You can \"turn off\" asserts by typing \"python -O filename.py\" and thus\n",
    "    bypassing the check.\n",
    "\n",
    "Expectations when running the code in a bash terminal:\n",
    "python assert_example.py -> assert is read and prints out it error\n",
    "python -O assert_example.py -> assert is not read and program runs\n",
    "'''\n",
    "\n",
    "\n",
    "def simple_print(number_1: float, number_2: float) -> float:\n",
    "\n",
    "    assert number_1 != None, \"Error: you did not provide a numerator\"\n",
    "    assert number_2 != None, \"Error: you did not provide a denominator\"\n",
    "    assert number_2 != 0, \"Number 2 can't be zero\"\n",
    "\n",
    "    print(number_1, number_2)\n",
    "\n",
    "\n",
    "simple_print(number_1=None, number_2=0.0)\n",
    "\"\"\"\n",
    "\n",
    "with open(python_script, 'w') as file:\n",
    "    file.write(script_lines)"
   ]
  },
  {
   "cell_type": "code",
   "execution_count": null,
   "metadata": {},
   "outputs": [],
   "source": [
    "with open(python_script, 'r') as file:\n",
    "    print(file.read())"
   ]
  },
  {
   "cell_type": "markdown",
   "metadata": {},
   "source": [
    "**Note:** The following works when executed from a **local computer** that has the above python script saved to the working directory (i.e. not using Colabs)"
   ]
  },
  {
   "cell_type": "code",
   "execution_count": null,
   "metadata": {},
   "outputs": [],
   "source": [
    "! python3 assert_example.py"
   ]
  },
  {
   "cell_type": "code",
   "execution_count": null,
   "metadata": {},
   "outputs": [],
   "source": [
    "! python3 -O assert_example.py"
   ]
  },
  {
   "cell_type": "markdown",
   "metadata": {},
   "source": [
    "#### Take-home message about `asserts` and in-my-opinion:\n",
    "\n",
    "- They are helpful for debugging your code during its development.\n",
    "- They are not as robust as one thinks.\n",
    "- There are better ways to have internal checks."
   ]
  },
  {
   "cell_type": "markdown",
   "metadata": {},
   "source": [
    "<hr style=\"border:2px solid gray\"></hr>\n",
    "\n",
    "## `isinstance`\n",
    "- this is a python built-in function\n",
    "- can check on a variable's type (e.g. int, float, str)\n",
    "\n",
    "Let's first show some code that would include assert statments with isinstance that requires that a passed variable is a float.\n",
    "\n",
    "<hr style=\"border:1px solid gray\"></hr>\n",
    "\n",
    "**Background** information on temperature scales\n",
    "\n",
    "There exists the following three temperature scales:\n",
    "\n",
    "1. Celsius - lowest temperature possible is -273.15 °C\n",
    "2. Farhenheit - lowest temperature possible is -459.67 °F\n",
    "3. Kelvin - lowest temperature possible is 0 °K\n",
    "\n",
    "Therefore, the Kelvin scale provides an absolute zero to the scale, which is useful in science.\n",
    "\n",
    "1.0 °C = 273.15 °K (concerning sigfigs, these are exact numbers)\n",
    "<hr style=\"border:1px solid gray\"></hr>"
   ]
  },
  {
   "cell_type": "markdown",
   "metadata": {},
   "source": [
    "**Example 1**:\n",
    "- `isinstance` with an `assert` statement"
   ]
  },
  {
   "cell_type": "code",
   "execution_count": null,
   "metadata": {},
   "outputs": [],
   "source": [
    "def celsius_to_kelvin(celsius):\n",
    "\n",
    "    assert isinstance(celsius, float), f'Error: number ({celsius}) is not a float'\n",
    "    assert celsius >= -273.15, f'Error: input temperature ({celsius}) is colder than absolute zero!'\n",
    "    return celsius - 273.15"
   ]
  },
  {
   "cell_type": "code",
   "execution_count": null,
   "metadata": {},
   "outputs": [],
   "source": [
    "celsius_to_kelvin(celsius=None)"
   ]
  },
  {
   "cell_type": "markdown",
   "metadata": {},
   "source": [
    "**Example 2**: let's make this more robust by not using as `assert` statement since they can be bypassed:\n",
    "\n",
    "(this should mostly be a review of what you have learned so far about error checking)\n",
    "\n",
    "<br><br>\n",
    "You need to know Python3's built-in **exception types** (https://docs.python.org/3/library/exceptions.html)\n",
    "\n",
    "**Built-in Exceptions**: https://docs.python.org/3/library/exceptions.html#bltin-exceptions"
   ]
  },
  {
   "cell_type": "code",
   "execution_count": null,
   "metadata": {},
   "outputs": [],
   "source": [
    "def celsius_to_kelvin(celsius):\n",
    "\n",
    "    if not isinstance(celsius, float):\n",
    "        raise TypeError(f'Error: number ({celsius}) is not a float')\n",
    "    elif celsius < -273.15:\n",
    "        raise ValueError(f'Error: input temperature ({celsius}) is colder than absolute zero!')\n",
    "\n",
    "    return celsius - 273.15"
   ]
  },
  {
   "cell_type": "markdown",
   "metadata": {},
   "source": [
    "a. Providing a wrong type:"
   ]
  },
  {
   "cell_type": "code",
   "execution_count": null,
   "metadata": {},
   "outputs": [],
   "source": [
    "celsius_to_kelvin(celsius=None)"
   ]
  },
  {
   "cell_type": "markdown",
   "metadata": {},
   "source": [
    "b. Providing a wrong value:"
   ]
  },
  {
   "cell_type": "code",
   "execution_count": null,
   "metadata": {},
   "outputs": [],
   "source": [
    "celsius_to_kelvin(celsius=-300.0)"
   ]
  },
  {
   "cell_type": "markdown",
   "metadata": {},
   "source": [
    "c. Providing a integer:"
   ]
  },
  {
   "cell_type": "code",
   "execution_count": null,
   "metadata": {},
   "outputs": [],
   "source": [
    "celsius_to_kelvin(celsius=5)"
   ]
  },
  {
   "cell_type": "markdown",
   "metadata": {},
   "source": [
    "d. Providing a proper value:"
   ]
  },
  {
   "cell_type": "code",
   "execution_count": null,
   "metadata": {},
   "outputs": [],
   "source": [
    "celsius_to_kelvin(celsius=5.0)"
   ]
  },
  {
   "cell_type": "markdown",
   "metadata": {},
   "source": [
    "**Example 3**: now we can make things even more robust - for example, allowing temperature to be a float or an integer.\n",
    "\n",
    "- Pass a **tuple** (i.e. via curve brackets) within the isinstance statement\n",
    "    - (Recall that a **tuple** is a collection that is **ordered** and **unchangeable**.)"
   ]
  },
  {
   "cell_type": "code",
   "execution_count": null,
   "metadata": {},
   "outputs": [],
   "source": [
    "def celsius_to_kelvin(celsius):\n",
    "\n",
    "    if not isinstance(celsius, (int, float)):\n",
    "        raise TypeError(f'Error: number ({celsius}) is not a float')\n",
    "    elif celsius < -273.15:\n",
    "        raise ValueError(f'Error: input temperature ({celsius}) is colder than absolute zero!')\n",
    "\n",
    "    return celsius - 273.15"
   ]
  },
  {
   "cell_type": "code",
   "execution_count": null,
   "metadata": {},
   "outputs": [],
   "source": [
    "celsius_to_kelvin(celsius=5)"
   ]
  },
  {
   "cell_type": "markdown",
   "metadata": {},
   "source": [
    "<hr style=\"border:2px solid gray\"></hr>\n",
    "\n",
    "# Exceptions: testing for expected conditions\n",
    "EAFP (\"Easier to ask for forgiveness than permission\")\n",
    "- often adopted by programers,\n",
    "- but is that good practice?\n",
    "\n",
    "EAFP can be implemented via the:\n",
    "### `try`-`except` statement\n",
    "\n",
    "#### Strengths:\n",
    "- your code will continue when it encounters a problem<br><br>\n",
    "\n",
    "- faster than if statements for when majority of planned executions are expected to be successful\n",
    "    - i.e. they don't encounter an exception<br><br>\n",
    "    \n",
    "- tells your code to try something<br><br>\n",
    "\n",
    "- then tell it what to do if it fails based on an exception type<br><br>"
   ]
  },
  {
   "cell_type": "code",
   "execution_count": null,
   "metadata": {},
   "outputs": [],
   "source": [
    "try:\n",
    "    print(5/0)\n",
    "except ZeroDivisionError:\n",
    "    print(\"Error: You can't have a zero in the denominator.\")"
   ]
  },
  {
   "cell_type": "markdown",
   "metadata": {},
   "source": [
    "### Let's set up a new example for demonstrating the `try`-`except` statement continuation\n",
    "\n",
    "To do this, let's first step back and see how we would set something up without `try`-`except` in order to see its advantage later.\n",
    "\n",
    "Let's setup a division calculator that allows user to input numbers and quit at anytime using while and if loops (to demonstate via a comparison of code).\n",
    "\n",
    "<font color='blue'>Demonstrate the following<\\font>:\n",
    "- normal operation\n",
    "- exiting by typing 'q'\n",
    "\n",
    "<font color='blue'>Also demonstrate traceback errors by specifying for one of the numbers<\\font>:\n",
    "- O (i.e. a capital alphebet letter \"O\", as in \"O\"ktoberfest)\n",
    "\n",
    "Traditional (i.e. no `try`-`except` statement):"
   ]
  },
  {
   "cell_type": "code",
   "execution_count": null,
   "metadata": {},
   "outputs": [],
   "source": [
    "print('Type two numbers that you want to be divided.')\n",
    "print(\"Type 'q' to quit.\")\n",
    "print()\n",
    "\n",
    "while True:\n",
    "    numerator = input('Numerator = ')\n",
    "    if numerator == 'q':\n",
    "        break\n",
    "\n",
    "    denominator = input('Denominator = ')\n",
    "    if denominator == 'q':\n",
    "        break\n",
    "\n",
    "    if denominator == '0':\n",
    "        print(\"You can't have a zero in the denominator.\")\n",
    "        break\n",
    "\n",
    "    answer = float(numerator)/float(denominator)\n",
    "    print(f'Answer for {numerator}/{denominator} = {answer}\\n')"
   ]
  },
  {
   "cell_type": "markdown",
   "metadata": {},
   "source": [
    "Modify the above code to use a **`try`-`except` statement**, and try it with \"O\".\n",
    "\n",
    "Multiple except conditions via a **tuple**:\n",
    "- `ZeroDivisionError` when the denomenator is zero\n",
    "- `ValueError` for when a string is given as an input"
   ]
  },
  {
   "cell_type": "code",
   "execution_count": null,
   "metadata": {},
   "outputs": [],
   "source": [
    "print('Type two numbers that you want to be divided.')\n",
    "print(\"Type 'q' to quit.\")\n",
    "print()\n",
    "\n",
    "while True:\n",
    "    numerator = input('Numerator = ')\n",
    "    if numerator == 'q':\n",
    "        break\n",
    "\n",
    "    denominator = input('Denominator = ')\n",
    "    if denominator == 'q':\n",
    "        break\n",
    "        \n",
    "    try:\n",
    "        answer = float(numerator)/float(denominator)\n",
    "        print(f'Answer for {numerator}/{denominator} = {answer}\\n')\n",
    "    except (ZeroDivisionError, ValueError):\n",
    "        print('You the input was either not a number, or you are dividing by a zero.')"
   ]
  },
  {
   "cell_type": "markdown",
   "metadata": {},
   "source": [
    "<hr style=\"border:1px solid gray\"></hr>\n",
    "\n",
    "#### One last side note\n",
    "\n",
    "`TypeError` versus `ValueError`\n",
    "\n",
    "- `ValueError`: raised when a built-in operation or function receives an argument that has the **correct type**, but an **inappropriate value**\n",
    "\n",
    "- `TypeError`: raised when passing arguments of the **wrong type** (e.g. passing a list when an int is expected)\n",
    "\n",
    "Best understood through the following example..."
   ]
  },
  {
   "cell_type": "code",
   "execution_count": null,
   "metadata": {},
   "outputs": [],
   "source": [
    "def attempt_float(number):\n",
    "    try:\n",
    "        return float(number)\n",
    "    except (TypeError):\n",
    "        print('Input was not the right type (i.e TypeError).')\n",
    "    except (ValueError):\n",
    "        print('Input was not a correct value (i.e. ValueError).')"
   ]
  },
  {
   "cell_type": "code",
   "execution_count": null,
   "metadata": {},
   "outputs": [],
   "source": [
    "attempt_float(0.1)"
   ]
  },
  {
   "cell_type": "markdown",
   "metadata": {},
   "source": [
    "The built-in float can also accept a string if it is a decimal:\n",
    "\"If the argument is a string, it should contain a decimal number...\" (https://docs.python.org/3/library/functions.html#float)"
   ]
  },
  {
   "cell_type": "code",
   "execution_count": null,
   "metadata": {},
   "outputs": [],
   "source": [
    "attempt_float('0.1')"
   ]
  },
  {
   "cell_type": "code",
   "execution_count": null,
   "metadata": {},
   "outputs": [],
   "source": [
    "## a ValueError\n",
    "attempt_float('something')"
   ]
  },
  {
   "cell_type": "code",
   "execution_count": null,
   "metadata": {},
   "outputs": [],
   "source": [
    "## a TypeError\n",
    "attempt_float([0.1, 0.2])"
   ]
  },
  {
   "cell_type": "code",
   "execution_count": null,
   "metadata": {},
   "outputs": [],
   "source": [
    "## Prove the last is a TypeError\n",
    "float([0.1, 0.2])"
   ]
  },
  {
   "cell_type": "markdown",
   "metadata": {},
   "source": [
    "<hr style=\"border:2px solid gray\"></hr>\n",
    "\n",
    "<h1 align='center'>Test Driven Development\n",
    "    \n",
    "<h2 align='center'> a.k.a. Unit Tests"
   ]
  },
  {
   "cell_type": "markdown",
   "metadata": {},
   "source": [
    "https://docs.python.org/3/library/unittest.html"
   ]
  },
  {
   "cell_type": "markdown",
   "metadata": {},
   "source": [
    "## Test Driven Development - writing tests before you write your production code\n",
    "1. Ensures proper and directed functionality of your code\n",
    "2. Helps you plan your code\n",
    "3. Reduces errors\n",
    "4. Helps to ensure code's long life\n",
    "\n",
    "## Workflow\n",
    "1. Write failing test\n",
    "2. Run and ensure failure\n",
    "3. Write code to pass\n",
    "4. Run and ensure passing\n",
    "5. Refactor (i.e. restructure/clean up code without changing it final result)\n",
    "6. Redo steps 1-5\n",
    "\n",
    "## Scientific and Data Research\n",
    "It is **CRITICAL** that:\n",
    "1. you get the correct results\n",
    "2. you make it generates reproducible results, especially as the code becomes bigger (and changes)"
   ]
  },
  {
   "cell_type": "markdown",
   "metadata": {},
   "source": [
    "#### Assert statements that can be used in unittest library\n",
    "\n",
    "https://docs.python.org/3/library/unittest.html#module-unittest\n",
    "\n",
    "\n",
    "| Method | Checks that | New in |\n",
    "|:------|:-:|:-:|\n",
    "| assertEqual(a, b) | a == b | |\n",
    "| assertNotEqual(a, b)| a != b | |\n",
    "| assertTrue(x) | bool(x) is True | |\n",
    "| assertFalse(x) | bool(x) is False | |\n",
    "| assertIs(a, b) | a is b | 3.1 |\n",
    "| assertIsNot(a, b) | a is not b | 3.1 |\n",
    "| assertIsNone(x) | x is None | 3.1 |\n",
    "| assertIsNotNone(x) | x is not None | 3.1 |\n",
    "| assertIn(a, b) | a in b | 3.1 |\n",
    "| assertNotIn(a, b) | a not in b | 3.1 |\n",
    "| assertIsInstance(a, b) | isinstance(a, b) | 3.2 |\n",
    "| assertNotIsInstance(a, b) | not isinstance(a, b) | 3.2 |\n",
    "| | | |\n",
    "| | | |\n",
    "| assertAlmostEqual(a, b) | round(a-b, 7) == 0 | |\n",
    "| assertNotAlmostEqual(a, b) | round(a-b, 7) != 0 | |\n",
    "| assertGreater(a, b) | a > b | 3.1 |\n",
    "| assertGreaterEqual(a, b) | a >= b | 3.1 |\n",
    "| assertLess(a, b) | a < b | 3.1 |\n",
    "| assertLessEqual(a, b) | a <= b | 3.1 |\n",
    "| assertRegex(s, r) | r.search(s) | 3.1 |\n",
    "| assertNotRegex(s, r) | not r.search(s) | 3.2 |\n",
    "| assertCountEqual(a, b) | a and b have the same elements in the same number, regardless of their order. | 3.2 |\n",
    "\n",
    "\n",
    "| Method | Used to compare | New in|\n",
    "|:------|:-:|:-:|\n",
    "| assertMultiLineEqual(a, b) | strings | 3.1 |\n",
    "| assertSequenceEqual(a, b) | sequences | 3.1 |\n",
    "| assertListEqual(a, b) | lists | 3.1 |\n",
    "| assertTupleEqual(a, b) | tuples | 3.1 |\n",
    "| assertSetEqual(a, b) | sets or frozensets | 3.1 |\n",
    "| assertDictEqual(a, b) | dicts | 3.1 |"
   ]
  },
  {
   "cell_type": "markdown",
   "metadata": {},
   "source": [
    "Let's create a very simple function that we can use in a unit test demo:"
   ]
  },
  {
   "cell_type": "code",
   "execution_count": null,
   "metadata": {},
   "outputs": [],
   "source": [
    "def hello_world():\n",
    "    return 'hello world'"
   ]
  },
  {
   "cell_type": "markdown",
   "metadata": {},
   "source": [
    "Demonstrate the following two scenarios:\n",
    "1. Scemario 1: the unit test runs with everything correct\n",
    "2. Scemario 2: the unit test runs, but with errors\n",
    "     - A new `assertEqual` is added\n",
    "\n",
    "**Note**: We will include additional assert statements just to demonstrate how the output of a unit tests looks like, even though it is not relevant to out user-defined function.\n",
    "\n",
    "Scenario 1: the unit test runs with everything <font color='blue'>correctly</font>"
   ]
  },
  {
   "cell_type": "code",
   "execution_count": null,
   "metadata": {},
   "outputs": [],
   "source": [
    "import unittest\n",
    "\n",
    "\n",
    "class MyFirstUniTTests(unittest.TestCase):\n",
    "\n",
    "    ## Assert Equal\n",
    "    def test_isEqual(self):\n",
    "        self.assertEqual(hello_world(), 'hello world')\n",
    "\n",
    "\n",
    "    ## Additional assert statments just to demo how the output looks like\n",
    "    ## Assert Less Than\n",
    "    def test_isLess(self):\n",
    "        self.assertLess(5, 10)\n",
    "\n",
    "\n",
    "    ## Assert Less Than or Equal\n",
    "    def test_isLessEqual(self):\n",
    "        self.assertLessEqual(10, 10)\n",
    "\n",
    "\n",
    "    ## Assert True\n",
    "    def test_isUpperTrue(self):\n",
    "        self.assertTrue('FOO'.isupper())\n",
    "\n",
    "\n",
    "    ## Assert False\n",
    "    def test_isUpperFalse(self):\n",
    "        self.assertFalse('Foo'.isupper())\n",
    "\n",
    "\n",
    "## Normal usage\n",
    "#if __name__ == '__main__':\n",
    "#    unittest.main()\n",
    "\n",
    "## For usage in jupyter and colaboratory (due to kernels)\n",
    "if __name__ == '__main__':\n",
    "    unittest.main(argv=['ignored', '-v'], exit=False)"
   ]
  },
  {
   "cell_type": "markdown",
   "metadata": {},
   "source": [
    "What happens when a test **fails**:\n",
    "\n",
    "Scenario 2: the unit test runs, but with <font color='red'>errors</font>"
   ]
  },
  {
   "cell_type": "code",
   "execution_count": null,
   "metadata": {},
   "outputs": [],
   "source": [
    "import unittest\n",
    "\n",
    "\n",
    "class MyFirstUniTTests(unittest.TestCase):\n",
    "\n",
    "    ## ADDED: Assert Equal but results in a fail\n",
    "    def test_fail(self):\n",
    "       self.assertEqual(hello_world(), 'bye world')\n",
    "\n",
    "\n",
    "    ## Assert Equal\n",
    "    def test_isEqual(self):\n",
    "        self.assertEqual(hello_world(), 'hello world')\n",
    "\n",
    "\n",
    "    ## Additional assert statments just to demo how the output looks like\n",
    "    ## Assert Less Than\n",
    "    def test_isLess(self):\n",
    "        self.assertLess(5, 10)\n",
    "\n",
    "\n",
    "    ## Assert Less Than or Equal\n",
    "    def test_isLessEqual(self):\n",
    "        self.assertLessEqual(10, 10)\n",
    "\n",
    "\n",
    "    ## Assert True\n",
    "    def test_isUpperTrue(self):\n",
    "        self.assertTrue('FOO'.isupper())\n",
    "\n",
    "\n",
    "    ## Assert False\n",
    "    def test_isUpperFalse(self):\n",
    "        self.assertFalse('Foo'.isupper())\n",
    "\n",
    "\n",
    "## Normal usage\n",
    "#if __name__ == '__main__':\n",
    "#    unittest.main()\n",
    "\n",
    "## For usage in jupyter and colaboratory (due to kernels)\n",
    "if __name__ == '__main__':\n",
    "    unittest.main(argv=['ignored', '-v'], exit=False)"
   ]
  }
 ],
 "metadata": {
  "kernelspec": {
   "display_name": "Python 3 (ipykernel)",
   "language": "python",
   "name": "python3"
  },
  "language_info": {
   "codemirror_mode": {
    "name": "ipython",
    "version": 3
   },
   "file_extension": ".py",
   "mimetype": "text/x-python",
   "name": "python",
   "nbconvert_exporter": "python",
   "pygments_lexer": "ipython3",
   "version": "3.8.10"
  }
 },
 "nbformat": 4,
 "nbformat_minor": 2
}
