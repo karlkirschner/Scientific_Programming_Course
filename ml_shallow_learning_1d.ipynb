{
 "cells": [
  {
   "cell_type": "markdown",
   "metadata": {},
   "source": [
    "# Shallow Machine Learning Introduction\n",
    "\n",
    "#### Statistics is the work horse in machine learning.\n",
    "\n",
    "## Shallow learning\n",
    "- scikit-learn (a.k.a. sklearn)"
   ]
  },
  {
   "cell_type": "markdown",
   "metadata": {},
   "source": [
    "## Catagories\n",
    "\n",
    "| Regression | Classification | Clustering | Dimension Reduction|\n",
    "| :-: | :-: | :-: | :-: |\n",
    "| **Linear** | Logistic Regression | K-means | Principle Component Analysis |\n",
    "| Polynomial | Support Vector Machine | Mean-Shift | Linear Discriminant Analysis |\n",
    "| StepWise | Naive Bayes | DBScan | Gernalized Discriminant Analysis |\n",
    "| Ridge | Nearest Neighbor | Agglomerative Hierachcial | Autoencoder |\n",
    "| Lasso | Decision Tree | Spectral Clustering | Non-Negative Matrix Factorization |\n",
    "| ElasticNet | Random Forest | Gaussian Mixture | UMAP |"
   ]
  },
  {
   "cell_type": "markdown",
   "metadata": {},
   "source": [
    "## Linear Regression Refresher\n",
    "\n",
    "**Idea**: Optimize the orientation of a line (i.e. the slope and y-intercept) that best fits coupled parameters (e.g. vaccination effectiveness as a function of dosage).\n",
    "\n",
    "The equation that defines a line is \n",
    "\n",
    "$y = m*x + b$\n",
    "\n",
    "where m is the slope and b is the y-intercept.\n",
    "\n",
    "\n",
    "- A simple, but prevelent technique in machine learning\n",
    "\n",
    "- Used in often in supervised learning\n",
    "\n",
    "\n",
    "Additional Info: https://en.wikipedia.org/wiki/Linear_regression"
   ]
  },
  {
   "cell_type": "markdown",
   "metadata": {},
   "source": [
    "## Learning by example\n",
    "\n",
    "**Example data**: housing prices across the United States\n",
    "\n",
    "source: https://github.com/whoparthgarg/House-Price-Prediction (and https://www.kaggle.com/vedavyasv/usa-housing)\n",
    "\n",
    "- **Avg. Area Income**: Avgerage income of city's residents where the house is located in\n",
    "- **Avg. Area House Age**: Avgerage age of houses within the same city\n",
    "- **Avg. Area Number of Rooms**: Avgerage number of rooms for houses within the same city\n",
    "- **Avg. Area Number of Bedrooms**: Avgerage number of bedrooms for houses within the same city\n",
    "- **Area Population**: Population of city where the house is located in\n",
    "- **Price**: Price of the house\n",
    "- **Address**: Address for the house"
   ]
  },
  {
   "cell_type": "code",
   "execution_count": null,
   "metadata": {},
   "outputs": [],
   "source": [
    "import numpy as np\n",
    "import pandas as pd\n",
    "\n",
    "from matplotlib import pyplot as plt\n",
    "from sklearn.linear_model import LinearRegression\n",
    "from sklearn.metrics import r2_score\n",
    "from sklearn.model_selection import train_test_split"
   ]
  },
  {
   "cell_type": "markdown",
   "metadata": {},
   "source": [
    "The dataset (**usa_housing.csv**) can be downloaded from the git repository: https://github.com/karlkirschner/Scientific_Programming_Course"
   ]
  },
  {
   "cell_type": "code",
   "execution_count": null,
   "metadata": {},
   "outputs": [],
   "source": [
    "## for Google Colaboratory\n",
    "# from google.colab import files\n",
    "# uploaded = files.upload()"
   ]
  },
  {
   "cell_type": "code",
   "execution_count": null,
   "metadata": {},
   "outputs": [],
   "source": [
    "!head -2 usa_housing.csv"
   ]
  },
  {
   "cell_type": "code",
   "execution_count": null,
   "metadata": {},
   "outputs": [],
   "source": [
    "headers = ['income', 'age', 'rooms', 'bedrooms', 'population', 'price', 'address']\n",
    "\n",
    "housing = pd.read_csv('usa_housing.csv', header=1, names=headers)\n",
    "housing"
   ]
  },
  {
   "cell_type": "code",
   "execution_count": null,
   "metadata": {
    "scrolled": false
   },
   "outputs": [],
   "source": [
    "housing.describe()"
   ]
  },
  {
   "cell_type": "markdown",
   "metadata": {},
   "source": [
    "#### Plot how the different features correlate with the price:\n",
    "\n",
    "- Using Pandas's built in plot function, we can do this quickly:"
   ]
  },
  {
   "cell_type": "code",
   "execution_count": null,
   "metadata": {},
   "outputs": [],
   "source": [
    "for feature in headers[0:-2]:\n",
    "    housing.plot(x=feature, y='price', kind='scatter')"
   ]
  },
  {
   "cell_type": "markdown",
   "metadata": {},
   "source": [
    "---\n",
    "## Linear Regression on a Single Feature (i.e. 1D)\n",
    "\n",
    "The simplest scenario is to focus upon 1 feature (i.e. rooms) and see if we can create a model that allows us to predict a house price based on the number of rooms."
   ]
  },
  {
   "cell_type": "code",
   "execution_count": null,
   "metadata": {},
   "outputs": [],
   "source": [
    "target = housing['price'].values\n",
    "features = housing['rooms'].values"
   ]
  },
  {
   "cell_type": "markdown",
   "metadata": {},
   "source": [
    "### Training and Testing\n",
    "\n",
    "- Good data scholarship means we need to split our data into a training and test sets. We do this by using the following scikit-learn funtion:\n",
    "\n",
    "`sklearn.model_selection.train_test_split(*arrays, test_size=None, train_size=None, random_state=None, shuffle=True, stratify=None)`\n",
    "\n",
    "- Returns: a list containing train-test split of the data input.\n",
    "\n",
    "https://scikit-learn.org/stable/modules/generated/sklearn.model_selection.train_test_split.html"
   ]
  },
  {
   "cell_type": "code",
   "execution_count": null,
   "metadata": {},
   "outputs": [],
   "source": [
    "features_train, features_test, target_train, target_test = train_test_split(features, target,\n",
    "                                                                            test_size=0.25, train_size=0.75,\n",
    "                                                                            random_state=1)"
   ]
  },
  {
   "cell_type": "markdown",
   "metadata": {},
   "source": [
    "Let's double check the algorithm - we should have 25% of the data being researved for the future testing."
   ]
  },
  {
   "cell_type": "code",
   "execution_count": null,
   "metadata": {},
   "outputs": [],
   "source": [
    "print(f'Length of the training data: {len(target_train)}')\n",
    "print(f'Length of the test data: {len(target_test)}')\n",
    "\n",
    "print(f'Percentage of data used for the test data set: '\n",
    "      f'{len(target_test) / (len(target_train) + len(target_test)):0.2f}')"
   ]
  },
  {
   "cell_type": "markdown",
   "metadata": {},
   "source": [
    "#### Understanding what the output is\n",
    "- Let's look at the data, and see what shape the Numpy arrays are:"
   ]
  },
  {
   "cell_type": "code",
   "execution_count": null,
   "metadata": {},
   "outputs": [],
   "source": [
    "features_train"
   ]
  },
  {
   "cell_type": "code",
   "execution_count": null,
   "metadata": {},
   "outputs": [],
   "source": [
    "features_train.shape"
   ]
  },
  {
   "cell_type": "code",
   "execution_count": null,
   "metadata": {},
   "outputs": [],
   "source": [
    "target_train"
   ]
  },
  {
   "cell_type": "code",
   "execution_count": null,
   "metadata": {},
   "outputs": [],
   "source": [
    "target_train.shape"
   ]
  },
  {
   "cell_type": "markdown",
   "metadata": {},
   "source": [
    "#### Visualize the data\n",
    "Let's plot the house cost versus the number of rooms to get a visual understanding of the data:"
   ]
  },
  {
   "cell_type": "code",
   "execution_count": null,
   "metadata": {},
   "outputs": [],
   "source": [
    "plt.figure()\n",
    "plt.scatter(features_train, target_train)\n",
    "plt.show()"
   ]
  },
  {
   "cell_type": "markdown",
   "metadata": {},
   "source": [
    "#### Reshape the data\n",
    "- scikit-learn's LinearRegression requires the data to have a certain Numpy array shape\n",
    "- the `target_train` and `target_test` are both already in their correct shape\n",
    "- However, since we only only one feature (i.e. one column -> number of rooms), the feature containing arrays need to be reshpaed to contain nested lists:"
   ]
  },
  {
   "cell_type": "code",
   "execution_count": null,
   "metadata": {},
   "outputs": [],
   "source": [
    "features_train"
   ]
  },
  {
   "cell_type": "markdown",
   "metadata": {},
   "source": [
    "**Note:** If we do not reshape the data, then in the next step (i.e. `model = reg.fit(X=features_train, y=target_train)`) we would obtain the following error:\n",
    "\n",
    "`ValueError: Expected 2D array, got 1D array instead:\n",
    "array=[7.76350224 6.67325638 6.39398078 ... 6.11019169 7.04733826 5.35511362].\n",
    "Reshape your data either using array.reshape(-1, 1) if your data has a single feature or array.reshape(1, -1) if it contains a single sample.`\n",
    "\n",
    "Numpy's reshape function: https://numpy.org/doc/stable/reference/generated/numpy.reshape.html\n",
    "- the `-1`: a wildcard that specifies an unknown dimension, for which we will have numpy figure it out automatically\n",
    "    - \"One shape dimension can be -1. In this case, the value is inferred from the length of the array and remaining dimensions.\""
   ]
  },
  {
   "cell_type": "code",
   "execution_count": null,
   "metadata": {},
   "outputs": [],
   "source": [
    "## Note: the following two are equivalent statments\n",
    "features_train = np.reshape(features_train, (-1, 1))\n",
    "# features_train = features_train.reshape(-1, 1)\n",
    "\n",
    "features_train"
   ]
  },
  {
   "cell_type": "code",
   "execution_count": null,
   "metadata": {},
   "outputs": [],
   "source": [
    "features_test = features_test.reshape(-1, 1)\n",
    "features_test"
   ]
  },
  {
   "cell_type": "markdown",
   "metadata": {},
   "source": [
    "### Least Squared Linear Regression\n",
    "\n",
    "- https://scikit-learn.org/stable/modules/generated/sklearn.linear_model.LinearRegression.html\n",
    "\n",
    "`sklearn.linear_model.LinearRegression(*, fit_intercept=True, copy_X=True, n_jobs=None, positive=False)`\n",
    "\n",
    "We will train in two steps\n",
    "1. Define our **model** to be a linear regression\n",
    "1. Have the model **learn** from our data (i.e. optimize for a best fit) \n",
    "\n",
    "But one could combine them to `reg = LinearRegression().fit(X, y)`"
   ]
  },
  {
   "cell_type": "markdown",
   "metadata": {},
   "source": [
    "**Learn / fit** our data, and thus creating a **model** that represents our training data:"
   ]
  },
  {
   "cell_type": "code",
   "execution_count": null,
   "metadata": {},
   "outputs": [],
   "source": [
    "reg = LinearRegression(fit_intercept=True)"
   ]
  },
  {
   "cell_type": "code",
   "execution_count": null,
   "metadata": {},
   "outputs": [],
   "source": [
    "model = reg.fit(X=features_train, y=target_train)"
   ]
  },
  {
   "cell_type": "markdown",
   "metadata": {},
   "source": [
    "To obtain the weights (a.ka. coefficients) for each feature (i.e. currently only for rooms):"
   ]
  },
  {
   "cell_type": "code",
   "execution_count": null,
   "metadata": {},
   "outputs": [],
   "source": [
    "model.coef_"
   ]
  },
  {
   "cell_type": "markdown",
   "metadata": {},
   "source": [
    "#### Evaluate the fit using $R^2$ goodness-of-fit\n",
    "\n",
    "Two ways to obtain this value:\n",
    "1. score\n",
    "2. r2_score (https://scikit-learn.org/stable/modules/generated/sklearn.metrics.r2_score.html#sklearn.metrics.r2_score)\n",
    "\n",
    "    \"**Best possible score is 1.0** and it can be negative (because the model can be arbitrarily worse). A constant model that always predicts the expected value of y, disregarding the input features, would get a score of 0.0.\""
   ]
  },
  {
   "cell_type": "code",
   "execution_count": null,
   "metadata": {},
   "outputs": [],
   "source": [
    "model.score(X=features_test, y=target_test)"
   ]
  },
  {
   "cell_type": "code",
   "execution_count": null,
   "metadata": {},
   "outputs": [],
   "source": [
    "predict = model.predict(X=features_test)"
   ]
  },
  {
   "cell_type": "code",
   "execution_count": null,
   "metadata": {},
   "outputs": [],
   "source": [
    "r2_score(y_true=target_test, y_pred=predict, multioutput='uniform_average')"
   ]
  },
  {
   "cell_type": "markdown",
   "metadata": {},
   "source": [
    "#### Overlay the scattered data with the linear regression prediction"
   ]
  },
  {
   "cell_type": "code",
   "execution_count": null,
   "metadata": {},
   "outputs": [],
   "source": [
    "plt.figure()\n",
    "plt.scatter(features_train, target_train)\n",
    "plt.plot(features_test, predict, color='black', linewidth=10, linestyle='solid')\n",
    "plt.show()"
   ]
  },
  {
   "cell_type": "markdown",
   "metadata": {},
   "source": [
    "## The next step:\n",
    "- How does one doe this using multiple features (i.e. in multiple dimensional space)?\n",
    "- Let's generate a model that uses 'income', 'age', 'rooms', 'bedrooms' and 'population' to make a prediction"
   ]
  }
 ],
 "metadata": {
  "kernelspec": {
   "display_name": "Python 3 (ipykernel)",
   "language": "python",
   "name": "python3"
  },
  "language_info": {
   "codemirror_mode": {
    "name": "ipython",
    "version": 3
   },
   "file_extension": ".py",
   "mimetype": "text/x-python",
   "name": "python",
   "nbconvert_exporter": "python",
   "pygments_lexer": "ipython3",
   "version": "3.10.8"
  }
 },
 "nbformat": 4,
 "nbformat_minor": 2
}
