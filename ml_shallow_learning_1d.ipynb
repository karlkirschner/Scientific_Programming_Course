{
 "cells": [
  {
   "cell_type": "markdown",
   "metadata": {},
   "source": [
    "# Shallow Machine Learning Introduction\n",
    "\n",
    "- Statistics is the work horse in machine learning (ML).\n",
    "\n",
    "## Shallow learning\n",
    "- scikit-learn (a.k.a. sklearn)"
   ]
  },
  {
   "cell_type": "markdown",
   "metadata": {},
   "source": [
    "## Catagories\n",
    "\n",
    "| Regression | Classification | Clustering | Dimension Reduction|\n",
    "| :-: | :-: | :-: | :-: |\n",
    "| **Linear** | Logistic Regression | K-means | Principle Component Analysis |\n",
    "| Polynomial | Support Vector Machine | Mean-Shift | Linear Discriminant Analysis |\n",
    "| StepWise | Naive Bayes | DBScan | Gernalized Discriminant Analysis |\n",
    "| Ridge | Nearest Neighbor | Agglomerative Hierachcial | Autoencoder |\n",
    "| Lasso | Decision Tree | Spectral Clustering | Non-Negative Matrix Factorization |\n",
    "| ElasticNet | Random Forest | Gaussian Mixture | UMAP |"
   ]
  },
  {
   "cell_type": "markdown",
   "metadata": {},
   "source": [
    "<p><img alt=\"Classification\" width=\"600\" src=\"00_images/31_machine_learning/shallow_learning_depictions.jpg\" align=\"center\" hspace=\"10px\" vspace=\"0px\"></p>\n",
    "\n",
    "Image Source: de Oliveira, E.C.L., da Costa, K.S., Taube, P.S., Lima, A.H. and Junior, C.D.S.D.S., 2022. Biological Membrane-Penetrating Peptides: Computational Prediction and Applications. Frontiers in Cellular and Infection Microbiology, 12, p.838259. (https://doi.org/10.3389/fcimb.2022.838259)"
   ]
  },
  {
   "cell_type": "markdown",
   "metadata": {},
   "source": [
    "<hr style=\"border:2px solid gray\"></hr>\n",
    "\n",
    "## Linear Regression Refresher\n",
    "\n",
    "**Idea**: Optimize the orientation of a line (i.e., the slope and y-intercept) that best fits coupled parameters (e.g. vaccination effectiveness as a function of dosage).\n",
    "\n",
    "The equation that defines a line that has a single \"feature\" (i.e., one independent variable) is \n",
    "\n",
    "$y = m*x + b$\n",
    "\n",
    "where m is the slope and b is the y-intercept.\n",
    "\n",
    "\n",
    "- A simple, but prominent technique in ML\n",
    "\n",
    "- Used often in supervised learning\n",
    "\n",
    "\n",
    "Additional Info: https://en.wikipedia.org/wiki/Linear_regression"
   ]
  },
  {
   "cell_type": "markdown",
   "metadata": {},
   "source": [
    "## Learning by example\n",
    "\n",
    "**Example data**: housing prices across the United States\n",
    "\n",
    "source: https://github.com/whoparthgarg/House-Price-Prediction (and https://www.kaggle.com/vedavyasv/usa-housing)\n",
    "\n",
    "- **Avg. Area Income**: Avgerage income of city's residents where the house is located in\n",
    "- **Avg. Area House Age**: Avgerage age of houses within the same city\n",
    "- **Avg. Area Number of Rooms**: Avgerage number of rooms for houses within the same city\n",
    "- **Avg. Area Number of Bedrooms**: Avgerage number of bedrooms for houses within the same city\n",
    "- **Area Population**: Population of city where the house is located in\n",
    "- **Price**: Price of the house\n",
    "- **Address**: Address for the house"
   ]
  },
  {
   "cell_type": "code",
   "execution_count": null,
   "metadata": {},
   "outputs": [],
   "source": [
    "from matplotlib import pyplot as plt\n",
    "import numpy as np\n",
    "import pandas as pd\n",
    "\n",
    "from sklearn.linear_model import LinearRegression\n",
    "from sklearn.metrics import r2_score\n",
    "from sklearn.model_selection import train_test_split"
   ]
  },
  {
   "cell_type": "markdown",
   "metadata": {},
   "source": [
    "The dataset (**usa_housing.csv**) can be downloaded from the git repository: https://github.com/karlkirschner/Scientific_Programming_Course"
   ]
  },
  {
   "cell_type": "code",
   "execution_count": null,
   "metadata": {},
   "outputs": [],
   "source": [
    "## for Google Colaboratory\n",
    "# from google.colab import files\n",
    "# uploaded = files.upload()"
   ]
  },
  {
   "cell_type": "code",
   "execution_count": null,
   "metadata": {},
   "outputs": [],
   "source": [
    "!head -2 usa_housing.csv"
   ]
  },
  {
   "cell_type": "markdown",
   "metadata": {},
   "source": [
    "Rename the headers since the are very long"
   ]
  },
  {
   "cell_type": "code",
   "execution_count": null,
   "metadata": {},
   "outputs": [],
   "source": [
    "housing = pd.read_csv('usa_housing.csv', header=1,\n",
    "                      names=['income', 'age', 'rooms', 'bedrooms', 'population', 'price', 'address'])\n",
    "housing"
   ]
  },
  {
   "cell_type": "code",
   "execution_count": null,
   "metadata": {},
   "outputs": [],
   "source": [
    "housing.describe()"
   ]
  },
  {
   "cell_type": "markdown",
   "metadata": {},
   "source": [
    "#### Observables - a.k.a. \"Features\"\n",
    "\n",
    "Definitions of words used in ML...\n",
    "\n",
    "What **features** (i.e., data observables) do we want the machine **to learn** from for **making a prediction** (i.e., `income`, `age`, etc.) of an outcome observable (e.g., `price`)?\n",
    "\n",
    "Coding wise, we can define the features like the following:"
   ]
  },
  {
   "cell_type": "code",
   "execution_count": null,
   "metadata": {},
   "outputs": [],
   "source": [
    "feature_list = ['income', 'age', 'rooms', 'bedrooms', 'population']"
   ]
  },
  {
   "cell_type": "markdown",
   "metadata": {},
   "source": [
    "#### Visualize the data\n",
    "Let's plot the features versus price to see what it might look like:"
   ]
  },
  {
   "cell_type": "code",
   "execution_count": null,
   "metadata": {},
   "outputs": [],
   "source": [
    "# def plot_features(feature_list, df: pd.DataFrame, plt_predict: bool=False):\n",
    "#     fig = plt.figure(figsize=(11, 8))\n",
    "\n",
    "#     fig.subplots_adjust(wspace=0.2, hspace=0.5)\n",
    "\n",
    "#     for count, feature in enumerate(feature_list):\n",
    "#         ax = fig.add_subplot(3, 2, count+1)  # first position can not be zero\n",
    "\n",
    "#         ax.set_xlabel(xlabel=feature)\n",
    "#         ax.set_ylabel(ylabel='price')\n",
    "\n",
    "#         ax.scatter(df[feature], df['price'], color='dodgerblue', s=10, alpha=0.3)\n",
    "#         if plt_predict:\n",
    "#             plt.plot(df[feature], predict, color='black', linewidth=10, linestyle='solid')\n",
    "\n",
    "#     plt.show()"
   ]
  },
  {
   "cell_type": "code",
   "execution_count": null,
   "metadata": {},
   "outputs": [],
   "source": [
    "# plot_features(feature_list=feature_list, df=housing)"
   ]
  },
  {
   "cell_type": "code",
   "execution_count": null,
   "metadata": {},
   "outputs": [],
   "source": [
    "fig = plt.figure(figsize=(11, 8))\n",
    "\n",
    "fig.subplots_adjust(wspace=0.2, hspace=0.5)\n",
    "\n",
    "for count, feature in enumerate(feature_list):\n",
    "    ax = fig.add_subplot(3, 2, count+1)  # first position can not be zero\n",
    "    \n",
    "    ax.set_xlabel(xlabel=feature)\n",
    "    ax.set_ylabel(ylabel='price')\n",
    "    \n",
    "    ax.scatter(housing[feature], housing['price'], color='dodgerblue', s=10, alpha=0.3)\n",
    "\n",
    "plt.show()"
   ]
  },
  {
   "cell_type": "markdown",
   "metadata": {},
   "source": [
    "<hr style=\"border:1px solid gray\"></hr>\n",
    "\n",
    "## Linear Regression on a Single Feature (i.e., one-dimensional)\n",
    "\n",
    "The **simplest scenario** is to focus on **1 feature** (e.g., rooms) and see if we can create a model that allows us to predict a **house price** based on the number of rooms."
   ]
  },
  {
   "cell_type": "code",
   "execution_count": null,
   "metadata": {},
   "outputs": [],
   "source": [
    "target = housing['price'].values\n",
    "features = housing['rooms'].values"
   ]
  },
  {
   "cell_type": "markdown",
   "metadata": {},
   "source": [
    "### Training and Testing\n",
    "\n",
    "- Good **data scholarship** means we need to **split our data** into a **training** and **test** sets. We do this by using the following scikit-learn funtion:\n",
    "\n",
    "`train_test_split(*arrays, test_size=None, train_size=None, random_state=None, shuffle=True, stratify=None)`\n",
    "\n",
    "- Returns: a list containing train-test split of the data input.\n",
    "\n",
    "https://scikit-learn.org/stable/modules/generated/sklearn.model_selection.train_test_split.html"
   ]
  },
  {
   "cell_type": "code",
   "execution_count": null,
   "metadata": {},
   "outputs": [],
   "source": [
    "features_train, features_test, target_train, target_test = train_test_split(features, target,\n",
    "                                                                            test_size=0.25, train_size=0.75,\n",
    "                                                                            random_state=1)"
   ]
  },
  {
   "cell_type": "markdown",
   "metadata": {},
   "source": [
    "Let's double check the algorithm - we should have 25% of the data being researved for the future testing."
   ]
  },
  {
   "cell_type": "code",
   "execution_count": null,
   "metadata": {},
   "outputs": [],
   "source": [
    "print(f'Length of the training data: {len(target_train)}')\n",
    "print(f'Length of the test data: {len(target_test)}')\n",
    "\n",
    "print(f'Fraction of data used for the test data set: '\n",
    "      f'{len(target_test) / (len(target_train) + len(target_test)) :0.2f}')"
   ]
  },
  {
   "cell_type": "markdown",
   "metadata": {},
   "source": [
    "#### Understanding what the output is\n",
    "- Let's look at the data, and see what shape the NumPy arrays are:"
   ]
  },
  {
   "cell_type": "code",
   "execution_count": null,
   "metadata": {},
   "outputs": [],
   "source": [
    "display(features_train)\n",
    "display(features_train.shape)"
   ]
  },
  {
   "cell_type": "code",
   "execution_count": null,
   "metadata": {},
   "outputs": [],
   "source": [
    "display(target_train)\n",
    "display(target_train.shape)"
   ]
  },
  {
   "cell_type": "markdown",
   "metadata": {},
   "source": [
    "#### Visualize the trainign and test data\n"
   ]
  },
  {
   "cell_type": "code",
   "execution_count": null,
   "metadata": {},
   "outputs": [],
   "source": [
    "plt.figure()\n",
    "\n",
    "plt.scatter(features_train, target_train, s=10)\n",
    "plt.scatter(features_test, target_test, s=8)\n",
    "\n",
    "plt.show()"
   ]
  },
  {
   "cell_type": "markdown",
   "metadata": {},
   "source": [
    "#### Reshape the data\n",
    "- scikit-learn's <font color='dodgerblue'>LinearRegression</font> requires the data to have a certain <font color='dodgerblue'>NumPy array shape</font>\n",
    "- The `target_train` and `target_test` are both already in their correct shape"
   ]
  },
  {
   "cell_type": "code",
   "execution_count": null,
   "metadata": {},
   "outputs": [],
   "source": [
    "display(target_train)\n",
    "display(target_train.shape)\n",
    "\n",
    "display(target_test)\n",
    "display(target_test.shape)"
   ]
  },
  {
   "cell_type": "markdown",
   "metadata": {},
   "source": [
    "- However, since we only only one feature (i.e., one column $\\rightarrow$ number of rooms), the feature containing arrays needs to be reshaped to contain nested lists.\n",
    "\n",
    "**Note:** If we do not reshape the data, then in the next step (i.e., `model = reg.fit(X=features_train, y=target_train)`) we would obtain the following error:\n",
    "\n",
    "`ValueError: Expected 2D array, got 1D array instead:\n",
    "array=[7.76350224 6.67325638 6.39398078 ... 6.11019169 7.04733826 5.35511362].\n",
    "Reshape your data either using array.reshape(-1, 1) if your data has a single feature or array.reshape(1, -1) if it contains a single sample.`\n",
    "\n",
    "Numpy's reshape function: https://numpy.org/doc/stable/reference/generated/numpy.reshape.html\n",
    "- `One shape dimension can be -1. In this case, the value is inferred from the length of the array and the remaining dimensions.`\n",
    "\n",
    "Originally the data was:"
   ]
  },
  {
   "cell_type": "code",
   "execution_count": null,
   "metadata": {},
   "outputs": [],
   "source": [
    "display(features_train)\n",
    "display(features_train.shape)"
   ]
  },
  {
   "cell_type": "markdown",
   "metadata": {},
   "source": [
    "Reshape the data:"
   ]
  },
  {
   "cell_type": "code",
   "execution_count": null,
   "metadata": {},
   "outputs": [],
   "source": [
    "features_train = np.reshape(features_train, (-1, 1))\n",
    "features_train"
   ]
  },
  {
   "cell_type": "code",
   "execution_count": null,
   "metadata": {},
   "outputs": [],
   "source": [
    "features_test = np.reshape(features_test, (-1, 1))\n",
    "features_test"
   ]
  },
  {
   "cell_type": "markdown",
   "metadata": {},
   "source": [
    "### Least Squared Linear Regression\n",
    "\n",
    "- https://scikit-learn.org/stable/modules/generated/sklearn.linear_model.LinearRegression.html\n",
    "\n",
    "- `sklearn.linear_model.LinearRegression(*, fit_intercept=True, copy_X=True, n_jobs=None, positive=False)`\n",
    "\n",
    "We will train in two steps\n",
    "1. Define our **model** to be a linear regression"
   ]
  },
  {
   "cell_type": "code",
   "execution_count": null,
   "metadata": {},
   "outputs": [],
   "source": [
    "reg = LinearRegression(fit_intercept=True)"
   ]
  },
  {
   "cell_type": "markdown",
   "metadata": {},
   "source": [
    "2. Have the model **learn** from our data (i.e., optimize for a best fit)\n",
    "     - This is the creation of a **model** that represents our training data"
   ]
  },
  {
   "cell_type": "code",
   "execution_count": null,
   "metadata": {},
   "outputs": [],
   "source": [
    "model = reg.fit(X=features_train, y=target_train)"
   ]
  },
  {
   "cell_type": "code",
   "execution_count": null,
   "metadata": {},
   "outputs": [],
   "source": [
    "model"
   ]
  },
  {
   "cell_type": "markdown",
   "metadata": {},
   "source": [
    "<!-- To obtain the weights (a.k.a. coefficients) for each feature (i.e., currently only for rooms):\n",
    "`print(f'Coefficients: {model.coef_}')` -->"
   ]
  },
  {
   "cell_type": "markdown",
   "metadata": {},
   "source": [
    "### Making predictions using your model\n",
    "\n",
    "- `predict`\n",
    "    - https://scikit-learn.org/stable/modules/generated/sklearn.linear_model.LinearRegression.html#sklearn.linear_model.LinearRegression.predict\n",
    "\n",
    "- One new house with 5 rooms\n"
   ]
  },
  {
   "cell_type": "code",
   "execution_count": null,
   "metadata": {},
   "outputs": [],
   "source": [
    "new_house_features = np.array([ [5] ])\n",
    "\n",
    "display(new_house_features)\n",
    "display(new_house_features.shape)"
   ]
  },
  {
   "cell_type": "code",
   "execution_count": null,
   "metadata": {},
   "outputs": [],
   "source": [
    "model.predict(X=new_house_features)"
   ]
  },
  {
   "cell_type": "markdown",
   "metadata": {},
   "source": [
    "- Two new houses with 5 and 2 rooms"
   ]
  },
  {
   "cell_type": "code",
   "execution_count": null,
   "metadata": {},
   "outputs": [],
   "source": [
    "new_house_features = np.array([ [5], [2] ])\n",
    "display(new_house_features.shape)\n",
    "\n",
    "model.predict(X=new_house_features)"
   ]
  },
  {
   "cell_type": "markdown",
   "metadata": {},
   "source": [
    "#### Evaluate the fit using the Coefficient of Determination ($R^2$)  - goodness-of-fit\n",
    "- https://en.wikipedia.org/wiki/Coefficient_of_determination\n",
    "\n",
    "Two ways to obtain this value:\n",
    "1. `score`\n",
    "    - https://scikit-learn.org/stable/modules/generated/sklearn.linear_model.LinearRegression.html#sklearn.linear_model.LinearRegression.score\n",
    "\n",
    "\n",
    "2. `r2_score`\n",
    "    - https://scikit-learn.org/stable/modules/generated/sklearn.metrics.r2_score.html#sklearn.metrics.r2_score\n",
    "\n",
    "- Score = 1 : **Best possible model**\n",
    "    \n",
    "- Score = 0 : **Poor model** - a model that predicts the expected value of y regardless of the input feature values\n",
    "\n",
    "- Score > 1 or < 0: **Wrong model** (or **wrong constraints applied**)\n",
    "\n",
    "Using the **test data** set:"
   ]
  },
  {
   "cell_type": "code",
   "execution_count": null,
   "metadata": {},
   "outputs": [],
   "source": [
    "display(features_test.shape)\n",
    "\n",
    "predict = model.predict(X=features_test)\n",
    "predict"
   ]
  },
  {
   "cell_type": "markdown",
   "metadata": {},
   "source": [
    "- `score`"
   ]
  },
  {
   "cell_type": "code",
   "execution_count": null,
   "metadata": {},
   "outputs": [],
   "source": [
    "model.score(X=features_test, y=target_test)"
   ]
  },
  {
   "cell_type": "markdown",
   "metadata": {},
   "source": [
    "- `r2_score`"
   ]
  },
  {
   "cell_type": "code",
   "execution_count": null,
   "metadata": {},
   "outputs": [],
   "source": [
    "r2_score(y_true=target_test, y_pred=predict, multioutput='uniform_average')"
   ]
  },
  {
   "cell_type": "markdown",
   "metadata": {},
   "source": [
    "#### Overlay the scattered data with the linear regression prediction"
   ]
  },
  {
   "cell_type": "code",
   "execution_count": null,
   "metadata": {},
   "outputs": [],
   "source": [
    "plt.figure()\n",
    "\n",
    "plt.scatter(features_test, target_test, s=10, alpha=0.5)\n",
    "plt.plot(features_test, predict, color='black', linewidth=10, linestyle='solid')\n",
    "\n",
    "plt.show()"
   ]
  },
  {
   "cell_type": "markdown",
   "metadata": {},
   "source": [
    "The polynomial `coefficients` and `y-intercept` of the resulting fitted line:"
   ]
  },
  {
   "cell_type": "code",
   "execution_count": null,
   "metadata": {},
   "outputs": [],
   "source": [
    "print(f'Coefficients: {model.coef_}')\n",
    "print()\n",
    "print(f'y-intercept: {model.intercept_}')"
   ]
  },
  {
   "cell_type": "markdown",
   "metadata": {},
   "source": [
    "Now, let's make a price prediction for the first data entry:"
   ]
  },
  {
   "cell_type": "code",
   "execution_count": null,
   "metadata": {},
   "outputs": [],
   "source": [
    "housing.loc[[0]]"
   ]
  },
  {
   "cell_type": "markdown",
   "metadata": {},
   "source": [
    "Using our ML model:"
   ]
  },
  {
   "cell_type": "code",
   "execution_count": null,
   "metadata": {},
   "outputs": [],
   "source": [
    "price = model.predict(X=np.array([ [6.7] ]))\n",
    "f'{price[0]:0.3e}'"
   ]
  },
  {
   "cell_type": "markdown",
   "metadata": {},
   "source": [
    "Alternatively, as a proof-of-concept:\n",
    "\n",
    "- using the `coefficients` and `y-intercept`, we can use the **equation for a line** `y = m*x + b` to obtain a predicted price:"
   ]
  },
  {
   "cell_type": "code",
   "execution_count": null,
   "metadata": {},
   "outputs": [],
   "source": [
    "price = (model.coef_[0] * 6.7) + model.intercept_\n",
    "f'{price:0.3e}'"
   ]
  },
  {
   "cell_type": "markdown",
   "metadata": {},
   "source": [
    "**Results**: We see that for the first data entry, the model predicts a lower price than actual.\n",
    "\n",
    "\n",
    "\n",
    "<hr style=\"border:1px solid gray\"></hr>\n",
    "\n",
    "## Model from two features\n",
    "\n",
    "The equation that defines a line that has two \"features\" (i.e., two independent variables) is \n",
    "\n",
    "$y = m_1*x_1 + m_2*x_2 + b$\n",
    "\n",
    "- $x_1$ and $x_2$ = data for the two features\n",
    "- $m_1$ and $m_2$ = the coefficients\n",
    "- $b$ = y-intercept\n",
    "\n",
    "\n",
    "- How does one do this using multiple features (i.e., in multiple-dimensional space)?\n",
    "- Let's generate a model that uses 'income', 'age', 'rooms', 'bedrooms', and 'population' to make a prediction"
   ]
  },
  {
   "cell_type": "code",
   "execution_count": null,
   "metadata": {},
   "outputs": [],
   "source": [
    "housing"
   ]
  },
  {
   "cell_type": "code",
   "execution_count": null,
   "metadata": {},
   "outputs": [],
   "source": [
    "target = housing['price'].values\n",
    "\n",
    "display(target)"
   ]
  },
  {
   "cell_type": "code",
   "execution_count": null,
   "metadata": {},
   "outputs": [],
   "source": [
    "two_features = ['age', 'rooms']\n",
    "\n",
    "display(two_features)\n",
    "display(housing[two_features].shape)"
   ]
  },
  {
   "cell_type": "markdown",
   "metadata": {},
   "source": [
    "**Notice**: since with are dealing with **2 features** (i.e., 2 Pandas DataFrame columns), so we pass the **DataFrame directly to `train_test_split`** without reshaping them, unlike the above 1 feature example."
   ]
  },
  {
   "cell_type": "code",
   "execution_count": null,
   "metadata": {},
   "outputs": [],
   "source": [
    "features_train, features_test, target_train, target_test = train_test_split(housing[two_features], target,\n",
    "                                                                            test_size=0.25, train_size=0.75,\n",
    "                                                                            random_state=1)"
   ]
  },
  {
   "cell_type": "code",
   "execution_count": null,
   "metadata": {},
   "outputs": [],
   "source": [
    "features_train"
   ]
  },
  {
   "cell_type": "code",
   "execution_count": null,
   "metadata": {},
   "outputs": [],
   "source": [
    "reg = LinearRegression(fit_intercept=True)"
   ]
  },
  {
   "cell_type": "code",
   "execution_count": null,
   "metadata": {},
   "outputs": [],
   "source": [
    "model = reg.fit(X=features_train, y=target_train)"
   ]
  },
  {
   "cell_type": "code",
   "execution_count": null,
   "metadata": {},
   "outputs": [],
   "source": [
    "model.score(X=features_test, y=target_test)"
   ]
  },
  {
   "cell_type": "code",
   "execution_count": null,
   "metadata": {},
   "outputs": [],
   "source": [
    "predict = model.predict(X=features_test)\n",
    "predict"
   ]
  },
  {
   "cell_type": "markdown",
   "metadata": {},
   "source": [
    "Create a plot function that allows us to visualize multiple price vs. features."
   ]
  },
  {
   "cell_type": "code",
   "execution_count": null,
   "metadata": {},
   "outputs": [],
   "source": [
    "def plot_features(feature_list: list,\n",
    "                  target: np.ndarray,\n",
    "                  feature_df: pd.DataFrame,\n",
    "                  predict: np.ndarray=None):\n",
    "    ''' Create a plot with multiple subplots displayed in two columns.\n",
    "    \n",
    "        Args\n",
    "            feature_list: y-axis features to be extracted from feature_df (i.e. column names)\n",
    "            target: x-axis data\n",
    "            feature_df: y-axis data\n",
    "            predict: predicted values based on machine learning\n",
    "        Returns\n",
    "            plot\n",
    "        \n",
    "        Library dependencis\n",
    "            matplotlib\n",
    "            numpy\n",
    "            pandas\n",
    "    '''\n",
    "\n",
    "    if not isinstance(feature_list, list):\n",
    "        raise TypeError('Input features are not given as a list.')\n",
    "    elif not isinstance(target, np.ndarray):\n",
    "        raise TypeError('Target values are not given as a NumPy array.')\n",
    "    elif not isinstance(feature_df, pd.DataFrame):\n",
    "        raise TypeError('feature_df is not given as a Pandas dataframe.')\n",
    "    elif not isinstance(predict, np.ndarray):\n",
    "        raise TypeError('predict is not given as a NumPy array.')\n",
    "    else:  \n",
    "\n",
    "        number_of_rows = int(np.ceil(len(feature_list)/2))  # number of rows for a 2 column plot\n",
    "\n",
    "        fig = plt.figure(figsize=(11, 3*number_of_rows))    # same height subplots regardless of rows\n",
    "\n",
    "        fig.subplots_adjust(wspace=0.2, hspace=0.5)\n",
    "\n",
    "        for count, feature in enumerate(feature_list):    \n",
    "            ax = fig.add_subplot(number_of_rows, 2, count+1)  # first position can not be zero\n",
    "\n",
    "            ax.set_xlabel(xlabel=feature)\n",
    "            ax.set_ylabel(ylabel='price')\n",
    "\n",
    "            ax.scatter(feature_df[feature], target, color='dodgerblue', s=20, alpha=0.3)\n",
    "\n",
    "            if predict is not None:\n",
    "                ax.scatter(feature_df[feature], predict, color='orange', s=10, alpha=0.5, linestyle='solid')\n",
    "\n",
    "        plt.show()"
   ]
  },
  {
   "cell_type": "code",
   "execution_count": null,
   "metadata": {},
   "outputs": [],
   "source": [
    "plot_features(feature_list=two_features, feature_df=features_test, target=target_test, predict=predict)"
   ]
  },
  {
   "cell_type": "markdown",
   "metadata": {},
   "source": [
    "#### What would the resulting two-feature linear equation look like, for one of the input houses?\n",
    "\n",
    "$y = (m_1*x_1) + (m_2*x_2) + (b)$"
   ]
  },
  {
   "cell_type": "code",
   "execution_count": null,
   "metadata": {},
   "outputs": [],
   "source": [
    "print(f'Coefficients: {model.coef_}')\n",
    "print()\n",
    "print(f'y-intercept: {model.intercept_}')"
   ]
  },
  {
   "cell_type": "code",
   "execution_count": null,
   "metadata": {},
   "outputs": [],
   "source": [
    "print(f'y = ({model.coef_[0]:0.2e} * x) \\n'\\\n",
    "      f'  + ({model.coef_[1]:0.2e} * x) \\n'\\\n",
    "      f'  + {model.intercept_:0.2e}')"
   ]
  },
  {
   "cell_type": "markdown",
   "metadata": {},
   "source": [
    "#### Apply it to an individual house (i.e., the first data entry) to see how it repoduces the actual target value.\n",
    "\n",
    "Recall that we can use Pandas `loc` to isolate rows and columns:"
   ]
  },
  {
   "cell_type": "code",
   "execution_count": null,
   "metadata": {},
   "outputs": [],
   "source": [
    "display(housing.loc[[0]])\n",
    "\n",
    "display(housing.loc[[0, 3], ['age', 'rooms']])\n",
    "\n",
    "display(housing.loc[[0], ['age', 'rooms']])"
   ]
  },
  {
   "cell_type": "markdown",
   "metadata": {},
   "source": [
    "Using our **ML model**:"
   ]
  },
  {
   "cell_type": "code",
   "execution_count": null,
   "metadata": {},
   "outputs": [],
   "source": [
    "price = model.predict(X=housing.loc[[0], ['age', 'rooms']])\n",
    "\n",
    "f'{price[0]:0.3e}'"
   ]
  },
  {
   "cell_type": "markdown",
   "metadata": {},
   "source": [
    "Alternatively, using the **equation for a line**:"
   ]
  },
  {
   "cell_type": "code",
   "execution_count": null,
   "metadata": {},
   "outputs": [],
   "source": [
    "print(f'y = ({model.coef_[0]:0.2e} * {float(housing[\"age\"].loc[[0]]):0.2e}) \\n'\\\n",
    "      f'  + ({model.coef_[1]:0.2e} * {float(housing[\"rooms\"].loc[[0]]):0.2e}) \\n'\\\n",
    "      f'  + {model.intercept_:0.2e}')"
   ]
  },
  {
   "cell_type": "code",
   "execution_count": null,
   "metadata": {},
   "outputs": [],
   "source": [
    "price = (model.coef_[0] * float(housing[\"age\"].loc[[0]]))     \\\n",
    "      + (model.coef_[1] * float(housing[\"rooms\"].loc[[0]]))        \\\n",
    "      + model.intercept_\n",
    "\n",
    "f'{price:0.3e}'"
   ]
  },
  {
   "cell_type": "markdown",
   "metadata": {},
   "source": [
    "As we see, the `$ 1.208e+06` is still lower than the actual `$ 1.506e+06` value.\n",
    "\n",
    "##### Sidenote: plot the line corresponding to each subfeature\n",
    "\n",
    "1. Create a straight line for plotting:\n",
    "2. Plot data and overlay with the straight lines"
   ]
  },
  {
   "cell_type": "code",
   "execution_count": null,
   "metadata": {},
   "outputs": [],
   "source": [
    "age_line = (model.coef_[0] * features_test[\"age\"])\n",
    "\n",
    "rooms_line = (model.coef_[0] * features_test[\"rooms\"])"
   ]
  },
  {
   "cell_type": "code",
   "execution_count": null,
   "metadata": {},
   "outputs": [],
   "source": [
    "plt.figure()\n",
    "\n",
    "plt.scatter(features_test['age'], target_test, s=20, alpha=0.5)\n",
    "plt.scatter(features_test['rooms'],  target_test, s=20, alpha=0.5)\n",
    "\n",
    "plt.plot(features_test['age'], age_line, color='dodgerblue', linewidth=10, alpha=0.5, linestyle='solid')\n",
    "plt.plot(features_test['rooms'], rooms_line, color='orange', linewidth=10, alpha=0.5, linestyle='solid')\n",
    "\n",
    "plt.show()"
   ]
  },
  {
   "cell_type": "markdown",
   "metadata": {},
   "source": [
    "<hr style=\"border:1px solid gray\"></hr>\n",
    "\n",
    "### Model from five features"
   ]
  },
  {
   "cell_type": "code",
   "execution_count": null,
   "metadata": {},
   "outputs": [],
   "source": [
    "five_features = ['income', 'age', 'rooms', 'bedrooms', 'population']\n",
    "\n",
    "display(housing[five_features])\n",
    "display(housing[five_features].shape)"
   ]
  },
  {
   "cell_type": "code",
   "execution_count": null,
   "metadata": {},
   "outputs": [],
   "source": [
    "features_train, features_test, target_train, target_test = train_test_split(housing[five_features], target,\n",
    "                                                                            test_size=0.25, train_size=0.75,\n",
    "                                                                            random_state=1)"
   ]
  },
  {
   "cell_type": "code",
   "execution_count": null,
   "metadata": {},
   "outputs": [],
   "source": [
    "model = reg.fit(X=features_train, y=target_train)"
   ]
  },
  {
   "cell_type": "code",
   "execution_count": null,
   "metadata": {},
   "outputs": [],
   "source": [
    "model.score(X=features_test, y=target_test)"
   ]
  },
  {
   "cell_type": "code",
   "execution_count": null,
   "metadata": {},
   "outputs": [],
   "source": [
    "predict = model.predict(X=features_test)\n",
    "predict"
   ]
  },
  {
   "cell_type": "markdown",
   "metadata": {},
   "source": [
    "Let's visualize how well the ML'ed predicted values in comparison to the original `test` input data:"
   ]
  },
  {
   "cell_type": "code",
   "execution_count": null,
   "metadata": {},
   "outputs": [],
   "source": [
    "plot_features(feature_list=five_features, feature_df=features_test, target=target_test, predict=predict)"
   ]
  },
  {
   "cell_type": "markdown",
   "metadata": {},
   "source": [
    "#### Apply it to an individual house (i.e., the first data entry) to see how it repoduces the actual target value."
   ]
  },
  {
   "cell_type": "code",
   "execution_count": null,
   "metadata": {},
   "outputs": [],
   "source": [
    "housing.loc[[0]]"
   ]
  },
  {
   "cell_type": "markdown",
   "metadata": {},
   "source": [
    "Using our **ML model**:"
   ]
  },
  {
   "cell_type": "code",
   "execution_count": null,
   "metadata": {},
   "outputs": [],
   "source": [
    "price = model.predict(X=housing.loc[[0], five_features])\n",
    "\n",
    "f'{price[0]:0.3e}'"
   ]
  },
  {
   "cell_type": "markdown",
   "metadata": {},
   "source": [
    "Alternatively, using the **equation for a line**:"
   ]
  },
  {
   "cell_type": "markdown",
   "metadata": {},
   "source": [
    "$y = (m_1*x_1) + (m_2*x_2) + (m_3*x_3) + (m_4*x_4) + (m_5*x_5) + (b)$"
   ]
  },
  {
   "cell_type": "code",
   "execution_count": null,
   "metadata": {},
   "outputs": [],
   "source": [
    "print(f'y = ({model.coef_[0]:0.2e} * {float(housing[\"income\"].loc[[0]]):0.2e}) \\n'\\\n",
    "      f'  + ({model.coef_[1]:0.2e} * {float(housing[\"age\"].loc[[0]]):0.2e}) \\n'\\\n",
    "      f'  + ({model.coef_[2]:0.2e} * {float(housing[\"rooms\"].loc[[0]]):0.2e}) \\n'\\\n",
    "      f'  + ({model.coef_[3]:0.2e} * {float(housing[\"bedrooms\"].loc[[0]]):0.2e}) \\n'\\\n",
    "      f'  + ({model.coef_[4]:0.2e} * {float(housing[\"population\"].loc[[0]]):0.2e}) \\n'\\\n",
    "      f'  + {model.intercept_:0.2e}')"
   ]
  },
  {
   "cell_type": "code",
   "execution_count": null,
   "metadata": {},
   "outputs": [],
   "source": [
    "price = (model.coef_[0] * float(housing[\"income\"].loc[[0]]))     \\\n",
    "      + (model.coef_[1] * float(housing[\"age\"].loc[[0]]))        \\\n",
    "      + (model.coef_[2] * float(housing[\"rooms\"].loc[[0]]))      \\\n",
    "      + (model.coef_[3] * float(housing[\"bedrooms\"].loc[[0]]))   \\\n",
    "      + (model.coef_[4] * float(housing[\"population\"].loc[[0]])) \\\n",
    "      + model.intercept_\n",
    "\n",
    "f'{price:0.3e}'"
   ]
  },
  {
   "cell_type": "markdown",
   "metadata": {},
   "source": [
    "Now we see very good agreement between the model predicted value and the target `$ 1.506e+06` value."
   ]
  },
  {
   "cell_type": "markdown",
   "metadata": {},
   "source": [
    "#### How do you run the model for a new house?\n",
    "\n",
    "1. Create a new dataframe that provides the house's features\n",
    "2. Use `predict` to generate a predicted value"
   ]
  },
  {
   "cell_type": "code",
   "execution_count": null,
   "metadata": {},
   "outputs": [],
   "source": [
    "new_house_features = pd.DataFrame(np.array([ [8.00e4, 6.5, 7.0, 4.0, 40.0e3 ] ]),\n",
    "                                  columns=five_features)\n",
    "\n",
    "display(new_house_features)"
   ]
  },
  {
   "cell_type": "code",
   "execution_count": null,
   "metadata": {},
   "outputs": [],
   "source": [
    "new_house_price = model.predict(X=new_house_features)\n",
    "new_house_price"
   ]
  },
  {
   "cell_type": "code",
   "execution_count": null,
   "metadata": {},
   "outputs": [],
   "source": [
    "display(new_house_features)\n",
    "print(f'Cost of the above house is predicted to be: ${float(new_house_price):0.3e}.')"
   ]
  },
  {
   "cell_type": "code",
   "execution_count": null,
   "metadata": {},
   "outputs": [],
   "source": []
  }
 ],
 "metadata": {
  "kernelspec": {
   "display_name": "Python 3 (ipykernel)",
   "language": "python",
   "name": "python3"
  },
  "language_info": {
   "codemirror_mode": {
    "name": "ipython",
    "version": 3
   },
   "file_extension": ".py",
   "mimetype": "text/x-python",
   "name": "python",
   "nbconvert_exporter": "python",
   "pygments_lexer": "ipython3",
   "version": "3.10.13"
  }
 },
 "nbformat": 4,
 "nbformat_minor": 2
}
