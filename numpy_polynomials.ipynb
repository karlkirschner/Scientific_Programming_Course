{
 "cells": [
  {
   "cell_type": "markdown",
   "id": "1f0ce628",
   "metadata": {},
   "source": [
    "<div class=\"alert block alert-info alert\">\n",
    "\n",
    "\n",
    "# Polynomials\n",
    "\n",
    "## Importance of polynomials in science\n",
    "\n",
    "They are prevalent in all fields - ranging from physics to economics.\n",
    "\n",
    "**Examples**:\n",
    "- chemistry: model potential energy surfaces\n",
    "- astronomy: model object (stars, planets, asteroids) trajectories, velocities, interactions \n",
    "- economics: model forecast money trends\n",
    "- meteorology: model weather patterns\n",
    "- engineering: create physical designs (roller coaster)\n",
    "- virology: predict contagion growth\n",
    "- statistics: regressions and interpolation\n",
    "\n",
    "Often in the real world, we can rarely evaluate functions exactly because they become **too complicated**. Instead, we evaluate functions **using approximations created using polynomials** (e.g., Taylor series expansions: https://en.wikipedia.org/wiki/Taylor_series).\n",
    "\n",
    "---\n",
    "\n",
    "## Polynomials Defintion and Components\n",
    "\n",
    "Example (2$^{nd}$-degree polynomial): $3x^2 + 2x + 1$\n",
    "\n",
    "where the overall polynomial degree is defined by the highest power value (i.e., $x^2$: 2$^{nd}$-degree), and the coefficients are [3, 2, 1].\n",
    "\n",
    "- https://en.wikipedia.org/wiki/Polynomial\n",
    "\n",
    "\n",
    "## Example of simple polynomials using Numpy functions\n",
    "\n",
    "#### Creating one-dimensional polynomials to various degrees: \n",
    "\n",
    "`poly1d`: https://numpy.org/doc/stable/reference/generated/numpy.poly1d.html\n",
    "\n",
    "<hr style=\"border:2px solid gray\"></hr>\n",
    "\n",
    "Okay, let's revisit the idea of polynomials, and slowly build up our understanding together."
   ]
  },
  {
   "cell_type": "code",
   "execution_count": 1,
   "id": "fe395a92",
   "metadata": {},
   "outputs": [],
   "source": [
    "import matplotlib.pyplot as plt\n",
    "import numpy as np"
   ]
  },
  {
   "cell_type": "markdown",
   "id": "f6c6139e",
   "metadata": {},
   "source": [
    "1. Create a <font color='dodgerblue'>one dimensional</font> (i.e., has <font color='dodgerblue'>one variable</font>...<font color='dodgerblue'>x</font>) polynomials using a function\n",
    "    - using different coefficient(s)\n",
    "    - evaluate the resulting function using a variable (i.e., x) value of 2.\n",
    "\n",
    "To do this **concisely** and to **reduce error**, let's create a user-defined function that\n",
    "\n",
    "a) generates a polynomial using provided coefficients,\n",
    "\n",
    "b) prints out the polynomial equation and\n",
    "\n",
    "c) its value when evaluated at x=2\n",
    "\n",
    "**Note**: I do not provide a docstring comment to `isinstance` within this function to simplify the teaching message. Normally, you should include them."
   ]
  },
  {
   "cell_type": "code",
   "execution_count": 2,
   "id": "055068d1",
   "metadata": {},
   "outputs": [],
   "source": [
    "def my_poly1d(coeff: int=None):\n",
    "    \n",
    "    polynomial = np.poly1d(coeff)\n",
    "    \n",
    "    print(f'The value of the polynomial')\n",
    "    print()\n",
    "    print(f'{polynomial} when x=2: {polynomial(2)}')"
   ]
  },
  {
   "cell_type": "markdown",
   "id": "2763e62c",
   "metadata": {},
   "source": [
    "#### One coefficient (<font color='dodgerblue'>not very exciting</font>): <font color='dodgerblue'>[M] --> $M$</font>"
   ]
  },
  {
   "cell_type": "code",
   "execution_count": 8,
   "id": "cd0c38b6",
   "metadata": {},
   "outputs": [
    {
     "name": "stdout",
     "output_type": "stream",
     "text": [
      "The value of the polynomial\n",
      "\n",
      " \n",
      "3 when x=2: 3\n"
     ]
    }
   ],
   "source": [
    "coefficients = [3]\n",
    "my_poly1d(coefficients)"
   ]
  },
  {
   "cell_type": "markdown",
   "id": "445825fa",
   "metadata": {},
   "source": [
    "Notice that the polynomial generated does <b>not</b> have an <b>'x' term</b>...<b>the equation is just a constant</b>.\n",
    "\n",
    "That means the <b>y-values</b> of the <b>\"polynomial\" equation \"3\"</b> is <b>3</b> for <b>all x-values</b>:"
   ]
  },
  {
   "cell_type": "code",
   "execution_count": 17,
   "id": "e6ad295d",
   "metadata": {},
   "outputs": [
    {
     "data": {
      "image/png": "[encoded data removed]",
      "text/plain": [
       "<Figure size 640x480 with 1 Axes>"
      ]
     },
     "metadata": {},
     "output_type": "display_data"
    }
   ],
   "source": [
    "plt.plot()\n",
    "plt.hlines(xmin=0, xmax=10, y=3)\n",
    "plt.show()"
   ]
  },
  {
   "cell_type": "markdown",
   "id": "9d9dff3d",
   "metadata": {},
   "source": [
    "#### Two coefficients: [M, N] --> <font color='dodgerblue'>$Mx + N$</font>\n",
    "- Note how the M shifts to the x"
   ]
  },
  {
   "cell_type": "code",
   "execution_count": 18,
   "id": "39a33a98",
   "metadata": {},
   "outputs": [
    {
     "name": "stdout",
     "output_type": "stream",
     "text": [
      "The value of the polynomial\n",
      "\n",
      " \n",
      "1 x + 2 when x=2: 4\n"
     ]
    }
   ],
   "source": [
    "coefficients = [1, 2]\n",
    "my_poly1d(coefficients)"
   ]
  },
  {
   "cell_type": "markdown",
   "id": "a737dfe5",
   "metadata": {},
   "source": [
    "##### Including a negative coefficients: [1, -1]"
   ]
  },
  {
   "cell_type": "code",
   "execution_count": 19,
   "id": "6e46edcd",
   "metadata": {},
   "outputs": [
    {
     "name": "stdout",
     "output_type": "stream",
     "text": [
      "The value of the polynomial\n",
      "\n",
      " \n",
      "1 x - 1 when x=2: 1\n"
     ]
    }
   ],
   "source": [
    "coefficients = [1, -1]\n",
    "my_poly1d(coefficients)"
   ]
  },
  {
   "cell_type": "markdown",
   "id": "c8e49f19",
   "metadata": {},
   "source": [
    "#### Three coefficients: [M, N, O] --> <font color='dodgerblue'>$Mx^2 + Nx + O$</font>"
   ]
  },
  {
   "cell_type": "code",
   "execution_count": 21,
   "id": "a5389129",
   "metadata": {},
   "outputs": [
    {
     "name": "stdout",
     "output_type": "stream",
     "text": [
      "The value of the polynomial\n",
      "\n",
      "    2\n",
      "-4 x + 1 x - 2 when x=2: -16\n"
     ]
    }
   ],
   "source": [
    "# coefficients = [x^2, x, constant]\n",
    "coefficients = [-4, 1, -2]\n",
    "my_poly1d(coefficients)"
   ]
  },
  {
   "cell_type": "markdown",
   "id": "1dd9d533",
   "metadata": {},
   "source": [
    "#### Four coefficients: [M, N, O, P] --> <font color='dodgerblue'>$Mx^3 + Nx^2 + Ox + P$</font>"
   ]
  },
  {
   "cell_type": "code",
   "execution_count": 22,
   "id": "cc678750",
   "metadata": {},
   "outputs": [
    {
     "name": "stdout",
     "output_type": "stream",
     "text": [
      "The value of the polynomial\n",
      "\n",
      "   3     2\n",
      "5 x - 4 x + 1 x - 1 when x=2: 25\n"
     ]
    }
   ],
   "source": [
    "coefficients = [5, -4, 1, -1]\n",
    "my_poly1d(coefficients)"
   ]
  },
  {
   "cell_type": "markdown",
   "id": "428af698",
   "metadata": {},
   "source": [
    "#### Access the Polynomial's Coefficients"
   ]
  },
  {
   "cell_type": "code",
   "execution_count": 23,
   "id": "78a7a86a",
   "metadata": {},
   "outputs": [
    {
     "data": {
      "text/plain": [
       "array([ 5, -4,  1, -1])"
      ]
     },
     "execution_count": 23,
     "metadata": {},
     "output_type": "execute_result"
    }
   ],
   "source": [
    "polynomial = np.poly1d(coefficients)\n",
    "\n",
    "polynomial.coefficients"
   ]
  },
  {
   "cell_type": "markdown",
   "id": "668701f3",
   "metadata": {},
   "source": [
    "#### Access the Polynomial's Order"
   ]
  },
  {
   "cell_type": "code",
   "execution_count": 24,
   "id": "6c8f5524",
   "metadata": {},
   "outputs": [
    {
     "data": {
      "text/plain": [
       "3"
      ]
     },
     "execution_count": 24,
     "metadata": {},
     "output_type": "execute_result"
    }
   ],
   "source": [
    "polynomial.order"
   ]
  },
  {
   "cell_type": "markdown",
   "id": "3071942b",
   "metadata": {},
   "source": [
    "## Math with polynomials\n",
    "\n",
    "#### Square of a polynomial\n",
    "\n",
    "The square of a polynomial\n",
    "<!-- <font color='dodgerblue'>$(a + b)^2 = (a + b)(a + b) = a^2 + 2ab + b^2$</font> -->\n",
    "\n",
    "$\n",
    "\\begin{align}\n",
    "(a + b)^2 &= (a + b)(a + b)\\\\\n",
    "          &= a^2 + 2ab + b^2\n",
    "\\end{align}\n",
    "$\n",
    "\n",
    "**Example**:\n",
    "\n",
    "`np.poly1d([2, 1])` $\\rightarrow$ <font color='dodgerblue'>${2x + 1}$</font>\n",
    "\n",
    "Thus we when square this polynomial:\n",
    "\n",
    "<font color='dodgerblue'>$(2x + 1)(2x + 1) = 4x^2 + 4x + 1$</font>\n",
    "\n",
    "So, how do we code this:"
   ]
  },
  {
   "cell_type": "code",
   "execution_count": 25,
   "id": "2b293c77",
   "metadata": {},
   "outputs": [
    {
     "name": "stdout",
     "output_type": "stream",
     "text": [
      "   2\n",
      "4 x + 4 x + 1\n"
     ]
    }
   ],
   "source": [
    "coefficients = [2, 1]\n",
    "\n",
    "polynomial = np.poly1d(coefficients)\n",
    "\n",
    "poly_square = polynomial**2\n",
    "\n",
    "print(poly_square)"
   ]
  },
  {
   "cell_type": "markdown",
   "id": "2d91a4c8",
   "metadata": {},
   "source": [
    "Now evaluate the squared polynomial at x=2\n",
    "\n",
    "(i.e., $ (2x + 1)^2 \\text{ at }x=2 \\rightarrow 4*2^2 + 4*2 + 1$)"
   ]
  },
  {
   "cell_type": "code",
   "execution_count": 26,
   "id": "eafb76e6",
   "metadata": {},
   "outputs": [
    {
     "data": {
      "text/plain": [
       "25"
      ]
     },
     "execution_count": 26,
     "metadata": {},
     "output_type": "execute_result"
    }
   ],
   "source": [
    "poly_square(2)"
   ]
  },
  {
   "cell_type": "markdown",
   "id": "8e6e0878",
   "metadata": {},
   "source": [
    "#### A polynomial cubed"
   ]
  },
  {
   "cell_type": "code",
   "execution_count": 27,
   "id": "21e231c4",
   "metadata": {},
   "outputs": [
    {
     "name": "stdout",
     "output_type": "stream",
     "text": [
      "   3      2\n",
      "8 x + 12 x + 6 x + 1\n"
     ]
    }
   ],
   "source": [
    "print(polynomial**3)"
   ]
  },
  {
   "cell_type": "markdown",
   "id": "e60ebef5",
   "metadata": {},
   "source": [
    "<b>Summary</b> so far:\n",
    "1. We reviewed what a polynomial is,\n",
    "2. We learned that `poly1d` allows us to create n-degree polynomials that depend on x data\n",
    "3. We learned that we can do some polynomial math easily\n",
    "\n",
    "<hr style=\"border:2px solid gray\"></hr>\n",
    "\n",
    "What happens though when you have **x- and y-data** that follow a **polynomial form**, but you **don't know** the **coefficients** to define the polynomial?\n",
    "\n",
    "\n",
    "## Numpy's `polyfit` Function\n",
    "\n",
    "Fit a polynomial of a specified degree to specific data (x, y).\n",
    "\n",
    "Returns a \"vector\" of coefficients that minimizes the squared error.\n",
    "\n",
    "- https://numpy.org/doc/stable/reference/generated/numpy.polyfit.html\n",
    "\n",
    "First, let's create some **nonideal data** that follows a **cubic polynomial** form."
   ]
  },
  {
   "cell_type": "code",
   "execution_count": 29,
   "id": "9f4b5b82",
   "metadata": {},
   "outputs": [],
   "source": [
    "x_values = [-12, -11, -10, -9, -8, -7, -6, -5, -4, -3, -2, -1,\n",
    "            0, 1, 2, 3, 4, 5, 6, 7, 8]\n",
    "\n",
    "y_values = [2000, 1500, 1400, 700, 600, 500, 300, 100, 70, 30, 20, 5,\n",
    "            4, 7, 10, 6, -10, -50, -200, -220, -400]"
   ]
  },
  {
   "cell_type": "code",
   "execution_count": 30,
   "id": "2ea722c2",
   "metadata": {},
   "outputs": [
    {
     "data": {
      "image/png": "[encoded data removed]",
      "text/plain": [
       "<Figure size 640x480 with 1 Axes>"
      ]
     },
     "metadata": {},
     "output_type": "display_data"
    }
   ],
   "source": [
    "plt.plot()\n",
    "plt.plot(x_values, y_values, 'o', markersize=15)\n",
    "plt.show()"
   ]
  },
  {
   "cell_type": "markdown",
   "id": "f833017f",
   "metadata": {},
   "source": [
    "Now, `polyfit` will fit a n-degree polynomial (i.e., 3$^{rd}$ degree) to the provided x- and y-data.\n",
    "\n",
    "The <b>`polyfit`</b> function returns <b>coefficients</b>.\n",
    "\n",
    "Recall from above: four coefficients are needed to define a 3$^{rd}$ degree polynomial\n",
    "\n",
    "[M, N, O, P] --> $Mx^3 + Nx^2 + Ox + P$"
   ]
  },
  {
   "cell_type": "code",
   "execution_count": 33,
   "id": "3c890c78",
   "metadata": {},
   "outputs": [
    {
     "data": {
      "text/plain": [
       "array([-1.04595921,  1.69627957,  3.41269291,  2.79322153])"
      ]
     },
     "execution_count": 33,
     "metadata": {},
     "output_type": "execute_result"
    }
   ],
   "source": [
    "coefficients = np.polyfit(x_values, y_values, 3)\n",
    "coefficients"
   ]
  },
  {
   "cell_type": "markdown",
   "id": "203b43de",
   "metadata": {},
   "source": [
    "Therefore, we have the following polynomial (rounded coefficients):\n",
    "\n",
    "$-1.046*x^3 + 1.696*x^2 + 3.413*x + 2.793$\n",
    "\n",
    "Now we can use Numpy's `poly1d` to encode this polynomial exactly:"
   ]
  },
  {
   "cell_type": "code",
   "execution_count": 34,
   "id": "1f37527a",
   "metadata": {},
   "outputs": [
    {
     "name": "stdout",
     "output_type": "stream",
     "text": [
      "        3         2\n",
      "-1.046 x + 1.696 x + 3.413 x + 2.793\n"
     ]
    }
   ],
   "source": [
    "cubic_polynomial = np.poly1d(coefficients)\n",
    "print(cubic_polynomial)"
   ]
  },
  {
   "cell_type": "markdown",
   "id": "d7f69413",
   "metadata": {},
   "source": [
    "Using this cubic polynomial, we can generate \"ideal\" y-data given a range of x-data values."
   ]
  },
  {
   "cell_type": "code",
   "execution_count": 35,
   "id": "819fc8e1",
   "metadata": {},
   "outputs": [],
   "source": [
    "y_ideal_cubic = cubic_polynomial(x_values)"
   ]
  },
  {
   "cell_type": "markdown",
   "id": "375854cb",
   "metadata": {},
   "source": [
    "Plot both the original data and the data from the fitted cubic polynomial:"
   ]
  },
  {
   "cell_type": "code",
   "execution_count": 36,
   "id": "72511232",
   "metadata": {},
   "outputs": [
    {
     "data": {
      "image/png": "[encoded data removed]",
      "text/plain": [
       "<Figure size 640x480 with 1 Axes>"
      ]
     },
     "metadata": {},
     "output_type": "display_data"
    }
   ],
   "source": [
    "plt.plot()\n",
    "plt.plot(x_values, y_values, 'o', markersize=15)\n",
    "plt.plot(x_values, y_ideal_cubic, linewidth=5)\n",
    "plt.show()"
   ]
  }
 ],
 "metadata": {
  "kernelspec": {
   "display_name": "Python 3 (ipykernel)",
   "language": "python",
   "name": "python3"
  },
  "language_info": {
   "codemirror_mode": {
    "name": "ipython",
    "version": 3
   },
   "file_extension": ".py",
   "mimetype": "text/x-python",
   "name": "python",
   "nbconvert_exporter": "python",
   "pygments_lexer": "ipython3",
   "version": "3.11.9"
  }
 },
 "nbformat": 4,
 "nbformat_minor": 5
}
