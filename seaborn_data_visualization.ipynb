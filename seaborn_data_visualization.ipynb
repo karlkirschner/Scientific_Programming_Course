{
 "cells": [
  {
   "cell_type": "markdown",
   "metadata": {},
   "source": [
    "<div class=\"alert block alert-info alert\">\n",
    "\n",
    "# <center> Scientific Programming in Python\n",
    "\n",
    "## <center>Karl N. Kirschner<br>Bonn-Rhein-Sieg University of Applied Sciences<br>Sankt Augustin, Germany\n",
    "\n",
    "# <center> Data Visualization using Seaborn\n",
    "\n",
    "**Source**: https://seaborn.pydata.org/tutorial.html\n",
    "<br><br>\n",
    "\n",
    "- Enables more complex and alternate plots\n",
    "\n",
    "\n",
    "- Uses matplotlib as a base\n",
    "    - however, some syntax is different, while others are the same\n",
    "    - functions that control some Seaborn things, for example:\n",
    "        - markers=[\"D\", \"o\"]\n",
    "        - sizes=(10, 125)\n",
    "        - edgecolor=\".2\"\n",
    "        - linewidth=.5,\n",
    "        - alpha=.75\n",
    "\n",
    "### For citing matplotlib:\n",
    "    \n",
    "Waskom, M. L., (2021). seaborn: statistical data visualization. Journal of Open Source Software, 6(60), 3021, https://doi.org/10.21105/joss.03021\n",
    "<br><br>    \n",
    "    \n",
    "**Bibtex file**:\n",
    "@article{Waskom2021,<br>\n",
    "    doi = {10.21105/joss.03021},<br>\n",
    "    url = {https://doi.org/10.21105/joss.03021},<br>\n",
    "    year = {2021},<br>\n",
    "    publisher = {The Open Journal},<br>\n",
    "    volume = {6},<br>\n",
    "    number = {60},<br>\n",
    "    pages = {3021},<br>\n",
    "    author = {Michael L. Waskom},<br>\n",
    "    title = {seaborn: statistical data visualization},<br>\n",
    "    journal = {Journal of Open Source Software}<br>\n",
    " }\n",
    "\n",
    "<hr style=\"border:2px solid gray\"></hr>"
   ]
  },
  {
   "cell_type": "code",
   "execution_count": null,
   "metadata": {},
   "outputs": [],
   "source": [
    "import matplotlib.pyplot as plt\n",
    "import numpy as np\n",
    "import pandas as pd\n",
    "import seaborn as sns"
   ]
  },
  {
   "cell_type": "markdown",
   "metadata": {},
   "source": [
    "## seaborn built-in styles\n",
    "- sns.set(style=\"ticks\")\n",
    "    - `darkgrid`, `whitegrid`, `dark`, `white` and `ticks`"
   ]
  },
  {
   "cell_type": "code",
   "execution_count": null,
   "metadata": {},
   "outputs": [],
   "source": [
    "sns.set(style=\"ticks\")"
   ]
  },
  {
   "cell_type": "markdown",
   "metadata": {},
   "source": [
    "##  `scatterplot` for Scatter Plotting\n",
    "\n",
    "`seaborn.scatterplot(*, x=None, y=None, hue=None, style=None, size=None, data=None, palette=None, hue_order=None, hue_norm=None, sizes=None, size_order=None, size_norm=None, markers=True, style_order=None, x_bins=None, y_bins=None, units=None, estimator=None, ci=95, n_boot=1000, alpha=None, x_jitter=None, y_jitter=None, legend='auto', ax=None, **kwargs)`\n",
    "\n",
    "- https://seaborn.pydata.org/generated/seaborn.scatterplot.html#seaborn.scatterplot\n",
    "\n",
    "- There are often different ways to do things, as demonstrated below\n",
    "\n",
    "\n",
    "- Example: Plotting x, y data (i.e. 2D plots)\n",
    "    - scatterplot\n",
    "    - relplot with kind=scatter\n",
    "    - replot with kind=line\n",
    "\n",
    "\n",
    "- Notice: how we now define the source of the data using `data=df`."
   ]
  },
  {
   "cell_type": "code",
   "execution_count": null,
   "metadata": {},
   "outputs": [],
   "source": [
    "# tips = sns.load_dataset(\"tips\")\n",
    "\n",
    "tips = pd.read_csv('tips.csv')\n",
    "\n",
    "print(tips)"
   ]
  },
  {
   "cell_type": "code",
   "execution_count": null,
   "metadata": {},
   "outputs": [],
   "source": [
    "sns.scatterplot(x=\"total_bill\", y=\"tip\", data=tips, s=150)\n",
    "plt.show()"
   ]
  },
  {
   "cell_type": "code",
   "execution_count": null,
   "metadata": {},
   "outputs": [],
   "source": [
    "## plot using the data's index\n",
    "tips = tips.reset_index()\n",
    "tips"
   ]
  },
  {
   "cell_type": "markdown",
   "metadata": {},
   "source": [
    "## `relplot` for Relational Plot\n",
    "\n",
    "`seaborn.relplot(*, x=None, y=None, hue=None, size=None, style=None, data=None, row=None, col=None, col_wrap=None, row_order=None, col_order=None, palette=None, hue_order=None, hue_norm=None, sizes=None, size_order=None, size_norm=None, markers=None, dashes=None, style_order=None, legend='auto', kind='scatter', height=5, aspect=1, facet_kws=None, units=None, **kwargs)`\n",
    "\n",
    "- relationship between two variables\n",
    "\n",
    "- https://seaborn.pydata.org/generated/seaborn.relplot.html\n",
    "\n",
    "- `height` (in inches)\n",
    "\n",
    "### Line Plot\n",
    "\n",
    "- `kind='line'`"
   ]
  },
  {
   "cell_type": "code",
   "execution_count": null,
   "metadata": {},
   "outputs": [],
   "source": []
  },
  {
   "cell_type": "code",
   "execution_count": null,
   "metadata": {},
   "outputs": [],
   "source": [
    "sns.relplot(x='index', y='total_bill', data=tips, kind='line', height=8)\n",
    "plt.show()"
   ]
  },
  {
   "cell_type": "markdown",
   "metadata": {},
   "source": [
    "### Line Plot\n",
    "\n",
    "- `kind='scatter'`"
   ]
  },
  {
   "cell_type": "code",
   "execution_count": null,
   "metadata": {},
   "outputs": [],
   "source": [
    "sns.relplot(x=\"total_bill\", y=\"tip\", data=tips, kind='scatter', s=150, height=8)\n",
    "plt.show()"
   ]
  },
  {
   "cell_type": "markdown",
   "metadata": {},
   "source": [
    "Color code according to smoker yes|no."
   ]
  },
  {
   "cell_type": "code",
   "execution_count": null,
   "metadata": {},
   "outputs": [],
   "source": [
    "sns.relplot(x=\"total_bill\", y=\"tip\", data=tips, kind='scatter', s=150, height=8,\n",
    "            hue=\"smoker\")\n",
    "plt.show()"
   ]
  },
  {
   "cell_type": "markdown",
   "metadata": {},
   "source": [
    "Color code according to size of the party."
   ]
  },
  {
   "cell_type": "code",
   "execution_count": null,
   "metadata": {},
   "outputs": [],
   "source": [
    "sns.relplot(x=\"total_bill\", y=\"tip\", kind='scatter', data=tips, s=150, height=8,\n",
    "            hue=\"size\")\n",
    "plt.show()"
   ]
  },
  {
   "cell_type": "markdown",
   "metadata": {},
   "source": [
    "Now add differentiate according to the customer's sex using makers."
   ]
  },
  {
   "cell_type": "code",
   "execution_count": null,
   "metadata": {},
   "outputs": [],
   "source": [
    "sns.relplot(x=\"total_bill\", y=\"tip\", kind='scatter', data=tips, s=150, height=8,\n",
    "            hue=\"smoker\",\n",
    "            style=\"sex\")\n",
    "plt.show()"
   ]
  },
  {
   "cell_type": "markdown",
   "metadata": {},
   "source": [
    "Create multiple plots based on values\n",
    "- column: col=\"header\"\n",
    "- row: row=\"header\"\n",
    "\n",
    "    \n",
    "Example: \"day\", \"size\""
   ]
  },
  {
   "cell_type": "code",
   "execution_count": null,
   "metadata": {},
   "outputs": [],
   "source": [
    "sns.relplot(x=\"total_bill\", y=\"tip\", kind='scatter', data=tips, s=150,\n",
    "            hue=\"time\",\n",
    "            col=\"day\")\n",
    "plt.show()"
   ]
  },
  {
   "cell_type": "code",
   "execution_count": null,
   "metadata": {},
   "outputs": [],
   "source": [
    "plt.figure()\n",
    "sns.relplot(x=\"total_bill\", y=\"tip\", kind='scatter', data=tips, s=150,\n",
    "            hue=\"time\",\n",
    "            col=\"day\",\n",
    "            col_wrap=2)\n",
    "plt.show()"
   ]
  },
  {
   "cell_type": "markdown",
   "metadata": {},
   "source": [
    "## Additional examples of plots that are not obvious to do using matplotlib"
   ]
  },
  {
   "cell_type": "markdown",
   "metadata": {},
   "source": [
    "### Jointplots\n",
    "\n",
    "- scatter plots with histograms\n",
    "\n",
    "\n",
    "- https://seaborn.pydata.org/generated/seaborn.jointplot.html\n",
    "\n",
    "\n",
    "**Kind**\n",
    "- scatter\n",
    "- reg (linear regression with 95% confidence interval)\n",
    "- resid (residuals)\n",
    "- kde (plots using kernel density estimates)\n",
    "- hex (histogram with hexagonal bins)"
   ]
  },
  {
   "cell_type": "code",
   "execution_count": null,
   "metadata": {},
   "outputs": [],
   "source": [
    "sns.jointplot(x=\"tip\", y=\"total_bill\", data=tips,\n",
    "             kind=\"scatter\")\n",
    "plt.show()"
   ]
  },
  {
   "cell_type": "markdown",
   "metadata": {},
   "source": [
    "Add a regression line and kernel density fits"
   ]
  },
  {
   "cell_type": "code",
   "execution_count": null,
   "metadata": {},
   "outputs": [],
   "source": [
    "## linear regression with 95% confidence interval\n",
    "sns.jointplot(x=\"tip\", y=\"total_bill\", data=tips, \n",
    "              kind=\"reg\")\n",
    "plt.show()"
   ]
  },
  {
   "cell_type": "markdown",
   "metadata": {},
   "source": [
    "#### Kernel density estimation for smoothing data\n",
    "\n",
    "- estimate population based on finite sampling\n",
    "\n",
    "- https://en.wikipedia.org/wiki/Kernel_density_estimation"
   ]
  },
  {
   "cell_type": "code",
   "execution_count": null,
   "metadata": {},
   "outputs": [],
   "source": [
    "sns.jointplot(x=\"tip\", y=\"total_bill\", data=tips,\n",
    "              kind=\"kde\", space=0.1, color='r')\n",
    "plt.show()"
   ]
  },
  {
   "cell_type": "code",
   "execution_count": null,
   "metadata": {},
   "outputs": [],
   "source": [
    "## a little more control with the number of levels\n",
    "## cmap='Blues' or color='r'\n",
    "sns.kdeplot(data=tips, x=\"tip\", y=\"total_bill\", n_levels=100, cmap='Blues', shade=True, thresh=0)\n",
    "plt.show()"
   ]
  },
  {
   "cell_type": "markdown",
   "metadata": {},
   "source": [
    "***\n",
    "## Catagorical plots\n",
    "For plots who data is within catagories (vs. looking for relationships via scatter plots)."
   ]
  },
  {
   "cell_type": "code",
   "execution_count": null,
   "metadata": {},
   "outputs": [],
   "source": [
    "## barplots\n",
    "sns.catplot(x=\"day\", y=\"total_bill\", hue=\"smoker\",\n",
    "            kind=\"bar\", data=tips)\n",
    "plt.show()"
   ]
  },
  {
   "cell_type": "markdown",
   "metadata": {},
   "source": [
    "#### Violin Plots\n",
    "\n",
    "- https://en.wikipedia.org/wiki/Violin_plot\n",
    "\n",
    "\n",
    "- https://seaborn.pydata.org/generated/seaborn.violinplot.html"
   ]
  },
  {
   "cell_type": "code",
   "execution_count": null,
   "metadata": {},
   "outputs": [],
   "source": [
    "sns.violinplot(x=\"day\", y=\"total_bill\", data=tips,\n",
    "               palette=\"Set3\")\n",
    "plt.show()"
   ]
  },
  {
   "cell_type": "code",
   "execution_count": null,
   "metadata": {},
   "outputs": [],
   "source": [
    "sns.violinplot(x=\"day\", y=\"total_bill\", data=tips,\n",
    "               palette=\"Set3\",\n",
    "               hue=\"smoker\", split=True)\n",
    "plt.show()"
   ]
  },
  {
   "cell_type": "code",
   "execution_count": null,
   "metadata": {},
   "outputs": [],
   "source": [
    "## plot bill total and smoker as a function of day\n",
    "## note: three variables shown in 2-D\n",
    "\n",
    "sns.catplot(x=\"day\", y=\"total_bill\", data=tips,\n",
    "            palette=\"Set1\",\n",
    "            hue=\"smoker\",\n",
    "            kind=\"swarm\")\n",
    "plt.show()"
   ]
  },
  {
   "cell_type": "markdown",
   "metadata": {},
   "source": [
    "#### stripplot\n",
    "\n",
    "- A scatterplot where one variable is categorical\n",
    "- Use in combo with violin or box plots\n",
    "\n",
    "- https://seaborn.pydata.org/generated/seaborn.stripplot.html"
   ]
  },
  {
   "cell_type": "code",
   "execution_count": null,
   "metadata": {},
   "outputs": [],
   "source": [
    "sns.stripplot(x=\"day\", y=\"total_bill\", data=tips, jitter=0.2)\n",
    "\n",
    "sns.violinplot(x=\"day\", y=\"total_bill\", data=tips, palette=\"Set3\")\n",
    "\n",
    "plt.show()"
   ]
  },
  {
   "cell_type": "markdown",
   "metadata": {},
   "source": [
    "***\n",
    "## Subplots"
   ]
  },
  {
   "cell_type": "code",
   "execution_count": null,
   "metadata": {},
   "outputs": [],
   "source": [
    "fig, axes = plt.subplots(1, 2, sharey=True, figsize=(6, 4))\n",
    "\n",
    "sns.boxplot(x=\"day\", y=\"tip\", data=tips,\n",
    "            ax=axes[1])\n",
    "\n",
    "sns.scatterplot(x=\"total_bill\", y=\"tip\", data=tips,\n",
    "                hue=\"day\",\n",
    "                ax=axes[0])\n",
    "\n",
    "plt.show()"
   ]
  },
  {
   "cell_type": "markdown",
   "metadata": {},
   "source": [
    "## Pairwise associations of the data, with distributions\n",
    "\n",
    "- Univariate distribution of the column data along the diagonal axes\n",
    "\n",
    "\n",
    "- A good way to get an over of possible relationships within the data"
   ]
  },
  {
   "cell_type": "code",
   "execution_count": null,
   "metadata": {},
   "outputs": [],
   "source": [
    "sns.pairplot(data=tips, hue=\"day\", kind=\"scatter\")\n",
    "plt.show()"
   ]
  },
  {
   "cell_type": "code",
   "execution_count": null,
   "metadata": {},
   "outputs": [],
   "source": [
    "sns.pairplot(data=tips, hue=\"day\", kind=\"scatter\", corner=True)\n",
    "plt.show()"
   ]
  },
  {
   "cell_type": "code",
   "execution_count": null,
   "metadata": {},
   "outputs": [],
   "source": [
    "sns.pairplot(data=tips, hue=\"day\", kind=\"reg\", corner=True)\n",
    "plt.show()"
   ]
  },
  {
   "cell_type": "markdown",
   "metadata": {},
   "source": [
    "***\n",
    "### Color Paletts in Seaborn\n",
    "https://seaborn.pydata.org/tutorial/color_palettes.html#palette-tutorial\n",
    "\n",
    "**Possible values**:\n",
    "\n",
    "Accent, Accent_r,\n",
    "\n",
    "Blues, Blues_r, BrBG, BrBG_r, BuGn, BuGn_r, BuPu, BuPu_r,\n",
    "\n",
    "CMRmap, CMRmap_r,\n",
    "\n",
    "Dark2, Dark2_r,\n",
    "\n",
    "GnBu, GnBu_r, Greens, Greens_r, Greys, Greys_r,\n",
    "\n",
    "OrRd, OrRd_r, Oranges, Oranges_r,\n",
    "\n",
    "PRGn, PRGn_r, Paired, Paired_r, Pastel1, Pastel1_r, Pastel2, Pastel2_r, PiYG, PiYG_r, PuBu, PuBuGn, PuBuGn_r, PuBu_r, PuOr, PuOr_r, PuRd, PuRd_r, Purples, Purples_r,\n",
    "\n",
    "RdBu, RdBu_r, RdGy, RdGy_r, RdPu, RdPu_r, RdYlBu, RdYlBu_r, RdYlGn, RdYlGn_r, Reds, Reds_r,\n",
    "\n",
    "Set1, Set1_r, Set2, Set2_r, Set3, Set3_r, Spectral, Spectral_r,\n",
    "\n",
    "Wistia, Wistia_r,\n",
    "\n",
    "YlGn, YlGnBu, YlGnBu_r, YlGn_r, YlOrBr, YlOrBr_r, YlOrRd, YlOrRd_r,\n",
    "\n",
    "afmhot, afmhot_r, autumn, autumn_r,\n",
    "\n",
    "binary, binary_r, bone, bone_r, brg, brg_r, bwr, bwr_r,\n",
    "\n",
    "cividis, cividis_r, cool, cool_r, coolwarm, coolwarm_r, copper, copper_r, cubehelix, cubehelix_r, flag, flag_r,\n",
    "\n",
    "gist_earth, gist_earth_r, gist_gray, gist_gray_r, gist_heat, gist_heat_r, gist_ncar, gist_ncar_r, gist_rainbow, gist_rainbow_r, gist_stern, gist_stern_r, gist_yarg, gist_yarg_r, gnuplot, gnuplot2, gnuplot2_r, gnuplot_r, gray, gray_r,\n",
    "\n",
    "hot, hot_r, hsv, hsv_r, icefire, icefire_r, inferno, inferno_r, jet, jet_r,\n",
    "\n",
    "magma, magma_r, mako, mako_r,\n",
    "\n",
    "nipy_spectral, nipy_spectral_r,\n",
    "\n",
    "ocean, ocean_r,\n",
    "\n",
    "pink, pink_r, plasma, plasma_r, prism, prism_r,\n",
    "\n",
    "rainbow, rainbow_r, rocket, rocket_r,\n",
    "\n",
    "seismic, seismic_r, spring, spring_r, summer, summer_r,\n",
    "\n",
    "tab10, tab10_r, tab20, tab20_r, tab20b, tab20b_r, tab20c, tab20c_r, terrain, terrain_r, twilight, twilight_r, twilight_shifted, twilight_shifted_r,\n",
    "\n",
    "viridis, viridis_r, vlag, vlag_r,\n",
    "\n",
    "winter, winter_r"
   ]
  },
  {
   "cell_type": "markdown",
   "metadata": {},
   "source": [
    "---\n",
    "#### Qualitative\n",
    "\n",
    "- Used with catagorical data (e.g. days of the week, smoker/non-smoker)\n",
    "\n",
    "\n",
    "- For example:\n",
    "    - pastel, deep, dark, colorblind\n",
    "    - Paired, Set2"
   ]
  },
  {
   "cell_type": "code",
   "execution_count": null,
   "metadata": {},
   "outputs": [],
   "source": [
    "len(sns.color_palette(\"pastel\"))"
   ]
  },
  {
   "cell_type": "code",
   "execution_count": null,
   "metadata": {},
   "outputs": [],
   "source": [
    "sns.palplot(sns.color_palette(\"pastel\", 10))"
   ]
  },
  {
   "cell_type": "code",
   "execution_count": null,
   "metadata": {},
   "outputs": [],
   "source": [
    "palette = \"deep\"\n",
    "sns.palplot(sns.color_palette(palette, len(sns.color_palette(palette))))"
   ]
  },
  {
   "cell_type": "code",
   "execution_count": null,
   "metadata": {},
   "outputs": [],
   "source": [
    "palette = \"dark\"\n",
    "sns.palplot(sns.color_palette(palette, len(sns.color_palette(palette))))"
   ]
  },
  {
   "cell_type": "code",
   "execution_count": null,
   "metadata": {},
   "outputs": [],
   "source": [
    "palette = \"colorblind\"\n",
    "sns.palplot(sns.color_palette(palette, len(sns.color_palette(palette))))"
   ]
  },
  {
   "cell_type": "code",
   "execution_count": null,
   "metadata": {},
   "outputs": [],
   "source": [
    "palette = \"Set2\"\n",
    "sns.palplot(sns.color_palette(palette, len(sns.color_palette(palette))))"
   ]
  },
  {
   "cell_type": "code",
   "execution_count": null,
   "metadata": {},
   "outputs": [],
   "source": [
    "palette = \"Paired\"\n",
    "sns.palplot(sns.color_palette(palette, len(sns.color_palette(palette))))"
   ]
  },
  {
   "cell_type": "markdown",
   "metadata": {},
   "source": [
    "#### Sequential\n",
    "\n",
    "- Sequential data where you need to highlight the one end and the middle part of the data (e.g. elevation)\n",
    "\n",
    "\n",
    "- Examples\n",
    "    - Blues\n",
    "    - cubehelix\n",
    "    - GnBu_d\n"
   ]
  },
  {
   "cell_type": "code",
   "execution_count": null,
   "metadata": {},
   "outputs": [],
   "source": [
    "sns.palplot(sns.color_palette(\"Blues\", 20))"
   ]
  },
  {
   "cell_type": "code",
   "execution_count": null,
   "metadata": {},
   "outputs": [],
   "source": [
    "## reversed\n",
    "sns.palplot(sns.color_palette(\"Blues_r\", 20))"
   ]
  },
  {
   "cell_type": "code",
   "execution_count": null,
   "metadata": {},
   "outputs": [],
   "source": [
    "sns.palplot(sns.color_palette(\"GnBu\", 20))"
   ]
  },
  {
   "cell_type": "code",
   "execution_count": null,
   "metadata": {},
   "outputs": [],
   "source": [
    "## dark\n",
    "sns.palplot(sns.color_palette(\"GnBu_d\", 20))"
   ]
  },
  {
   "cell_type": "code",
   "execution_count": null,
   "metadata": {},
   "outputs": [],
   "source": [
    "sns.palplot(sns.color_palette(\"cubehelix\", 20))"
   ]
  },
  {
   "cell_type": "markdown",
   "metadata": {},
   "source": [
    "#### divergent\n",
    "\n",
    "- Use when the high and low values are more intersting (and the middle is not) - e.g. data normalized from -1 to +1\n",
    "\n",
    "- Example\n",
    "    - Spectral\n",
    "    - BrBG\n",
    "    - RdBu\n",
    "    "
   ]
  },
  {
   "cell_type": "code",
   "execution_count": null,
   "metadata": {},
   "outputs": [],
   "source": [
    "sns.palplot(sns.color_palette(\"Spectral\", 20))"
   ]
  },
  {
   "cell_type": "code",
   "execution_count": null,
   "metadata": {},
   "outputs": [],
   "source": [
    "sns.palplot(sns.color_palette(\"BrBG\", 20))"
   ]
  },
  {
   "cell_type": "code",
   "execution_count": null,
   "metadata": {},
   "outputs": [],
   "source": [
    "sns.palplot(sns.color_palette(\"RdBu\", 20))"
   ]
  },
  {
   "cell_type": "code",
   "execution_count": null,
   "metadata": {},
   "outputs": [],
   "source": [
    "## qualitative: dark vs Set2\n",
    "sns.pairplot(data=tips, hue=\"day\", kind=\"scatter\", palette='Set2', corner=True)\n",
    "\n",
    "plt.show()"
   ]
  },
  {
   "cell_type": "markdown",
   "metadata": {},
   "source": [
    "---\n",
    "\n",
    "#### Additional examples for other packages:\n",
    "\n",
    "https://colab.research.google.com/notebooks/charts.ipynb#scrollTo=Xn0jLwr8evoR"
   ]
  }
 ],
 "metadata": {
  "kernelspec": {
   "display_name": "Python 3 (ipykernel)",
   "language": "python",
   "name": "python3"
  },
  "language_info": {
   "codemirror_mode": {
    "name": "ipython",
    "version": 3
   },
   "file_extension": ".py",
   "mimetype": "text/x-python",
   "name": "python",
   "nbconvert_exporter": "python",
   "pygments_lexer": "ipython3",
   "version": "3.10.13"
  }
 },
 "nbformat": 4,
 "nbformat_minor": 2
}
