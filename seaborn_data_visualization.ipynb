{
 "cells": [
  {
   "cell_type": "markdown",
   "metadata": {},
   "source": [
    "<div class=\"alert block alert-info alert\">\n",
    "\n",
    "# <center> Scientific Programming in Python\n",
    "\n",
    "## <center>Karl N. Kirschner<br>Bonn-Rhein-Sieg University of Applied Sciences<br>Sankt Augustin, Germany\n",
    "\n",
    "# <center> Data Visualization using Seaborn\n",
    "\n",
    "**Source**: https://seaborn.pydata.org/tutorial.html\n",
    "<br><br>\n",
    "\n",
    "- Enables more complex and alternate plots\n",
    "\n",
    "\n",
    "- Uses matplotlib as a base\n",
    "    - however, some syntax is different, while others are the same\n",
    "    - functions that control some Seaborn things, for example:\n",
    "        - markers=[\"D\", \"o\"]\n",
    "        - sizes=(10, 125)\n",
    "        - edgecolor=\".2\"\n",
    "        - linewidth=.5,\n",
    "        - alpha=.75\n",
    "    \n",
    "**Bibtex file**:\n",
    "@article{Waskom2021,<br>\n",
    "    doi = {10.21105/joss.03021},<br>\n",
    "    url = {https://doi.org/10.21105/joss.03021},<br>\n",
    "    year = {2021},<br>\n",
    "    publisher = {The Open Journal},<br>\n",
    "    volume = {6},<br>\n",
    "    number = {60},<br>\n",
    "    pages = {3021},<br>\n",
    "    author = {Michael L. Waskom},<br>\n",
    "    title = {seaborn: statistical data visualization},<br>\n",
    "    journal = {Journal of Open Source Software}<br>\n",
    " }\n",
    "\n",
    "<hr style=\"border:2px solid gray\"></hr>"
   ]
  },
  {
   "cell_type": "code",
   "execution_count": null,
   "metadata": {},
   "outputs": [],
   "source": [
    "import matplotlib.pyplot as plt\n",
    "import seaborn as sns"
   ]
  },
  {
   "cell_type": "markdown",
   "metadata": {},
   "source": [
    "## Seaborn built-in datasets\n",
    "Seaborn comes with several dataset"
   ]
  },
  {
   "cell_type": "code",
   "execution_count": null,
   "metadata": {},
   "outputs": [],
   "source": [
    "sns.get_dataset_names()"
   ]
  },
  {
   "cell_type": "code",
   "execution_count": null,
   "metadata": {},
   "outputs": [],
   "source": [
    "tips = sns.load_dataset(\"tips\")\n",
    "\n",
    "print(tips)"
   ]
  },
  {
   "cell_type": "markdown",
   "metadata": {},
   "source": [
    "<hr style=\"border:2px solid gray\"></hr>\n",
    "\n",
    "# Relationship Ploting\n",
    "\n",
    "- dependent and independent variables\n",
    "\n",
    "##  `scatterplot` for Scatter Plotting\n",
    "\n",
    "`seaborn.scatterplot(*, x=None, y=None, hue=None, style=None, size=None, data=None, palette=None, hue_order=None, hue_norm=None, sizes=None, size_order=None, size_norm=None, markers=True, style_order=None, x_bins=None, y_bins=None, units=None, estimator=None, ci=95, n_boot=1000, alpha=None, x_jitter=None, y_jitter=None, legend='auto', ax=None, **kwargs)`\n",
    "\n",
    "- https://seaborn.pydata.org/generated/seaborn.scatterplot.html#seaborn.scatterplot\n",
    "\n",
    "- Example: Plotting x, y data (i.e., 2D plots)\n",
    "    - scatterplot\n",
    "    - relplot with kind=scatter\n",
    "    - replot with kind=line\n",
    "\n",
    "\n",
    "- Notice: how we now define the data source using `data=df`."
   ]
  },
  {
   "cell_type": "code",
   "execution_count": null,
   "metadata": {},
   "outputs": [],
   "source": [
    "sns.scatterplot(data=tips, x=\"total_bill\", y=\"tip\", s=150)"
   ]
  },
  {
   "cell_type": "markdown",
   "metadata": {},
   "source": [
    "#### matplotlib functions\n",
    "- Seaborn is built on top of matplotlib.\n",
    "\n",
    "- Thus, one still has access to matplotlib's function - due to `import matplotlib.pyplot as plt` above.\n",
    "\n",
    "- Example functions:\n",
    "    - `plt.xlabel`\n",
    "    - `plt.minorticks_on()`\n",
    "    - `plt.show`"
   ]
  },
  {
   "cell_type": "code",
   "execution_count": null,
   "metadata": {},
   "outputs": [],
   "source": [
    "plot_fontsize = 18\n",
    "\n",
    "plt.rc('axes', linewidth=5)\n",
    "\n",
    "sns.scatterplot(data=tips, x=\"total_bill\", y=\"tip\", s=150)\n",
    "\n",
    "plt.xlabel(xlabel='X-Axis (Unit)', fontsize=plot_fontsize)\n",
    "plt.ylabel(ylabel='Y-Axis (Unit)', fontsize=plot_fontsize)\n",
    "plt.title(label='Plot Title', fontsize=plot_fontsize, fontweight='bold')\n",
    "\n",
    "plt.xticks(rotation='vertical', fontsize=plot_fontsize)\n",
    "plt.yticks(rotation='horizontal', fontsize=plot_fontsize)\n",
    "\n",
    "plt.minorticks_on()\n",
    "plt.tick_params(axis='x', which='minor', direction='out')\n",
    "\n",
    "plt.tick_params(which='both', width=5)\n",
    "\n",
    "plt.tick_params(which='major', length=15, colors='purple')\n",
    "plt.tick_params(which='minor', length=7.5, color='orange')\n",
    "\n",
    "plt.show()"
   ]
  },
  {
   "cell_type": "markdown",
   "metadata": {},
   "source": [
    "## Seaborn built-in styles\n",
    "\n",
    "https://seaborn.pydata.org/tutorial/aesthetics.html#seaborn-figure-styles\n",
    "\n",
    "- sns.set(style=\"ticks\")\n",
    "    - `darkgrid` (default)\n",
    "    - `whitegrid`\n",
    "    - `dark`\n",
    "    - `white`\n",
    "    - `ticks`\n",
    "\n",
    "Demonstration of the the five styles:"
   ]
  },
  {
   "cell_type": "code",
   "execution_count": null,
   "metadata": {},
   "outputs": [],
   "source": [
    "sns_styles = ['darkgrid', 'whitegrid', 'dark', 'white', 'ticks']\n",
    "\n",
    "for style in sns_styles:\n",
    "    sns.set(style=style)\n",
    "\n",
    "    sns.scatterplot(data=tips, x='total_bill', y='tip', s=150)\n",
    "    plt.show()"
   ]
  },
  {
   "cell_type": "markdown",
   "metadata": {},
   "source": [
    "## `relplot` for Relational Plot\n",
    "\n",
    "This is  bit more powerful than `scatterplot` since we can **segregate and organize** data into **rows and columns of subplots**.\n",
    "\n",
    "https://seaborn.pydata.org/generated/seaborn.relplot.html\n",
    "\n",
    "`seaborn.relplot(*, x=None, y=None, hue=None, size=None, style=None, data=None, row=None, col=None, col_wrap=None, row_order=None, col_order=None, palette=None, hue_order=None, hue_norm=None, sizes=None, size_order=None, size_norm=None, markers=None, dashes=None, style_order=None, legend='auto', kind='scatter', height=5, aspect=1, facet_kws=None, units=None, **kwargs)`\n",
    "\n",
    "- relationship between two variables\n",
    "\n",
    "\n",
    "- `kind`: `scatter` or `line`\n",
    "- `height` (in inches"
   ]
  },
  {
   "cell_type": "markdown",
   "metadata": {},
   "source": [
    "### Scatter Plot\n",
    "\n",
    "- `kind='scatter'`"
   ]
  },
  {
   "cell_type": "code",
   "execution_count": null,
   "metadata": {},
   "outputs": [],
   "source": [
    "sns.relplot(data=tips, x='total_bill', y='tip', kind='scatter', s=150, height=8)\n",
    "plt.show()"
   ]
  },
  {
   "cell_type": "markdown",
   "metadata": {},
   "source": [
    "Now **segregate** using different **subplots** the data based on 'smoker' attribute:\n",
    "- `col`"
   ]
  },
  {
   "cell_type": "code",
   "execution_count": null,
   "metadata": {},
   "outputs": [],
   "source": [
    "sns.relplot(data=tips, x='total_bill', y='tip', kind='scatter', s=150, height=8,\n",
    "            col='smoker')\n",
    "plt.show()"
   ]
  },
  {
   "cell_type": "markdown",
   "metadata": {},
   "source": [
    "Now **segregate** using **colors** the data based on the 'sex' attribute:\n",
    "- `hue`"
   ]
  },
  {
   "cell_type": "code",
   "execution_count": null,
   "metadata": {},
   "outputs": [],
   "source": [
    "sns.relplot(data=tips, x=\"total_bill\", y=\"tip\", kind='scatter', s=150, height=8,\n",
    "            col='smoker', hue=\"sex\")\n",
    "plt.show()"
   ]
  },
  {
   "cell_type": "markdown",
   "metadata": {},
   "source": [
    "Now further **segregate** using different **marker shapes** according to the'party size':"
   ]
  },
  {
   "cell_type": "code",
   "execution_count": null,
   "metadata": {},
   "outputs": [],
   "source": [
    "sns.relplot(data=tips, x=\"total_bill\", y=\"tip\", kind='scatter', s=150, height=8,\n",
    "            col='smoker', hue=\"sex\",  style=\"size\")\n",
    "plt.show()"
   ]
  },
  {
   "cell_type": "markdown",
   "metadata": {},
   "source": [
    "Control the subplot layout\n",
    "- `col_wrap`\n",
    "\n",
    "Without `col_wrap`"
   ]
  },
  {
   "cell_type": "code",
   "execution_count": null,
   "metadata": {},
   "outputs": [],
   "source": [
    "sns.relplot(data=tips, x='total_bill', y='tip', kind='scatter', s=150,\n",
    "            col='day', hue='time')\n",
    "plt.show()"
   ]
  },
  {
   "cell_type": "markdown",
   "metadata": {},
   "source": [
    "With `col_wrap`:"
   ]
  },
  {
   "cell_type": "code",
   "execution_count": null,
   "metadata": {},
   "outputs": [],
   "source": [
    "sns.relplot(data=tips, x='total_bill', y='tip', kind='scatter', s=150,\n",
    "            col='day', hue='time', col_wrap=2)\n",
    "plt.show()"
   ]
  },
  {
   "cell_type": "markdown",
   "metadata": {},
   "source": [
    "## Jointplots\n",
    "\n",
    "- scatter plots with histograms\n",
    "\n",
    "`seaborn.jointplot(data=None, *, x=None, y=None, hue=None, kind='scatter', height=6, ratio=5, space=0.2, dropna=False, xlim=None, ylim=None, color=None, palette=None, hue_order=None, hue_norm=None, marginal_ticks=False, joint_kws=None, marginal_kws=None, **kwargs)`\n",
    "\n",
    "- https://seaborn.pydata.org/generated/seaborn.jointplot.html\n",
    "\n",
    "\n",
    "- `kind`\n",
    "    - scatter\n",
    "    - reg (linear regression with 95% confidence interval)\n",
    "    - resid (residuals)\n",
    "    - kde (plots using kernel density estimates)\n",
    "    - hex (histogram with hexagonal bins)\n",
    "\n",
    "#### Scatter + Histogram\n",
    "- `kind=scatter`"
   ]
  },
  {
   "cell_type": "code",
   "execution_count": null,
   "metadata": {},
   "outputs": [],
   "source": [
    "sns.jointplot(data=tips, x='tip', y='total_bill',\n",
    "              kind='scatter')\n",
    "plt.show()"
   ]
  },
  {
   "cell_type": "markdown",
   "metadata": {},
   "source": [
    "#### Scatter + Histogram + Regression\n",
    "\n",
    "Add a regression line and kernel density fits\n",
    "\n",
    "- `kind=reg`\n",
    "- linear regression with 95% confidence interval"
   ]
  },
  {
   "cell_type": "code",
   "execution_count": null,
   "metadata": {},
   "outputs": [],
   "source": [
    "sns.jointplot(data=tips, x='tip', y='total_bill',\n",
    "              kind='reg')\n",
    "plt.show()"
   ]
  },
  {
   "cell_type": "markdown",
   "metadata": {},
   "source": [
    "#### Scatter + Histogram with Kernel Density Estimation for Smoothing Data\n",
    "\n",
    "https://en.wikipedia.org/wiki/Kernel_density_estimation\n",
    " \n",
    "- `kind=\"kde\"`\n",
    "- estimate population based on finite sampling"
   ]
  },
  {
   "cell_type": "code",
   "execution_count": null,
   "metadata": {},
   "outputs": [],
   "source": [
    "sns.jointplot(data=tips, x='tip', y='total_bill',\n",
    "              kind='kde', color='r')\n",
    "plt.show()"
   ]
  },
  {
   "cell_type": "markdown",
   "metadata": {},
   "source": [
    "## KDE plot\n",
    "\n",
    "Plot the distribution of observations in a dataset.\n",
    "\n",
    "- KDE plots with a little more control\n",
    "\n",
    "`seaborn.kdeplot(data=None, *, x=None, y=None, hue=None, weights=None, palette=None, hue_order=None, hue_norm=None, color=None, fill=None, multiple='layer', common_norm=True, common_grid=False, cumulative=False, bw_method='scott', bw_adjust=1, warn_singular=True, log_scale=None, levels=10, thresh=0.05, gridsize=200, cut=3, clip=None, legend=True, cbar=False, cbar_ax=None, cbar_kws=None, ax=None, **kwargs)`\n",
    "\n",
    "- https://seaborn.pydata.org/generated/seaborn.kdeplot.html#seaborn.kdeplot"
   ]
  },
  {
   "cell_type": "markdown",
   "metadata": {},
   "source": [
    "Plot the distribution of **a variable** (e.g., 'total_bill) as a function of **another variable** (e.g. 'size').\n",
    "- Notice: no `y-data` is specified - this is comving from `hue`\n",
    "\n",
    "- `common_norm`\n",
    "    - `True`, scale the densities by the number of observations (i.e., the total area under all densities is equal to 1).\n",
    "    - `False` (default): unscaled, independent densities"
   ]
  },
  {
   "cell_type": "code",
   "execution_count": null,
   "metadata": {},
   "outputs": [],
   "source": [
    "sns.kdeplot(data=tips, x='total_bill', hue='size',            \n",
    "            fill=True, alpha=0.5, \n",
    "            common_norm=False, palette=\"crest\")\n",
    "plt.show()"
   ]
  },
  {
   "cell_type": "code",
   "execution_count": null,
   "metadata": {},
   "outputs": [],
   "source": [
    "sns.kdeplot(data=tips, x='total_bill', y='size',\n",
    "            fill=True, alpha=0.5)\n",
    "plt.show()"
   ]
  },
  {
   "cell_type": "markdown",
   "metadata": {},
   "source": [
    "Increasing the \n",
    "- `levels`\n",
    "    - `int`: Number of contour levels\n",
    "    - `list` (i.e. vector): values to draw contours at"
   ]
  },
  {
   "cell_type": "code",
   "execution_count": null,
   "metadata": {},
   "outputs": [],
   "source": [
    "sns.kdeplot(data=tips, x='total_bill', y='size',\n",
    "            levels=5,\n",
    "            fill=True, alpha=0.5)\n",
    "plt.show()"
   ]
  },
  {
   "cell_type": "code",
   "execution_count": null,
   "metadata": {},
   "outputs": [],
   "source": [
    "sns.kdeplot(data=tips, x='total_bill', y='size',\n",
    "            levels=[0.0, 0.1, 0.5, 0.6, 0.8, 0.9, 1.0],\n",
    "            fill=False)\n",
    "plt.show()"
   ]
  },
  {
   "cell_type": "markdown",
   "metadata": {},
   "source": [
    "<hr style=\"border:2px solid gray\"></hr>\n",
    "\n",
    "## Categorical plots\n",
    "\n",
    "- plots whose data **includes categories** (non-numerical data; discrete data)\n",
    "\n",
    "- different than looking for relationships between numerical-based data using scatter plots\n",
    "\n",
    "### `catplot`\n",
    "\n",
    "- plot the relationship between **a numerical** and **one or more categorical** variables\n",
    "\n",
    "`seaborn.catplot(data=None, *, x=None, y=None, hue=None, row=None, col=None, kind='strip', estimator='mean', errorbar=('ci', 95), n_boot=1000, seed=None, units=None, weights=None, order=None, hue_order=None, row_order=None, col_order=None, col_wrap=None, height=5, aspect=1, log_scale=None, native_scale=False, formatter=None, orient=None, color=None, palette=None, hue_norm=None, legend='auto', legend_out=True, sharex=True, sharey=True, margin_titles=False, facet_kws=None, ci=<deprecated>, **kwargs)`\n",
    "\n",
    "- https://seaborn.pydata.org/generated/seaborn.catplot.html#seaborn.catplot\n",
    "\n",
    "- `kind`\n",
    "    - Categorical **estimate** plots:\n",
    "        - pointplot (kind=\"point\")\n",
    "        - **barplot** (kind=\"bar\")\n",
    "        - countplot (kind=\"count\")\n",
    "    - Categorical **distribution** plots:\n",
    "        - boxplot (kind=\"box\")\n",
    "        - **violinplot** (kind=\"violin\")\n",
    "        - boxenplot (kind=\"boxen\")\n",
    "    - Categorical **scatter** plots\n",
    "        - **stripplot** (kind=\"strip\"; default)\n",
    "        - swarmplot (kind=\"swarm\")"
   ]
  },
  {
   "cell_type": "markdown",
   "metadata": {},
   "source": [
    "#### Bar plots"
   ]
  },
  {
   "cell_type": "code",
   "execution_count": null,
   "metadata": {},
   "outputs": [],
   "source": [
    "sns.catplot(data=tips, x='day', y='total_bill', hue='smoker',\n",
    "            kind='bar')\n",
    "plt.show()"
   ]
  },
  {
   "cell_type": "markdown",
   "metadata": {},
   "source": [
    "#### Violin Plots\n",
    "\n",
    "- Show the **distribution of data** after variables are grouped (one or more).\n",
    "- Each \"violin\" is drawn using a **KDE** of the underlying distribution.\n",
    "\n",
    "<br>\n",
    "\n",
    "- Data distribution\n",
    "\n",
    "    - dot or line: **mean**\n",
    "    - thick gray line: the **interquartile range** (a.k.a. **middle 50%**)\n",
    "        - https://en.wikipedia.org/wiki/Interquartile_range\n",
    "    - thin gray line: the **rest** of the data **minus \"outliers\"**\n",
    "\n",
    "- KDE\n",
    "    - A kistogram like representation of the data\n",
    "\n",
    "<br>\n",
    "\n",
    "- https://en.wikipedia.org/wiki/Violin_plot\n",
    "- https://seaborn.pydata.org/generated/seaborn.violinplot.html"
   ]
  },
  {
   "cell_type": "code",
   "execution_count": null,
   "metadata": {},
   "outputs": [],
   "source": [
    "sns.violinplot(data=tips, x='day', y='total_bill', hue='smoker',\n",
    "               palette='Set3')\n",
    "plt.show()"
   ]
  },
  {
   "cell_type": "markdown",
   "metadata": {},
   "source": [
    "Consolidate plots by **combining** their **distribution** via **splitting the violin**:"
   ]
  },
  {
   "cell_type": "code",
   "execution_count": null,
   "metadata": {},
   "outputs": [],
   "source": [
    "sns.violinplot(data=tips, x='day', y='total_bill', hue='smoker',\n",
    "               palette='Set3', split=True)\n",
    "plt.show()"
   ]
  },
  {
   "cell_type": "markdown",
   "metadata": {},
   "source": [
    "Display the underlying data with some sense of their distribution\n",
    "- \"beeswarm\" plot"
   ]
  },
  {
   "cell_type": "code",
   "execution_count": null,
   "metadata": {},
   "outputs": [],
   "source": [
    "sns.catplot(data=tips, x='day', y='total_bill', hue='smoker',\n",
    "               palette='Set1', kind=\"swarm\")\n",
    "plt.show()"
   ]
  },
  {
   "cell_type": "markdown",
   "metadata": {},
   "source": [
    "#### `stripplot`\n",
    "\n",
    "- An alternative to the above\n",
    "\n",
    "- Use in combo with violin or box plots\n",
    "\n",
    "`seaborn.stripplot(data=None, *, x=None, y=None, hue=None, order=None, hue_order=None, jitter=True, dodge=False, orient=None, color=None, palette=None, size=5, edgecolor=<default>, linewidth=0, hue_norm=None, log_scale=None, native_scale=False, formatter=None, legend='auto', ax=None, **kwargs)`\n",
    "\n",
    "- `jitter`: spread the data out some (like in a beeswarm plot)\n",
    "- \n",
    "- https://seaborn.pydata.org/generated/seaborn.stripplot.html"
   ]
  },
  {
   "cell_type": "code",
   "execution_count": null,
   "metadata": {},
   "outputs": [],
   "source": [
    "sns.stripplot(data=tips, x='day', y='total_bill', jitter=0.2)\n",
    "\n",
    "sns.violinplot(data=tips, x='day', y='total_bill')\n",
    "\n",
    "plt.show()"
   ]
  },
  {
   "cell_type": "markdown",
   "metadata": {},
   "source": [
    "<hr style=\"border:2px solid gray\"></hr>\n",
    "\n",
    "# Subplots\n",
    "- use matplotlib\n",
    "    - https://matplotlib.org/stable/api/_as_gen/matplotlib.pyplot.subplots.html\n",
    "\n",
    "    - share axes: `sharey` and `sharex`\n",
    " \n",
    "    - plot locations: `ax`"
   ]
  },
  {
   "cell_type": "code",
   "execution_count": null,
   "metadata": {},
   "outputs": [],
   "source": [
    "fig, axes = plt.subplots(1, 2, sharey=True, figsize=(6, 4))\n",
    "\n",
    "sns.boxplot(x='day', y='tip', data=tips,\n",
    "            ax=axes[1])\n",
    "\n",
    "sns.scatterplot(data=tips, x='total_bill', y='tip',\n",
    "                hue='day',\n",
    "                ax=axes[0])\n",
    "\n",
    "plt.show()"
   ]
  },
  {
   "cell_type": "markdown",
   "metadata": {},
   "source": [
    "## Pairwise associations of the data, with distributions\n",
    "\n",
    "- Univariate distribution of the column data along the diagonal axes\n",
    "\n",
    "\n",
    "- A good way to get an over of possible relationships within the data"
   ]
  },
  {
   "cell_type": "code",
   "execution_count": null,
   "metadata": {},
   "outputs": [],
   "source": [
    "sns.pairplot(data=tips, hue='day',\n",
    "             kind='scatter')\n",
    "plt.show()"
   ]
  },
  {
   "cell_type": "markdown",
   "metadata": {},
   "source": [
    "Simplify the visualization\n",
    "- `corner=True`"
   ]
  },
  {
   "cell_type": "code",
   "execution_count": null,
   "metadata": {},
   "outputs": [],
   "source": [
    "sns.pairplot(data=tips, hue='day',\n",
    "             kind='scatter', corner=True)\n",
    "plt.show()"
   ]
  },
  {
   "cell_type": "markdown",
   "metadata": {},
   "source": [
    "Introduce regression lines into the scatter plots\n",
    "- `kind=\"reg\"`"
   ]
  },
  {
   "cell_type": "code",
   "execution_count": null,
   "metadata": {},
   "outputs": [],
   "source": [
    "sns.pairplot(data=tips, hue='day',\n",
    "             kind='reg', corner=True)\n",
    "plt.show()"
   ]
  },
  {
   "cell_type": "markdown",
   "metadata": {},
   "source": [
    "<hr style=\"border:2px solid gray\"></hr>\n",
    "\n",
    "## Color Paletts in Seaborn\n",
    "https://seaborn.pydata.org/tutorial/color_palettes.html#palette-tutorial\n",
    "\n",
    "- Every continuous colormap can be reversed version: <b>name_r</b>\n",
    "\n",
    "**Possible values**:\n",
    "\n",
    "- Accent, Accent_r\n",
    "- Blues, Blues_r, BrBG, BrBG_r, BuGn, BuGn_r, BuPu, BuPu_r\n",
    "- CMRmap, CMRmap_r\n",
    "- Dark2, Dark2_r\n",
    "- GnBu, GnBu_r, Greens, Greens_r, Greys, Greys_r\n",
    "- OrRd, OrRd_r, Oranges, Oranges_r\n",
    "- PRGn, PRGn_r, Paired, Paired_r, Pastel1, Pastel1_r, Pastel2, Pastel2_r, PiYG, PiYG_r, PuBu, PuBuGn, PuBuGn_r, PuBu_r, PuOr, PuOr_r, PuRd, PuRd_r, Purples, Purples_r\n",
    "- RdBu, RdBu_r, RdGy, RdGy_r, RdPu, RdPu_r, RdYlBu, RdYlBu_r, RdYlGn, RdYlGn_r, Reds, Reds_r\n",
    "- Set1, Set1_r, Set2, Set2_r, Set3, Set3_r, Spectral, Spectral_r\n",
    "- Wistia, Wistia_r\n",
    "- YlGn, YlGnBu, YlGnBu_r, YlGn_r, YlOrBr, YlOrBr_r, YlOrRd, YlOrRd_r\n",
    "- afmhot, afmhot_r, autumn, autumn_r\n",
    "- binary, binary_r, bone, bone_r, brg, brg_r, bwr, bwr_r\n",
    "- cividis, cividis_r, cool, cool_r, coolwarm, coolwarm_r, copper, copper_r, cubehelix, cubehelix_r, flag, flag_r\n",
    "- gist_earth, gist_earth_r, gist_gray, gist_gray_r, gist_heat, gist_heat_r, gist_ncar, gist_ncar_r, gist_rainbow, gist_rainbow_r, gist_stern, gist_stern_r, gist_yarg, gist_yarg_r, gnuplot, gnuplot2, gnuplot2_r, gnuplot_r, gray, gray_r\n",
    "- hot, hot_r, hsv, hsv_r, icefire, icefire_r, inferno, inferno_r, jet, jet_r\n",
    "- magma, magma_r, mako, mako_r\n",
    "- nipy_spectral, nipy_spectral_r\n",
    "- ocean, ocean_r\n",
    "- pink, pink_r, plasma, plasma_r, prism, prism_r\n",
    "- rainbow, rainbow_r, rocket, rocket_r\n",
    "- seismic, seismic_r, spring, spring_r, summer, summer_r\n",
    "- tab10, tab10_r, tab20, tab20_r, tab20b, tab20b_r, tab20c, tab20c_r, terrain, terrain_r, twilight, twilight_r, twilight_shifted, twilight_shifted_r\n",
    "- viridis, viridis_r, vlag, vlag_r\n",
    "- winter, winter_r"
   ]
  },
  {
   "cell_type": "markdown",
   "metadata": {},
   "source": [
    "### Qualitative\n",
    "\n",
    "- Used with categorical data (e.g., days of the week, smoker/non-smoker)\n",
    "\n",
    "\n",
    "- For example:\n",
    "    - pastel, deep, dark, colorblind\n",
    "    - Paired, Set2"
   ]
  },
  {
   "cell_type": "code",
   "execution_count": null,
   "metadata": {},
   "outputs": [],
   "source": [
    "len(sns.color_palette('pastel'))"
   ]
  },
  {
   "cell_type": "code",
   "execution_count": null,
   "metadata": {},
   "outputs": [],
   "source": [
    "sns.palplot(sns.color_palette('pastel', 10))"
   ]
  },
  {
   "cell_type": "code",
   "execution_count": null,
   "metadata": {},
   "outputs": [],
   "source": [
    "palette = 'deep'\n",
    "sns.palplot(sns.color_palette(palette, len(sns.color_palette(palette))))"
   ]
  },
  {
   "cell_type": "code",
   "execution_count": null,
   "metadata": {},
   "outputs": [],
   "source": [
    "palette = 'dark'\n",
    "sns.palplot(sns.color_palette(palette, len(sns.color_palette(palette))))"
   ]
  },
  {
   "cell_type": "code",
   "execution_count": null,
   "metadata": {},
   "outputs": [],
   "source": [
    "palette = 'colorblind'\n",
    "sns.palplot(sns.color_palette(palette, len(sns.color_palette(palette))))"
   ]
  },
  {
   "cell_type": "code",
   "execution_count": null,
   "metadata": {},
   "outputs": [],
   "source": [
    "palette = 'Set2'\n",
    "sns.palplot(sns.color_palette(palette, len(sns.color_palette(palette))))"
   ]
  },
  {
   "cell_type": "code",
   "execution_count": null,
   "metadata": {},
   "outputs": [],
   "source": [
    "palette = 'Paired'\n",
    "sns.palplot(sns.color_palette(palette, len(sns.color_palette(palette))))"
   ]
  },
  {
   "cell_type": "markdown",
   "metadata": {},
   "source": [
    "### Sequential\n",
    "\n",
    "- Sequential data where you need to highlight the one end and the middle part of the data (e.g. elevation)\n",
    "\n",
    "\n",
    "- Examples\n",
    "    - Blues\n",
    "    - cubehelix\n",
    "    - GnBu_d"
   ]
  },
  {
   "cell_type": "code",
   "execution_count": null,
   "metadata": {},
   "outputs": [],
   "source": [
    "sns.palplot(sns.color_palette('Blues', 20))"
   ]
  },
  {
   "cell_type": "code",
   "execution_count": null,
   "metadata": {},
   "outputs": [],
   "source": [
    "sns.palplot(sns.color_palette('Blues_r', 20))"
   ]
  },
  {
   "cell_type": "code",
   "execution_count": null,
   "metadata": {},
   "outputs": [],
   "source": [
    "sns.palplot(sns.color_palette('GnBu', 20))"
   ]
  },
  {
   "cell_type": "markdown",
   "metadata": {},
   "source": [
    "Darker version: **_d**"
   ]
  },
  {
   "cell_type": "code",
   "execution_count": null,
   "metadata": {},
   "outputs": [],
   "source": [
    "sns.palplot(sns.color_palette('GnBu_d', 20))"
   ]
  },
  {
   "cell_type": "code",
   "execution_count": null,
   "metadata": {},
   "outputs": [],
   "source": [
    "sns.palplot(sns.color_palette('cubehelix', 20))"
   ]
  },
  {
   "cell_type": "markdown",
   "metadata": {},
   "source": [
    "### Divergent\n",
    "\n",
    "- Use when the high and low values are more interesting (and the middle is not) - e.g. data normalized from -1 to +1\n",
    "\n",
    "- Example\n",
    "    - Spectral\n",
    "    - BrBG\n",
    "    - RdBu"
   ]
  },
  {
   "cell_type": "code",
   "execution_count": null,
   "metadata": {},
   "outputs": [],
   "source": [
    "sns.palplot(sns.color_palette('Spectral', 20))"
   ]
  },
  {
   "cell_type": "code",
   "execution_count": null,
   "metadata": {},
   "outputs": [],
   "source": [
    "sns.palplot(sns.color_palette('BrBG', 20))"
   ]
  },
  {
   "cell_type": "code",
   "execution_count": null,
   "metadata": {},
   "outputs": [],
   "source": [
    "sns.palplot(sns.color_palette('RdBu', 20))"
   ]
  },
  {
   "cell_type": "code",
   "execution_count": null,
   "metadata": {},
   "outputs": [],
   "source": [
    "## qualitative: dark vs Set2\n",
    "sns.pairplot(data=tips, hue='day', kind='scatter', palette='dark', corner=True)\n",
    "\n",
    "plt.show()"
   ]
  },
  {
   "cell_type": "markdown",
   "metadata": {},
   "source": [
    "<hr style=\"border:2px solid gray\"></hr>\n",
    "\n",
    "# Additional examples for other packages:\n",
    "\n",
    "https://colab.research.google.com/notebooks/charts.ipynb#scrollTo=Xn0jLwr8evoR"
   ]
  },
  {
   "cell_type": "code",
   "execution_count": null,
   "metadata": {},
   "outputs": [],
   "source": []
  }
 ],
 "metadata": {
  "kernelspec": {
   "display_name": "Python 3 (ipykernel)",
   "language": "python",
   "name": "python3"
  },
  "language_info": {
   "codemirror_mode": {
    "name": "ipython",
    "version": 3
   },
   "file_extension": ".py",
   "mimetype": "text/x-python",
   "name": "python",
   "nbconvert_exporter": "python",
   "pygments_lexer": "ipython3",
   "version": "3.11.9"
  }
 },
 "nbformat": 4,
 "nbformat_minor": 4
}
