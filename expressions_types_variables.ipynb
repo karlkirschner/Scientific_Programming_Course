{
 "cells": [
  {
   "cell_type": "markdown",
   "metadata": {},
   "source": [
    "<div class=\"alert block alert-info alert\">\n",
    "\n",
    "# <center> Scientific Programming in Python\n",
    "## <center>Karl N. Kirschner<br>Bonn-Rhein-Sieg University of Applied Sciences<br>Sankt Augustin, Germany\n",
    "\n",
    "# <center> Expressions, Types and Variables\n",
    "\n",
    "<hr style=\"border:2px solid gray\"></hr>"
   ]
  },
  {
   "cell_type": "markdown",
   "metadata": {},
   "source": [
    "## Expressions\n",
    "An **expression** is a command that **returns a value**. For example:"
   ]
  },
  {
   "cell_type": "code",
   "execution_count": null,
   "metadata": {},
   "outputs": [],
   "source": [
    "2 + 2"
   ]
  },
  {
   "cell_type": "code",
   "execution_count": null,
   "metadata": {},
   "outputs": [],
   "source": [
    "abs(-2 - 2)"
   ]
  },
  {
   "cell_type": "markdown",
   "metadata": {},
   "source": [
    "<hr style=\"border:2px solid gray\"></hr>\n",
    "\n",
    "## Types\n",
    "\n",
    "Everything in Python is an **object** and every object in Python has a **type**. Some of the basic **type** include:\n",
    "\n",
    "- **`int`** (integer: a whole number with no decimal place)\n",
    "  - `10`\n",
    "  - `-3`\n",
    "- **`float`** (float: a number that has a decimal place)\n",
    "  - `7.41`\n",
    "  - `-0.006`\n",
    "- **`bool`** (boolean: a binary value that is either true or false)\n",
    "  - `True`\n",
    "  - `False`\n",
    "- **`str`** (string: a sequence of characters enclosed in single quotes, double quotes and a mixture)\n",
    "  - `'this is a string using single quotes'`\n",
    "  - `\"this is a string using double quotes\"`\n",
    "  - `\"Socrates once said, 'The only true wisdom is in knowing you know nothing.'\"`\n",
    "- **`NoneType`** (a special type representing the absence of a value)\n",
    "  - `None`"
   ]
  },
  {
   "cell_type": "code",
   "execution_count": null,
   "metadata": {},
   "outputs": [],
   "source": [
    "type(4)"
   ]
  },
  {
   "cell_type": "code",
   "execution_count": null,
   "metadata": {},
   "outputs": [],
   "source": [
    "type(2.1)"
   ]
  },
  {
   "cell_type": "code",
   "execution_count": null,
   "metadata": {},
   "outputs": [],
   "source": [
    "type(3 > 4)"
   ]
  },
  {
   "cell_type": "code",
   "execution_count": null,
   "metadata": {},
   "outputs": [],
   "source": [
    "print(3 > 4)"
   ]
  },
  {
   "cell_type": "code",
   "execution_count": null,
   "metadata": {},
   "outputs": [],
   "source": [
    "type([1, 2, 3, 4])"
   ]
  },
  {
   "cell_type": "code",
   "execution_count": null,
   "metadata": {},
   "outputs": [],
   "source": [
    "type(range(3, 9, 1))"
   ]
  },
  {
   "cell_type": "markdown",
   "metadata": {},
   "source": [
    "**Tip**: using the `type` will help you figure out many problems in Python, especially when using functions. "
   ]
  },
  {
   "cell_type": "markdown",
   "metadata": {},
   "source": [
    "<hr style=\"border:2px solid gray\"></hr>\n",
    "\n",
    "## Variables\n",
    "A **variable** is assigned an **object**. You can modify that assignment (i.e., the variable's value) at any time.\n",
    "\n",
    "**Example** - Encode the following statement: <font color='dodgerblue'>\"my_variable is assigned the object [1.1, 1.2, 1.3]\":</font>\n",
    "\n",
    "`my_variable = [1.1, 1.2, 1.3]`\n",
    "\n",
    "#### Naming rules\n",
    "- Variables can only contain <font color='dodgerblue'>letters</font> (e.g., A, B, C, a, b, c), <font color='dodgerblue'>numbers</font> (e.g., 1, 2, 3) and <font color='dodgerblue'>underscores</font> (i.e., _ ).\n",
    "\n",
    "\n",
    "- Variable names **<font color='dodgerblue'>can</font>** start with\n",
    "    - <font color='dodgerblue'>a letter</font> (e.g., `a_name`)\n",
    "    - <font color='dodgerblue'>an underscore</font> (e.g., `_name`)\n",
    "        - these should be reserved for \"private\"/\"internal\" variables that are not meant to be used outside of the current code. For illustration, `from module import *` will not import any `_name` variables). However, you can do it directly: `from module import _name`.\n",
    "\n",
    "\n",
    "- Variable names **<font color='red'>cannot</font>** start with\n",
    "    - <font color='red'>a number</font> (e.g., `1name`).\n",
    "    \n",
    "    \n",
    "- <font color='red'>Spaces</font> **are not** allowed in variable names (e.g., `student name`), so we use underscores instead of spaces (e.g., `student_name`).\n",
    "\n",
    "\n",
    "- <font color='dodgerblue'>**pothole** (a.k.a. snake) case</font> is prefered in Python (e.g., `weather_data`).\n",
    "\n",
    "- Camal case (e.g., `weatherData`) is used less often.\n",
    "\n",
    "\n",
    "- Variable names should be <font color='dodgerblue'>descriptive, without being too long</font>. For example, a code concening motorcycle wheels -  `mc_wheels` is better than just `wheels` and the extended `number_of_wheels_on_a_motorycle`."
   ]
  },
  {
   "cell_type": "code",
   "execution_count": null,
   "metadata": {},
   "outputs": [],
   "source": [
    "newton_quote = \"Isaac Newton once said, 'If I have seen further, it is by standing on the shoulders of GIANTS.'\"\n",
    "\n",
    "print(newton_quote)"
   ]
  },
  {
   "cell_type": "markdown",
   "metadata": {},
   "source": [
    "- You **cannot** use Python **keywords** (e.g., `lambda`, `type`) as variable names."
   ]
  },
  {
   "cell_type": "code",
   "execution_count": null,
   "metadata": {},
   "outputs": [],
   "source": [
    "import keyword\n",
    "keyword.kwlist"
   ]
  },
  {
   "cell_type": "markdown",
   "metadata": {},
   "source": [
    "<hr style=\"border:2px solid gray\"></hr>\n",
    "\n",
    "## Python's Comprehension\n",
    "\n",
    "Comprehensions are a Pythonic way to create **containers with content** on a single line (via for loops).\n",
    "\n",
    "Possible types:\n",
    "-  **List**: `['a', 'b', 'c', 'c', 'c']`\n",
    "\n",
    "-  **Set**:  `{'a', 'b', 'c'}`\n",
    "    - list with unique items\n",
    "    \n",
    "-  **Dictionary**: `{'a': 1, 'b': 2, 'c': 3}`\n",
    "    - {key: value}"
   ]
  },
  {
   "cell_type": "markdown",
   "metadata": {},
   "source": [
    "#### Lists\n",
    "\n",
    "The **regular** approach:"
   ]
  },
  {
   "cell_type": "code",
   "execution_count": null,
   "metadata": {},
   "outputs": [],
   "source": [
    "my_list = []\n",
    "\n",
    "for number in range(1, 5, 1):\n",
    "    my_list.append(number)\n",
    "\n",
    "my_list"
   ]
  },
  {
   "cell_type": "markdown",
   "metadata": {},
   "source": [
    "The **comprehension** approach:"
   ]
  },
  {
   "cell_type": "code",
   "execution_count": null,
   "metadata": {},
   "outputs": [],
   "source": [
    "[number for number in range(1, 5, 1)]"
   ]
  },
  {
   "cell_type": "markdown",
   "metadata": {},
   "source": [
    "Can also do this with strings:"
   ]
  },
  {
   "cell_type": "code",
   "execution_count": null,
   "metadata": {},
   "outputs": [],
   "source": [
    "[letter for letter in 'Learning this is super.']"
   ]
  },
  {
   "cell_type": "markdown",
   "metadata": {},
   "source": [
    "One can even generate nested lists:"
   ]
  },
  {
   "cell_type": "code",
   "execution_count": null,
   "metadata": {},
   "outputs": [],
   "source": [
    "[[number_1 + number_2 for number_2 in range(20, 25, 1)] for number_1 in range(1, 5, 1)]"
   ]
  },
  {
   "cell_type": "markdown",
   "metadata": {},
   "source": [
    "#### Sets"
   ]
  },
  {
   "cell_type": "code",
   "execution_count": null,
   "metadata": {},
   "outputs": [],
   "source": [
    "{letter for letter in 'Learning this is super.'} ## non-duplicated letters (e.g., 's')"
   ]
  },
  {
   "cell_type": "markdown",
   "metadata": {},
   "source": [
    "#### Dictionaries"
   ]
  },
  {
   "cell_type": "code",
   "execution_count": null,
   "metadata": {},
   "outputs": [],
   "source": [
    "{number: number**2 for number in range(1, 5, 1)}"
   ]
  }
 ],
 "metadata": {
  "kernelspec": {
   "display_name": "Python 3",
   "language": "python",
   "name": "python3"
  },
  "language_info": {
   "codemirror_mode": {
    "name": "ipython",
    "version": 3
   },
   "file_extension": ".py",
   "mimetype": "text/x-python",
   "name": "python",
   "nbconvert_exporter": "python",
   "pygments_lexer": "ipython3",
   "version": "3.10.13"
  }
 },
 "nbformat": 4,
 "nbformat_minor": 4
}
