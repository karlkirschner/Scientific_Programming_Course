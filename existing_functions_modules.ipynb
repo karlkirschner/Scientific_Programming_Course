{
 "cells": [
  {
   "cell_type": "markdown",
   "metadata": {},
   "source": [
    "\n",
    "<div class=\"alert block alert-info alert\">\n",
    "\n",
    "# <center> Scientific Programming in Python\n",
    "## <center>Karl N. Kirschner<br>Bonn-Rhein-Sieg University of Applied Sciences<br>Sankt Augustin, Germany\n",
    "\n",
    "# <center> Existing Functions and Modules \n",
    "\n",
    "#### Sources\n",
    "1. https://docs.python.org/3/library/functions.html\n",
    "1. https://www.w3schools.com/python/python_ref_functions.asp\n",
    "<hr style=\"border:2px solid gray\"></hr>"
   ]
  },
  {
   "cell_type": "markdown",
   "metadata": {},
   "source": [
    "## Functions\n",
    "**Function**: a named block (i.e. piece) of code that does a very specific job.\n",
    "\n",
    "- A mini- or sub-program within a program\n",
    "\n",
    "\n",
    "1. built-in functions\n",
    "2. user-defined functions\n",
    "\n",
    "<hr style=\"border:2px solid gray\"></hr>\n",
    "\n",
    "### Built-in Functions\n",
    "\n",
    "Basic set of standard functions\n",
    "\n",
    "`abs()\t\t\tdivmod()\t\tinput()\t\t open()\t    staticmethod()`<br>\n",
    "`all()\t\t\tenumerate()\t int()\t\t   ord()\t     str()`<br>\n",
    "`any()\t\t\teval()\t\t  isinstance()\tpow()\t     sum()`<br>\n",
    "`basestring()\t execfile()  \tissubclass()\tprint()       super()`<br>\n",
    "`bin()\t\t    file()\t\t  iter()\t\t  property()    tuple()`<br>\n",
    "`bool()\t\t   filter()\t    len()\t\t   range()\t   type()`<br>\n",
    "`bytearray()\t  float()\t     list()\t\t  raw_input()   unichr()`<br>\n",
    "`callable()\t   format()\t\tlocals()\t\treduce()      unicode()`<br>\n",
    "`chr()\t\t\tfrozenset()\t long()\t\t  reload()      vars()`<br>\n",
    "`classmethod()\tgetattr()\t   map()\t\t   repr()\t\txrange()`<br>\n",
    "`cmp()\t\t\tglobals()\t   max()\t\t   reversed()\tzip()`<br>\n",
    "`compile()\t\thasattr()\t   memoryview()    round()\t   __import__()`<br>\n",
    "`complex()\t\thash()\t\t  min()\t\t   set()`<br>\n",
    "`delattr()\t\thelp()\t\t  next()\t      setattr()`<br>\n",
    "`dict()\t\t   hex()\t\t   object()\t    slice()`<br>\n",
    "`dir()\t\t\tid()\t\t    oct()\t       sorted()`<br>\n",
    "\n",
    "\n",
    "In the following, particularly helpful functions are indicated in **bold**:\n",
    "\n",
    "| Function | Ability|\n",
    "| :- | :- |\n",
    "| **abs()** | Returns the **absolute value** of a number|\n",
    "| all() | Returns True if all items in an iterable object are true| \n",
    "| any() | Returns True if any item in an iterable object is true| \n",
    "| ascii() | Returns a readable version of an object. Replaces none-ascii characters with escape character| \n",
    "| bin() | Returns the binary version of a number|\n",
    "| bool() | Returns the boolean value of the specified object|\n",
    "| bytearray() | Returns an array of bytes|\n",
    "| bytes() | Returns a bytes object|\n",
    "| callable() | Returns True if the specified object is callable, otherwise False|\n",
    "| chr() | Returns a character from the specified Unicode code|\n",
    "| classmethod() | Converts a method into a class method|\n",
    "| compile() | Returns the specified source as an object, ready to be executed|\n",
    "| complex() | Returns a complex number|\n",
    "| delattr() | Deletes the specified attribute (property or method) from the specified object|\n",
    "| **dict()** | Returns a **dictionary** (Array)|\n",
    "| dir() | Returns a **list** of the specified **object's properties and methods**|\n",
    "| divmod() | Returns the quotient and the remainder when argument1 is divided by argument2|\n",
    "| **enumerate()** | Takes a collection (e.g. a tuple) and returns it as an enumerate object|\n",
    "| eval() | Evaluates and executes an expression|\n",
    "| exec() | Executes the specified code (or object)|\n",
    "| **filter()** | Use a filter function to **exclude** items in an iterable object|\n",
    "| **float()** | Returns a **floating point number**|\n",
    "| **format()** | Formats a specified value|\n",
    "| frozenset() | Returns a frozenset object|\n",
    "| getattr() | Returns the value of the specified attribute (property or method)|\n",
    "| globals() | Returns the current global symbol table as a dictionary|\n",
    "| hasattr() | Returns True if the specified object has the specified attribute (property/method)|\n",
    "| hash() | Returns the hash value of a specified object|\n",
    "| **help()** | Executes the built-in help system|\n",
    "| hex() | Converts a number into a hexadecimal value|\n",
    "| id() | Returns the id of an object|\n",
    "| input() | Allowing user input|\n",
    "| **int()** | Returns an **integer number**|\n",
    "| **isinstance()** | Returns True if a specified object is an instance of a specified object|\n",
    "| issubclass() | Returns True if a specified class is a subclass of a specified object|\n",
    "| iter() | Returns an iterator object|\n",
    "| **len()** | Returns the **length** of an object|\n",
    "| **list()** | Returns a list|\n",
    "| locals() | Returns an updated dictionary of the current local symbol table|\n",
    "| **map()** | Returns the specified iterator with the **specified function applied to each item**|\n",
    "| **max()** | Returns the **largest item** in an iterable|\n",
    "| memoryview() | Returns a memory view object|\n",
    "| **min()** | Returns the **smallest item** in an iterable|\n",
    "| **next()** | Returns the next item in an iterable|\n",
    "| object() | Returns a new object|\n",
    "| oct() | Converts a number into an octal|\n",
    "| **open()** | Opens a file and returns a file object\n",
    "| ord() | Convert an integer representing the Unicode of the specified character|\n",
    "| **pow()** | Returns the value of **x to the power of y**|\n",
    "| **print()**| Prints to the standard output device|\n",
    "| property()| Gets, sets, deletes a property|\n",
    "| **range()**| Returns a **sequence of numbers**, starting from 0 and increments by 1 (by default)|\n",
    "| repr()| Returns a readable version of an object|\n",
    "| reversed()| Returns a reversed iterator|\n",
    "| **round()**| Rounds a numbers|\n",
    "| **set()**| Returns a new set object|\n",
    "| setattr()| Sets an attribute (property/method) of an object|\n",
    "| slice()| Returns a slice object|\n",
    "| **sorted()**| Returns a **sorted list**|\n",
    "| @staticmethod()| Converts a method into a static method|\n",
    "| str()| Returns a string object|\n",
    "| **sum()**| Sums the items of an iterator|\n",
    "| super()| Returns an object that represents the parent class|\n",
    "| tuple()| Returns a tuple|\n",
    "| **type()**| Returns the **type of an object**|\n",
    "| vars()| Returns the __dict__ property of an object|\n",
    "| zip() | Returns an iterator, from two or more iterators|\n",
    "\n",
    "<hr style=\"border:2px solid gray\"></hr>"
   ]
  },
  {
   "cell_type": "markdown",
   "metadata": {},
   "source": [
    "#### Let us highlight some for illustration:\n",
    "\n",
    "`abs(number)` function"
   ]
  },
  {
   "cell_type": "code",
   "execution_count": null,
   "metadata": {},
   "outputs": [],
   "source": [
    "abs(-15.2)"
   ]
  },
  {
   "cell_type": "markdown",
   "metadata": {},
   "source": [
    "`enumerate(iterable)` function\n",
    "- allows you to get a counter associated with a item in an iterable"
   ]
  },
  {
   "cell_type": "code",
   "execution_count": null,
   "metadata": {},
   "outputs": [],
   "source": [
    "movies = ('star wars', 'star trek', 'firefly', 'star wars')\n",
    "\n",
    "movies_enum = enumerate(movies, 10)\n",
    "\n",
    "for count, item in movies_enum: \n",
    "    print(count, item)"
   ]
  },
  {
   "cell_type": "markdown",
   "metadata": {},
   "source": [
    "`set(iterable)` function\n",
    "- returns a set of unique items"
   ]
  },
  {
   "cell_type": "code",
   "execution_count": null,
   "metadata": {},
   "outputs": [],
   "source": [
    "set(movies)"
   ]
  },
  {
   "cell_type": "markdown",
   "metadata": {},
   "source": [
    "`range(start, stop, step)` function\n",
    "- returns a range of number incremented by a step size"
   ]
  },
  {
   "cell_type": "code",
   "execution_count": null,
   "metadata": {},
   "outputs": [],
   "source": [
    "for number in range(10, 21, 2):\n",
    "    print(number)"
   ]
  },
  {
   "cell_type": "markdown",
   "metadata": {},
   "source": [
    "`map(fun, iter)` function\n",
    "- applying the given function to each item of a given iterable (list, tuple etc.)"
   ]
  },
  {
   "cell_type": "code",
   "execution_count": null,
   "metadata": {},
   "outputs": [],
   "source": [
    "float_list = [1.4, 1.5, 1.6, 3.3]\n",
    "\n",
    "int_list = map(round, float_list)\n",
    "\n",
    "for number in int_list:\n",
    "    print(number)"
   ]
  },
  {
   "cell_type": "markdown",
   "metadata": {},
   "source": [
    "`isinstance(object, type)`  function\n",
    "- important for including internal checks within user-defined functions"
   ]
  },
  {
   "cell_type": "code",
   "execution_count": null,
   "metadata": {},
   "outputs": [],
   "source": [
    "isinstance(42, int)"
   ]
  },
  {
   "cell_type": "code",
   "execution_count": null,
   "metadata": {},
   "outputs": [],
   "source": [
    "def my_function(number):\n",
    "    '''Example of internal check'''\n",
    "\n",
    "    if not isinstance(number, int):\n",
    "        raise TypeError\n",
    "    else:\n",
    "        print('Yeah - you did it correct!')\n",
    "\n",
    "my_function(number=1)"
   ]
  },
  {
   "cell_type": "markdown",
   "metadata": {},
   "source": [
    "`type(object)` function\n",
    "- helpful for checking if you are working with what you think you are working with"
   ]
  },
  {
   "cell_type": "code",
   "execution_count": null,
   "metadata": {},
   "outputs": [],
   "source": [
    "type(float_list)"
   ]
  },
  {
   "cell_type": "markdown",
   "metadata": {},
   "source": [
    "- the type of an item within a list"
   ]
  },
  {
   "cell_type": "code",
   "execution_count": null,
   "metadata": {},
   "outputs": [],
   "source": [
    "type(float_list[0])"
   ]
  },
  {
   "cell_type": "markdown",
   "metadata": {},
   "source": [
    "<hr style=\"border:2px solid gray\"></hr>\n",
    "\n",
    "# Python3's Standard Libraries (aka Modules)\n",
    "\n",
    "These are libraries that come with Python, and are thus called \"standard libraries.\"\n",
    "\n",
    "(**Module**: a Python program that contains a group (i.e. collection) of related functions.)\n",
    "\n",
    "[Standard Libraries - link 1](https://docs.python.org/3/library)\n",
    "\n",
    "[Standard Libraries - link 2](https://docs.python.org/3/py-modindex.html)\n",
    "\n",
    "Using existing libraries\n",
    "1. Reduce opportunities for errors to occur\n",
    "2. Simplifies your life\n",
    "\n",
    "#### Some highlights\n",
    "\n",
    "Mathematical Libraries\n",
    "- math\n",
    "- random\n",
    "- statistics\n",
    "\n",
    "File Libraries\n",
    "- csv: CSV file reading and writing\n",
    "- configparser: configuration file parser\n",
    "\n",
    "Operating System Libraries\n",
    "- argparse: parser for command-line options\n",
    "\n",
    "Python Runtime Services\n",
    "sys: System-specific parameters and functions\n",
    "\n",
    "Debugging and Profiling\n",
    "- unittest: unit testing\n",
    "- timeit: measure execution time of code snippets\n",
    "\n",
    "### Example 1 - the math module\n",
    "- First you must import the module (or library)"
   ]
  },
  {
   "cell_type": "code",
   "execution_count": null,
   "metadata": {},
   "outputs": [],
   "source": [
    "import math"
   ]
  },
  {
   "cell_type": "code",
   "execution_count": null,
   "metadata": {},
   "outputs": [],
   "source": [
    "help(math)"
   ]
  },
  {
   "cell_type": "code",
   "execution_count": null,
   "metadata": {},
   "outputs": [],
   "source": [
    "math.pi"
   ]
  },
  {
   "cell_type": "markdown",
   "metadata": {},
   "source": [
    "Sine of a number (units: radians)\n",
    "- input a rounded value of pi"
   ]
  },
  {
   "cell_type": "code",
   "execution_count": null,
   "metadata": {},
   "outputs": [],
   "source": [
    "math.cos(3.14)"
   ]
  },
  {
   "cell_type": "markdown",
   "metadata": {},
   "source": [
    "- input a more accurate value of pi"
   ]
  },
  {
   "cell_type": "code",
   "execution_count": null,
   "metadata": {},
   "outputs": [],
   "source": [
    "math.cos(math.pi)"
   ]
  },
  {
   "cell_type": "markdown",
   "metadata": {},
   "source": [
    "Convert to radians to degrees\n",
    "- pi radians is 180 degrees"
   ]
  },
  {
   "cell_type": "code",
   "execution_count": null,
   "metadata": {},
   "outputs": [],
   "source": [
    "math.degrees(math.pi)"
   ]
  },
  {
   "cell_type": "markdown",
   "metadata": {},
   "source": [
    "### Example 2 - the random module"
   ]
  },
  {
   "cell_type": "code",
   "execution_count": null,
   "metadata": {},
   "outputs": [],
   "source": [
    "import random"
   ]
  },
  {
   "cell_type": "markdown",
   "metadata": {},
   "source": [
    "How to obtain help within Python"
   ]
  },
  {
   "cell_type": "code",
   "execution_count": null,
   "metadata": {},
   "outputs": [],
   "source": [
    "help(random)"
   ]
  },
  {
   "cell_type": "markdown",
   "metadata": {},
   "source": [
    "Obtain a quick list of random's \"attributes\"\n",
    "- use the built-in function `dir` (see above list)"
   ]
  },
  {
   "cell_type": "code",
   "execution_count": null,
   "metadata": {},
   "outputs": [],
   "source": [
    "print(dir(random))"
   ]
  },
  {
   "cell_type": "code",
   "execution_count": null,
   "metadata": {},
   "outputs": [],
   "source": [
    "help(random.random)"
   ]
  },
  {
   "cell_type": "code",
   "execution_count": null,
   "metadata": {},
   "outputs": [],
   "source": [
    "random.random()"
   ]
  },
  {
   "cell_type": "code",
   "execution_count": null,
   "metadata": {},
   "outputs": [],
   "source": [
    "help(random.randint)"
   ]
  },
  {
   "cell_type": "code",
   "execution_count": null,
   "metadata": {},
   "outputs": [],
   "source": [
    "random.randint(0,10)"
   ]
  },
  {
   "cell_type": "markdown",
   "metadata": {},
   "source": [
    "<hr style=\"border:2px solid gray\"></hr>\n",
    "\n",
    "### Where does one get more constants, which are important in the sciences?\n",
    "- SciPy\n",
    "\n",
    "#### Example 3 - How long does it take for light from the Sun to reach earth?\n",
    "\n",
    "The average distance between the Sun and the Earth is 149.6x10$^{9}$ meters.\n",
    "\n",
    "The speed (velocity) of light = 3x10$^8$ meters per second.\n",
    "\n",
    "$\\text{time (s)} = \\frac{\\text{distance (m)}}{\\text{speed of light} (\\frac{\\text{m}}{\\text{s}})}$\n",
    "\n",
    "\n",
    "The library SciPy, for example, has lots of physical constants for the natural sciences (e.g. c: speed of light (meters per second))"
   ]
  },
  {
   "cell_type": "code",
   "execution_count": null,
   "metadata": {},
   "outputs": [],
   "source": [
    "import scipy.constants"
   ]
  },
  {
   "cell_type": "code",
   "execution_count": null,
   "metadata": {},
   "outputs": [],
   "source": [
    "help(scipy.constants)"
   ]
  },
  {
   "cell_type": "code",
   "execution_count": null,
   "metadata": {},
   "outputs": [],
   "source": [
    "## speed of light (units: meters/second)\n",
    "\n",
    "dist_sun_earth = 149.6E9 ## units: meters\n",
    "\n",
    "time = dist_sun_earth/scipy.constants.c\n",
    "\n",
    "print(f'The time needed for light to travel from the Sun to the Earth is = {round(time, 1)} seconds.')\n",
    "\n",
    "print(f'Converting this to units of minutes, we obtain {round(time/60, 3)} minutes.')"
   ]
  },
  {
   "cell_type": "markdown",
   "metadata": {},
   "source": [
    "<hr style=\"border:2px solid gray\"></hr>\n",
    "\n",
    "### Simplify the code writing\n",
    "- load only a specific function from a module (e.g. for shorter and more readable code)\n",
    "- improves code's readability"
   ]
  },
  {
   "cell_type": "code",
   "execution_count": null,
   "metadata": {},
   "outputs": [],
   "source": [
    "from random import randint"
   ]
  },
  {
   "cell_type": "code",
   "execution_count": null,
   "metadata": {},
   "outputs": [],
   "source": [
    "randint(0, 10)"
   ]
  },
  {
   "cell_type": "markdown",
   "metadata": {},
   "source": [
    "- rename the functions to what you want (<font color='red'>warning: can cause confusion if you break from norms</font>)\n",
    "\n",
    "Example of something that is unusual:"
   ]
  },
  {
   "cell_type": "code",
   "execution_count": null,
   "metadata": {},
   "outputs": [],
   "source": [
    "from random import randint as radomize_karl"
   ]
  },
  {
   "cell_type": "code",
   "execution_count": null,
   "metadata": {},
   "outputs": [],
   "source": [
    "radomize_karl(0, 10)"
   ]
  },
  {
   "cell_type": "markdown",
   "metadata": {},
   "source": [
    "#### Example of renaming function that is consistent with a community norms.\n",
    "- We will use MatPlotLib's library and it's established naming conventions\n",
    "- The following also demonstrates how one can get help at different levels of a function"
   ]
  },
  {
   "cell_type": "code",
   "execution_count": null,
   "metadata": {},
   "outputs": [],
   "source": [
    "import matplotlib"
   ]
  },
  {
   "cell_type": "code",
   "execution_count": null,
   "metadata": {},
   "outputs": [],
   "source": [
    "help(matplotlib) ## provides LOTS of info (almost too much)"
   ]
  },
  {
   "cell_type": "code",
   "execution_count": null,
   "metadata": {},
   "outputs": [],
   "source": [
    "dir(matplotlib.pyplot) ## quick overview"
   ]
  },
  {
   "cell_type": "code",
   "execution_count": null,
   "metadata": {},
   "outputs": [],
   "source": [
    "help(matplotlib.pyplot.show)"
   ]
  },
  {
   "cell_type": "markdown",
   "metadata": {},
   "source": [
    "Let's show a comparison that to make it more relevant:\n",
    "\n",
    "First, the long and verbose (i.e. wordy) way:"
   ]
  },
  {
   "cell_type": "code",
   "execution_count": null,
   "metadata": {},
   "outputs": [],
   "source": [
    "## For Colabs, in order to show the plots\n",
    "%matplotlib inline\n",
    "\n",
    "x_values = [1, 2, 3, 4, 7]\n",
    "y_values = [1, 4, 9, 16, 49]\n",
    "\n",
    "matplotlib.pyplot.figure()\n",
    "matplotlib.pyplot.plot(x_values, y_values, marker='.', markersize=24, linewidth=5, linestyle='-', color='red')\n",
    "matplotlib.pyplot.show()"
   ]
  },
  {
   "cell_type": "markdown",
   "metadata": {},
   "source": [
    "Formatting the code slightly differently using an abbreviation\n",
    "- makes the code more readable and concise"
   ]
  },
  {
   "cell_type": "code",
   "execution_count": null,
   "metadata": {},
   "outputs": [],
   "source": [
    "import matplotlib.pyplot as plt\n",
    "\n",
    "x_values = [1, 2, 3, 4, 7]\n",
    "y_values = [1, 4, 9, 16, 49]\n",
    "\n",
    "plt.figure()\n",
    "plt.plot(x_values, y_values,\n",
    "         marker='.', markersize=24,\n",
    "         linewidth=5, linestyle='-',\n",
    "         color='red')\n",
    "plt.show()"
   ]
  },
  {
   "cell_type": "code",
   "execution_count": 1,
   "metadata": {},
   "outputs": [
    {
     "data": {
      "text/html": [
       "<img src onerror=\"var cell = this.closest('.code_cell');var editor = cell.querySelector('.input_area');editor.style.background='#fcf8e3';this.parentNode.removeChild(this)\">"
      ],
      "text/plain": [
       "<IPython.core.display.HTML object>"
      ]
     },
     "metadata": {},
     "output_type": "display_data"
    }
   ],
   "source": [
    "## For extra information given within the lectures\n",
    "\n",
    "from IPython.display import HTML\n",
    "\n",
    "\n",
    "def set_code_background(color: str):\n",
    "    ''' Set the background color for code cells.\n",
    "\n",
    "        Source: psychemedia via https://stackoverflow.com/questions/49429585/\n",
    "                how-to-change-the-background-color-of-a-single-cell-in-a-jupyter-notebook-jupy\n",
    "\n",
    "        To match Jupyter's dev class colors:\n",
    "            \"alert alert-block alert-warning\" = #fcf8e3\n",
    "\n",
    "        Args:\n",
    "            color: HTML color, rgba, hex\n",
    "    '''\n",
    "\n",
    "    script = (\"var cell = this.closest('.code_cell');\"\n",
    "              \"var editor = cell.querySelector('.input_area');\"\n",
    "              f\"editor.style.background='{color}';\"\n",
    "              \"this.parentNode.removeChild(this)\")\n",
    "    display(HTML(f'<img src onerror=\"{script}\">'))\n",
    "\n",
    "\n",
    "set_code_background(color='#fcf8e3')"
   ]
  },
  {
   "cell_type": "markdown",
   "metadata": {},
   "source": [
    "<div class=\"alert alert-block alert-warning\">\n",
    "<hr style=\"border:1.5px dashed gray\"></hr>\n",
    "\n",
    "## Extra Information\n",
    "### Clarification of `import` vs. `from import`\n",
    "\n",
    "`import abc` where `abc` = package or module\n",
    "\n",
    "`import abc.mno` where `mno` = module or subpackage\n",
    "\n",
    "`from abc import yxz` where `xyz` = module, subpackage, or method (see below)\n",
    "\n",
    "<br>\n",
    "\n",
    "### When using `import` vs. `from import` depends on the load object's type\n",
    "The following code does the same thing - both loading a module (`pyplot`) of a library/package (`matplotlib`):\n",
    "\n",
    "`import matplotlib.pyplot`\n",
    "\n",
    "`from matplotlib import pyplot`\n",
    "\n",
    "- Both of this work without error since `pyplot` is a module.\n",
    "- However if it were a method, then the `import matplotlib.pyplot as plt` would result in an error, as shown using `random.randint`\n",
    "\n",
    "`import random.randint` --> `ModuleNotFoundError: No module named 'random.randint'; 'random' is not a package`\n",
    "\n",
    "`from random import randint` --> runs without error since `from` allows you to load a method.\n",
    "\n",
    "<br>\n",
    "\n",
    "A **method** is very similar to a user-defined function except that it is **associated/attached** to another object, like a module or class.\n",
    "\n",
    "\n",
    "<br>\n",
    "\n",
    "In our lectures and homeworks, we create **isolated, independent user-defined functions** due to the simplity of our Jupyter-notebooks usage.\n",
    "\n",
    "See the code below for further clarity:\n",
    "\n",
    "<hr style=\"border:1.5px dashed gray\"></hr>"
   ]
  },
  {
   "cell_type": "code",
   "execution_count": 46,
   "metadata": {},
   "outputs": [],
   "source": [
    "import matplotlib\n",
    "import matplotlib.pyplot as plt\n",
    "from matplotlib import pyplot as plt"
   ]
  },
  {
   "cell_type": "code",
   "execution_count": 47,
   "metadata": {},
   "outputs": [
    {
     "name": "stdout",
     "output_type": "stream",
     "text": [
      "<class 'module'>\n",
      "<class 'module'>\n"
     ]
    }
   ],
   "source": [
    "print(type(matplotlib))\n",
    "print(type(matplotlib.pyplot))"
   ]
  },
  {
   "cell_type": "code",
   "execution_count": 48,
   "metadata": {},
   "outputs": [],
   "source": [
    "import random"
   ]
  },
  {
   "cell_type": "code",
   "execution_count": 49,
   "metadata": {},
   "outputs": [
    {
     "ename": "ModuleNotFoundError",
     "evalue": "No module named 'random.randint'; 'random' is not a package",
     "output_type": "error",
     "traceback": [
      "\u001b[0;31m---------------------------------------------------------------------------\u001b[0m",
      "\u001b[0;31mModuleNotFoundError\u001b[0m                       Traceback (most recent call last)",
      "Cell \u001b[0;32mIn[49], line 1\u001b[0m\n\u001b[0;32m----> 1\u001b[0m \u001b[38;5;28;01mimport\u001b[39;00m \u001b[38;5;21;01mrandom\u001b[39;00m\u001b[38;5;21;01m.\u001b[39;00m\u001b[38;5;21;01mrandint\u001b[39;00m\n",
      "\u001b[0;31mModuleNotFoundError\u001b[0m: No module named 'random.randint'; 'random' is not a package"
     ]
    }
   ],
   "source": [
    "import random.randint"
   ]
  },
  {
   "cell_type": "code",
   "execution_count": 50,
   "metadata": {},
   "outputs": [],
   "source": [
    "from random import randint"
   ]
  },
  {
   "cell_type": "code",
   "execution_count": 51,
   "metadata": {},
   "outputs": [
    {
     "name": "stdout",
     "output_type": "stream",
     "text": [
      "<class 'module'>\n",
      "<class 'method'>\n"
     ]
    }
   ],
   "source": [
    "print(type(random))\n",
    "print(type(randint))"
   ]
  }
 ],
 "metadata": {
  "kernelspec": {
   "display_name": "Python 3 (ipykernel)",
   "language": "python",
   "name": "python3"
  },
  "language_info": {
   "codemirror_mode": {
    "name": "ipython",
    "version": 3
   },
   "file_extension": ".py",
   "mimetype": "text/x-python",
   "name": "python",
   "nbconvert_exporter": "python",
   "pygments_lexer": "ipython3",
   "version": "3.8.10"
  }
 },
 "nbformat": 4,
 "nbformat_minor": 2
}
