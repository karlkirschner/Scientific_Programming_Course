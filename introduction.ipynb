{
 "cells": [
  {
   "cell_type": "markdown",
   "metadata": {},
   "source": [
    "<div class=\"alert block alert-info alert\">\n",
    "\n",
    "# <center> Scientific Programming in Python\n",
    "## <center>Karl N. Kirschner, Ph.D.<br>Bonn-Rhein-Sieg University of Applied Sciences<br>Sankt Augustin, Germany\n",
    "\n",
    "# <center> Course Introduction\n",
    "\n",
    "<hr style=\"border:2px solid gray\"></hr>"
   ]
  },
  {
   "cell_type": "markdown",
   "metadata": {},
   "source": [
    "## A sneak-peak into our future\n",
    "\n",
    "Highlights:\n",
    "- importing\n",
    "- range function (and unpacking using *)\n",
    "- readable object names (e.g. \"x_values\" versus something like \"x1\")\n",
    "- f-string statements\n",
    "- an object's type\n",
    "- list comprehension\n",
    "- proper and consistent use of spacing\n",
    "- plotting data"
   ]
  },
  {
   "cell_type": "code",
   "execution_count": 1,
   "metadata": {},
   "outputs": [
    {
     "name": "stdout",
     "output_type": "stream",
     "text": [
      "The x_values is of type: <class 'range'>.\n",
      "\n",
      "The values for the x-axis are: [1, 2, 3, 4, 5, 6, 7].\n",
      "The values for the y-axis are: [1, 4, 9, 16, 25, 36, 49].\n"
     ]
    },
    {
     "data": {
      "image/png": "[encoded data removed]",
      "text/plain": [
       "<Figure size 432x288 with 1 Axes>"
      ]
     },
     "metadata": {
      "needs_background": "light"
     },
     "output_type": "display_data"
    }
   ],
   "source": [
    "import matplotlib.pyplot as plt\n",
    "\n",
    "\n",
    "x_values = range(1, 8, 1)\n",
    "y_values = [item**2 for item in x_values]\n",
    "\n",
    "print(f'The x_values is of type: {type(x_values)}.\\n')\n",
    "\n",
    "print(f'The values for the x-axis are: {[*x_values]}.')  ## The * is an argument-unpacking operator.\n",
    "print(f'The values for the y-axis are: {y_values}.')\n",
    "\n",
    "plt.figure()\n",
    "\n",
    "plt.plot(x_values, y_values,\n",
    "         marker='.', markersize=24,\n",
    "         linewidth=5, linestyle='-',\n",
    "         color='red')\n",
    "\n",
    "plt.xlabel(\"X Label (unit)\")\n",
    "plt.ylabel(\"Y Label (unit)\")\n",
    "\n",
    "plt.show()"
   ]
  },
  {
   "cell_type": "markdown",
   "metadata": {},
   "source": [
    "<hr style=\"border:2px solid gray\"> </hr>\n",
    "\n",
    "# Keys to success in this course\n",
    "\n",
    "### <font color='dodgerblue'>$\\textrm{C}^3$</font>: code is  written <font color='dodgerblue'>concisely</font>, with a <font color='dodgerblue'>clear</font> thought process, and placed into <font color='dodgerblue'>context</font>\n",
    "\n",
    "1. **Concise**, cleanly written code and output\n",
    "    - Easy to read and understand\n",
    "    - Reduced chances of introduction programmer error\n",
    "    - Easier to debug\n",
    "\n",
    "\n",
    "2. **Clear** thought process with a logical grouping of code\n",
    "    - User-defined functions that contain a single concept\n",
    "    - Logical separation and isolation of individual ideas (e.g. using separate code cells & user-defined functions)\n",
    "    - Promotes usability and reusability in future code (i.e. user-defined functions)\n",
    "    - Easier to debug\n",
    "\n",
    "\n",
    "3. **Context** for the code's a) purpose and b) usage are provided\n",
    "    - Block comments, in-line comments and docstrings (e.g user-defined functions) - purpose, usage, special notes\n",
    "    - Jupyter-notebook markdown language (citations, data interpretation)\n",
    "\n",
    "\n",
    "### <font color='dodgerblue'>K.I.S.S.</font>: <font color='dodgerblue'>K</font>eep <font color='dodgerblue'>I</font>t (i.e. coding) <font color='dodgerblue'>S</font>imple & <font color='dodgerblue'>S</font>mart\n",
    "- $\\textrm{C}^3$ - concise, clear and context\n",
    "- Use of built-in functions over libraries with large overhead\n",
    "- User-defined functions for reproducibility, reuse, error reduction and isolating ideas\n",
    "\n",
    "<font color='dodgerblue'>$\\textrm{C}^3$ and K.I.S.S. are the same keys to success that are found in **all** scientific working.</font>\n",
    "\n",
    "### Academic Scholarship:\n",
    "\n",
    "**You will need to do this for your thesis.**\n",
    "\n",
    "- **Citing sources** of existing knowledge\n",
    "    - Providing credit to scientists and programmers\n",
    "    - Helps to enable reproducibility\n",
    "    - Indicates that you are well-educated (and you pay attention to details)\n",
    "    \n",
    "- **Communicating** your thoughts/ideas (less assumption occur then)\n",
    "\n",
    "- Writing\n",
    "    - $\\textrm{C}^3$\n",
    "    - K.I.S.S.\n",
    "    - Using complete sentences (i.e. a subject, a verb and usually an object)\n",
    "\n",
    "- Providing units for numbers when appropriate\n",
    "\n",
    "\n",
    "<hr style=\"border:2px solid gray\"> </hr>"
   ]
  },
  {
   "cell_type": "markdown",
   "metadata": {},
   "source": [
    "## Scientific Programming\n",
    "\n",
    "**Definition**\n",
    "1. Programming whose goal is for scientific usage (e.g. workflows, data analysis) and visualization.\n",
    "2. Learning to program in an academic, scholarly manner (i.e. wissenschaftliches Arbeit).\n",
    "\n",
    "**3 Ways to Think About It**\n",
    "1. **Usage**: to perform mathematics (from simple numerical computations to complex math models)\n",
    "\n",
    "2. **Practice**: to create while maintaining good scholarship\n",
    "    - knowing what is state-of-the-art\n",
    "    - careful, clear and supportive\n",
    "    - \"A machine requires precise instructions, which users often fail to supply\" [1]\n",
    "\n",
    "3. **Target**: to support science (doing research, data support and analysis)\n",
    "    - \"Scientists commonly use languages such as Python and R to conduct and **automate analyses**, because in this way they can **speed data crunching**, **increase reproducibility**, protect data from accidental deletion or alteration and handle data sets that would overwhelm commercial applications.\" [1]\n",
    "    - Create workflows to help do the research\n",
    "    - Create simulations (increasingly becoming more important in research)\n",
    "        - exploratory: for understanding raw data\n",
    "        - supportive: for strengthening interpretations of the data\n",
    "        - predictive: creating new ideas\n",
    "\n",
    "[1] Baker, Monya. \"Scientific computing: code alert.\" Nature 541, no. 7638 (2017): 563-565.\n",
    "\n",
    "<hr style=\"border:2px solid gray\"> </hr>"
   ]
  },
  {
   "cell_type": "markdown",
   "metadata": {},
   "source": [
    "<div class=\"alert block alert-info alert\">\n",
    "\n",
    "## Why is this Important?\n",
    "<br>\n",
    "\n",
    "- \"Societally important **science relies on models and the software implementing them**. The scientific community must ensure that the findings and recommendations put forth based on **those models conform to the highest scientific expectation**\" [2]\n",
    "\n",
    "[2] L. N. Joppa et al. , “Troubling Trends in Scientific Software Use,” Science, 340(6134), 814–815, 2013."
   ]
  },
  {
   "cell_type": "markdown",
   "metadata": {},
   "source": [
    "**Positive Example:**\n",
    "ChemRxiv (a pre-print science paper archive) sent out an email on March 20th, 2021 highlighting the recent research submissions on the Coronavirus. 9 out of the 10 highlights had a significant amount of computer modeling (computational chemistry). In other words, computer models were the first to get some research results that target the pandemic.\n",
    "\n",
    "\n",
    "![image](00_images/ChemRxiv_coronavirus_2020.png)\n",
    "\n",
    "\n",
    "**Negative Example:**\n",
    "- 2001 & 2005 Science peer-reviewed article <br> G. Changet al., “Retraction,” Science, 314(5807), 1875, 2006\n",
    "\n",
    "\n",
    "![image](00_images/ChangRRPCC2006.png)"
   ]
  },
  {
   "cell_type": "markdown",
   "metadata": {},
   "source": [
    "<hr style=\"border:2px solid gray\"> </hr>\n",
    "\n",
    "## Why Python?\n",
    "\n",
    "- Accessible and readable (especially to people outside of computer science)\n",
    "    - Natural scientists\n",
    "    - Engineers\n",
    "- Powerful due to the number of libraries available that are created by domain experts and programmers\n",
    "- Good for creating larger programs - create functions that do specific tasks\n",
    "- Call Bash commands from inside of python (via \"import os\")\n",
    "- Second most popular programming language\n",
    "\n",
    "![image](00_images/redmonk_2022.png)\n",
    "\n",
    "**Source**: Stephen O'Grady, \"The RedMonk Programming Language Rankings: January 2022\", https://redmonk.com/sogrady/2022/03/28/language-rankings-1-22/, March 28, 2022. Accessed on September 8, 2022.\n",
    "\n",
    "<hr style=\"border:1px solid gray\"> </hr>\n",
    "\n",
    "## What Disciplines use Python - Its \"Main\" Catagories\n",
    "\n",
    "For a Python job, one should know a) python's core and b) one of the following categories:\n",
    "\n",
    "- Web - flask, django, html, javascript\n",
    "- Data engineering (collecting data) - sql, airflow, luigi\n",
    "- Software engineering - git, unit testing, large codebases\n",
    "- Cyber security - requests, volatility, pyew, peepdf, penetration tests\n",
    "- **Data science / scientific python** (<font color='dodgerblue'>seeking new knowledge</font>) - Numpy, Pandas, Matplotlib, SciPy ... Sklearn, PyTorch, TensorFlow\n",
    "\n",
    "<hr style=\"border:2px solid gray\"> </hr>"
   ]
  },
  {
   "cell_type": "markdown",
   "metadata": {},
   "source": [
    "## Misc. Background\n",
    "\n",
    "- General-purpose object-oriented programming language\n",
    "\n",
    "\n",
    "- Python interpreter: python3 (python2 is out-of-date)\n",
    "\n",
    "\n",
    "- Contains programming common concepts like\n",
    "\n",
    "    - statements\n",
    "    - expressions\n",
    "    - operators\n",
    "    - modules\n",
    "    - methods\n",
    "    - classes\n",
    "\n",
    "\n",
    "- Contains Lists (e.g. movies = [ 'Star Wars', 'X-men', 'Forest Gump'])\n",
    "\n",
    "\n",
    "- Has IDE (Integrated Devlopment Environment): IDLE, PyCharm, atom, sublime\n",
    "\n",
    "\n",
    "- OS independent\n",
    "\n",
    "\n",
    "- Good for researchers dealing with lots of data (i.e. scientists)\n",
    "\n",
    "\n",
    "- Bad for developing fast parallel programs\n",
    "\n",
    "<hr style=\"border:2px solid gray\"> </hr>"
   ]
  },
  {
   "cell_type": "markdown",
   "metadata": {},
   "source": [
    "## Getting Python3\n",
    "\n",
    "- Having Python (and desired libraries) installed onto your computer\n",
    "    - It may already be installed\n",
    "    - If not: https://www.python.org/downloads\n",
    "\n",
    "\n",
    "- Miniconda (https://docs.conda.io/en/latest/miniconda.html)\n",
    "    - Open-source package and environment management system\n",
    "    - THE way to manage *isolated* Python environments and libraries\n",
    "\n",
    "<hr style=\"border:2px solid gray\"> </hr>"
   ]
  },
  {
   "cell_type": "markdown",
   "metadata": {},
   "source": [
    "## Create and execute a code (and demos)\n",
    "\n",
    "In order of general helpfulness and importance:\n",
    "\n",
    "1. <font color='dodgerblue'>**Google's Colaboratory**</font>: https://colab.research.google.com\n",
    "\n",
    "\n",
    "2. <font color='dodgerblue'>**Jupyter Notebooks**</font>: https://jupyter.org - Recommended for novice and experienced programmers\n",
    "\n",
    "\n",
    "3. Create a 'program_name.py' script using a text program and command-line execute\n",
    "    - Simple (e.g. texteditor, gedit) - warning, can be problematic\n",
    "    - IDE (sophisticated)\n",
    "        - [Sublime](https://www.sublimetext.com/)\n",
    "        - [PyCharm](https://www.jetbrains.com/pycharm/download)\n",
    "        - other integrated development environment [IDE]\n",
    "    - Execuate: In a terminal, type 'python program_name.py'\n",
    "\n",
    "\n",
    "4. Starting Python3 in a Bash terminal\n",
    "    - Exit: 'exit()' or 'Cntl D' ('Strg D')\n",
    "\n",
    "    Example: \n",
    "    - Linux: 'Menu' -> 'Terminal' -> 'python3'\n",
    "    - Macintosh: 'Application' -> 'Utilities' -> 'Terminal' -> 'python3'\n",
    "    - Windows: ? -> 'python3'\n",
    "\n",
    "    - **Warning**: Done in real-time, and thus is not saved\n",
    "\n",
    "<hr style=\"border:2px solid gray\"> </hr>"
   ]
  },
  {
   "cell_type": "markdown",
   "metadata": {},
   "source": [
    "## Important Information\n",
    "\n",
    "1. Lectures will be ca. 90 minutes long\n",
    "\n",
    "\n",
    "2. We will make use of LEA, including handing in projects\n",
    "\n",
    "\n",
    "3. I am available through university email - I tend to respond to these fairly quickly\n",
    "\n",
    "\n",
    "4. Individual/group online meetings can be made upon request\n",
    "\n",
    "\n",
    "5. We will use the WebEx software, and adjust if needed\n",
    "\n",
    "\n",
    "## Instructions for this class\n",
    "\n",
    "### Coding homework/projects:\n",
    "\n",
    "1. Will be turned in as a **Jupyter Notebook** file\n",
    "2. Include your name at the top of the notebook\n",
    "\n",
    "<hr style=\"border:2px solid gray\"> </hr>"
   ]
  },
  {
   "cell_type": "markdown",
   "metadata": {},
   "source": [
    "### Grades\n",
    "\n",
    "**See the course syllabus on LEA**\n",
    "\n",
    "**Homework/problems will be given points from 0-100**<br>\n",
    "\n",
    "**Mark given for point range**<br>\n",
    "1.0: 100 -- 95<br>\n",
    "1.3: 94 -- 90<br>\n",
    "1.7: 89 -- 85<br>\n",
    "2.0: 84 -- 80<br>\n",
    "2.3: 79 -- 75<br>\n",
    "2.7: 74 -- 70<br>\n",
    "3.0: 69 -- 65<br>\n",
    "3.3: 64 -- 60<br>\n",
    "3.7: 59 -- 55<br>\n",
    "4.0: 54 -- 50<br>\n",
    "5.0: 50 -- 0<br>\n",
    "\n",
    "**Marks Definition**<br>\n",
    "1.0: extremely well done work (i.e. \"perfect\" to \"excellent\")<br>\n",
    "1.3 -- 1.7: well done work, with minor blemishes (i.e. \"very good\" to \"good\")<br>\n",
    "2.0 -- 2.3: decently done work (i.e. \"good\")<br>\n",
    "2.7 -- 3.3: the work has some flaws, but overall is okay (i.e. \"average\")<br>\n",
    "3.7 -- 4.0: notably flawed work, but still acceptable (i.e. \"sufficient\").<br>\n",
    "5.0: very poorly done work (i.e. \"insufficient\")<br>\n",
    "\n",
    "**5 Grading Categories** that are weighted (i.e. relative importance) \n",
    "1. Code quality & design (weighted by 4)\n",
    "    - 6 pts: Solution/goal is well thought out\n",
    "    - 3 pts: Solution/goal is partially planned\n",
    "    - 0 pts: Solution/goal is unrefined\n",
    "2. Code execution & results (weighted by 4)\n",
    "    - 6 pts: Code runs correctly in its entirety\n",
    "    - 3 pts: Code runs, but only partially correct\n",
    "    - 0 pts: Code doesn’t run, or doesn’t give proper output\n",
    "3. Assignment requirements (weighted by 4)\n",
    "    - 6 pts: All of the requirements were fulfilled\n",
    "    - 3 pts: Half of the requirements were met\n",
    "    - 0 pts: Very little or none of the requirements were met\n",
    "4. Scientific programming (weighted by 4)\n",
    "    - 6 pts: Code completely follows scientific programming concepts\n",
    "    - 3 pts: Code somewhat follows scientific programming concepts\n",
    "    - 0 pts: Code does not conform to scientific programming concepts\n",
    "5. Creativity (weighted by 1)\n",
    "    - 4 pts: Code shows significant problem-solving skills, creativity, or robustness\n",
    "    - 2 pts: Code shows an average approach to problem-solving, creativity, or robustness\n",
    "    - 0 pts: Code does not show notable problem-solving skills, creativity, or robustness\n",
    "\n",
    "![image](00_images/Grading_SciPro.png)"
   ]
  },
  {
   "cell_type": "markdown",
   "metadata": {},
   "source": [
    "<hr style=\"border:2px solid gray\"> </hr>\n",
    "\n",
    "# Python Easter Eggs\n",
    "\n",
    "## 1. Python's philosophy through a poem.\n",
    "\n",
    "This poem contains many of the important points about Python and its coding"
   ]
  },
  {
   "cell_type": "code",
   "execution_count": 2,
   "metadata": {},
   "outputs": [
    {
     "name": "stdout",
     "output_type": "stream",
     "text": [
      "The Zen of Python, by Tim Peters\n",
      "\n",
      "Beautiful is better than ugly.\n",
      "Explicit is better than implicit.\n",
      "Simple is better than complex.\n",
      "Complex is better than complicated.\n",
      "Flat is better than nested.\n",
      "Sparse is better than dense.\n",
      "Readability counts.\n",
      "Special cases aren't special enough to break the rules.\n",
      "Although practicality beats purity.\n",
      "Errors should never pass silently.\n",
      "Unless explicitly silenced.\n",
      "In the face of ambiguity, refuse the temptation to guess.\n",
      "There should be one-- and preferably only one --obvious way to do it.\n",
      "Although that way may not be obvious at first unless you're Dutch.\n",
      "Now is better than never.\n",
      "Although never is often better than *right* now.\n",
      "If the implementation is hard to explain, it's a bad idea.\n",
      "If the implementation is easy to explain, it may be a good idea.\n",
      "Namespaces are one honking great idea -- let's do more of those!\n"
     ]
    }
   ],
   "source": [
    "import this"
   ]
  },
  {
   "cell_type": "markdown",
   "metadata": {},
   "source": [
    "Source code is actually (https://github.com/python/cpython/blob/main/Lib/this.py), which is done using a Rot13 substitution cipher (https://en.wikipedia.org/wiki/ROT13)."
   ]
  },
  {
   "cell_type": "markdown",
   "metadata": {},
   "source": [
    "## 2. Experience Antigravity"
   ]
  },
  {
   "cell_type": "code",
   "execution_count": 3,
   "metadata": {},
   "outputs": [],
   "source": [
    "import antigravity"
   ]
  }
 ],
 "metadata": {
  "kernelspec": {
   "display_name": "Python 3 (ipykernel)",
   "language": "python",
   "name": "python3"
  },
  "language_info": {
   "codemirror_mode": {
    "name": "ipython",
    "version": 3
   },
   "file_extension": ".py",
   "mimetype": "text/x-python",
   "name": "python",
   "nbconvert_exporter": "python",
   "pygments_lexer": "ipython3",
   "version": "3.8.10"
  }
 },
 "nbformat": 4,
 "nbformat_minor": 2
}
