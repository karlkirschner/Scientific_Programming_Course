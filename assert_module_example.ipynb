{
 "cells": [
  {
   "cell_type": "code",
   "execution_count": null,
   "id": "b5f8bd75",
   "metadata": {},
   "outputs": [],
   "source": [
    "from assert_example import simple_print"
   ]
  },
  {
   "cell_type": "code",
   "execution_count": null,
   "id": "ceb66628",
   "metadata": {},
   "outputs": [],
   "source": [
    "simple_print(number_1=4.0, number_2=2.5)"
   ]
  },
  {
   "cell_type": "code",
   "execution_count": null,
   "id": "73934e22",
   "metadata": {},
   "outputs": [],
   "source": []
  },
  {
   "cell_type": "code",
   "execution_count": null,
   "id": "8f11f849",
   "metadata": {},
   "outputs": [],
   "source": []
  }
 ],
 "metadata": {
  "kernelspec": {
   "display_name": "Python 3 (ipykernel)",
   "language": "python",
   "name": "python3"
  },
  "language_info": {
   "codemirror_mode": {
    "name": "ipython",
    "version": 3
   },
   "file_extension": ".py",
   "mimetype": "text/x-python",
   "name": "python",
   "nbconvert_exporter": "python",
   "pygments_lexer": "ipython3",
   "version": "3.8.10"
  }
 },
 "nbformat": 4,
 "nbformat_minor": 5
}
