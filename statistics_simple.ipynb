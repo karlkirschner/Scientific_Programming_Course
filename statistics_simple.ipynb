{
 "cells": [
  {
   "cell_type": "markdown",
   "metadata": {},
   "source": [
    "## The Statistics Library\n",
    "- Relaively Simple (compared to numpy or scipy)\n",
    "    - low number of other library dependencies (i.e. more \"usable\" by the community)\n",
    "- Relaively Slow (compared to numpy) - use with smaller data sets\n",
    "- More precise (compared to numpy) - when high precision is important"
   ]
  },
  {
   "cell_type": "markdown",
   "metadata": {},
   "source": [
    "## Mean, median, standard deviation and variance\n",
    "- Measures of the center in a numerical data\n",
    "    - Mean (i.e. average): can be influenced by several outliers\n",
    "    - Median: the middle value of sorted data (less influenced by outliers)\n",
    "- Standard Deviation:  a measure of the data's uncertainty\n",
    "- Variance: a measure of the data's spread"
   ]
  },
  {
   "cell_type": "code",
   "execution_count": null,
   "metadata": {},
   "outputs": [],
   "source": [
    "import matplotlib.pyplot as plt\n",
    "import statistics"
   ]
  },
  {
   "cell_type": "markdown",
   "metadata": {},
   "source": [
    "#### 3 Data sets \n",
    "- They have the same mean value\n",
    "- They have different median, standard deviation and variance\n",
    "- Asssumption: these values have 2 (e.g. 65.) or 3 (i.e. 110.) sigfigs"
   ]
  },
  {
   "cell_type": "code",
   "execution_count": null,
   "metadata": {},
   "outputs": [],
   "source": [
    "data_1 = [65, 75, 73, 50, 60, 64, 69, 62, 67, 85]\n",
    "data_2 = [85, 79, 57, 39, 45, 71, 67, 87, 91, 49]\n",
    "data_3 = [43, 51, 53, 110, 50, 48, 87, 69, 68, 91]"
   ]
  },
  {
   "cell_type": "code",
   "execution_count": null,
   "metadata": {},
   "outputs": [],
   "source": [
    "plt.figure()\n",
    "plt.xlim(0, 9)\n",
    "plt.ylim(30, 120)\n",
    "\n",
    "plt.plot(data_1, marker='.', markersize=10)\n",
    "plt.show()"
   ]
  },
  {
   "cell_type": "markdown",
   "metadata": {},
   "source": [
    "https://matplotlib.org/3.2.1/api/markers_api.html"
   ]
  },
  {
   "cell_type": "code",
   "execution_count": null,
   "metadata": {},
   "outputs": [],
   "source": [
    "plt.figure()\n",
    "plt.xlim(0, 9)\n",
    "plt.ylim(30, 120)\n",
    "\n",
    "plt.plot(data_2)\n",
    "plt.show()"
   ]
  },
  {
   "cell_type": "code",
   "execution_count": null,
   "metadata": {},
   "outputs": [],
   "source": [
    "plt.figure()\n",
    "plt.xlim(0, 9)\n",
    "plt.ylim(30, 120)\n",
    "\n",
    "plt.plot(data_3)\n",
    "plt.show()"
   ]
  },
  {
   "cell_type": "markdown",
   "metadata": {},
   "source": [
    "---\n",
    "## Calculate some common statistics (and show on plot)"
   ]
  },
  {
   "cell_type": "markdown",
   "metadata": {},
   "source": [
    "### Data Set 1"
   ]
  },
  {
   "cell_type": "code",
   "execution_count": null,
   "metadata": {},
   "outputs": [],
   "source": [
    "data_1.sort()\n",
    "data_1"
   ]
  },
  {
   "cell_type": "code",
   "execution_count": null,
   "metadata": {},
   "outputs": [],
   "source": [
    "print(f'Mean: {statistics.mean(data_1)}')\n",
    "print(f'Median: {statistics.median(data_1)}')\n",
    "print(f'StDev: {statistics.stdev(data_1)}')\n",
    "print(f'Variance: {statistics.variance(data_1)}')"
   ]
  },
  {
   "cell_type": "markdown",
   "metadata": {},
   "source": [
    "Mean: read\n",
    "\n",
    "Median: green"
   ]
  },
  {
   "cell_type": "code",
   "execution_count": null,
   "metadata": {},
   "outputs": [],
   "source": [
    "plt.figure()\n",
    "plt.xlim(0, 9)\n",
    "plt.ylim(30, 120)\n",
    "\n",
    "plt.axhline(y=67, color='red')\n",
    "plt.axhline(y=66, color='green')\n",
    "\n",
    "plt.plot(data_1, marker='.', markersize=10)\n",
    "plt.show()"
   ]
  },
  {
   "cell_type": "markdown",
   "metadata": {},
   "source": [
    "### Data Set 2"
   ]
  },
  {
   "cell_type": "code",
   "execution_count": null,
   "metadata": {},
   "outputs": [],
   "source": [
    "print(f'Mean: {statistics.mean(data_2)}')\n",
    "print(f'Median: {statistics.median(data_2)}')\n",
    "print(f'StDev: {statistics.stdev(data_2)}')\n",
    "print(f'Variance: {statistics.variance(data_2)}')"
   ]
  },
  {
   "cell_type": "code",
   "execution_count": null,
   "metadata": {},
   "outputs": [],
   "source": [
    "plt.figure()\n",
    "plt.xlim(0, 9)\n",
    "plt.ylim(30, 120)\n",
    "\n",
    "plt.axhline(y=67, color='red')\n",
    "plt.axhline(y=69, color='green')\n",
    "\n",
    "plt.plot(data_2, marker='.', markersize=10)\n",
    "plt.show()"
   ]
  },
  {
   "cell_type": "markdown",
   "metadata": {},
   "source": [
    "### Data Set 3"
   ]
  },
  {
   "cell_type": "code",
   "execution_count": null,
   "metadata": {},
   "outputs": [],
   "source": [
    "print(f'Mean: {statistics.mean(data_3)}')\n",
    "print(f'Median: {statistics.median(data_3)}')\n",
    "print(f'StDev: {statistics.stdev(data_3)}')\n",
    "print(f'Variance: {statistics.variance(data_3)}')"
   ]
  },
  {
   "cell_type": "code",
   "execution_count": null,
   "metadata": {},
   "outputs": [],
   "source": [
    "plt.figure()\n",
    "plt.xlim(0, 9)\n",
    "plt.ylim(30, 120)\n",
    "\n",
    "plt.axhline(y=67, color='red')\n",
    "plt.axhline(y=60, color='green')\n",
    "\n",
    "plt.plot(data_3, marker='.', markersize=10)\n",
    "plt.show()"
   ]
  },
  {
   "cell_type": "markdown",
   "metadata": {},
   "source": [
    "## How might the above code been done better?\n",
    "\n",
    "- reduce possible inclusion of errors"
   ]
  },
  {
   "cell_type": "code",
   "execution_count": null,
   "metadata": {},
   "outputs": [],
   "source": [
    "def do_statistics(working_data=None):\n",
    "    print(f'Mean: {statistics.mean(working_data)}')\n",
    "    print(f'Median: {statistics.median(working_data)}')\n",
    "    print(f'StDev: {statistics.stdev(working_data)}')\n",
    "    print(f'Variance: {statistics.variance(working_data)}')\n",
    "\n",
    "do_statistics(data_1)"
   ]
  },
  {
   "cell_type": "markdown",
   "metadata": {},
   "source": [
    "---\n",
    "Source: https://www.siyavula.com/read/maths/grade-11/statistics/11-statistics-04"
   ]
  },
  {
   "cell_type": "code",
   "execution_count": null,
   "metadata": {},
   "outputs": [],
   "source": []
  }
 ],
 "metadata": {
  "kernelspec": {
   "display_name": "Python 3 (ipykernel)",
   "language": "python",
   "name": "python3"
  },
  "language_info": {
   "codemirror_mode": {
    "name": "ipython",
    "version": 3
   },
   "file_extension": ".py",
   "mimetype": "text/x-python",
   "name": "python",
   "nbconvert_exporter": "python",
   "pygments_lexer": "ipython3",
   "version": "3.8.10"
  }
 },
 "nbformat": 4,
 "nbformat_minor": 2
}
