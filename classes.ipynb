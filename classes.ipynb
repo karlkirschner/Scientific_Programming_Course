{
 "cells": [
  {
   "cell_type": "markdown",
   "metadata": {},
   "source": [
    "---\n",
    "# Classes\n",
    "Object-oriented programming\n",
    "- Write a class that represents a \"real-world\" thing or situation\n",
    "    - a set of instructions for making an instance (see below)\n",
    "- Call that class to create inidividual objects\n",
    "\n",
    "- By convention, classes are capitalized"
   ]
  },
  {
   "cell_type": "code",
   "execution_count": null,
   "metadata": {},
   "outputs": [],
   "source": [
    "class Dog():\n",
    "    \"\"\"A Dog model\"\"\"\n",
    "    \n",
    "    def __init__(self, name, age):\n",
    "        \"Initialize name and age attributes\"\n",
    "        self.name = name\n",
    "        self.age = age\n",
    "        self.breed = 'mutt' ## a default value\n",
    "\n",
    "    def sit(self):\n",
    "        \"Simulate a dog sitting due to a command given.\"\n",
    "        print(\"{0} is now sitting.\".format(self.name))\n",
    "\n",
    "\n",
    "    def roll_over(self):\n",
    "        \"Simulate a dog rolling over due to a command given.\"\n",
    "        print(\"{0} is now rolling over.\".format(self.name))"
   ]
  },
  {
   "cell_type": "markdown",
   "metadata": {},
   "source": [
    "#### The first \"method\"\n",
    "- A method is a function that is part of a class\n",
    "\n",
    "def \\__init__(self, name, age):\n",
    "\n",
    "- A special Python notation that will run automatically when we create a new instance (i.e. call the class)\n",
    "    - the two leading and trailing underscores indicate special methods (aka \"magic methods\" or \"dunder methods\")\n",
    "    - more about underscores: https://www.datacamp.com/community/tutorials/role-underscore-python\n",
    "    \n",
    "\n",
    "- Three parameters\n",
    "    - self (required and must come first)\n",
    "    - name and dog (i.e. attributes)\n",
    "    \n",
    "\n",
    "- Two more methods\n",
    "    - sit and roll_over\n",
    "    - in a real coding situation, these methods would contain code that make a robot dog sit or roll over"
   ]
  },
  {
   "cell_type": "markdown",
   "metadata": {},
   "source": [
    "#### Making an instance from a class\n",
    "- convention is to have instances as lower case named"
   ]
  },
  {
   "cell_type": "code",
   "execution_count": null,
   "metadata": {},
   "outputs": [],
   "source": [
    "emma_dog = Dog('Emma', 6)"
   ]
  },
  {
   "cell_type": "code",
   "execution_count": null,
   "metadata": {},
   "outputs": [],
   "source": [
    "## access an instance's (i.e. emma_dog) attribute (e.g. age) of the class (i.e. dog)\n",
    "print('My dog, {0}, is a {1} and she is {2} years old.'.format(\n",
    "      emma_dog.name, emma_dog.breed, emma_dog.age))"
   ]
  },
  {
   "cell_type": "code",
   "execution_count": null,
   "metadata": {},
   "outputs": [],
   "source": [
    "emma_dog.sit()"
   ]
  },
  {
   "cell_type": "code",
   "execution_count": null,
   "metadata": {},
   "outputs": [],
   "source": [
    "emma_dog.roll_over()"
   ]
  },
  {
   "cell_type": "markdown",
   "metadata": {},
   "source": [
    "#### Modify an attaribute value directly"
   ]
  },
  {
   "cell_type": "code",
   "execution_count": null,
   "metadata": {},
   "outputs": [],
   "source": [
    "emma_dog.breed = 'terrier'\n",
    "\n",
    "print('My dog, {0}, is a {1} and she is {2} years old.'.format(\n",
    "      emma_dog.name, emma_dog.breed, emma_dog.age))"
   ]
  },
  {
   "cell_type": "markdown",
   "metadata": {},
   "source": [
    "#### Modify an attaribute value through a new method"
   ]
  },
  {
   "cell_type": "code",
   "execution_count": null,
   "metadata": {},
   "outputs": [],
   "source": [
    "emma_dog = Dog('Emma', 6)\n",
    "print('My dog, {0}, is a {1} and she is {2} years old.'.format(\n",
    "      emma_dog.name, emma_dog.breed, emma_dog.age))"
   ]
  },
  {
   "cell_type": "code",
   "execution_count": null,
   "metadata": {},
   "outputs": [],
   "source": [
    "class Dog():\n",
    "    \"\"\"A Dog model\"\"\"\n",
    "    \n",
    "    def __init__(self, name, age):\n",
    "        \"\"\"Initialize name and age attributes\"\"\"\n",
    "        self.name = name\n",
    "        self.age = age\n",
    "        self.breed = 'mutt' ## a default value\n",
    "\n",
    "    def sit(self):\n",
    "        \"\"\"Simulate a dog sitting due to a command given.\"\"\"\n",
    "        print(\"{0} is now sitting.\".format(self.name))\n",
    "\n",
    "\n",
    "    def roll_over(self):\n",
    "        \"\"\"Simulate a dog rolling over due to a command given.\"\"\"\n",
    "        print(\"{0} is now rolling over.\".format(self.name))\n",
    "\n",
    "\n",
    "    def update_breed(self, new_breed):\n",
    "        \"\"\"Set breed to new value.\"\"\"\n",
    "        self.breed = new_breed\n",
    "        "
   ]
  },
  {
   "cell_type": "code",
   "execution_count": null,
   "metadata": {},
   "outputs": [],
   "source": [
    "emma_dog.update_breed('chihuahua')\n",
    "\n",
    "print('My dog, {0}, is a {1} and she is {2} years old.'.format(\n",
    "      emma_dog.name, emma_dog.breed, emma_dog.age))"
   ]
  },
  {
   "cell_type": "code",
   "execution_count": null,
   "metadata": {},
   "outputs": [],
   "source": [
    "emma_dog.update_breed('terrier')\n",
    "\n",
    "print('My dog, {0}, is a {1} and she is {2} years old.'.format(\n",
    "      emma_dog.name, emma_dog.breed, emma_dog.age))"
   ]
  },
  {
   "cell_type": "markdown",
   "metadata": {},
   "source": [
    "### A word of caution\n",
    "- Bypass internal checks written into methods"
   ]
  },
  {
   "cell_type": "code",
   "execution_count": null,
   "metadata": {},
   "outputs": [],
   "source": [
    "class Dog():\n",
    "    \"\"\"A Dog model\"\"\"\n",
    "    \n",
    "    def __init__(self, name, age):\n",
    "        \"\"\"Initialize name and age attributes\"\"\"\n",
    "        self.name = name\n",
    "        self.age = age\n",
    "        self.breed = 'mutt' ## a default value\n",
    "\n",
    "    def sit(self):\n",
    "        \"\"\"Simulate a dog sitting due to a command given.\"\"\"\n",
    "        print(\"{0} is now sitting.\".format(self.name))\n",
    "\n",
    "\n",
    "    def roll_over(self):\n",
    "        \"\"\"Simulate a dog rolling over due to a command given.\"\"\"\n",
    "        print(\"{0} is now rolling over.\".format(self.name))\n",
    "\n",
    "\n",
    "    def update_breed(self, new_breed):\n",
    "        \"\"\"Set breed to new value.\"\"\"\n",
    "        if new_breed == 'pug':\n",
    "            print(\"Pugs are not allowed.\")\n",
    "        else:\n",
    "            self.breed = new_breed\n",
    "        \n",
    "emma_dog = Dog('Emma', 6)"
   ]
  },
  {
   "cell_type": "code",
   "execution_count": null,
   "metadata": {},
   "outputs": [],
   "source": [
    "emma_dog.update_breed('pug')"
   ]
  },
  {
   "cell_type": "markdown",
   "metadata": {},
   "source": [
    "That is all okay. But it can be bypassed by setting the attribute directly."
   ]
  },
  {
   "cell_type": "code",
   "execution_count": null,
   "metadata": {},
   "outputs": [],
   "source": [
    "emma_dog.breed = 'pug'\n",
    "print('My dog, {0}, is a {1} and she is {2} years old.'.format(\n",
    "      emma_dog.name, emma_dog.breed, emma_dog.age))"
   ]
  },
  {
   "cell_type": "markdown",
   "metadata": {},
   "source": [
    "---\n",
    "### Example 2: UFO"
   ]
  },
  {
   "cell_type": "code",
   "execution_count": null,
   "metadata": {},
   "outputs": [],
   "source": [
    "class Ufo():\n",
    "    \"\"\"A UFO model\"\"\"\n",
    "    \n",
    "    def __init__(self, origin, attitude):\n",
    "        \"\"\"Initialize the UFO's physical origin and if they are friendly\"\"\"\n",
    "        self.origin = origin\n",
    "        self.friendly = attitude\n",
    "\n",
    "\n",
    "    def species(self):\n",
    "        \"\"\"The alien's species that controls the UFO\"\"\"\n",
    "\n",
    "\n",
    "    def craft_shape(self):\n",
    "        \"\"\"The UFO's shape\"\"\"\n",
    "        #print(self.origin.)\n"
   ]
  },
  {
   "cell_type": "code",
   "execution_count": null,
   "metadata": {},
   "outputs": [],
   "source": [
    "first_ufo = Ufo('mars', 'friendly')\n",
    "first_ufo.origin"
   ]
  },
  {
   "cell_type": "code",
   "execution_count": null,
   "metadata": {},
   "outputs": [],
   "source": [
    "second_ufo = Ufo('venus', 'unfriendly')\n",
    "second_ufo.origin"
   ]
  },
  {
   "cell_type": "code",
   "execution_count": null,
   "metadata": {},
   "outputs": [],
   "source": [
    "print('The first UFO is from {0} and they are {1}.'.format(first_ufo.origin, first_ufo.friendly))\n",
    "print('The second UFO is from {0} and they are {1}.'.format(second_ufo.origin, second_ufo.friendly))"
   ]
  },
  {
   "cell_type": "code",
   "execution_count": null,
   "metadata": {},
   "outputs": [],
   "source": []
  }
 ],
 "metadata": {
  "kernelspec": {
   "display_name": "Python 3",
   "language": "python",
   "name": "python3"
  },
  "language_info": {
   "codemirror_mode": {
    "name": "ipython",
    "version": 3
   },
   "file_extension": ".py",
   "mimetype": "text/x-python",
   "name": "python",
   "nbconvert_exporter": "python",
   "pygments_lexer": "ipython3",
   "version": "3.8.1"
  }
 },
 "nbformat": 4,
 "nbformat_minor": 2
}
