{
 "cells": [
  {
   "cell_type": "markdown",
   "metadata": {},
   "source": [
    "<div class=\"alert block alert-info alert\">\n",
    "\n",
    "# <center> Scientific Programming in Python\n",
    "## <center> Karl N. Kirschner<br>Bonn-Rhein-Sieg University of Applied Sciences<br>Sankt Augustin, Germany\n",
    "\n",
    "# <center> Classes  </center>\n",
    "\n",
    "<center> \"Classes provide a means of <strong>bundling data</strong> and <strong>functionality together</strong>.\" [1] </center>\n",
    "\n",
    "<br>\n",
    "    \n",
    "**Object-oriented programming**\n",
    "    \n",
    "- Write a class that represents a \"real-world\" thing or situation\n",
    "    - a set of instructions for making an instance (see below)\n",
    "\n",
    "\n",
    "- Call that class to create inidividual objects\n",
    "\n",
    "- According to PEP8:\n",
    "    - **classes** are **capitalized** and uses **CamalCase**\n",
    "    - **methods** are lowercase and uses **pot_hole**\n",
    "\n",
    "#### Sources\n",
    "1. Python Software Foundation, \"Classes\" Lasted Accessed on 21.02.2024 (https://docs.python.org/3/tutorial/classes.html#classes)\n",
    "2. \"What does __init__ and self do in python?\" Reddit's \n",
    "r/learnpython, Lasted Accessed on 21.02.2024 (https://www.reddit.com/r/learnpython/comments/19aghsb/comment/kimgw46/?utm_source=share&utm_medium=web3x&utm_name=web3xcss&utm_term=1&utm_content=share_button)\n",
    "3. GeeksforGeeks \"Access Modifiers in Python: Public, Private and Protected\" Lasted Accessed on 21.02.2024 (https://www.geeksforgeeks.org/access-modifiers-in-python-public-private-and-protected)\n",
    "\n",
    "<hr style=\"border:2px solid gray\"></hr>"
   ]
  },
  {
   "cell_type": "markdown",
   "metadata": {},
   "source": [
    "## Do we need `Classes`?\n",
    "\n",
    "Strickly speaking, we don't.\n",
    "\n",
    "However, they do have advantages -- just like user-defined functions -- which includes improving a code's:\n",
    "\n",
    "- readability\n",
    "\n",
    "\n",
    "- organization (i.e., **contextual idea/concepts grouping**) - at a higher level than user-defined functions\n",
    "    - Put related idea/concepts together under one header\n",
    "\n",
    "\n",
    "- usability\n",
    "\n",
    "\n",
    "- encapsulation: restricting variable access and methods to help prevent accidental modification\n",
    "    - enables a separation between what the \"outside world\" knows about an object versus what the object knows about itself [2]\n",
    "    - protected and private variable (indicated using a single leading underscore (i.e., `_`) in the naming):\n",
    "        - \" ...there is a convention that is followed by most Python code: a name prefixed with an underscore (e.g. `_spam`) should be treated as a non-public part of the API (whether it is a function, a method or a data member).\" [1, 3]\n",
    "        - public: `some_name`\n",
    "        - protected: `_some_name`\n",
    "        - private: `__some_name`\n",
    "        \n",
    "    - also is used to \"hide\" data\n",
    "\n",
    "\n",
    "- inheritance"
   ]
  },
  {
   "cell_type": "code",
   "execution_count": null,
   "metadata": {},
   "outputs": [],
   "source": [
    "class Dog():\n",
    "    \"\"\" A dog model.\n",
    "    \"\"\"\n",
    "    \n",
    "    def __init__(self, name, age):\n",
    "        'Initialize name and age attributes'\n",
    "        self.name = name     ## public variable\n",
    "        self.age = age\n",
    "        self.breed = 'mutt'  ## a default value\n",
    "\n",
    "    def sit(self):\n",
    "        'Simulates sitting due to a command given.'\n",
    "        print(f'{self.name} is now sitting.')\n",
    "\n",
    "\n",
    "    def roll_over(self):\n",
    "        'Simulates rolling over due to a command given.'\n",
    "        print(f'{self.name} is now rolling over.')"
   ]
  },
  {
   "cell_type": "markdown",
   "metadata": {},
   "source": [
    "#### The first \"method\"\n",
    "A method is a function that is part of a class.\n",
    "\n",
    "`def __init__(self, name, age)`:\n",
    "\n",
    "- A special Python method that will **automatically run** when we create a new instance (i.e., call the class)\n",
    "    - the two leading and trailing underscores (`__`) indicate special methods (a.k.a. \"magic methods\" or \"dunder methods\")\n",
    "    - more about underscores (`_`): https://www.datacamp.com/community/tutorials/role-underscore-python\n",
    "\n",
    "- `__init__` **initialise** the created class **instance** (i.e., setting the attributes that it expects it to have)\n",
    "\n",
    "- `self` refers to the **current instance**\n",
    "    - the name **self** is agreed upon as standard practice (however, you could use something different, but this is not recommended)\n",
    "\n",
    "\n",
    "- Three parameters are required\n",
    "    - **self** (**required** and must come **first**)\n",
    "    - **name** and **dog** (i.e., attributes)\n",
    "    \n",
    "\n",
    "- Two more methods\n",
    "    - sit and roll_over\n",
    "    - in a real coding situation, these methods would contain code that make a robot dog sit or roll over"
   ]
  },
  {
   "cell_type": "markdown",
   "metadata": {},
   "source": [
    "#### Making a new instance from a class\n",
    "- Convention is to have **instances** as **lower case**"
   ]
  },
  {
   "cell_type": "code",
   "execution_count": null,
   "metadata": {},
   "outputs": [],
   "source": [
    "pet_1 = Dog('Emma', 6)"
   ]
  },
  {
   "cell_type": "markdown",
   "metadata": {},
   "source": [
    "What happened here:\n",
    "1. A new instance of a `Dog` object is created\n",
    "2. `__init__` is called and makes the assignments to the `name` and `age` variables\n",
    "3. The new `Dog` object is assigned to the variable `pet_1`\n",
    "\n",
    "\n",
    "\n",
    "##### Accessing the newly made instance\n",
    "To access an instance's (i.e., `pet_1`) attribute (e.g., `age`) of the class (i.e., `Dog`):"
   ]
  },
  {
   "cell_type": "code",
   "execution_count": null,
   "metadata": {},
   "outputs": [],
   "source": [
    "print(f'My dog, {pet_1.name}, is a {pet_1.breed} and she is {pet_1.age} years old.')"
   ]
  },
  {
   "cell_type": "code",
   "execution_count": null,
   "metadata": {},
   "outputs": [],
   "source": [
    "pet_1.sit()"
   ]
  },
  {
   "cell_type": "code",
   "execution_count": null,
   "metadata": {},
   "outputs": [],
   "source": [
    "pet_1.roll_over()"
   ]
  },
  {
   "cell_type": "markdown",
   "metadata": {},
   "source": [
    "<hr style=\"border:2px solid gray\"></hr>\n",
    "\n",
    "#### Modify an attribute value directly"
   ]
  },
  {
   "cell_type": "code",
   "execution_count": null,
   "metadata": {},
   "outputs": [],
   "source": [
    "pet_1.breed = 'terrier'\n",
    "\n",
    "print(f'My dog, {pet_1.name}, is a {pet_1.breed} and she is {pet_1.age} years old.')"
   ]
  },
  {
   "cell_type": "markdown",
   "metadata": {},
   "source": [
    "#### Modify an attribute value through a new method"
   ]
  },
  {
   "cell_type": "code",
   "execution_count": null,
   "metadata": {},
   "outputs": [],
   "source": [
    "pet_2 = Dog('Emma', 6)\n",
    "\n",
    "print(f'My dog, {pet_2.name}, is a {pet_2.breed} and she is {pet_2.age} years old.')"
   ]
  },
  {
   "cell_type": "markdown",
   "metadata": {},
   "source": [
    "<hr style=\"border:2px solid gray\"></hr>\n",
    "\n",
    "Alternatively, we can create another method that does the updates an attribute:"
   ]
  },
  {
   "cell_type": "code",
   "execution_count": null,
   "metadata": {},
   "outputs": [],
   "source": [
    "class Dog():\n",
    "    \"\"\"A Dog model\"\"\"\n",
    "    \n",
    "    def __init__(self, name, age):\n",
    "        \"\"\"Initialize name and age attributes\"\"\"\n",
    "        self.name = name\n",
    "        self.age = age\n",
    "        self.breed = 'mutt'\n",
    "\n",
    "    def sit(self):\n",
    "        \"\"\"Simulate a dog sitting due to a command given.\"\"\"\n",
    "        print(\"{0} is now sitting.\".format(self.name))\n",
    "\n",
    "\n",
    "    def roll_over(self):\n",
    "        \"\"\"Simulate a dog rolling over due to a command given.\"\"\"\n",
    "        print(\"{0} is now rolling over.\".format(self.name))\n",
    "\n",
    "\n",
    "    def update_breed(self, new_breed):\n",
    "        \"\"\"Set breed to new value.\"\"\"\n",
    "        self.breed = new_breed"
   ]
  },
  {
   "cell_type": "code",
   "execution_count": null,
   "metadata": {},
   "outputs": [],
   "source": [
    "pet_3 = Dog('Emma', 6)"
   ]
  },
  {
   "cell_type": "code",
   "execution_count": null,
   "metadata": {},
   "outputs": [],
   "source": [
    "pet_3.update_breed('chihuahua')\n",
    "\n",
    "print(f'My dog, {pet_3.name}, is a {pet_3.breed} and she is {pet_3.age} years old.')"
   ]
  },
  {
   "cell_type": "code",
   "execution_count": null,
   "metadata": {},
   "outputs": [],
   "source": [
    "pet_3.update_breed('terrier')\n",
    "\n",
    "print(f'My dog, {pet_3.name}, is a {pet_3.breed} and she is {pet_3.age} years old.')"
   ]
  },
  {
   "cell_type": "markdown",
   "metadata": {},
   "source": [
    "<hr style=\"border:2px solid gray\"></hr>\n",
    "\n",
    "### A word of caution\n",
    "- Bypass internal checks written into methods"
   ]
  },
  {
   "cell_type": "code",
   "execution_count": null,
   "metadata": {},
   "outputs": [],
   "source": [
    "class Dog():\n",
    "    \"\"\"A Dog model\"\"\"\n",
    "    \n",
    "    def __init__(self, name, age):\n",
    "        \"\"\"Initialize name and age attributes\"\"\"\n",
    "        self.name = name\n",
    "        self.age = age\n",
    "        self.breed = 'mutt'\n",
    "\n",
    "    def sit(self):\n",
    "        \"\"\"Simulate a dog sitting due to a command given.\"\"\"\n",
    "        print(\"{0} is now sitting.\".format(self.name))\n",
    "\n",
    "\n",
    "    def roll_over(self):\n",
    "        \"\"\"Simulate a dog rolling over due to a command given.\"\"\"\n",
    "        print(\"{0} is now rolling over.\".format(self.name))\n",
    "\n",
    "\n",
    "    def update_breed(self, new_breed):\n",
    "        \"\"\"Set breed to new value.\"\"\"\n",
    "        if new_breed == 'pug':\n",
    "            print(\"Pugs are not allowed.\")\n",
    "        else:\n",
    "            self.breed = new_breed"
   ]
  },
  {
   "cell_type": "code",
   "execution_count": null,
   "metadata": {},
   "outputs": [],
   "source": [
    "pet_4 = Dog('Emma', 6)\n",
    "\n",
    "pet_4.update_breed('pug')"
   ]
  },
  {
   "cell_type": "markdown",
   "metadata": {},
   "source": [
    "That is all okay.\n",
    "\n",
    "But the `update_breed` can be bypassed by setting the attribute directly."
   ]
  },
  {
   "cell_type": "code",
   "execution_count": null,
   "metadata": {},
   "outputs": [],
   "source": [
    "pet_4.breed = 'pug'\n",
    "\n",
    "print(f'My dog, {pet_4.name}, is a {pet_4.breed} and she is {pet_4.age} years old.')"
   ]
  },
  {
   "cell_type": "markdown",
   "metadata": {},
   "source": [
    "<hr style=\"border:2px solid gray\"></hr>\n",
    "\n",
    "## Encapsulation\n",
    "\n",
    "Create a variable that is private the represents an animal's species:"
   ]
  },
  {
   "cell_type": "code",
   "execution_count": null,
   "metadata": {},
   "outputs": [],
   "source": [
    "class Dog():\n",
    "    \"\"\" A dog model.\n",
    "    \"\"\"\n",
    "    \n",
    "    def __init__(self, name, age):\n",
    "        'Initialize name and age attributes'\n",
    "        self.name = name\n",
    "        self.age = age\n",
    "        self.breed = 'mutt'\n",
    "        \n",
    "        self._species = 'mammal'\n",
    "\n",
    "    def sit(self):\n",
    "        'Simulates sitting due to a command given.'\n",
    "        print(f'{self.name} is now sitting.')\n",
    "\n",
    "\n",
    "    def roll_over(self):\n",
    "        'Simulates rolling over due to a command given.'\n",
    "        print(f'{self.name} is now rolling over.')"
   ]
  },
  {
   "cell_type": "code",
   "execution_count": null,
   "metadata": {},
   "outputs": [],
   "source": [
    "pet_5 = Dog('Emma', 6)\n",
    "\n",
    "print(f'My dog (a {pet_5._species}), {pet_5.name}, is a {pet_5.breed} and she is {pet_5.age} years old.')"
   ]
  },
  {
   "cell_type": "markdown",
   "metadata": {},
   "source": [
    "Since `_species` is a private variable, one still runs the risk of being a able to modify it:"
   ]
  },
  {
   "cell_type": "code",
   "execution_count": null,
   "metadata": {},
   "outputs": [],
   "source": [
    "pet_5._species = 'bird'\n",
    "\n",
    "print(f'My dog (a {pet_5._species}), {pet_5.name}, is a {pet_5.breed} and she is {pet_5.age} years old.')"
   ]
  },
  {
   "cell_type": "markdown",
   "metadata": {},
   "source": [
    "### An alternative example"
   ]
  },
  {
   "cell_type": "code",
   "execution_count": null,
   "metadata": {},
   "outputs": [],
   "source": [
    "class BankAccount:\n",
    "    ''' Example to show how public, protected and private variables\n",
    "            and modules work (i.e., name, _name, and __name).\n",
    "    \n",
    "        Original source:\n",
    "        https://www.tutorialspoint.com/access-modifiers-in-python-public-private-and-protected\n",
    "    '''\n",
    "    def __init__(self, account_number, nationality):\n",
    "        self.__account_number = account_number\n",
    "        self.nationality = nationality\n",
    "\n",
    "\n",
    "    def display_nationality(self):\n",
    "        ''' A public module (no underscore in name)\n",
    "        '''\n",
    "        print(\"Nationality:\", self.nationality)\n",
    "\n",
    "\n",
    "    def _display_nationality(self):\n",
    "        ''' A protected module (1 underscore in name)\n",
    "        '''\n",
    "        print(\"Nationality:\", self.nationality)\n",
    "\n",
    "\n",
    "    def __display_nationality(self):\n",
    "        ''' A private module (2 underscore in name)\n",
    "        '''\n",
    "        print(\"Nationality:\", self.nationality)"
   ]
  },
  {
   "cell_type": "code",
   "execution_count": null,
   "metadata": {},
   "outputs": [],
   "source": [
    "person_1 = BankAccount(1234567890, 'DE')\n",
    "\n",
    "person_1.display_nationality()"
   ]
  },
  {
   "cell_type": "code",
   "execution_count": null,
   "metadata": {},
   "outputs": [],
   "source": [
    "person_1._display_nationality()"
   ]
  },
  {
   "cell_type": "code",
   "execution_count": null,
   "metadata": {},
   "outputs": [],
   "source": [
    "person_1.__display_nationality()"
   ]
  },
  {
   "cell_type": "markdown",
   "metadata": {},
   "source": [
    "<hr style=\"border:2px solid gray\"></hr>\n",
    "\n",
    "## Example 2: UFO"
   ]
  },
  {
   "cell_type": "code",
   "execution_count": null,
   "metadata": {},
   "outputs": [],
   "source": [
    "class Ufo():\n",
    "    \"\"\"A UFO model\"\"\"\n",
    "    \n",
    "    def __init__(self, origin, attitude):\n",
    "        \"\"\"Initialize the UFO's physical origin and if they are friendly\"\"\"\n",
    "        self.origin = origin\n",
    "        self.friendly = attitude\n",
    "\n",
    "\n",
    "    def species(self):\n",
    "        \"\"\"The alien's species that controls the UFO\"\"\"\n",
    "\n",
    "\n",
    "    def craft_shape(self):\n",
    "        \"\"\"The UFO's shape\"\"\"\n",
    "        #print(self.origin.)\n"
   ]
  },
  {
   "cell_type": "code",
   "execution_count": null,
   "metadata": {},
   "outputs": [],
   "source": [
    "first_ufo = Ufo('mars', 'friendly')\n",
    "first_ufo.origin"
   ]
  },
  {
   "cell_type": "code",
   "execution_count": null,
   "metadata": {},
   "outputs": [],
   "source": [
    "second_ufo = Ufo('venus', 'unfriendly')\n",
    "second_ufo.origin"
   ]
  },
  {
   "cell_type": "code",
   "execution_count": null,
   "metadata": {},
   "outputs": [],
   "source": [
    "print('The first UFO is from {0} and they are {1}.'.format(first_ufo.origin, first_ufo.friendly))\n",
    "print('The second UFO is from {0} and they are {1}.'.format(second_ufo.origin, second_ufo.friendly))"
   ]
  },
  {
   "cell_type": "code",
   "execution_count": null,
   "metadata": {},
   "outputs": [],
   "source": []
  }
 ],
 "metadata": {
  "kernelspec": {
   "display_name": "Python 3 (ipykernel)",
   "language": "python",
   "name": "python3"
  },
  "language_info": {
   "codemirror_mode": {
    "name": "ipython",
    "version": 3
   },
   "file_extension": ".py",
   "mimetype": "text/x-python",
   "name": "python",
   "nbconvert_exporter": "python",
   "pygments_lexer": "ipython3",
   "version": "3.10.13"
  }
 },
 "nbformat": 4,
 "nbformat_minor": 2
}
