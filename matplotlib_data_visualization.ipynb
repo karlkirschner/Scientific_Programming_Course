{
 "cells": [
  {
   "cell_type": "markdown",
   "metadata": {},
   "source": [
    "# Data Visualization using matplotlib - understanding and interpretating data through visualization (e.g. seeing patterns)\n",
    "\n",
    "## Karl N. Kirschner\n",
    "\n",
    "A highly popular plotting library\n",
    "\n",
    "(http://matplotlib.org, https://matplotlib.org/stable/gallery/index.html examples with code)\n",
    "\n",
    "**Exports**: pdf, svg, ps, eps, jpg, png, bmp, gif\n",
    "\n",
    "\n",
    "### For citing matplotlib:\n",
    "\n",
    "Hunter, J.D., 2007. Matplotlib: A 2D graphics environment. IEEE Annals of the History of Computing, 9(03), pp.90-95.\n",
    "\n",
    "@Article{Hunter:2007,  \n",
    "  Author    = {Hunter, J. D.},  \n",
    "  Title     = {Matplotlib: A 2D graphics environment},\n",
    "  Journal   = {Computing In Science \\& Engineering},  \n",
    "  Volume    = {9},  \n",
    "  Number    = {3},  \n",
    "  Pages     = {90--95},  \n",
    "  abstract  = {Matplotlib is a 2D graphics package used for Python  \n",
    "  for application development, interactive scripting, and  \n",
    "  publication-quality image generation across user  \n",
    "  interfaces and operating systems.},  \n",
    "  publisher = {IEEE COMPUTER SOC},  \n",
    "  doi       = {10.1109/MCSE.2007.55},  \n",
    "  year      = 2007  \n",
    "}\n",
    "\n",
    "### Helpful documents\n",
    "- https://github.com/matplotlib/cheatsheets"
   ]
  },
  {
   "cell_type": "markdown",
   "metadata": {},
   "source": [
    "***\n",
    "## Plot plots\n",
    "\n",
    "In **plot** function (https://matplotlib.org/stable/api/_as_gen/matplotlib.pyplot.plot.html):\n",
    "\n",
    "1. the order of the data being plotted matters - allowing you to connect them with a line\n",
    "\n",
    "2. you to put in either x data points alone, or as (x,y) data points"
   ]
  },
  {
   "cell_type": "code",
   "execution_count": 1,
   "metadata": {},
   "outputs": [
    {
     "name": "stdout",
     "output_type": "stream",
     "text": [
      "3.5.0b1\n",
      "1.21.2\n"
     ]
    }
   ],
   "source": [
    "## Jupyter notebook - allows plot interactions\n",
    "#%matplotlib notebook\n",
    "\n",
    "import matplotlib\n",
    "import matplotlib.pyplot as plt\n",
    "import numpy as np\n",
    "\n",
    "print(matplotlib.__version__)\n",
    "print(np.__version__)"
   ]
  },
  {
   "cell_type": "code",
   "execution_count": 2,
   "metadata": {},
   "outputs": [],
   "source": [
    "## uncomment the following to test the help function\n",
    "#help(plt.plot)"
   ]
  },
  {
   "cell_type": "code",
   "execution_count": 3,
   "metadata": {},
   "outputs": [
    {
     "data": {
      "image/png": "[encoded data removed]",
      "text/plain": [
       "<Figure size 432x288 with 1 Axes>"
      ]
     },
     "metadata": {
      "needs_background": "light"
     },
     "output_type": "display_data"
    }
   ],
   "source": [
    "y_data = [0, 1, 4, 9, 16, 25]\n",
    "\n",
    "plt.figure()  ## Create a new figure\n",
    "\n",
    "plt.plot(y_data)\n",
    "\n",
    "plt.show()"
   ]
  },
  {
   "cell_type": "markdown",
   "metadata": {},
   "source": [
    "Notice that I am not passing the `y_data` using a variable name (e.g. `y=y_data`). For matplotlib, you always specify the x- and y-data in this manner.\n",
    "\n",
    "In the above example, the x-data is assigned to the list position of the corresponding y-data value. \n",
    "\n",
    "`matplotlib.pyplot.plot(*args, scalex=True, scaley=True, data=None, **kwargs)`"
   ]
  },
  {
   "cell_type": "markdown",
   "metadata": {},
   "source": [
    "---\n",
    "##### Sidenote:\n",
    "Quick visit back to Numpy"
   ]
  },
  {
   "cell_type": "code",
   "execution_count": 4,
   "metadata": {},
   "outputs": [
    {
     "data": {
      "text/plain": [
       "array([0, 1, 2, 3, 4, 5])"
      ]
     },
     "execution_count": 4,
     "metadata": {},
     "output_type": "execute_result"
    }
   ],
   "source": [
    "numpy_data = np.arange(0, 6, 1)\n",
    "numpy_data"
   ]
  },
  {
   "cell_type": "markdown",
   "metadata": {},
   "source": [
    "This allows us to do mathematics over the entire array easily:"
   ]
  },
  {
   "cell_type": "code",
   "execution_count": 5,
   "metadata": {},
   "outputs": [
    {
     "data": {
      "image/png": "[encoded data removed]",
      "text/plain": [
       "<Figure size 432x288 with 1 Axes>"
      ]
     },
     "metadata": {
      "needs_background": "light"
     },
     "output_type": "display_data"
    }
   ],
   "source": [
    "plt.figure()\n",
    "\n",
    "plt.plot(numpy_data**2)\n",
    "\n",
    "plt.show()"
   ]
  },
  {
   "cell_type": "markdown",
   "metadata": {},
   "source": [
    "Let's show how one might do this using the built-in function range:"
   ]
  },
  {
   "cell_type": "code",
   "execution_count": 6,
   "metadata": {},
   "outputs": [
    {
     "ename": "TypeError",
     "evalue": "unsupported operand type(s) for ** or pow(): 'range' and 'int'",
     "output_type": "error",
     "traceback": [
      "\u001b[0;31m---------------------------------------------------------------------------\u001b[0m",
      "\u001b[0;31mTypeError\u001b[0m                                 Traceback (most recent call last)",
      "\u001b[0;32m/tmp/ipykernel_10471/4097352405.py\u001b[0m in \u001b[0;36m<module>\u001b[0;34m\u001b[0m\n\u001b[1;32m      2\u001b[0m \u001b[0;34m\u001b[0m\u001b[0m\n\u001b[1;32m      3\u001b[0m \u001b[0mplt\u001b[0m\u001b[0;34m.\u001b[0m\u001b[0mfigure\u001b[0m\u001b[0;34m(\u001b[0m\u001b[0;34m)\u001b[0m\u001b[0;34m\u001b[0m\u001b[0;34m\u001b[0m\u001b[0m\n\u001b[0;32m----> 4\u001b[0;31m \u001b[0mplt\u001b[0m\u001b[0;34m.\u001b[0m\u001b[0mplot\u001b[0m\u001b[0;34m(\u001b[0m\u001b[0mrange_data\u001b[0m\u001b[0;34m**\u001b[0m\u001b[0;36m2\u001b[0m\u001b[0;34m)\u001b[0m\u001b[0;34m\u001b[0m\u001b[0;34m\u001b[0m\u001b[0m\n\u001b[0m\u001b[1;32m      5\u001b[0m \u001b[0mplt\u001b[0m\u001b[0;34m.\u001b[0m\u001b[0mshow\u001b[0m\u001b[0;34m(\u001b[0m\u001b[0;34m)\u001b[0m\u001b[0;34m\u001b[0m\u001b[0;34m\u001b[0m\u001b[0m\n",
      "\u001b[0;31mTypeError\u001b[0m: unsupported operand type(s) for ** or pow(): 'range' and 'int'"
     ]
    },
    {
     "data": {
      "text/plain": [
       "<Figure size 432x288 with 0 Axes>"
      ]
     },
     "metadata": {},
     "output_type": "display_data"
    }
   ],
   "source": [
    "range_data = range(0, 6, 1)\n",
    "\n",
    "plt.figure()\n",
    "plt.plot(range_data**2)\n",
    "plt.show() "
   ]
  },
  {
   "cell_type": "markdown",
   "metadata": {},
   "source": [
    "As seen, this doesn't work.\n",
    "\n",
    "The math does not work directly, so the solution is to create\n",
    "1. a loop \n",
    "1. a lambda function\n",
    "1. use Numpy (note: this adds a dependency to your code)\n",
    "1. use list comprehension"
   ]
  },
  {
   "cell_type": "code",
   "execution_count": 23,
   "metadata": {},
   "outputs": [
    {
     "data": {
      "image/png": "[encoded data removed]",
      "text/plain": [
       "<Figure size 432x288 with 1 Axes>"
      ]
     },
     "metadata": {
      "needs_background": "light"
     },
     "output_type": "display_data"
    }
   ],
   "source": [
    "squared_values = []\n",
    "\n",
    "## 1. a loop\n",
    "# for value in range_data:\n",
    "#     squared_values.append(value**2)\n",
    "\n",
    "## 2. two different lamda function approaches\n",
    "# squared_values = list(filter(lambda x: x**2, range_data))\n",
    "# squared_values = list(map(lambda x: x**2, range_data))\n",
    "\n",
    "## 3. Numpy \n",
    "# squared_values = np.array(range_data)**2\n",
    "\n",
    "## 4. List comprehension\n",
    "squared_values = [x**2 for x in range_data]\n",
    "\n",
    "plt.figure()\n",
    "plt.plot(squared_values)\n",
    "plt.show()"
   ]
  },
  {
   "cell_type": "markdown",
   "metadata": {},
   "source": [
    "---\n",
    "Okay, back to our original focus.\n",
    "\n",
    "Let's add some additional information to the figure:"
   ]
  },
  {
   "cell_type": "code",
   "execution_count": null,
   "metadata": {},
   "outputs": [],
   "source": [
    "plt.figure()\n",
    "\n",
    "plt.plot(y_data)\n",
    "\n",
    "plt.title('The Square of 0-5', fontsize=24)\n",
    "\n",
    "plt.xlabel('Interger', fontsize=20)\n",
    "plt.ylabel('Square of Interger', fontsize=20)\n",
    "\n",
    "plt.tick_params(axis='both', labelsize=14)\n",
    "\n",
    "plt.show()"
   ]
  },
  {
   "cell_type": "code",
   "execution_count": null,
   "metadata": {},
   "outputs": [],
   "source": [
    "x_values = [0, 1, 2, 3, 4, 5]\n",
    "y_values = [0, 1, 4, 9, 16, 25]"
   ]
  },
  {
   "cell_type": "markdown",
   "metadata": {},
   "source": [
    "**Note**\n",
    "- `linestyle`: ‘solid’, ‘dashed’, ‘dashdot’, ‘dotted’\n",
    "- `marker`: https://matplotlib.org/stable/api/markers_api.html"
   ]
  },
  {
   "cell_type": "code",
   "execution_count": null,
   "metadata": {},
   "outputs": [],
   "source": [
    "plt.figure()\n",
    "\n",
    "plt.plot(x_values, y_values,\n",
    "         linestyle='dashdot', linewidth=2, \n",
    "         marker='v', markersize=20)\n",
    "\n",
    "plt.show()"
   ]
  },
  {
   "cell_type": "markdown",
   "metadata": {},
   "source": [
    "---\n",
    "## Scatter Plots\n",
    "\n",
    "For scatter plots:\n",
    "1. need to provide both x and y data points (no connections via a line)\n",
    "2. can color code regions on the plot\n",
    "\n",
    "https://matplotlib.org/api/_as_gen/matplotlib.pyplot.scatter.html"
   ]
  },
  {
   "cell_type": "markdown",
   "metadata": {},
   "source": [
    "**Note**\n",
    "- `s` is the pointsize"
   ]
  },
  {
   "cell_type": "code",
   "execution_count": null,
   "metadata": {
    "scrolled": true
   },
   "outputs": [],
   "source": [
    "plt.figure()\n",
    "\n",
    "plt.scatter(x_values, y_values, s=50)\n",
    "\n",
    "plt.show()"
   ]
  },
  {
   "cell_type": "markdown",
   "metadata": {},
   "source": [
    "***\n",
    "## Colors\n",
    "\n",
    "https://matplotlib.org/stable/tutorials/colors/colors.html\n",
    "\n",
    "Now, we will creating a larger data set and changing point color using different color specifications"
   ]
  },
  {
   "cell_type": "code",
   "execution_count": null,
   "metadata": {},
   "outputs": [],
   "source": [
    "x_values = range(0, 1000, 1)\n",
    "y_values = [x**2 for x in x_values]"
   ]
  },
  {
   "cell_type": "code",
   "execution_count": null,
   "metadata": {},
   "outputs": [],
   "source": [
    "plt.figure()\n",
    "\n",
    "plt.scatter(x_values, y_values, facecolor=[[0.6, 0.2, 0.2]], s=50)\n",
    "plt.show()\n",
    "\n",
    "plt.scatter(x_values, y_values, facecolor='#9467bd', s=50)\n",
    "plt.show()\n",
    "\n",
    "plt.scatter(x_values, y_values, facecolor='b', s=50)\n",
    "plt.show()\n",
    "\n",
    "plt.scatter(x_values, y_values, facecolor='C5', s=50)\n",
    "plt.show()\n",
    "\n",
    "plt.scatter(x_values, y_values, facecolor='red', s=50)\n",
    "plt.show()"
   ]
  },
  {
   "cell_type": "markdown",
   "metadata": {},
   "source": [
    "***\n",
    "## Additional style control over point\n",
    "\n",
    "1. `facecolor`\n",
    "2. `edgecolor`\n",
    "3. `linewidth` - of the shape's edge\n",
    "4. `alpha` - transparency of the shape and its edge"
   ]
  },
  {
   "cell_type": "code",
   "execution_count": null,
   "metadata": {},
   "outputs": [],
   "source": [
    "x_values = [1, 2, 3, 4, 7]\n",
    "y_values = [1, 4, 9, 16, 49]"
   ]
  },
  {
   "cell_type": "markdown",
   "metadata": {},
   "source": [
    "(Demo edgecolor and alpha)"
   ]
  },
  {
   "cell_type": "code",
   "execution_count": null,
   "metadata": {},
   "outputs": [],
   "source": [
    "plt.figure()\n",
    "\n",
    "plt.scatter(x_values, y_values,\n",
    "            marker='s', s=500, linewidth=5,\n",
    "            facecolor='lightblue', edgecolor='purple',\n",
    "            alpha=0.9)\n",
    "\n",
    "plt.show()"
   ]
  },
  {
   "cell_type": "markdown",
   "metadata": {},
   "source": [
    "***\n",
    "## Colormaps (cmap)\n",
    "- a preset collection of color combinations\n",
    "- certain color combinations have advantages for viewing certain types of data\n",
    "\n",
    "#### Colormaps categories\n",
    "(To see the options for the following: https://matplotlib.org/stable/tutorials/colors/colormaps.html)\n",
    "- **Sequential**: often used when the data has some ordering to it (e.g. temperature)\n",
    "- **Diverging**: often used when the data's middle value is important (e.g. deviation around 0)\n",
    "- **Cyclic**: often used for data's endpoints wrap around (e.g. circular data...time of day)\n",
    "- **Qualitative**: often used to represent data that lacks ordering or relationships (e.g. )"
   ]
  },
  {
   "cell_type": "code",
   "execution_count": null,
   "metadata": {},
   "outputs": [],
   "source": [
    "x_values = range(0, 10000, 1)"
   ]
  },
  {
   "cell_type": "markdown",
   "metadata": {},
   "source": [
    "Let's use Python3's list comprehension to determine some y data:"
   ]
  },
  {
   "cell_type": "code",
   "execution_count": null,
   "metadata": {},
   "outputs": [],
   "source": [
    "y_values = [x**2 for x in x_values]"
   ]
  },
  {
   "cell_type": "code",
   "execution_count": null,
   "metadata": {},
   "outputs": [],
   "source": [
    "plt.figure()\n",
    "\n",
    "plt.scatter(x_values, y_values, c=y_values, cmap=plt.cm.prism, s=100)\n",
    "\n",
    "plt.show()"
   ]
  },
  {
   "cell_type": "markdown",
   "metadata": {},
   "source": [
    "## ticklabels and format\n",
    "https://matplotlib.org/stable/api/_as_gen/matplotlib.axes.Axes.ticklabel_format.html\n",
    "\n",
    "Control tick labels using scientific notation and indicating the number of digits\n",
    "- `style='sci'`\n",
    "- `scilimits=(0, 0)` to indicates to use on all numbers\n"
   ]
  },
  {
   "cell_type": "code",
   "execution_count": null,
   "metadata": {},
   "outputs": [],
   "source": [
    "plt.figure()\n",
    "\n",
    "plt.scatter(x_values, y_values, c=y_values, cmap=plt.cm.prism, s=50)\n",
    "\n",
    "plt.ticklabel_format(axis='both', style='sci', scilimits=(0, 0))\n",
    "\n",
    "plt.show()"
   ]
  },
  {
   "cell_type": "markdown",
   "metadata": {},
   "source": [
    "***\n",
    "## Output File Format and Resolution\n",
    "\n",
    "Formats: png, pdf, ps, eps and svg\n",
    "\n",
    "Recommended formats: svg and pdf (don't need to worry about setting the resolution then using DPI).\n",
    "\n",
    "A png formtted file is also a good option. The \"dots-per-inch\" (dpi) is important for this. For print material, you need a minimum of **300 dpi**.\n",
    "\n",
    "**Note**\n",
    "- `[wdith, height]` are in inches\n",
    "- `c` is marker color (see https://matplotlib.org/stable/api/_as_gen/matplotlib.pyplot.scatter.html)"
   ]
  },
  {
   "cell_type": "code",
   "execution_count": null,
   "metadata": {},
   "outputs": [],
   "source": [
    "plt.figure(figsize=[6.4, 4.8], dpi=300)\n",
    "\n",
    "plt.scatter(x_values, y_values, c=y_values, cmap=plt.cm.plasma, s=50)\n",
    "\n",
    "plt.savefig('squares.png', bbox_inches='tight')\n",
    "\n",
    "plt.show()"
   ]
  },
  {
   "cell_type": "markdown",
   "metadata": {},
   "source": [
    "---\n",
    "## Overlay of two data sets (using plot)\n",
    "\n",
    "- write two consecutive `plt` statements\n",
    "\n",
    "Also covered:\n",
    "1. `linesytle`\n",
    "2. `legend`\n",
    "3. `grid`\n",
    "\n",
    "Here we will use Numpy to create evenly spaced floats between 0 and 1, and then use them in a sine and cosine function to create data points"
   ]
  },
  {
   "cell_type": "code",
   "execution_count": null,
   "metadata": {},
   "outputs": [],
   "source": [
    "x_data = np.arange(0.0, 1.0, 0.01)\n",
    "\n",
    "y_data_human = 1 + np.sin(2 * np.pi * x_data)\n",
    "y_data_alien = 1 + np.cos(2 * np.pi * x_data)"
   ]
  },
  {
   "cell_type": "code",
   "execution_count": null,
   "metadata": {},
   "outputs": [],
   "source": [
    "plt.figure()\n",
    "\n",
    "plt.plot(x_data, y_data_human, color='black',\n",
    "         linewidth=5, linestyle='solid', label='Human Signal')\n",
    "\n",
    "plt.plot(x_data, y_data_alien, color='red',\n",
    "         linewidth=5, linestyle='dashdot', label='Alien Signal')\n",
    "\n",
    "legend = plt.legend(loc='upper center', shadow=True, fontsize='x-large')\n",
    "\n",
    "plt.xlabel(xlabel='X-Axis (Unit)')\n",
    "plt.ylabel(ylabel='Y-Axis (Unit)')\n",
    "\n",
    "plt.title(label='TITLE')\n",
    "\n",
    "plt.grid(True)\n",
    "\n",
    "#plt.savefig(\"simple_matplotlib.png\", bbox_inches='tight', dpi=300)\n",
    "#plt.savefig(\"simple_matplotlib.svg\")\n",
    "\n",
    "plt.show()"
   ]
  },
  {
   "cell_type": "markdown",
   "metadata": {},
   "source": [
    "***\n",
    "## Formatting Issues\n",
    "1. tick label `rotation` = n degrees\n",
    "2. `labelpad` = n pts (space between tick labels and axis label)\n",
    "3. tickmark `width` and `length` (via `tick_params`)\n",
    "4. axes `linewidth` (via `rc`)\n",
    "5. `fontsize` = n pts\n",
    "6. `fontstyle` = ['normal' | 'italic' | 'oblique']\n",
    "7. `fontweight` = ['normal' | 'bold' | 'heavy' | 'light']"
   ]
  },
  {
   "cell_type": "code",
   "execution_count": null,
   "metadata": {},
   "outputs": [],
   "source": [
    "plt.figure()\n",
    "\n",
    "plt.plot(x_data, y_data_human, color='black',\n",
    "         linewidth=5, linestyle='solid', label='Human Signal')\n",
    "\n",
    "plt.plot(x_data, y_data_alien, color='red',\n",
    "         linewidth=5, linestyle='dashdot', label='Alien Signal')\n",
    "\n",
    "legend = plt.legend(loc='upper center', shadow=True, fontsize='x-large',\n",
    "                    frameon=True)\n",
    "\n",
    "## new idea: labelpad and rotation\n",
    "plt.xlabel(xlabel='X-Axis (unit)', fontsize=18, fontweight='bold', labelpad=15)\n",
    "plt.ylabel(ylabel='Y-Axis (unit)', fontsize=18, fontweight='bold', labelpad=15)\n",
    "\n",
    "plt.xticks(rotation='90', fontsize=18)\n",
    "plt.yticks(fontsize=18)\n",
    "\n",
    "## new idea: fontweight\n",
    "plt.title(label='Legal vs. Illegal Space Aliens',\n",
    "          fontsize=18, fontstyle='italic', fontweight='bold')\n",
    "\n",
    "## new idea: axes linewidth\n",
    "plt.rc('axes', linewidth=5)\n",
    "\n",
    "## new idea: major tick mark's length, width and color\n",
    "plt.tick_params(which='major', length=10, width=5, colors='purple')\n",
    "\n",
    "plt.show()"
   ]
  },
  {
   "cell_type": "markdown",
   "metadata": {},
   "source": [
    "---\n",
    "\n",
    "## Controlling major tick mark range and minor ticks"
   ]
  },
  {
   "cell_type": "code",
   "execution_count": null,
   "metadata": {},
   "outputs": [],
   "source": [
    "from matplotlib.ticker import AutoMinorLocator"
   ]
  },
  {
   "cell_type": "code",
   "execution_count": null,
   "metadata": {},
   "outputs": [],
   "source": [
    "plt.figure()\n",
    "\n",
    "plt.plot(x_data, y_data_human, color='black',\n",
    "         linewidth=5, linestyle='solid', label='Human Signal')\n",
    "\n",
    "plt.plot(x_data, y_data_alien, color='red',\n",
    "         linewidth=5, linestyle='dashdot', label='Alien Signal')\n",
    "\n",
    "legend = plt.legend(loc='upper center', shadow=False, fontsize='x-large',\n",
    "                    frameon=True)\n",
    "\n",
    "plt.xlabel(xlabel='X-Axis (unit)', fontsize=18, fontweight='bold', labelpad=15)\n",
    "plt.ylabel(ylabel='Y-Axis (unit)', fontsize=18, fontweight='bold', labelpad=15)\n",
    "\n",
    "plt.xticks(rotation='90', fontsize=18)\n",
    "plt.yticks(fontsize=18)\n",
    "\n",
    "plt.title(label='Legal vs. Illegal Space Aliens',\n",
    "          fontsize=18, fontstyle='italic', fontweight='bold')\n",
    "\n",
    "plt.rc('axes', linewidth=5)\n",
    "\n",
    "## new ideas: tick range\n",
    "plt.yticks(np.arange(min(y_data_human), max(y_data_human) + 2, 1.0))\n",
    "\n",
    "## new ideas: major AND minor tick control\n",
    "plt.minorticks_on()\n",
    "plt.tick_params(axis='x', which='minor', direction='out')\n",
    "plt.tick_params(which='both', width=5)\n",
    "plt.tick_params(which='major', length=15, colors='purple')\n",
    "plt.tick_params(which='minor', length=7.5, color='orange')\n",
    "\n",
    "plt.show()"
   ]
  },
  {
   "cell_type": "markdown",
   "metadata": {},
   "source": [
    "***\n",
    "## Predifined styles"
   ]
  },
  {
   "cell_type": "code",
   "execution_count": null,
   "metadata": {},
   "outputs": [],
   "source": [
    "plt.style.available[:]"
   ]
  },
  {
   "cell_type": "code",
   "execution_count": null,
   "metadata": {},
   "outputs": [],
   "source": [
    "plt.style.use('tableau-colorblind10')\n",
    "\n",
    "plt.figure()\n",
    "\n",
    "plt.plot(x_data, y_data_human, label='Human Signal', linewidth=5)\n",
    "plt.plot(x_data, y_data_alien, label='Alien Signal', linewidth=5)\n",
    "\n",
    "plt.show()"
   ]
  },
  {
   "cell_type": "markdown",
   "metadata": {},
   "source": [
    "## Fine control of how the data points and lines overlap\n",
    "\n",
    "- zorder: https://matplotlib.org/3.3.3/gallery/misc/zorder_demo.html\n",
    "\n",
    "Now and concerning the above graph, let's switch the line that is in the foreground.\n",
    "- i.e. put the blue line on top of the orange line"
   ]
  },
  {
   "cell_type": "code",
   "execution_count": null,
   "metadata": {},
   "outputs": [],
   "source": [
    "plt.figure()\n",
    "\n",
    "plt.plot(x_data, y_data_human, label='Human Signal', linewidth=5, zorder=2)\n",
    "plt.plot(x_data, y_data_alien, label='Alien Signal', linewidth=5, zorder=1)\n",
    "\n",
    "plt.show()"
   ]
  },
  {
   "cell_type": "markdown",
   "metadata": {},
   "source": [
    "### Let's create some random-ish plots"
   ]
  },
  {
   "cell_type": "code",
   "execution_count": null,
   "metadata": {},
   "outputs": [],
   "source": [
    "time = [0.0, 0.5, 1.0, 1.5, 2.0, 2.5, 3.0, 3.5, 4.0,\n",
    "        4.5, 5.0, 5.5, 6.0, 6.5, 7.0, 7.5, 8.0, 8.5,\n",
    "        9.0, 9.5, 10.0, 10.5, 11.0, 11.5, 12.0, 12.5,\n",
    "        13.0, 13.5]\n",
    "\n",
    "exp = [0.1185, 0.6524, 0.1291, 0.9445, 0.0272, 0.7598, 0.8159, 0.8003,\n",
    "       0.5716, 0.6651, 0.9983, 0.1004, 0.8433, 0.0067, 0.8238, 0.3952,\n",
    "       0.6452, 0.848, 0.1986, 0.9114, 0.7693, 0.5009, 0.211, 0.9227,\n",
    "       0.0461, 0.2177, 0.9554, 0.613]\n",
    "\n",
    "sim = [0.2255, 0.3052, 0.0744, 0.7611, 0.1183, 0.045, 0.2669, 0.177,\n",
    "       0.2433, 0.2302, 0.0772, 0.0805, 0.6214, 0.1156, 0.1607, 0.042,\n",
    "       0.1123, 0.383, 0.5566, 0.667, 0.5655, 0.4875, 0.0104, 0.4968,\n",
    "       0.2639, 0.2197, 0.944, 0.2423]\n",
    "\n",
    "print(f'Time: {time}\\n')\n",
    "print(f'Exp: {exp}\\n')\n",
    "print(f'Sim: {sim}\\n')"
   ]
  },
  {
   "cell_type": "code",
   "execution_count": null,
   "metadata": {},
   "outputs": [],
   "source": [
    "plt.style.use('Solarize_Light2')\n",
    "\n",
    "plt.figure(figsize=(15, 5))\n",
    "\n",
    "plt.plot(time, exp, linewidth=5, linestyle='-', label='Experimental')\n",
    "plt.plot(time, sim, linewidth=5, linestyle='--', label='Simulated')\n",
    "\n",
    "plt.xlabel(xlabel='Time (seconds)', fontsize=20)\n",
    "plt.ylabel(ylabel='Y-Axis (unit)', fontsize=20)\n",
    "\n",
    "plt.title(label='Experimental and Simulated Results')\n",
    "\n",
    "plt.grid(True)\n",
    "\n",
    "plt.show()"
   ]
  },
  {
   "cell_type": "markdown",
   "metadata": {},
   "source": [
    "## Bar plot\n",
    "\n",
    "bar(x, height, width=0.8, bottom=None, \\*, align='center', data=None, **kwargs)\n",
    "\n",
    "x : sequence of scalars -- The x coordinates of the bars. See also align for the alignment of the bars to the coordinates.\n",
    "\n",
    "height : scalar or sequence of scalars -- The height(s) of the bars.\n",
    "\n",
    "width : scalar or array-like, optional -- The width(s) of the bars (default: 0.8).\n",
    "<br><br>\n",
    "\n",
    "**Example**: Let's create a bar plot that does the following:\n",
    "- shows the mean value of the above experimental and simulated data\n",
    "- shows the standard deviation of those data"
   ]
  },
  {
   "cell_type": "code",
   "execution_count": null,
   "metadata": {},
   "outputs": [],
   "source": [
    "exp_average = np.mean(exp)\n",
    "sim_average = np.mean(sim)\n",
    "\n",
    "# sample standard deviation via ddof=1 (i.e. this reproduces libreoffice stdev)\n",
    "exp_std = np.std(exp, ddof=1)\n",
    "sim_std = np.std(sim, ddof=1)\n",
    "\n",
    "print(f'Experimental Average: {exp_average:0.2f}')\n",
    "print(f'Simulated Average: {sim_average:0.2f}')\n",
    "print(f'Experimental Standard Deviation: {exp_std:0.2f}')\n",
    "print(f'Simulated Standard Deviation: {sim_std:0.2f}')"
   ]
  },
  {
   "cell_type": "markdown",
   "metadata": {},
   "source": [
    "**Note**\n",
    "- standard deviation will be implemented via `yerr` (error values that correspond to the y data)\n",
    "- format contorl over the error is done using `error_kw` (a dictionary that controls the error bar of the bar plot)"
   ]
  },
  {
   "cell_type": "code",
   "execution_count": null,
   "metadata": {},
   "outputs": [],
   "source": [
    "# means = [exp_average, sim_average]\n",
    "# standard_dev = [exp_std, sim_std]"
   ]
  },
  {
   "cell_type": "code",
   "execution_count": null,
   "metadata": {},
   "outputs": [],
   "source": [
    "## Setup to show 1 bar graph within each category (i.e. 1 in exp. & 1 in sim.)\n",
    "##   (change to 2, 3 or 4 to see what happens)\n",
    "n_groups = 1\n",
    "index = np.arange(n_groups)\n",
    "\n",
    "bar_width = 0.3\n",
    "\n",
    "plt.figure()\n",
    "\n",
    "rects1 = plt.bar(x=index, height=exp_average, width=bar_width,\n",
    "                 color='red', alpha=0.5, label='Experimental',           \n",
    "                 yerr=exp_std,\n",
    "                 error_kw={'ecolor': 'C1', 'alpha':0.2, 'elinewidth':4})\n",
    "\n",
    "## to place this bar next to the above one: index+bar_width\n",
    "rects2 = plt.bar(x=(index+bar_width), height=sim_average, width=bar_width,\n",
    "                 color='blue', alpha=0.5, label='Simulated',\n",
    "                 yerr=sim_std,\n",
    "                 error_kw={'ecolor': 'C6', 'alpha':0.2, 'elinewidth':4})\n",
    "\n",
    "plt.xlabel(xlabel='Methodology')\n",
    "plt.ylabel(ylabel='Values')\n",
    "plt.title(label='Experimental and Simulated Results')\n",
    "\n",
    "plt.tick_params(\n",
    "    axis='x',          ## changes apply only to the x-axis (option: x, y, both)\n",
    "    which='both',      ## both major and minor ticks (major, minor, both)\n",
    "    bottom=False,      ## ticks along the bottom edge are off\n",
    "    top=False,         ## ticks along the top edge are off\n",
    "    labelbottom=False) ## labels along the bottom edge are off\n",
    "\n",
    "plt.legend()\n",
    "plt.grid(False)\n",
    "\n",
    "plt.show()"
   ]
  },
  {
   "cell_type": "markdown",
   "metadata": {},
   "source": [
    "Now, let's create a bar graph that has customized xticks labels:"
   ]
  },
  {
   "cell_type": "code",
   "execution_count": null,
   "metadata": {},
   "outputs": [],
   "source": [
    "## bar graph - different x-axis labels\n",
    "plt.figure()\n",
    "\n",
    "x_position = [0, 1, 2, 3, 4, 5, 6]\n",
    "y_axis = [0.5, 1.0, 2.0, 3.0, 2.0, 1.0, 0.5]\n",
    "\n",
    "plt.bar(x=x_position, height=y_axis, color=['black', 'black', 'black',\n",
    "                                            'orange', 'black', 'black',\n",
    "                                            'red'])\n",
    "\n",
    "bars_labels = ['Cis', '30.0', 'Gauche', '90.0', '120.0', '150.0', 'Anti']\n",
    "\n",
    "#plt.xticks(ticks=x_position, label=bars_labels) ## bug: doesn't work properly (v.3.4.1)\n",
    "plt.xticks(x_position, bars_labels)\n",
    "\n",
    "plt.show()"
   ]
  },
  {
   "cell_type": "markdown",
   "metadata": {},
   "source": [
    "---\n",
    "## Advance idea: Subplots\n",
    "- subplot(nrows, ncols, index)\n",
    "    \n",
    "- https://matplotlib.org/stable/gallery/subplots_axes_and_figures/subplots_demo.html"
   ]
  },
  {
   "cell_type": "markdown",
   "metadata": {},
   "source": [
    "### Functions for repetitive plotting\n",
    "\n",
    "For simplicity, let's define some functions that plot."
   ]
  },
  {
   "cell_type": "code",
   "execution_count": null,
   "metadata": {},
   "outputs": [],
   "source": [
    "def plot_line():\n",
    "    plt.style.use('seaborn-whitegrid')\n",
    "    \n",
    "    plt.plot(time, exp, linewidth=5, linestyle='-', label='Experimental')\n",
    "    plt.plot(time, sim, linewidth=5, linestyle='--', label='Simulated')\n",
    "\n",
    "    plt.xlabel(xlabel='Time (seconds)', fontsize=18, fontweight='bold')\n",
    "    plt.ylabel(ylabel='Y-Axis (Unit)', fontsize=18, fontweight='bold')\n",
    "\n",
    "    plt.yticks(fontsize=14)\n",
    "    plt.xticks(time, rotation='90', fontsize=10)\n",
    "\n",
    "    plt.title(label='Experimental and Simulated Results',\n",
    "              fontsize=18, fontweight='bold')\n",
    "\n",
    "    plt.grid(False)\n",
    "    plt.legend()\n",
    "\n",
    "\n",
    "def plot_scatter():\n",
    "    x_values = [1, 2, 3, 4, 7]\n",
    "    y_values = [1, 4, 9, 16, 49]\n",
    "\n",
    "    plt.style.use('seaborn-whitegrid')\n",
    "    \n",
    "    plt.scatter(x_values, y_values, edgecolor='dimgray', linewidth=5,\n",
    "                facecolor='purple', alpha=0.5, s=500, marker='s', label='Tests')\n",
    "    plt.legend()\n",
    "\n",
    "\n",
    "def plot_bar():\n",
    "    plt.xkcd()\n",
    "    \n",
    "    rects1 = plt.bar(x=index, height=exp_average, width=bar_width,\n",
    "                 color='red', alpha=0.4, label='Experimental',\n",
    "                 yerr=exp_std,\n",
    "                 error_kw={'ecolor': 'red', 'alpha':0.3, 'elinewidth':4})\n",
    "    rects2 = plt.bar(index + bar_width, sim_average, bar_width,\n",
    "                 color='blue', alpha=0.4, label='Simulated',\n",
    "                 yerr=sim_std,\n",
    "                 error_kw={'ecolor': 'blue', 'alpha':0.3, 'elinewidth':4})\n",
    "\n",
    "    plt.xlabel(xlabel='Methodology')\n",
    "    plt.ylabel(ylabel='Values')\n",
    "    plt.title(label='Results by Methodology')\n",
    "\n",
    "    plt.tick_params(axis='x', which='both', bottom=False, top=False, \n",
    "                    labelbottom=False)\n",
    "    plt.legend()"
   ]
  },
  {
   "cell_type": "markdown",
   "metadata": {},
   "source": [
    "Now, let create subplots:\n",
    "- plot two graphs\n",
    "- 2 rows by 1 column grid (i.e. two plots given in one column)"
   ]
  },
  {
   "cell_type": "code",
   "execution_count": null,
   "metadata": {},
   "outputs": [],
   "source": [
    "## needed for the plot1\n",
    "plt.figure(figsize=(15, 5))\n",
    "\n",
    "## (2rows, 1column, first subplot position)\n",
    "plt.subplot(2, 1, 1)\n",
    "plot_line()\n",
    "\n",
    "## (2rows x 1column grid, second subplot position)\n",
    "plt.subplot(2, 1, 2)\n",
    "plot_scatter()\n",
    "\n",
    "# ## addes an extra height padding between the plots\n",
    "plt.tight_layout(h_pad=3.0)\n",
    "plt.show()"
   ]
  },
  {
   "cell_type": "markdown",
   "metadata": {},
   "source": [
    "Now, something more complicated.\n",
    "\n",
    "Let create subplots:\n",
    "- plot three graphs\n",
    "    - two graphs stacked to the left, and\n",
    "    - one graph placed to the right that spans the height of the left two graphs\n",
    "- 2 rows by 1 column grid (i.e. two plots given in one column)"
   ]
  },
  {
   "cell_type": "code",
   "execution_count": null,
   "metadata": {},
   "outputs": [],
   "source": [
    "plt.figure(figsize=(11, 5))\n",
    "\n",
    "## 2 rows, 2 columns, first subplot position (i.e. top, left position)\n",
    "plt.subplot(2, 2, 1)\n",
    "plot_line()\n",
    "\n",
    "## 2 rows, 2 columns, third subplot position (i.e. bottom, left position)\n",
    "## Bottom, left position\n",
    "plt.subplot(2, 2, 3)\n",
    "plot_scatter()\n",
    "\n",
    "## 1 rows, 2 columns, second subplot position (i.e. top + bottom, right position)\n",
    "## right position\n",
    "plt.subplot(1, 2, 2)\n",
    "plot_bar()\n",
    "\n",
    "plt.tight_layout(w_pad=3.0, h_pad=3.0)\n",
    "plt.show()"
   ]
  },
  {
   "cell_type": "markdown",
   "metadata": {},
   "source": [
    "#### Adding a little bit more control (and some new data analysis ideas)\n",
    "\n",
    "First, let's make some new data that will be interesting:"
   ]
  },
  {
   "cell_type": "code",
   "execution_count": null,
   "metadata": {},
   "outputs": [],
   "source": [
    "x_data = np.random.randn(100)\n",
    "y_data = np.random.randn(100)"
   ]
  },
  {
   "cell_type": "markdown",
   "metadata": {},
   "source": [
    "Reset defaults values (i.e. not xkcd)"
   ]
  },
  {
   "cell_type": "code",
   "execution_count": null,
   "metadata": {},
   "outputs": [],
   "source": [
    "plt.rcdefaults()"
   ]
  },
  {
   "cell_type": "markdown",
   "metadata": {},
   "source": [
    "Let create subplots:\n",
    "- plot three graphs (scatter, cumulative sum line and histogram) in a 2x2 uniform grid pattern\n",
    "\n",
    "- 2 rows by 2 column grid\n",
    "\n",
    "**sidenote**:\n",
    "- Cumulative sum using Numpy's `cumsum`: https://numpy.org/doc/stable/reference/generated/numpy.cumsum.html\n",
    "- Histogram: https://matplotlib.org/stable/api/_as_gen/matplotlib.pyplot.hist.html"
   ]
  },
  {
   "cell_type": "code",
   "execution_count": null,
   "metadata": {},
   "outputs": [],
   "source": [
    "fig = plt.figure()\n",
    "\n",
    "fig.subplots_adjust(wspace=0.5, hspace=1.0)\n",
    "\n",
    "## 2x2 grid for plots \n",
    "ax1 = fig.add_subplot(2, 2, 1) ## first plot\n",
    "ax2 = fig.add_subplot(2, 2, 2) ## second plot\n",
    "ax3 = fig.add_subplot(2, 2, 3) ## third plot\n",
    "\n",
    "ax1.set_xlabel(xlabel='plot 1 xlabel')\n",
    "ax1.set_ylabel(ylabel='plot 1 ylabel')\n",
    "ax1.set_xlim(-5, 5)\n",
    "\n",
    "ax2.set_xlabel(xlabel='plot 2 xlabel')\n",
    "ax2.set_ylabel(ylabel='plot 2 ylabel')\n",
    "ax2.set_xlim(0, 50)\n",
    "\n",
    "ax3.set_xlabel(xlabel='plot 3 xlabel')\n",
    "ax3.set_ylabel(ylabel='plot 3 ylabel')\n",
    "ax3.set_xlim(-5, 5)\n",
    "\n",
    "ax1.scatter(x_data, y_data, color='blue')\n",
    "\n",
    "ax2.plot(x_data.cumsum(), color='red', linewidth=2, linestyle='solid')\n",
    "\n",
    "ax3.hist(x_data, bins=20, color='green', alpha=0.3)\n",
    "\n",
    "plt.show()"
   ]
  },
  {
   "cell_type": "code",
   "execution_count": null,
   "metadata": {},
   "outputs": [],
   "source": []
  }
 ],
 "metadata": {
  "celltoolbar": "Raw Cell Format",
  "kernelspec": {
   "display_name": "Python 3 (ipykernel)",
   "language": "python",
   "name": "python3"
  },
  "language_info": {
   "codemirror_mode": {
    "name": "ipython",
    "version": 3
   },
   "file_extension": ".py",
   "mimetype": "text/x-python",
   "name": "python",
   "nbconvert_exporter": "python",
   "pygments_lexer": "ipython3",
   "version": "3.8.10"
  }
 },
 "nbformat": 4,
 "nbformat_minor": 2
}
