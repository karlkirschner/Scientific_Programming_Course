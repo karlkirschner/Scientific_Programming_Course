{
 "cells": [
  {
   "cell_type": "markdown",
   "metadata": {},
   "source": [
    "<div class=\"alert block alert-info alert\">\n",
    "\n",
    "# <center> Scientific Programming in Python\n",
    "\n",
    "## <center>Karl N. Kirschner<br>Bonn-Rhein-Sieg University of Applied Sciences<br>Sankt Augustin, Germany\n",
    "\n",
    "# <center> Data Visualization using matplotlib<br>Understanding and interpreting data through visualization<br>(e.g., seeing patterns, outliers, developing a \"feel\" for the data)\n",
    "\n",
    "**Source**: https://matplotlib.org\n",
    "<br><br>\n",
    "\n",
    "\n",
    "A highly popular plotting library (https://matplotlib.org/stable/gallery/index.html examples with code)\n",
    "\n",
    "\n",
    "**Exports**: pdf, svg, ps, eps, jpg, png, bmp, gif\n",
    "\n",
    "\n",
    "### For citing matplotlib:\n",
    "\n",
    "Hunter, J.D., 2007. Matplotlib: A 2D graphics environment. IEEE Annals of the History of Computing, 9(03), pp.90-95.\n",
    "<br><br>    \n",
    "    \n",
    "**Bibtex file**:\n",
    "\n",
    "@Article{Hunter:2007,\n",
    "\n",
    "  Author    = {Hunter, J. D.},\n",
    "\n",
    "  Title     = {Matplotlib: A 2D graphics environment},\n",
    "\n",
    "  Journal   = {Computing In Science \\& Engineering},\n",
    "\n",
    "  Volume    = {9},\n",
    "\n",
    "  Number    = {3},\n",
    "\n",
    "  Pages     = {90--95},\n",
    "\n",
    "  abstract  = {Matplotlib is a 2D graphics package used for Python for application development, interactive scripting, and publication-quality image generation across user interfaces and operating systems.},\n",
    "\n",
    "  publisher = {IEEE COMPUTER SOC},\n",
    "\n",
    "  doi       = {10.1109/MCSE.2007.55},\n",
    "\n",
    "  year      = 2007\n",
    "\n",
    "}\n",
    "\n",
    "### Helpful documents\n",
    "- https://github.com/matplotlib/cheatsheets\n",
    "\n",
    "<hr style=\"border:2px solid gray\"></hr>\n",
    "\n",
    "**Note**: All user-defined functions shown within the notebook do not include document strings (i.e., block comments) or internal checks. This is purposely done to focus on the teaching aspects of the lecture. **A full and proper user-defined function would include these.**"
   ]
  },
  {
   "cell_type": "code",
   "execution_count": null,
   "metadata": {},
   "outputs": [],
   "source": [
    "## For extra information given within the lectures\n",
    "\n",
    "from IPython.display import HTML\n",
    "\n",
    "\n",
    "def set_code_background(color: str):\n",
    "    ''' Set the background color for code cells.\n",
    "\n",
    "        Source: psychemedia via https://stackoverflow.com/questions/49429585/\n",
    "                how-to-change-the-background-color-of-a-single-cell-in-a-jupyter-notebook-jupy\n",
    "\n",
    "        To match Jupyter's dev class colors:\n",
    "            \"alert alert-block alert-warning\" = #fcf8e3\n",
    "\n",
    "        Args:\n",
    "            color: HTML color, rgba, hex\n",
    "    '''\n",
    "\n",
    "    script = (\"var cell = this.closest('.code_cell');\"\n",
    "              \"var editor = cell.querySelector('.input_area');\"\n",
    "              f\"editor.style.background='{color}';\"\n",
    "              \"this.parentNode.removeChild(this)\")\n",
    "    display(HTML(f'<img src onerror=\"{script}\">'))\n",
    "\n",
    "\n",
    "set_code_background(color='#fcf8e3')"
   ]
  },
  {
   "cell_type": "code",
   "execution_count": null,
   "metadata": {},
   "outputs": [],
   "source": [
    "## Jupyter notebook - allows plot interactions\n",
    "#%matplotlib notebook\n",
    "\n",
    "import matplotlib\n",
    "import matplotlib.pyplot as plt\n",
    "import numpy as np\n",
    "import random\n",
    "\n",
    "print(matplotlib.__version__)\n",
    "print(np.__version__)"
   ]
  },
  {
   "cell_type": "code",
   "execution_count": null,
   "metadata": {},
   "outputs": [],
   "source": [
    "## uncomment the following to test the help function\n",
    "#help(plt.plot)"
   ]
  },
  {
   "cell_type": "markdown",
   "metadata": {},
   "source": [
    "## Line Plots\n",
    "\n",
    "The **pyplot.plot** function\n",
    "\n",
    "`matplotlib.pyplot.plot(*args, scalex=True, scaley=True, data=None, **kwargs)`\n",
    "\n",
    "\n",
    "- pyplot: https://matplotlib.org/stable/api/pyplot_summary.html#module-matplotlib.pyplot\n",
    "- plot https://matplotlib.org/stable/api/_as_gen/matplotlib.pyplot.plot.html)\n",
    "    - display <font color='DodgerBlue'>x, y</font> data using <font color='DodgerBlue'>lines and markers</font>\n",
    "\n",
    "1. The <font color='DodgerBlue'>order of the x, y data is important</font> - allowing you to connect them with a line\n",
    "    - Good for sequential data (e.g., time, distance)\n",
    "\n",
    "\n",
    "2. Input data - two options:\n",
    "    - y data alone (x defaults to an index array), or \n",
    "    - x, y data combination"
   ]
  },
  {
   "cell_type": "code",
   "execution_count": null,
   "metadata": {},
   "outputs": [],
   "source": [
    "y_data = [0, 1, 4, 9, 16, 25]\n",
    "\n",
    "plt.plot(y_data)\n",
    "plt.show()"
   ]
  },
  {
   "cell_type": "markdown",
   "metadata": {},
   "source": [
    "Notice that I am **not** passing the **y_data** using a **variable name** (e.g. `y=y_data`).\n",
    "\n",
    "For matplotlib, you always specify the x- and y-data in this manner."
   ]
  },
  {
   "cell_type": "markdown",
   "metadata": {},
   "source": [
    "#### Title, Axis Labels, Tick Labels and Fontsize\n",
    "\n",
    "Let's add some additional information to the figure."
   ]
  },
  {
   "cell_type": "code",
   "execution_count": null,
   "metadata": {},
   "outputs": [],
   "source": [
    "plt.plot(y_data)\n",
    "\n",
    "plt.title('The Square of 0-5', fontsize=24)\n",
    "\n",
    "plt.xlabel('Interger n', fontsize=20)\n",
    "plt.ylabel('Interger n$^2$', fontsize=20)\n",
    "\n",
    "plt.tick_params(axis='both', labelsize=14)\n",
    "\n",
    "plt.show()"
   ]
  },
  {
   "cell_type": "markdown",
   "metadata": {},
   "source": [
    "#### Legend and Grids\n",
    "\n",
    "- Legend: https://matplotlib.org/stable/api/_as_gen/matplotlib.pyplot.legend.html\n",
    "    - `loc`: `center`, `upper left`, `upper right`, `lower left`, `lower right`, `upper center`, `lower center`, `center left`, `center right` or `best` (default)\n",
    "    - `fontsize`: `xx-small`, `'x-small`, `small`, `medium`, `large`, `x-large` or `xx-large`\n",
    "\n",
    "\n",
    "- Grid: https://matplotlib.org/stable/api/_as_gen/matplotlib.pyplot.grid.html\n",
    "    - `visible`: `True` or `False`\n",
    "    - `which`: `major`, `minor` or `both`\n",
    "    - `axis`: `x`, `y` or`both`"
   ]
  },
  {
   "cell_type": "code",
   "execution_count": null,
   "metadata": {},
   "outputs": [],
   "source": [
    "plt.plot(y_data, label='My Y Label')\n",
    "\n",
    "plt.legend(loc='upper center', fontsize='x-large')\n",
    "\n",
    "plt.grid(visible=True, which='major', axis='x')\n",
    "\n",
    "plt.show()"
   ]
  },
  {
   "cell_type": "markdown",
   "metadata": {},
   "source": [
    "#### Line and Marker Styles\n",
    "\n",
    "- `linestyle`: `‘solid’` (default), `‘dashed’`, `‘dashdot’`, `‘dotted’`\n",
    "\n",
    "- `marker`: more on this later\n",
    "\n",
    "- `markersize`"
   ]
  },
  {
   "cell_type": "code",
   "execution_count": null,
   "metadata": {},
   "outputs": [],
   "source": [
    "plt.plot(y_data,\n",
    "         linestyle='dashdot', linewidth=2, \n",
    "         marker='o', markersize=10)\n",
    "plt.show()"
   ]
  },
  {
   "cell_type": "markdown",
   "metadata": {},
   "source": [
    "<hr style=\"border:2px solid gray\"></hr>\n",
    "\n",
    "##### Sidenote: Mathematics within the matplotlib library = NumPy versus regular lists\n",
    "\n",
    "###### NumPy"
   ]
  },
  {
   "cell_type": "code",
   "execution_count": null,
   "metadata": {},
   "outputs": [],
   "source": [
    "numpy_data = np.arange(0, 6, 1)\n",
    "numpy_data"
   ]
  },
  {
   "cell_type": "markdown",
   "metadata": {},
   "source": [
    "This allows us to do mathematics over the entire array easily:"
   ]
  },
  {
   "cell_type": "code",
   "execution_count": null,
   "metadata": {},
   "outputs": [],
   "source": [
    "plt.figure()\n",
    "\n",
    "plt.plot(numpy_data**2)\n",
    "plt.show()"
   ]
  },
  {
   "cell_type": "markdown",
   "metadata": {},
   "source": [
    "NumPy makes this easy to do within matplotlib.\n",
    "\n",
    "###### Regular Lists\n",
    "\n",
    "Now, let's show how one might do this using Regular Lists and the built-in function range:"
   ]
  },
  {
   "cell_type": "code",
   "execution_count": null,
   "metadata": {},
   "outputs": [],
   "source": [
    "range_data = range(0, 6, 1)\n",
    "\n",
    "plt.plot(range_data**2)\n",
    "plt.show() "
   ]
  },
  {
   "cell_type": "markdown",
   "metadata": {},
   "source": [
    "As seen, the **math does not work using a list** with the plot function, so the solution is to create\n",
    "\n",
    "1. a loop\n",
    "\n",
    "2. a lambda function (with map: https://docs.python.org/3/library/functions.html#map)\n",
    "\n",
    "3. use list comprehension"
   ]
  },
  {
   "cell_type": "code",
   "execution_count": null,
   "metadata": {},
   "outputs": [],
   "source": [
    "squared_values = []\n",
    "\n",
    "## 1. a loop\n",
    "# for value in range_data:\n",
    "#     squared_values.append(value**2)\n",
    "\n",
    "## 2. a lambda function with map\n",
    "# squared_values = list(map(lambda x: x**2, range_data))\n",
    "\n",
    "## 3. List comprehension\n",
    "squared_values = [x**2 for x in range_data]\n",
    "\n",
    "plt.plot(squared_values)\n",
    "plt.show()"
   ]
  },
  {
   "cell_type": "markdown",
   "metadata": {},
   "source": [
    "<hr style=\"border:2px solid gray\"></hr>\n",
    "\n",
    "## Scatter Plots\n",
    "\n",
    "`matplotlib.pyplot.scatter(x, y, s=None, c=None, marker=None, cmap=None, norm=None, vmin=None, vmax=None, alpha=None, linewidths=None, *, edgecolors=None, plotnonfinite=False, data=None, **kwargs)`\n",
    "\n",
    "https://matplotlib.org/stable/api/_as_gen/matplotlib.pyplot.scatter.html\n",
    "\n",
    "1. Data plotted using markers only (i.e., <font color='DodgerBlue'>Data will not connected using a line</font>)\n",
    "\n",
    "2. Need both x, y data points\n",
    "\n",
    "3. Good for data that isn't sequential\n",
    "\n",
    "4. Can color code regions on the plot\n",
    "\n",
    "\n",
    "Let's create some randomly distributed data that is a sampling between 0 and 1000."
   ]
  },
  {
   "cell_type": "code",
   "execution_count": null,
   "metadata": {},
   "outputs": [],
   "source": [
    "x_values = range(0, 1000, 50)\n",
    "\n",
    "y_values = random.sample(range(0, 1000, 1), 20)"
   ]
  },
  {
   "cell_type": "markdown",
   "metadata": {},
   "source": [
    "**Note**\n",
    "- `s` is the pointsize (recall that for `line` plots, the size was specirfied using `markersize`)"
   ]
  },
  {
   "cell_type": "code",
   "execution_count": null,
   "metadata": {},
   "outputs": [],
   "source": [
    "plt.scatter(x_values, y_values, s=100)\n",
    "plt.show()"
   ]
  },
  {
   "cell_type": "code",
   "execution_count": null,
   "metadata": {},
   "outputs": [],
   "source": [
    "plt.plot(x_values, y_values)\n",
    "plt.show()"
   ]
  },
  {
   "cell_type": "markdown",
   "metadata": {},
   "source": [
    "## Marker Style and Color Control\n",
    "\n",
    "### Color\n",
    "\n",
    "https://matplotlib.org/stable/tutorials/colors/colors.html\n",
    "\n",
    "#### Specification:\n",
    "1. RGB / RGBA (alpha = transparency - a.k.a. opacity): e.g., `[0.6, 0.2, 0.2, 0.3]`\n",
    "\n",
    "2. Hex RGB / RGBA: e.g., `#9467bd`\n",
    "\n",
    "3. Single character (shorthand):\n",
    "    - `b` as blue\n",
    "    - `g` as green\n",
    "    - `r` as red\n",
    "    - `c` as cyan\n",
    "    - `m` as magenta\n",
    "    - `y` as yellow\n",
    "    - `k` as black\n",
    "    - `w` as white\n",
    "\n",
    "4. Case-insensitive X11/CSS4 color (name without spaces): e.g., `red`, `aquamarine`, `'mediumseagreen'`, `'darkseagreen'`\n",
    "\n",
    "5. \"CN\" color, where N is an integer: eg., `C5`"
   ]
  },
  {
   "cell_type": "markdown",
   "metadata": {},
   "source": [
    "- Let's do this efficiently"
   ]
  },
  {
   "cell_type": "code",
   "execution_count": null,
   "metadata": {},
   "outputs": [],
   "source": [
    "# RGBA, Hex RGB, Single Character, CN specification\n",
    "color_list = [[0.6, 0.8, 0.2, 0.5], '#9467bd', 'b', 'mediumseagreen', 'C5']\n",
    "\n",
    "for color in color_list:\n",
    "    plt.scatter(x_values, y_values, facecolor=color, s=200)\n",
    "    plt.show()"
   ]
  },
  {
   "cell_type": "markdown",
   "metadata": {},
   "source": [
    "### Maker Style\n",
    "\n",
    "#### Shape (`marker=None`)\n",
    "\n",
    "- Basic: https://matplotlib.org/stable/api/markers_api.html\n",
    "\n",
    "Examples:\n",
    "- `marker=\"o\"` - circle (default)\n",
    "- `marker=\"h\"` - hexagon1\n",
    "\n",
    "#### Additional color control\n",
    "1. `facecolor=None`\n",
    "2. `edgecolor=None`\n",
    "3. `linewidth=None` - of the shape's edge\n",
    "4. `alpha=None` - facecolor and edgecolor transparency"
   ]
  },
  {
   "cell_type": "code",
   "execution_count": null,
   "metadata": {},
   "outputs": [],
   "source": [
    "plt.scatter(x_values, y_values,\n",
    "            marker='h', s=200, linewidth=5,\n",
    "            facecolor='orange', edgecolor='purple',\n",
    "            alpha=0.5)\n",
    "plt.show()"
   ]
  },
  {
   "cell_type": "markdown",
   "metadata": {},
   "source": [
    "####  Colormaps (cmap)\n",
    "\n",
    "- a preset collection of color combinations\n",
    "- certain **color combinations** have **advantages** for viewing *certain types* of **data**\n",
    "\n",
    "\n",
    "#####  <font color='DodgerBlue'>Colormaps categories</font>\n",
    "\n",
    "Good scientific practice for presenting data: you must **think** about how the data is behaving.\n",
    "\n",
    "- **Sequential**: data has some **consecutive/continuous ordering** to it (e.g., temperature)\n",
    "- **Diverging**: data's **middle value** is **important** (e.g., deviation around 0, or a mean)\n",
    "- **Cyclic**: data's **endpoint(s) wrap around** (e.g., circular data...time of day, seasons)\n",
    "- **Qualitative**: data that **lacks ordering or relationships** (e.g., random events)\n",
    "\n",
    "\n",
    "- **Examples**: https://matplotlib.org/stable/tutorials/colors/colormaps.html\n",
    "\n",
    "<br>\n",
    "\n",
    "<b>Parameters</b>\n",
    "Parameters needed (https://matplotlib.org/stable/api/_as_gen/matplotlib.pyplot.scatter.html):\n",
    "- `c` is the marker color - what the color is dependent upon \n",
    "- `cmap` is the colormap\n",
    "\n",
    "Usage examples - the data is mapped using different built-in color schemes based on the y-value:\n",
    "\n",
    "- `c=y_value, cmap=plt.cm.prism`\n",
    "- `c=y_value, cmap=plt.cm.rainbow`\n",
    "- `c=y_value, cmap=plt.cm.PuRd`"
   ]
  },
  {
   "cell_type": "code",
   "execution_count": null,
   "metadata": {},
   "outputs": [],
   "source": [
    "plt.scatter(x_values, y_values, c=y_values, cmap=plt.cm.plasma, s=200)\n",
    "plt.show()"
   ]
  },
  {
   "cell_type": "markdown",
   "metadata": {},
   "source": [
    "## Ticklabels and Format\n",
    "\n",
    "https://matplotlib.org/stable/api/_as_gen/matplotlib.axes.Axes.ticklabel_format.html\n",
    "\n",
    "`Axes.ticklabel_format(*, axis='both', style='', scilimits=None, useOffset=None, useLocale=None, useMathText=None)`\n",
    "\n",
    "Control tick labels using scientific notation and indicating the number of digits\n",
    "- `axis`: `x`, `y` or `both`\n",
    "- `style='scientific'` - 'scientific' or 'plain'\n",
    "\n",
    "- `scilimits=(m, n)` - **Scientific notation** is **used** only for numbers **outside** the range **$10^m$** to **$10^n$**\n",
    "    - **default** `(-5, 6)`: use scientific notation on numbers **outside** of **0.00001 - 1000000**\n",
    "    - `(0, 0)`: use outside of **1 - 1** (i.e., $10^0 = 1$)\n",
    "    - `(0, 3)`: use outside of **1 - 1000**\n",
    "        - due to the example data ranging from 0-950, this results in the same as `(-5, 6)`"
   ]
  },
  {
   "cell_type": "code",
   "execution_count": null,
   "metadata": {},
   "outputs": [],
   "source": [
    "plt.scatter(x_values, y_values, c=y_values, cmap=plt.cm.prism, s=200)\n",
    "\n",
    "plt.ticklabel_format(axis='x', style='scientific', scilimits=(0, 3)) # scilimits=(-5, 6), (0, 0), or (0, 3)\n",
    "\n",
    "plt.show()"
   ]
  },
  {
   "cell_type": "markdown",
   "metadata": {},
   "source": [
    "## Output File Format and Resolution\n",
    "\n",
    "Formats: png, pdf, ps, eps and svg\n",
    "\n",
    "Recommended formats: **svg** and **pdf** (don't need to worry about setting the resolution than using DPI).\n",
    "\n",
    "A **png** formatted file is also a good option. The **\"dots-per-inch\" (dpi)** is important for this. For print material, you need a minimum of **300 dpi**.\n",
    "\n",
    "- https://matplotlib.org/stable/api/_as_gen/matplotlib.pyplot.figure.html\n",
    "    - figure size (`figsize=[wdith, height]` are in inches) (default: [6.4, 4.8])\n",
    "    - dots-per-inch\" (`dpi`) (default: 100.0)\n",
    "        - low: 72 dpi (i.e., web)\n",
    "        - standard: 300 dpi (i.e., printing - thesis, brochures)\n",
    "        - high: 600 dpi (i.e., exhibition-quality art)\n",
    "<br>\n",
    "\n",
    "- https://matplotlib.org/stable/api/_as_gen/matplotlib.pyplot.savefig.html\n",
    "    - save figure (`savefig`)\n",
    "    - bounding box tight trimming (`bbox_inches='tight'`)\n",
    "    - output format: 'png', 'pdf', 'svg', etc."
   ]
  },
  {
   "cell_type": "code",
   "execution_count": null,
   "metadata": {},
   "outputs": [],
   "source": [
    "plt.figure(figsize=[3.0, 2.0], dpi=300, layout='tight')\n",
    "\n",
    "plt.scatter(x_values, y_values, c=y_values, cmap=plt.cm.plasma, s=50)\n",
    "\n",
    "plt.savefig('squares.pdf', bbox_inches='tight')\n",
    "\n",
    "plt.show()"
   ]
  },
  {
   "cell_type": "markdown",
   "metadata": {},
   "source": [
    "<hr style=\"border:2px solid gray\"></hr>\n",
    "\n",
    "## Overlay Multiple Data Sets\n",
    "\n",
    "- Write two consecutive `plt` statements\n",
    "\n",
    "Let's create a new data set for fun\n",
    "- human versus alien signals using NumPy's trigonometry functions"
   ]
  },
  {
   "cell_type": "code",
   "execution_count": null,
   "metadata": {},
   "outputs": [],
   "source": [
    "x_data = np.arange(0.0, 1.0, 0.01)\n",
    "\n",
    "y_data_human = 1 + np.sin(2 * np.pi * x_data)\n",
    "y_data_alien = 1 + np.cos(2 * np.pi * x_data)"
   ]
  },
  {
   "cell_type": "markdown",
   "metadata": {},
   "source": [
    "The **human** signal (given **first**) will be **overlapped** by the **alien** signal (given **second**):"
   ]
  },
  {
   "cell_type": "code",
   "execution_count": null,
   "metadata": {},
   "outputs": [],
   "source": [
    "plt.plot(x_data, y_data_human, color='black',\n",
    "         linewidth=5, linestyle='solid', label='Human Signal')\n",
    "\n",
    "plt.plot(x_data, y_data_alien, color='red',\n",
    "         linewidth=5, linestyle='solid', label='Alien Signal')\n",
    "\n",
    "legend = plt.legend(loc='upper center', fontsize='large', shadow=True)\n",
    "\n",
    "plt.xlabel(xlabel='X-Axis (Unit)')\n",
    "plt.ylabel(ylabel='Y-Axis (Unit)')\n",
    "\n",
    "plt.title(label='Detecting Alien Life')\n",
    "\n",
    "plt.show()"
   ]
  },
  {
   "cell_type": "markdown",
   "metadata": {},
   "source": [
    "## Adavanced Formatting Issues\n",
    "1. tick label `rotation` = 'vertical' or 'horizontal'\n",
    "2. `labelpad` = n pts (space between tick labels and axis label)\n",
    "3. tickmark `width` and `length` (via `tick_params`)\n",
    "4. axes `linewidth` (via runtime configuration (`rc`))\n",
    "5. `fontsize` = n pts\n",
    "6. `fontstyle` = 'normal', 'italic' or 'oblique'\n",
    "7. `fontweight` = 'normal', 'bold', 'heavy' or 'light'"
   ]
  },
  {
   "cell_type": "markdown",
   "metadata": {},
   "source": [
    "### Reset plotting defaults\n",
    "- rc: config parameters for matplotliib"
   ]
  },
  {
   "cell_type": "code",
   "execution_count": null,
   "metadata": {},
   "outputs": [],
   "source": [
    "## new idea: reset the defaults\n",
    "plt.rcdefaults()"
   ]
  },
  {
   "cell_type": "code",
   "execution_count": null,
   "metadata": {},
   "outputs": [],
   "source": [
    "## Sometimes you might need to clear the matplotlib cache to obtain the correct font.\n",
    "\n",
    "# import matplotlib.font_manager\n",
    "# matplotlib.font_manager._load_fontmanager(try_read_cache=False)"
   ]
  },
  {
   "cell_type": "code",
   "execution_count": null,
   "metadata": {},
   "outputs": [],
   "source": [
    "## new idea: axes linewidth\n",
    "plt.rc('axes', linewidth=5)"
   ]
  },
  {
   "cell_type": "code",
   "execution_count": null,
   "metadata": {},
   "outputs": [],
   "source": [
    "plt.plot(x_data, y_data_human, color='black',\n",
    "         linewidth=5, linestyle='solid', label='Human Signal')\n",
    "\n",
    "plt.plot(x_data, y_data_alien, color='red',\n",
    "         linewidth=5, linestyle='solid', label='Alien Signal')\n",
    "\n",
    "plt.legend(loc='upper center', shadow=True, fontsize='x-large', frameon=True)\n",
    "\n",
    "## new idea: rotation\n",
    "plt.xticks(rotation='vertical', fontsize=18)\n",
    "plt.yticks(rotation='horizontal', fontsize=18)\n",
    "\n",
    "## new idea: labelpad\n",
    "plt.xlabel(xlabel='X-Axis (unit)', fontsize=18, fontweight='bold', labelpad=15)\n",
    "plt.ylabel(ylabel='Y-Axis (unit)', fontsize=18, fontweight='bold', labelpad=15)\n",
    "\n",
    "## new idea: title fontsize, fontstyle, fontweight\n",
    "plt.title(label='Legal vs. Illegal Space Aliens',\n",
    "          fontsize=18, fontstyle='italic', fontweight='bold')\n",
    "\n",
    "\n",
    "## new idea: major tick mark's length, width and color\n",
    "plt.tick_params(which='major', length=10, width=5, colors='purple')\n",
    "\n",
    "plt.show()"
   ]
  },
  {
   "cell_type": "markdown",
   "metadata": {},
   "source": [
    "\n",
    "## Controlling major tick mark range and minor ticks"
   ]
  },
  {
   "cell_type": "code",
   "execution_count": null,
   "metadata": {},
   "outputs": [],
   "source": [
    "## new idea: minor ticks\n",
    "from matplotlib.ticker import AutoMinorLocator\n",
    "\n",
    "plt.rcdefaults()\n",
    "plt.rc('axes', linewidth=2)"
   ]
  },
  {
   "cell_type": "code",
   "execution_count": null,
   "metadata": {},
   "outputs": [],
   "source": [
    "plt.plot(x_data, y_data_human, color='black',\n",
    "         linewidth=5, linestyle='solid', label='Human Signal')\n",
    "\n",
    "plt.plot(x_data, y_data_alien, color='red',\n",
    "         linewidth=5, linestyle='dashdot', label='Alien Signal')\n",
    "\n",
    "plt.legend(loc='upper center', shadow=False, fontsize='x-large', frameon=True)\n",
    "\n",
    "plt.xlabel(xlabel='X-Axis (unit)', fontsize=18, fontweight='bold', labelpad=15)\n",
    "plt.ylabel(ylabel='Y-Axis (unit)', fontsize=18, fontweight='bold', labelpad=15)\n",
    "\n",
    "plt.title(label='Legal vs. Illegal Space Aliens',\n",
    "          fontsize=18, fontstyle='italic', fontweight='bold')\n",
    "\n",
    "## new ideas: tick range\n",
    "##     must use NumPy since the axis values are floats\n",
    "##     the \"+ 1\" is needed to print the \"2\" major tick mark\n",
    "my_y_range = np.arange(min(y_data_human), max(y_data_human)+1, 1.0)\n",
    "\n",
    "plt.yticks(my_y_range, fontsize=18)\n",
    "\n",
    "## new ideas: or using Numpy Directly\n",
    "plt.xticks(np.array([0.0, 0.25, 0.5, 0.7, 1.0]), rotation='vertical', fontsize=18)\n",
    "\n",
    "## new ideas: major AND minor tick control\n",
    "plt.minorticks_on()\n",
    "plt.tick_params(axis='x', which='minor', direction='out')\n",
    "\n",
    "plt.tick_params(which='both', width=5)\n",
    "\n",
    "plt.tick_params(which='major', length=15, colors='purple')\n",
    "plt.tick_params(which='minor', length=7.5, color='orange')\n",
    "\n",
    "plt.show()"
   ]
  },
  {
   "cell_type": "markdown",
   "metadata": {},
   "source": [
    "## Fine control of how the data points and lines overlap\n",
    "\n",
    "- `zorder`: https://matplotlib.org/stable/gallery/misc/zorder_demo.html\n",
    "\n",
    "Now and concerning the above graph, let's switch the line that is in the foreground.\n",
    "- orange line on top of the blue line"
   ]
  },
  {
   "cell_type": "code",
   "execution_count": null,
   "metadata": {},
   "outputs": [],
   "source": [
    "plt.rcdefaults()"
   ]
  },
  {
   "cell_type": "code",
   "execution_count": null,
   "metadata": {},
   "outputs": [],
   "source": [
    "plt.plot(x_data, y_data_human, label='Human Signal', linewidth=15, color='black', zorder=1)\n",
    "plt.plot(x_data, y_data_alien, label='Alien Signal', linewidth=15, color='red', zorder=2)\n",
    "\n",
    "plt.show()"
   ]
  },
  {
   "cell_type": "markdown",
   "metadata": {},
   "source": [
    "- blue line on top of the orange line"
   ]
  },
  {
   "cell_type": "code",
   "execution_count": null,
   "metadata": {},
   "outputs": [],
   "source": [
    "plt.plot(x_data, y_data_human, label='Human Signal', linewidth=15, color='black', zorder=2)\n",
    "plt.plot(x_data, y_data_alien, label='Alien Signal', linewidth=15, color='red', zorder=1)\n",
    "\n",
    "plt.show()"
   ]
  },
  {
   "cell_type": "markdown",
   "metadata": {},
   "source": [
    "## Predefined styles\n",
    "\n",
    "- https://matplotlib.org/stable/gallery/style_sheets/style_sheets_reference.html"
   ]
  },
  {
   "cell_type": "code",
   "execution_count": null,
   "metadata": {},
   "outputs": [],
   "source": [
    "plt.style.available[:]"
   ]
  },
  {
   "cell_type": "code",
   "execution_count": null,
   "metadata": {},
   "outputs": [],
   "source": [
    "plt.style.use('fivethirtyeight')\n",
    "\n",
    "plt.plot(x_data, y_data_human, label='Human Signal', linewidth=5)\n",
    "plt.plot(x_data, y_data_alien, label='Alien Signal', linewidth=5)\n",
    "\n",
    "plt.show()"
   ]
  },
  {
   "cell_type": "code",
   "execution_count": null,
   "metadata": {},
   "outputs": [],
   "source": [
    "## new idea: reset the style to default\n",
    "plt.style.use('default')\n",
    "\n",
    "plt.plot(x_data, y_data_human, label='Human Signal', linewidth=5)\n",
    "plt.plot(x_data, y_data_alien, label='Alien Signal', linewidth=5)\n",
    "\n",
    "plt.show()"
   ]
  },
  {
   "cell_type": "markdown",
   "metadata": {},
   "source": [
    "<hr style=\"border:2px solid gray\"></hr>\n",
    "\n",
    "## Bar plot\n",
    "\n",
    "`matplotlib.pyplot.bar(x, height, width=0.8, bottom=None, *, align='center', data=None, **kwargs)`\n",
    "\n",
    "https://matplotlib.org/stable/api/_as_gen/matplotlib.pyplot.bar.html?highlight=bar#matplotlib.pyplot.bar\n",
    "\n",
    "`x` : sequence of scalars -- the x coordinates of the bars (see also align for the alignment of the bars to the coordinates.)\n",
    "\n",
    "`height` : scalar or sequence of scalars -- The height(s) of the bars.\n",
    "\n",
    "`width` : scalar or array-like, optional -- The width(s) of the bars (default: 0.8).\n",
    "<br><br>\n",
    "\n",
    "**Example**: Let's create a bar plot that does the following:\n",
    "- shows the mean value of some fake experimental and simulated data\n",
    "- shows the standard deviation of those data"
   ]
  },
  {
   "cell_type": "code",
   "execution_count": null,
   "metadata": {},
   "outputs": [],
   "source": [
    "time = [0.0, 0.5, 1.0, 1.5, 2.0, 2.5, 3.0, 3.5, 4.0,\n",
    "        4.5, 5.0, 5.5, 6.0, 6.5, 7.0, 7.5, 8.0, 8.5,\n",
    "        9.0, 9.5, 10.0, 10.5, 11.0, 11.5, 12.0, 12.5,\n",
    "        13.0, 13.5]\n",
    "\n",
    "exp = [0.1185, 0.6524, 0.1291, 0.9445, 0.0272, 0.7598, 0.8159, 0.8003,\n",
    "       0.5716, 0.6651, 0.9983, 0.1004, 0.8433, 0.0067, 0.8238, 0.3952,\n",
    "       0.6452, 0.848, 0.1986, 0.9114, 0.7693, 0.5009, 0.211, 0.9227,\n",
    "       0.0461, 0.2177, 0.9554, 0.613]\n",
    "\n",
    "sim = [0.2255, 0.3052, 0.0744, 0.7611, 0.1183, 0.045, 0.2669, 0.177,\n",
    "       0.2433, 0.2302, 0.0772, 0.0805, 0.6214, 0.1156, 0.1607, 0.042,\n",
    "       0.1123, 0.383, 0.5566, 0.667, 0.5655, 0.4875, 0.0104, 0.4968,\n",
    "       0.2639, 0.2197, 0.944, 0.2423]"
   ]
  },
  {
   "cell_type": "code",
   "execution_count": null,
   "metadata": {},
   "outputs": [],
   "source": [
    "plt.bar(x=time, height=exp, color='red', alpha=0.5, width=0.3, label='Experimental')\n",
    "plt.bar(x=time, height=sim, color='blue', alpha=0.5, width=0.3, label='Simulated')\n",
    "\n",
    "## overlap colors will be red + blue = violet\n",
    "\n",
    "plt.show()"
   ]
  },
  {
   "cell_type": "markdown",
   "metadata": {},
   "source": [
    "##### Customized x-tick labels and bar coloring"
   ]
  },
  {
   "cell_type": "code",
   "execution_count": null,
   "metadata": {},
   "outputs": [],
   "source": [
    "x_axis = [0.0, 1.0, 2.0, 3.0, 4.0, 5.0, 6.0]\n",
    "y_axis = [0.5, 1.0, 2.0, 3.0, 2.0, 1.0, 0.5]\n",
    "\n",
    "plt.bar(x=x_axis, height=y_axis, color=['black', 'black', 'black',\n",
    "                                        'orange', 'black', 'black',\n",
    "                                        'red'])\n",
    "\n",
    "bars_labels = ['Cis', '30.0', 'Gauche', '90.0', '120.0', '150.0', 'Anti']\n",
    "\n",
    "plt.xticks(ticks=x_axis, labels=bars_labels)\n",
    "\n",
    "plt.show()"
   ]
  },
  {
   "cell_type": "markdown",
   "metadata": {},
   "source": [
    "<div class=\"alert alert-block alert-warning\">\n",
    "<hr style=\"border:1.5px dashed gray\"></hr>\n",
    "\n",
    "## Extra Information\n",
    "\n",
    "\n",
    "### A more complex example a bar graph\n",
    "The following bar graph displays the \"exp\" and \"sim\" data\n",
    "- the mean, and\n",
    "- the standard deviation"
   ]
  },
  {
   "cell_type": "code",
   "execution_count": null,
   "metadata": {},
   "outputs": [],
   "source": [
    "exp_average = np.mean(exp)\n",
    "sim_average = np.mean(sim)\n",
    "\n",
    "# sample standard deviation via ddof=1 (i.e. this reproduces libreoffice stdev)\n",
    "exp_std = np.std(exp, ddof=1)\n",
    "sim_std = np.std(sim, ddof=1)\n",
    "\n",
    "print(f'Experimental Average: {exp_average:0.2f}')\n",
    "print(f'Simulated Average: {sim_average:0.2f}\\n')\n",
    "print(f'Experimental Standard Deviation: {exp_std:0.2f}')\n",
    "print(f'Simulated Standard Deviation: {sim_std:0.2f}')"
   ]
  },
  {
   "cell_type": "markdown",
   "metadata": {},
   "source": [
    "<div class=\"alert alert-block alert-warning\">\n",
    "\n",
    "**Note**\n",
    "- Standard deviation will be implemented via `yerr` (error values that correspond to the y data)\n",
    "- Format control over the `yerr` (error is done using `error_kw` (a dictionary that controls the error bar of the bar plot)"
   ]
  },
  {
   "cell_type": "code",
   "execution_count": null,
   "metadata": {},
   "outputs": [],
   "source": [
    "## Setup to show 1 bar graph within each category (i.e. 1 in exp. & 1 in sim.)\n",
    "##   (change to 2, 3 or 4 to see what happens)\n",
    "n_groups = 1\n",
    "index = np.arange(n_groups)\n",
    "\n",
    "bar_width = 0.3\n",
    "\n",
    "rects1 = plt.bar(x=index, height=exp_average, width=bar_width,\n",
    "                 color='red', alpha=0.5, label='Experimental',           \n",
    "                 yerr=exp_std,\n",
    "                 error_kw={'ecolor': 'darkred', 'alpha':0.2, 'elinewidth':4})\n",
    "\n",
    "## to place this bar next to the above one: index+bar_width\n",
    "rects2 = plt.bar(x=(index+bar_width), height=sim_average, width=bar_width,\n",
    "                 color='blue', alpha=0.5, label='Simulated',\n",
    "                 yerr=sim_std,\n",
    "                 error_kw={'ecolor': 'darkblue', 'alpha':0.8, 'elinewidth':8})\n",
    "\n",
    "plt.xlabel(xlabel='Methodology')\n",
    "plt.ylabel(ylabel='Values')\n",
    "plt.title(label='Experimental and Simulated Results')\n",
    "\n",
    "plt.tick_params(axis='x',          ## changes apply only to the x-axis (option: x, y, both)\n",
    "                which='both',      ## both major and minor ticks (major, minor, both)\n",
    "                bottom=False,      ## ticks along the bottom edge are off\n",
    "                top=False,         ## ticks along the top edge are off\n",
    "                labelbottom=False) ## labels along the bottom edge are off\n",
    "\n",
    "plt.legend()\n",
    "plt.grid(False)\n",
    "\n",
    "plt.show()"
   ]
  },
  {
   "cell_type": "markdown",
   "metadata": {},
   "source": [
    "<div class=\"alert alert-block alert-warning\">\n",
    "\n",
    "<hr style=\"border:1.5px dashed gray\"></hr>"
   ]
  },
  {
   "cell_type": "markdown",
   "metadata": {},
   "source": [
    "## Subplots\n",
    "- subplot(nrows, ncols, index)\n",
    "    \n",
    "- https://matplotlib.org/stable/gallery/subplots_axes_and_figures/subplots_demo.html"
   ]
  },
  {
   "cell_type": "markdown",
   "metadata": {},
   "source": [
    "\n",
    "### Functions for repetitive plotting\n",
    "\n",
    "\n",
    "For simplicity, let's define some functions\n",
    "- reuse them for other, but similar data\n",
    "- single location that we can easily alter and debug\n",
    "\n",
    "In this case, we will **define functions** that will **simplify our code** such that we can **focus upon** the idea of **subplots**.\n",
    "\n",
    "<!-- For fun the plot_bar will mimic XKCD comics\n",
    "- has developed cartoon-style plots\n",
    "- https://xkcd.com/1319 -->"
   ]
  },
  {
   "cell_type": "code",
   "execution_count": null,
   "metadata": {},
   "outputs": [],
   "source": [
    "def plot_line():\n",
    "    plt.style.use('fivethirtyeight')\n",
    "\n",
    "    x_data = np.arange(1, 11, 1)\n",
    "    y_data = np.random.randn(len(x_data))\n",
    "\n",
    "    plt.plot(x_data, y_data, linewidth=5, color='orange', linestyle='-', label='Experimental')\n",
    "\n",
    "    plt.xlabel(xlabel='X-Axis (Unit)', fontsize=18, fontweight='bold')\n",
    "    plt.ylabel(ylabel='Y-Axis (Unit)', fontsize=18, fontweight='bold')\n",
    "\n",
    "    plt.yticks(fontsize=14)\n",
    "    plt.xticks(x_data, rotation='vertical', fontsize=14)\n",
    "\n",
    "    plt.title(label='Experimental Results', fontsize=18, fontweight='bold')\n",
    "\n",
    "    plt.legend()\n",
    "\n",
    "\n",
    "def plot_scatter():\n",
    "    plt.style.use('fivethirtyeight')\n",
    "\n",
    "    plt.scatter([1, 2, 3, 4, 7], [1, 4, 9, 16, 49],\n",
    "                linewidth=5, alpha=0.5, s=500, marker='s', label='Tests')\n",
    "\n",
    "\n",
    "def plot_bar():\n",
    "    plt.style.use('fivethirtyeight')\n",
    "\n",
    "    x_data = np.arange(1, 2, 1)\n",
    "\n",
    "    rects1 = plt.bar(x=x_data,\n",
    "                     height=np.random.randn(len(x_data)),\n",
    "                     width=0.3, color='red', alpha=0.4, label='Experimental')\n",
    "\n",
    "    rects2 = plt.bar(x=x_data + 0.3,\n",
    "                     height=np.random.randn(len(x_data)),\n",
    "                     width=0.3, color='blue', alpha=0.4, label='Simulated')\n",
    "\n",
    "    plt.xlabel(xlabel='Methodology')\n",
    "    plt.ylabel(ylabel='Values')\n",
    "    plt.title(label='Results by Methodology')\n",
    "\n",
    "    plt.tick_params(axis='x', which='both', bottom=False, top=False, \n",
    "                    labelbottom=False)\n",
    "    plt.legend()"
   ]
  },
  {
   "cell_type": "markdown",
   "metadata": {},
   "source": [
    "**Example 1**: Plot one figure, but with two subfigures\n",
    "- 1 column\n",
    "- 2 rows"
   ]
  },
  {
   "cell_type": "code",
   "execution_count": null,
   "metadata": {},
   "outputs": [],
   "source": [
    "## needed for the plot\n",
    "plt.figure(figsize=(15, 5))\n",
    "\n",
    "## plt.subplot(2 rows, 1 column, 1st subplot position)\n",
    "plt.subplot(2, 1, 1)\n",
    "plot_line()\n",
    "\n",
    "## plt.subplot(2 rows x 1 column, 2nd subplot position)\n",
    "plt.subplot(2, 1, 2)\n",
    "plot_scatter()\n",
    "\n",
    "## adds an extra height padding between the plots\n",
    "plt.tight_layout(h_pad=3.0)\n",
    "plt.show()"
   ]
  },
  {
   "cell_type": "markdown",
   "metadata": {},
   "source": [
    "**Example 2**: Plot one figure, but with three subfigures\n",
    "- two graphs stacked to the left, and\n",
    "- one graph placed to the right that spans the height of the left two graphs\n",
    "\n",
    "\n",
    "- 2 columns\n",
    "- 2 rows"
   ]
  },
  {
   "cell_type": "code",
   "execution_count": null,
   "metadata": {},
   "outputs": [],
   "source": [
    "plt.figure(figsize=(11, 5))\n",
    "\n",
    "## plt.subplot(2 rows, 2 columns, 1st subplot position) (i.e., top, left position)\n",
    "plt.subplot(2, 2, 1)\n",
    "plot_line()\n",
    "\n",
    "## plt.subplot(1 row, 2 columns, 2nd subplot position) (i.e., top + bottom, right position)\n",
    "## right position\n",
    "plt.subplot(1, 2, 2)\n",
    "plot_bar()\n",
    "\n",
    "## plt.subplot(2 rows, 2 columns, 3rd subplot position) (i.e., bottom, left position)\n",
    "plt.subplot(2, 2, 3)\n",
    "plot_scatter()\n",
    "\n",
    "plt.tight_layout(w_pad=3.0, h_pad=3.0)\n",
    "plt.show()"
   ]
  },
  {
   "cell_type": "markdown",
   "metadata": {},
   "source": [
    "Reset defaults values (i.e., not `fivethirtyeight`) via the runtime configuration defaults function"
   ]
  },
  {
   "cell_type": "code",
   "execution_count": null,
   "metadata": {},
   "outputs": [],
   "source": [
    "plt.rcdefaults()"
   ]
  },
  {
   "cell_type": "markdown",
   "metadata": {},
   "source": [
    "## Final Example\n",
    "\n",
    "- Defining objects for the plots (using the nomenclature often seen online: e.g., **ax**)\n",
    "\n",
    "\n",
    "- Learn about\n",
    "    - **Cumulative or Running Sum**\n",
    "        - a sum that is updated sequentially as you move along a list of numbers\n",
    "        - [a, b, c, ...] $\\rightarrow$ [NaN , a+b, a+b+c]\n",
    "        \n",
    "#### Cumulative example"
   ]
  },
  {
   "cell_type": "markdown",
   "metadata": {},
   "source": [
    "Pandas' function `cumsum`: https://pandas.pydata.org/docs/reference/api/pandas.DataFrame.cumsum.html"
   ]
  },
  {
   "cell_type": "code",
   "execution_count": null,
   "metadata": {},
   "outputs": [],
   "source": [
    "example_data = np.arange(1, 11, 1)\n",
    "display(example_data)\n",
    "\n",
    "example_data.cumsum()"
   ]
  },
  {
   "cell_type": "markdown",
   "metadata": {},
   "source": [
    "NumPy's function `cumsum`: https://numpy.org/doc/stable/reference/generated/numpy.cumsum.html"
   ]
  },
  {
   "cell_type": "code",
   "execution_count": null,
   "metadata": {},
   "outputs": [],
   "source": [
    "np.cumsum(a=example_data)"
   ]
  },
  {
   "cell_type": "markdown",
   "metadata": {},
   "source": [
    "Make some random new data that will be interesting:"
   ]
  },
  {
   "cell_type": "code",
   "execution_count": null,
   "metadata": {},
   "outputs": [],
   "source": [
    "x_data = np.random.randn(100)\n",
    "y_data = np.random.randn(100)"
   ]
  },
  {
   "cell_type": "markdown",
   "metadata": {},
   "source": [
    "1. Create three objects (ax1, ax2, and ax3), each corresponding to a matplotlib.pyplot object (i.e., graph)\n",
    "\n",
    "2. Plot three graphs (scatter, cumulative sum line and histogram) in a 2x2 uniform subplot grid pattern\n",
    "\n",
    "    - 2 rows by 2 columns grid"
   ]
  },
  {
   "cell_type": "code",
   "execution_count": null,
   "metadata": {},
   "outputs": [],
   "source": [
    "fig = plt.figure()\n",
    "\n",
    "fig.subplots_adjust(wspace=0.5, hspace=1.0)\n",
    "\n",
    "## 2x2 grid for plots (i.e., 2 rows, 2 columns)\n",
    "ax1 = fig.add_subplot(2, 2, 1) ## 1st plot - will be a scatter\n",
    "ax2 = fig.add_subplot(2, 2, 2) ## 2nd plot - will be a line; change to (1, 2, 2) for spanning two rows\n",
    "ax3 = fig.add_subplot(2, 2, 3) ## 3rd plot - will be a histogram\n",
    "\n",
    "ax1.set_xlabel(xlabel='plot 1 xlabel')\n",
    "ax1.set_ylabel(ylabel='plot 1 ylabel')\n",
    "ax1.set_xlim(-5, 5)\n",
    "\n",
    "ax2.set_xlabel(xlabel='plot 2 xlabel')\n",
    "ax2.set_ylabel(ylabel='plot 2 ylabel')\n",
    "ax2.set_xlim(0, 50)\n",
    "\n",
    "ax3.set_xlabel(xlabel='plot 3 xlabel')\n",
    "ax3.set_ylabel(ylabel='plot 3 ylabel')\n",
    "ax3.set_xlim(-5, 5)\n",
    "\n",
    "ax1.scatter(x_data, y_data, color='blue')\n",
    "\n",
    "ax2.plot(x_data.cumsum(), color='red', linewidth=2, linestyle='solid')\n",
    "\n",
    "ax3.hist(x_data, bins=20, color='green', alpha=0.3)\n",
    "\n",
    "plt.show()"
   ]
  },
  {
   "cell_type": "code",
   "execution_count": null,
   "metadata": {},
   "outputs": [],
   "source": []
  }
 ],
 "metadata": {
  "celltoolbar": "Raw Cell Format",
  "kernelspec": {
   "display_name": "Python 3 (ipykernel)",
   "language": "python",
   "name": "python3"
  },
  "language_info": {
   "codemirror_mode": {
    "name": "ipython",
    "version": 3
   },
   "file_extension": ".py",
   "mimetype": "text/x-python",
   "name": "python",
   "nbconvert_exporter": "python",
   "pygments_lexer": "ipython3",
   "version": "3.13.2"
  }
 },
 "nbformat": 4,
 "nbformat_minor": 4
}
