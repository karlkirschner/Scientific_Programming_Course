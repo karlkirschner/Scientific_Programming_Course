{
 "cells": [
  {
   "cell_type": "markdown",
   "metadata": {},
   "source": [
    "<div class=\"alert block alert-info alert\">\n",
    "\n",
    "# <center> Scientific Programming in Python\n",
    "\n",
    "## <center>Karl N. Kirschner<br>Bonn-Rhein-Sieg University of Applied Sciences<br>Sankt Augustin, Germany\n",
    "\n",
    "# <center> ca. Mid Semseter Review\n",
    "### <center> (plus a few new ideas)\n",
    "\n",
    "<hr style=\"border:2px solid gray\"></hr>"
   ]
  },
  {
   "cell_type": "markdown",
   "metadata": {},
   "source": [
    "## Scientific Programming\n",
    "\n",
    "**Definition**\n",
    "1. Programming whose goal is for scientific usage (e.g. workflows, data analysis) and visualization.\n",
    "\n",
    "2. Learning to program is an academic, scholarly manner (i.e. wissenschaftliches Arbeit).\n",
    "    - minimize errors\n",
    "    - enable others to expand upon your ideas\n",
    "    - reproducible results\n",
    "    - convey knowledge (e.g. ideas are placed into context and explained)\n",
    "    - being precise and explicit in what is done\n",
    "    - following established standards within computer science (e.g. PEP8)\n",
    "\n",
    "**3 Ways to Think About It**\n",
    "1. **Usage**: to perform mathematics (simple numerical computations to some complex math models)\n",
    "\n",
    "2. **Practice**: to create while maintaining good scholarship\n",
    "    - knowing what is state-of-the-art\n",
    "    - being clear and supportive (e.g. citing sources)\n",
    "    - write code in concise, explicit manner (i.e. do something with understanding and intention)\n",
    "    - write code in a way that minimizes the chances of introducing an error\n",
    "    - \"A machine requires precise instructions, which users often fail to supply\"[1]\n",
    "\n",
    "3. **Target**: to support science (doing research, data support and analysis)\n",
    "    - \"Scientists commonly use languages such as Python and R to conduct and **automate analyses**, because in this way they can **speed data crunching**, **increase reproducibility**, protect data from accidental deletion or alteration and handle data sets that would overwhelm commercial applications.\"[1]\n",
    "    - Create workflows to help do the research\n",
    "    - Create simulations (increasingly becoming more important in research)\n",
    "        - exploratory: for understanding raw data\n",
    "        - supportive: for strengthening interpretations of the data\n",
    "        - predictive: creating new ideas\n",
    " \n",
    "[1] Baker, Monya. \"Scientific computing: code alert.\" Nature 541, no. 7638 (2017): 563-565.\n",
    "\n",
    "<hr style=\"border:2px solid gray\"></hr>\n",
    "\n",
    "#### Conceptual highlights about the course\n",
    "1. Significant amount of personal feedback\n",
    "\n",
    "2. Emphasis on\n",
    "    - **K**eep **I**t (i.e. coding) **S**imple & **S**mart (K.I.S.S.)\n",
    "    - $C^3$: code is **clear** (i.e. clarity), **concise**, and place into **context**\n",
    "    - easily readable and understandable\n",
    "    - use of built-in functions over libraries with large overhead\n",
    "    - user functions for reproducibility, reuse, and error reduction"
   ]
  },
  {
   "cell_type": "markdown",
   "metadata": {},
   "source": [
    "#### Lots of built-in keywords and commands"
   ]
  },
  {
   "cell_type": "markdown",
   "metadata": {},
   "source": [
    "**Built-in Functions**\n",
    "https://docs.python.org/3/library/functions.html\n",
    "\n",
    "`abs()\t\t\tdivmod()\t\tinput()\t\t open()\t    staticmethod()`<br>\n",
    "`all()\t\t\tenumerate()\t int()\t\t   ord()\t     str()`<br>\n",
    "`any()\t\t\teval()\t\t  isinstance()\tpow()\t     sum()`<br>\n",
    "`basestring()\t execfile()  \tissubclass()\tprint()       super()`<br>\n",
    "`bin()\t\t    file()\t\t  iter()\t\t  property()    tuple()`<br>\n",
    "`bool()\t\t   filter()\t    len()\t\t   range()\t   type()`<br>\n",
    "`bytearray()\t  float()\t     list()\t\t  raw_input()   unichr()`<br>\n",
    "`callable()\t   format()\t\tlocals()\t\treduce()      unicode()`<br>\n",
    "`chr()\t\t\tfrozenset()\t long()\t\t  reload()      vars()`<br>\n",
    "`classmethod()\tgetattr()\t   map()\t\t   repr()\t\txrange()`<br>\n",
    "`cmp()\t\t\tglobals()\t   max()\t\t   reversed()\tzip()`<br>\n",
    "`compile()\t\thasattr()\t   memoryview()    round()\t   __import__()`<br>\n",
    "`complex()\t\thash()\t\t  min()\t\t   set()`<br>\n",
    "`delattr()\t\thelp()\t\t  next()\t      setattr()`<br>\n",
    "`dict()\t\t   hex()\t\t   object()\t    slice()`<br>\n",
    "`dir()\t\t\tid()\t\t    oct()\t       sorted()`<br>\n",
    "***"
   ]
  },
  {
   "cell_type": "code",
   "execution_count": null,
   "metadata": {},
   "outputs": [],
   "source": [
    "import keyword\n",
    "keyword.kwlist"
   ]
  },
  {
   "cell_type": "markdown",
   "metadata": {},
   "source": [
    "#### A comprehensive list of built-in functions and modules\n",
    "\n",
    "Functions:"
   ]
  },
  {
   "cell_type": "code",
   "execution_count": null,
   "metadata": {},
   "outputs": [],
   "source": [
    "dir(__builtins__)"
   ]
  },
  {
   "cell_type": "markdown",
   "metadata": {},
   "source": [
    "Modules:"
   ]
  },
  {
   "cell_type": "code",
   "execution_count": null,
   "metadata": {},
   "outputs": [],
   "source": [
    "help('modules')"
   ]
  },
  {
   "cell_type": "markdown",
   "metadata": {},
   "source": [
    "<hr style=\"border:2px solid gray\"></hr>\n",
    "\n",
    "### What we have learned about so far\n",
    "\n",
    "1. User functions - creating one code block that focuses on a single idea/concept\n",
    "    - typing - adds **clarity** to the code\n",
    "    - **context** through good block comments, and\n",
    "    - some internal code control ideas (e.g. isinstance, checking for None default assignments)\n",
    "\n",
    "\n",
    "2. Writing **concise** code without losing clarity (i.e. not making it confusing)\n",
    "    - easier to understand\n",
    "    - easier to debug\n",
    "    - less prone to introducing errors\n",
    "\n",
    "\n",
    "3. Significant Figures and Rounding Numbers\n",
    "\n",
    "\n",
    "4. PEP8 styles recommendations\n",
    "    - why it is important\n",
    "    - order for importing libraries\n",
    "    - indentation, spacing and line length\n",
    "\n",
    "\n",
    "5. Pandas library\n",
    "    - reading in csv files (series and dataframes)\n",
    "    - Pandas built in math functions\n",
    "    - plotting data\n",
    "\n",
    "<hr style=\"border:2px solid gray\"></hr>"
   ]
  },
  {
   "cell_type": "markdown",
   "metadata": {},
   "source": [
    "#### Data Structures Review\n",
    "\n",
    "- Lists\n",
    "- Dictionaries\n",
    "- Tuples\n",
    "\n",
    "**lists**"
   ]
  },
  {
   "cell_type": "code",
   "execution_count": null,
   "metadata": {},
   "outputs": [],
   "source": [
    "my_list = ['Christmas', 'Halloween', 'German Unity Day', \"New Year's Day\", \"Christmas\"]\n",
    "type(my_list)"
   ]
  },
  {
   "cell_type": "code",
   "execution_count": null,
   "metadata": {},
   "outputs": [],
   "source": [
    "for holiday in my_list:\n",
    "    print(holiday)"
   ]
  },
  {
   "cell_type": "code",
   "execution_count": null,
   "metadata": {},
   "outputs": [],
   "source": [
    "my_list"
   ]
  },
  {
   "cell_type": "code",
   "execution_count": null,
   "metadata": {},
   "outputs": [],
   "source": [
    "my_list[0] = 'Carnival'\n",
    "my_list"
   ]
  },
  {
   "cell_type": "markdown",
   "metadata": {},
   "source": [
    "**tuples**\n",
    "- faster than lists, bacause they are\n",
    "- not mutable (i.e. immutable)"
   ]
  },
  {
   "cell_type": "code",
   "execution_count": null,
   "metadata": {},
   "outputs": [],
   "source": [
    "my_tuple = ('Christmas', 'Halloween', 'German Unity Day', \"New Year's Day\", \"Christmas\")\n",
    "type(my_tuple)"
   ]
  },
  {
   "cell_type": "code",
   "execution_count": null,
   "metadata": {},
   "outputs": [],
   "source": [
    "for holiday in my_tuple:\n",
    "    print(holiday)"
   ]
  },
  {
   "cell_type": "code",
   "execution_count": null,
   "metadata": {},
   "outputs": [],
   "source": [
    "my_tuple[0] = 'Carnival'\n",
    "my_tuple"
   ]
  },
  {
   "cell_type": "markdown",
   "metadata": {},
   "source": [
    "**dictionary**"
   ]
  },
  {
   "cell_type": "code",
   "execution_count": null,
   "metadata": {},
   "outputs": [],
   "source": [
    "my_dictionary = {'German Holidays': ['Christmas', 'Halloween', 'German Unity Day', \"New Year's Day\", \"Christmas\"],\n",
    "                 'US Holidays': ['Christmas', 'Halloween', 'Thanksgiving', \"New Year's Day\", \"Christmas\"]}\n",
    "my_dictionary"
   ]
  },
  {
   "cell_type": "code",
   "execution_count": null,
   "metadata": {},
   "outputs": [],
   "source": [
    "type(my_dictionary)"
   ]
  },
  {
   "cell_type": "code",
   "execution_count": null,
   "metadata": {},
   "outputs": [],
   "source": [
    "my_dictionary.get('US Holidays')"
   ]
  },
  {
   "cell_type": "code",
   "execution_count": null,
   "metadata": {},
   "outputs": [],
   "source": [
    "list(my_dictionary.keys())"
   ]
  },
  {
   "cell_type": "code",
   "execution_count": null,
   "metadata": {},
   "outputs": [],
   "source": [
    "list(my_dictionary.values())"
   ]
  },
  {
   "cell_type": "code",
   "execution_count": null,
   "metadata": {},
   "outputs": [],
   "source": [
    "list(my_dictionary.items())"
   ]
  },
  {
   "cell_type": "code",
   "execution_count": null,
   "metadata": {},
   "outputs": [],
   "source": [
    "for key, value in my_dictionary.items():\n",
    "    print(key, value)"
   ]
  },
  {
   "cell_type": "markdown",
   "metadata": {},
   "source": [
    "#### Identify unique entries\n",
    "\n",
    "- sets\n",
    "    - mutable\n",
    "- frozen sets\n",
    "    - immutable"
   ]
  },
  {
   "cell_type": "code",
   "execution_count": null,
   "metadata": {},
   "outputs": [],
   "source": [
    "my_set = set(my_list)\n",
    "my_set"
   ]
  },
  {
   "cell_type": "code",
   "execution_count": null,
   "metadata": {},
   "outputs": [],
   "source": [
    "type(my_set)"
   ]
  },
  {
   "cell_type": "code",
   "execution_count": null,
   "metadata": {},
   "outputs": [],
   "source": [
    "for holiday in my_set:\n",
    "    print(holiday)"
   ]
  },
  {
   "cell_type": "code",
   "execution_count": null,
   "metadata": {},
   "outputs": [],
   "source": [
    "my_set.remove(\"New Year's Day\")\n",
    "my_set"
   ]
  },
  {
   "cell_type": "markdown",
   "metadata": {},
   "source": [
    "**frozen set** (a small new idea that we haven't seen before)"
   ]
  },
  {
   "cell_type": "code",
   "execution_count": null,
   "metadata": {},
   "outputs": [],
   "source": [
    "my_frozenset = frozenset(my_list)\n",
    "my_frozenset"
   ]
  },
  {
   "cell_type": "code",
   "execution_count": null,
   "metadata": {},
   "outputs": [],
   "source": [
    "type(my_frozenset)"
   ]
  },
  {
   "cell_type": "code",
   "execution_count": null,
   "metadata": {},
   "outputs": [],
   "source": [
    "my_frozenset.remove(\"Christmas\")"
   ]
  }
 ],
 "metadata": {
  "kernelspec": {
   "display_name": "Python 3 (ipykernel)",
   "language": "python",
   "name": "python3"
  },
  "language_info": {
   "codemirror_mode": {
    "name": "ipython",
    "version": 3
   },
   "file_extension": ".py",
   "mimetype": "text/x-python",
   "name": "python",
   "nbconvert_exporter": "python",
   "pygments_lexer": "ipython3",
   "version": "3.8.10"
  }
 },
 "nbformat": 4,
 "nbformat_minor": 2
}
