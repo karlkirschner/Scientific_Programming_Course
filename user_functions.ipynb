{
 "cells": [
  {
   "cell_type": "markdown",
   "metadata": {},
   "source": [
    "<div class=\"alert block alert-info alert\">\n",
    "\n",
    "# <center> Scientific Programming in Python\n",
    "## <center>Karl N. Kirschner<br>Bonn-Rhein-Sieg University of Applied Sciences<br>Sankt Augustin, Germany\n",
    "\n",
    "# <center> User-defined Fuctions\n",
    "\n",
    "#### Sources\n",
    "1. David M Beazley, Python Essential Reference, Developer's Library, Third Edition, Indianapolis, IN, 2006.\n",
    "<hr style=\"border:2px solid gray\"></hr>"
   ]
  },
  {
   "cell_type": "markdown",
   "metadata": {},
   "source": [
    "## User-defined functions... \n",
    "...are the modular brains for your scientific programming.\n",
    "\n",
    "1. First line: '**def function_name():**'\n",
    "    - declares a function that is name 'function_name'\n",
    "    - typically, passed parameters are given with the ()\n",
    "    \n",
    "\n",
    "2. Second line and to the end\n",
    "    - indented body of the code\n",
    "\n",
    "\n",
    "3. Then, simply call the function when you want to use it (i.e. function calls)"
   ]
  },
  {
   "cell_type": "code",
   "execution_count": null,
   "metadata": {},
   "outputs": [],
   "source": [
    "def hello():\n",
    "    print('hello')\n",
    "    print('hi')\n",
    "    print('hey')\n",
    "    print('hi-ya')\n",
    "    print('greetings')\n",
    "    print('good day')\n",
    "    print('good morning')\n",
    "    print(\"what's happening\")\n",
    "    print(\"what's up\")\n",
    "    print('how are you')\n",
    "    print('how goes it')\n",
    "    print('howdy-do')\n",
    "    print('bonjour')\n",
    "    print('buenas noches')\n",
    "    print('buenos dias')\n",
    "    print('shalom')\n",
    "    print(\"howdy y'all\")"
   ]
  },
  {
   "cell_type": "code",
   "execution_count": null,
   "metadata": {},
   "outputs": [],
   "source": [
    "hello() # function call"
   ]
  },
  {
   "cell_type": "code",
   "execution_count": null,
   "metadata": {},
   "outputs": [],
   "source": [
    "## Define the function new\n",
    "## pass parameter of name\n",
    "\n",
    "def hello(name):\n",
    "    '''A simple print user-defined function.\n",
    "\n",
    "        Input:\n",
    "            name (str)\n",
    "    '''\n",
    "\n",
    "    print(f'Howdy-do {name}')"
   ]
  },
  {
   "cell_type": "code",
   "execution_count": null,
   "metadata": {},
   "outputs": [],
   "source": [
    "hello(name='Isadora')"
   ]
  },
  {
   "cell_type": "markdown",
   "metadata": {},
   "source": [
    "After each function call, the passed variable values are forgotten since they are local variables within the function."
   ]
  },
  {
   "cell_type": "code",
   "execution_count": null,
   "metadata": {},
   "outputs": [],
   "source": [
    "hello()"
   ]
  },
  {
   "cell_type": "code",
   "execution_count": null,
   "metadata": {},
   "outputs": [],
   "source": [
    "def hello(name):\n",
    "    '''A simple print user-defined function.\n",
    "       An internal check on the passed variable is now done.\n",
    "\n",
    "       Input\n",
    "           name (str)\n",
    "    '''\n",
    "\n",
    "    if not isinstance(name, str):\n",
    "        raise TypeError('You did not specify a string for the name.')\n",
    "    else:\n",
    "        print(f'Howdy-do {name}')"
   ]
  },
  {
   "cell_type": "markdown",
   "metadata": {},
   "source": [
    "What happens now if we\n",
    "\n",
    "1. don't pass the (required) variable a value, or\n",
    "2. don't pass the correct type?"
   ]
  },
  {
   "cell_type": "code",
   "execution_count": null,
   "metadata": {},
   "outputs": [],
   "source": [
    "hello()"
   ]
  },
  {
   "cell_type": "code",
   "execution_count": null,
   "metadata": {},
   "outputs": [],
   "source": [
    "hello(name=42)"
   ]
  },
  {
   "cell_type": "markdown",
   "metadata": {},
   "source": [
    "Now, let's properly use the function:"
   ]
  },
  {
   "cell_type": "code",
   "execution_count": null,
   "metadata": {},
   "outputs": [],
   "source": [
    "hello(name='Isadora')"
   ]
  },
  {
   "cell_type": "markdown",
   "metadata": {},
   "source": [
    "Notice:\n",
    "- The first hello() function (i.e. with multiple print statements) was overwritten by the new one.\n",
    "- We customized the TypeError error message that is raised."
   ]
  },
  {
   "cell_type": "markdown",
   "metadata": {},
   "source": [
    "<hr style=\"border:2px solid gray\"></hr>\n",
    "\n",
    "### Global versus Local Variables\n",
    "\n",
    "- What happens when using **local variables** within a function that have the **same name** as a **global variable**?"
   ]
  },
  {
   "cell_type": "code",
   "execution_count": null,
   "metadata": {},
   "outputs": [],
   "source": [
    "def hello_two_local(age, name):\n",
    "    '''A simple print user-defined function, with two local variables\n",
    "       An internal check on the passed variable is now done.\n",
    "\n",
    "       Input\n",
    "           age (int)  - a local variable, as defined by the def line\n",
    "           name (str) - a local variable, as defined by the def line\n",
    "    '''\n",
    "\n",
    "    if not isinstance(age, int):\n",
    "        raise TypeError('You did not specify an integer for the age.')\n",
    "    elif not isinstance(name, str):\n",
    "        raise TypeError('You did not specify a string for the name.')\n",
    "    else:\n",
    "        print(f'Howdy-do {name}, who is {age} years old.')"
   ]
  },
  {
   "cell_type": "code",
   "execution_count": null,
   "metadata": {},
   "outputs": [],
   "source": [
    "hello_two_local()"
   ]
  },
  {
   "cell_type": "code",
   "execution_count": null,
   "metadata": {},
   "outputs": [],
   "source": [
    "## global variables\n",
    "age = 23\n",
    "name = 'Jane'\n",
    "\n",
    "hello_two_local(age=age, name=name)"
   ]
  },
  {
   "cell_type": "markdown",
   "metadata": {},
   "source": [
    "- What happens when you have a **global variable** that **is not a local variable** within a function?"
   ]
  },
  {
   "cell_type": "code",
   "execution_count": null,
   "metadata": {},
   "outputs": [],
   "source": [
    "def hello_one_local_one_global(name):\n",
    "    '''A simple print user-defined function, with one local variables (name)\n",
    "       and one global variable (age)\n",
    "\n",
    "       An internal check on the passed variable is now done.\n",
    "\n",
    "       Input\n",
    "           name (str) - a local variable, as defined by the def line\n",
    "    '''\n",
    "\n",
    "    if not isinstance(name, str):\n",
    "        raise TypeError('You did not specify a string for the name.')\n",
    "    else:\n",
    "        print(f'Howdy-do {name}, who is {age} years old.')"
   ]
  },
  {
   "cell_type": "markdown",
   "metadata": {},
   "source": [
    "The global variable now is `age`."
   ]
  },
  {
   "cell_type": "code",
   "execution_count": null,
   "metadata": {},
   "outputs": [],
   "source": [
    "hello_one_local_one_global(name='Jessica')"
   ]
  },
  {
   "cell_type": "markdown",
   "metadata": {},
   "source": [
    "<hr style=\"border:2px solid gray\"></hr>\n",
    "\n",
    "## Returning an object from a function\n",
    "\n",
    "(Recall that SciPy has a large collection of physical constants.)"
   ]
  },
  {
   "cell_type": "code",
   "execution_count": null,
   "metadata": {},
   "outputs": [],
   "source": [
    "from scipy.constants import c\n",
    "\n",
    "def mass2energy(mass, speedoflight):\n",
    "    ''' Converts mass to energy using Einstein's equation.\n",
    "\n",
    "        Input\n",
    "            mass: mass of an object (units = kg since 1 J = 1 kg m^2/s^2)\n",
    "            speedoflight: speed of light (unit = m/s)\n",
    "\n",
    "        Return\n",
    "            energy: energy associated for a given mass (units = J)\n",
    "    '''\n",
    "\n",
    "    energy = mass*(speedoflight**2)\n",
    "\n",
    "    return energy"
   ]
  },
  {
   "cell_type": "code",
   "execution_count": null,
   "metadata": {},
   "outputs": [],
   "source": [
    "my_mass = 0.100\n",
    "\n",
    "energy = mass2energy(mass=my_mass, speedoflight=c)\n",
    "\n",
    "print(f'Energy = {energy} Joules')"
   ]
  },
  {
   "cell_type": "markdown",
   "metadata": {},
   "source": [
    "Perhaps we can make things a bit more logical and informative..."
   ]
  },
  {
   "cell_type": "code",
   "execution_count": null,
   "metadata": {},
   "outputs": [],
   "source": [
    "def mass2energy(mass, speedoflight):\n",
    "    ''' Converts mass to energy using Einstein's equation.\n",
    "\n",
    "        Input\n",
    "            mass: mass of an object (units = kg since 1 J = 1 kg m^2/s^2)\n",
    "            speedoflight: speed of light (unit = m/s)\n",
    "\n",
    "        Return\n",
    "            energy: energy associated for a given mass (units = J)\n",
    "    '''\n",
    "\n",
    "    if not isinstance(mass, float):\n",
    "        raise TypeError(f'The value for the mass (i.e. {mass}) must be a float type')\n",
    "    elif not isinstance(speedoflight, float):\n",
    "        raise TypeError(f'The value for the speed-of-light (i.e. {speedoflight}) must be a float type')\n",
    "    else:\n",
    "        energy = mass*(c**2)\n",
    "\n",
    "        return energy"
   ]
  },
  {
   "cell_type": "markdown",
   "metadata": {},
   "source": [
    "Now, make sure our internal checks are working:"
   ]
  },
  {
   "cell_type": "code",
   "execution_count": null,
   "metadata": {},
   "outputs": [],
   "source": [
    "energy = mass2energy(mass='one_hundred', speedoflight=c)"
   ]
  },
  {
   "cell_type": "markdown",
   "metadata": {},
   "source": [
    "Let's run it with proper passed variable values:"
   ]
  },
  {
   "cell_type": "code",
   "execution_count": null,
   "metadata": {},
   "outputs": [],
   "source": [
    "energy = mass2energy(mass=0.100, speedoflight=c)\n",
    "print(f'Energy = {energy:0.3e} Joules')"
   ]
  },
  {
   "cell_type": "markdown",
   "metadata": {},
   "source": [
    "#### Significant Figures\n",
    "\n",
    "Notice how the answer number of digits was controlled by `:0.2e` in the f-string. This is called a **Format Specifications** : https://docs.python.org/3/library/string.html#format-specification-mini-language\n",
    "\n",
    "(More on this later, in the rounding lecture.)"
   ]
  },
  {
   "cell_type": "markdown",
   "metadata": {},
   "source": [
    "<hr style=\"border:2px solid gray\"></hr>\n",
    "\n",
    "## Required versus Optional Parameters\n",
    "\n",
    "All of the above user-defined functions have had **required** parameters.\n",
    "\n",
    "To define **optional parameters**, one can assign those parameters a **default value**.\n",
    "\n",
    "**Once a parameter** is assigned a default value, then all the **subsequent** (i.e. the remaining) variables must also be optional parameters."
   ]
  },
  {
   "cell_type": "code",
   "execution_count": null,
   "metadata": {},
   "outputs": [],
   "source": [
    "def mass2energy(mass, speedoflight, fun_comment=None):\n",
    "    ''' Converts mass to energy using Einstein's equation.\n",
    "\n",
    "        Input\n",
    "            mass (float): units in kg since 1 J = 1 kg m^2/s^2\n",
    "            speedoflight: speed of light\n",
    "\n",
    "        Return\n",
    "            energy (float): units in Joules\n",
    "    '''\n",
    "\n",
    "    if fun_comment is not None:\n",
    "        print(fun_comment)\n",
    "\n",
    "    if not isinstance(mass, float):\n",
    "        raise TypeError(f'The value for the mass (i.e. {mass}) must be a float type')\n",
    "    elif not isinstance(speedoflight, float):\n",
    "        raise TypeError(f'The value for the speed-of-light (i.e. {speedoflight}) must be a float type')\n",
    "    else:\n",
    "        energy = mass*(c**2)\n",
    "\n",
    "        return energy"
   ]
  },
  {
   "cell_type": "code",
   "execution_count": null,
   "metadata": {},
   "outputs": [],
   "source": [
    "energy = mass2energy(mass=0.100, speedoflight=c)\n",
    "\n",
    "print(f'Energy = {energy:0.2e} Joules')"
   ]
  },
  {
   "cell_type": "markdown",
   "metadata": {},
   "source": [
    "**Note**: the `fun_comment` wasn't used and thus its corresponding `if statement` was not `True`.\n",
    "\n",
    "Let's pass now a `fun_comment` string value:"
   ]
  },
  {
   "cell_type": "code",
   "execution_count": null,
   "metadata": {},
   "outputs": [],
   "source": [
    "energy = mass2energy(mass=0.100, speedoflight=c, fun_comment='Hi, are you Einstein?')\n",
    "\n",
    "print(f'Energy = {energy:0.2e} Joules')"
   ]
  },
  {
   "cell_type": "markdown",
   "metadata": {},
   "source": [
    "<!-- Including a None default value for all user-function variable. Arguments for might include:\n",
    "- Allows you to later do some internal code checking.\n",
    "    - E.g.: might be helpful for optional variables\n",
    "\n",
    "- Easier for nonexperts to understand the code's flow.\n",
    "\n",
    "- Good practice? (e.g. accidentally using a global variable when you -- or someone else -- didn't mean to)\n",
    "\n",
    "Why it might be a bad idea:\n",
    "- Lose the required versus default parameter idea.\n",
    "\n",
    "### In this course: We will create functions that specify a default value of `None` for optional variables. -->\n",
    "\n",
    "### Additional Remarks\n",
    "1. One can pass multiple additional unnamed variables to a function using `*args`.\n",
    "    - `args` = **arg**ument**s**\n",
    "    - the `*` indicates that args will be passed as an iterable.\n"
   ]
  },
  {
   "cell_type": "code",
   "execution_count": null,
   "metadata": {},
   "outputs": [],
   "source": [
    "def my_args_func(*args):\n",
    "    '''Add a series of numbers together.'''\n",
    "\n",
    "    answer = 0\n",
    "\n",
    "    for number in args:\n",
    "        answer += number\n",
    "\n",
    "    return answer"
   ]
  },
  {
   "cell_type": "code",
   "execution_count": null,
   "metadata": {},
   "outputs": [],
   "source": [
    "my_args_func(1, 2, 3, 4, 5)"
   ]
  },
  {
   "cell_type": "markdown",
   "metadata": {},
   "source": [
    "2. One can also pass additional keyword-based arguments (e.g. weighting_factor=0.85) using `**kwargs`.\n",
    "    - `kwargs` = **k**ey**w**ord **arg**ument**s**\n",
    "    - the `**` indicates that kwargs will be passed as a dictionary.\n",
    "\n",
    "Important: the sequence of must go as `def my_function(required, *args, **kwargs)`\n",
    "\n",
    "Dictionaries: https://docs.python.org/3/tutorial/datastructures.html#dictionaries\n",
    "\n",
    "Access a value wihtin a dictionary by its key:\n",
    "`my_dictionary = {'a_key': its_value}`"
   ]
  },
  {
   "cell_type": "code",
   "execution_count": null,
   "metadata": {},
   "outputs": [],
   "source": [
    "def my_kwargs_func(**kwargs):\n",
    "    '''Print the features of a molecule.\n",
    "\n",
    "        kwargs: dictionary that contains features and values for a given molecule\n",
    "    '''\n",
    "\n",
    "    for key, value in kwargs.items():\n",
    "        print(f'{key}: {value}')"
   ]
  },
  {
   "cell_type": "code",
   "execution_count": null,
   "metadata": {},
   "outputs": [],
   "source": [
    "my_kwargs_func(name='octane', number_carbons=8, molec_weight=114.23, density=703)"
   ]
  },
  {
   "cell_type": "code",
   "execution_count": null,
   "metadata": {},
   "outputs": [],
   "source": [
    "my_kwargs_func(name='nonane', number_carbons=9, molec_weight=128.2)"
   ]
  },
  {
   "cell_type": "markdown",
   "metadata": {},
   "source": [
    "<hr style=\"border:2px solid gray\"></hr>\n",
    "\n",
    "## Typing (a.k.a. type hinting)\n",
    "\n",
    "**Goal**: <font color='dodgerblue'>Providing a syntax for function annotations.</font>\n",
    "\n",
    "- Removes ambiguity\n",
    "\n",
    "**Sources**:\n",
    "\n",
    "Starting point: https://docs.python.org/3/library/typing.html\n",
    "\n",
    "Theory of: https://peps.python.org/pep-0483/\n",
    "\n",
    "All of the details: https://peps.python.org/pep-0484/\n",
    "\n",
    "\n",
    "### Syntax Definition\n",
    "\n",
    "Type hinting is done within the line that defines the function, using a `:` for the inputs and `->` for what is returned.\n",
    "\n",
    "#### Examples\n",
    "\n",
    "<font color='dodgerblue'>1. Simple Complexity</font>\n",
    "\n",
    "First, let's see what Python version we are working with:"
   ]
  },
  {
   "cell_type": "code",
   "execution_count": null,
   "metadata": {},
   "outputs": [],
   "source": [
    "import sys\n",
    "print(sys.version)"
   ]
  },
  {
   "cell_type": "code",
   "execution_count": null,
   "metadata": {},
   "outputs": [],
   "source": [
    "def square(number: float) -> float:\n",
    "    ''' Take one number and square it.\n",
    "    \n",
    "        Input:\n",
    "            number: input number\n",
    "        Return:\n",
    "            the square of the input number\n",
    "    '''\n",
    "\n",
    "    if not isinstance(number, float):\n",
    "        raise TypeError(f'The value for the mass (i.e. {mass}) must be a float type.')\n",
    "    else:\n",
    "        return number**2"
   ]
  },
  {
   "cell_type": "code",
   "execution_count": null,
   "metadata": {},
   "outputs": [],
   "source": [
    "number_value = 5.0\n",
    "print(f'The square of {number_value} is {square(number=number_value)}.')"
   ]
  },
  {
   "cell_type": "markdown",
   "metadata": {},
   "source": [
    "<font color='dodgerblue'>2. Medium Complexity</font>\n",
    "\n",
    "- providing multiple options for type hinting for one variable\n",
    "\n",
    "Older versions of Python (v. 3.5), required the typing library and its Union function."
   ]
  },
  {
   "cell_type": "code",
   "execution_count": null,
   "metadata": {},
   "outputs": [],
   "source": [
    "from typing import Union\n",
    "\n",
    "\n",
    "def square(number: Union[int, float]) -> Union[int, float]:\n",
    "    ''' Take one number and square it.\n",
    "    \n",
    "        Input:\n",
    "            number: input number\n",
    "        Return:\n",
    "            the square of the input number\n",
    "    '''\n",
    "\n",
    "    return number**2"
   ]
  },
  {
   "cell_type": "code",
   "execution_count": null,
   "metadata": {},
   "outputs": [],
   "source": [
    "for number_value in [5, 5.0]:\n",
    "    print(f'The square of {number_value} is {square(number=number_value)}.')"
   ]
  },
  {
   "cell_type": "markdown",
   "metadata": {},
   "source": [
    "However, more recent Python3 versions, allow you to drop the typing `import` and `Union`.\n",
    "\n",
    "<font color='MediumVioletRed'>The following is the recommend syntax</font> (since it maximizes a code's use by others).\n",
    "\n",
    "We will now add the `isinstance` function that we learned about above.\n",
    "\n",
    "**Note** the use of the tuple (i.e. `(int, float)`) in the isinstance statement."
   ]
  },
  {
   "cell_type": "code",
   "execution_count": null,
   "metadata": {},
   "outputs": [],
   "source": [
    "def square(number: [int, float]) -> [int, float]:\n",
    "    ''' Take one number and square it.\n",
    "    \n",
    "        Input:\n",
    "            number: input number\n",
    "        Return:\n",
    "            the square of the input number\n",
    "    '''\n",
    "    if not isinstance(number, (int, float)):\n",
    "        raise TypeError(f'The value for the number (i.e. {number}) must be a float or int type.')\n",
    "    else:\n",
    "        return number**2"
   ]
  },
  {
   "cell_type": "code",
   "execution_count": null,
   "metadata": {},
   "outputs": [],
   "source": [
    "for number_value in [5, 5.0, 'test']:\n",
    "    print(f'The square of {number_value} is {square(number=number_value)}.')"
   ]
  },
  {
   "cell_type": "code",
   "execution_count": null,
   "metadata": {},
   "outputs": [],
   "source": [
    "for number_value in [5, 5.0]:\n",
    "    print(f'The square of {number_value} is {square(number=number_value)}.')"
   ]
  },
  {
   "cell_type": "markdown",
   "metadata": {},
   "source": [
    "As of <font color='dodgerblue'>Python 3.10</font>, one can use `|` to simplify things further.\n",
    "\n",
    "The following is equivalent to `number: typing.Union[int, float]`:\n",
    "\n",
    "`def square(number: int | float) -> int | float:\n",
    "    return number ** 2`"
   ]
  },
  {
   "cell_type": "markdown",
   "metadata": {},
   "source": [
    "<font color='dodgerblue'>3. More Complexity</font>\n",
    "\n",
    "<font color='MediumVioletRed'>The following is the recommend syntax</font> (since it maximizes a code's use by others)"
   ]
  },
  {
   "cell_type": "code",
   "execution_count": null,
   "metadata": {},
   "outputs": [],
   "source": [
    "from typing import List\n",
    "\n",
    "\n",
    "def square_list(number_list: List[int]) -> List[int]:\n",
    "    ''' Take one number and square it.\n",
    "    \n",
    "        Input:\n",
    "            number: input number\n",
    "        Return:\n",
    "            prints the square of the input number\n",
    "    '''\n",
    "\n",
    "    for number in number_list:\n",
    "        print(number**2)"
   ]
  },
  {
   "cell_type": "code",
   "execution_count": null,
   "metadata": {},
   "outputs": [],
   "source": [
    "test_list = [1.0, 2.0, 3.0]\n",
    "\n",
    "square_list(number_list=test_list)"
   ]
  },
  {
   "cell_type": "markdown",
   "metadata": {},
   "source": [
    "As of <font color='dodgerblue'>Python 3.10</font>, one can use `list` to simplify things further:\n",
    "\n",
    "`def square(number: list[int]) -> list[int]:\n",
    "    return number**2`"
   ]
  },
  {
   "cell_type": "markdown",
   "metadata": {},
   "source": [
    "<hr style=\"border:2px solid gray\"></hr>\n",
    "\n",
    "## Take-home points\n",
    "1. Use built-in functions when possible.\n",
    "\n",
    "\n",
    "2. Users can define their own functions as needed.\n",
    "\n",
    "\n",
    "3. User-defined functions\n",
    "    - one location that performs a specified task\n",
    "    - reduces the chances of user/programmed errors\n",
    "    - promotes reusability (e.g. in other projects)\n",
    "\n",
    "\n",
    "4. Passing optional variables\n",
    "    - pass optional variables a default value of `None`.\n",
    "    - assign multiple variables using `*args` (lists) and `**kwargs` (dictionaries)\n",
    "\n",
    "\n",
    "5. Type Hinting\n",
    "    - Provides syntax for a function\n",
    "    - Clarifies what type a passed variable should be\n",
    "\n",
    "\n",
    "6. An excellent user-defined function contains the following:\n",
    "    - a good, readable name\n",
    "    - well named variables\n",
    "    - type hinting\n",
    "    - context\n",
    "    - input variables to the function\n",
    "    - ouput/return of the function\n",
    "    - internal checks and control"
   ]
  },
  {
   "cell_type": "code",
   "execution_count": null,
   "metadata": {},
   "outputs": [],
   "source": []
  }
 ],
 "metadata": {
  "kernelspec": {
   "display_name": "Python 3 (ipykernel)",
   "language": "python",
   "name": "python3"
  },
  "language_info": {
   "codemirror_mode": {
    "name": "ipython",
    "version": 3
   },
   "file_extension": ".py",
   "mimetype": "text/x-python",
   "name": "python",
   "nbconvert_exporter": "python",
   "pygments_lexer": "ipython3",
   "version": "3.8.10"
  }
 },
 "nbformat": 4,
 "nbformat_minor": 2
}
