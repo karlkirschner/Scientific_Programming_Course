{
 "cells": [
  {
   "cell_type": "markdown",
   "metadata": {},
   "source": [
    "<div class=\"alert block alert-info alert\">\n",
    "\n",
    "# <center> Scientific Programming in Python\n",
    "## <center>Karl N. Kirschner<br>Bonn-Rhein-Sieg University of Applied Sciences<br>Sankt Augustin, Germany\n",
    "\n",
    "# <center> User-defined Fuctions\n",
    "\n",
    "#### Sources\n",
    "1. David M Beazley, Python Essential Reference, Developer's Library, Third Edition, Indianapolis, IN, 2006.\n",
    "<hr style=\"border:2px solid gray\"></hr>"
   ]
  },
  {
   "cell_type": "markdown",
   "metadata": {},
   "source": [
    "## User-defined functions... \n",
    "...are the <font color='dodgerblue'><b>modular brains</b></font> for your <font color='dodgerblue'><b>scientific programming</b></font>.\n",
    "\n",
    "1. First line: '**def function_name():**'\n",
    "    - declares a function that is named 'function_name'\n",
    "    - normally, one defines passed **parameters** within the ()\n",
    "    \n",
    "<br>\n",
    "\n",
    "2. Second line and to the end\n",
    "    - indented body of the code\n",
    "\n",
    "<br>\n",
    "\n",
    "3. Then, simply call the function when you want to use it (i.e., a **function call**)\n",
    "\n",
    "<br>\n",
    "\n",
    "#### Example: simple user-defined function"
   ]
  },
  {
   "cell_type": "code",
   "execution_count": null,
   "metadata": {},
   "outputs": [],
   "source": [
    "def hello():\n",
    "    print('''\\\n",
    "    hello\n",
    "    hi\n",
    "    hey\n",
    "    hi-ya\n",
    "    greetings\n",
    "    good day\n",
    "    good morning\n",
    "    \"whats happening\"\n",
    "    \"whats up\"\n",
    "    how are you\n",
    "    how goes it\n",
    "    howdy-do\n",
    "    bonjour\n",
    "    buenas noches\n",
    "    buenos dias\n",
    "    shalom\n",
    "    \"howdy yall\"\n",
    "    ''')"
   ]
  },
  {
   "cell_type": "code",
   "execution_count": null,
   "metadata": {},
   "outputs": [],
   "source": [
    "hello() # a function call"
   ]
  },
  {
   "cell_type": "markdown",
   "metadata": {},
   "source": [
    "<hr style=\"border:2px solid gray\"></hr>\n",
    "\n",
    "###  Parameters and Docstrings\n",
    "\n",
    "Now, let's generate a more complicated/useful function:\n",
    "1. a <font color='dodgerblue'><b>parameter</b></font> (i.e., <b>name</b> - see below)\n",
    "2. provide <font color='dodgerblue'><b>context</b></font> for the function's purpose using a <font color='dodgerblue'>docstring</font>\n",
    "3. pass a <font color='dodgerblue'><b>keyword argument</b></font> to the parameter (i.e., <b>Karl</b>)"
   ]
  },
  {
   "cell_type": "code",
   "execution_count": null,
   "metadata": {},
   "outputs": [],
   "source": [
    "def hello(name):\n",
    "    ''' A simple print user-defined function.\n",
    "\n",
    "        Args:\n",
    "            name: the desired name for greeting\n",
    "    '''\n",
    "    print(f'Howdy-do {name}')"
   ]
  },
  {
   "cell_type": "code",
   "execution_count": null,
   "metadata": {},
   "outputs": [],
   "source": [
    "hello(name='Karl')"
   ]
  },
  {
   "cell_type": "markdown",
   "metadata": {},
   "source": [
    "After each function call, the parameter's <font color='dodgerblue'>**argument**</font> (i.e., **Karl**) value is forgotten since it is a local variable within the function. This is called using **keyword arguments** in your **function call**. An error will occur if you do not supply one:"
   ]
  },
  {
   "cell_type": "code",
   "execution_count": null,
   "metadata": {},
   "outputs": [],
   "source": [
    "hello()"
   ]
  },
  {
   "cell_type": "markdown",
   "metadata": {},
   "source": [
    "<hr style=\"border:2px solid gray\"></hr>\n",
    "\n",
    "###  Internal Type Checking\n",
    "- Establishes a rigorous workflow and usage for the developed code\n",
    "- Critical for ensuring that your functions are <font color='dodgerblue'>**used properly**</font>\n",
    "- Increases <font color='dodgerblue'>**trustworthiness**</font>\n",
    "- <font color='dodgerblue'>**Reduces errors**</font>\n",
    "- When used with `TypeError`, it provides clear communication to the user\n",
    "\n",
    "(All of the above are important scientific concepts.)\n",
    "\n",
    "Add an <font color='dodgerblue'>**internal check**</font> on the passed parameter using an `isinstance`:"
   ]
  },
  {
   "cell_type": "code",
   "execution_count": null,
   "metadata": {},
   "outputs": [],
   "source": [
    "def hello(name):\n",
    "    ''' A simple print user-defined function.\n",
    "    \n",
    "        Demonstrating an internal check on the passed variable.\n",
    "\n",
    "        Args:\n",
    "            name: the desired name for greeting\n",
    "    '''\n",
    "    if not isinstance(name, str):\n",
    "        raise TypeError('You did not specify a string for the name.')\n",
    "    else:\n",
    "        print(f'Howdy-do {name}')"
   ]
  },
  {
   "cell_type": "markdown",
   "metadata": {},
   "source": [
    "What happens now if we\n",
    "\n",
    "1. don't pass the (required) variable a value, or\n",
    "2. don't pass the correct type?"
   ]
  },
  {
   "cell_type": "code",
   "execution_count": null,
   "metadata": {},
   "outputs": [],
   "source": [
    "hello()"
   ]
  },
  {
   "cell_type": "markdown",
   "metadata": {},
   "source": [
    "<b>Result</b>: The same error message as above."
   ]
  },
  {
   "cell_type": "code",
   "execution_count": null,
   "metadata": {},
   "outputs": [],
   "source": [
    "hello(name=42)"
   ]
  },
  {
   "cell_type": "markdown",
   "metadata": {},
   "source": [
    "<b>Result</b>: A customized error message is given.\n",
    "\n",
    "Now, let's properly use the function:"
   ]
  },
  {
   "cell_type": "code",
   "execution_count": null,
   "metadata": {},
   "outputs": [],
   "source": [
    "hello(name='Isadora')"
   ]
  },
  {
   "cell_type": "markdown",
   "metadata": {},
   "source": [
    "**Notice**:\n",
    "1. The first `def hello():` function (i.e., the one with multiple greetings defined above) was overwritten by the new one (i.e., `def hello(name):`).\n",
    "2. We customized the TypeError error message raised when an incorrect type is given."
   ]
  },
  {
   "cell_type": "markdown",
   "metadata": {},
   "source": [
    "<hr style=\"border:2px solid gray\"></hr>\n",
    "\n",
    "### Global versus Local Variables\n",
    "\n",
    "- What happens when using **local variables** within a function that have the **same name** as a **global variable**?"
   ]
  },
  {
   "cell_type": "code",
   "execution_count": null,
   "metadata": {},
   "outputs": [],
   "source": [
    "def hello_two_local(age, name):\n",
    "    ''' A simple print user-defined function, with two local variables\n",
    "        An internal check on the passed variable is now done.\n",
    "\n",
    "        Args:\n",
    "            age:  a local variable, as defined by the def line\n",
    "            name: a local variable, as defined by the def line\n",
    "    '''\n",
    "    if not isinstance(age, int):\n",
    "        raise TypeError('You did not specify an integer for the age.')\n",
    "    elif not isinstance(name, str):\n",
    "        raise TypeError('You did not specify a string for the name.')\n",
    "    else:\n",
    "        print(f'Howdy-do {name}, who is {age} years old.')"
   ]
  },
  {
   "cell_type": "code",
   "execution_count": null,
   "metadata": {},
   "outputs": [],
   "source": [
    "## global variables\n",
    "age_global_var = 23\n",
    "my_global_var = 'Jane'\n",
    "\n",
    "hello_two_local(age=age_global_var, name=my_global_var)"
   ]
  },
  {
   "cell_type": "markdown",
   "metadata": {},
   "source": [
    "- What happens when you have a **global variable** that **is not a local variable** within a function (e.g., `age_global_var`)?"
   ]
  },
  {
   "cell_type": "code",
   "execution_count": null,
   "metadata": {},
   "outputs": [],
   "source": [
    "def hello_one_local_one_global(name):\n",
    "    ''' A simple print user-defined function, with one local variable (name)\n",
    "        and one global variable (age).\n",
    "\n",
    "        An internal check on the passed variable is now done.\n",
    "\n",
    "        Args\n",
    "            name: a local variable, as defined by the def line\n",
    "    '''\n",
    "    if not isinstance(name, str):\n",
    "        raise TypeError('You did not specify a string for the name.')\n",
    "    else:\n",
    "        print(f'Howdy-do {name}, who is {age_global_var} years old.')"
   ]
  },
  {
   "cell_type": "markdown",
   "metadata": {},
   "source": [
    "The age variable within the function is now the global one `age_global_var`."
   ]
  },
  {
   "cell_type": "code",
   "execution_count": null,
   "metadata": {},
   "outputs": [],
   "source": [
    "hello_one_local_one_global(name='Jessica')"
   ]
  },
  {
   "cell_type": "markdown",
   "metadata": {},
   "source": [
    " <font color='dodgerblue'>**Important**</font>: **avoid** using **global variable** in user-defined functions. Instead, pass them as **arguments** to the function's **parameter**.\n",
    "\n",
    "1. Adds clarity (i.e., you don't have to go searching for where the global variable was defined)\n",
    "2. Adds transparency\n",
    "2. Improves the function's transferability"
   ]
  },
  {
   "cell_type": "markdown",
   "metadata": {},
   "source": [
    "<hr style=\"border:2px solid gray\"></hr>\n",
    "\n",
    "### Returning a value (i.e., object) from a function\n",
    "\n",
    "- **SciPy** has a large collection of physical constants\n",
    "    - speed of light: `c`\n",
    "- Notice the usage of **units** in the **docstring**\n",
    "- The `return` statement provides the specified value back to the line that called the function"
   ]
  },
  {
   "cell_type": "code",
   "execution_count": null,
   "metadata": {},
   "outputs": [],
   "source": [
    "from scipy.constants import c"
   ]
  },
  {
   "cell_type": "code",
   "execution_count": null,
   "metadata": {},
   "outputs": [],
   "source": [
    "def mass2energy(mass, speedoflight):\n",
    "    ''' Converts mass to energy using Einstein's equation.\n",
    "\n",
    "        Args:\n",
    "            mass: mass of an object (units = kg since 1 J = 1 kg m^2/s^2)\n",
    "            speedoflight: speed of light (unit = m/s)\n",
    "\n",
    "        Return:\n",
    "            energy: energy associated for a given mass (units = J)\n",
    "    '''\n",
    "    if not isinstance(mass, float):\n",
    "        raise TypeError(f'The value for the mass (i.e. {mass}) must be a float type.')\n",
    "    elif not isinstance(speedoflight, float):\n",
    "        raise TypeError(f'The value for the speed-of-light (i.e. {speedoflight}) must be a float type.')\n",
    "    else:\n",
    "        energy = mass*(speedoflight**2)\n",
    "\n",
    "        return energy"
   ]
  },
  {
   "cell_type": "markdown",
   "metadata": {},
   "source": [
    "Now, make sure our internal checks are working:"
   ]
  },
  {
   "cell_type": "code",
   "execution_count": null,
   "metadata": {},
   "outputs": [],
   "source": [
    "energy = mass2energy(mass='one_hundred', speedoflight=c)"
   ]
  },
  {
   "cell_type": "markdown",
   "metadata": {},
   "source": [
    "Now, let's run it properly:"
   ]
  },
  {
   "cell_type": "code",
   "execution_count": null,
   "metadata": {},
   "outputs": [],
   "source": [
    "energy = mass2energy(mass=0.100, speedoflight=c)\n",
    "print(f'Energy = {energy:0.2E} Joules')"
   ]
  },
  {
   "cell_type": "markdown",
   "metadata": {},
   "source": [
    "#### Significant Figures\n",
    "\n",
    "Notice how the answer's number of digits was controlled by `:0.2e` in the f-string statement. This is called a **Format Specifications** : https://docs.python.org/3/library/string.html#format-specification-mini-language\n",
    "\n",
    "(More on this later in the rounding lecture.)"
   ]
  },
  {
   "cell_type": "markdown",
   "metadata": {},
   "source": [
    "<hr style=\"border:2px solid gray\"></hr>\n",
    "\n",
    "### Required versus Optional Parameters\n",
    "\n",
    "All of the above user-defined functions have had <font color='dodgerblue'>**required parameters**</font>.\n",
    "\n",
    "To define <font color='dodgerblue'>**optional parameters**</font>, one must assign those parameters <b>default values</b>.\n",
    "\n",
    "<b>Once a parameter</b> is assigned a default value, then <font color='dodgerblue'><b>all subsequent variables</b></font> (i.e., the remaining) must also be <b>optional parameters</b>."
   ]
  },
  {
   "cell_type": "code",
   "execution_count": null,
   "metadata": {},
   "outputs": [],
   "source": [
    "def mass2energy(mass, speedoflight, fun_comment=None):\n",
    "    ''' Converts mass to energy using Einstein's equation.\n",
    "\n",
    "        Args:\n",
    "            mass (float): units in kg since 1 J = 1 kg m^2/s^2\n",
    "            speedoflight: speed of light\n",
    "\n",
    "        Return:\n",
    "            energy (float): units in Joules\n",
    "    '''\n",
    "    if fun_comment is not None:\n",
    "        print(fun_comment)\n",
    "\n",
    "    if not isinstance(mass, float):\n",
    "        raise TypeError(f'The value for the mass (i.e., {mass}) must be a float type')\n",
    "    elif not isinstance(speedoflight, float):\n",
    "        raise TypeError(f'The value for the speed-of-light (i.e., {speedoflight}) must be a float type')\n",
    "    else:\n",
    "        energy = mass*(speedoflight**2)\n",
    "\n",
    "        return energy"
   ]
  },
  {
   "cell_type": "code",
   "execution_count": null,
   "metadata": {},
   "outputs": [],
   "source": [
    "energy = mass2energy(mass=0.100, speedoflight=c)\n",
    "\n",
    "print(f'Energy = {energy:0.2e} Joules')"
   ]
  },
  {
   "cell_type": "markdown",
   "metadata": {},
   "source": [
    "<b>Note</b>: the `fun_comment` was not given an argument, and thus is assigned `None`, which leads to the `if statement` being not `True`.\n",
    "\n",
    "Let's now pass a `fun_comment` string value:"
   ]
  },
  {
   "cell_type": "code",
   "execution_count": null,
   "metadata": {},
   "outputs": [],
   "source": [
    "energy = mass2energy(mass=0.100, speedoflight=c, fun_comment='Hi, are you Einstein?')\n",
    "\n",
    "print(f'Energy = {energy:0.2e} Joules')"
   ]
  },
  {
   "cell_type": "markdown",
   "metadata": {},
   "source": [
    "<!-- Including a None default value for all user-function variables. Arguments for might include:\n",
    "- Allows you to later do some internal code checking.\n",
    "    - E.g.: might be helpful for optional variables\n",
    "\n",
    "- Easier for nonexperts to understand the code's flow.\n",
    "\n",
    "- Good practice? (e.g. accidentally using a global variable when you -- or someone else -- didn't mean to)\n",
    "\n",
    "Why it might be a bad idea:\n",
    "- Lose the required versus default parameter idea.\n",
    "\n",
    "### In this course: We will create functions that specify a default value of `None` for optional variables. -->\n",
    "\n",
    "<hr style=\"border:2px solid gray\"></hr>\n",
    "\n",
    "### `*args` and `kwargs`\n",
    "1. `*args`: One can pass multiple <b>additional unnamed variables</b> to a function using `*args`.\n",
    "    - `args` = <font color='dodgerblue'><b>arg</b></font>ument<font color='dodgerblue'><b>s</b></font>\n",
    "    - the `*` indicates that <b>args</b> will be passed as a <font color='dodgerblue'><b>tuple</b></font>.\n",
    "        - tuples in Python: given enclosed in `()`\n"
   ]
  },
  {
   "cell_type": "code",
   "execution_count": null,
   "metadata": {},
   "outputs": [],
   "source": [
    "def my_args_func(*args):\n",
    "    '''Add a series of numbers together.'''\n",
    "    print(f'Argument tuple: {args} \\n')\n",
    "    \n",
    "    answer = 0\n",
    "\n",
    "    for number in args:\n",
    "        answer += number\n",
    "\n",
    "    return answer"
   ]
  },
  {
   "cell_type": "code",
   "execution_count": null,
   "metadata": {},
   "outputs": [],
   "source": [
    "my_args_func(1, 2, 3, 4, 5)"
   ]
  },
  {
   "cell_type": "markdown",
   "metadata": {},
   "source": [
    "2. `**kwargs`: One can also pass additional keyword-based arguments (e.g., `name='octane'` - see below) using `**kwargs`.\n",
    "    - `kwargs` = <b>k</b>ey<b>w</b>ord <b>arg</b>ument<b>s</b>\n",
    "    - the `**` indicates that <b>kwargs</b> will be passed as a <font color='dodgerblue'><b>dictionary</b></font>.\n",
    "\n",
    "<br>\n",
    "\n",
    "<b>Important</b>: the sequence must go as <b>`def my_function(required, *args, **kwargs)`</b>\n",
    "\n",
    "Dictionaries: https://docs.python.org/3/tutorial/datastructures.html#dictionaries\n",
    "\n",
    "`my_dictionary = {a_key: its_value}`\n",
    "\n",
    "Access a <b>value</b> within a dictionary by its <b>key</b>:"
   ]
  },
  {
   "cell_type": "markdown",
   "metadata": {},
   "source": [
    "<b>Notice</b>: to <font color='dodgerblue'>**iterate**</font> over a dictionary's <font color='dodgerblue'>**keys**</font> and their <font color='dodgerblue'>**values**</font>, you have use **`dict.items()`**."
   ]
  },
  {
   "cell_type": "code",
   "execution_count": null,
   "metadata": {},
   "outputs": [],
   "source": [
    "def my_kwargs_func(**kwargs):\n",
    "    ''' Print the features of a molecule.\n",
    "\n",
    "        kwargs: a dictionary that contains features and\n",
    "                values for a given molecule.\n",
    "    '''\n",
    "    for key, value in kwargs.items():\n",
    "        print(f'{key}: {value}')"
   ]
  },
  {
   "cell_type": "code",
   "execution_count": null,
   "metadata": {},
   "outputs": [],
   "source": [
    "my_kwargs_func(name='octane', number_carbons=8, molec_weight=114.23, density=703)"
   ]
  },
  {
   "cell_type": "markdown",
   "metadata": {},
   "source": [
    "Dropping the density:"
   ]
  },
  {
   "cell_type": "code",
   "execution_count": null,
   "metadata": {},
   "outputs": [],
   "source": [
    "my_kwargs_func(name='nonane', number_carbons=9, molec_weight=128.2)"
   ]
  },
  {
   "cell_type": "markdown",
   "metadata": {},
   "source": [
    "<hr style=\"border:2px solid gray\"></hr>\n",
    "\n",
    "### Type hinting  (a.k.a. typing)\n",
    "\n",
    "<b>Goal</b>: <font color='dodgerblue'>Providing a syntax for function annotations.</font>\n",
    "\n",
    "- Removes ambiguity\n",
    "\n",
    "<b>Sources</b>:\n",
    "\n",
    "Starting point: https://docs.python.org/3/library/typing.html\n",
    "\n",
    "Theory of: https://peps.python.org/pep-0483/\n",
    "\n",
    "All of the details: https://peps.python.org/pep-0484/\n",
    "\n",
    "\n",
    "### Syntax Definition\n",
    "\n",
    "Type hinting is done within the line that defines the function, using a `:` for the inputs and `->` for what is returned.\n",
    "\n",
    "#### Examples\n",
    "\n",
    "<font color='dodgerblue'>1. Simple Example</font>"
   ]
  },
  {
   "cell_type": "code",
   "execution_count": null,
   "metadata": {},
   "outputs": [],
   "source": [
    "def square(number: float) -> float:\n",
    "    ''' Take one number and square it.\n",
    "\n",
    "        Args:\n",
    "            number: input number\n",
    "        Return:\n",
    "            the square of the input number\n",
    "    '''\n",
    "    if not isinstance(number, float):\n",
    "        raise TypeError(f'The value for the mass (i.e. {number}) must be a float type.')\n",
    "    else:\n",
    "        return number**2"
   ]
  },
  {
   "cell_type": "code",
   "execution_count": null,
   "metadata": {},
   "outputs": [],
   "source": [
    "number_value = 5.0\n",
    "\n",
    "print(f'The square of {number_value} is {square(number=number_value)}.')"
   ]
  },
  {
   "cell_type": "markdown",
   "metadata": {},
   "source": [
    "<font color='dodgerblue'>2. Medium Complexity Example</font>\n",
    "\n",
    "- Providing multiple options for type hinting for one variable\n",
    "- Note: older version of Python (e.g. v. 3.5) requires the `typing` library and its `Union` function."
   ]
  },
  {
   "cell_type": "markdown",
   "metadata": {},
   "source": [
    "<b>Note</b> the use of the list (i.e., `[int, float]`) in the isinstance statement."
   ]
  },
  {
   "cell_type": "code",
   "execution_count": null,
   "metadata": {},
   "outputs": [],
   "source": [
    "def square(number: [int, float]) -> [int, float]:\n",
    "    ''' Take one number and square it.\n",
    "\n",
    "        Args:\n",
    "            number: input number\n",
    "        Return:\n",
    "            the square of the input number\n",
    "    '''\n",
    "    if not isinstance(number, (int, float)):\n",
    "        raise TypeError(f'The value for the number (i.e. {number}) must be a float or int type.')\n",
    "    else:\n",
    "        return number**2"
   ]
  },
  {
   "cell_type": "code",
   "execution_count": null,
   "metadata": {},
   "outputs": [],
   "source": [
    "for number_value in [5, 5.0]:\n",
    "    print(f'The square of {number_value} is {square(number=number_value)}.')"
   ]
  },
  {
   "cell_type": "markdown",
   "metadata": {},
   "source": [
    "Now, let's test what happens if we <b>pass a string</b>:"
   ]
  },
  {
   "cell_type": "code",
   "execution_count": null,
   "metadata": {},
   "outputs": [],
   "source": [
    "for number_value in [5, 5.0, 'test']:\n",
    "    print(f'The square of {number_value} is {square(number=number_value)}.')"
   ]
  },
  {
   "cell_type": "markdown",
   "metadata": {},
   "source": [
    "**Note**: as of <font color='dodgerblue'>Python 3.10</font>, one can use `|` to simplify things further."
   ]
  },
  {
   "cell_type": "code",
   "execution_count": null,
   "metadata": {},
   "outputs": [],
   "source": [
    "def square(number: float | int) -> float | int:\n",
    "    return number ** 2"
   ]
  },
  {
   "cell_type": "code",
   "execution_count": null,
   "metadata": {},
   "outputs": [],
   "source": [
    "for number_value in [5, 5.0]:\n",
    "    print(f'The square of {number_value} is {square(number=number_value)}.')"
   ]
  },
  {
   "cell_type": "code",
   "execution_count": null,
   "metadata": {},
   "outputs": [],
   "source": [
    "type(square(number=number_value))"
   ]
  },
  {
   "cell_type": "markdown",
   "metadata": {
    "editable": true,
    "slideshow": {
     "slide_type": ""
    },
    "tags": []
   },
   "source": [
    "<font color='dodgerblue'>3. More Complex Example</font>\n",
    "\n",
    "<!-- <font color='MediumVioletRed'>The following is the recommended syntax</font> (since it currently maximizes a code's use by others). -->\n",
    "\n",
    "Notice:\n",
    "- the use of a Pythonic <font color='dodgerblue'>comprehension</font> for the internal check of passed list items.\n",
    "    - More information - https://www.geeksforgeeks.org/comprehensions-in-python\n",
    "\n",
    "\n",
    "- the use of the built-in function `any`\n",
    "\n",
    "- the use of typing's `List` to help define a <b>list of floats</b>"
   ]
  },
  {
   "cell_type": "code",
   "execution_count": null,
   "metadata": {},
   "outputs": [],
   "source": [
    "from typing import List\n",
    "\n",
    "\n",
    "def square_list(number_list: List[float]) -> List[float]:\n",
    "    ''' Square numbers within a provided list.\n",
    "\n",
    "        Args:\n",
    "            number_list: numbers that will be operated upon\n",
    "        Return:\n",
    "            prints the square of the input number\n",
    "    '''\n",
    "    if not isinstance(number_list, list):\n",
    "        raise TypeError(f'The number_list arguement (i.e., {number_list}) must be a list.')\n",
    "\n",
    "    elif any(not isinstance(item, float) for item in number_list): # a comprehension statement\n",
    "        raise TypeError('An item with the list is not a float.')\n",
    "\n",
    "    else:\n",
    "        for number in number_list:\n",
    "            print(number**2)"
   ]
  },
  {
   "cell_type": "code",
   "execution_count": null,
   "metadata": {},
   "outputs": [],
   "source": [
    "test_list = [1.0, 2.0, 3.0]\n",
    "\n",
    "square_list(number_list=test_list)"
   ]
  },
  {
   "cell_type": "markdown",
   "metadata": {},
   "source": [
    "<b>Note</b>: as of <font color='dodgerblue'>Python 3.10</font> one can use `list` to simplify things further:"
   ]
  },
  {
   "cell_type": "code",
   "execution_count": null,
   "metadata": {},
   "outputs": [],
   "source": [
    "def square(number: list[float]) -> list[float]:\n",
    "    return number**2"
   ]
  },
  {
   "cell_type": "markdown",
   "metadata": {},
   "source": [
    "### Code Structure\n",
    "\n",
    "1. <b>Mutually Exclusive (Invalid) States</b>: Use if-elif-else\n",
    "    - Communicates to the reader the code's intention clearly\n",
    "\n",
    "2. <b>Independent (Non-Exclusive Invalid) States</b>: Use a Series of `if` Statements\n",
    "    - Less indentations\n",
    "\n",
    "The above user-defined functions follow the mutually exclusive invalid states. <font color='dodgerblue'>This will be the coding practice in this course.</font>\n",
    "\n",
    "For comparison, here is a function with an independent internal checking state:"
   ]
  },
  {
   "cell_type": "code",
   "execution_count": null,
   "metadata": {},
   "outputs": [],
   "source": [
    "def square_list_independent(number_list: List[float]) -> List[float]:\n",
    "    ''' Square numbers within a provided list.\n",
    "\n",
    "        Args:\n",
    "            number_list: numbers that will be operated upon\n",
    "        Return:\n",
    "            prints the square of the input number\n",
    "    '''\n",
    "    if not isinstance(number_list, list):\n",
    "        raise TypeError(f'The number_list arguement (i.e., {number_list}) must be a list.')\n",
    "\n",
    "    if any(not isinstance(item, float) for item in number_list):\n",
    "        raise TypeError('An item with the list is not a float.')\n",
    "\n",
    "    for number in number_list:\n",
    "        print(number**2)"
   ]
  },
  {
   "cell_type": "code",
   "execution_count": null,
   "metadata": {},
   "outputs": [],
   "source": [
    "square_list_independent(number_list=test_list)"
   ]
  },
  {
   "cell_type": "markdown",
   "metadata": {},
   "source": [
    "<hr style=\"border:2px solid gray\"></hr>\n",
    "\n",
    "## Take-home points\n",
    "1. Use built-in functions when possible.\n",
    "\n",
    "\n",
    "2. Users can define their own functions as needed.<br><br>\n",
    "   <b>User-defined functions</b>\n",
    "    - <b>one location</b> that performs <b>a specified task</b>\n",
    "    - <b>reduces</b> the chances of user/programmer <b>errors</b>\n",
    "    - promotes <b>reusability</b> (e.g., in other projects)\n",
    "\n",
    "\n",
    "3. Passing <b>optional variables</b>\n",
    "    - pass optional variables a default value of `None`.\n",
    "    - assign multiple variables using <b>`*args`</b> (tuples) and <b>`**kwargs`</b> (dictionaries)\n",
    "\n",
    "\n",
    "4. <b>Type Hinting</b>\n",
    "    - provides <b>syntax</b> for a function\n",
    "    - <b>clarifies</b> what argument types are passed to the parameters\n",
    "\n",
    "\n",
    "5. An <b>excellent user-defined function</b> contains the following:\n",
    "    - a good, <b>readable function name</b>\n",
    "    - <b>well-named parameter(s)</b>\n",
    "    - <b>type hinting</b>\n",
    "    - uses <b>local variables</b>, not global (when possible/reasonable)\n",
    "    - <b>context</b>\n",
    "        - what the function's purpose is\n",
    "        - input parameter explanation\n",
    "        - return explanation\n",
    "    - <b>internal checks and control</b> using <b>mutually exclusive states</b>\n",
    "\n",
    "6. When using a function (and methods):\n",
    "    - use <b>keyword arguments</b> that pair a parameter to its argument (e.g., <b>`hello(name='Isadora')`</b>)"
   ]
  },
  {
   "cell_type": "code",
   "execution_count": null,
   "metadata": {},
   "outputs": [],
   "source": []
  }
 ],
 "metadata": {
  "kernelspec": {
   "display_name": "Python 3 (ipykernel)",
   "language": "python",
   "name": "python3"
  },
  "language_info": {
   "codemirror_mode": {
    "name": "ipython",
    "version": 3
   },
   "file_extension": ".py",
   "mimetype": "text/x-python",
   "name": "python",
   "nbconvert_exporter": "python",
   "pygments_lexer": "ipython3",
   "version": "3.13.2"
  }
 },
 "nbformat": 4,
 "nbformat_minor": 4
}
