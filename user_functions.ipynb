{
 "cells": [
  {
   "cell_type": "markdown",
   "metadata": {},
   "source": [
    "# <center> User-defined Fuctions"
   ]
  },
  {
   "cell_type": "markdown",
   "metadata": {},
   "source": [
    "***\n",
    "## User-defined functions... \n",
    "...are the modular brains for your scientific programming.\n",
    "\n",
    "1. First line: '**def function_name():**'\n",
    "    - declares a function that is name 'function_name'\n",
    "    - typically, passed parameters are given with the ()\n",
    "    \n",
    "\n",
    "2. Second line and to the end\n",
    "    - indented body of the code\n",
    "\n",
    "\n",
    "3. Then, simply call the function when you want to use it (i.e. function calls)"
   ]
  },
  {
   "cell_type": "code",
   "execution_count": null,
   "metadata": {},
   "outputs": [],
   "source": [
    "def hello():\n",
    "    print('hello')\n",
    "    print('hi')\n",
    "    print('hey')\n",
    "    print('hi-ya')\n",
    "    print('greetings')\n",
    "    print('good day')\n",
    "    print('good morning')\n",
    "    print(\"what's happening\")\n",
    "    print(\"what's up\")\n",
    "    print('how are you')\n",
    "    print('how goes it')\n",
    "    print('howdy-do')\n",
    "    print('bonjour')\n",
    "    print('buenas noches')\n",
    "    print('buenos dias')\n",
    "    print('shalom')\n",
    "    print(\"howdy y'all\")\n",
    "\n",
    "hello() # function call"
   ]
  },
  {
   "cell_type": "code",
   "execution_count": null,
   "metadata": {},
   "outputs": [],
   "source": [
    "## Define the function new\n",
    "## pass parameter of name\n",
    "\n",
    "def hello(name):\n",
    "    '''A simple print user-defined function.\n",
    "        Input: Name (str)\n",
    "    '''\n",
    "\n",
    "    print(f'Howdy-do {name}')"
   ]
  },
  {
   "cell_type": "code",
   "execution_count": null,
   "metadata": {},
   "outputs": [],
   "source": [
    "hello('Karl')\n",
    "print()\n",
    "\n",
    "hello('Isadora')"
   ]
  },
  {
   "cell_type": "markdown",
   "metadata": {},
   "source": [
    "After each function call, the parameters values are forgotten."
   ]
  },
  {
   "cell_type": "code",
   "execution_count": null,
   "metadata": {},
   "outputs": [],
   "source": [
    "hello()"
   ]
  },
  {
   "cell_type": "markdown",
   "metadata": {},
   "source": [
    "Including a None default value into the user-function variable.\n",
    "\n",
    "Why?\n",
    "- Allows you to later do some internal code checking.\n",
    "- Good practice"
   ]
  },
  {
   "cell_type": "code",
   "execution_count": null,
   "metadata": {},
   "outputs": [],
   "source": [
    "def hello(name=None):\n",
    "    print(f'Howdy-do {name}')"
   ]
  },
  {
   "cell_type": "code",
   "execution_count": null,
   "metadata": {},
   "outputs": [],
   "source": [
    "hello('Karl')"
   ]
  },
  {
   "cell_type": "code",
   "execution_count": null,
   "metadata": {},
   "outputs": [],
   "source": [
    "hello('Isadora')"
   ]
  },
  {
   "cell_type": "code",
   "execution_count": null,
   "metadata": {},
   "outputs": [],
   "source": [
    "hello()"
   ]
  },
  {
   "cell_type": "code",
   "execution_count": null,
   "metadata": {},
   "outputs": [],
   "source": [
    "def hello(name=None):\n",
    "    '''A simple print user-defined function.\n",
    "       An internal check on the passed variable is now done.\n",
    "       \n",
    "       Input\n",
    "           Name (str)\n",
    "    '''\n",
    "\n",
    "    if not isinstance(name, str):\n",
    "        print('You did not specify a name.')\n",
    "    else:\n",
    "        print(f'Howdy-do {name}')"
   ]
  },
  {
   "cell_type": "code",
   "execution_count": null,
   "metadata": {},
   "outputs": [],
   "source": [
    "hello('Isadora')"
   ]
  },
  {
   "cell_type": "code",
   "execution_count": null,
   "metadata": {},
   "outputs": [],
   "source": [
    "hello()"
   ]
  },
  {
   "cell_type": "markdown",
   "metadata": {},
   "source": [
    "***\n",
    "## Returning Values from a Function"
   ]
  },
  {
   "cell_type": "code",
   "execution_count": null,
   "metadata": {},
   "outputs": [],
   "source": [
    "## SciPy has physical constants\n",
    "from scipy.constants import c\n",
    "\n",
    "def mass2energy(mass):\n",
    "    ''' Converts mass to energy using Einstein's equation.\n",
    "    \n",
    "        Input\n",
    "            mass: units in kg since 1 J = 1 kg m^2/s^2\n",
    "\n",
    "        Return\n",
    "            energy: units in Joules\n",
    "    '''\n",
    "\n",
    "    energy = mass*(c**2)\n",
    "    \n",
    "    return energy"
   ]
  },
  {
   "cell_type": "code",
   "execution_count": null,
   "metadata": {},
   "outputs": [],
   "source": [
    "mass = 0.900\n",
    "energy = mass2energy(mass)\n",
    "print(f'Energy = {energy} Joules')"
   ]
  },
  {
   "cell_type": "markdown",
   "metadata": {},
   "source": [
    "What happens now if we don't pass the variable to the function?"
   ]
  },
  {
   "cell_type": "code",
   "execution_count": null,
   "metadata": {},
   "outputs": [],
   "source": [
    "energy = mass2energy()"
   ]
  },
  {
   "cell_type": "markdown",
   "metadata": {},
   "source": [
    "Perhaps we can make things a bit more logical and informative..."
   ]
  },
  {
   "cell_type": "code",
   "execution_count": null,
   "metadata": {},
   "outputs": [],
   "source": [
    "def mass2energy(mass=None):\n",
    "    ''' Converts mass to energy using Einstein's equation.\n",
    "    \n",
    "        Input\n",
    "            mass (float): units in kg since 1 J = 1 kg m^2/s^2\n",
    "\n",
    "        Return\n",
    "            energy (float): units in Joules\n",
    "    '''\n",
    "\n",
    "    if not isinstance(mass, float):\n",
    "        print('Error: problem with specifying the mass.')\n",
    "        return None\n",
    "    else:\n",
    "        energy = mass*(c**2)\n",
    "        return energy"
   ]
  },
  {
   "cell_type": "code",
   "execution_count": null,
   "metadata": {},
   "outputs": [],
   "source": [
    "energy = mass2energy(0.100)\n",
    "print(f'Energy = {energy} Joules')"
   ]
  },
  {
   "cell_type": "code",
   "execution_count": null,
   "metadata": {},
   "outputs": [],
   "source": [
    "energy = mass2energy()\n",
    "print(f'Energy = {energy} Joules')"
   ]
  },
  {
   "cell_type": "markdown",
   "metadata": {},
   "source": [
    "Our internal check even works if we pass mass a value of None:"
   ]
  },
  {
   "cell_type": "code",
   "execution_count": null,
   "metadata": {},
   "outputs": [],
   "source": [
    "mass = None\n",
    "energy = mass2energy(mass)\n",
    "\n",
    "print(f'Energy = {energy} Joules')"
   ]
  },
  {
   "cell_type": "markdown",
   "metadata": {},
   "source": [
    "---\n",
    "\n",
    "**Take-home points**:\n",
    "1. Use built-in functions when possible.\n",
    "2. User can define their own functions as needed.\n",
    "3. One location that performs a specified task\n",
    "4. Reduces the chances of user/programmed errors\n",
    "5. Assign variables a default value of None.\n",
    "\n",
    "(Note: We didn't carefully think about significant figures reporting above.)"
   ]
  }
 ],
 "metadata": {
  "kernelspec": {
   "display_name": "Python 3 (ipykernel)",
   "language": "python",
   "name": "python3"
  },
  "language_info": {
   "codemirror_mode": {
    "name": "ipython",
    "version": 3
   },
   "file_extension": ".py",
   "mimetype": "text/x-python",
   "name": "python",
   "nbconvert_exporter": "python",
   "pygments_lexer": "ipython3",
   "version": "3.8.10"
  }
 },
 "nbformat": 4,
 "nbformat_minor": 2
}
