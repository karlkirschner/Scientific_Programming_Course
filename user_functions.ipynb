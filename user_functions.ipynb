{
 "cells": [
  {
   "cell_type": "markdown",
   "metadata": {},
   "source": [
    "<div class=\"alert block alert-info alert\">\n",
    "\n",
    "# <center> Scientific Programming in Python\n",
    "## <center>Karl N. Kirschner<br>Bonn-Rhein-Sieg University of Applied Sciences<br>Sankt Augustin, Germany\n",
    "\n",
    "# <center> User-defined Fuctions\n",
    "\n",
    "<hr style=\"border:2px solid gray\"></hr>"
   ]
  },
  {
   "cell_type": "markdown",
   "metadata": {},
   "source": [
    "## User-defined functions... \n",
    "...are the modular brains for your scientific programming.\n",
    "\n",
    "1. First line: '**def function_name():**'\n",
    "    - declares a function that is name 'function_name'\n",
    "    - typically, passed parameters are given with the ()\n",
    "    \n",
    "\n",
    "2. Second line and to the end\n",
    "    - indented body of the code\n",
    "\n",
    "\n",
    "3. Then, simply call the function when you want to use it (i.e. function calls)"
   ]
  },
  {
   "cell_type": "code",
   "execution_count": 1,
   "metadata": {},
   "outputs": [
    {
     "name": "stdout",
     "output_type": "stream",
     "text": [
      "hello\n",
      "hi\n",
      "hey\n",
      "hi-ya\n",
      "greetings\n",
      "good day\n",
      "good morning\n",
      "what's happening\n",
      "what's up\n",
      "how are you\n",
      "how goes it\n",
      "howdy-do\n",
      "bonjour\n",
      "buenas noches\n",
      "buenos dias\n",
      "shalom\n",
      "howdy y'all\n"
     ]
    }
   ],
   "source": [
    "def hello():\n",
    "    print('hello')\n",
    "    print('hi')\n",
    "    print('hey')\n",
    "    print('hi-ya')\n",
    "    print('greetings')\n",
    "    print('good day')\n",
    "    print('good morning')\n",
    "    print(\"what's happening\")\n",
    "    print(\"what's up\")\n",
    "    print('how are you')\n",
    "    print('how goes it')\n",
    "    print('howdy-do')\n",
    "    print('bonjour')\n",
    "    print('buenas noches')\n",
    "    print('buenos dias')\n",
    "    print('shalom')\n",
    "    print(\"howdy y'all\")\n",
    "\n",
    "hello() # function call"
   ]
  },
  {
   "cell_type": "code",
   "execution_count": 2,
   "metadata": {},
   "outputs": [],
   "source": [
    "## Define the function new\n",
    "## pass parameter of name\n",
    "\n",
    "def hello(name):\n",
    "    '''A simple print user-defined function.\n",
    "        Input: Name (str)\n",
    "    '''\n",
    "\n",
    "    print(f'Howdy-do {name}')"
   ]
  },
  {
   "cell_type": "code",
   "execution_count": 3,
   "metadata": {},
   "outputs": [
    {
     "name": "stdout",
     "output_type": "stream",
     "text": [
      "Howdy-do Karl\n",
      "\n",
      "Howdy-do Isadora\n"
     ]
    }
   ],
   "source": [
    "hello(name='Karl')\n",
    "print()\n",
    "\n",
    "hello(name='Isadora')"
   ]
  },
  {
   "cell_type": "markdown",
   "metadata": {},
   "source": [
    "After each function call, the passed variable values are forgotten since they are local variables within the function."
   ]
  },
  {
   "cell_type": "code",
   "execution_count": 4,
   "metadata": {},
   "outputs": [
    {
     "ename": "TypeError",
     "evalue": "hello() missing 1 required positional argument: 'name'",
     "output_type": "error",
     "traceback": [
      "\u001b[0;31m---------------------------------------------------------------------------\u001b[0m",
      "\u001b[0;31mTypeError\u001b[0m                                 Traceback (most recent call last)",
      "Input \u001b[0;32mIn [4]\u001b[0m, in \u001b[0;36m<cell line: 1>\u001b[0;34m()\u001b[0m\n\u001b[0;32m----> 1\u001b[0m \u001b[43mhello\u001b[49m\u001b[43m(\u001b[49m\u001b[43m)\u001b[49m\n",
      "\u001b[0;31mTypeError\u001b[0m: hello() missing 1 required positional argument: 'name'"
     ]
    }
   ],
   "source": [
    "hello()"
   ]
  },
  {
   "cell_type": "code",
   "execution_count": 5,
   "metadata": {},
   "outputs": [],
   "source": [
    "def hello(name):\n",
    "    '''A simple print user-defined function.\n",
    "       An internal check on the passed variable is now done.\n",
    "\n",
    "       Input\n",
    "           Name (str)\n",
    "    '''\n",
    "\n",
    "    if not isinstance(name, str):\n",
    "        raise TypeError('You did not specify a sting for the name.')\n",
    "    else:\n",
    "        print(f'Howdy-do {name}')"
   ]
  },
  {
   "cell_type": "code",
   "execution_count": 6,
   "metadata": {},
   "outputs": [
    {
     "name": "stdout",
     "output_type": "stream",
     "text": [
      "Howdy-do Isadora\n"
     ]
    }
   ],
   "source": [
    "hello(name='Isadora')"
   ]
  },
  {
   "cell_type": "code",
   "execution_count": 7,
   "metadata": {},
   "outputs": [
    {
     "ename": "TypeError",
     "evalue": "hello() missing 1 required positional argument: 'name'",
     "output_type": "error",
     "traceback": [
      "\u001b[0;31m---------------------------------------------------------------------------\u001b[0m",
      "\u001b[0;31mTypeError\u001b[0m                                 Traceback (most recent call last)",
      "Input \u001b[0;32mIn [7]\u001b[0m, in \u001b[0;36m<cell line: 1>\u001b[0;34m()\u001b[0m\n\u001b[0;32m----> 1\u001b[0m \u001b[43mhello\u001b[49m\u001b[43m(\u001b[49m\u001b[43m)\u001b[49m\n",
      "\u001b[0;31mTypeError\u001b[0m: hello() missing 1 required positional argument: 'name'"
     ]
    }
   ],
   "source": [
    "hello()"
   ]
  },
  {
   "cell_type": "markdown",
   "metadata": {},
   "source": [
    "If we pass a variable type other than a `str` we obtain the following:"
   ]
  },
  {
   "cell_type": "code",
   "execution_count": 8,
   "metadata": {},
   "outputs": [
    {
     "ename": "TypeError",
     "evalue": "You did not specify a sting for the name.",
     "output_type": "error",
     "traceback": [
      "\u001b[0;31m---------------------------------------------------------------------------\u001b[0m",
      "\u001b[0;31mTypeError\u001b[0m                                 Traceback (most recent call last)",
      "Input \u001b[0;32mIn [8]\u001b[0m, in \u001b[0;36m<cell line: 1>\u001b[0;34m()\u001b[0m\n\u001b[0;32m----> 1\u001b[0m \u001b[43mhello\u001b[49m\u001b[43m(\u001b[49m\u001b[43mname\u001b[49m\u001b[38;5;241;43m=\u001b[39;49m\u001b[38;5;241;43m42\u001b[39;49m\u001b[43m)\u001b[49m\n",
      "Input \u001b[0;32mIn [5]\u001b[0m, in \u001b[0;36mhello\u001b[0;34m(name)\u001b[0m\n\u001b[1;32m      2\u001b[0m \u001b[38;5;124;03m'''A simple print user-defined function.\u001b[39;00m\n\u001b[1;32m      3\u001b[0m \u001b[38;5;124;03m   An internal check on the passed variable is now done.\u001b[39;00m\n\u001b[1;32m      4\u001b[0m \n\u001b[1;32m      5\u001b[0m \u001b[38;5;124;03m   Input\u001b[39;00m\n\u001b[1;32m      6\u001b[0m \u001b[38;5;124;03m       Name (str)\u001b[39;00m\n\u001b[1;32m      7\u001b[0m \u001b[38;5;124;03m'''\u001b[39;00m\n\u001b[1;32m      9\u001b[0m \u001b[38;5;28;01mif\u001b[39;00m \u001b[38;5;129;01mnot\u001b[39;00m \u001b[38;5;28misinstance\u001b[39m(name, \u001b[38;5;28mstr\u001b[39m):\n\u001b[0;32m---> 10\u001b[0m     \u001b[38;5;28;01mraise\u001b[39;00m \u001b[38;5;167;01mTypeError\u001b[39;00m(\u001b[38;5;124m'\u001b[39m\u001b[38;5;124mYou did not specify a sting for the name.\u001b[39m\u001b[38;5;124m'\u001b[39m)\n\u001b[1;32m     11\u001b[0m \u001b[38;5;28;01melse\u001b[39;00m:\n\u001b[1;32m     12\u001b[0m     \u001b[38;5;28mprint\u001b[39m(\u001b[38;5;124mf\u001b[39m\u001b[38;5;124m'\u001b[39m\u001b[38;5;124mHowdy-do \u001b[39m\u001b[38;5;132;01m{\u001b[39;00mname\u001b[38;5;132;01m}\u001b[39;00m\u001b[38;5;124m'\u001b[39m)\n",
      "\u001b[0;31mTypeError\u001b[0m: You did not specify a sting for the name."
     ]
    }
   ],
   "source": [
    "hello(name=42)"
   ]
  },
  {
   "cell_type": "markdown",
   "metadata": {},
   "source": [
    "<hr style=\"border:2px solid gray\"></hr>\n",
    "\n",
    "## Returning an object from a function\n",
    "\n",
    "(Recall that SciPy has a large collection of physical constants.)"
   ]
  },
  {
   "cell_type": "code",
   "execution_count": 15,
   "metadata": {},
   "outputs": [],
   "source": [
    "from scipy.constants import c\n",
    "\n",
    "def mass2energy(mass, speedoflight):\n",
    "    ''' Converts mass to energy using Einstein's equation.\n",
    "\n",
    "        Input\n",
    "            mass: units in kg since 1 J = 1 kg m^2/s^2\n",
    "            speedoflight: speed of light\n",
    "\n",
    "        Return\n",
    "            energy: units in Joules\n",
    "    '''\n",
    "\n",
    "    energy = mass*(speedoflight**2)\n",
    "\n",
    "    return energy"
   ]
  },
  {
   "cell_type": "code",
   "execution_count": 16,
   "metadata": {},
   "outputs": [
    {
     "name": "stdout",
     "output_type": "stream",
     "text": [
      "Energy = 8.088796608631358e+16 Joules\n"
     ]
    }
   ],
   "source": [
    "my_mass = 0.900\n",
    "\n",
    "energy = mass2energy(mass=my_mass, speedoflight=c)\n",
    "\n",
    "print(f'Energy = {energy} Joules')"
   ]
  },
  {
   "cell_type": "markdown",
   "metadata": {},
   "source": [
    "What happens now if we don't pass the variable to the function?"
   ]
  },
  {
   "cell_type": "code",
   "execution_count": 17,
   "metadata": {},
   "outputs": [
    {
     "ename": "TypeError",
     "evalue": "mass2energy() missing 2 required positional arguments: 'mass' and 'speedoflight'",
     "output_type": "error",
     "traceback": [
      "\u001b[0;31m---------------------------------------------------------------------------\u001b[0m",
      "\u001b[0;31mTypeError\u001b[0m                                 Traceback (most recent call last)",
      "Input \u001b[0;32mIn [17]\u001b[0m, in \u001b[0;36m<cell line: 1>\u001b[0;34m()\u001b[0m\n\u001b[0;32m----> 1\u001b[0m energy \u001b[38;5;241m=\u001b[39m \u001b[43mmass2energy\u001b[49m\u001b[43m(\u001b[49m\u001b[43m)\u001b[49m\n",
      "\u001b[0;31mTypeError\u001b[0m: mass2energy() missing 2 required positional arguments: 'mass' and 'speedoflight'"
     ]
    }
   ],
   "source": [
    "energy = mass2energy()"
   ]
  },
  {
   "cell_type": "markdown",
   "metadata": {},
   "source": [
    "Perhaps we can make things a bit more logical and informative..."
   ]
  },
  {
   "cell_type": "code",
   "execution_count": 18,
   "metadata": {},
   "outputs": [],
   "source": [
    "def mass2energy(mass, speedoflight=None):\n",
    "    ''' Converts mass to energy using Einstein's equation.\n",
    "\n",
    "        Input\n",
    "            mass (float): units in kg since 1 J = 1 kg m^2/s^2\n",
    "            speedoflight: speed of light\n",
    "\n",
    "        Return\n",
    "            energy (float): units in Joules\n",
    "    '''\n",
    "\n",
    "    if not isinstance(mass, float):\n",
    "        raise TypeError(f'The value for the mass (i.e. {mass}) must be a float type')\n",
    "    elif not isinstance(speedoflight, float):\n",
    "        raise TypeError(f'The value for the speed-of-light (i.e. {speedoflight}) must be a float type')\n",
    "    else:\n",
    "        energy = mass*(c**2)\n",
    "        return energy"
   ]
  },
  {
   "cell_type": "code",
   "execution_count": 19,
   "metadata": {},
   "outputs": [
    {
     "name": "stdout",
     "output_type": "stream",
     "text": [
      "Energy = 8987551787368176.0 Joules\n"
     ]
    }
   ],
   "source": [
    "energy = mass2energy(mass=0.100, speedoflight=c)\n",
    "print(f'Energy = {energy} Joules')"
   ]
  },
  {
   "cell_type": "markdown",
   "metadata": {},
   "source": [
    "Now, make sure our internal checks are working:"
   ]
  },
  {
   "cell_type": "code",
   "execution_count": 22,
   "metadata": {},
   "outputs": [
    {
     "ename": "TypeError",
     "evalue": "The value for the mass (i.e. one_hundred) must be a float type",
     "output_type": "error",
     "traceback": [
      "\u001b[0;31m---------------------------------------------------------------------------\u001b[0m",
      "\u001b[0;31mTypeError\u001b[0m                                 Traceback (most recent call last)",
      "Input \u001b[0;32mIn [22]\u001b[0m, in \u001b[0;36m<cell line: 1>\u001b[0;34m()\u001b[0m\n\u001b[0;32m----> 1\u001b[0m energy \u001b[38;5;241m=\u001b[39m \u001b[43mmass2energy\u001b[49m\u001b[43m(\u001b[49m\u001b[43mmass\u001b[49m\u001b[38;5;241;43m=\u001b[39;49m\u001b[38;5;124;43m'\u001b[39;49m\u001b[38;5;124;43mone_hundred\u001b[39;49m\u001b[38;5;124;43m'\u001b[39;49m\u001b[43m,\u001b[49m\u001b[43m \u001b[49m\u001b[43mspeedoflight\u001b[49m\u001b[38;5;241;43m=\u001b[39;49m\u001b[43mc\u001b[49m\u001b[43m)\u001b[49m\n",
      "Input \u001b[0;32mIn [18]\u001b[0m, in \u001b[0;36mmass2energy\u001b[0;34m(mass, speedoflight)\u001b[0m\n\u001b[1;32m      2\u001b[0m \u001b[38;5;124;03m''' Converts mass to energy using Einstein's equation.\u001b[39;00m\n\u001b[1;32m      3\u001b[0m \n\u001b[1;32m      4\u001b[0m \u001b[38;5;124;03m    Input\u001b[39;00m\n\u001b[0;32m   (...)\u001b[0m\n\u001b[1;32m      9\u001b[0m \u001b[38;5;124;03m        energy (float): units in Joules\u001b[39;00m\n\u001b[1;32m     10\u001b[0m \u001b[38;5;124;03m'''\u001b[39;00m\n\u001b[1;32m     12\u001b[0m \u001b[38;5;28;01mif\u001b[39;00m \u001b[38;5;129;01mnot\u001b[39;00m \u001b[38;5;28misinstance\u001b[39m(mass, \u001b[38;5;28mfloat\u001b[39m):\n\u001b[0;32m---> 13\u001b[0m     \u001b[38;5;28;01mraise\u001b[39;00m \u001b[38;5;167;01mTypeError\u001b[39;00m(\u001b[38;5;124mf\u001b[39m\u001b[38;5;124m'\u001b[39m\u001b[38;5;124mThe value for the mass (i.e. \u001b[39m\u001b[38;5;132;01m{\u001b[39;00mmass\u001b[38;5;132;01m}\u001b[39;00m\u001b[38;5;124m) must be a float type\u001b[39m\u001b[38;5;124m'\u001b[39m)\n\u001b[1;32m     14\u001b[0m \u001b[38;5;28;01melif\u001b[39;00m \u001b[38;5;129;01mnot\u001b[39;00m \u001b[38;5;28misinstance\u001b[39m(speedoflight, \u001b[38;5;28mfloat\u001b[39m):\n\u001b[1;32m     15\u001b[0m     \u001b[38;5;28;01mraise\u001b[39;00m \u001b[38;5;167;01mTypeError\u001b[39;00m(\u001b[38;5;124mf\u001b[39m\u001b[38;5;124m'\u001b[39m\u001b[38;5;124mThe value for the speed-of-light (i.e. \u001b[39m\u001b[38;5;132;01m{\u001b[39;00mspeedoflight\u001b[38;5;132;01m}\u001b[39;00m\u001b[38;5;124m) must be a float type\u001b[39m\u001b[38;5;124m'\u001b[39m)\n",
      "\u001b[0;31mTypeError\u001b[0m: The value for the mass (i.e. one_hundred) must be a float type"
     ]
    }
   ],
   "source": [
    "energy = mass2energy(mass='one_hundred', speedoflight=c)"
   ]
  },
  {
   "cell_type": "markdown",
   "metadata": {},
   "source": [
    "Our internal check even works if we pass the `speed-of-light` variable a value of `None`:"
   ]
  },
  {
   "cell_type": "code",
   "execution_count": 23,
   "metadata": {},
   "outputs": [
    {
     "ename": "TypeError",
     "evalue": "The value for the speed-of-light (i.e. None) must be a float type",
     "output_type": "error",
     "traceback": [
      "\u001b[0;31m---------------------------------------------------------------------------\u001b[0m",
      "\u001b[0;31mTypeError\u001b[0m                                 Traceback (most recent call last)",
      "Input \u001b[0;32mIn [23]\u001b[0m, in \u001b[0;36m<cell line: 1>\u001b[0;34m()\u001b[0m\n\u001b[0;32m----> 1\u001b[0m energy \u001b[38;5;241m=\u001b[39m \u001b[43mmass2energy\u001b[49m\u001b[43m(\u001b[49m\u001b[43mmass\u001b[49m\u001b[38;5;241;43m=\u001b[39;49m\u001b[38;5;241;43m0.1\u001b[39;49m\u001b[43m,\u001b[49m\u001b[43m \u001b[49m\u001b[43mspeedoflight\u001b[49m\u001b[38;5;241;43m=\u001b[39;49m\u001b[38;5;28;43;01mNone\u001b[39;49;00m\u001b[43m)\u001b[49m\n",
      "Input \u001b[0;32mIn [18]\u001b[0m, in \u001b[0;36mmass2energy\u001b[0;34m(mass, speedoflight)\u001b[0m\n\u001b[1;32m     13\u001b[0m     \u001b[38;5;28;01mraise\u001b[39;00m \u001b[38;5;167;01mTypeError\u001b[39;00m(\u001b[38;5;124mf\u001b[39m\u001b[38;5;124m'\u001b[39m\u001b[38;5;124mThe value for the mass (i.e. \u001b[39m\u001b[38;5;132;01m{\u001b[39;00mmass\u001b[38;5;132;01m}\u001b[39;00m\u001b[38;5;124m) must be a float type\u001b[39m\u001b[38;5;124m'\u001b[39m)\n\u001b[1;32m     14\u001b[0m \u001b[38;5;28;01melif\u001b[39;00m \u001b[38;5;129;01mnot\u001b[39;00m \u001b[38;5;28misinstance\u001b[39m(speedoflight, \u001b[38;5;28mfloat\u001b[39m):\n\u001b[0;32m---> 15\u001b[0m     \u001b[38;5;28;01mraise\u001b[39;00m \u001b[38;5;167;01mTypeError\u001b[39;00m(\u001b[38;5;124mf\u001b[39m\u001b[38;5;124m'\u001b[39m\u001b[38;5;124mThe value for the speed-of-light (i.e. \u001b[39m\u001b[38;5;132;01m{\u001b[39;00mspeedoflight\u001b[38;5;132;01m}\u001b[39;00m\u001b[38;5;124m) must be a float type\u001b[39m\u001b[38;5;124m'\u001b[39m)\n\u001b[1;32m     16\u001b[0m \u001b[38;5;28;01melse\u001b[39;00m:\n\u001b[1;32m     17\u001b[0m     energy \u001b[38;5;241m=\u001b[39m mass\u001b[38;5;241m*\u001b[39m(c\u001b[38;5;241m*\u001b[39m\u001b[38;5;241m*\u001b[39m\u001b[38;5;241m2\u001b[39m)\n",
      "\u001b[0;31mTypeError\u001b[0m: The value for the speed-of-light (i.e. None) must be a float type"
     ]
    }
   ],
   "source": [
    "energy = mass2energy(mass=0.1, speedoflight=None)"
   ]
  },
  {
   "cell_type": "markdown",
   "metadata": {},
   "source": [
    "<hr style=\"border:2px solid gray\"></hr>\n",
    "\n",
    "## Required versus Optional Parameters\n",
    "\n",
    "All of the above user-defined functions have had **required** parameters.\n",
    "\n",
    "To define **optional parameters**, one can assign those parameters a **default value**."
   ]
  },
  {
   "cell_type": "code",
   "execution_count": 50,
   "metadata": {},
   "outputs": [],
   "source": [
    "def mass2energy(mass, speedoflight, fun_comment=None):\n",
    "    ''' Converts mass to energy using Einstein's equation.\n",
    "\n",
    "        Input\n",
    "            mass (float): units in kg since 1 J = 1 kg m^2/s^2\n",
    "            speedoflight: speed of light\n",
    "\n",
    "        Return\n",
    "            energy (float): units in Joules\n",
    "    '''\n",
    "    if fun_comment is not None:\n",
    "        print(fun_comment)\n",
    "\n",
    "    if not isinstance(mass, float):\n",
    "        raise TypeError(f'The value for the mass (i.e. {mass}) must be a float type')\n",
    "    elif not isinstance(speedoflight, float):\n",
    "        raise TypeError(f'The value for the speed-of-light (i.e. {speedoflight}) must be a float type')\n",
    "    else:\n",
    "        energy = mass*(c**2)\n",
    "        return energy"
   ]
  },
  {
   "cell_type": "code",
   "execution_count": 51,
   "metadata": {},
   "outputs": [
    {
     "name": "stdout",
     "output_type": "stream",
     "text": [
      "Energy = 8987551787368176.0 Joules\n"
     ]
    }
   ],
   "source": [
    "energy = mass2energy(mass=0.100, speedoflight=c)\n",
    "print(f'Energy = {energy} Joules')"
   ]
  },
  {
   "cell_type": "code",
   "execution_count": 52,
   "metadata": {},
   "outputs": [
    {
     "name": "stdout",
     "output_type": "stream",
     "text": [
      "Hi, are you Einstein?\n",
      "Energy = 8987551787368176.0 Joules\n"
     ]
    }
   ],
   "source": [
    "energy = mass2energy(mass=0.100, speedoflight=c, fun_comment='Hi, are you Einstein?')\n",
    "print(f'Energy = {energy} Joules')"
   ]
  },
  {
   "cell_type": "markdown",
   "metadata": {},
   "source": [
    "Including a None default value for all user-function variable. Arguements for might include:\n",
    "- Allows you to later do some internal code checking.\n",
    "    - E.g.: might be helpful for optional vairables\n",
    "\n",
    "- Easier for nonexperts to understand the code's flow.\n",
    "\n",
    "- Good practice? (e.g. accidently using a global variable when you -- or someone else -- didn't mean to)\n",
    "\n",
    "Why it might be a bad idea:\n",
    "- Lose the required versus default parameter idea.\n",
    "\n",
    "### In this course: We will create functions that specify a default value of `None` for optional variables."
   ]
  },
  {
   "cell_type": "markdown",
   "metadata": {},
   "source": [
    "<hr style=\"border:2px solid gray\"></hr>\n",
    "\n",
    "**Take-home points**:\n",
    "1. Use built-in functions when possible.\n",
    "2. Users can define their own functions as needed.\n",
    "3. User-defined functions\n",
    "    - one location that performs a specified task\n",
    "    - reduces the chances of user/programmed errors\n",
    "    - promotes reusability (e.g. in other projects)\n",
    "    - assign optional variables a default value of None.\n",
    "\n",
    "(**Note**: We didn't carefully think about significant figures reporting above.)"
   ]
  },
  {
   "cell_type": "code",
   "execution_count": null,
   "metadata": {},
   "outputs": [],
   "source": []
  }
 ],
 "metadata": {
  "kernelspec": {
   "display_name": "Python 3 (ipykernel)",
   "language": "python",
   "name": "python3"
  },
  "language_info": {
   "codemirror_mode": {
    "name": "ipython",
    "version": 3
   },
   "file_extension": ".py",
   "mimetype": "text/x-python",
   "name": "python",
   "nbconvert_exporter": "python",
   "pygments_lexer": "ipython3",
   "version": "3.8.10"
  }
 },
 "nbformat": 4,
 "nbformat_minor": 2
}
