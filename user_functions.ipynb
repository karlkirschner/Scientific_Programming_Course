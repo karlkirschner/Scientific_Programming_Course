{
 "cells": [
  {
   "cell_type": "markdown",
   "metadata": {},
   "source": [
    "<div class=\"alert block alert-info alert\">\n",
    "\n",
    "# <center> Scientific Programming in Python\n",
    "## <center>Karl N. Kirschner<br>Bonn-Rhein-Sieg University of Applied Sciences<br>Sankt Augustin, Germany\n",
    "\n",
    "# <center> User-defined Fuctions\n",
    "\n",
    "#### Sources\n",
    "1. David M Beazley, Python Essential Reference, Developer's Library, Third Edition, Indianapolis, IN, 2006.\n",
    "<hr style=\"border:2px solid gray\"></hr>"
   ]
  },
  {
   "cell_type": "markdown",
   "metadata": {},
   "source": [
    "## User-defined functions... \n",
    "...are the <font color='dodgerblue'>modular brains</font> for your <font color='dodgerblue'>scientific programming</font>.\n",
    "\n",
    "1. First line: '**def function_name():**'\n",
    "    - declares a function that is named 'function_name'\n",
    "    - normally, one defines passed **parameters** within the ()\n",
    "    \n",
    "\n",
    "2. Second line and to the end\n",
    "    - indented body of the code\n",
    "\n",
    "\n",
    "3. Then, simply call the function when you want to use it (i.e., a **function call**)\n",
    "\n",
    "<br>\n",
    "\n",
    "An example of the simplist way to create a user-defined function:"
   ]
  },
  {
   "cell_type": "code",
   "execution_count": null,
   "metadata": {},
   "outputs": [],
   "source": [
    "def hello():\n",
    "    print('''\\\n",
    "    hello\n",
    "    hi\n",
    "    hey\n",
    "    hi-ya\n",
    "    greetings\n",
    "    good day\n",
    "    good morning\n",
    "    \"whats happening\"\n",
    "    \"whats up\"\n",
    "    how are you\n",
    "    how goes it\n",
    "    howdy-do\n",
    "    bonjour\n",
    "    buenas noches\n",
    "    buenos dias\n",
    "    shalom\n",
    "    \"howdy yall\"\n",
    "    ''')"
   ]
  },
  {
   "cell_type": "code",
   "execution_count": null,
   "metadata": {},
   "outputs": [],
   "source": [
    "hello() # a function call"
   ]
  },
  {
   "cell_type": "markdown",
   "metadata": {},
   "source": [
    "<hr style=\"border:2px solid gray\"></hr>\n",
    "\n",
    "###  Parameters and Docstrings\n",
    "\n",
    "Now, let's modify the function to include:\n",
    "1. a <font color='dodgerblue'>**parameter**</font> (i.e., **name**, see below)\n",
    "2. <font color='dodgerblue'>context</font> for the function's purpose using a <font color='dodgerblue'>docstring</font>\n",
    "3. pass an <font color='dodgerblue'>argument</font> to your parameter (i.e., **Isadora**)"
   ]
  },
  {
   "cell_type": "code",
   "execution_count": null,
   "metadata": {},
   "outputs": [],
   "source": [
    "def hello(name):\n",
    "    ''' A simple print user-defined function.\n",
    "\n",
    "        Args:\n",
    "            name: the desired name for greeting\n",
    "    '''\n",
    "\n",
    "    print(f'Howdy-do {name}')"
   ]
  },
  {
   "cell_type": "code",
   "execution_count": null,
   "metadata": {},
   "outputs": [],
   "source": [
    "hello(name='Isadora')"
   ]
  },
  {
   "cell_type": "markdown",
   "metadata": {},
   "source": [
    "After each function call, the parameter's <font color='dodgerblue'>**argument**</font> (i.e., **Isadora**) value is forgotten since it is a local variable within the function. This is called using **keyword arguments** in your **function call**. An error will occur if you do not supply one:"
   ]
  },
  {
   "cell_type": "code",
   "execution_count": null,
   "metadata": {},
   "outputs": [],
   "source": [
    "hello()"
   ]
  },
  {
   "cell_type": "markdown",
   "metadata": {},
   "source": [
    "<hr style=\"border:2px solid gray\"></hr>\n",
    "\n",
    "###  Internal Type Checking\n",
    "- Establishes a rigorous workflow and usage for the developed code\n",
    "- Critical for ensuring that your functions are used properly\n",
    "- Increases trustworthiness\n",
    "- Reduces errors\n",
    "- When used with `TypeError`, provides clear communication to the user\n",
    "\n",
    "(All are important scientific concepts.)\n",
    "\n",
    "Add an <font color='dodgerblue'>**internal check**</font> on the passed parameter using an `isinstance`:"
   ]
  },
  {
   "cell_type": "code",
   "execution_count": null,
   "metadata": {},
   "outputs": [],
   "source": [
    "def hello(name):\n",
    "    '''A simple print user-defined function.\n",
    "       An internal check on the passed variable is now done.\n",
    "\n",
    "       Args:\n",
    "           name: the desired name for greeting\n",
    "    '''\n",
    "\n",
    "    if not isinstance(name, str):\n",
    "        raise TypeError('You did not specify a string for the name.')\n",
    "    else:\n",
    "        print(f'Howdy-do {name}')"
   ]
  },
  {
   "cell_type": "markdown",
   "metadata": {},
   "source": [
    "What happens now if we\n",
    "\n",
    "1. don't pass the (required) variable a value, or\n",
    "2. don't pass the correct type?"
   ]
  },
  {
   "cell_type": "code",
   "execution_count": null,
   "metadata": {},
   "outputs": [],
   "source": [
    "hello()"
   ]
  },
  {
   "cell_type": "code",
   "execution_count": null,
   "metadata": {},
   "outputs": [],
   "source": [
    "hello(name=42)"
   ]
  },
  {
   "cell_type": "markdown",
   "metadata": {},
   "source": [
    "Now, let's properly use the function:"
   ]
  },
  {
   "cell_type": "code",
   "execution_count": null,
   "metadata": {},
   "outputs": [],
   "source": [
    "hello(name='Isadora')"
   ]
  },
  {
   "cell_type": "markdown",
   "metadata": {},
   "source": [
    "**Notice**:\n",
    "1. The first hello() function (i.e., with multiple greetings) was overwritten by the new one.\n",
    "2. We customized the TypeError error message that is raised with an incorrect type given."
   ]
  },
  {
   "cell_type": "markdown",
   "metadata": {},
   "source": [
    "<hr style=\"border:2px solid gray\"></hr>\n",
    "\n",
    "### Global versus Local Variables\n",
    "\n",
    "- What happens when using **local variables** within a function that have the **same name** as a **global variable**?"
   ]
  },
  {
   "cell_type": "code",
   "execution_count": null,
   "metadata": {},
   "outputs": [],
   "source": [
    "def hello_two_local(age, name):\n",
    "    '''A simple print user-defined function, with two local variables\n",
    "       An internal check on the passed variable is now done.\n",
    "\n",
    "       Args:\n",
    "           age:  a local variable, as defined by the def line\n",
    "           name: a local variable, as defined by the def line\n",
    "    '''\n",
    "\n",
    "    if not isinstance(age, int):\n",
    "        raise TypeError('You did not specify an integer for the age.')\n",
    "    elif not isinstance(name, str):\n",
    "        raise TypeError('You did not specify a string for the name.')\n",
    "    else:\n",
    "        print(f'Howdy-do {name}, who is {age} years old.')"
   ]
  },
  {
   "cell_type": "code",
   "execution_count": null,
   "metadata": {},
   "outputs": [],
   "source": [
    "hello_two_local()"
   ]
  },
  {
   "cell_type": "code",
   "execution_count": null,
   "metadata": {},
   "outputs": [],
   "source": [
    "## global variables\n",
    "age_global_var = 23\n",
    "my_global_var = 'Jane'\n",
    "\n",
    "hello_two_local(age=age_global_var, name=my_global_var)"
   ]
  },
  {
   "cell_type": "markdown",
   "metadata": {},
   "source": [
    "- What happens when you have a **global variable** that **is not a local variable** within a function?"
   ]
  },
  {
   "cell_type": "code",
   "execution_count": null,
   "metadata": {},
   "outputs": [],
   "source": [
    "def hello_one_local_one_global(name):\n",
    "    '''A simple print user-defined function, with one local variables (name)\n",
    "       and one global variable (age)\n",
    "\n",
    "       An internal check on the passed variable is now done.\n",
    "\n",
    "       Args\n",
    "           name: a local variable, as defined by the def line\n",
    "    '''\n",
    "\n",
    "    if not isinstance(name, str):\n",
    "        raise TypeError('You did not specify a string for the name.')\n",
    "    else:\n",
    "        print(f'Howdy-do {name}, who is {age_global_var} years old.')"
   ]
  },
  {
   "cell_type": "markdown",
   "metadata": {},
   "source": [
    "The age variable within the function is now the global one `age_global_var`."
   ]
  },
  {
   "cell_type": "code",
   "execution_count": null,
   "metadata": {},
   "outputs": [],
   "source": [
    "hello_one_local_one_global(name='Jessica')"
   ]
  },
  {
   "cell_type": "markdown",
   "metadata": {},
   "source": [
    " <font color='dodgerblue'>**Important**</font>: **avoid** using global variable in user-defined functions. Instead, pass them as **arguments** to the funciton's **parameter**.\n",
    "\n",
    "1. Adds clarity (i.e., you don't have to go searching for where the global variable was defined)\n",
    "2. Adds transparency\n",
    "2. Improves the function's transferibility"
   ]
  },
  {
   "cell_type": "markdown",
   "metadata": {},
   "source": [
    "<hr style=\"border:2px solid gray\"></hr>\n",
    "\n",
    "### Returning a value (i.e., object) from a function\n",
    "\n",
    "- SciPy has a large collection of physical constants\n",
    "    - speed of light: `c`\n",
    "- Notice the usage of **units** in the **docstring**\n",
    "- The `return` statement provides the specified value back to the line that called the function"
   ]
  },
  {
   "cell_type": "code",
   "execution_count": null,
   "metadata": {},
   "outputs": [],
   "source": [
    "from scipy.constants import c"
   ]
  },
  {
   "cell_type": "code",
   "execution_count": null,
   "metadata": {},
   "outputs": [],
   "source": [
    "def mass2energy(mass, speedoflight):\n",
    "    ''' Converts mass to energy using Einstein's equation.\n",
    "\n",
    "        Args:\n",
    "            mass: mass of an object (units = kg since 1 J = 1 kg m^2/s^2)\n",
    "            speedoflight: speed of light (unit = m/s)\n",
    "\n",
    "        Return:\n",
    "            energy: energy associated for a given mass (units = J)\n",
    "    '''\n",
    "\n",
    "    if not isinstance(mass, float):\n",
    "        raise TypeError(f'The value for the mass (i.e. {mass}) must be a float type')\n",
    "    elif not isinstance(speedoflight, float):\n",
    "        raise TypeError(f'The value for the speed-of-light (i.e. {speedoflight}) must be a float type')\n",
    "    else:\n",
    "        energy = mass*(speedoflight**2)\n",
    "\n",
    "        return energy"
   ]
  },
  {
   "cell_type": "markdown",
   "metadata": {},
   "source": [
    "Now, make sure our internal checks are working:"
   ]
  },
  {
   "cell_type": "code",
   "execution_count": null,
   "metadata": {},
   "outputs": [],
   "source": [
    "energy = mass2energy(mass=0.100, speedoflight=c)\n",
    "print(f'Energy = {energy:0.2e} Joules')"
   ]
  },
  {
   "cell_type": "code",
   "execution_count": null,
   "metadata": {},
   "outputs": [],
   "source": [
    "energy = mass2energy(mass='one_hundred', speedoflight=c)"
   ]
  },
  {
   "cell_type": "markdown",
   "metadata": {},
   "source": [
    "#### Significant Figures\n",
    "\n",
    "Notice how the answer's number of digits was controlled by `:0.2e` in the f-string statement. This is called a **Format Specifications** : https://docs.python.org/3/library/string.html#format-specification-mini-language\n",
    "\n",
    "(More on this later in the rounding lecture.)"
   ]
  },
  {
   "cell_type": "markdown",
   "metadata": {},
   "source": [
    "<hr style=\"border:2px solid gray\"></hr>\n",
    "\n",
    "### Required versus Optional Parameters\n",
    "\n",
    "All of the above user-defined functions have had <font color='dodgerblue'>**required parameters**</font>.\n",
    "\n",
    "To define <font color='dodgerblue'>**optional parameters**</font>, one can assign those parameters a **default value**.\n",
    "\n",
    "**Once a parameter** is assigned a default value, then <font color='dodgerblue'>**all subsequent**</font> (i.e., the remaining) variables must also be **optional parameters**."
   ]
  },
  {
   "cell_type": "code",
   "execution_count": null,
   "metadata": {},
   "outputs": [],
   "source": [
    "def mass2energy(mass, speedoflight, fun_comment=None):\n",
    "    ''' Converts mass to energy using Einstein's equation.\n",
    "\n",
    "        Args:\n",
    "            mass (float): units in kg since 1 J = 1 kg m^2/s^2\n",
    "            speedoflight: speed of light\n",
    "\n",
    "        Return:\n",
    "            energy (float): units in Joules\n",
    "    '''\n",
    "\n",
    "    if fun_comment is not None:\n",
    "        print(fun_comment)\n",
    "\n",
    "    if not isinstance(mass, float):\n",
    "        raise TypeError(f'The value for the mass (i.e., {mass}) must be a float type')\n",
    "    elif not isinstance(speedoflight, float):\n",
    "        raise TypeError(f'The value for the speed-of-light (i.e., {speedoflight}) must be a float type')\n",
    "    else:\n",
    "        energy = mass*(speedoflight**2)\n",
    "\n",
    "        return energy"
   ]
  },
  {
   "cell_type": "code",
   "execution_count": null,
   "metadata": {},
   "outputs": [],
   "source": [
    "energy = mass2energy(mass=0.100, speedoflight=c)\n",
    "\n",
    "print(f'Energy = {energy:0.2e} Joules')"
   ]
  },
  {
   "cell_type": "markdown",
   "metadata": {},
   "source": [
    "**Note**: the `fun_comment` was not given an argument, and thus is assigned `None`, which leads to `if statement` being not `True`.\n",
    "\n",
    "Let's pass now a `fun_comment` string value:"
   ]
  },
  {
   "cell_type": "code",
   "execution_count": null,
   "metadata": {},
   "outputs": [],
   "source": [
    "energy = mass2energy(mass=0.100, speedoflight=c, fun_comment='Hi, are you Einstein?')\n",
    "\n",
    "print(f'Energy = {energy:0.2e} Joules')"
   ]
  },
  {
   "cell_type": "markdown",
   "metadata": {},
   "source": [
    "<!-- Including a None default value for all user-function variable. Arguments for might include:\n",
    "- Allows you to later do some internal code checking.\n",
    "    - E.g.: might be helpful for optional variables\n",
    "\n",
    "- Easier for nonexperts to understand the code's flow.\n",
    "\n",
    "- Good practice? (e.g. accidentally using a global variable when you -- or someone else -- didn't mean to)\n",
    "\n",
    "Why it might be a bad idea:\n",
    "- Lose the required versus default parameter idea.\n",
    "\n",
    "### In this course: We will create functions that specify a default value of `None` for optional variables. -->\n",
    "\n",
    "<hr style=\"border:2px solid gray\"></hr>\n",
    "\n",
    "### `*args` and `kwargs`\n",
    "1. One can pass multiple additional unnamed variables to a function using `*args`.\n",
    "    - `args` = **arg**ument**s**\n",
    "    - the `*` indicates that **args** will be passed as a <font color='dodgerblue'>**tuple**</font>.\n"
   ]
  },
  {
   "cell_type": "code",
   "execution_count": null,
   "metadata": {},
   "outputs": [],
   "source": [
    "def my_args_func(*args):\n",
    "    '''Add a series of numbers together.'''\n",
    "\n",
    "    answer = 0\n",
    "\n",
    "    for number in args:\n",
    "        answer += number\n",
    "\n",
    "    return answer"
   ]
  },
  {
   "cell_type": "code",
   "execution_count": null,
   "metadata": {},
   "outputs": [],
   "source": [
    "my_args_func(1, 2, 3, 4, 5)"
   ]
  },
  {
   "cell_type": "markdown",
   "metadata": {},
   "source": [
    "2. One can also pass additional keyword-based arguments (e.g., name='octane') using `**kwargs`.\n",
    "    - `kwargs` = **k**ey**w**ord **arg**ument**s**\n",
    "    - the `**` indicates that **kwargs** will be passed as a <font color='dodgerblue'>**dictionary**</font>.\n",
    "\n",
    "<br>\n",
    "\n",
    "**Important**: the sequence of must go as **`def my_function(required, *args, **kwargs)`**\n",
    "\n",
    "Dictionaries: https://docs.python.org/3/tutorial/datastructures.html#dictionaries\n",
    "\n",
    "Access a value wihtin a dictionary by its key:\n",
    "`my_dictionary = {a_key: its_value}`"
   ]
  },
  {
   "cell_type": "markdown",
   "metadata": {},
   "source": [
    "Notice: to <font color='dodgerblue'>**iterate**</font> over a dictionay's <font color='dodgerblue'>**keys**</font> and their <font color='dodgerblue'>**values**</font>, you have use **`dict.items()`**."
   ]
  },
  {
   "cell_type": "code",
   "execution_count": null,
   "metadata": {},
   "outputs": [],
   "source": [
    "def my_kwargs_func(**kwargs):\n",
    "    '''Print the features of a molecule.\n",
    "\n",
    "        kwargs: a dictionary that contains features and\n",
    "                values for a given molecule\n",
    "    '''\n",
    "\n",
    "    for key, value in kwargs.items():\n",
    "        print(f'{key}: {value}')"
   ]
  },
  {
   "cell_type": "code",
   "execution_count": null,
   "metadata": {},
   "outputs": [],
   "source": [
    "my_kwargs_func(name='octane', number_carbons=8, molec_weight=114.23, density=703)"
   ]
  },
  {
   "cell_type": "markdown",
   "metadata": {},
   "source": [
    "Dropping the density:"
   ]
  },
  {
   "cell_type": "code",
   "execution_count": null,
   "metadata": {},
   "outputs": [],
   "source": [
    "my_kwargs_func(name='nonane', number_carbons=9, molec_weight=128.2)"
   ]
  },
  {
   "cell_type": "markdown",
   "metadata": {},
   "source": [
    "<hr style=\"border:2px solid gray\"></hr>\n",
    "\n",
    "### Typing (a.k.a. type hinting)\n",
    "\n",
    "**Goal**: <font color='dodgerblue'>Providing a syntax for function annotations.</font>\n",
    "\n",
    "- Removes ambiguity\n",
    "\n",
    "**Sources**:\n",
    "\n",
    "Starting point: https://docs.python.org/3/library/typing.html\n",
    "\n",
    "Theory of: https://peps.python.org/pep-0483/\n",
    "\n",
    "All of the details: https://peps.python.org/pep-0484/\n",
    "\n",
    "\n",
    "### Syntax Definition\n",
    "\n",
    "Type hinting is done within the line that defines the function, using a `:` for the inputs and `->` for what is returned.\n",
    "\n",
    "#### Examples\n",
    "\n",
    "<font color='dodgerblue'>1. Simple</font>\n",
    "\n",
    "First, let's see what Python version we are working with:"
   ]
  },
  {
   "cell_type": "code",
   "execution_count": null,
   "metadata": {},
   "outputs": [],
   "source": [
    "import sys\n",
    "print(sys.version)"
   ]
  },
  {
   "cell_type": "code",
   "execution_count": null,
   "metadata": {},
   "outputs": [],
   "source": [
    "def square(number: float) -> float:\n",
    "    ''' Take one number and square it.\n",
    "\n",
    "        Args:\n",
    "            number: input number\n",
    "        Return:\n",
    "            the square of the input number\n",
    "    '''\n",
    "\n",
    "    if not isinstance(number, float):\n",
    "        raise TypeError(f'The value for the mass (i.e. {number}) must be a float type.')\n",
    "    else:\n",
    "        return number**2"
   ]
  },
  {
   "cell_type": "code",
   "execution_count": null,
   "metadata": {},
   "outputs": [],
   "source": [
    "number_value = 5.0\n",
    "\n",
    "print(f'The square of {number_value} is {square(number=number_value)}.')"
   ]
  },
  {
   "cell_type": "markdown",
   "metadata": {},
   "source": [
    "<font color='dodgerblue'>2. Medium Complexity</font>\n",
    "\n",
    "- providing multiple options for type hinting for one variable\n",
    "\n",
    "**Older versions of Python (v. 3.5)**, required the **typing** library and its **Union** function."
   ]
  },
  {
   "cell_type": "code",
   "execution_count": null,
   "metadata": {},
   "outputs": [],
   "source": [
    "from typing import Union\n",
    "\n",
    "\n",
    "def square(number: Union[int, float]) -> Union[int, float]:\n",
    "    ''' Take one number and square it.\n",
    "\n",
    "        Args:\n",
    "            number: input number\n",
    "        Return:\n",
    "            the square of the input number\n",
    "    '''\n",
    "\n",
    "    if not isinstance(number, (int, float)):\n",
    "        raise TypeError(f'The value for the number (i.e. {number}) must be a float or int type.')\n",
    "    else:\n",
    "        return number**2"
   ]
  },
  {
   "cell_type": "code",
   "execution_count": null,
   "metadata": {},
   "outputs": [],
   "source": [
    "for number_value in [5, 5.0]:\n",
    "    print(f'The square of {number_value} is {square(number=number_value)}.')"
   ]
  },
  {
   "cell_type": "markdown",
   "metadata": {},
   "source": [
    "However, more recent Python versions, allow you to drop the typing `import` and `Union`.\n",
    "\n",
    "We will now add the `isinstance` function that we learned about above.\n",
    "\n",
    "**Note** the use of the tuple (i.e., `(int, float)`) in the isinstance statement."
   ]
  },
  {
   "cell_type": "code",
   "execution_count": null,
   "metadata": {},
   "outputs": [],
   "source": [
    "def square(number: [int, float]) -> [int, float]:\n",
    "    ''' Take one number and square it.\n",
    "\n",
    "        Args:\n",
    "            number: input number\n",
    "        Return:\n",
    "            the square of the input number\n",
    "    '''\n",
    "\n",
    "    if not isinstance(number, (int, float)):\n",
    "        raise TypeError(f'The value for the number (i.e. {number}) must be a float or int type.')\n",
    "    else:\n",
    "        return number**2"
   ]
  },
  {
   "cell_type": "code",
   "execution_count": null,
   "metadata": {},
   "outputs": [],
   "source": [
    "for number_value in [5, 5.0]:\n",
    "    print(f'The square of {number_value} is {square(number=number_value)}.')"
   ]
  },
  {
   "cell_type": "markdown",
   "metadata": {},
   "source": [
    "Test it to see what happens if we past a string:"
   ]
  },
  {
   "cell_type": "code",
   "execution_count": null,
   "metadata": {},
   "outputs": [],
   "source": [
    "for number_value in [5, 5.0, 'test']:\n",
    "    print(f'The square of {number_value} is {square(number=number_value)}.')"
   ]
  },
  {
   "cell_type": "markdown",
   "metadata": {},
   "source": [
    "**Note**: as of <font color='dodgerblue'>Python 3.10</font>, one can use `|` to simplify things further.\n",
    "\n",
    "The following is equivalent to `number: typing.Union[int, float]`:\n",
    "\n",
    "`def square(number: int | float) -> int | float:\n",
    "    return number ** 2`"
   ]
  },
  {
   "cell_type": "markdown",
   "metadata": {},
   "source": [
    "<font color='dodgerblue'>3. More Complexity</font>\n",
    "\n",
    "<font color='MediumVioletRed'>The following is the recommend syntax</font> (since it currently maximizes a code's use by others).\n",
    "\n",
    "Notice:\n",
    "- the use of a Pythonic <font color='dodgerblue'>comprehension</font> for the internal check of passed list items.\n",
    "    - More information - https://www.geeksforgeeks.org/comprehensions-in-python\n",
    "\n",
    "\n",
    "- the use of the built-in function `any`."
   ]
  },
  {
   "cell_type": "code",
   "execution_count": null,
   "metadata": {},
   "outputs": [],
   "source": [
    "from typing import List\n",
    "\n",
    "\n",
    "def square_list(number_list: List[float]) -> List[float]:\n",
    "    ''' Take one number and square it.\n",
    "\n",
    "        Args:\n",
    "            number_list: list of floats\n",
    "        Return:\n",
    "            prints the square of the input number\n",
    "    '''\n",
    "    if not isinstance(number_list, list):\n",
    "        raise TypeError(f'The number_list arguement (i.e., {number_list}) must be a list.')\n",
    "        \n",
    "    elif any(not isinstance(item, float) for item in number_list): # a comprehension statement\n",
    "        raise TypeError('An item with the list is not a float.')\n",
    "    \n",
    "    else:\n",
    "        for number in number_list:\n",
    "            print(number**2)"
   ]
  },
  {
   "cell_type": "code",
   "execution_count": null,
   "metadata": {},
   "outputs": [],
   "source": [
    "test_list = [1.0, 2.0, 3.0]\n",
    "\n",
    "square_list(number_list=test_list)"
   ]
  },
  {
   "cell_type": "markdown",
   "metadata": {},
   "source": [
    "**Note**: as of <font color='dodgerblue'>Python 3.10</font>, one can use `list` to simplify things further:\n",
    "\n",
    "`def square(number: list[int]) -> list[int]:\n",
    "    return number**2`"
   ]
  },
  {
   "cell_type": "markdown",
   "metadata": {},
   "source": [
    "<hr style=\"border:2px solid gray\"></hr>\n",
    "\n",
    "## Take-home points\n",
    "1. Use built-in functions when possible.\n",
    "\n",
    "\n",
    "2. Users can define their own functions as needed.<br><br>\n",
    "   User-defined functions\n",
    "    - one location that performs a specified task\n",
    "    - reduces the chances of user/programmer errors\n",
    "    - promotes reusability (e.g., in other projects)\n",
    "\n",
    "\n",
    "3. Passing optional variables\n",
    "    - pass optional variables a default value of `None`.\n",
    "    - assign multiple variables using `*args` (tuples) and `**kwargs` (dictionaries)\n",
    "\n",
    "\n",
    "4. Type Hinting\n",
    "    - provides syntax for a function\n",
    "    - clarifies what agruement types are passed to the parameters\n",
    "\n",
    "\n",
    "5. An excellent user-defined function contains the following:\n",
    "    - a good, readable function name\n",
    "    - well named parameter\n",
    "    - type hinting\n",
    "    - uses local variables, not global (when possible/reasonable)\n",
    "    - context\n",
    "        - what the function's purpose is\n",
    "        - input parameter explanation\n",
    "        - return explanation\n",
    "    - internal checks and control\n",
    "\n",
    "6. When using a function (and methods):\n",
    "    - use keyword arguments that pairs a parameter to its argument (e.g., `hello(name='Isadora')`)"
   ]
  },
  {
   "cell_type": "code",
   "execution_count": null,
   "metadata": {},
   "outputs": [],
   "source": []
  }
 ],
 "metadata": {
  "kernelspec": {
   "display_name": "Python 3 (ipykernel)",
   "language": "python",
   "name": "python3"
  },
  "language_info": {
   "codemirror_mode": {
    "name": "ipython",
    "version": 3
   },
   "file_extension": ".py",
   "mimetype": "text/x-python",
   "name": "python",
   "nbconvert_exporter": "python",
   "pygments_lexer": "ipython3",
   "version": "3.8.17"
  }
 },
 "nbformat": 4,
 "nbformat_minor": 2
}
