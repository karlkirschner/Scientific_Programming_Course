{
 "cells": [
  {
   "cell_type": "markdown",
   "metadata": {},
   "source": [
    "<div class=\"alert block alert-info alert\">\n",
    "\n",
    "# <center> Scientific Programming in Python\n",
    "\n",
    "## <center>Karl N. Kirschner<br>Bonn-Rhein-Sieg University of Applied Sciences<br>Sankt Augustin, Germany\n",
    "\n",
    "# <center> Extra Information for<br><br>Testing Inside your Code<br><br>and<br><br>Testing the Code Itself\n",
    "\n",
    "<!-- <br><br> -->\n",
    "\n",
    "<hr style=\"border:2px solid gray\"></hr>\n",
    "\n",
    "**Note**: All user-defined functions in the notebook do not include document strings (i.e. block comments) or internal checks. This is purposely done to focus on the teaching aspects of the lecture. **A full and proper user-defined function would include these.**"
   ]
  },
  {
   "cell_type": "markdown",
   "metadata": {},
   "source": [
    "# A quick reminder about typing\n",
    "\n",
    "Note that **typing** (a.k.a. type hinting, annotating functions) - actually **doesn't enforce** anything.\n",
    "\n",
    "We use them for our own and others' **clarification** of the code and its usage.\n",
    "\n",
    "To **enforce** the types, you must use `isinstance` statements."
   ]
  },
  {
   "cell_type": "code",
   "execution_count": null,
   "metadata": {},
   "outputs": [],
   "source": [
    "def user_function(number: float) -> float:\n",
    "    return number*2"
   ]
  },
  {
   "cell_type": "code",
   "execution_count": null,
   "metadata": {},
   "outputs": [],
   "source": [
    "user_function(number='me')"
   ]
  },
  {
   "cell_type": "markdown",
   "metadata": {},
   "source": [
    "---\n",
    "\n",
    "# `assert` versus `raise`\n",
    "\n",
    "### `assert`\n",
    "\n",
    "**Usage**: `assert test_condition, 'Error message to display'`\n",
    "\n",
    "- specify expectations for what your variables are\n",
    "- A helpful way to <font color='Red'>**debug**</font> code\n",
    "\n",
    "\n",
    "- Includes **traceback** (a.k.a. stack trace, stack traceback, backtrace) to show you the sequence of calls and associated problems\n",
    "    - https://realpython.com/python-traceback\n",
    "\n",
    "- An `assert` statement is **equivalent** to the following code:\n",
    "\n",
    "```python\n",
    "if not condition:\n",
    "    raise AssertionError()\n",
    "```\n",
    "\n",
    "\n",
    "- <font color='DodgerBlue'>Asserts are **not** meant to **test for expected conditions**</font>\n",
    "    - **Security issue**: see below."
   ]
  },
  {
   "cell_type": "code",
   "execution_count": null,
   "metadata": {},
   "outputs": [],
   "source": [
    "my_test_obj = 5\n",
    "\n",
    "assert my_test_obj != 5, 'ERROR MESSAGE FROM YOUR INSTRUCTOR - I LIKE YELLING WHEN I TYPE MESSAGES'"
   ]
  },
  {
   "cell_type": "markdown",
   "metadata": {},
   "source": [
    "### Practical usage\n",
    "\n",
    "1. Create & demo a simple function without and `assert` statement\n",
    "2. Create & demo one with an `assert` statement"
   ]
  },
  {
   "cell_type": "code",
   "execution_count": null,
   "metadata": {},
   "outputs": [],
   "source": [
    "def divide_me(number_1: float, number_2: float) -> float:\n",
    "\n",
    "    return number_1/number_2\n",
    "\n",
    "\n",
    "divide_me(number_1=1.0, number_2=2.0)"
   ]
  },
  {
   "cell_type": "markdown",
   "metadata": {},
   "source": [
    "The functions <font color='DodgerBlue'>**runs fine**</font>, **but** we could provide more customized feedback."
   ]
  },
  {
   "cell_type": "code",
   "execution_count": null,
   "metadata": {},
   "outputs": [],
   "source": [
    "divide_me(number_1=1.0, number_2=None)"
   ]
  },
  {
   "cell_type": "markdown",
   "metadata": {},
   "source": [
    "An `assert` can check to make sure that a variable is not `None` (via `!=` or `is not None`), allowing you to <font color='DodgerBlue'>customize the feedback (i.e. placing the error into context)</font>."
   ]
  },
  {
   "cell_type": "code",
   "execution_count": null,
   "metadata": {},
   "outputs": [],
   "source": [
    "def divide_me(number_1: float, number_2: float) -> float:\n",
    "\n",
    "    assert number_1 is not None, 'The numerator was not provided.'\n",
    "    assert number_2 != None, 'The denominator was not provided.'\n",
    "    assert number_2 != 0.0, \"Error: you can't divide by zero. How dare you try!\"\n",
    "\n",
    "    return number_1/number_2\n",
    "\n",
    "\n",
    "divide_me(number_1=1.0, number_2=None)"
   ]
  },
  {
   "cell_type": "markdown",
   "metadata": {},
   "source": [
    "## `assert` Security issue\n",
    "\n",
    "There is also a way for users to **circumvent** (i.e. get around) assert statements.\n",
    "\n",
    "From a bash terminal:\n",
    "- **python assert_example.py**: reads the assert statement (everything seems to be working properly)\n",
    "- **python -O assert_example.py**: the assert statement is not read (i.e. it is bypassed), and instead prints a standard error statement\n",
    "\n",
    "In the following, I will also demonstrate how one can <font color='DodgerBlue'>write a Python script in Jupyter notebook</font> and save it to your hard drive."
   ]
  },
  {
   "cell_type": "markdown",
   "metadata": {},
   "source": [
    "<hr style=\"border:1.5px dashed gray\"></hr>\n",
    "\n",
    "### Sidenote: Jupyter Notebook <font color='DodgerBlue'>Magic Commands</font>\n",
    "\n",
    "https://ipython.readthedocs.io/en/stable/interactive/magics.html\n",
    "\n",
    "https://towardsdatascience.com/useful-ipython-magic-commands-245e6c024711\n",
    "\n",
    "1. line magic commands (`%`) - the input directly follows the `%`\n",
    "2. cell magic commands (`%%`) - the entire cell becomes the input\n",
    "\n",
    "- `%load` import code from a Python script (e.g. `%load filename.py`)\n",
    "\n",
    "- `%%writefile filename`: write the contents of a cell to a file\n",
    "\n",
    "- `%timeit` and `%%timeit`: code performance"
   ]
  },
  {
   "cell_type": "code",
   "execution_count": null,
   "metadata": {},
   "outputs": [],
   "source": [
    "%lsmagic"
   ]
  },
  {
   "cell_type": "markdown",
   "metadata": {},
   "source": [
    "Getting help is easy - just add a `?` to the end of the command:"
   ]
  },
  {
   "cell_type": "code",
   "execution_count": null,
   "metadata": {},
   "outputs": [],
   "source": [
    "%%writefile?"
   ]
  },
  {
   "cell_type": "markdown",
   "metadata": {},
   "source": [
    "<hr style=\"border:1.5px dashed gray\"></hr>"
   ]
  },
  {
   "cell_type": "markdown",
   "metadata": {},
   "source": [
    "#### Use a magic command to create a python script:"
   ]
  },
  {
   "cell_type": "code",
   "execution_count": null,
   "metadata": {},
   "outputs": [],
   "source": [
    "%%writefile 'assert_example.py'\n",
    "#!/usr/bin/env python\n",
    "\n",
    "'''\n",
    "An example of why using assert to test for expected conditions is bad.\n",
    "\n",
    "You can \"turn off\" asserts by typing \"python -O filename.py\" and thus\n",
    "    bypassing the check.\n",
    "\n",
    "Expectations when running the code in a bash terminal:\n",
    "python assert_example.py -> assert is read and prints out its error\n",
    "python -O assert_example.py -> assert is not read and the program runs\n",
    "'''\n",
    "\n",
    "def simple_print(number_1: float, number_2: float) -> float:\n",
    "\n",
    "    assert number_1 != None, \"Error: you did not provide a numerator\"\n",
    "    assert number_2 != None, \"Error: you did not provide a denominator\"\n",
    "    assert number_2 != 0, \"Number 2 can't be zero\"\n",
    "\n",
    "    print(number_1, number_2)\n",
    "\n",
    "simple_print(number_1=None, number_2=0.0)"
   ]
  },
  {
   "cell_type": "code",
   "execution_count": null,
   "metadata": {},
   "outputs": [],
   "source": [
    "%cat 'assert_example.py'"
   ]
  },
  {
   "cell_type": "markdown",
   "metadata": {},
   "source": [
    "**Note:** The following works when executed from a **local computer** that has the above python script saved to the working directory."
   ]
  },
  {
   "cell_type": "code",
   "execution_count": null,
   "metadata": {},
   "outputs": [],
   "source": [
    "%%bash\n",
    "\n",
    "python assert_example.py"
   ]
  },
  {
   "cell_type": "markdown",
   "metadata": {},
   "source": [
    "Including a **`-O`** will <font color='DodgerBlue'>**ignore all assert statements**</font>.\n",
    "\n",
    "Why do this?\n",
    "- Also sets the special builtin name `__debug__` to `False` (`True` by default)\n",
    "    - E.g.: `if __debug__ then:`\n",
    "- Useful while working/optimizing code.\n",
    "- Results is a very small performance boost."
   ]
  },
  {
   "cell_type": "code",
   "execution_count": null,
   "metadata": {},
   "outputs": [],
   "source": [
    "%%bash\n",
    "\n",
    "python3 -O assert_example.py"
   ]
  },
  {
   "cell_type": "code",
   "execution_count": null,
   "metadata": {},
   "outputs": [],
   "source": [
    "%rm assert_example.py"
   ]
  },
  {
   "cell_type": "markdown",
   "metadata": {},
   "source": [
    "#### Take-home message about `asserts` and in-my-opinion:\n",
    "\n",
    "- They help debug your code during its development.\n",
    "- They are not as robust as one thinks.\n",
    "- There are better ways to have internal checks."
   ]
  },
  {
   "cell_type": "markdown",
   "metadata": {},
   "source": [
    "<hr style=\"border:1.5px dashed gray\"></hr>\n",
    "\n",
    "## Sidenote: `TypeError` versus `ValueError`\n",
    "\n",
    "- `ValueError`: raised when an operation or function receives an argument that\n",
    "    1. has the **correct type**, but\n",
    "    2. an **inappropriate value**\n",
    "\n",
    "\n",
    "- `TypeError`: raised when passing arguments of the **wrong type** (e.g. passing a `list` when an `int` is expected)\n",
    "\n",
    "Best understood through the following example..."
   ]
  },
  {
   "cell_type": "code",
   "execution_count": null,
   "metadata": {},
   "outputs": [],
   "source": [
    "def attempt_float(number):\n",
    "    try:\n",
    "        return float(number)\n",
    "\n",
    "    except (TypeError):\n",
    "        print(f'Input ({number}) (type: {type(number)}) was not the right type (i.e TypeError).')\n",
    "\n",
    "    except (ValueError):\n",
    "        print(f'Input ({number}) (type: {type(number)}) was not a correct value (i.e. ValueError).')"
   ]
  },
  {
   "cell_type": "code",
   "execution_count": null,
   "metadata": {},
   "outputs": [],
   "source": [
    "attempt_float(0.1)"
   ]
  },
  {
   "cell_type": "markdown",
   "metadata": {},
   "source": [
    "The built-in float can also accept a string if it is a decimal:\n",
    "\"If the argument is a string, it should contain a decimal number...\" (https://docs.python.org/3/library/functions.html#float)"
   ]
  },
  {
   "cell_type": "code",
   "execution_count": null,
   "metadata": {},
   "outputs": [],
   "source": [
    "attempt_float('0.1')"
   ]
  },
  {
   "cell_type": "code",
   "execution_count": null,
   "metadata": {},
   "outputs": [],
   "source": [
    "## a ValueError (correct type, wrong value)\n",
    "attempt_float('something')"
   ]
  },
  {
   "cell_type": "code",
   "execution_count": null,
   "metadata": {},
   "outputs": [],
   "source": [
    "## a TypeError (wrong type)\n",
    "attempt_float([0.1, 0.2])"
   ]
  }
 ],
 "metadata": {
  "kernelspec": {
   "display_name": "Python 3 (ipykernel)",
   "language": "python",
   "name": "python3"
  },
  "language_info": {
   "codemirror_mode": {
    "name": "ipython",
    "version": 3
   },
   "file_extension": ".py",
   "mimetype": "text/x-python",
   "name": "python",
   "nbconvert_exporter": "python",
   "pygments_lexer": "ipython3",
   "version": "3.13.1"
  }
 },
 "nbformat": 4,
 "nbformat_minor": 4
}
