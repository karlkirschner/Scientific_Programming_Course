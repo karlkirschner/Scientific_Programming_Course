{
 "cells": [
  {
   "cell_type": "markdown",
   "metadata": {},
   "source": [
    "<div class=\"alert block alert-info alert\">\n",
    "\n",
    "# <center> Scientific Programming in Python\n",
    "## <center>Karl N. Kirschner<br>Bonn-Rhein-Sieg University of Applied Sciences<br>Sankt Augustin, Germany\n",
    "\n",
    "# <center> Rounding Numbers\n",
    "#### <center> (Reporting the correct number of significant figures.)</center>\n",
    "\n",
    "#### Sources\n",
    "1. https://docs.python.org/3/library/functions.html#round\n",
    "2. https://docs.python.org/3/library/decimal.html#decimal.Decimal\n",
    "3. https://realpython.com/python-rounding/#the-decimal-class\n",
    "4. https://docs.python.org/3/library/math.html\n",
    "5. https://docs.python.org/3/library/decimal.html\n",
    "6. https://numpy.org/doc/stable/reference/generated/numpy.around.html\n",
    "7. https://numpy.org/doc/stable/reference/generated/numpy.ceil.html\n",
    "8. https://numpy.org/doc/stable/reference/generated/numpy.floor.html\n",
    "9. https://docs.python.org/3.1/library/string.html#grammar-token-precision\n",
    "<hr style=\"border:2px solid gray\"></hr>"
   ]
  },
  {
   "cell_type": "code",
   "execution_count": 1,
   "metadata": {},
   "outputs": [
    {
     "data": {
      "text/html": [
       "<img src onerror=\"var cell = this.closest('.code_cell');var editor = cell.querySelector('.input_area');editor.style.background='#fcf8e3';this.parentNode.removeChild(this)\">"
      ],
      "text/plain": [
       "<IPython.core.display.HTML object>"
      ]
     },
     "metadata": {},
     "output_type": "display_data"
    }
   ],
   "source": [
    "## For extra information given within the lectures\n",
    "\n",
    "from IPython.display import HTML\n",
    "\n",
    "\n",
    "def set_code_background(color: str):\n",
    "    ''' Set the background color for code cells.\n",
    "\n",
    "        Source: psychemedia via https://stackoverflow.com/questions/49429585/\n",
    "                how-to-change-the-background-color-of-a-single-cell-in-a-jupyter-notebook-jupy\n",
    "\n",
    "        To match Jupyter's dev class colors:\n",
    "            \"alert alert-block alert-warning\" = #fcf8e3\n",
    "\n",
    "        Args:\n",
    "            color: HTML color, rgba, hex\n",
    "    '''\n",
    "\n",
    "    script = (\"var cell = this.closest('.code_cell');\"\n",
    "              \"var editor = cell.querySelector('.input_area');\"\n",
    "              f\"editor.style.background='{color}';\"\n",
    "              \"this.parentNode.removeChild(this)\")\n",
    "    display(HTML(f'<img src onerror=\"{script}\">'))\n",
    "\n",
    "\n",
    "set_code_background(color='#fcf8e3')"
   ]
  },
  {
   "cell_type": "markdown",
   "metadata": {},
   "source": [
    "#### <center> Don't Scroll Down Yet...</center>\n",
    "\n",
    "**Question**: How would you round -2.45 to the first decimal place?\n",
    "\n",
    "<!-- (Everyone type in their number in the \"Chat box.\") -->\n",
    "<br><br><b>\n",
    "<br><br><b>\n",
    "<br><br><b>\n",
    "\n",
    "<br><br><b>\n",
    "<br><br><b>\n",
    "<br><br><b>\n",
    "\n",
    "<br><br><b>\n",
    "<br><br><b>\n",
    "<br><br><b>\n",
    "\n",
    "<br><br><b>\n",
    "<br><br><b>\n",
    "<br><br><b>\n",
    "\n",
    "<br><br><b>\n",
    "<br><br><b>\n",
    "<br><br><b>\n",
    "\n",
    "<br><br><b>\n",
    "<br><br><b>\n",
    "<br><br><b>\n",
    "\n",
    "<br><br><b>\n",
    "<br><br><b>\n",
    "<br><br><b>"
   ]
  },
  {
   "cell_type": "markdown",
   "metadata": {},
   "source": [
    "<hr style=\"border:2px solid gray\"></hr>\n",
    "\n",
    "## Conceptual ideas\n",
    "\n",
    "- Critical thinking is needed when rounding numbers whose last digit is a <font color='dodgerblue'>**5**</font> since it lies in the middle of the basic number series <br> (i.e. **<font color='Brown'>0, 1, 2, 3, 4</font> -- <font color='dodgerblue'>5</font> -- <font color='Brown'>6, 7, 8, 9, 10</font>**). <br><br> So...should it be associated with the smaller or larger numbers?\n",
    "\n",
    "\n",
    "- The act of rounding can introduce a bias into your numbers (e.g. when working with a large data set).\n",
    "\n",
    "Consider 11 numbers that range from 0.5 -- 10.5 in 1.0 increments\n",
    "- **round them** to the one's place (**manually** - by hand), and\n",
    "- then take their **mean**.\n",
    "    \n",
    "We will use that statistics library since it allows us to compute the mean."
   ]
  },
  {
   "cell_type": "code",
   "execution_count": 2,
   "metadata": {},
   "outputs": [],
   "source": [
    "import statistics"
   ]
  },
  {
   "cell_type": "code",
   "execution_count": 3,
   "metadata": {},
   "outputs": [
    {
     "name": "stdout",
     "output_type": "stream",
     "text": [
      "Unrounded Numbers: [0.5, 1.5, 2.5, 3.5, 4.5, 5.5, 6.5, 7.5, 8.5, 9.5, 10.5]\n",
      "Average: 5.5\n"
     ]
    }
   ],
   "source": [
    "input_numbers = [number+0.5 for number in range(0, 11, 1)]\n",
    "\n",
    "print(f'Unrounded Numbers: {input_numbers}')\n",
    "print(f'Average: {statistics.mean(input_numbers)}')"
   ]
  },
  {
   "cell_type": "markdown",
   "metadata": {},
   "source": [
    "Rounding the number up (manually):"
   ]
  },
  {
   "cell_type": "code",
   "execution_count": 4,
   "metadata": {},
   "outputs": [
    {
     "name": "stdout",
     "output_type": "stream",
     "text": [
      "Rounded Up Numbers: [1, 2, 3, 4, 5, 6, 7, 8, 9, 10, 11]\n",
      "Mean: 6\n"
     ]
    }
   ],
   "source": [
    "round_up = [number for number in range(1, 12, 1)]\n",
    "\n",
    "print(f'Rounded Up Numbers: {round_up}')\n",
    "print(f'Mean: {statistics.mean(round_up)}')"
   ]
  },
  {
   "cell_type": "markdown",
   "metadata": {},
   "source": [
    "Rounding the number down (manually):"
   ]
  },
  {
   "cell_type": "code",
   "execution_count": 5,
   "metadata": {},
   "outputs": [
    {
     "name": "stdout",
     "output_type": "stream",
     "text": [
      "Rounded Down Numbers: [0, 1, 2, 3, 4, 5, 6, 7, 8, 9, 10]\n",
      "Mean: 5\n"
     ]
    }
   ],
   "source": [
    "round_down = [number for number in range(0, 11, 1)]\n",
    "\n",
    "print(f'Rounded Down Numbers: {round_down}')\n",
    "print(f'Mean: {statistics.mean(round_down)}')"
   ]
  },
  {
   "cell_type": "markdown",
   "metadata": {},
   "source": [
    "Thus, we observe that:\n",
    "1. Rouding Up leads to a **mean of 6**, while\n",
    "2. Rounding Down leads to a **mean of 5**.\n",
    "\n",
    "<font color='dodgerblue'>**Therefore, the approach that we use to round numbers may result in a bias.**</font>"
   ]
  },
  {
   "cell_type": "markdown",
   "metadata": {},
   "source": [
    "<hr style=\"border:2px solid gray\"></hr>\n",
    "\n",
    "## Conceptual approaches for rounding numbers\n",
    "\n",
    "### 1. Bias methods\n",
    "\n",
    "<font color='dodgerblue'>**Round Half Up**</font> (i.e. bias towards **more positive**)\n",
    "1.  7.6 $\\rightarrow$ 8\n",
    "2. **7.5 $\\rightarrow$ 8**\n",
    "3. 7.4 $\\rightarrow$ 7\n",
    "<br><br>\n",
    "4. -7.6 $\\rightarrow$ -8\n",
    "5. **-7.5 $\\rightarrow$ -7**\n",
    "6. -7.4 $\\rightarrow$ -7\n",
    "\n",
    "<font color='dodgerblue'>**Round Half Down**</font> (i.e. bias towards **more negative**)\n",
    "1.  7.5 $\\rightarrow$  7\n",
    "2. -7.5 $\\rightarrow$ -8\n",
    "\n",
    "<font color='dodgerblue'>**Round Half To Zero**</font> (i.e. bias towards **zero**)\n",
    "1.  7.5 $\\rightarrow$  7\n",
    "2. -7.5 $\\rightarrow$ -7\n",
    "\n",
    "<font color='dodgerblue'>**Round Half Away from Zero**</font> (i.e. bias towards **$\\pm \\infty$**)\n",
    "1. 7.5 $\\rightarrow$  8\n",
    "2. -7.5 $\\rightarrow$ -8\n",
    "\n",
    "Additional information:\n",
    "\n",
    "https://en.wikipedia.org/wiki/Rounding"
   ]
  },
  {
   "cell_type": "markdown",
   "metadata": {},
   "source": [
    "### 2. Unbias methods (i.e. free from positive/negative bias and bias toward/away from zero)\n",
    "\n",
    "<font color='dodgerblue'>**Round Half To Even**</font> (i.e. zero is considered evenly distributed)\n",
    "1.  7.5 $\\rightarrow$  8\n",
    "2.  8.5 $\\rightarrow$  8\n",
    "<br><br>\n",
    "3. -7.5 $\\rightarrow$ -8\n",
    "4. -8.5 $\\rightarrow$ -8\n",
    "\n",
    "\n",
    "<font color='dodgerblue'>**Round Half To Odd**</font> (i.e. zero is considered evenly distributed)\n",
    "1.  7.5 $\\rightarrow$  7\n",
    "2.  8.5 $\\rightarrow$  9\n",
    "<br><br>\n",
    "3. -7.5 $\\rightarrow$ -7\n",
    "4. -8.5 $\\rightarrow$ -9\n",
    "\n",
    "#### Visual clarification of bias and unbias methods"
   ]
  },
  {
   "cell_type": "markdown",
   "metadata": {},
   "source": [
    "![rounding](00_images/rounding_bias.png)"
   ]
  },
  {
   "cell_type": "markdown",
   "metadata": {},
   "source": [
    "<hr style=\"border:2px solid gray\"></hr>\n",
    "\n",
    "## Different approaches within Python"
   ]
  },
  {
   "cell_type": "markdown",
   "metadata": {},
   "source": [
    "### 1. Python's built-in function `round`\n",
    "\n",
    "- https://docs.python.org/3/library/functions.html#round\n",
    "\n",
    "Using the numbers that are exemplified in the above figure:"
   ]
  },
  {
   "cell_type": "code",
   "execution_count": 6,
   "metadata": {},
   "outputs": [
    {
     "name": "stdout",
     "output_type": "stream",
     "text": [
      "The number -4.5 rounds to -4.\n",
      "The number -3.5 rounds to -4.\n",
      "The number -0.5 rounds to 0.\n",
      "The number 0.5 rounds to 0.\n",
      "The number 3.5 rounds to 4.\n",
      "The number 4.5 rounds to 4.\n"
     ]
    }
   ],
   "source": [
    "example_numbers = [-4.5, -3.5, -0.5, 0.5, 3.5, 4.5]\n",
    "\n",
    "for number in example_numbers:\n",
    "    number_rounded = round(number)\n",
    "\n",
    "    print(f'The number {number} rounds to {number_rounded}.')"
   ]
  },
  {
   "cell_type": "markdown",
   "metadata": {},
   "source": [
    "**Thus**, Python3's built-in **`round`** function uses <font color='dodgerblue'>**Round Half To Even**</font> to the ones place (by default).\n",
    "- From the doc's page: \"... rounding is done toward the even choice ...\"\n",
    "<br><br>\n",
    "\n",
    "\n",
    "What happens if we push it slightly over 4.5?"
   ]
  },
  {
   "cell_type": "code",
   "execution_count": 7,
   "metadata": {},
   "outputs": [
    {
     "name": "stdout",
     "output_type": "stream",
     "text": [
      "5\n"
     ]
    }
   ],
   "source": [
    "print(round(4.51))"
   ]
  },
  {
   "cell_type": "markdown",
   "metadata": {},
   "source": [
    "So, the behavior is has it should be:  since the value is a **little greater** than four-and-a-half, it should **round up**."
   ]
  },
  {
   "cell_type": "markdown",
   "metadata": {},
   "source": [
    "**Notice** how `round` simply returns the integer value of the float above.\n",
    "\n",
    "Alternatively, one can specify the number of **decimal places** using **`round(number[, ndigits])`**.\n",
    "- However, this does odd things to the number of digits that are returned (i.e. significant figures).\n",
    "\n",
    "Let's round a list of floats to the second decimal place (i.e. to have 1 sigfig):"
   ]
  },
  {
   "cell_type": "code",
   "execution_count": 8,
   "metadata": {},
   "outputs": [
    {
     "name": "stdout",
     "output_type": "stream",
     "text": [
      "When rounded to 2 decimals, the number -0.055 rounds to: -0.06\n",
      "When rounded to 2 decimals, the number 0.055 rounds to: 0.06\n"
     ]
    }
   ],
   "source": [
    "numbers_demo_expected = [-0.055, 0.055]\n",
    "\n",
    "for number in numbers_demo_expected:\n",
    "    number_rounded = round(number, 2)\n",
    "    \n",
    "    print(f'When rounded to 2 decimals, the number {number} rounds to: {number_rounded}')"
   ]
  },
  {
   "cell_type": "markdown",
   "metadata": {},
   "source": [
    "The results are as expected."
   ]
  },
  {
   "cell_type": "code",
   "execution_count": 9,
   "metadata": {},
   "outputs": [
    {
     "name": "stdout",
     "output_type": "stream",
     "text": [
      "When rounded to 2 decimals, the number 10 rounds to: 10\n",
      "When rounded to 2 decimals, the number 5.5e-11 rounds to: 0.0\n"
     ]
    }
   ],
   "source": [
    "numbers_demo_questionable = [10, 0.055E-9]\n",
    "\n",
    "for number in numbers_demo_questionable:\n",
    "    number_rounded = round(number, 2)\n",
    "    \n",
    "    print(f'When rounded to 2 decimals, the number {number} rounds to: {number_rounded}')"
   ]
  },
  {
   "cell_type": "markdown",
   "metadata": {},
   "source": [
    "Notice two things:\n",
    "\n",
    "1. **10**, which as no decimals initially -- and thus a uncertain number of significant figures -- stays as 10 (which is good)\n",
    "\n",
    "2. The function `round` returned **0.0** for **0.055E-9**\n",
    "    - the scientifically correct answer is <font color='dodgerblue'>**0.06E-9**</font> (or 0.6E-10 or 6.E-11, depending on the numbering format convention)\n",
    "    - which means we <font color='dodgerblue'>**lost**</font> some data information"
   ]
  },
  {
   "cell_type": "markdown",
   "metadata": {},
   "source": [
    "**Furthermore**, notice the following weird result when we round 2.675 to two decimal places."
   ]
  },
  {
   "cell_type": "code",
   "execution_count": 10,
   "metadata": {},
   "outputs": [
    {
     "name": "stdout",
     "output_type": "stream",
     "text": [
      "2.67\n"
     ]
    }
   ],
   "source": [
    "print( round(2.675, 2) )"
   ]
  },
  {
   "cell_type": "markdown",
   "metadata": {},
   "source": [
    "The `round(2.675, 2)` should result in **2.68** (i.e. rounding up). Instead we obtained **2.67**!\n",
    "<br><br>\n",
    "\n",
    "Two more examples of weirdness that helps us understand what is happening:"
   ]
  },
  {
   "cell_type": "code",
   "execution_count": 11,
   "metadata": {},
   "outputs": [
    {
     "data": {
      "text/plain": [
       "0.30000000000000004"
      ]
     },
     "execution_count": 11,
     "metadata": {},
     "output_type": "execute_result"
    }
   ],
   "source": [
    "0.1 + 0.1 + 0.1"
   ]
  },
  {
   "cell_type": "markdown",
   "metadata": {},
   "source": [
    "In the following, we are adding numbers that should result in zero (i.e., 0.0):"
   ]
  },
  {
   "cell_type": "code",
   "execution_count": 12,
   "metadata": {},
   "outputs": [
    {
     "data": {
      "text/plain": [
       "5.551115123125783e-17"
      ]
     },
     "execution_count": 12,
     "metadata": {},
     "output_type": "execute_result"
    }
   ],
   "source": [
    "(0.1 + 0.1 + 0.1) - 0.3"
   ]
  },
  {
   "cell_type": "markdown",
   "metadata": {},
   "source": [
    "Why?\n",
    "\n",
    "Reason: <font color='dodgerblue'>**floating-point representation error**</font> (https://docs.python.org/3/tutorial/floatingpoint.html)\n",
    "\n",
    "This is not a Python issue, but has to do with how computers store floating-point numbers in memory.\n",
    "\n",
    "**Take-home message:**\n",
    "\n",
    "- From a perspective of being exact and correct, this is something that one needs to be aware of -- particularly when significant figures are important -- when developing code for scientific usage."
   ]
  },
  {
   "cell_type": "markdown",
   "metadata": {},
   "source": [
    "<hr style=\"border:2px solid gray\"></hr>\n",
    "\n",
    "### 2. Python's math library (with examples)\n",
    "\n",
    "- https://docs.python.org/3/library/math.html\n",
    "\n",
    "- `math.ceil` (ceiling): **Round Up**\n",
    "- `math.floor`: **Round Down**\n",
    "\n",
    "Both functions return only an **integer** value."
   ]
  },
  {
   "cell_type": "code",
   "execution_count": 13,
   "metadata": {},
   "outputs": [],
   "source": [
    "import math\n",
    "\n",
    "example_numbers = [-4.5, -3.5, -0.5, 0.5, 3.5, 4.5]"
   ]
  },
  {
   "cell_type": "code",
   "execution_count": 14,
   "metadata": {},
   "outputs": [
    {
     "name": "stdout",
     "output_type": "stream",
     "text": [
      "The number -4.5 rounds to -4.\n",
      "The number -3.5 rounds to -3.\n",
      "The number -0.5 rounds to 0.\n",
      "The number 0.5 rounds to 1.\n",
      "The number 3.5 rounds to 4.\n",
      "The number 4.5 rounds to 5.\n"
     ]
    }
   ],
   "source": [
    "for number in example_numbers:\n",
    "    number_rounded = math.ceil(number)\n",
    "\n",
    "    print(f'The number {number} rounds to {number_rounded}.')"
   ]
  },
  {
   "cell_type": "markdown",
   "metadata": {},
   "source": [
    "`math.ceil` rounds all numbers to more <font color='dodgerblue'>positive</font> values."
   ]
  },
  {
   "cell_type": "code",
   "execution_count": 15,
   "metadata": {},
   "outputs": [
    {
     "name": "stdout",
     "output_type": "stream",
     "text": [
      "The number -4.5 rounds to -5.\n",
      "The number -3.5 rounds to -4.\n",
      "The number -0.5 rounds to -1.\n",
      "The number 0.5 rounds to 0.\n",
      "The number 3.5 rounds to 3.\n",
      "The number 4.5 rounds to 4.\n"
     ]
    }
   ],
   "source": [
    "for number in example_numbers:\n",
    "    number_rounded = math.floor(number)\n",
    "\n",
    "    print(f'The number {number} rounds to {number_rounded}.')"
   ]
  },
  {
   "cell_type": "markdown",
   "metadata": {},
   "source": [
    "`math.floor` rounds all numbers to more <font color='dodgerblue'>negative</font> values."
   ]
  },
  {
   "cell_type": "markdown",
   "metadata": {},
   "source": [
    "<hr style=\"border:2px solid gray\"></hr>\n",
    "\n",
    "### 3. The decimal library\n",
    "- https://docs.python.org/3/library/decimal.html\n",
    "    - \"The decimal module provides support for fast correctly-**rounded decimal floating point arithmetic**.\"\n",
    "    - Can be passed a number that is either a float (e.g. `3.14`, or a string (e.g. `'3.14'`)\n",
    "        - The <font color='dodgerblue'>string approach</font> allows us to correct for the <font color='dodgerblue'>floating-point representation error</font>\n",
    "    - Rounding is done with `decimal.Decimal.quantize`\n",
    "    - Returns a `decimal.Decimal` object\n",
    "\n",
    "Rounding options:\n",
    "1. ROUND_CEILING $\\rightarrow$ Round towards positive infinity\n",
    "2. ROUND_FLOOR $\\rightarrow$ Round towards negative infinity \n",
    "3. ROUND_DOWN $\\rightarrow$ Round towards zero\n",
    "4. ROUND_UP $\\rightarrow$ Rounding away from zero\n",
    "5. ROUND_HALF_UP $\\rightarrow$ Rounding half away from zero\n",
    "6. ROUND_HALF_DOWN $\\rightarrow$ Rounding half towards zero\n",
    "7. ROUND_HALF_EVEN (<font color='dodgerblue'>default</font>) $\\rightarrow$ Rounding half to even\n",
    "8. ROUND_05UP $\\rightarrow$ Rounding towards zero, unless the last digit is 0 or 5 then round away from zero\n",
    "\n",
    "Notice that the <font color='dodgerblue'>default</font> rounding method is **ROUND_HALF_EVEN**."
   ]
  },
  {
   "cell_type": "code",
   "execution_count": 16,
   "metadata": {
    "scrolled": true
   },
   "outputs": [],
   "source": [
    "import decimal\n",
    "from decimal import Decimal"
   ]
  },
  {
   "cell_type": "markdown",
   "metadata": {},
   "source": [
    "Let's first consider how `decimal.Decimal` handles\n",
    "- **floats** and\n",
    "- **strings**"
   ]
  },
  {
   "cell_type": "code",
   "execution_count": 17,
   "metadata": {},
   "outputs": [
    {
     "data": {
      "text/plain": [
       "Decimal('3.140000000000000124344978758017532527446746826171875')"
      ]
     },
     "execution_count": 17,
     "metadata": {},
     "output_type": "execute_result"
    }
   ],
   "source": [
    "Decimal(3.14)"
   ]
  },
  {
   "cell_type": "code",
   "execution_count": 18,
   "metadata": {},
   "outputs": [
    {
     "data": {
      "text/plain": [
       "Decimal('3.14')"
      ]
     },
     "execution_count": 18,
     "metadata": {},
     "output_type": "execute_result"
    }
   ],
   "source": [
    "Decimal('3.14')"
   ]
  },
  {
   "cell_type": "code",
   "execution_count": 19,
   "metadata": {},
   "outputs": [
    {
     "data": {
      "text/plain": [
       "decimal.Decimal"
      ]
     },
     "execution_count": 19,
     "metadata": {},
     "output_type": "execute_result"
    }
   ],
   "source": [
    "type(Decimal('3.14'))"
   ]
  },
  {
   "cell_type": "markdown",
   "metadata": {},
   "source": [
    "Now let's look at what happens if we do some mathematics (i.e. add the number to itself).\n",
    "\n",
    "We should get:\n",
    "\n",
    "3.14 + 3.14 = 6.28"
   ]
  },
  {
   "cell_type": "code",
   "execution_count": 20,
   "metadata": {
    "scrolled": true
   },
   "outputs": [
    {
     "data": {
      "text/plain": [
       "Decimal('6.280000000000000248689957516')"
      ]
     },
     "execution_count": 20,
     "metadata": {},
     "output_type": "execute_result"
    }
   ],
   "source": [
    "Decimal(3.14) + Decimal(3.14)"
   ]
  },
  {
   "cell_type": "code",
   "execution_count": 21,
   "metadata": {
    "scrolled": true
   },
   "outputs": [
    {
     "data": {
      "text/plain": [
       "Decimal('6.28')"
      ]
     },
     "execution_count": 21,
     "metadata": {},
     "output_type": "execute_result"
    }
   ],
   "source": [
    "Decimal('3.14') + Decimal('3.14')"
   ]
  },
  {
   "cell_type": "markdown",
   "metadata": {},
   "source": [
    "Therefore, using the **string input** approach with **`decimal.Decimal`** <font color='dodgerblue'>**corrects**</font> the <font color='dodgerblue'>**floating-point representation error**</font>."
   ]
  },
  {
   "cell_type": "markdown",
   "metadata": {},
   "source": [
    "#### Rounding with decimals library\n",
    "\n",
    "- rounging done using ```quantized```:\n",
    "    - ```Decimal(value=\"0\", context=None).quantize(exp, rounding=None, context=None)```\n",
    "\n",
    "\n",
    "- Decimal().quantize('0') $\\rightarrow$ ones place (e.g. 7)\n",
    "- Decimal().quantize('0.0') $\\rightarrow$ ones and first decimal place (e.g. 7.1)\n",
    "- Decimal().quantize('0.00') $\\rightarrow$ ones and first decimal place (e.g. 7.11)"
   ]
  },
  {
   "cell_type": "code",
   "execution_count": 22,
   "metadata": {},
   "outputs": [],
   "source": [
    "# help(decimal.Decimal.quantize)"
   ]
  },
  {
   "cell_type": "markdown",
   "metadata": {},
   "source": [
    "In our first example, let do the following:\n",
    "1. round to the one's place (i.e. `quantize(Decimal('0.')`), and\n",
    "2. pass the number as a **string** (via `f'{number}'`).\n",
    "\n",
    "The default setting is **ROUND_HALF_EVEN**."
   ]
  },
  {
   "cell_type": "code",
   "execution_count": 23,
   "metadata": {},
   "outputs": [
    {
     "name": "stdout",
     "output_type": "stream",
     "text": [
      "The number -4.5 rounds to: -4\n",
      "The number -3.5 rounds to: -4\n",
      "The number -0.5 rounds to: -0\n",
      "The number 0.5 rounds to: 0\n",
      "The number 3.5 rounds to: 4\n",
      "The number 4.5 rounds to: 4\n"
     ]
    }
   ],
   "source": [
    "example_numbers = [-4.5, -3.5, -0.5, 0.5, 3.5, 4.5]\n",
    "\n",
    "for number in example_numbers:\n",
    "    number_rounded = Decimal(f'{number}').quantize(Decimal('0.'))\n",
    "\n",
    "    print(f'The number {number} rounds to: {number_rounded}')"
   ]
  },
  {
   "cell_type": "markdown",
   "metadata": {},
   "source": [
    "Let's be more exact by specifying the rounding directly, and not \"hide\" what is being done.\n",
    "\n",
    "Notice that the **code below** allows one a <font color='dodgerblue'>quicker understanding</font> of what is happening in comparison to the above code (assuming that you see this code for the first time). You are saving the effort and time of future code readers $\\rightarrow$ more **transparent**."
   ]
  },
  {
   "cell_type": "code",
   "execution_count": 24,
   "metadata": {},
   "outputs": [
    {
     "name": "stdout",
     "output_type": "stream",
     "text": [
      "The number -4.5 rounds to: -4\n",
      "The number -3.5 rounds to: -4\n",
      "The number -0.5 rounds to: -0\n",
      "The number 0.5 rounds to: 0\n",
      "The number 3.5 rounds to: 4\n",
      "The number 4.5 rounds to: 4\n"
     ]
    }
   ],
   "source": [
    "example_numbers = [-4.5, -3.5, -0.5, 0.5, 3.5, 4.5]\n",
    "\n",
    "for number in example_numbers:\n",
    "    number_rounded = Decimal(value=f'{number}').quantize(Decimal(value='0.'), rounding='ROUND_HALF_EVEN')\n",
    "\n",
    "    print(f'The number {number} rounds to: {number_rounded}')"
   ]
  },
  {
   "cell_type": "markdown",
   "metadata": {},
   "source": [
    "Now **change** the **number of decimal places** to return.\n",
    "\n",
    "1 decimal place (i.e. `Decimal(value='0.0'`):"
   ]
  },
  {
   "cell_type": "code",
   "execution_count": 25,
   "metadata": {},
   "outputs": [
    {
     "name": "stdout",
     "output_type": "stream",
     "text": [
      "The number -4.55 rounds to: -4.6\n",
      "The number -4.65 rounds to: -4.6\n",
      "The number 4.55 rounds to: 4.6\n",
      "The number 4.65 rounds to: 4.6\n"
     ]
    }
   ],
   "source": [
    "example_demo = [-4.55, -4.65, 4.55, 4.65]\n",
    "\n",
    "for number in example_demo:\n",
    "    number_rounded = Decimal(value=f'{number}').quantize(Decimal(value='0.0'), rounding='ROUND_HALF_EVEN')\n",
    "\n",
    "    print(f'The number {number} rounds to: {number_rounded}')"
   ]
  },
  {
   "cell_type": "markdown",
   "metadata": {},
   "source": [
    "Now let's change our rounding method to **rounding half up** (i.e. <font color='dodgerblue'>rounding half away from zero</font>)."
   ]
  },
  {
   "cell_type": "code",
   "execution_count": 26,
   "metadata": {},
   "outputs": [
    {
     "name": "stdout",
     "output_type": "stream",
     "text": [
      "The number -4.5 rounds to: -5\n",
      "The number -3.5 rounds to: -4\n",
      "The number -0.5 rounds to: -1\n",
      "The number 0.5 rounds to: 1\n",
      "The number 3.5 rounds to: 4\n",
      "The number 4.5 rounds to: 5\n"
     ]
    }
   ],
   "source": [
    "example_numbers = [-4.5, -3.5, -0.5, 0.5, 3.5, 4.5]\n",
    "\n",
    "for number in example_numbers:\n",
    "    number_rounded = Decimal(value=f'{number}').quantize(Decimal(value='0.'), rounding='ROUND_HALF_UP')\n",
    "\n",
    "    print(f'The number {number} rounds to: {number_rounded}')"
   ]
  },
  {
   "cell_type": "markdown",
   "metadata": {},
   "source": [
    "**Side note**: earlier we saw that `round(2.675, 2)` resulted in **2.67**, not the correct value of **2.68**. Let's see what `Decimal.quantize` does:"
   ]
  },
  {
   "cell_type": "code",
   "execution_count": 27,
   "metadata": {},
   "outputs": [
    {
     "data": {
      "text/plain": [
       "2.67"
      ]
     },
     "execution_count": 27,
     "metadata": {},
     "output_type": "execute_result"
    }
   ],
   "source": [
    "round(2.675, 2)"
   ]
  },
  {
   "cell_type": "code",
   "execution_count": 28,
   "metadata": {},
   "outputs": [
    {
     "data": {
      "text/plain": [
       "Decimal('2.68')"
      ]
     },
     "execution_count": 28,
     "metadata": {},
     "output_type": "execute_result"
    }
   ],
   "source": [
    "Decimal(value=\"2.675\").quantize(Decimal(value=\"0.00\"), rounding='ROUND_HALF_UP')"
   ]
  },
  {
   "cell_type": "markdown",
   "metadata": {},
   "source": [
    "Therefore, the exact answer is now obtained (i.e. without the influence of floating point representation error).\n",
    "\n",
    "<!-- #### Precision\n",
    "\n",
    "Let now change the default **precision**. Precision here seem to be how many **digits** (i.e. not decimal places) are **available** for a number (default value is 28). **Note** that a number doesn't need to use as 28 digits, but they are there if needed.\n",
    "\n",
    "Decimal('11') / Decimal('7')\n",
    "\n",
    "Let's verify the precision by computing how characters the number has, which includes the decimal point:\n",
    "\n",
    "len(str(Decimal('11') / Decimal('7')))\n",
    "\n",
    "decimal.getcontext().prec=3\n",
    "Decimal('11') / Decimal('7')\n",
    "\n",
    "**Be careful**: This doesn't always alter the default settings of decimal. On my installed Jupyter-notebook (bug?), the default decimals revert back to 28. However, on Colaboratory the above command does alter the default settings.\n",
    "\n",
    "Decimal('11') / Decimal('7')\n",
    "\n",
    "decimal.getcontext()\n",
    "\n",
    "-->"
   ]
  },
  {
   "cell_type": "markdown",
   "metadata": {},
   "source": [
    "<hr style=\"border:2px solid gray\"></hr>\n",
    "\n",
    "### 4. Rounding (maybe) by formating print statements containing floats\n",
    "\n",
    "https://docs.python.org/3.1/library/string.html#grammar-token-precision\n",
    "\n",
    "\n",
    "- `g`: General format\n",
    "    - fixed point or exponential, depending on the number's magnitude"
   ]
  },
  {
   "cell_type": "code",
   "execution_count": 33,
   "metadata": {},
   "outputs": [
    {
     "name": "stdout",
     "output_type": "stream",
     "text": [
      "3.45, 3.55001, 3e+11\n"
     ]
    }
   ],
   "source": [
    "print(f'{3.4500045:g}, {3.5500055:g}, {300000000005:g}')"
   ]
  },
  {
   "cell_type": "markdown",
   "metadata": {},
   "source": [
    "- **`f`**: Fixed point\n",
    "    - unclear rounding"
   ]
  },
  {
   "cell_type": "code",
   "execution_count": 34,
   "metadata": {},
   "outputs": [],
   "source": [
    "demo_numbers = [3.44, 3.56, -3.44, -3.56, 300000000005.44]"
   ]
  },
  {
   "cell_type": "code",
   "execution_count": 35,
   "metadata": {},
   "outputs": [
    {
     "name": "stdout",
     "output_type": "stream",
     "text": [
      "3.4\n",
      "3.6\n",
      "-3.4\n",
      "-3.6\n",
      "300000000005.4\n"
     ]
    }
   ],
   "source": [
    "for number in demo_numbers:\n",
    "    print(f'{number:0.1f}')"
   ]
  },
  {
   "cell_type": "markdown",
   "metadata": {},
   "source": [
    "What happens if we change `1f` to `3f`?"
   ]
  },
  {
   "cell_type": "code",
   "execution_count": 36,
   "metadata": {},
   "outputs": [
    {
     "name": "stdout",
     "output_type": "stream",
     "text": [
      "3.440\n",
      "3.560\n",
      "-3.440\n",
      "-3.560\n",
      "300000000005.440\n"
     ]
    }
   ],
   "source": [
    "for number in demo_numbers:\n",
    "    print(f'{number:0.3f}')"
   ]
  },
  {
   "cell_type": "markdown",
   "metadata": {},
   "source": [
    "Considering significant figures, we are **introducing new information** when it was originally **not present**.\n",
    "\n",
    "<br><br>\n",
    "\n",
    "Let's see if we can figure out what rules fixed point formatting is doing:"
   ]
  },
  {
   "cell_type": "code",
   "execution_count": 37,
   "metadata": {},
   "outputs": [
    {
     "name": "stdout",
     "output_type": "stream",
     "text": [
      "The number -4.5 rounds to -4.\n",
      "The number -3.5 rounds to -4.\n",
      "The number -0.5 rounds to -0.\n",
      "The number 0.5 rounds to 0.\n",
      "The number 3.5 rounds to 4.\n",
      "The number 4.5 rounds to 4.\n"
     ]
    }
   ],
   "source": [
    "example_numbers = [-4.5, -3.5, -0.5, 0.5, 3.5, 4.5]\n",
    "\n",
    "for number in example_numbers:\n",
    "    print(f'The number {number} rounds to {number:0.0f}.')"
   ]
  },
  {
   "cell_type": "markdown",
   "metadata": {},
   "source": [
    "Seems to be **round to even**.\n",
    "\n",
    "However, consider the following:"
   ]
  },
  {
   "cell_type": "code",
   "execution_count": 38,
   "metadata": {},
   "outputs": [
    {
     "name": "stdout",
     "output_type": "stream",
     "text": [
      "The number -4.55 rounds to: -4.5\n",
      "The number -4.65 rounds to: -4.7\n",
      "The number -0.05 rounds to: -0.1\n",
      "The number 0.05 rounds to: 0.1\n",
      "The number 4.55 rounds to: 4.5\n",
      "The number 4.65 rounds to: 4.7\n"
     ]
    }
   ],
   "source": [
    "example_demo = [-4.55, -4.65, -0.05, 0.05, 4.55, 4.65]\n",
    "\n",
    "for number in example_demo:\n",
    "    print(f'The number {number} rounds to: {number:0.1f}')"
   ]
  },
  {
   "cell_type": "markdown",
   "metadata": {},
   "source": [
    "Now the behavior of formatting stings is **round to odd**. Weird."
   ]
  },
  {
   "cell_type": "markdown",
   "metadata": {},
   "source": [
    "- **`e`**: Exponent notation\n",
    "    - rounding to odd number"
   ]
  },
  {
   "cell_type": "code",
   "execution_count": 39,
   "metadata": {},
   "outputs": [
    {
     "name": "stdout",
     "output_type": "stream",
     "text": [
      "3.5e+00, 3.5e+00, 3.6e+11\n"
     ]
    }
   ],
   "source": [
    "print(f'{3.45:0.1e}, {3.55:0.1e}, {355000000000:0.1e}')"
   ]
  },
  {
   "cell_type": "markdown",
   "metadata": {},
   "source": [
    "However, I'm not sure why 355000000000 $\\rightarrow$ 3.6e+11 (i.e., **round to even**) and not 3.5e+11 (i.e., **round to odd**)"
   ]
  },
  {
   "cell_type": "code",
   "execution_count": 40,
   "metadata": {},
   "outputs": [
    {
     "name": "stdout",
     "output_type": "stream",
     "text": [
      "The number -4.55 rounds to: -4.5e+00\n",
      "The number -4.65 rounds to: -4.7e+00\n",
      "The number -0.05 rounds to: -5.0e-02\n",
      "The number 0.05 rounds to: 5.0e-02\n",
      "The number 4.55 rounds to: 4.5e+00\n",
      "The number 4.65 rounds to: 4.7e+00\n"
     ]
    }
   ],
   "source": [
    "example_demo = [-4.55, -4.65, -0.05, 0.05, 4.55, 4.65]\n",
    "\n",
    "for number in example_demo:\n",
    "    print(f'The number {number} rounds to: {number:0.1e}')"
   ]
  },
  {
   "cell_type": "markdown",
   "metadata": {},
   "source": [
    "Notice how **0.05** $\\rightarrow$ **5.0e-02** (i.e. a **gain of 1 significant figure**).\n",
    "\n",
    "Even worse number reporting is in the examples below:\n",
    "1. 1.55$\\rightarrow$ okay, doesn't change\n",
    "\n",
    "2. 15 $\\rightarrow$ 15.00 (i.e. a gain of significant figures)\n",
    "\n",
    "3. 1.555e-9 $\\rightarrow$ 0.00 (ie. a loss of significant figures)"
   ]
  },
  {
   "cell_type": "code",
   "execution_count": 41,
   "metadata": {},
   "outputs": [
    {
     "name": "stdout",
     "output_type": "stream",
     "text": [
      "When rounded to 2 decimals, the number 1.55 rounds to: 1.55\n",
      "When rounded to 2 decimals, the number 15 rounds to: 15.00\n",
      "When rounded to 2 decimals, the number 1.555e-09 rounds to: 0.00\n"
     ]
    }
   ],
   "source": [
    "number_list = [1.55, 15, 1.555E-9]\n",
    "\n",
    "for number in number_list:\n",
    "    print(f'When rounded to 2 decimals, the number {number} rounds to: {number:0.2f}')"
   ]
  },
  {
   "cell_type": "markdown",
   "metadata": {},
   "source": [
    "Let's revisit what happens with **`g`**:"
   ]
  },
  {
   "cell_type": "code",
   "execution_count": 42,
   "metadata": {},
   "outputs": [
    {
     "name": "stdout",
     "output_type": "stream",
     "text": [
      "When using general formating, the number 1.55 rounds to: 1.6\n",
      "When using general formating, the number 15 rounds to: 15\n",
      "When using general formating, the number 1.555e-09 rounds to: 1.6e-09\n"
     ]
    }
   ],
   "source": [
    "for number in number_list:\n",
    "    print(f'When using general formating, the number {number} rounds to: {number:0.2g}')"
   ]
  },
  {
   "cell_type": "markdown",
   "metadata": {},
   "source": [
    "1. 1.55$\\rightarrow$ okay, rounds up to first decimal place\n",
    "\n",
    "2. 15 $\\rightarrow$ 15 okay, leaves it the same (i.e., no no information)\n",
    "\n",
    "3. 1.555e-9 $\\rightarrow$ 1.6e-09 okay, rounds up to first decimal place\n",
    "\n",
    "\n",
    "So at least that is a little better - but one still needs to be careful..."
   ]
  },
  {
   "cell_type": "markdown",
   "metadata": {},
   "source": [
    "<div class=\"alert alert-block alert-warning\">\n",
    "<hr style=\"border:1.5px dashed gray\"></hr>\n",
    "\n",
    "### The Numpy library\n",
    "\n",
    "(For consideration in the future when we do cover Numpy)\n",
    "\n",
    "- Rounding is done using\n",
    "    - `numpy.around` https://numpy.org/doc/stable/reference/generated/numpy.around.html - **round to even method**\n",
    "    - `numpy.ceil` (https://numpy.org/doc/stable/reference/generated/numpy.ceil.html) - rounding up (i.e., more positive)\n",
    "    - `numpy.floor` (https://numpy.org/doc/stable/reference/generated/numpy.floor.html) - rounding down (i.e., more negative)\n",
    "\n"
   ]
  },
  {
   "cell_type": "code",
   "execution_count": 67,
   "metadata": {},
   "outputs": [
    {
     "name": "stdout",
     "output_type": "stream",
     "text": [
      "'numpy.around' round number -4.5 to: -4.0\n",
      "'numpy.around' round number -3.5 to: -4.0\n",
      "'numpy.around' round number -0.05 to: -0.0\n",
      "'numpy.around' round number 0.05 to: 0.0\n",
      "'numpy.around' round number 3.5 to: 4.0\n",
      "'numpy.around' round number 4.5 to: 4.0\n",
      "\n",
      "'numpy.ceil' round number -4.5 to: -4.0\n",
      "'numpy.ceil' round number -3.5 to: -3.0\n",
      "'numpy.ceil' round number -0.05 to: -0.0\n",
      "'numpy.ceil' round number 0.05 to: 1.0\n",
      "'numpy.ceil' round number 3.5 to: 4.0\n",
      "'numpy.ceil' round number 4.5 to: 5.0\n",
      "\n",
      "'numpy.floor' round number -4.5 to: -5.0\n",
      "'numpy.floor' round number -3.5 to: -4.0\n",
      "'numpy.floor' round number -0.05 to: -1.0\n",
      "'numpy.floor' round number 0.05 to: 0.0\n",
      "'numpy.floor' round number 3.5 to: 3.0\n",
      "'numpy.floor' round number 4.5 to: 4.0\n",
      "\n"
     ]
    }
   ],
   "source": [
    "import numpy\n",
    "\n",
    "example_demo = [-4.5, -3.5, -0.05, 0.05, 3.5, 4.5]\n",
    "\n",
    "rounding_methods = [numpy.around, numpy.ceil, numpy.floor]\n",
    "\n",
    "for method in rounding_methods:\n",
    "    for number in example_demo:\n",
    "        number_rounded = method(number)\n",
    "\n",
    "        print(f\"'numpy.{method.__name__}' round number {number} to: {number_rounded}\")\n",
    "    print()"
   ]
  },
  {
   "cell_type": "markdown",
   "metadata": {},
   "source": [
    "<div class=\"alert alert-block alert-warning\">\n",
    "<hr style=\"border:1.5px dashed gray\"></hr>"
   ]
  },
  {
   "cell_type": "markdown",
   "metadata": {},
   "source": [
    "## Take-home message\n",
    "\n",
    "1. <font color='dodgerblue'>**Think critically**</font> about what you are doing and what your final goal is. (In other words, don't take information that you find off the Internet and blindly use it.)\n",
    "\n",
    "\n",
    "2. **Create short test codes** to **verify** that <font color='dodgerblue'>**what you think you are doing**</font> is actually <font color='dodgerblue'>**what you are doing**</font>!\n",
    "\n",
    "\n",
    "3. Consider using `decimals` (better rounding options and correction of float-point representation error) or `numpy` (once we get to the Numpy lectures).\n",
    "\n",
    "\n",
    "4. Rounding via string formatting can cause unexpected results."
   ]
  }
 ],
 "metadata": {
  "kernelspec": {
   "display_name": "Python 3 (ipykernel)",
   "language": "python",
   "name": "python3"
  },
  "language_info": {
   "codemirror_mode": {
    "name": "ipython",
    "version": 3
   },
   "file_extension": ".py",
   "mimetype": "text/x-python",
   "name": "python",
   "nbconvert_exporter": "python",
   "pygments_lexer": "ipython3",
   "version": "3.8.10"
  }
 },
 "nbformat": 4,
 "nbformat_minor": 2
}
