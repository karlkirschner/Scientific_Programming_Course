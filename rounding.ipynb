{
 "cells": [
  {
   "cell_type": "markdown",
   "metadata": {},
   "source": [
    "<div class=\"alert block alert-info alert\">\n",
    "\n",
    "# <center> Scientific Programming in Python\n",
    "## <center>Karl N. Kirschner<br>Bonn-Rhein-Sieg University of Applied Sciences<br>Sankt Augustin, Germany\n",
    "\n",
    "# <center> Rounding Numbers\n",
    "#### <center> (Reporting the correct number of significant figures.)</center>\n",
    "\n",
    "#### Sources\n",
    "1. https://docs.python.org/3/library/functions.html#round\n",
    "2. https://docs.python.org/3/library/decimal.html#decimal.Decimal\n",
    "3. https://realpython.com/python-rounding/#the-decimal-class\n",
    "4. https://docs.python.org/3/library/math.html\n",
    "5. https://docs.python.org/3/library/decimal.html\n",
    "6. https://numpy.org/doc/stable/reference/generated/numpy.around.html\n",
    "7. https://numpy.org/doc/stable/reference/generated/numpy.ceil.html\n",
    "8. https://numpy.org/doc/stable/reference/generated/numpy.floor.html\n",
    "9. https://docs.python.org/3.1/library/string.html#grammar-token-precision\n",
    "<hr style=\"border:2px solid gray\"></hr>"
   ]
  },
  {
   "cell_type": "markdown",
   "metadata": {},
   "source": [
    "#### <center> Don't Scroll Down Yet...</center>\n",
    "\n",
    "**Question**: How would you round -2.45 to the first decimal place?\n",
    "\n",
    "<!-- (Everyone type in their number in the \"Chat box.\") -->\n",
    "<br><br><b>\n",
    "<br><br><b>\n",
    "<br><br><b>\n",
    "\n",
    "<br><br><b>\n",
    "<br><br><b>\n",
    "<br><br><b>\n",
    "\n",
    "<br><br><b>\n",
    "<br><br><b>\n",
    "<br><br><b>\n",
    "\n",
    "<br><br><b>\n",
    "<br><br><b>\n",
    "<br><br><b>\n",
    "\n",
    "<br><br><b>\n",
    "<br><br><b>\n",
    "<br><br><b>\n",
    "\n",
    "<br><br><b>\n",
    "<br><br><b>\n",
    "<br><br><b>\n",
    "\n",
    "<br><br><b>\n",
    "<br><br><b>\n",
    "<br><br><b>"
   ]
  },
  {
   "cell_type": "markdown",
   "metadata": {},
   "source": [
    "<hr style=\"border:2px solid gray\"></hr>\n",
    "\n",
    "## Conceptual ideas\n",
    "\n",
    "- Critical thinking is needed when rounding numbers whose last digit is a **5** since it lies in the middle of the basic number series <br> (i.e. 0 -- 1, 2, 3, 4 -- 5 -- 6, 7, 8, 9 -- 10)\n",
    "\n",
    "\n",
    "- The act of rounding can introduce a bias into your numbers (e.g. when working with a large data set).\n",
    "\n",
    "Consider 11 numbers that range from 0.5 -- 10.5 in 1.0 increments\n",
    "\n",
    "    - round them to the ones place, and\n",
    "    - then take their mean.\n",
    "    \n",
    "We will use that statistics library since it allows us to round half up and down."
   ]
  },
  {
   "cell_type": "code",
   "execution_count": null,
   "metadata": {},
   "outputs": [],
   "source": [
    "import statistics"
   ]
  },
  {
   "cell_type": "code",
   "execution_count": null,
   "metadata": {},
   "outputs": [],
   "source": [
    "input_numbers = [number+0.5 for number in range(0, 11)]\n",
    "\n",
    "print(f'Unrounded Numbers: {input_numbers}')\n",
    "print(f'Average: {statistics.mean(input_numbers)}')"
   ]
  },
  {
   "cell_type": "markdown",
   "metadata": {},
   "source": [
    "Rounding the number up:"
   ]
  },
  {
   "cell_type": "code",
   "execution_count": null,
   "metadata": {},
   "outputs": [],
   "source": [
    "round_up = [number for number in range(1, 12)]\n",
    "\n",
    "print(f'Rounded Up Numbers: {round_up}')\n",
    "print(f'Mean: {statistics.mean(round_up)}')"
   ]
  },
  {
   "cell_type": "markdown",
   "metadata": {},
   "source": [
    "Rounding the number down:"
   ]
  },
  {
   "cell_type": "code",
   "execution_count": null,
   "metadata": {},
   "outputs": [],
   "source": [
    "round_down = [number for number in range(0, 11)]\n",
    "\n",
    "print(f'Rounded Down Numbers: {round_down}')\n",
    "print(f'Mean: {statistics.mean(round_down)}')"
   ]
  },
  {
   "cell_type": "markdown",
   "metadata": {},
   "source": [
    "Thus, we observe that:\n",
    "1. Rouding Up leads to a **mean of 6**, while\n",
    "2. Rounding Down leads to a **mean of 5**.\n",
    "\n",
    "<font color='dodgerblue'>**Therefore, the approach that we use to round numbers may result in a bias.**</font>"
   ]
  },
  {
   "cell_type": "markdown",
   "metadata": {},
   "source": [
    "<hr style=\"border:2px solid gray\"></hr>\n",
    "\n",
    "## Conceptual approaches for rounding numbers\n",
    "\n",
    "### 1. Bias methods\n",
    "\n",
    "<font color='dodgerblue'>**Round Half Up**</font> (i.e. bias towards **more positive**)\n",
    "1.  7.6 $\\rightarrow$ 8\n",
    "2. **7.5 $\\rightarrow$ 8**\n",
    "3. 7.4 $\\rightarrow$ 7\n",
    "<br><br>\n",
    "4. -7.6 $\\rightarrow$ -8\n",
    "5. **-7.5 $\\rightarrow$ -7**\n",
    "6. -7.4 $\\rightarrow$ -7\n",
    "\n",
    "<font color='dodgerblue'>**Round Half Down**</font> (i.e. bias towards **more negative**)\n",
    "1.  7.5 $\\rightarrow$  7\n",
    "2. -7.5 $\\rightarrow$ -8\n",
    "\n",
    "<font color='dodgerblue'>**Round Half To Zero**</font> (i.e. bias towards **zero**)\n",
    "1.  7.5 $\\rightarrow$  7\n",
    "2. -7.5 $\\rightarrow$ -7\n",
    "\n",
    "<font color='dodgerblue'>**Round Half Away from Zero**</font> (i.e. bias towards **$\\pm \\infty$**)\n",
    "1. 7.5 $\\rightarrow$  8\n",
    "2. -7.5 $\\rightarrow$ -8\n",
    "\n",
    "Additional information:\n",
    "\n",
    "https://en.wikipedia.org/wiki/Rounding"
   ]
  },
  {
   "cell_type": "markdown",
   "metadata": {},
   "source": [
    "### 2. Unbias methods (i.e. free from positive/negative bias and bias toward/away from zero)\n",
    "\n",
    "<font color='dodgerblue'>**Round Half To Even**</font> (i.e. zero is considered evenly distributed)\n",
    "1.  7.5 $\\rightarrow$  8\n",
    "2.  8.5 $\\rightarrow$  8\n",
    "<br><br>\n",
    "3. -7.5 $\\rightarrow$ -8\n",
    "4. -8.5 $\\rightarrow$ -8\n",
    "\n",
    "\n",
    "<font color='dodgerblue'>**Round Half To Odd**</font> (i.e. zero is considered evenly distributed)\n",
    "1.  7.5 $\\rightarrow$  7\n",
    "2.  8.5 $\\rightarrow$  9\n",
    "<br><br>\n",
    "3. -7.5 $\\rightarrow$ -7\n",
    "4. -8.5 $\\rightarrow$ -9"
   ]
  },
  {
   "cell_type": "markdown",
   "metadata": {},
   "source": [
    "![rounding](00_images/rounding_bias.png)"
   ]
  },
  {
   "cell_type": "markdown",
   "metadata": {},
   "source": [
    "<hr style=\"border:2px solid gray\"></hr>\n",
    "\n",
    "## Different approaches within Python"
   ]
  },
  {
   "cell_type": "markdown",
   "metadata": {},
   "source": [
    "### 1. Python's built-in function 'round' (with examples)\n",
    "\n",
    "Using the numbers that are exemplified in the above figure:"
   ]
  },
  {
   "cell_type": "code",
   "execution_count": null,
   "metadata": {},
   "outputs": [],
   "source": [
    "example_numbers = [-4.5, -3.5, -0.5, 0.5, 3.5, 4.5]\n",
    "\n",
    "for number in example_numbers:\n",
    "    number_rounded = round(number)\n",
    "\n",
    "    print(f'The number {number} becomes {number_rounded}.')"
   ]
  },
  {
   "cell_type": "markdown",
   "metadata": {},
   "source": [
    "**Thus**, Python3's built-in **`round`** function uses <font color='dodgerblue'>**Round Half To Even**</font>\n",
    "<br><br>\n",
    "\n",
    "\n",
    "What happens if we push it slightly over 4.5?"
   ]
  },
  {
   "cell_type": "code",
   "execution_count": null,
   "metadata": {},
   "outputs": [],
   "source": [
    "print(round(4.51))"
   ]
  },
  {
   "cell_type": "markdown",
   "metadata": {},
   "source": [
    "So, the behavior is has it should be."
   ]
  },
  {
   "cell_type": "markdown",
   "metadata": {},
   "source": [
    "**Notice** how `round` simply returns the integer value of the float above.\n",
    "\n",
    "Alternatively, one can specify the number of decimal places using **`round(number[, ndigits])`**.\n",
    "- However, this does odd things to the number of digits that are returned (i.e. significant figures).\n",
    "\n",
    "Let's round a list of floats to the second decimal place (i.e. to have 1 sigfig):"
   ]
  },
  {
   "cell_type": "code",
   "execution_count": null,
   "metadata": {},
   "outputs": [],
   "source": [
    "numbers_demo_expected = [-0.055, 0.055]\n",
    "\n",
    "for number in numbers_demo_expected:\n",
    "    number_rounded = round(number, 2)\n",
    "    \n",
    "    print(f'When rounded to 2 decimals, the number {number} becomes {number_rounded}.')"
   ]
  },
  {
   "cell_type": "markdown",
   "metadata": {},
   "source": [
    "The results are as expected."
   ]
  },
  {
   "cell_type": "code",
   "execution_count": null,
   "metadata": {},
   "outputs": [],
   "source": [
    "numbers_demo_unexpected = [10, 0.055E-9]\n",
    "\n",
    "for number in numbers_demo_unexpected:\n",
    "    number_rounded = round(number, 2)\n",
    "    \n",
    "    print(f'When rounded to 2 decimals, the number {number} becomes {number_rounded}.')"
   ]
  },
  {
   "cell_type": "markdown",
   "metadata": {},
   "source": [
    "Notice two things:\n",
    "\n",
    "1. **10**, which as no decimals initially and thus a questionable number of significant figures, stays as 10 (which is good)\n",
    "\n",
    "2. **0.05555E-9** has **4 sig figs**, but the function `round` returned **0.0**\n",
    "    - the scientifically correct answer is <font color='dodgerblue'>**0.06E-9**</font> (or 0.6E-10 or 6.E-11, depending on the converntion)\n",
    "    - which means we <font color='dodgerblue'>**lost**</font> some data information"
   ]
  },
  {
   "cell_type": "markdown",
   "metadata": {},
   "source": [
    "*Furthermore**, notice the following weird result when we round 2.675 to two decimal places."
   ]
  },
  {
   "cell_type": "code",
   "execution_count": null,
   "metadata": {},
   "outputs": [],
   "source": [
    "print( round(2.675, 2) )"
   ]
  },
  {
   "cell_type": "markdown",
   "metadata": {},
   "source": [
    "The `round(2.675, 2)` should result in **2.68** (i.e. rounding up). Instead we obtained **2.67**!\n",
    "<br><br>\n",
    "\n",
    "Two more examples of weirdness that helps us understand what is happening:"
   ]
  },
  {
   "cell_type": "code",
   "execution_count": null,
   "metadata": {},
   "outputs": [],
   "source": [
    "0.1 + 0.1 + 0.1"
   ]
  },
  {
   "cell_type": "markdown",
   "metadata": {},
   "source": [
    "In the following, we are adding numbers that should result in zero:"
   ]
  },
  {
   "cell_type": "code",
   "execution_count": null,
   "metadata": {},
   "outputs": [],
   "source": [
    "(0.1 + 0.1 + 0.1) - 0.3"
   ]
  },
  {
   "cell_type": "markdown",
   "metadata": {},
   "source": [
    "Why?\n",
    "\n",
    "Reason: <font color='dodgerblue'>**floating-point representation error**</font> (https://docs.python.org/3/tutorial/floatingpoint.html)\n",
    "\n",
    "This is not a Python issue, but has to do with how computers store floating-point numbers in memory.\n",
    "\n",
    "**Take-home message:**\n",
    "\n",
    "- From a perspective of being exact and correct, this is something that one needs to be aware of -- particularly when significant figures are important -- when developing code for scientific usage."
   ]
  },
  {
   "cell_type": "markdown",
   "metadata": {},
   "source": [
    "<hr style=\"border:2px solid gray\"></hr>\n",
    "\n",
    "### 2. Python's math library (with examples)\n",
    "\n",
    "- https://docs.python.org/3/library/math.html\n",
    "\n",
    "- math.ceil (ceiling): **Round Up**\n",
    "- math.floor: **Round Down**\n",
    "\n",
    "Both functions return only an **integer** value."
   ]
  },
  {
   "cell_type": "code",
   "execution_count": null,
   "metadata": {},
   "outputs": [],
   "source": [
    "import math\n",
    "\n",
    "example_numbers = [-4.5, -3.5, -0.5, 0.5, 3.5, 4.5]"
   ]
  },
  {
   "cell_type": "code",
   "execution_count": null,
   "metadata": {},
   "outputs": [],
   "source": [
    "for number in example_numbers:\n",
    "    number_rounded = math.ceil(number)\n",
    "\n",
    "    print(f'The number {number} becomes {number_rounded}.')"
   ]
  },
  {
   "cell_type": "code",
   "execution_count": null,
   "metadata": {},
   "outputs": [],
   "source": [
    "for number in example_numbers:\n",
    "    number_rounded = math.floor(number)\n",
    "\n",
    "    print(f'The number {number} becomes {number_rounded}.')"
   ]
  },
  {
   "cell_type": "markdown",
   "metadata": {},
   "source": [
    "<hr style=\"border:2px solid gray\"></hr>\n",
    "\n",
    "### 3. The decimal library\n",
    "- https://docs.python.org/3/library/decimal.html\n",
    "    - \"The decimal module provides support for fast correctly-**rounded decimal floating point arithmetic**.\"\n",
    "    - Can be passed a number that is either a float (e.g. `3.14`, or a string (e.g. `'3.14'`)\n",
    "    - Rounding is done with `decimal.Decimal.quantize`\n",
    "    - Returns a `decimal.Decimal` object\n",
    "\n",
    "Rounding options:\n",
    "1. ROUND_CEILING $\\rightarrow$ Rounding up\n",
    "2. ROUND_FLOOR $\\rightarrow$ Rounding down\n",
    "3. ROUND_DOWN $\\rightarrow$ Truncation\n",
    "4. ROUND_UP $\\rightarrow$ Rounding away from zero\n",
    "5. ROUND_HALF_UP $\\rightarrow$ Rounding half away from zero\n",
    "6. ROUND_HALF_DOWN $\\rightarrow$ Rounding half towards zero\n",
    "7. ROUND_HALF_EVEN $\\rightarrow$ Rounding half to even\n",
    "8. ROUND_05UP $\\rightarrow$ Rounding towards zero, unless the last digit is 0 or 5 then round away from zero"
   ]
  },
  {
   "cell_type": "code",
   "execution_count": null,
   "metadata": {
    "scrolled": true
   },
   "outputs": [],
   "source": [
    "import decimal\n",
    "from decimal import Decimal"
   ]
  },
  {
   "cell_type": "markdown",
   "metadata": {},
   "source": [
    "Notice that the default rounding method is **ROUND_HALF_EVEN**.\n",
    "\n",
    "Let's first consider how `decimal.Decimal` handles\n",
    "- **floats** and\n",
    "- **strings**"
   ]
  },
  {
   "cell_type": "code",
   "execution_count": null,
   "metadata": {},
   "outputs": [],
   "source": [
    "Decimal(3.14)"
   ]
  },
  {
   "cell_type": "code",
   "execution_count": null,
   "metadata": {},
   "outputs": [],
   "source": [
    "Decimal('3.14')"
   ]
  },
  {
   "cell_type": "code",
   "execution_count": null,
   "metadata": {},
   "outputs": [],
   "source": [
    "type(Decimal('3.14'))"
   ]
  },
  {
   "cell_type": "markdown",
   "metadata": {},
   "source": [
    "Now let's look at what happens if we do some methematics (i.e. add the number to itself).\n",
    "\n",
    "We should get:\n",
    "\n",
    "3.14 + 3.14 = 6.28"
   ]
  },
  {
   "cell_type": "code",
   "execution_count": null,
   "metadata": {
    "scrolled": true
   },
   "outputs": [],
   "source": [
    "Decimal(3.14) + Decimal(3.14)"
   ]
  },
  {
   "cell_type": "code",
   "execution_count": null,
   "metadata": {
    "scrolled": true
   },
   "outputs": [],
   "source": [
    "Decimal('3.14') + Decimal('3.14')"
   ]
  },
  {
   "cell_type": "markdown",
   "metadata": {},
   "source": [
    "Therefore, using the string input approach with **`decimal.Decimal`** <font color='dodgerblue'>**corrects**</font> the <font color='dodgerblue'>**floating-point representation error**</font>."
   ]
  },
  {
   "cell_type": "markdown",
   "metadata": {},
   "source": [
    "#### Rounding with decimals library\n",
    "\n",
    "- done using ```quantized```:\n",
    "    - ```Decimal(value=\"0\", context=None).quantize(exp, rounding=None, context=None)```\n",
    "    \n",
    "    Decimal().quantize('0') --> ones place (e.g. 7)\n",
    "    \n",
    "    Decimal().quantize('0.0') --> ones and first decimal place (e.g. 7.1)\n",
    "    \n",
    "    Decimal().quantize('0.00') --> ones and first decimal place (e.g. 7.11)"
   ]
  },
  {
   "cell_type": "markdown",
   "metadata": {},
   "source": [
    "Let's see what the **default settings** of `decimal` are:"
   ]
  },
  {
   "cell_type": "code",
   "execution_count": null,
   "metadata": {
    "scrolled": true
   },
   "outputs": [],
   "source": [
    "decimal.getcontext()"
   ]
  },
  {
   "cell_type": "code",
   "execution_count": null,
   "metadata": {},
   "outputs": [],
   "source": [
    "help(decimal.Decimal.quantize)"
   ]
  },
  {
   "cell_type": "markdown",
   "metadata": {},
   "source": [
    "In our first example, let do the following:\n",
    "1. round to the one's place (i.e. `quantize(Decimal('0.')`), and\n",
    "2. pass the number as a **string** (using an f-string statment)."
   ]
  },
  {
   "cell_type": "code",
   "execution_count": null,
   "metadata": {},
   "outputs": [],
   "source": [
    "example_numbers = [-4.5, -3.5, -0.5, 0.5, 3.5, 4.5]\n",
    "\n",
    "for number in example_numbers:\n",
    "    number_rounded = Decimal(f'{number}').quantize(Decimal('0.'))\n",
    "\n",
    "    print(f'The number {number} becomes {number_rounded}.')"
   ]
  },
  {
   "cell_type": "markdown",
   "metadata": {},
   "source": [
    "Thus, **`decimal.Decimal.quantized`** is **ROUND_HALF_EVEN** due to its default settings.\n",
    "\n",
    "Let's be more exact and not \"hide\" what is going on and specify the rounding directly:"
   ]
  },
  {
   "cell_type": "code",
   "execution_count": null,
   "metadata": {},
   "outputs": [],
   "source": [
    "example_numbers = [-4.5, -3.5, -0.5, 0.5, 3.5, 4.5]\n",
    "\n",
    "for number in example_numbers:\n",
    "    number_rounded = Decimal(value=f'{number}').quantize(Decimal(value='0.'), rounding=\"ROUND_HALF_EVEN\")\n",
    "\n",
    "    print(f'The number {number} becomes {number_rounded}.')"
   ]
  },
  {
   "cell_type": "markdown",
   "metadata": {},
   "source": [
    "Now **change** the **number of decimal places** to return.\n",
    "\n",
    "1 decimal place:"
   ]
  },
  {
   "cell_type": "code",
   "execution_count": null,
   "metadata": {},
   "outputs": [],
   "source": [
    "example_demo = [-4.55, -4.65, 4.55, 4.65]\n",
    "\n",
    "for number in example_demo:\n",
    "    number_rounded = Decimal(value=f'{number}').quantize(Decimal(value='0.0'), rounding=\"ROUND_HALF_EVEN\")\n",
    "\n",
    "    print(f'The number {number} becomes {number_rounded}.')"
   ]
  },
  {
   "cell_type": "markdown",
   "metadata": {},
   "source": [
    "2 decimal places:"
   ]
  },
  {
   "cell_type": "code",
   "execution_count": null,
   "metadata": {},
   "outputs": [],
   "source": [
    "example_demo = [-4.055, -4.065, 4.055, 4.065]\n",
    "\n",
    "for number in example_demo:\n",
    "    number_rounded = Decimal(value=f'{number}').quantize(Decimal(value='0.00'), rounding=\"ROUND_HALF_EVEN\")\n",
    "\n",
    "    print(f'The number {number} becomes {number_rounded}.')"
   ]
  },
  {
   "cell_type": "markdown",
   "metadata": {},
   "source": [
    "Now let's change our rounding method to **rounding half up** (i.e. rounding half away from zero)."
   ]
  },
  {
   "cell_type": "code",
   "execution_count": null,
   "metadata": {},
   "outputs": [],
   "source": [
    "example_numbers = [-4.5, -3.5, -0.5, 0.5, 3.5, 4.5]\n",
    "\n",
    "for number in example_numbers:\n",
    "    number_rounded = Decimal(value=f'{number}').quantize(Decimal(value='0.'), rounding=\"ROUND_HALF_UP\")\n",
    "\n",
    "    print(f'The number {number} becomes {number_rounded}.')"
   ]
  },
  {
   "cell_type": "markdown",
   "metadata": {},
   "source": [
    "Modifying the default settings via `getcontext()`:"
   ]
  },
  {
   "cell_type": "code",
   "execution_count": null,
   "metadata": {},
   "outputs": [],
   "source": [
    "decimal.getcontext().rounding = decimal.ROUND_HALF_UP\n",
    "print(decimal.getcontext())"
   ]
  },
  {
   "cell_type": "code",
   "execution_count": null,
   "metadata": {},
   "outputs": [],
   "source": [
    "example_numbers = [-4.5, -3.5, -0.5, 0.5, 3.5, 4.5]\n",
    "\n",
    "for number in example_numbers:\n",
    "    number_rounded = Decimal(value=f'{number}').quantize(Decimal(value='0.'), rounding=None)\n",
    "\n",
    "    print(f'The number {number} becomes {number_rounded}.')"
   ]
  },
  {
   "cell_type": "markdown",
   "metadata": {},
   "source": [
    "**Side note**: earlier we saw that ```round(2.675, 2)``` resulted in **2.67**, not the correct value of **2.68**. Let's see what `Decimal.quantize` does:"
   ]
  },
  {
   "cell_type": "code",
   "execution_count": null,
   "metadata": {},
   "outputs": [],
   "source": [
    "Decimal(value=\"2.675\").quantize(Decimal(value=\"0.00\"))"
   ]
  },
  {
   "cell_type": "markdown",
   "metadata": {},
   "source": [
    "Therefore, we obtain the exact answer now (i.e. without the influence of floating point representation error).\n",
    "\n",
    "<!-- #### Precision\n",
    "\n",
    "Let now change the default **precision**. Precision here seem to be how many **digits** (i.e. not decimal places) are **available** for a number (default value is 28). **Note** that a number doesn't need to use as 28 digits, but they are there if needed.\n",
    "\n",
    "Decimal('11') / Decimal('7')\n",
    "\n",
    "Let's verify the precision by computing how characters the number has, which includes the decimal point:\n",
    "\n",
    "len(str(Decimal('11') / Decimal('7')))\n",
    "\n",
    "decimal.getcontext().prec=3\n",
    "Decimal('11') / Decimal('7')\n",
    "\n",
    "**Be careful**: This doesn't always alter the default settings of decimal. On my installed Jupyter-notebook (bug?), the default decimals revert back to 28. However, on Colaboratory the above command does alter the default settings.\n",
    "\n",
    "Decimal('11') / Decimal('7')\n",
    "\n",
    "decimal.getcontext()\n",
    "\n",
    "-->"
   ]
  },
  {
   "cell_type": "markdown",
   "metadata": {},
   "source": [
    "<hr style=\"border:2px solid gray\"></hr>\n",
    "\n",
    "### 4. The Numpy library\n",
    "\n",
    "(For consideration in the future when we do cover Numpy)\n",
    "\n",
    "- Rounding is done using `numpy.around(a, decimals=0, out=None)`\n",
    "\n",
    "https://numpy.org/doc/stable/reference/generated/numpy.around.html"
   ]
  },
  {
   "cell_type": "code",
   "execution_count": null,
   "metadata": {
    "scrolled": false
   },
   "outputs": [],
   "source": [
    "import numpy"
   ]
  },
  {
   "cell_type": "markdown",
   "metadata": {},
   "source": [
    "Round to the ones place:"
   ]
  },
  {
   "cell_type": "code",
   "execution_count": null,
   "metadata": {},
   "outputs": [],
   "source": [
    "numpy.around(1.500, decimals=0)"
   ]
  },
  {
   "cell_type": "markdown",
   "metadata": {},
   "source": [
    "Round to the first decimal place:"
   ]
  },
  {
   "cell_type": "code",
   "execution_count": null,
   "metadata": {},
   "outputs": [],
   "source": [
    "numpy.around(1.550, decimals=1)"
   ]
  },
  {
   "cell_type": "markdown",
   "metadata": {},
   "source": [
    "Round tto the second decimal place:"
   ]
  },
  {
   "cell_type": "code",
   "execution_count": null,
   "metadata": {},
   "outputs": [],
   "source": [
    "numpy.around(1.555, decimals=2)"
   ]
  },
  {
   "cell_type": "code",
   "execution_count": null,
   "metadata": {},
   "outputs": [],
   "source": [
    "example_numbers = [-4.5, -3.5, -0.5, 0.5, 3.5, 4.5]\n",
    "\n",
    "for number in example_numbers:\n",
    "    number_rounded = numpy.around(number)\n",
    "\n",
    "    print(f'The number {number} becomes {number_rounded}.')"
   ]
  },
  {
   "cell_type": "code",
   "execution_count": null,
   "metadata": {},
   "outputs": [],
   "source": [
    "example_demo = [-4.55, -4.65, -0.05, 0.05, 4.55, 4.65]\n",
    "\n",
    "for number in example_demo:\n",
    "    number_rounded = numpy.around(number, decimals=1)\n",
    "    \n",
    "    print(f'The number {number} becomes {number_rounded}.')"
   ]
  },
  {
   "cell_type": "markdown",
   "metadata": {},
   "source": [
    "Thus, **`numpy.around`** function is using the <font color='dodgerblue'>**round to even method**</font>.\n",
    "\n",
    "How about if we want to rounding up (ceiling) and down (floor) to the one's place? Numpy has that too.\n",
    "\n",
    "Rounding up using `numpy.ceil` (https://numpy.org/doc/stable/reference/generated/numpy.ceil.html):"
   ]
  },
  {
   "cell_type": "code",
   "execution_count": null,
   "metadata": {},
   "outputs": [],
   "source": [
    "for number in example_demo:\n",
    "    number_rounded = numpy.ceil(number)\n",
    "    \n",
    "    print(f'The number {number} becomes {number_rounded}.')"
   ]
  },
  {
   "cell_type": "markdown",
   "metadata": {},
   "source": [
    "Rounding down using `numpy.floor` (https://numpy.org/doc/stable/reference/generated/numpy.floor.html):"
   ]
  },
  {
   "cell_type": "code",
   "execution_count": null,
   "metadata": {},
   "outputs": [],
   "source": [
    "for number in example_demo:\n",
    "    number_rounded = numpy.floor(number)\n",
    "    \n",
    "    print(f'The number {number} becomes {number_rounded}.')"
   ]
  },
  {
   "cell_type": "markdown",
   "metadata": {},
   "source": [
    "<hr style=\"border:2px solid gray\"></hr>\n",
    "\n",
    "### 5. Rounding (maybe) by formating print statements containing floats\n",
    "\n",
    "https://docs.python.org/3.1/library/string.html#grammar-token-precision\n",
    "\n",
    "\n",
    "- `g`: General format\n",
    "    - fixed point or exponential, depending on the number's magnitude"
   ]
  },
  {
   "cell_type": "code",
   "execution_count": null,
   "metadata": {},
   "outputs": [],
   "source": [
    "print(f'{3.4500045:g}, {3.5500055:g}, {300000000005:g}')"
   ]
  },
  {
   "cell_type": "markdown",
   "metadata": {},
   "source": [
    "- `f`: Fixed point\n",
    "    - unclear rounding"
   ]
  },
  {
   "cell_type": "code",
   "execution_count": null,
   "metadata": {},
   "outputs": [],
   "source": [
    "demo_numbers = [3.44, 3.56, -3.44, -3.56, 300000000005.44]"
   ]
  },
  {
   "cell_type": "code",
   "execution_count": null,
   "metadata": {},
   "outputs": [],
   "source": [
    "for number in demo_numbers:\n",
    "    print(f'{number:0.1f}')"
   ]
  },
  {
   "cell_type": "markdown",
   "metadata": {},
   "source": [
    "What happens if we change `1f` to `3f`?"
   ]
  },
  {
   "cell_type": "code",
   "execution_count": null,
   "metadata": {},
   "outputs": [],
   "source": [
    "for number in demo_numbers:\n",
    "    print(f'{number:0.3f}')"
   ]
  },
  {
   "cell_type": "markdown",
   "metadata": {},
   "source": [
    "Considering significant figures, we are **introducing new information** when it is originally **not present**."
   ]
  },
  {
   "cell_type": "code",
   "execution_count": null,
   "metadata": {},
   "outputs": [],
   "source": [
    "example_numbers = [-4.5, -3.5, -0.5, 0.5, 3.5, 4.5]\n",
    "\n",
    "for number in example_numbers:\n",
    "    print(f'The number {number} becomes {number:0.0f}.')"
   ]
  },
  {
   "cell_type": "markdown",
   "metadata": {},
   "source": [
    "Seems to be **round to even**.\n",
    "\n",
    "However, consider the following:"
   ]
  },
  {
   "cell_type": "code",
   "execution_count": null,
   "metadata": {},
   "outputs": [],
   "source": [
    "example_demo = [-4.55, -4.65, -0.05, 0.05, 4.55, 4.65]\n",
    "\n",
    "for number in example_demo:\n",
    "    print(f'The number {number} becomes {number:0.1f}.')"
   ]
  },
  {
   "cell_type": "markdown",
   "metadata": {},
   "source": [
    "Now the behavour of formatting stings is **round to odd**."
   ]
  },
  {
   "cell_type": "markdown",
   "metadata": {},
   "source": [
    "- `e`: Exponent notation\n",
    "    - rounding to odd number"
   ]
  },
  {
   "cell_type": "code",
   "execution_count": null,
   "metadata": {},
   "outputs": [],
   "source": [
    "print(f'{3.45:0.1e}, {3.55:0.1e}, {355000000000:0.1e}')"
   ]
  },
  {
   "cell_type": "markdown",
   "metadata": {},
   "source": [
    "However, I'm not sure why 355000000000 -> 3.6e+11 and not 3.5e+11"
   ]
  },
  {
   "cell_type": "code",
   "execution_count": null,
   "metadata": {},
   "outputs": [],
   "source": [
    "example_demo = [-4.55, -4.65, -0.05, 0.05, 4.55, 4.65]\n",
    "\n",
    "for number in example_demo:\n",
    "    print(f'The number {number} becomes {number:0.1e}.')"
   ]
  },
  {
   "cell_type": "markdown",
   "metadata": {},
   "source": [
    "Notice how **0.05** went to **5.0e-02** (i.e. a **gain of 1 significant figure**).\n",
    "\n",
    "Even worse number reporting is in the examples below:\n",
    "1. 15 becomes 15.00 (i.e. a gain of significant figure)\n",
    "\n",
    "2. 1.555e-9 becomes 0.00 (ie. a loss of significant figure)"
   ]
  },
  {
   "cell_type": "code",
   "execution_count": null,
   "metadata": {},
   "outputs": [],
   "source": [
    "number_list = [1.55, 15, 1.555E-9]\n",
    "\n",
    "for number in number_list:\n",
    "    print(f'When rounded to 2 decimals, the number {number} becomes {number:0.2f}.')"
   ]
  },
  {
   "cell_type": "markdown",
   "metadata": {},
   "source": [
    "Let's revisit what happens with `g`:"
   ]
  },
  {
   "cell_type": "code",
   "execution_count": null,
   "metadata": {},
   "outputs": [],
   "source": [
    "for number in number_list:\n",
    "    print(f'When using general formating, the number {number} becomes {number:0.2g}.')"
   ]
  },
  {
   "cell_type": "markdown",
   "metadata": {},
   "source": [
    "So at least that is a little better."
   ]
  },
  {
   "cell_type": "markdown",
   "metadata": {},
   "source": [
    "<hr style=\"border:2px solid gray\"></hr>\n",
    "\n",
    "## Take-home message\n",
    "\n",
    "1. <font color='dodgerblue'>**Think critically**</font> about what you are doing and what your final goal is. (In other words, don't take information that you find off the Internet and blindly use it.)\n",
    "\n",
    "\n",
    "2. **Create short test codes** to **verify** that <font color='dodgerblue'>**what you think you are doing**</font> is actually <font color='dodgerblue'>**what you are doing**</font>!\n",
    "\n",
    "\n",
    "3. Consider using `decimals` (floating point, better options and correction of float-point representation errror) or `numpy` (once we get to the Numpy lectures)."
   ]
  },
  {
   "cell_type": "code",
   "execution_count": null,
   "metadata": {},
   "outputs": [],
   "source": []
  }
 ],
 "metadata": {
  "kernelspec": {
   "display_name": "Python 3 (ipykernel)",
   "language": "python",
   "name": "python3"
  },
  "language_info": {
   "codemirror_mode": {
    "name": "ipython",
    "version": 3
   },
   "file_extension": ".py",
   "mimetype": "text/x-python",
   "name": "python",
   "nbconvert_exporter": "python",
   "pygments_lexer": "ipython3",
   "version": "3.8.10"
  }
 },
 "nbformat": 4,
 "nbformat_minor": 2
}
