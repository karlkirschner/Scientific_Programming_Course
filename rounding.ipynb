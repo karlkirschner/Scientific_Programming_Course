{
 "cells": [
  {
   "cell_type": "markdown",
   "metadata": {},
   "source": [
    "# <center> Rounding Numbers</center>\n",
    "    \n",
    "<center> (Reporting the correct number of significant figures.)</center>\n",
    "<br><br><br><br>\n",
    "\n",
    "#### <center> Don't Scroll Down Yet...</center>"
   ]
  },
  {
   "cell_type": "markdown",
   "metadata": {},
   "source": [
    "---\n",
    "**Question**: How would you round -2.45 to the first decimal place?\n",
    "\n",
    "(Everyone type in their number in the \"Chat box.\")\n",
    "<br><br><b>\n",
    "<br><br><b>\n",
    "<br><br><b>\n",
    "\n",
    "<br><br><b>\n",
    "<br><br><b>\n",
    "<br><br><b>\n",
    "\n",
    "<br><br><b>\n",
    "<br><br><b>\n",
    "<br><br><b>\n",
    "\n",
    "<br><br><b>\n",
    "<br><br><b>\n",
    "<br><br><b>\n",
    "\n",
    "<br><br><b>\n",
    "<br><br><b>\n",
    "<br><br><b>\n",
    "\n",
    "<br><br><b>\n",
    "<br><br><b>\n",
    "<br><br><b>"
   ]
  },
  {
   "cell_type": "markdown",
   "metadata": {},
   "source": [
    "## Conceptual ideas\n",
    "\n",
    "The act of rounding can introduce a bias into your numbers.\n",
    "\n",
    "Consider 11 numbers that range from 0.5 -- 10.5 in 1.0 increments, round them to the ones place, and then take their mean."
   ]
  },
  {
   "cell_type": "code",
   "execution_count": 1,
   "metadata": {},
   "outputs": [],
   "source": [
    "import statistics"
   ]
  },
  {
   "cell_type": "code",
   "execution_count": 2,
   "metadata": {},
   "outputs": [
    {
     "name": "stdout",
     "output_type": "stream",
     "text": [
      "Unrounded Numbers: [0.5, 1.5, 2.5, 3.5, 4.5, 5.5, 6.5, 7.5, 8.5, 9.5, 10.5]\n",
      "Average: 5.5\n"
     ]
    }
   ],
   "source": [
    "input_numbers = [number+0.5 for number in range(0, 11)]\n",
    "\n",
    "print(f'Unrounded Numbers: {input_numbers}')\n",
    "print(f'Average: {statistics.mean(input_numbers)}')"
   ]
  },
  {
   "cell_type": "code",
   "execution_count": 3,
   "metadata": {},
   "outputs": [
    {
     "name": "stdout",
     "output_type": "stream",
     "text": [
      "Rounded Up Numbers: [1, 2, 3, 4, 5, 6, 7, 8, 9, 10, 11]\n",
      "Average: 6\n"
     ]
    }
   ],
   "source": [
    "round_up = [number for number in range(1, 12)]\n",
    "\n",
    "print(f'Rounded Up Numbers: {round_up}')\n",
    "print(f'Average: {statistics.mean(round_up)}')"
   ]
  },
  {
   "cell_type": "code",
   "execution_count": 4,
   "metadata": {},
   "outputs": [
    {
     "name": "stdout",
     "output_type": "stream",
     "text": [
      "Rounded Down Numbers: [0, 1, 2, 3, 4, 5, 6, 7, 8, 9, 10]\n",
      "Average: 5\n"
     ]
    }
   ],
   "source": [
    "round_down = [number for number in range(0, 11)]\n",
    "\n",
    "print(f'Rounded Down Numbers: {round_down}')\n",
    "print(f'Average: {statistics.mean(round_down)}')"
   ]
  },
  {
   "cell_type": "markdown",
   "metadata": {},
   "source": [
    "What we observe is:\n",
    "1. Rouding Up leads to 6, but\n",
    "2. Rounding Down leads to 5.\n",
    "\n",
    "**Therefore, the approach that we use to round numbers may result in a bias.**"
   ]
  },
  {
   "cell_type": "markdown",
   "metadata": {},
   "source": [
    "---\n",
    "\n",
    "## Conceptual approaches for rounding numbers\n",
    "\n",
    "### 1. Bias methods\n",
    "\n",
    "**Round Half Up** (i.e. bias towards **more positive**)\n",
    "1.  7.6 $\\rightarrow$ 8\n",
    "2. **7.5 $\\rightarrow$ 8**\n",
    "3. 7.4 $\\rightarrow$ 7\n",
    "<br><br>\n",
    "4. -7.6 $\\rightarrow$ -8\n",
    "5. **-7.5 $\\rightarrow$ -7**\n",
    "6. -7.4 $\\rightarrow$ -7\n",
    "\n",
    "**Round Half Down** (i.e. bias towards **more negative**)\n",
    "1.  7.5 $\\rightarrow$  7\n",
    "2. -7.5 $\\rightarrow$ -8\n",
    "\n",
    "**Round Half To Zero** (i.e. bias towards **zero**)\n",
    "1.  7.5 $\\rightarrow$  7\n",
    "2. -7.5 $\\rightarrow$ -7\n",
    "\n",
    "**Round Half Away from Zero** (i.e. bias towards **$\\pm \\infty$**)\n",
    "1. 7.5 $\\rightarrow$  8\n",
    "2. -7.5 $\\rightarrow$ -8\n",
    "\n",
    "Additional information:\n",
    "\n",
    "https://en.wikipedia.org/wiki/Rounding\n"
   ]
  },
  {
   "cell_type": "markdown",
   "metadata": {},
   "source": [
    "### 2. Unbias methods (i.e. free from positive/negative bias and bias toward/away from zero)\n",
    "\n",
    "**Round Half To Even** (i.e. zero is considered evenly distributed)\n",
    "1.  7.5 $\\rightarrow$  8\n",
    "2.  8.5 $\\rightarrow$  8\n",
    "<br><br>\n",
    "3. -7.5 $\\rightarrow$ -8\n",
    "4. -8.5 $\\rightarrow$ -8\n",
    "\n",
    "\n",
    "**Round Half To Odd** (i.e. zero is considered evenly distributed)\n",
    "1.  7.5 $\\rightarrow$  7\n",
    "2.  8.5 $\\rightarrow$  9\n",
    "<br><br>\n",
    "3. -7.5 $\\rightarrow$ -7\n",
    "4. -8.5 $\\rightarrow$ -9"
   ]
  },
  {
   "cell_type": "markdown",
   "metadata": {},
   "source": [
    "![rounding](00_images/rounding_bias.png)"
   ]
  },
  {
   "cell_type": "markdown",
   "metadata": {},
   "source": [
    "---\n",
    "\n",
    "## Different approaches within Python\n",
    "\n",
    "---\n",
    "### Python's built-in function 'round' (with examples)\n",
    "\n",
    "https://docs.python.org/3/library/functions.html#round"
   ]
  },
  {
   "cell_type": "markdown",
   "metadata": {},
   "source": [
    "Using the number from our figure above:"
   ]
  },
  {
   "cell_type": "code",
   "execution_count": 5,
   "metadata": {},
   "outputs": [
    {
     "name": "stdout",
     "output_type": "stream",
     "text": [
      "The number -4.5 becomes -4.\n",
      "The number -3.5 becomes -4.\n",
      "The number -0.5 becomes 0.\n",
      "The number 0.5 becomes 0.\n",
      "The number 3.5 becomes 4.\n",
      "The number 4.5 becomes 4.\n"
     ]
    }
   ],
   "source": [
    "example_numbers = [-4.5, -3.5, -0.5, 0.5, 3.5, 4.5]\n",
    "\n",
    "for number in example_numbers:\n",
    "    number_rounded = round(number)\n",
    "\n",
    "    print(f'The number {number} becomes {number_rounded}.')"
   ]
  },
  {
   "cell_type": "markdown",
   "metadata": {},
   "source": [
    "**Thus**, Python3's built-in ```round``` function uses **Round Half To Even**<br><br>\n",
    "\n",
    "\n",
    "What happens if we push it slightly over 4.5?"
   ]
  },
  {
   "cell_type": "code",
   "execution_count": 6,
   "metadata": {},
   "outputs": [
    {
     "name": "stdout",
     "output_type": "stream",
     "text": [
      "5\n"
     ]
    }
   ],
   "source": [
    "print( round(4.51) )"
   ]
  },
  {
   "cell_type": "markdown",
   "metadata": {},
   "source": [
    "So, the behavior is has it should be."
   ]
  },
  {
   "cell_type": "markdown",
   "metadata": {},
   "source": [
    "**Notice**: how ```round``` simpy returns the integer value of the float above.\n",
    "\n",
    "Alternatively, one can specify the number of decimal places using ```round(number[, ndigits])```.\n",
    "\n",
    "However, this does odd things to the number of digits that are returned (i.e. significant figures).\n",
    "\n",
    "Let's round a list of floats to the second decimal place (i.e. to have 1 sigfig):"
   ]
  },
  {
   "cell_type": "code",
   "execution_count": 7,
   "metadata": {},
   "outputs": [
    {
     "name": "stdout",
     "output_type": "stream",
     "text": [
      "When rounded to 2 decimals, the number -0.055 becomes -0.06.\n",
      "When rounded to 2 decimals, the number 0.055 becomes 0.06.\n",
      "When rounded to 2 decimals, the number 0.05555 becomes 0.06.\n",
      "When rounded to 2 decimals, the number 10 becomes 10.\n",
      "When rounded to 2 decimals, the number 5.555e-11 becomes 0.0.\n"
     ]
    }
   ],
   "source": [
    "numbers_demo = [-0.055, 0.055, 0.05555, 10, 0.05555E-9]\n",
    "\n",
    "for number in numbers_demo:\n",
    "    number_rounded = round(number, 2)\n",
    "    \n",
    "    print(f'When rounded to 2 decimals, the number {number} becomes {number_rounded}.')"
   ]
  },
  {
   "cell_type": "markdown",
   "metadata": {},
   "source": [
    "Notice two things:\n",
    "\n",
    "1. 10, which as no decimals initially and thus a questionable number of sig figs, stays as 10 (good).\n",
    "2. 0.05555E-9 has **4 sig figs**, but the function ```round``` returned **0.0**\n",
    "    - should be **0.06E-9** (or 0.6E-10 or 6.E-11)\n",
    "    - which means we **lost** some data information!"
   ]
  },
  {
   "cell_type": "markdown",
   "metadata": {},
   "source": [
    "Okay, so ```round``` uses **Round Half To Even**\n",
    "\n",
    "**However**, notice the following weird result when we round 2.675 to two decimal places."
   ]
  },
  {
   "cell_type": "code",
   "execution_count": 8,
   "metadata": {},
   "outputs": [
    {
     "name": "stdout",
     "output_type": "stream",
     "text": [
      "2.67\n"
     ]
    }
   ],
   "source": [
    "print( round(2.675, 2) )"
   ]
  },
  {
   "cell_type": "markdown",
   "metadata": {},
   "source": [
    "The ```round(2.675, 2)``` should result in **2.68**. Instead we obtained **2.67**!<br><br>\n",
    "\n",
    "Another example of weirdness that helps us understand what is happening:"
   ]
  },
  {
   "cell_type": "code",
   "execution_count": 9,
   "metadata": {},
   "outputs": [
    {
     "data": {
      "text/plain": [
       "0.30000000000000004"
      ]
     },
     "execution_count": 9,
     "metadata": {},
     "output_type": "execute_result"
    }
   ],
   "source": [
    "0.1 + 0.1 + 0.1"
   ]
  },
  {
   "cell_type": "code",
   "execution_count": 10,
   "metadata": {},
   "outputs": [
    {
     "data": {
      "text/plain": [
       "5.551115123125783e-17"
      ]
     },
     "execution_count": 10,
     "metadata": {},
     "output_type": "execute_result"
    }
   ],
   "source": [
    "0.1 + 0.1 + 0.1 - 0.3"
   ]
  },
  {
   "cell_type": "markdown",
   "metadata": {},
   "source": [
    "Reason: **floating-point representation error** (https://docs.python.org/3/tutorial/floatingpoint.html)\n",
    "\n",
    "This is not a Python issue, but has to do with how computers store floating-point numbers in memory.\n",
    "\n",
    "**Take-home message:**\n",
    "\n",
    "From a perspective of being exact and correct, this is something that one needs to be aware of -- particularly when significant figures are important -- when developing code for scientific usage."
   ]
  },
  {
   "cell_type": "markdown",
   "metadata": {},
   "source": [
    "---\n",
    "### Python's math library (with examples)\n",
    "\n",
    "- https://docs.python.org/3/library/math.html\n",
    "\n",
    "- math.ceil: **Round Up** (ceiling)\n",
    "- math.floor: **Round Down**"
   ]
  },
  {
   "cell_type": "code",
   "execution_count": 11,
   "metadata": {},
   "outputs": [
    {
     "name": "stdout",
     "output_type": "stream",
     "text": [
      "The number -4.5 becomes -4.\n",
      "The number -3.5 becomes -3.\n",
      "The number -0.5 becomes 0.\n",
      "The number 0.5 becomes 1.\n",
      "The number 3.5 becomes 4.\n",
      "The number 4.5 becomes 5.\n"
     ]
    }
   ],
   "source": [
    "import math\n",
    "\n",
    "example_numbers = [-4.5, -3.5, -0.5, 0.5, 3.5, 4.5]\n",
    "\n",
    "for number in example_numbers:\n",
    "    number_rounded = math.ceil(number)\n",
    "\n",
    "    print(f'The number {number} becomes {number_rounded}.')"
   ]
  },
  {
   "cell_type": "code",
   "execution_count": 12,
   "metadata": {},
   "outputs": [
    {
     "name": "stdout",
     "output_type": "stream",
     "text": [
      "The number -4.5 becomes -5.\n",
      "The number -3.5 becomes -4.\n",
      "The number -0.5 becomes -1.\n",
      "The number 0.5 becomes 0.\n",
      "The number 3.5 becomes 3.\n",
      "The number 4.5 becomes 4.\n"
     ]
    }
   ],
   "source": [
    "for number in example_numbers:\n",
    "    number_rounded = math.floor(number)\n",
    "\n",
    "    print(f'The number {number} becomes {number_rounded}.')"
   ]
  },
  {
   "cell_type": "markdown",
   "metadata": {},
   "source": [
    "---\n",
    "### The decimal library\n",
    "- https://docs.python.org/3/library/decimal.html: \"The decimal module provides support for fast correctly-rounded decimal floating point arithmetic.\"\n",
    "\n",
    "Rounding options:\n",
    "1. decimal.ROUND_CEILING $\\rightarrow$ Rounding up\n",
    "2. decimal.ROUND_FLOOR $\\rightarrow$ Rounding down\n",
    "3. decimal.ROUND_DOWN $\\rightarrow$ Truncation\n",
    "4. decimal.ROUND_UP $\\rightarrow$ Rounding away from zero\n",
    "5. decimal.ROUND_HALF_UP $\\rightarrow$ Rounding half away from zero\n",
    "6. decimal.ROUND_HALF_DOWN $\\rightarrow$ Rounding half towards zero\n",
    "7. decimal.ROUND_HALF_EVEN $\\rightarrow$ Rounding half to even\n",
    "8. decimal.ROUND_05UP $\\rightarrow$ Rounding towards zero, unless the last digit is 0 or 5 then round away from zero"
   ]
  },
  {
   "cell_type": "code",
   "execution_count": 13,
   "metadata": {
    "scrolled": true
   },
   "outputs": [],
   "source": [
    "import decimal\n",
    "from decimal import Decimal ## for improving readablility (otherwise, \"decimal.Decimal\")"
   ]
  },
  {
   "cell_type": "markdown",
   "metadata": {},
   "source": [
    "Let's see what the **default settings** of ```decimal``` are:"
   ]
  },
  {
   "cell_type": "code",
   "execution_count": 14,
   "metadata": {},
   "outputs": [
    {
     "data": {
      "text/plain": [
       "Context(prec=28, rounding=ROUND_HALF_EVEN, Emin=-999999, Emax=999999, capitals=1, clamp=0, flags=[], traps=[InvalidOperation, DivisionByZero, Overflow])"
      ]
     },
     "execution_count": 14,
     "metadata": {},
     "output_type": "execute_result"
    }
   ],
   "source": [
    "decimal.getcontext()"
   ]
  },
  {
   "cell_type": "markdown",
   "metadata": {},
   "source": [
    "Notice that the default rounding method is **ROUND_HALF_EVEN**.\n",
    "\n",
    "Let's look at how Decimal handles **floats** and **strings**:"
   ]
  },
  {
   "cell_type": "code",
   "execution_count": 15,
   "metadata": {},
   "outputs": [
    {
     "data": {
      "text/plain": [
       "Decimal('3.140000000000000124344978758017532527446746826171875')"
      ]
     },
     "execution_count": 15,
     "metadata": {},
     "output_type": "execute_result"
    }
   ],
   "source": [
    "Decimal(3.14)"
   ]
  },
  {
   "cell_type": "markdown",
   "metadata": {},
   "source": [
    "Side note: check the type that Decimal returns:"
   ]
  },
  {
   "cell_type": "code",
   "execution_count": 16,
   "metadata": {},
   "outputs": [
    {
     "data": {
      "text/plain": [
       "decimal.Decimal"
      ]
     },
     "execution_count": 16,
     "metadata": {},
     "output_type": "execute_result"
    }
   ],
   "source": [
    "type(Decimal(3.14))"
   ]
  },
  {
   "cell_type": "code",
   "execution_count": 17,
   "metadata": {},
   "outputs": [
    {
     "data": {
      "text/plain": [
       "Decimal('3.14')"
      ]
     },
     "execution_count": 17,
     "metadata": {},
     "output_type": "execute_result"
    }
   ],
   "source": [
    "Decimal('3.14')"
   ]
  },
  {
   "cell_type": "markdown",
   "metadata": {},
   "source": [
    "Okay, now let's look at what happens if we add the number to itself.\n",
    "\n",
    "We should get:\n",
    "\n",
    "3.14 + 3.14 = 6.28"
   ]
  },
  {
   "cell_type": "code",
   "execution_count": 18,
   "metadata": {
    "scrolled": true
   },
   "outputs": [
    {
     "data": {
      "text/plain": [
       "Decimal('6.280000000000000248689957516')"
      ]
     },
     "execution_count": 18,
     "metadata": {},
     "output_type": "execute_result"
    }
   ],
   "source": [
    "Decimal(3.14) + Decimal(3.14)"
   ]
  },
  {
   "cell_type": "code",
   "execution_count": 19,
   "metadata": {
    "scrolled": true
   },
   "outputs": [
    {
     "data": {
      "text/plain": [
       "Decimal('6.28')"
      ]
     },
     "execution_count": 19,
     "metadata": {},
     "output_type": "execute_result"
    }
   ],
   "source": [
    "Decimal('3.14') + Decimal('3.14')"
   ]
  },
  {
   "cell_type": "markdown",
   "metadata": {},
   "source": [
    "Therefore, using the string input approach for `Decimal` corrects the **floating-point representation error**."
   ]
  },
  {
   "cell_type": "markdown",
   "metadata": {},
   "source": [
    "---\n",
    "**Side note**: we can revisit the case of `0.1 + 0.1 + 0.1` for fun and completeness:"
   ]
  },
  {
   "cell_type": "code",
   "execution_count": 20,
   "metadata": {},
   "outputs": [
    {
     "data": {
      "text/plain": [
       "0.30000000000000004"
      ]
     },
     "execution_count": 20,
     "metadata": {},
     "output_type": "execute_result"
    }
   ],
   "source": [
    "0.1 + 0.1 + 0.1"
   ]
  },
  {
   "cell_type": "code",
   "execution_count": 21,
   "metadata": {},
   "outputs": [
    {
     "data": {
      "text/plain": [
       "Decimal('0.3')"
      ]
     },
     "execution_count": 21,
     "metadata": {},
     "output_type": "execute_result"
    }
   ],
   "source": [
    "Decimal('0.1') + Decimal('0.1') + Decimal('0.1')"
   ]
  },
  {
   "cell_type": "markdown",
   "metadata": {},
   "source": [
    "---\n",
    "#### Rounding with decimals library\n",
    "\n",
    "- done using ```quantized```:\n",
    "    - ```Decimal(value=\"0\", context=None).quantize(exp, rounding=None, context=None)```\n",
    "    \n",
    "    Decimal().quantize('0') --> ones place (e.g. 7)\n",
    "    \n",
    "    Decimal().quantize('0.0') --> ones and first decimal place (e.g. 7.1)\n",
    "    \n",
    "    Decimal().quantize('0.00') --> ones and first decimal place (e.g. 7.11)"
   ]
  },
  {
   "cell_type": "code",
   "execution_count": 22,
   "metadata": {},
   "outputs": [
    {
     "name": "stdout",
     "output_type": "stream",
     "text": [
      "The number -4.5 becomes -4.\n",
      "The number -3.5 becomes -4.\n",
      "The number -0.5 becomes -0.\n",
      "The number 0.5 becomes 0.\n",
      "The number 3.5 becomes 4.\n",
      "The number 4.5 becomes 4.\n"
     ]
    }
   ],
   "source": [
    "example_numbers = [-4.5, -3.5, -0.5, 0.5, 3.5, 4.5]\n",
    "\n",
    "for number in example_numbers:\n",
    "    number_rounded = Decimal(f'{number}').quantize(Decimal('0'))\n",
    "\n",
    "    print(f'The number {number} becomes {number_rounded}.')"
   ]
  },
  {
   "cell_type": "markdown",
   "metadata": {},
   "source": [
    "Thus, ```Decimal(value=\"0\", context=None).quantize(exp, rounding=None, context=None)```:\n",
    "- is **ROUND_HALF_EVEN**\n",
    "- even thought `rounding=None`\n",
    "\n",
    "Let's be more exact then and specify the rounding directly:"
   ]
  },
  {
   "cell_type": "code",
   "execution_count": 51,
   "metadata": {},
   "outputs": [
    {
     "name": "stdout",
     "output_type": "stream",
     "text": [
      "The number -4.5 becomes -4.\n",
      "The number -3.5 becomes -4.\n",
      "The number -0.5 becomes -0.\n",
      "The number 0.5 becomes 0.\n",
      "The number 3.5 becomes 4.\n",
      "The number 4.5 becomes 4.\n"
     ]
    }
   ],
   "source": [
    "example_numbers = [-4.5, -3.5, -0.5, 0.5, 3.5, 4.5]\n",
    "\n",
    "for number in example_numbers:\n",
    "    number_rounded = Decimal(f'{number}').quantize(Decimal('0'), rounding=\"ROUND_HALF_EVEN\")\n",
    "\n",
    "    print(f'The number {number} becomes {number_rounded}.')"
   ]
  },
  {
   "cell_type": "markdown",
   "metadata": {},
   "source": [
    "We can now **change** the **number of decimal places**"
   ]
  },
  {
   "cell_type": "code",
   "execution_count": 48,
   "metadata": {},
   "outputs": [
    {
     "name": "stdout",
     "output_type": "stream",
     "text": [
      "The number -4.55 becomes -4.5.\n",
      "The number -4.65 becomes -4.6.\n",
      "The number 4.55 becomes 4.6.\n",
      "The number 4.65 becomes 4.7.\n"
     ]
    }
   ],
   "source": [
    "example_demo = [-4.55, -4.65, 4.55, 4.65]\n",
    "\n",
    "for number in example_demo:\n",
    "    number_rounded = Decimal(f'{number}').quantize(Decimal('0.0'))\n",
    "\n",
    "    print(f'The number {number} becomes {number_rounded}.')"
   ]
  },
  {
   "cell_type": "code",
   "execution_count": 49,
   "metadata": {},
   "outputs": [
    {
     "name": "stdout",
     "output_type": "stream",
     "text": [
      "The number -4.055 becomes -4.05.\n",
      "The number -4.065 becomes -4.06.\n",
      "The number 4.055 becomes 4.06.\n",
      "The number 4.065 becomes 4.07.\n"
     ]
    }
   ],
   "source": [
    "example_demo = [-4.055, -4.065, 4.055, 4.065]\n",
    "\n",
    "for number in example_demo:\n",
    "    number_rounded = Decimal(f'{number}').quantize(Decimal('0.00'))\n",
    "\n",
    "    print(f'The number {number} becomes {number_rounded}.')"
   ]
  },
  {
   "cell_type": "markdown",
   "metadata": {},
   "source": [
    "Now let's change our rounding method to **rounding up** (i.e. ceiling)."
   ]
  },
  {
   "cell_type": "code",
   "execution_count": 26,
   "metadata": {},
   "outputs": [
    {
     "name": "stdout",
     "output_type": "stream",
     "text": [
      "Context(prec=28, rounding=ROUND_CEILING, Emin=-999999, Emax=999999, capitals=1, clamp=0, flags=[Inexact, FloatOperation, Rounded], traps=[InvalidOperation, DivisionByZero, Overflow])\n"
     ]
    }
   ],
   "source": [
    "decimal.getcontext().rounding = decimal.ROUND_CEILING\n",
    "print(decimal.getcontext())"
   ]
  },
  {
   "cell_type": "code",
   "execution_count": 50,
   "metadata": {},
   "outputs": [
    {
     "name": "stdout",
     "output_type": "stream",
     "text": [
      "The number -4.5 becomes -4.\n",
      "The number -3.5 becomes -3.\n",
      "The number -0.5 becomes -0.\n",
      "The number 0.5 becomes 1.\n",
      "The number 3.5 becomes 4.\n",
      "The number 4.5 becomes 5.\n"
     ]
    }
   ],
   "source": [
    "example_numbers = [-4.5, -3.5, -0.5, 0.5, 3.5, 4.5]\n",
    "\n",
    "for number in example_numbers:\n",
    "    number_rounded = Decimal(f'{number}').quantize(Decimal('1'))\n",
    "\n",
    "    print(f'The number {number} becomes {number_rounded}.')"
   ]
  },
  {
   "cell_type": "markdown",
   "metadata": {},
   "source": [
    "---\n",
    "**Side note**: earlier we saw that ```round(2.675, 2)``` resulted in **2.67**, not the correct value of **2.68**. Let's see what `Decimal.quantize` does:"
   ]
  },
  {
   "cell_type": "code",
   "execution_count": 52,
   "metadata": {},
   "outputs": [
    {
     "data": {
      "text/plain": [
       "Decimal('2.68')"
      ]
     },
     "execution_count": 52,
     "metadata": {},
     "output_type": "execute_result"
    }
   ],
   "source": [
    "Decimal(\"2.675\").quantize(Decimal(\"1.00\"))"
   ]
  },
  {
   "cell_type": "markdown",
   "metadata": {},
   "source": [
    "Therefore, we obtain the exact answer now (i.e. without the influence of floating point representation error).\n",
    "\n",
    "---\n",
    "Let now change the default **precision**. Precision here seem to be how many **digits** (i.e. not decimal places) are **available** for a number (default value is 28). **Note** that a number doesn't need to use as 28 digits, but they are there if needed."
   ]
  },
  {
   "cell_type": "code",
   "execution_count": 29,
   "metadata": {},
   "outputs": [
    {
     "data": {
      "text/plain": [
       "Decimal('1.571428571428571428571428572')"
      ]
     },
     "execution_count": 29,
     "metadata": {},
     "output_type": "execute_result"
    }
   ],
   "source": [
    "Decimal('11') / Decimal('7')"
   ]
  },
  {
   "cell_type": "markdown",
   "metadata": {},
   "source": [
    "Let's verify the precision by computing how characters the number has, which includes the decimal point:"
   ]
  },
  {
   "cell_type": "code",
   "execution_count": 30,
   "metadata": {},
   "outputs": [
    {
     "data": {
      "text/plain": [
       "29"
      ]
     },
     "execution_count": 30,
     "metadata": {},
     "output_type": "execute_result"
    }
   ],
   "source": [
    "len(str(Decimal('11') / Decimal('7')))"
   ]
  },
  {
   "cell_type": "code",
   "execution_count": 31,
   "metadata": {},
   "outputs": [
    {
     "data": {
      "text/plain": [
       "Decimal('1.58')"
      ]
     },
     "execution_count": 31,
     "metadata": {},
     "output_type": "execute_result"
    }
   ],
   "source": [
    "decimal.getcontext().prec=3\n",
    "Decimal('11') / Decimal('7')"
   ]
  },
  {
   "cell_type": "markdown",
   "metadata": {},
   "source": [
    "**Be careful**: This doesn't always alter the default settings of decimal. On my installed Jupyter-notebook (bug?), the default decimals revert back to 28. However, on Colaboratory the above command does alter the default settings."
   ]
  },
  {
   "cell_type": "code",
   "execution_count": 32,
   "metadata": {},
   "outputs": [
    {
     "data": {
      "text/plain": [
       "Decimal('1.58')"
      ]
     },
     "execution_count": 32,
     "metadata": {},
     "output_type": "execute_result"
    }
   ],
   "source": [
    "Decimal('11') / Decimal('7')"
   ]
  },
  {
   "cell_type": "code",
   "execution_count": 33,
   "metadata": {},
   "outputs": [
    {
     "data": {
      "text/plain": [
       "Context(prec=3, rounding=ROUND_CEILING, Emin=-999999, Emax=999999, capitals=1, clamp=0, flags=[Inexact, FloatOperation, Rounded], traps=[InvalidOperation, DivisionByZero, Overflow])"
      ]
     },
     "execution_count": 33,
     "metadata": {},
     "output_type": "execute_result"
    }
   ],
   "source": [
    "decimal.getcontext()"
   ]
  },
  {
   "cell_type": "markdown",
   "metadata": {},
   "source": [
    "---\n",
    "### The Numpy library (for consideration in the future when we do cover Numpy more)"
   ]
  },
  {
   "cell_type": "code",
   "execution_count": 34,
   "metadata": {
    "scrolled": false
   },
   "outputs": [
    {
     "name": "stdout",
     "output_type": "stream",
     "text": [
      "2.0\n",
      "\n",
      "1.5\n",
      "\n",
      "1.5\n"
     ]
    }
   ],
   "source": [
    "import numpy\n",
    "\n",
    "print( numpy.around(1.500) )\n",
    "print()\n",
    "print( numpy.around(1.500, decimals=1) )\n",
    "print()\n",
    "print( numpy.around(1.500, decimals=2) )"
   ]
  },
  {
   "cell_type": "code",
   "execution_count": 53,
   "metadata": {},
   "outputs": [
    {
     "name": "stdout",
     "output_type": "stream",
     "text": [
      "The number -4.5 becomes -4.0.\n",
      "The number -3.5 becomes -4.0.\n",
      "The number -0.5 becomes -0.0.\n",
      "The number 0.5 becomes 0.0.\n",
      "The number 3.5 becomes 4.0.\n",
      "The number 4.5 becomes 4.0.\n"
     ]
    }
   ],
   "source": [
    "example_numbers = [-4.5, -3.5, -0.5, 0.5, 3.5, 4.5]\n",
    "\n",
    "for number in example_numbers:\n",
    "    number_rounded = numpy.around(number)\n",
    "\n",
    "    print(f'The number {number} becomes {number_rounded}.')"
   ]
  },
  {
   "cell_type": "code",
   "execution_count": 54,
   "metadata": {},
   "outputs": [
    {
     "name": "stdout",
     "output_type": "stream",
     "text": [
      "The number -4.55 becomes -4.6.\n",
      "The number -4.65 becomes -4.6.\n",
      "The number -0.05 becomes -0.0.\n",
      "The number 0.05 becomes 0.0.\n",
      "The number 4.55 becomes 4.6.\n",
      "The number 4.65 becomes 4.6.\n"
     ]
    }
   ],
   "source": [
    "example_demo = [-4.55, -4.65, -0.05, 0.05, 4.55, 4.65]\n",
    "\n",
    "for number in example_demo:\n",
    "    number_rounded = numpy.around(number, decimals=1)\n",
    "    \n",
    "    print(f'The number {number} becomes {number_rounded}.')"
   ]
  },
  {
   "cell_type": "markdown",
   "metadata": {},
   "source": [
    "Thus, Numpy's `around` function is using the round to even method.\n",
    "\n",
    "How about if we want to rounding up (ceiling) and down (floor) to the one's place? Numpy has that too.\n",
    "\n",
    "Rounding Up:"
   ]
  },
  {
   "cell_type": "code",
   "execution_count": 55,
   "metadata": {},
   "outputs": [
    {
     "name": "stdout",
     "output_type": "stream",
     "text": [
      "The number -4.55 becomes -4.0.\n",
      "The number -4.65 becomes -4.0.\n",
      "The number -0.05 becomes -0.0.\n",
      "The number 0.05 becomes 1.0.\n",
      "The number 4.55 becomes 5.0.\n",
      "The number 4.65 becomes 5.0.\n"
     ]
    }
   ],
   "source": [
    "for number in example_demo:\n",
    "    number_rounded = numpy.ceil(number)\n",
    "    \n",
    "    print(f'The number {number} becomes {number_rounded}.')"
   ]
  },
  {
   "cell_type": "markdown",
   "metadata": {},
   "source": [
    "Rounding Down:"
   ]
  },
  {
   "cell_type": "code",
   "execution_count": 56,
   "metadata": {},
   "outputs": [
    {
     "name": "stdout",
     "output_type": "stream",
     "text": [
      "The number -4.55 becomes -5.0.\n",
      "The number -4.65 becomes -5.0.\n",
      "The number -0.05 becomes -1.0.\n",
      "The number 0.05 becomes 0.0.\n",
      "The number 4.55 becomes 4.0.\n",
      "The number 4.65 becomes 4.0.\n"
     ]
    }
   ],
   "source": [
    "for number in example_demo:\n",
    "    number_rounded = numpy.floor(number)\n",
    "    \n",
    "    print(f'The number {number} becomes {number_rounded}.')"
   ]
  },
  {
   "cell_type": "markdown",
   "metadata": {},
   "source": [
    "---\n",
    "Now, there is one more way to consider...\n",
    "\n",
    "### Formating print statements containing floats\n",
    "\n",
    "https://docs.python.org/3.1/library/string.html#grammar-token-precision"
   ]
  },
  {
   "cell_type": "code",
   "execution_count": 80,
   "metadata": {},
   "outputs": [
    {
     "name": "stdout",
     "output_type": "stream",
     "text": [
      "3.45, 3.55001, 3e+11\n"
     ]
    }
   ],
   "source": [
    "## g: General format\n",
    "##    - fixed point or exponential\n",
    "print(f'{3.4500045:g}, {3.5500055:g}, {300000000005:g}')"
   ]
  },
  {
   "cell_type": "code",
   "execution_count": 72,
   "metadata": {},
   "outputs": [
    {
     "name": "stdout",
     "output_type": "stream",
     "text": [
      "3.5, 3.5, -3.5, -3.5, 300000000005.0\n"
     ]
    }
   ],
   "source": [
    "## f: Fixed point\n",
    "## rounding to odd number\n",
    "##    demo: change 1f to 3f in on value\n",
    "print(f'{3.45:0.1f}, {3.55:0.1f}, {-3.45:0.1f}, {-3.55:0.1f}, {300000000005:0.1f}')"
   ]
  },
  {
   "cell_type": "code",
   "execution_count": 73,
   "metadata": {},
   "outputs": [
    {
     "name": "stdout",
     "output_type": "stream",
     "text": [
      "The number -4.5 becomes -4.\n",
      "The number -3.5 becomes -4.\n",
      "The number -0.5 becomes -0.\n",
      "The number 0.5 becomes 0.\n",
      "The number 3.5 becomes 4.\n",
      "The number 4.5 becomes 4.\n"
     ]
    }
   ],
   "source": [
    "example_numbers = [-4.5, -3.5, -0.5, 0.5, 3.5, 4.5]\n",
    "\n",
    "\n",
    "for number in example_numbers:\n",
    "    print(f'The number {number} becomes {number:0.0f}.')"
   ]
  },
  {
   "cell_type": "markdown",
   "metadata": {},
   "source": [
    "Seems to be **round to even**.\n",
    "\n",
    "However, consider the following:"
   ]
  },
  {
   "cell_type": "code",
   "execution_count": 70,
   "metadata": {},
   "outputs": [
    {
     "name": "stdout",
     "output_type": "stream",
     "text": [
      "The number -4.55 becomes -4.5.\n",
      "The number -4.65 becomes -4.7.\n",
      "The number -0.05 becomes -0.1.\n",
      "The number 0.05 becomes 0.1.\n",
      "The number 4.55 becomes 4.5.\n",
      "The number 4.65 becomes 4.7.\n"
     ]
    }
   ],
   "source": [
    "example_demo = [-4.55, -4.65, -0.05, 0.05, 4.55, 4.65]\n",
    "\n",
    "for number in example_demo:\n",
    "    print(f'The number {number} becomes {number:0.1f}.')"
   ]
  },
  {
   "cell_type": "markdown",
   "metadata": {},
   "source": [
    "Now the behavour of formatting stings is **round to odd**."
   ]
  },
  {
   "cell_type": "code",
   "execution_count": 69,
   "metadata": {},
   "outputs": [
    {
     "name": "stdout",
     "output_type": "stream",
     "text": [
      "3.5e+00, 3.5e+00, 3.0e+11\n"
     ]
    }
   ],
   "source": [
    "## e: Exponent notation\n",
    "## rounding to odd number\n",
    "print(f'{3.45:0.1e}, {3.55:0.1e}, {300000000005:0.1e}')"
   ]
  },
  {
   "cell_type": "markdown",
   "metadata": {},
   "source": [
    "However, I'm not sure why 300000000005 -> 3.0e+11 and not 3.1e+11"
   ]
  },
  {
   "cell_type": "code",
   "execution_count": 74,
   "metadata": {},
   "outputs": [
    {
     "name": "stdout",
     "output_type": "stream",
     "text": [
      "The number -4.55 becomes -4.5e+00.\n",
      "The number -4.65 becomes -4.7e+00.\n",
      "The number -0.05 becomes -5.0e-02.\n",
      "The number 0.05 becomes 5.0e-02.\n",
      "The number 4.55 becomes 4.5e+00.\n",
      "The number 4.65 becomes 4.7e+00.\n"
     ]
    }
   ],
   "source": [
    "example_demo = [-4.55, -4.65, -0.05, 0.05, 4.55, 4.65]\n",
    "\n",
    "for number in example_demo:\n",
    "    print(f'The number {number} becomes {number:0.1e}.')"
   ]
  },
  {
   "cell_type": "markdown",
   "metadata": {},
   "source": [
    "Notice how **0.05** went to **5.0e-02** - i.e. a **gain of 1 sigfig**.\n",
    "\n",
    "Even worse in the examples below:\n",
    "1. 15 becomes 15.00 (i.e. a gain of sigfigs)\n",
    "2. 1.555e-9 becomes 0.00 (ie. a loss of sigfigs)"
   ]
  },
  {
   "cell_type": "code",
   "execution_count": 75,
   "metadata": {},
   "outputs": [
    {
     "name": "stdout",
     "output_type": "stream",
     "text": [
      "When rounded to 2 decimals, the number 1.55 becomes 1.55.\n",
      "When rounded to 2 decimals, the number 15 becomes 15.00.\n",
      "When rounded to 2 decimals, the number 1.555e-09 becomes 0.00.\n"
     ]
    }
   ],
   "source": [
    "number_list = [1.55, 15, 1.555E-9]\n",
    "\n",
    "for number in number_list:\n",
    "    print(f'When rounded to 2 decimals, the number {number} becomes {number:0.2f}.')"
   ]
  },
  {
   "cell_type": "code",
   "execution_count": 77,
   "metadata": {},
   "outputs": [
    {
     "name": "stdout",
     "output_type": "stream",
     "text": [
      "When rounded to 2 decimals, the number 1.55 becomes 1.6.\n",
      "When rounded to 2 decimals, the number 15 becomes 15.\n",
      "When rounded to 2 decimals, the number 1.555e-09 becomes 1.6e-09.\n"
     ]
    }
   ],
   "source": [
    "for number in number_list:\n",
    "    print(f'When rounded to 2 decimals, the number {number} becomes {number:0.2g}.')"
   ]
  },
  {
   "cell_type": "markdown",
   "metadata": {},
   "source": [
    "So at least that is a little better."
   ]
  },
  {
   "cell_type": "markdown",
   "metadata": {},
   "source": [
    "## Take-home message\n",
    "\n",
    "You have **think critically** about what you are doing and what your final goal is.\n",
    "\n",
    "In other words, don't blindly take information that you find quickly and blindly use it.\n",
    "\n",
    "**Create short test codes** to **verify** that **'what you think you are doing'** is actually **'what you are doing!'**\n",
    "\n",
    "Consider using ```decimals``` or ```numpy.around``` (once we get to Numpy)."
   ]
  },
  {
   "cell_type": "markdown",
   "metadata": {},
   "source": [
    "#### Sources:\n",
    "1. https://docs.python.org/3/library/decimal.html#decimal.Decimal\n",
    "2. https://realpython.com/python-rounding/#the-decimal-class"
   ]
  },
  {
   "cell_type": "code",
   "execution_count": null,
   "metadata": {},
   "outputs": [],
   "source": []
  }
 ],
 "metadata": {
  "kernelspec": {
   "display_name": "Python 3 (ipykernel)",
   "language": "python",
   "name": "python3"
  },
  "language_info": {
   "codemirror_mode": {
    "name": "ipython",
    "version": 3
   },
   "file_extension": ".py",
   "mimetype": "text/x-python",
   "name": "python",
   "nbconvert_exporter": "python",
   "pygments_lexer": "ipython3",
   "version": "3.8.10"
  }
 },
 "nbformat": 4,
 "nbformat_minor": 2
}
