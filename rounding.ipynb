{
 "cells": [
  {
   "cell_type": "markdown",
   "metadata": {},
   "source": [
    "<div class=\"alert block alert-info alert\">\n",
    "\n",
    "# <center> Scientific Programming in Python\n",
    "## <center>Karl N. Kirschner<br>Bonn-Rhein-Sieg University of Applied Sciences<br>Sankt Augustin, Germany\n",
    "\n",
    "# <center> Rounding Numbers\n",
    "#### <center> (Reporting the correct number of significant figures.)</center>\n",
    "\n",
    "#### Sources\n",
    "1. https://docs.python.org/3/library/functions.html#round\n",
    "2. https://docs.python.org/3/library/decimal.html#decimal.Decimal\n",
    "3. https://realpython.com/python-rounding/#the-decimal-class\n",
    "4. https://docs.python.org/3/library/math.html\n",
    "5. https://docs.python.org/3/library/decimal.html\n",
    "6. https://numpy.org/doc/stable/reference/generated/numpy.around.html\n",
    "7. https://numpy.org/doc/stable/reference/generated/numpy.ceil.html\n",
    "8. https://numpy.org/doc/stable/reference/generated/numpy.floor.html\n",
    "9. https://docs.python.org/3.1/library/string.html#grammar-token-precision\n",
    "<hr style=\"border:2px solid gray\"></hr>"
   ]
  },
  {
   "cell_type": "code",
   "execution_count": null,
   "metadata": {},
   "outputs": [],
   "source": [
    "## For extra information given within the lectures\n",
    "\n",
    "from IPython.display import HTML\n",
    "\n",
    "\n",
    "def set_code_background(color: str):\n",
    "    ''' Set the background color for code cells.\n",
    "\n",
    "        Source: psychemedia via https://stackoverflow.com/questions/49429585/\n",
    "                how-to-change-the-background-color-of-a-single-cell-in-a-jupyter-notebook-jupy\n",
    "\n",
    "        To match Jupyter's dev class colors:\n",
    "            \"alert alert-block alert-warning\" = #fcf8e3\n",
    "\n",
    "        Args:\n",
    "            color: HTML color, rgba, hex\n",
    "    '''\n",
    "\n",
    "    script = (\"var cell = this.closest('.code_cell');\"\n",
    "              \"var editor = cell.querySelector('.input_area');\"\n",
    "              f\"editor.style.background='{color}';\"\n",
    "              \"this.parentNode.removeChild(this)\")\n",
    "    display(HTML(f'<img src onerror=\"{script}\">'))\n",
    "\n",
    "\n",
    "set_code_background(color='#fcf8e3')"
   ]
  },
  {
   "cell_type": "markdown",
   "metadata": {},
   "source": [
    "#### <center> Don't Scroll Down Yet...</center>\n",
    "\n",
    "**Question**: How would you round **-2.45** to the **first decimal place**?\n",
    "\n",
    "<!-- (Everyone type in their number in the \"Chat box.\") -->\n",
    "<br><br><b>\n",
    "<br><br><b>\n",
    "<br><br><b>\n",
    "\n",
    "<br><br><b>\n",
    "<br><br><b>\n",
    "<br><br><b>\n",
    "\n",
    "<br><br><b>\n",
    "<br><br><b>\n",
    "<br><br><b>\n",
    "\n",
    "<br><br><b>\n",
    "<br><br><b>\n",
    "<br><br><b>\n",
    "\n",
    "<br><br><b>\n",
    "<br><br><b>\n",
    "<br><br><b>\n",
    "\n",
    "<br><br><b>\n",
    "<br><br><b>\n",
    "<br><br><b>\n",
    "\n",
    "<br><br><b>\n",
    "<br><br><b>\n",
    "<br><br><b>"
   ]
  },
  {
   "cell_type": "markdown",
   "metadata": {},
   "source": [
    "<hr style=\"border:2px solid gray\"></hr>\n",
    "\n",
    "## Conceptual ideas\n",
    "\n",
    "- <font color='dodgerblue'><b>Critical thinking</b></font> is needed when rounding numbers whose last digit is a <font color='dodgerblue'>**5**</font> since it lies in the middle of the basic number series:\n",
    "\n",
    "<br>\n",
    "\n",
    "<b><font color='Brown'>0, 1, 2, 3, 4</font> -- <font color='dodgerblue'>5</font> -- <font color='Brown'>6, 7, 8, 9, 10</font></b>.\n",
    "\n",
    "\n",
    "<br> So...<font color='dodgerblue'>should it be associated with the smaller or larger numbers?</font>\n",
    "\n",
    "\n",
    "- The <b>act of rounding</b> can introduce a <b>bias</b> into your numbers (especially when working with large data sets).\n",
    "\n",
    "<br>\n",
    "\n",
    "What we will do next is:\n",
    "1. <b>create</b> a small number list,\n",
    "    - take their <b>mean</b> \n",
    "2. <b>round them <font color='dodgerblue'>up</font></b> to the one's place (<b>manually</b> - by hand),\n",
    "    - take their <b>mean</b> \n",
    "3. <b>round them <font color='dodgerblue'>down</font></b> to the one's place (<b>manually</b>),\n",
    "    - take their <b>mean</b>\n",
    "\n",
    "- Use the `statistics` library since it allows us to easily compute the mean."
   ]
  },
  {
   "cell_type": "code",
   "execution_count": null,
   "metadata": {},
   "outputs": [],
   "source": [
    "import statistics"
   ]
  },
  {
   "cell_type": "markdown",
   "metadata": {},
   "source": [
    "Consider <b>11</b> numbers that range from <b>0.5 -- 10.5</b> in <b>1.0</b> increments.\n",
    "\n",
    "1. Create the number list:"
   ]
  },
  {
   "cell_type": "code",
   "execution_count": null,
   "metadata": {},
   "outputs": [],
   "source": [
    "input_numbers = [number+0.5 for number in range(0, 11, 1)]\n",
    "\n",
    "print(f'Unrounded Numbers: {input_numbers}')\n",
    "print(f'Mean: {statistics.mean(input_numbers)}')"
   ]
  },
  {
   "cell_type": "markdown",
   "metadata": {},
   "source": [
    "2. <b>Rounding</b> the numbers <b>up</b> (manually):\n",
    "\n",
    "(i.e., 1.0 -- 11.0 in 1.0 increments)"
   ]
  },
  {
   "cell_type": "code",
   "execution_count": null,
   "metadata": {},
   "outputs": [],
   "source": [
    "round_up = [number for number in range(1, 12, 1)]\n",
    "\n",
    "print(f'Rounded Up Numbers: {round_up}')\n",
    "print(f'Mean: {statistics.mean(round_up)}')"
   ]
  },
  {
   "cell_type": "markdown",
   "metadata": {},
   "source": [
    "3. <b>Rounding</b> the numbers <b>down</b> (manually):\n",
    "\n",
    "(i.e., 0.0 -- 10.0 in 1.0 increments)"
   ]
  },
  {
   "cell_type": "code",
   "execution_count": null,
   "metadata": {},
   "outputs": [],
   "source": [
    "round_down = [number for number in range(0, 11, 1)]\n",
    "\n",
    "print(f'Rounded Down Numbers: {round_down}')\n",
    "print(f'Mean: {statistics.mean(round_down)}')"
   ]
  },
  {
   "cell_type": "markdown",
   "metadata": {},
   "source": [
    "<b>Results Summary</b>\n",
    "\n",
    "We observed that:\n",
    "1. <b>Unrounded</b> mean is <b>5.5</b>\n",
    "2. <b>Rouding Up</b> leads to a <b>mean of 6.0</b>\n",
    "3. <b>Rounding Down</b> leads to a <b>mean of 5.0</b>\n",
    "\n",
    "<font color='dodgerblue'><b>Therefore, the approach used to round numbers may</b></font> <font color='red'><b>result in a bias.</b></font>"
   ]
  },
  {
   "cell_type": "markdown",
   "metadata": {},
   "source": [
    "<hr style=\"border:2px solid gray\"></hr>\n",
    "\n",
    "## Conceptual approaches for rounding numbers\n",
    "\n",
    "### 1. Bias methods\n",
    "\n",
    "<font color='dodgerblue'><b>Round Half Up</b></font> (i.e., bias towards <b>more positive</b>)\n",
    "1.  7.6 $\\rightarrow$ 8\n",
    "2. <b>7.5 $\\rightarrow$ 8</b>\n",
    "3. 7.4 $\\rightarrow$ 7\n",
    "   \n",
    "<br>\n",
    "\n",
    "5. -7.4 $\\rightarrow$ -7\n",
    "6. <b>-7.5 $\\rightarrow$ -7</b>\n",
    "7. -7.6 $\\rightarrow$ -8\n",
    "\n",
    "<font color='dodgerblue'><b>Round Half Down</b></font> (i.e., bias towards <b>more negative</b>)\n",
    "1.  7.5 $\\rightarrow$  7\n",
    "2. -7.5 $\\rightarrow$ -8\n",
    "\n",
    "<font color='dodgerblue'><b>Round Half To Zero</b></font> (i.e., bias towards <b>zero</b>)\n",
    "1.  7.5 $\\rightarrow$  7\n",
    "2. -7.5 $\\rightarrow$ -7\n",
    "\n",
    "<font color='dodgerblue'><b>Round Half Away from Zero</b></font> (i.e., bias towards <b>$\\pm \\infty$</b>)\n",
    "1. 7.5 $\\rightarrow$  8\n",
    "2. -7.5 $\\rightarrow$ -8\n",
    "\n",
    "Additional information:\n",
    "\n",
    "https://en.wikipedia.org/wiki/Rounding"
   ]
  },
  {
   "cell_type": "markdown",
   "metadata": {},
   "source": [
    "### 2. Unbias methods (i.e. free from positive/negative bias and bias toward/away from zero)\n",
    "\n",
    "<font color='dodgerblue'><b>Round Half To Even</b></font> (i.e. zero is considered evenly distributed)\n",
    "1.  7.5 $\\rightarrow$  8\n",
    "2.  8.5 $\\rightarrow$  8\n",
    "\n",
    "<br>\n",
    "\n",
    "3. -7.5 $\\rightarrow$ -8\n",
    "4. -8.5 $\\rightarrow$ -8\n",
    "\n",
    "\n",
    "<font color='dodgerblue'><b>Round Half To Odd</b></font> (i.e. zero is considered evenly distributed)\n",
    "1.  7.5 $\\rightarrow$  7\n",
    "2.  8.5 $\\rightarrow$  9\n",
    "\n",
    "<br>\n",
    "\n",
    "3. -7.5 $\\rightarrow$ -7\n",
    "4. -8.5 $\\rightarrow$ -9\n",
    "\n",
    "<br><br>\n",
    "\n",
    "#### Visual clarification of bias and unbias methods"
   ]
  },
  {
   "cell_type": "markdown",
   "metadata": {},
   "source": [
    "![rounding](00_images/rounding_bias.png)"
   ]
  },
  {
   "cell_type": "markdown",
   "metadata": {},
   "source": [
    "<hr style=\"border:2px solid gray\"></hr>\n",
    "\n",
    "## Different approaches within Python"
   ]
  },
  {
   "cell_type": "markdown",
   "metadata": {},
   "source": [
    "### 1. Python's built-in function `round`\n",
    "\n",
    "- https://docs.python.org/3/library/functions.html#round\n",
    "\n",
    "Using the numbers that are exemplified in the above figure:"
   ]
  },
  {
   "cell_type": "code",
   "execution_count": null,
   "metadata": {},
   "outputs": [],
   "source": [
    "example_numbers = [-4.5, -3.5, -0.5, 0.5, 3.5, 4.5]\n",
    "\n",
    "for number in example_numbers:\n",
    "    number_rounded = round(number)\n",
    "\n",
    "    print(f'The number {number} rounds to {number_rounded}.')"
   ]
  },
  {
   "cell_type": "markdown",
   "metadata": {},
   "source": [
    "<b>Thus</b>, Python3's built-in <b>`round`</b> function uses <font color='dodgerblue'><b>Round Half To Even</b></font> to the ones place (by default).\n",
    "- From the <b>doc's page</b> (https://docs.python.org/3/library/functions.html#round): \"... rounding is done toward the even choice ...\"\n",
    "<br><br>\n",
    "\n",
    "\n",
    "What happens if we push it slightly over 4.5?"
   ]
  },
  {
   "cell_type": "code",
   "execution_count": null,
   "metadata": {},
   "outputs": [],
   "source": [
    "round(4.51)"
   ]
  },
  {
   "cell_type": "markdown",
   "metadata": {},
   "source": [
    "So, the behavior is correct: the value is a <b>little greater</b> than four-and-a-half (i.e., $4.51 > 4.5$), it should <b>round up</b>.\n",
    "\n",
    "<br>"
   ]
  },
  {
   "cell_type": "markdown",
   "metadata": {},
   "source": [
    "<b>Notice</b> how `round` returns the <b>integer value</b> of the float above by default.\n",
    "\n",
    "Alternatively, one can specify (and <b>should do so</b> for <b>clarity</b>) the number of <b>decimal places</b> using <b>`round(number[, ndigits])`</b>.\n",
    "\n",
    "However, this does <b>odd things</b> to the number of digits that are returned (i.e., <b>significant figures</b>).\n",
    "- First, show <b>correct</b> results\n",
    "  - Let's round **-0.055** and **0.055** to the **second decimal place** (i.e., to have **1 sigfig**):"
   ]
  },
  {
   "cell_type": "code",
   "execution_count": null,
   "metadata": {},
   "outputs": [],
   "source": [
    "numbers_demo_expected = [-0.055, 0.055]\n",
    "\n",
    "for number in numbers_demo_expected:\n",
    "    number_rounded = round(number, 2)\n",
    "\n",
    "    print(f'When rounded to 2 decimals, the number {number} rounds to: {number_rounded}')"
   ]
  },
  {
   "cell_type": "markdown",
   "metadata": {},
   "source": [
    "The results are as expected.\n",
    "\n",
    "- Now showing <b>incorrect</b> results\n",
    "    - round **10** and **0.055E-9** to the second decimal place."
   ]
  },
  {
   "cell_type": "code",
   "execution_count": null,
   "metadata": {},
   "outputs": [],
   "source": [
    "numbers_demo_questionable = [10, 0.055E-9]\n",
    "\n",
    "for number in numbers_demo_questionable:\n",
    "    number_rounded = round(number, 2)\n",
    "    \n",
    "    print(f'When rounded to 2 decimals, the number {number} rounds to: {number_rounded}')"
   ]
  },
  {
   "cell_type": "markdown",
   "metadata": {},
   "source": [
    "Notice two things:\n",
    "\n",
    "1. <b>10</b>, which as no decimals initially -- and thus has an <b>uncertain number of significant figures</b> -- stays as 10\n",
    "\n",
    "   - In principle, this is good since the input did not have decimal places.\n",
    "   - However it doesn't provide decimal places even though we specified 2 in the function call.\n",
    "\n",
    "<br>\n",
    "\n",
    "2. However, the function `round` returned <b>0.0</b> for <b>0.055E-9</b>\n",
    "    - The scientifically <b>correct</b> answer is <font color='dodgerblue'><b>0.06E-9</b></font> (a.k.a., <b>0.6E-10</b> or <b>6.E-11</b>),\n",
    "    - which means we <font color='dodgerblue'><b>lost</b></font> some data <b>information</b>."
   ]
  },
  {
   "cell_type": "markdown",
   "metadata": {},
   "source": [
    "<br><br>\n",
    "<b>Furthermore</b>, notice the following weird result when we round <b>2.675</b> to <b>two decimal places</b>."
   ]
  },
  {
   "cell_type": "code",
   "execution_count": null,
   "metadata": {},
   "outputs": [],
   "source": [
    "round(2.675, 2)"
   ]
  },
  {
   "cell_type": "markdown",
   "metadata": {},
   "source": [
    "The `round(2.675, 2)` should result in <font color='dodgerblue'>**2.68**</font> (i.e., <font color='dodgerblue'><b>Round Half To Even</b></font>). Instead we obtained <font color='red'>**2.67**</font>!\n",
    "<br><br>\n",
    "\n",
    "How about a negative number? <b>Rounding up</b> of **-4.45** to the first decimal should give **-4.4**:"
   ]
  },
  {
   "cell_type": "code",
   "execution_count": null,
   "metadata": {},
   "outputs": [],
   "source": [
    "round(-4.45, 1)"
   ]
  },
  {
   "cell_type": "markdown",
   "metadata": {},
   "source": [
    "Two more examples of weirdness that helps us understand what is happening:"
   ]
  },
  {
   "cell_type": "code",
   "execution_count": null,
   "metadata": {},
   "outputs": [],
   "source": [
    "0.1 + 0.1 + 0.1"
   ]
  },
  {
   "cell_type": "markdown",
   "metadata": {},
   "source": [
    "In the following, we are adding numbers that should result in zero (i.e., 0.0):"
   ]
  },
  {
   "cell_type": "code",
   "execution_count": null,
   "metadata": {},
   "outputs": [],
   "source": [
    "(0.1 + 0.1 + 0.1) - 0.3"
   ]
  },
  {
   "cell_type": "markdown",
   "metadata": {},
   "source": [
    "Why?\n",
    "\n",
    "Reason: <font color='dodgerblue'><b>floating-point representation error</b></font> (https://docs.python.org/3/tutorial/floatingpoint.html)\n",
    "\n",
    "This is not a Python issue, but comes from how computers store floating-point numbers in memory."
   ]
  },
  {
   "cell_type": "markdown",
   "metadata": {},
   "source": [
    "**Take-home messages:**\n",
    "\n",
    "- Test your code to make sure it does what you think it does.\n",
    "\n",
    "- From a perspective of being exact and correct, floating-point representation error is something that one needs to be aware of -- particularly when significant figures are important -- when developing code for scientific usage."
   ]
  },
  {
   "cell_type": "markdown",
   "metadata": {},
   "source": [
    "<hr style=\"border:2px solid gray\"></hr>\n",
    "\n",
    "### 2. Python's math library (with examples)\n",
    "\n",
    "- A <b>simple built-in (i.e. Standard) library</b> (i.e., low overhead)\n",
    "\n",
    "- https://docs.python.org/3/library/math.html\n",
    "\n",
    "- Enable you to round up or down:\n",
    "    - `math.ceil` (ceiling): <b>Round Up</b>\n",
    "    - `math.floor`: <b>Round Down</b>\n",
    "\n",
    "Both functions return only an <b>integer</b> value."
   ]
  },
  {
   "cell_type": "code",
   "execution_count": null,
   "metadata": {},
   "outputs": [],
   "source": [
    "import math\n",
    "\n",
    "example_numbers = [-4.5, -3.5, -0.5, 0.5, 3.5, 4.5]"
   ]
  },
  {
   "cell_type": "code",
   "execution_count": null,
   "metadata": {},
   "outputs": [],
   "source": [
    "for number in example_numbers:\n",
    "    number_rounded = math.ceil(number)\n",
    "\n",
    "    print(f'The number {number} rounds to {number_rounded}.')"
   ]
  },
  {
   "cell_type": "markdown",
   "metadata": {},
   "source": [
    "`math.ceil` rounds <b>all</b> numbers to more <font color='dodgerblue'><b>positive</b></font> values - <b>rounding up</b>."
   ]
  },
  {
   "cell_type": "code",
   "execution_count": null,
   "metadata": {},
   "outputs": [],
   "source": [
    "for number in example_numbers:\n",
    "    number_rounded = math.floor(number)\n",
    "\n",
    "    print(f'The number {number} rounds to {number_rounded}.')"
   ]
  },
  {
   "cell_type": "markdown",
   "metadata": {},
   "source": [
    "`math.floor` rounds <b>all</b> numbers to more <font color='dodgerblue'><b>negative</b></font> values - <b>rounding down</b>."
   ]
  },
  {
   "cell_type": "markdown",
   "metadata": {},
   "source": [
    "<b>Take-home messages:</b>\n",
    "\n",
    "- The term <b>\"Rounding up\"</b> that you were originally taught, is also called <b>\"round ceiling\"</b>."
   ]
  },
  {
   "cell_type": "markdown",
   "metadata": {},
   "source": [
    "<hr style=\"border:2px solid gray\"></hr>\n",
    "\n",
    "### 3. The decimal library\n",
    "- Another standard built-in library\n",
    "\n",
    "- Very <font color='dodgerblue'>accurate</font> computations\n",
    "\n",
    "- https://docs.python.org/3/library/decimal.html\n",
    "    - \"The decimal module provides support for fast <b>correctly-rounded decimal floating point arithmetic</b>.\"\n",
    "    - Can be passed a number that is either a float (e.g. `3.14`, or a string (e.g. `'3.14'`)\n",
    "        - The <font color='dodgerblue'><b>string approach</b></font> allows us to <b>correct</b> for the <font color='dodgerblue'><b>floating-point representation error</b></font>\n",
    "\n",
    "Rounding options:\n",
    "1. ROUND_CEILING $\\rightarrow$ Round towards positive infinity\n",
    "2. ROUND_FLOOR $\\rightarrow$ Round towards negative infinity \n",
    "3. ROUND_DOWN $\\rightarrow$ Round all number towards zero (e.g. 1.234 → 1.23)\n",
    "4. ROUND_UP $\\rightarrow$ Rounding all numbers away from zero (e.g. 1.234 → 1.24)\n",
    "5. ROUND_HALF_UP $\\rightarrow$ Rounding half away from zero\n",
    "6. ROUND_HALF_DOWN $\\rightarrow$ Rounding half towards zero\n",
    "7. <b>ROUND_HALF_EVEN</b> (<font color='dodgerblue'><b>default</b></font>) $\\rightarrow$ Rounding half to even\n",
    "8. ROUND_05UP $\\rightarrow$ Rounding towards zero, unless the digit immediately after the last digit to be retained is 0 or 5. If it is 0 or 5, round away from zero.\n",
    "\n",
    "Notice that the <font color='dodgerblue'><b>default</b></font> rounding method is <b>ROUND_HALF_EVEN</b>."
   ]
  },
  {
   "cell_type": "code",
   "execution_count": null,
   "metadata": {},
   "outputs": [],
   "source": [
    "import decimal\n",
    "from decimal import Decimal"
   ]
  },
  {
   "cell_type": "markdown",
   "metadata": {},
   "source": [
    "#### decimal library: floats and strings usage\n",
    "\n",
    "Let's first consider how `decimal.Decimal` handles\n",
    "- <b>floats</b> and\n",
    "- <b>strings</b>\n",
    "\n",
    "<b>Floats</b>:"
   ]
  },
  {
   "cell_type": "code",
   "execution_count": null,
   "metadata": {},
   "outputs": [],
   "source": [
    "Decimal(3.14)"
   ]
  },
  {
   "cell_type": "markdown",
   "metadata": {},
   "source": [
    "<b>Strings</b>:"
   ]
  },
  {
   "cell_type": "code",
   "execution_count": null,
   "metadata": {},
   "outputs": [],
   "source": [
    "Decimal('3.14')"
   ]
  },
  {
   "cell_type": "code",
   "execution_count": null,
   "metadata": {},
   "outputs": [],
   "source": [
    "type(Decimal('3.14'))"
   ]
  },
  {
   "cell_type": "markdown",
   "metadata": {},
   "source": [
    "Now let's look at what happens if we do some <b>mathematics</b> (i.e., adding the number to itself).\n",
    "\n",
    "We should get:\n",
    "\n",
    "<font color='dodgerblue'>3.14 + 3.14 = 6.28</font>"
   ]
  },
  {
   "cell_type": "markdown",
   "metadata": {},
   "source": [
    "Using floats:"
   ]
  },
  {
   "cell_type": "code",
   "execution_count": null,
   "metadata": {},
   "outputs": [],
   "source": [
    "Decimal(3.14) + Decimal(3.14)"
   ]
  },
  {
   "cell_type": "markdown",
   "metadata": {},
   "source": [
    "And when we use strings:"
   ]
  },
  {
   "cell_type": "code",
   "execution_count": null,
   "metadata": {},
   "outputs": [],
   "source": [
    "Decimal('3.14') + Decimal('3.14')"
   ]
  },
  {
   "cell_type": "markdown",
   "metadata": {},
   "source": [
    "Therefore, using the <b>string input</b> approach with <b>`decimal.Decimal`</b> <font color='dodgerblue'><b>corrects</b></font> the <font color='dodgerblue'><b>floating-point representation error</b></font>."
   ]
  },
  {
   "cell_type": "markdown",
   "metadata": {},
   "source": [
    "#### Decimals Library: Rounding\n",
    "\n",
    "- <b>Rounding</b> is done with `decimal.Decimal.quantize`\n",
    "    - ```Decimal(value=\"0\", context=None).quantize(exp, rounding=None, context=None)``` \n",
    "- Returns a `decimal.Decimal` object\n",
    "\n",
    "<br>\n",
    "\n",
    "- Decimal().quantize('0') $\\rightarrow$ ones place (e.g., 7)\n",
    "- Decimal().quantize('0.0') $\\rightarrow$ ones and first decimal place (e.g., 7.1)\n",
    "- Decimal().quantize('0.00') $\\rightarrow$ ones and first decimal place (e.g., 7.11)"
   ]
  },
  {
   "cell_type": "code",
   "execution_count": null,
   "metadata": {},
   "outputs": [],
   "source": [
    "# help(decimal.Decimal.quantize)"
   ]
  },
  {
   "cell_type": "markdown",
   "metadata": {},
   "source": [
    "In our first example, let's do the following:\n",
    "1. pass the number as a <font color='dodgerblue'><b>string</b></font> (via `f'{number}'`).\n",
    "2. round to the <b>one's place</b> (i.e., `quantize(Decimal('0.')`), and\n",
    "3. rounding <b>method</b>: `'ROUND_HALF_EVEN'`\n",
    "\n",
    "<!-- The default setting is <font color='dodgerblue'><b>ROUND_HALF_EVEN</b></font>.\n",
    "\n",
    "Let's be more exact by specifying the rounding directly, and not \"hide\" what is being done (allowing for a <font color='dodgerblue'>quicker understanding</font>).\n",
    "\n",
    "You are <b>saving</b> the <b>effort</b> and <b>time</b> of future code readers $\\rightarrow$ more <b>transparent</b>. -->"
   ]
  },
  {
   "cell_type": "code",
   "execution_count": null,
   "metadata": {},
   "outputs": [],
   "source": [
    "example_numbers = [-4.5, -3.5, -0.5, 0.5, 3.5, 4.5]\n",
    "\n",
    "for number in example_numbers:\n",
    "    number_rounded = Decimal(value=f'{number}').quantize(Decimal(value='0.'),\n",
    "                                                         rounding='ROUND_HALF_EVEN')\n",
    "\n",
    "    print(f'The number {number} rounds to: {number_rounded}')"
   ]
  },
  {
   "cell_type": "markdown",
   "metadata": {},
   "source": [
    "Now let's see how we can <b>change</b> the <b>number of decimal places</b> to return.\n",
    "\n",
    "<b>1st decimal</b> place (i.e., `Decimal(value='0.0'`):"
   ]
  },
  {
   "cell_type": "code",
   "execution_count": null,
   "metadata": {},
   "outputs": [],
   "source": [
    "example_demo = [-1.55, -1.65, 1.55, 1.65]\n",
    "\n",
    "for number in example_demo:\n",
    "    number_rounded = Decimal(value=f'{number}').quantize(Decimal(value='0.0'), rounding='ROUND_HALF_EVEN')\n",
    "\n",
    "    print(f'The number {number} rounds to: {number_rounded}')"
   ]
  },
  {
   "cell_type": "markdown",
   "metadata": {},
   "source": [
    "<b>Side note</b> - earlier we saw that `round(2.675, 2)` resulted in <b>2.67</b>, not the correct value of <b>2.68</b>:"
   ]
  },
  {
   "cell_type": "code",
   "execution_count": null,
   "metadata": {},
   "outputs": [],
   "source": [
    "round(2.675, 2)"
   ]
  },
  {
   "cell_type": "markdown",
   "metadata": {},
   "source": [
    "Let's see what <b>`Decimal.quantize`</b> does:"
   ]
  },
  {
   "cell_type": "code",
   "execution_count": null,
   "metadata": {},
   "outputs": [],
   "source": [
    "Decimal(value=\"2.675\").quantize(Decimal(value=\"0.00\"), rounding='ROUND_HALF_UP')"
   ]
  },
  {
   "cell_type": "markdown",
   "metadata": {},
   "source": [
    "Therefore, the exact answer is now obtained (i.e., without the influence of floating point representation error).\n",
    "\n",
    "<!-- #### Precision\n",
    "\n",
    "Let now change the default **precision**. Precision here seem to be how many **digits** (i.e. not decimal places) are **available** for a number (default value is 28). **Note** that a number doesn't need to use as 28 digits, but they are there if needed.\n",
    "\n",
    "Decimal('11') / Decimal('7')\n",
    "\n",
    "Let's verify the precision by computing how characters the number has, which includes the decimal point:\n",
    "\n",
    "len(str(Decimal('11') / Decimal('7')))\n",
    "\n",
    "decimal.getcontext().prec=3\n",
    "Decimal('11') / Decimal('7')\n",
    "\n",
    "**Be careful**: This doesn't always alter the default settings of decimal. On my installed Jupyter-notebook (bug?), the default decimals revert back to 28. However, on Colaboratory the above command does alter the default settings.\n",
    "\n",
    "Decimal('11') / Decimal('7')\n",
    "\n",
    "decimal.getcontext()\n",
    "\n",
    "-->"
   ]
  },
  {
   "cell_type": "markdown",
   "metadata": {},
   "source": [
    "<div class=\"alert alert-block alert-warning\">\n",
    "<hr style=\"border:1.5px dashed gray\"></hr>\n",
    "\n",
    "### 4. Rounding (maybe) by formating print statements containing floats\n",
    "\n",
    "https://docs.python.org/3.1/library/string.html#grammar-token-precision\n",
    "\n",
    "\n",
    "- `g`: General format\n",
    "    - fixed point or exponential, depending on the number's magnitude"
   ]
  },
  {
   "cell_type": "code",
   "execution_count": null,
   "metadata": {},
   "outputs": [],
   "source": [
    "print(f'{3.4500045:g}, {3.5500055:g}, {300000000005:g}')"
   ]
  },
  {
   "cell_type": "markdown",
   "metadata": {},
   "source": [
    "<div class=\"alert alert-block alert-warning\">\n",
    "\n",
    "- **`f`**: Fixed point\n",
    "    - unclear rounding"
   ]
  },
  {
   "cell_type": "code",
   "execution_count": null,
   "metadata": {},
   "outputs": [],
   "source": [
    "demo_numbers = [3.44, 3.56, -3.44, -3.56, 300000000005.44]"
   ]
  },
  {
   "cell_type": "code",
   "execution_count": null,
   "metadata": {},
   "outputs": [],
   "source": [
    "for number in demo_numbers:\n",
    "    print(f'{number:0.1f}')"
   ]
  },
  {
   "cell_type": "markdown",
   "metadata": {},
   "source": [
    "<div class=\"alert alert-block alert-warning\">\n",
    "\n",
    "What happens if we change `1f` to `3f`?"
   ]
  },
  {
   "cell_type": "code",
   "execution_count": null,
   "metadata": {},
   "outputs": [],
   "source": [
    "for number in demo_numbers:\n",
    "    print(f'{number:0.3f}')"
   ]
  },
  {
   "cell_type": "markdown",
   "metadata": {},
   "source": [
    "<div class=\"alert alert-block alert-warning\">\n",
    "\n",
    "Considering significant figures, we are **introducing new information** when it was originally **not present**.\n",
    "\n",
    "<br><br>\n",
    "\n",
    "Let's see if we can figure out what rules fixed point formatting is doing:"
   ]
  },
  {
   "cell_type": "code",
   "execution_count": null,
   "metadata": {},
   "outputs": [],
   "source": [
    "example_numbers = [-4.5, -3.5, -0.5, 0.5, 3.5, 4.5]\n",
    "\n",
    "for number in example_numbers:\n",
    "    print(f'The number {number} rounds to {number:0.0f}.')"
   ]
  },
  {
   "cell_type": "markdown",
   "metadata": {},
   "source": [
    "<div class=\"alert alert-block alert-warning\">\n",
    "\n",
    "Seems to be **round to even**.\n",
    "\n",
    "However, consider the following:"
   ]
  },
  {
   "cell_type": "code",
   "execution_count": null,
   "metadata": {},
   "outputs": [],
   "source": [
    "example_demo = [-4.55, -4.65, -0.05, 0.05, 4.55, 4.65]\n",
    "\n",
    "for number in example_demo:\n",
    "    print(f'The number {number} rounds to: {number:0.1f}')"
   ]
  },
  {
   "cell_type": "markdown",
   "metadata": {},
   "source": [
    "<div class=\"alert alert-block alert-warning\">\n",
    "\n",
    "Now the behavior of formatting stings is **round to odd**. Weird.\n",
    "    \n",
    "    \n",
    "- **`e`**: Exponent notation\n",
    "    - rounding to odd number"
   ]
  },
  {
   "cell_type": "code",
   "execution_count": null,
   "metadata": {},
   "outputs": [],
   "source": [
    "print(f'{3.45:0.1e}, {3.55:0.1e}, {355000000000:0.1e}')"
   ]
  },
  {
   "cell_type": "markdown",
   "metadata": {},
   "source": [
    "<div class=\"alert alert-block alert-warning\">\n",
    "\n",
    "However, I'm not sure why 355000000000 $\\rightarrow$ 3.6e+11 (i.e., **round to even**) and not 3.5e+11 (i.e., **round to odd**)"
   ]
  },
  {
   "cell_type": "code",
   "execution_count": null,
   "metadata": {},
   "outputs": [],
   "source": [
    "example_demo = [-4.55, -4.65, -0.05, 0.05, 4.55, 4.65]\n",
    "\n",
    "for number in example_demo:\n",
    "    print(f'The number {number} rounds to: {number:0.1e}')"
   ]
  },
  {
   "cell_type": "markdown",
   "metadata": {},
   "source": [
    "<div class=\"alert alert-block alert-warning\">\n",
    "\n",
    "Notice how **0.05** $\\rightarrow$ **5.0e-02** (i.e., a **gain of 1 significant figure**).\n",
    "\n",
    "Even worse number reporting is in the examples below:\n",
    "1. 1.55$\\rightarrow$ okay, doesn't change\n",
    "\n",
    "2. 15 $\\rightarrow$ 15.00 (i.e. a gain of significant figures)\n",
    "\n",
    "3. 1.555e-9 $\\rightarrow$ 0.00 (ie. a loss of significant figures)"
   ]
  },
  {
   "cell_type": "code",
   "execution_count": null,
   "metadata": {},
   "outputs": [],
   "source": [
    "number_list = [1.55, 15, 1.555E-9]\n",
    "\n",
    "for number in number_list:\n",
    "    print(f'When rounded to 2 decimals, the number {number} rounds to: {number:0.2f}')"
   ]
  },
  {
   "cell_type": "markdown",
   "metadata": {},
   "source": [
    "<div class=\"alert alert-block alert-warning\">\n",
    "\n",
    "Let's revisit what happens with **`g`**:"
   ]
  },
  {
   "cell_type": "code",
   "execution_count": null,
   "metadata": {},
   "outputs": [],
   "source": [
    "for number in number_list:\n",
    "    print(f'When using general formating, the number {number} rounds to: {number:0.2g}')"
   ]
  },
  {
   "cell_type": "markdown",
   "metadata": {},
   "source": [
    "<div class=\"alert alert-block alert-warning\">\n",
    "\n",
    "1. 1.55$\\rightarrow$ okay, rounds up to first decimal place\n",
    "\n",
    "2. 15 $\\rightarrow$ 15 okay, leaves it the same (i.e., no no information)\n",
    "\n",
    "3. 1.555e-9 $\\rightarrow$ 1.6e-09 okay, rounds up to first decimal place\n",
    "\n",
    "\n",
    "So at least that is a little better - but one still needs to be careful..."
   ]
  },
  {
   "cell_type": "markdown",
   "metadata": {},
   "source": [
    "<div class=\"alert alert-block alert-warning\">\n",
    "<hr style=\"border:1.5px dashed gray\"></hr>\n",
    "\n",
    "### 5. The Numpy library\n",
    "\n",
    "(For consideration in the future when we do cover Numpy)\n",
    "\n",
    "- Rounding is done using\n",
    "    - `numpy.around` https://numpy.org/doc/stable/reference/generated/numpy.around.html - **round to even method**\n",
    "    - `numpy.ceil` (https://numpy.org/doc/stable/reference/generated/numpy.ceil.html) - rounding up (i.e., more positive)\n",
    "    - `numpy.floor` (https://numpy.org/doc/stable/reference/generated/numpy.floor.html) - rounding down (i.e., more negative)\n",
    "\n"
   ]
  },
  {
   "cell_type": "code",
   "execution_count": null,
   "metadata": {},
   "outputs": [],
   "source": [
    "import numpy\n",
    "\n",
    "example_demo = [-4.5, -3.5, -0.05, 0.05, 3.5, 4.5]\n",
    "\n",
    "rounding_methods = [numpy.around, numpy.ceil, numpy.floor]\n",
    "\n",
    "for method in rounding_methods:\n",
    "    for number in example_demo:\n",
    "        number_rounded = method(number)\n",
    "\n",
    "        print(f\"'numpy.{method.__name__}' round number {number} to: {number_rounded}\")\n",
    "    print()"
   ]
  },
  {
   "cell_type": "markdown",
   "metadata": {},
   "source": [
    "<div class=\"alert alert-block alert-warning\">\n",
    "<hr style=\"border:1.5px dashed gray\"></hr>"
   ]
  },
  {
   "cell_type": "markdown",
   "metadata": {},
   "source": [
    "## Take-home message\n",
    "\n",
    "1. There are <b>multiple approaches</b> for rounding numbers.\n",
    "\n",
    "\n",
    "2. <b>Rounding</b> can <b>introduce bias</b> into your calculations, depending on your approach.\n",
    "\n",
    "\n",
    "3. <font color='dodgerblue'><b>Think critically</b></font> about what you are doing and what your final goal is. (In other words, don't take information that you find off the Internet and blindly use it.)\n",
    "\n",
    "\n",
    "4. <b>Create short test codes</b> to <b>verify</b> that <font color='dodgerblue'><b>what you think you are doing</b></font> is actually <font color='dodgerblue'><b>what you are doing</b></font>!\n",
    "\n",
    "\n",
    "5. Consider using `decimals` (better rounding options and correction of <b>float-point representation error</b>) or `Numpy` (once we get to the Numpy lectures).\n",
    "\n",
    "\n",
    "<!-- 6. (Rounding via string formatting can cause unexpected results.) -->"
   ]
  },
  {
   "cell_type": "code",
   "execution_count": null,
   "metadata": {},
   "outputs": [],
   "source": []
  }
 ],
 "metadata": {
  "kernelspec": {
   "display_name": "Python 3 (ipykernel)",
   "language": "python",
   "name": "python3"
  },
  "language_info": {
   "codemirror_mode": {
    "name": "ipython",
    "version": 3
   },
   "file_extension": ".py",
   "mimetype": "text/x-python",
   "name": "python",
   "nbconvert_exporter": "python",
   "pygments_lexer": "ipython3",
   "version": "3.13.1"
  }
 },
 "nbformat": 4,
 "nbformat_minor": 4
}
